{
 "cells": [
  {
   "cell_type": "markdown",
   "metadata": {},
   "source": [
    "# Going Deeper #2 : 네이버 영화리뷰 감정분석 문제에 SentencePiece 적용해 보기\n",
    "\n",
    "문제에서 tokenizer를 KoNLPy에서 제공하는 형태소 분석기를 대신 sentencepiece로 전처리를 해서 풀어본다면 더 성능이 좋아질까요?\n",
    "\n",
    "    네이버 영화리뷰 감정분석 코퍼스에 sentencepiece를 적용시킨 모델 학습하기\n",
    "\n",
    "    학습된 모델로 sp_tokenize() 메소드 구현하기\n",
    "\n",
    "    구현된 토크나이저를 적용하여 네이버 영화리뷰 감정분석 모델을 재학습하기\n",
    "\n",
    "    KoNLPy 형태소 분석기를 사용한 모델과 성능 비교하기\n"
   ]
  },
  {
   "cell_type": "markdown",
   "metadata": {},
   "source": [
    "평가문항\t상세기준\n",
    "\n",
    "1. SentencePiece를 이용하여 모델을 만들기까지의 과정이 정상적으로 진행되었는가?\n",
    "\t코퍼스 분석, 전처리, SentencePiece 적용, 토크나이저 구현 및 동작이 빠짐없이 진행되었는가?\n",
    "\n",
    "2. SentencePiece를 통해 만든 Tokenizer가 자연어처리 모델과 결합하여 동작하는가?\n",
    "\tSentencePiece 토크나이저가 적용된 Text Classifier 모델이 정상적으로 수렴하여 80% 이상의 test accuracy가 확인되었다.\n",
    "\n",
    "3. SentencePiece의 성능을 다각도로 비교분석하였는가?\n",
    "\tSentencePiece 토크나이저를 활용했을 때의 성능을 다른 토크나이저 혹은 SentencePiece의 다른 옵션의 경우와 비교하여 분석을 체계적으로 진행하였다."
   ]
  },
  {
   "cell_type": "code",
   "execution_count": 35,
   "metadata": {},
   "outputs": [],
   "source": [
    "import pandas as pd\n",
    "import os\n",
    "\n",
    "train_path = os.getenv('HOME')+'/aiffel/sp_tokenizer/data/naver_movie/ratings_train.txt'\n",
    "test_path = os.getenv('HOME')+'/aiffel/sp_tokenizer/data/naver_movie/ratings_test.txt'\n",
    "\n",
    "\n",
    "train_data = pd.read_csv(train_path, sep='\\t')\n",
    "test_data = pd.read_table(test_path, sep='\\t')"
   ]
  },
  {
   "cell_type": "code",
   "execution_count": 36,
   "metadata": {},
   "outputs": [
    {
     "data": {
      "text/html": [
       "<div>\n",
       "<style scoped>\n",
       "    .dataframe tbody tr th:only-of-type {\n",
       "        vertical-align: middle;\n",
       "    }\n",
       "\n",
       "    .dataframe tbody tr th {\n",
       "        vertical-align: top;\n",
       "    }\n",
       "\n",
       "    .dataframe thead th {\n",
       "        text-align: right;\n",
       "    }\n",
       "</style>\n",
       "<table border=\"1\" class=\"dataframe\">\n",
       "  <thead>\n",
       "    <tr style=\"text-align: right;\">\n",
       "      <th></th>\n",
       "      <th>id</th>\n",
       "      <th>document</th>\n",
       "      <th>label</th>\n",
       "    </tr>\n",
       "  </thead>\n",
       "  <tbody>\n",
       "    <tr>\n",
       "      <th>0</th>\n",
       "      <td>9976970</td>\n",
       "      <td>아 더빙.. 진짜 짜증나네요 목소리</td>\n",
       "      <td>0</td>\n",
       "    </tr>\n",
       "    <tr>\n",
       "      <th>1</th>\n",
       "      <td>3819312</td>\n",
       "      <td>흠...포스터보고 초딩영화줄....오버연기조차 가볍지 않구나</td>\n",
       "      <td>1</td>\n",
       "    </tr>\n",
       "    <tr>\n",
       "      <th>2</th>\n",
       "      <td>10265843</td>\n",
       "      <td>너무재밓었다그래서보는것을추천한다</td>\n",
       "      <td>0</td>\n",
       "    </tr>\n",
       "  </tbody>\n",
       "</table>\n",
       "</div>"
      ],
      "text/plain": [
       "         id                           document  label\n",
       "0   9976970                아 더빙.. 진짜 짜증나네요 목소리      0\n",
       "1   3819312  흠...포스터보고 초딩영화줄....오버연기조차 가볍지 않구나      1\n",
       "2  10265843                  너무재밓었다그래서보는것을추천한다      0"
      ]
     },
     "execution_count": 36,
     "metadata": {},
     "output_type": "execute_result"
    }
   ],
   "source": [
    "train_data.head(3)"
   ]
  },
  {
   "cell_type": "code",
   "execution_count": 37,
   "metadata": {},
   "outputs": [
    {
     "data": {
      "text/html": [
       "<div>\n",
       "<style scoped>\n",
       "    .dataframe tbody tr th:only-of-type {\n",
       "        vertical-align: middle;\n",
       "    }\n",
       "\n",
       "    .dataframe tbody tr th {\n",
       "        vertical-align: top;\n",
       "    }\n",
       "\n",
       "    .dataframe thead th {\n",
       "        text-align: right;\n",
       "    }\n",
       "</style>\n",
       "<table border=\"1\" class=\"dataframe\">\n",
       "  <thead>\n",
       "    <tr style=\"text-align: right;\">\n",
       "      <th></th>\n",
       "      <th>id</th>\n",
       "      <th>document</th>\n",
       "      <th>label</th>\n",
       "    </tr>\n",
       "  </thead>\n",
       "  <tbody>\n",
       "    <tr>\n",
       "      <th>0</th>\n",
       "      <td>6270596</td>\n",
       "      <td>굳 ㅋ</td>\n",
       "      <td>1</td>\n",
       "    </tr>\n",
       "    <tr>\n",
       "      <th>1</th>\n",
       "      <td>9274899</td>\n",
       "      <td>GDNTOPCLASSINTHECLUB</td>\n",
       "      <td>0</td>\n",
       "    </tr>\n",
       "    <tr>\n",
       "      <th>2</th>\n",
       "      <td>8544678</td>\n",
       "      <td>뭐야 이 평점들은.... 나쁘진 않지만 10점 짜리는 더더욱 아니잖아</td>\n",
       "      <td>0</td>\n",
       "    </tr>\n",
       "  </tbody>\n",
       "</table>\n",
       "</div>"
      ],
      "text/plain": [
       "        id                                document  label\n",
       "0  6270596                                     굳 ㅋ      1\n",
       "1  9274899                    GDNTOPCLASSINTHECLUB      0\n",
       "2  8544678  뭐야 이 평점들은.... 나쁘진 않지만 10점 짜리는 더더욱 아니잖아      0"
      ]
     },
     "execution_count": 37,
     "metadata": {},
     "output_type": "execute_result"
    }
   ],
   "source": [
    "test_data.head(3)"
   ]
  },
  {
   "cell_type": "code",
   "execution_count": 38,
   "metadata": {},
   "outputs": [
    {
     "data": {
      "text/plain": [
       "(150000, 50000)"
      ]
     },
     "execution_count": 38,
     "metadata": {},
     "output_type": "execute_result"
    }
   ],
   "source": [
    "len(train_data), len(test_data)"
   ]
  },
  {
   "cell_type": "code",
   "execution_count": 39,
   "metadata": {},
   "outputs": [
    {
     "name": "stdout",
     "output_type": "stream",
     "text": [
      "max length: 146\n",
      "min length: 1\n"
     ]
    },
    {
     "data": {
      "text/plain": [
       "<AxesSubplot:>"
      ]
     },
     "execution_count": 39,
     "metadata": {},
     "output_type": "execute_result"
    },
    {
     "data": {
      "image/png": "[encoded data removed]",
      "text/plain": [
       "<Figure size 432x288 with 1 Axes>"
      ]
     },
     "metadata": {
      "needs_background": "light"
     },
     "output_type": "display_data"
    }
   ],
   "source": [
    "train_data['len_doc'] = train_data['document'].apply(lambda x: len(str(x)))\n",
    "print(f\"max length: {train_data['len_doc'].max()}\")\n",
    "print(f\"min length: {train_data['len_doc'].min()}\")\n",
    "train_data['len_doc'].hist(bins=30)"
   ]
  },
  {
   "cell_type": "code",
   "execution_count": 40,
   "metadata": {},
   "outputs": [
    {
     "name": "stdout",
     "output_type": "stream",
     "text": [
      "max length: 144\n",
      "min length: 1\n"
     ]
    },
    {
     "data": {
      "text/plain": [
       "<AxesSubplot:>"
      ]
     },
     "execution_count": 40,
     "metadata": {},
     "output_type": "execute_result"
    },
    {
     "data": {
      "image/png": "[encoded data removed]",
      "text/plain": [
       "<Figure size 432x288 with 1 Axes>"
      ]
     },
     "metadata": {
      "needs_background": "light"
     },
     "output_type": "display_data"
    }
   ],
   "source": [
    "test_data['len_doc'] = test_data['document'].apply(lambda x: len(str(x)))\n",
    "print(f\"max length: {test_data['len_doc'].max()}\")\n",
    "print(f\"min length: {test_data['len_doc'].min()}\")\n",
    "test_data['len_doc'].hist(bins=30)"
   ]
  },
  {
   "cell_type": "markdown",
   "metadata": {},
   "source": [
    "+ 두 데이터의 분포가 유사하다.\n",
    "  + 두 데이터 모두 오른쪽 꼬리 쪽이 살짝 올라온 것을 보면 1차 전처리가 된 데이터이거나 입력 시스템 상에서 최대 글자 제한이 있는 모양이다."
   ]
  },
  {
   "cell_type": "code",
   "execution_count": 41,
   "metadata": {},
   "outputs": [
    {
     "data": {
      "text/plain": [
       "146"
      ]
     },
     "execution_count": 41,
     "metadata": {},
     "output_type": "execute_result"
    }
   ],
   "source": [
    "train_data.len_doc.max()"
   ]
  },
  {
   "cell_type": "code",
   "execution_count": 42,
   "metadata": {},
   "outputs": [
    {
     "name": "stdout",
     "output_type": "stream",
     "text": [
      "아\n",
      "잼\n",
      "1\n",
      "4\n",
      "4\n",
      "굿\n",
      "짱\n",
      "휴\n",
      ".\n",
      "1\n",
      "굿\n",
      "음\n",
      "?\n",
      "?\n",
      "ㅎ\n",
      "굿\n",
      "ㅋ\n",
      "굿\n",
      "즐\n",
      "♥\n",
      "굳\n"
     ]
    }
   ],
   "source": [
    "# 길이 1인 문장 확인\n",
    "def check_sentence_with_length(df, length):\n",
    "    count = 0\n",
    "    \n",
    "    for sen in df['document']:\n",
    "        if len(str(sen)) == length:\n",
    "            print(sen)\n",
    "            count += 1\n",
    "            if count > 20: return\n",
    "\n",
    "check_sentence_with_length(train_data, 1)"
   ]
  },
  {
   "cell_type": "code",
   "execution_count": 43,
   "metadata": {},
   "outputs": [
    {
     "name": "stdout",
     "output_type": "stream",
     "text": [
      "최고\n",
      "졸작\n",
      "대박\n",
      "버려\n",
      "망함\n",
      "굳굳\n",
      "안습\n",
      "망작\n",
      "ㅇㅇ\n",
      "쵝오\n",
      "쵝오\n",
      "최고\n",
      "굿!\n",
      "별루\n",
      "씐나\n",
      "쓰렉\n",
      "최고\n",
      "볼만\n",
      "허접\n",
      "최고\n",
      "비추\n"
     ]
    }
   ],
   "source": [
    "check_sentence_with_length(train_data, 2)"
   ]
  },
  {
   "cell_type": "code",
   "execution_count": 44,
   "metadata": {},
   "outputs": [
    {
     "name": "stdout",
     "output_type": "stream",
     "text": [
      "\"스폰으로 먹고사는 방송이라 어쩔수 없다고 하지만. 이건 그냥 비현실적인 자동차만;...독일3사&슈퍼카 홍보 프로그램도 아니구.대중적인 자동차 방송으로 이루어 졌으면 합니다. 보는내내 \"\"카탈로그 책자\"\"를 \"\"동영상으로 보여주는 방송\"\" 같아서 씁쓸하네요.!\"\n",
      "\"\"\"니 짓은 생각않고, 웬 복수!\"\"의 교훈이라! 그럼 \"\"서바이벌 액션\"\"으로 홍보하면 안되지! 초반 45분은 멋지게 열더니.. 억지 반전, 하드고어로 시간끌다가, 허둥지둥 화해로 끝내버리네. 90분 러닝타임에 엔딩자막만 11분 틀어주는 해괴망측한 영화~!\"\n",
      "\"2007.02.25_ 벌교의 한 국밥집_ 점심: \"\"갸는 첫째고, 저 놈은 우리 둘째~\"\" 재문: \"\"아줌마! 미안해~ 그냥.. 아줌마! 나 그 남방 잘 어울려ㅠ_ㅠ?\"\" 대식에게 복수하려던 1주일 전_ 대식의 엄마를 먼저 만났다. 사랑의 꽃남방도..^-^o\"\n"
     ]
    }
   ],
   "source": [
    "check_sentence_with_length(train_data, train_data.len_doc.max())"
   ]
  },
  {
   "cell_type": "code",
   "execution_count": 45,
   "metadata": {},
   "outputs": [
    {
     "name": "stdout",
     "output_type": "stream",
     "text": [
      ".\n",
      "굿\n",
      "헐\n",
      "d\n",
      "굳\n",
      "굿\n",
      "b\n",
      "ㅗ\n",
      "ㄱ\n",
      "ㄹ\n",
      "굿\n",
      "하\n",
      "?\n",
      "1\n",
      "ㄹ\n",
      "ㅋ\n",
      "음\n",
      "꿈\n",
      "뻑\n",
      "땡\n",
      "ㅂ\n"
     ]
    }
   ],
   "source": [
    "check_sentence_with_length(test_data, 1)"
   ]
  },
  {
   "cell_type": "code",
   "execution_count": 46,
   "metadata": {},
   "outputs": [
    {
     "name": "stdout",
     "output_type": "stream",
     "text": [
      "글쎄\n",
      "--\n",
      "대박\n",
      "조음\n",
      "별로\n",
      "토해\n",
      "최악\n",
      "최고\n",
      "^^\n",
      "졸작\n",
      "최강\n",
      "ㅠㅠ\n",
      "~~\n",
      "개쩜\n",
      "최고\n",
      "지루\n",
      "별로\n",
      "맞아\n",
      "ㅇㅇ\n",
      "허접\n",
      "좋음\n"
     ]
    }
   ],
   "source": [
    "check_sentence_with_length(test_data, 2)"
   ]
  },
  {
   "cell_type": "code",
   "execution_count": 47,
   "metadata": {},
   "outputs": [
    {
     "name": "stdout",
     "output_type": "stream",
     "text": [
      "\"완전! 재밌더라~ 상투적이라고해도 상관없다~ 재밌었다!~ 김해숙 님의 연기 내공도 좋았고~\"\"미친 년~\"\" 남발~ㅋ 이민정의 풋풋한 모습도 좋았음...어여~다시 대중에게 돌아와주길!~ 이정진은 말죽거리잔혹사 이후로 좋은 연기 보여줬음~ 정유미도 예쁨~^^\"\n",
      "\"평식이가 평점 5 점 줬으면 ,최소한 곱하기 2 배 평점 10 점 줘도 되는 영화다(웃음)평식이는 크리스토퍼 놀란의다크나이트에도\"\"동전 던지기는 너무 진부래\"\"이러면서 평점 7점 주는 인간.평식이가 평론가면,나도 영화감독이다.스마트폰으로 촬영할줄은 아니까\"\n",
      "\"차라리 막장이면 욕이나 하지 이건 개콘의 시청률의 제왕이 만드는 드라마보다 못해 작가랑 피디가 \"\"기왕 망한거 끝까지 가보자\"\"는 마음으로 제대로 낄낄대며 장난친듯. 웃어라 동해야 이후로 제대로 쓰레기를 만난 느낌ㅋㅋ 민폐녀 최세영은 드라마 최고악녀 등극\"\n",
      "\"평점이 너무 낮아서 10점줬는데 실질적으로 8점은 받아야 한다고 생각합니다. 비록 영화의 기술적인 측면은 상당히 촌스러울 수 있지만 영화가 담고있는 주제만은 결코 가볍지 않았습니다. \"\"나 자신을 사랑하라\"\" 실존주의 철학의 핵심인데 현대인들에게 필요하죠\"\n",
      "\"서부역사상 최고의 총잡이 \"\"와일드-빌 히콕\"\"의 숨겨진 청년기를 재미난 픽션으로 창조해낸, 걸작 서부극 TV시리즈~! 개성파 청년 캐릭터들, 실감나는 총기액션, 호쾌한 질주, 예측불허의 스토리, 씁쓸함과 감동이 매회를 꽉 채웠지! 조쉬 브롤린의 출세작!\"\n",
      "\"\"\"그림 아름답지? 영화 좋지?\"\" 를 억지로 주입시키는 느낌. 정말 훌륭한 영화와 배우는 자연스럽게 관객을 몰입시켜 아름다움과 여운이 남게한다. 살다살다 영화보다가 비지엠이 거슬리긴 처음이다. 비지엠은 중후한데 영화엔 몰입이 안돼서. 샤를리즈테론은 굿.\"\n",
      "\"종교영화에 대해 관심도 없고 종교에 대해 관심이 없어서 그저그렇고 대부분 아카데미 영화 수상작은 지루함과 너무 의미적이고 상투적이라 재미가 없었다. 하지만 이 영화는 종교에 대해 자연스럽게 보여주고 중간 쯤 부터는 마치 \"\"죄와벌\"\"을 보는듯한 느낌이다.\"\n",
      "\"\"\"희생된 철거민농성자의 목숨도 우리동료(경찰특공대)도 사랑하는 우리 국민입니다\"\" 일제강점기때부터 이어져 내려온 국가의 폭력이 어떻게 국민들을 아프게하는지 보여주는 영화. 그런데 제대로 알지도 못하고 평점 주는 수준은 유치원생도 혀를 찰 수준이네여 ㅉㅉ\"\n",
      "\"남자 주인공 몸에 살만 붙으면,그대로-제2의\"\"조춘\"\"선생님이다...나무아미타불~관세음 보살...만다라의 법운 승려나,지산 승려의,외국인 도반인 모양인데,틀림없이 ,출가 본사는,화...계...사...(에서,하버드까지...가,아니라,3류영화...까지)...\"\n"
     ]
    }
   ],
   "source": [
    "check_sentence_with_length(test_data, test_data.len_doc.max())"
   ]
  },
  {
   "cell_type": "code",
   "execution_count": 48,
   "metadata": {},
   "outputs": [],
   "source": [
    "import re \n",
    "\n",
    "def preprocess_sentence(sentence):\n",
    "    sentence = str(sentence).strip() # 문장 양 끝 공백 없애기\n",
    "    sentence = re.sub(r'[\" \"]+', \" \", sentence) # 공백이 여러칸이면 한칸으로\n",
    "\n",
    "    # 한글만 남기면서 점점점 느낌표 남발 없애려고 물음표만 살리기로 함, 자음이나 모음만 쓴 경우도 제거하기로 함. \n",
    "    sentence = re.sub(r\"[^0-9가-힣?]+\", \" \", sentence)\n",
    "    sentence = sentence.strip() # 문장 양 끝 공백 없애기\n",
    "    return sentence"
   ]
  },
  {
   "cell_type": "code",
   "execution_count": 49,
   "metadata": {},
   "outputs": [],
   "source": [
    "train_data['document'] = train_data['document'].map(lambda x : preprocess_sentence(x))"
   ]
  },
  {
   "cell_type": "code",
   "execution_count": 50,
   "metadata": {},
   "outputs": [],
   "source": [
    "test_data['document'] = test_data['document'].map(lambda x : preprocess_sentence(x))"
   ]
  },
  {
   "cell_type": "code",
   "execution_count": 51,
   "metadata": {},
   "outputs": [
    {
     "name": "stdout",
     "output_type": "stream",
     "text": [
      "max length: 140\n",
      "min length: 0\n"
     ]
    },
    {
     "data": {
      "text/plain": [
       "<AxesSubplot:>"
      ]
     },
     "execution_count": 51,
     "metadata": {},
     "output_type": "execute_result"
    },
    {
     "data": {
      "image/png": "[encoded data removed]",
      "text/plain": [
       "<Figure size 432x288 with 1 Axes>"
      ]
     },
     "metadata": {
      "needs_background": "light"
     },
     "output_type": "display_data"
    }
   ],
   "source": [
    "train_data['len_doc'] = train_data['document'].apply(lambda x: len(str(x)))\n",
    "print(f\"max length: {train_data['len_doc'].max()}\")\n",
    "print(f\"min length: {train_data['len_doc'].min()}\")\n",
    "train_data['len_doc'].hist(bins=30)"
   ]
  },
  {
   "cell_type": "code",
   "execution_count": 52,
   "metadata": {},
   "outputs": [
    {
     "name": "stdout",
     "output_type": "stream",
     "text": [
      "최고\n",
      "졸작\n",
      "대박\n",
      "버려\n",
      "망함\n",
      "굳굳\n",
      "슬픔\n",
      "안습\n",
      "망작\n",
      "쵝오\n",
      "쵝오\n",
      "최고\n",
      "최고\n",
      "별루\n",
      "씐나\n",
      "아오\n",
      "글쎄\n",
      "어휴\n",
      "쓰렉\n",
      "최고\n",
      "짱짱\n"
     ]
    }
   ],
   "source": [
    "check_sentence_with_length(train_data, 2)"
   ]
  },
  {
   "cell_type": "code",
   "execution_count": 53,
   "metadata": {},
   "outputs": [
    {
     "name": "stdout",
     "output_type": "stream",
     "text": [
      "타짜는10점받아마땅하다 영화의모든부분이다재밌었다 캐릭터들은원작보다훨씬더매력적으로재현됐고 단역까지모든캐릭터가제몫을했다 긴이야기를아주 딱맞게압축했다 전국중고딩에게섯다열풍을몰고온 막판고니와아귀의설전을전국민이외우게만든작품 영화사에남을장면들이가득담겨있는선물세트\n",
      "그래서 중국은 꿈을 펼치기에는 좋지않은 땅이라는 뜻이냐?그게 하루에100명가까이 15초마다 한건씩 살인이 일어나는 나라의국민이 할만한 주장이냐?유오성 닮은 츠차오의 발레공연장면만 볼만하다 어딘가 매카시즘의 반공유령이 떠다니고 있는듯한 기분이 드는 영화\n",
      "티비에서 해준거보고 빡쳐서 들어와서 쓴다 주인공커플 하는일 하나두없음 쫓기며 돌아다니기만하고 싸움중인 군인 불러대면서 구해달라 난리치고 주인공답게 뭐 하는것없어 답답해 죽겠는데 쓸데없이 화면은 느리게잡고 마지막엔 아오뽁쳐 엔딩화면뜨는데 온가족이 말잃음\n",
      "나는 나쁘지 않게 봤다만 대부분의사람들은 뭔가 있어보이면 명작이라고 칭송한단 말이지 니들이 이해못해서 재미없다고 하는 정신승리를 곁들여 말이야 연출은 참신했으나 복선이 진부하고 각 플롯마다 연관성이 부족했다 뭐 이것도 감독이 설계했다하면 할말 없겠지만\n",
      "175분이 너무나 짧게 느껴졌다 명대사며 명언이며 연기며 캐릭터까지 잊을 수가 없는 영화 초반부터 교훈적이 말들이 나와 정말 중독되었다 원래 봤던 영화를 또 보면 지루하지만 이 영화는 끝까지 보게 하는 영화다 내가 느와르를 좋아하게 되는 계기 책도 짱\n",
      "보다가 어처구니가 없어서 존쿠삭이나 애드리안브로디 를 삼류로 만드는 감독의 능력 일단 각본이 말이 안되는게 너무 많다 성룡이 어렸을때 자기 동생 우는걸 막다가 죽이고 또 그거에 분해서 장군을 칼로 찌른거 맞지? 사실 그냥 틀어놓고 자꾸 딴일을 하게돼서\n",
      "이런컨셉이면 최소한 현실성에 기반을 두는데 이건 공상을 넘어선 허상 킬링탐용도 안됨 잠이안와서 뭔가 하나라도 스킵 해가면서 보려느 목적이라도 이건 보지마소 짜증나서 잠이 깰듯 내가 이거 호주에서 봤는데 이거 다 욕했음 밑엣놈은 그저 한국까는 한국쓰레기\n",
      "부성애인지 맬로인지 거기다 아들 전쟁터에서 죽는데 그 통곡소리 개듣기 싫음 진짜 짜증나게 통곡한다고 해야하나 듣기 싫은 소리 한 5 10분이어져가니까 감정이입도 안되고 스토리도 자연스럽게 안 흘려가고 진짜 영화보면서 튀쳐나오고 싶은 생각듬 전쟁으로 인\n",
      "다율엄마 같은 착한병 환자는 암이나 치매 같은 병 같이 국가에서 관리해야 합니다 특히 다율엄마의 착한병은 다율엄마 본인 뿐만 아니라 가족과 이웃의 삶을 파탄시키는 아주 큰 질병 입니다 다율 엄마 같은 착한병 환자들을 국가에서 집중관리 당장 해야 합니다\n",
      "취향이 같다면야 천국과도 같은 시간이 기다리고 있는거지 뭐 3부작 만들고 싶은데 3번째 영화는 도대체 언제 나오는 거임?감독 져스티스 리그 다크씨리즈 진행한다고 중도에 하차하는건 아니겠지?원작자는 계속 고고 씽하고 싶고 제작진은 3부작으로 완결 생각중\n",
      "2015년 현재 5까지 본 시점에서 2와너무 비교를해서 냉정한 잣대를 들이밀어서 그렇지 이렇게 공포스럽고 액션이 훌륭한 터미네이터가 또있을까싶다 후속편들도 계속 스토리재탕하지말고 차라리 예전처럼 이런 슈퍼터미네이터와의 싸움이었으면 더 잼있지 않을까싶다\n",
      "블레어 윗치 같은 1인칭 시점의 영화가 있다면 이 영화는 거기에 소스를 더한거 같다 1인칭 영화의 업그레이드 버전이라고 해야하나 색다른 시도이자 스토리와 전개가 좋았다 영상이 지직거리는 것도 하나의 페이크일줄은 몰랐다 영화는 영화일뿐 현실성을 찾지말자\n",
      "소방관과 의사이야기라서 그런가 사람 목숨가지고 관객들 감동시키는 너무 극적인 에피소드들이 과하게 많이 나열되어있고 한 부부 인생 망쳐놓고서 고수만 졸졸따라다니며 꼬시려는 한효주캐릭터는 너무 비현실적이며 별로였다 차라리 김성오랑 쥬니 커플이 훨씬 좋았다\n",
      "내 인생 최고의 영화였다 보는 내내 삶의 이유 양심 신념 등등에 대해 많은 생각을 하게 만드는 걸작이었다 특히 마지막 장면을 보면서 깊은 감동으로 눈물이 쏟아지더라 자신의 양심과 신념을 지키며 사는 삶이 여인의 향기와 같다고 제목을 통해 비유한 것같다\n",
      "사람의 삶 인생 그게 어떻게되든 모든사람은 같이태어나 똑같이 늙어가고 결국 아이가되어 왔다간흔적만 남기고 사라져간다 아빠의 삶 그리고 엄마의 삶 중요한건 제일 소중한게 어떤것인지 그리고 그걸 어떻게 알아가는지 마지막까지 얼마나 소중한것에 충실했는지이다\n",
      "보지도 않고 주는건 아닌것 같은데요 시사회에서 봤을수도 있지만 해외에서 보고 오신분들도 있을겁니다 그리고 아무리 뮤지컬 실황이라도 영화로 나왔으면 그에 걸맞는 관람요소가 있어야 하지 않나요? 제가 보기엔 뮤지컬이라면 모를까 영화로서의 평점은 1점입니다\n",
      "이상하게 천정명 주는것없이 밉상이었는데 군대 잘 갔다오고 난 이후에 좋아짐 그리 군대 갔다올것처럼 설레발을 치더만 결국 군대 안가려고 도망간 스티봉 유는 요즘 뭘하지?종교나 신념때문에 거부한 양심적병역거부자들 사이에서 밥잘먹고 똥잘싸서그저 신기할 따름\n",
      "성룡이 없어도?이연걸이 없어도?유덕화가 없어도?우리는 할수 있다?뭘 ?할수있는데?뭘?아?빵점을 향해서 갈수 있다?고뤠?가능하겠네?평점 원주율을 향해서?우리 다함께 달려가 볼까?고고 씽 성룡 이연걸 유덕화가 없으면?영화상태가 심각해진다 에이 콧물 더러워\n",
      "정용화 소녀시대의서현이랑 맨날 시시덕거릴때마다 엄지발가락의피가 머리 뒷꼭지로 치솟아 오르는거 같음 이자식이 좋아하는척 해야하는건데도 정말로 서현이를 사랑한다는걸 눈으로 표를 내버림 아무리 서현이가 절세미녀라지만 공중파방송에서 꼭 그래야겠냐?완전 멘붕옴\n",
      "그로테스크하고 몽환적인 시대를 앞서간 섹스어필스릴러공포영화다 김영애의 집착적 망상속에 나오는 환상적이고 오버래핑 촬영기법은 이영화를 더욱 기괴하고공포스럽게 보이게한다 그리고 김영애가 정신분열증을 앓고있는걸 암시해주는 단적인 예라고도 할수 있다 최고수작\n",
      "이 영화 사상 위험하다 마침 국가가 대통령을 위해 있는것 처럼 묘사한다 진짜 대통령이랑 윗대가리들이 수많은 군인들을 죽게 하고 핵무기도 넘기고 국가 핵폭탄에 망하게 할거 주인공이 운빨로 살린것밖에 안된다 대통령은 국가를 위해 있는 건데 그 반대가 됬다\n"
     ]
    }
   ],
   "source": [
    "check_sentence_with_length(train_data, train_data.len_doc.max())"
   ]
  },
  {
   "cell_type": "markdown",
   "metadata": {},
   "source": [
    "+ 이런건 내가 봐도 긍정인지 부정인지 모르겠다. 빵점 원주율 얘기 나오는거 보면 평점 낮추겠다는 얘기 같은데 그거 빼고 보면 도통 무슨 얘긴지 모르겠다. "
   ]
  },
  {
   "cell_type": "code",
   "execution_count": 54,
   "metadata": {},
   "outputs": [],
   "source": [
    "train_data.drop_duplicates(subset=['document'], inplace=True)\n",
    "test_data.drop_duplicates(subset=['document'], inplace=True)"
   ]
  },
  {
   "cell_type": "code",
   "execution_count": 55,
   "metadata": {},
   "outputs": [
    {
     "data": {
      "text/plain": [
       "(142958, 48258)"
      ]
     },
     "execution_count": 55,
     "metadata": {},
     "output_type": "execute_result"
    }
   ],
   "source": [
    "len(train_data), len(test_data)"
   ]
  },
  {
   "cell_type": "code",
   "execution_count": 56,
   "metadata": {},
   "outputs": [
    {
     "name": "stdout",
     "output_type": "stream",
     "text": [
      "max length: 140\n",
      "min length: 0\n"
     ]
    },
    {
     "data": {
      "text/plain": [
       "<AxesSubplot:>"
      ]
     },
     "execution_count": 56,
     "metadata": {},
     "output_type": "execute_result"
    },
    {
     "data": {
      "image/png": "[encoded data removed]",
      "text/plain": [
       "<Figure size 432x288 with 1 Axes>"
      ]
     },
     "metadata": {
      "needs_background": "light"
     },
     "output_type": "display_data"
    }
   ],
   "source": [
    "train_data['len_doc'] = train_data['document'].apply(lambda x: len(str(x)))\n",
    "print(f\"max length: {train_data['len_doc'].max()}\")\n",
    "print(f\"min length: {train_data['len_doc'].min()}\")\n",
    "train_data['len_doc'].hist(bins=30)"
   ]
  },
  {
   "cell_type": "code",
   "execution_count": 57,
   "metadata": {},
   "outputs": [
    {
     "data": {
      "text/plain": [
       "99.92795086668812"
      ]
     },
     "execution_count": 57,
     "metadata": {},
     "output_type": "execute_result"
    }
   ],
   "source": [
    "cond = train_data['len_doc'] >= 2\n",
    "len(train_data[cond]) / len(train_data) * 100"
   ]
  },
  {
   "cell_type": "code",
   "execution_count": 58,
   "metadata": {},
   "outputs": [
    {
     "name": "stdout",
     "output_type": "stream",
     "text": [
      "max length: 140\n",
      "min length: 0\n"
     ]
    },
    {
     "data": {
      "text/plain": [
       "<AxesSubplot:>"
      ]
     },
     "execution_count": 58,
     "metadata": {},
     "output_type": "execute_result"
    },
    {
     "data": {
      "image/png": "[encoded data removed]",
      "text/plain": [
       "<Figure size 432x288 with 1 Axes>"
      ]
     },
     "metadata": {
      "needs_background": "light"
     },
     "output_type": "display_data"
    }
   ],
   "source": [
    "test_data['len_doc'] = test_data['document'].apply(lambda x: len(str(x)))\n",
    "print(f\"max length: {test_data['len_doc'].max()}\")\n",
    "print(f\"min length: {test_data['len_doc'].min()}\")\n",
    "test_data['len_doc'].hist(bins=30)"
   ]
  },
  {
   "cell_type": "code",
   "execution_count": 59,
   "metadata": {},
   "outputs": [
    {
     "data": {
      "text/plain": [
       "99.92795086668812"
      ]
     },
     "execution_count": 59,
     "metadata": {},
     "output_type": "execute_result"
    }
   ],
   "source": [
    "cond = train_data['len_doc'] >= 2\n",
    "len(train_data[cond]) / len(train_data) * 100"
   ]
  },
  {
   "cell_type": "code",
   "execution_count": 60,
   "metadata": {},
   "outputs": [
    {
     "data": {
      "text/html": [
       "<div>\n",
       "<style scoped>\n",
       "    .dataframe tbody tr th:only-of-type {\n",
       "        vertical-align: middle;\n",
       "    }\n",
       "\n",
       "    .dataframe tbody tr th {\n",
       "        vertical-align: top;\n",
       "    }\n",
       "\n",
       "    .dataframe thead th {\n",
       "        text-align: right;\n",
       "    }\n",
       "</style>\n",
       "<table border=\"1\" class=\"dataframe\">\n",
       "  <thead>\n",
       "    <tr style=\"text-align: right;\">\n",
       "      <th></th>\n",
       "      <th>id</th>\n",
       "      <th>document</th>\n",
       "      <th>label</th>\n",
       "      <th>len_doc</th>\n",
       "    </tr>\n",
       "  </thead>\n",
       "  <tbody>\n",
       "    <tr>\n",
       "      <th>56</th>\n",
       "      <td>1651126</td>\n",
       "      <td>최고</td>\n",
       "      <td>0</td>\n",
       "      <td>2</td>\n",
       "    </tr>\n",
       "    <tr>\n",
       "      <th>72</th>\n",
       "      <td>5679106</td>\n",
       "      <td>졸작</td>\n",
       "      <td>0</td>\n",
       "      <td>2</td>\n",
       "    </tr>\n",
       "    <tr>\n",
       "      <th>113</th>\n",
       "      <td>7115568</td>\n",
       "      <td>대박</td>\n",
       "      <td>1</td>\n",
       "      <td>2</td>\n",
       "    </tr>\n",
       "    <tr>\n",
       "      <th>185</th>\n",
       "      <td>1870395</td>\n",
       "      <td>버려</td>\n",
       "      <td>0</td>\n",
       "      <td>2</td>\n",
       "    </tr>\n",
       "    <tr>\n",
       "      <th>278</th>\n",
       "      <td>7124022</td>\n",
       "      <td>망함</td>\n",
       "      <td>0</td>\n",
       "      <td>2</td>\n",
       "    </tr>\n",
       "    <tr>\n",
       "      <th>...</th>\n",
       "      <td>...</td>\n",
       "      <td>...</td>\n",
       "      <td>...</td>\n",
       "      <td>...</td>\n",
       "    </tr>\n",
       "    <tr>\n",
       "      <th>146623</th>\n",
       "      <td>7994209</td>\n",
       "      <td>무미</td>\n",
       "      <td>0</td>\n",
       "      <td>2</td>\n",
       "    </tr>\n",
       "    <tr>\n",
       "      <th>146798</th>\n",
       "      <td>7876876</td>\n",
       "      <td>아잉</td>\n",
       "      <td>1</td>\n",
       "      <td>2</td>\n",
       "    </tr>\n",
       "    <tr>\n",
       "      <th>147572</th>\n",
       "      <td>4581116</td>\n",
       "      <td>됐고</td>\n",
       "      <td>0</td>\n",
       "      <td>2</td>\n",
       "    </tr>\n",
       "    <tr>\n",
       "      <th>148185</th>\n",
       "      <td>4157148</td>\n",
       "      <td>살색</td>\n",
       "      <td>0</td>\n",
       "      <td>2</td>\n",
       "    </tr>\n",
       "    <tr>\n",
       "      <th>149717</th>\n",
       "      <td>5536736</td>\n",
       "      <td>적당</td>\n",
       "      <td>1</td>\n",
       "      <td>2</td>\n",
       "    </tr>\n",
       "  </tbody>\n",
       "</table>\n",
       "<p>466 rows × 4 columns</p>\n",
       "</div>"
      ],
      "text/plain": [
       "             id document  label  len_doc\n",
       "56      1651126       최고      0        2\n",
       "72      5679106       졸작      0        2\n",
       "113     7115568       대박      1        2\n",
       "185     1870395       버려      0        2\n",
       "278     7124022       망함      0        2\n",
       "...         ...      ...    ...      ...\n",
       "146623  7994209       무미      0        2\n",
       "146798  7876876       아잉      1        2\n",
       "147572  4581116       됐고      0        2\n",
       "148185  4157148       살색      0        2\n",
       "149717  5536736       적당      1        2\n",
       "\n",
       "[466 rows x 4 columns]"
      ]
     },
     "execution_count": 60,
     "metadata": {},
     "output_type": "execute_result"
    }
   ],
   "source": [
    "cond = train_data['len_doc'] == 2\n",
    "train_data[cond]"
   ]
  },
  {
   "cell_type": "code",
   "execution_count": 61,
   "metadata": {},
   "outputs": [],
   "source": [
    "# 길이 조건에 맞는 문장만 선택합니다.\n",
    "import numpy as np\n",
    "\n",
    "def filter_corpus(sentence, min_len):\n",
    "    sentence = str(sentence)\n",
    "    if len(sentence) >= min_len:\n",
    "        sentence = sentence\n",
    "    else:\n",
    "        sentence = np.nan\n",
    "        \n",
    "    return sentence\n",
    "\n",
    "# 2 미만 문서 삭제\n",
    "min_len = 2\n",
    "\n",
    "train_data['new_doc'] = train_data['document'].map(lambda x: filter_corpus(x, min_len))\n",
    "test_data['new_doc'] = test_data['document'].map(lambda x: filter_corpus(x, min_len))"
   ]
  },
  {
   "cell_type": "code",
   "execution_count": 62,
   "metadata": {},
   "outputs": [
    {
     "data": {
      "text/plain": [
       "id            0\n",
       "document      0\n",
       "label         0\n",
       "len_doc       0\n",
       "new_doc     103\n",
       "dtype: int64"
      ]
     },
     "execution_count": 62,
     "metadata": {},
     "output_type": "execute_result"
    }
   ],
   "source": [
    "train_data.isna().sum()"
   ]
  },
  {
   "cell_type": "code",
   "execution_count": 63,
   "metadata": {},
   "outputs": [
    {
     "data": {
      "text/plain": [
       "id          0\n",
       "document    0\n",
       "label       0\n",
       "len_doc     0\n",
       "new_doc     0\n",
       "dtype: int64"
      ]
     },
     "execution_count": 63,
     "metadata": {},
     "output_type": "execute_result"
    }
   ],
   "source": [
    "train_data.dropna(axis=0, inplace=True)\n",
    "train_data.isna().sum()"
   ]
  },
  {
   "cell_type": "code",
   "execution_count": 64,
   "metadata": {},
   "outputs": [
    {
     "data": {
      "text/plain": [
       "142855"
      ]
     },
     "execution_count": 64,
     "metadata": {},
     "output_type": "execute_result"
    }
   ],
   "source": [
    "len(train_data)"
   ]
  },
  {
   "cell_type": "code",
   "execution_count": 65,
   "metadata": {},
   "outputs": [
    {
     "name": "stdout",
     "output_type": "stream",
     "text": [
      "max length: 140\n",
      "min length: 2\n"
     ]
    },
    {
     "data": {
      "text/plain": [
       "<AxesSubplot:>"
      ]
     },
     "execution_count": 65,
     "metadata": {},
     "output_type": "execute_result"
    },
    {
     "data": {
      "image/png": "[encoded data removed]",
      "text/plain": [
       "<Figure size 432x288 with 1 Axes>"
      ]
     },
     "metadata": {
      "needs_background": "light"
     },
     "output_type": "display_data"
    }
   ],
   "source": [
    "train_data['len_doc'] = train_data['new_doc'].apply(lambda x: len(str(x)))\n",
    "print(f\"max length: {train_data['len_doc'].max()}\")\n",
    "print(f\"min length: {train_data['len_doc'].min()}\")\n",
    "train_data['len_doc'].hist(bins=30)"
   ]
  },
  {
   "cell_type": "code",
   "execution_count": 67,
   "metadata": {},
   "outputs": [
    {
     "data": {
      "text/html": [
       "<div>\n",
       "<style scoped>\n",
       "    .dataframe tbody tr th:only-of-type {\n",
       "        vertical-align: middle;\n",
       "    }\n",
       "\n",
       "    .dataframe tbody tr th {\n",
       "        vertical-align: top;\n",
       "    }\n",
       "\n",
       "    .dataframe thead th {\n",
       "        text-align: right;\n",
       "    }\n",
       "</style>\n",
       "<table border=\"1\" class=\"dataframe\">\n",
       "  <thead>\n",
       "    <tr style=\"text-align: right;\">\n",
       "      <th></th>\n",
       "      <th>id</th>\n",
       "      <th>document</th>\n",
       "      <th>label</th>\n",
       "      <th>len_doc</th>\n",
       "      <th>new_doc</th>\n",
       "    </tr>\n",
       "  </thead>\n",
       "  <tbody>\n",
       "    <tr>\n",
       "      <th>56</th>\n",
       "      <td>1651126</td>\n",
       "      <td>최고</td>\n",
       "      <td>0</td>\n",
       "      <td>2</td>\n",
       "      <td>최고</td>\n",
       "    </tr>\n",
       "    <tr>\n",
       "      <th>72</th>\n",
       "      <td>5679106</td>\n",
       "      <td>졸작</td>\n",
       "      <td>0</td>\n",
       "      <td>2</td>\n",
       "      <td>졸작</td>\n",
       "    </tr>\n",
       "    <tr>\n",
       "      <th>113</th>\n",
       "      <td>7115568</td>\n",
       "      <td>대박</td>\n",
       "      <td>1</td>\n",
       "      <td>2</td>\n",
       "      <td>대박</td>\n",
       "    </tr>\n",
       "    <tr>\n",
       "      <th>185</th>\n",
       "      <td>1870395</td>\n",
       "      <td>버려</td>\n",
       "      <td>0</td>\n",
       "      <td>2</td>\n",
       "      <td>버려</td>\n",
       "    </tr>\n",
       "    <tr>\n",
       "      <th>278</th>\n",
       "      <td>7124022</td>\n",
       "      <td>망함</td>\n",
       "      <td>0</td>\n",
       "      <td>2</td>\n",
       "      <td>망함</td>\n",
       "    </tr>\n",
       "    <tr>\n",
       "      <th>...</th>\n",
       "      <td>...</td>\n",
       "      <td>...</td>\n",
       "      <td>...</td>\n",
       "      <td>...</td>\n",
       "      <td>...</td>\n",
       "    </tr>\n",
       "    <tr>\n",
       "      <th>146623</th>\n",
       "      <td>7994209</td>\n",
       "      <td>무미</td>\n",
       "      <td>0</td>\n",
       "      <td>2</td>\n",
       "      <td>무미</td>\n",
       "    </tr>\n",
       "    <tr>\n",
       "      <th>146798</th>\n",
       "      <td>7876876</td>\n",
       "      <td>아잉</td>\n",
       "      <td>1</td>\n",
       "      <td>2</td>\n",
       "      <td>아잉</td>\n",
       "    </tr>\n",
       "    <tr>\n",
       "      <th>147572</th>\n",
       "      <td>4581116</td>\n",
       "      <td>됐고</td>\n",
       "      <td>0</td>\n",
       "      <td>2</td>\n",
       "      <td>됐고</td>\n",
       "    </tr>\n",
       "    <tr>\n",
       "      <th>148185</th>\n",
       "      <td>4157148</td>\n",
       "      <td>살색</td>\n",
       "      <td>0</td>\n",
       "      <td>2</td>\n",
       "      <td>살색</td>\n",
       "    </tr>\n",
       "    <tr>\n",
       "      <th>149717</th>\n",
       "      <td>5536736</td>\n",
       "      <td>적당</td>\n",
       "      <td>1</td>\n",
       "      <td>2</td>\n",
       "      <td>적당</td>\n",
       "    </tr>\n",
       "  </tbody>\n",
       "</table>\n",
       "<p>466 rows × 5 columns</p>\n",
       "</div>"
      ],
      "text/plain": [
       "             id document  label  len_doc new_doc\n",
       "56      1651126       최고      0        2      최고\n",
       "72      5679106       졸작      0        2      졸작\n",
       "113     7115568       대박      1        2      대박\n",
       "185     1870395       버려      0        2      버려\n",
       "278     7124022       망함      0        2      망함\n",
       "...         ...      ...    ...      ...     ...\n",
       "146623  7994209       무미      0        2      무미\n",
       "146798  7876876       아잉      1        2      아잉\n",
       "147572  4581116       됐고      0        2      됐고\n",
       "148185  4157148       살색      0        2      살색\n",
       "149717  5536736       적당      1        2      적당\n",
       "\n",
       "[466 rows x 5 columns]"
      ]
     },
     "execution_count": 67,
     "metadata": {},
     "output_type": "execute_result"
    }
   ],
   "source": [
    "cond = train_data['len_doc'] == 2\n",
    "train_data[cond]"
   ]
  },
  {
   "cell_type": "code",
   "execution_count": 68,
   "metadata": {},
   "outputs": [
    {
     "data": {
      "text/plain": [
       "id           0\n",
       "document     0\n",
       "label        0\n",
       "len_doc      0\n",
       "new_doc     65\n",
       "dtype: int64"
      ]
     },
     "execution_count": 68,
     "metadata": {},
     "output_type": "execute_result"
    }
   ],
   "source": [
    "test_data.isna().sum()"
   ]
  },
  {
   "cell_type": "code",
   "execution_count": 69,
   "metadata": {},
   "outputs": [
    {
     "data": {
      "text/plain": [
       "id          0\n",
       "document    0\n",
       "label       0\n",
       "len_doc     0\n",
       "new_doc     0\n",
       "dtype: int64"
      ]
     },
     "execution_count": 69,
     "metadata": {},
     "output_type": "execute_result"
    }
   ],
   "source": [
    "test_data.dropna(axis=0, inplace=True)\n",
    "test_data.isna().sum()"
   ]
  },
  {
   "cell_type": "code",
   "execution_count": 70,
   "metadata": {},
   "outputs": [
    {
     "data": {
      "text/plain": [
       "48193"
      ]
     },
     "execution_count": 70,
     "metadata": {},
     "output_type": "execute_result"
    }
   ],
   "source": [
    "len(test_data)"
   ]
  },
  {
   "cell_type": "code",
   "execution_count": 71,
   "metadata": {},
   "outputs": [
    {
     "name": "stdout",
     "output_type": "stream",
     "text": [
      "max length: 140\n",
      "min length: 2\n"
     ]
    },
    {
     "data": {
      "text/plain": [
       "<AxesSubplot:>"
      ]
     },
     "execution_count": 71,
     "metadata": {},
     "output_type": "execute_result"
    },
    {
     "data": {
      "image/png": "[encoded data removed]",
      "text/plain": [
       "<Figure size 432x288 with 1 Axes>"
      ]
     },
     "metadata": {
      "needs_background": "light"
     },
     "output_type": "display_data"
    }
   ],
   "source": [
    "test_data['len_doc'] = test_data['document'].apply(lambda x: len(str(x)))\n",
    "print(f\"max length: {test_data['len_doc'].max()}\")\n",
    "print(f\"min length: {test_data['len_doc'].min()}\")\n",
    "test_data['len_doc'].hist(bins=30)"
   ]
  },
  {
   "cell_type": "code",
   "execution_count": 73,
   "metadata": {},
   "outputs": [
    {
     "data": {
      "text/html": [
       "<div>\n",
       "<style scoped>\n",
       "    .dataframe tbody tr th:only-of-type {\n",
       "        vertical-align: middle;\n",
       "    }\n",
       "\n",
       "    .dataframe tbody tr th {\n",
       "        vertical-align: top;\n",
       "    }\n",
       "\n",
       "    .dataframe thead th {\n",
       "        text-align: right;\n",
       "    }\n",
       "</style>\n",
       "<table border=\"1\" class=\"dataframe\">\n",
       "  <thead>\n",
       "    <tr style=\"text-align: right;\">\n",
       "      <th></th>\n",
       "      <th>id</th>\n",
       "      <th>document</th>\n",
       "      <th>label</th>\n",
       "      <th>len_doc</th>\n",
       "      <th>new_doc</th>\n",
       "    </tr>\n",
       "  </thead>\n",
       "  <tbody>\n",
       "    <tr>\n",
       "      <th>16</th>\n",
       "      <td>2968565</td>\n",
       "      <td>최고</td>\n",
       "      <td>1</td>\n",
       "      <td>2</td>\n",
       "      <td>최고</td>\n",
       "    </tr>\n",
       "    <tr>\n",
       "      <th>60</th>\n",
       "      <td>9745015</td>\n",
       "      <td>콩콩</td>\n",
       "      <td>0</td>\n",
       "      <td>2</td>\n",
       "      <td>콩콩</td>\n",
       "    </tr>\n",
       "    <tr>\n",
       "      <th>174</th>\n",
       "      <td>6915908</td>\n",
       "      <td>어썸</td>\n",
       "      <td>1</td>\n",
       "      <td>2</td>\n",
       "      <td>어썸</td>\n",
       "    </tr>\n",
       "    <tr>\n",
       "      <th>219</th>\n",
       "      <td>1050028</td>\n",
       "      <td>글쎄</td>\n",
       "      <td>0</td>\n",
       "      <td>2</td>\n",
       "      <td>글쎄</td>\n",
       "    </tr>\n",
       "    <tr>\n",
       "      <th>243</th>\n",
       "      <td>115954</td>\n",
       "      <td>감동</td>\n",
       "      <td>1</td>\n",
       "      <td>2</td>\n",
       "      <td>감동</td>\n",
       "    </tr>\n",
       "    <tr>\n",
       "      <th>...</th>\n",
       "      <td>...</td>\n",
       "      <td>...</td>\n",
       "      <td>...</td>\n",
       "      <td>...</td>\n",
       "      <td>...</td>\n",
       "    </tr>\n",
       "    <tr>\n",
       "      <th>47803</th>\n",
       "      <td>7225811</td>\n",
       "      <td>아참</td>\n",
       "      <td>0</td>\n",
       "      <td>2</td>\n",
       "      <td>아참</td>\n",
       "    </tr>\n",
       "    <tr>\n",
       "      <th>48099</th>\n",
       "      <td>5536472</td>\n",
       "      <td>망덕</td>\n",
       "      <td>0</td>\n",
       "      <td>2</td>\n",
       "      <td>망덕</td>\n",
       "    </tr>\n",
       "    <tr>\n",
       "      <th>48576</th>\n",
       "      <td>7894255</td>\n",
       "      <td>뒷북</td>\n",
       "      <td>0</td>\n",
       "      <td>2</td>\n",
       "      <td>뒷북</td>\n",
       "    </tr>\n",
       "    <tr>\n",
       "      <th>48777</th>\n",
       "      <td>3015444</td>\n",
       "      <td>동감</td>\n",
       "      <td>0</td>\n",
       "      <td>2</td>\n",
       "      <td>동감</td>\n",
       "    </tr>\n",
       "    <tr>\n",
       "      <th>49847</th>\n",
       "      <td>5766993</td>\n",
       "      <td>진리</td>\n",
       "      <td>1</td>\n",
       "      <td>2</td>\n",
       "      <td>진리</td>\n",
       "    </tr>\n",
       "  </tbody>\n",
       "</table>\n",
       "<p>216 rows × 5 columns</p>\n",
       "</div>"
      ],
      "text/plain": [
       "            id document  label  len_doc new_doc\n",
       "16     2968565       최고      1        2      최고\n",
       "60     9745015       콩콩      0        2      콩콩\n",
       "174    6915908       어썸      1        2      어썸\n",
       "219    1050028       글쎄      0        2      글쎄\n",
       "243     115954       감동      1        2      감동\n",
       "...        ...      ...    ...      ...     ...\n",
       "47803  7225811       아참      0        2      아참\n",
       "48099  5536472       망덕      0        2      망덕\n",
       "48576  7894255       뒷북      0        2      뒷북\n",
       "48777  3015444       동감      0        2      동감\n",
       "49847  5766993       진리      1        2      진리\n",
       "\n",
       "[216 rows x 5 columns]"
      ]
     },
     "execution_count": 73,
     "metadata": {},
     "output_type": "execute_result"
    }
   ],
   "source": [
    "cond = test_data['len_doc'] == 2\n",
    "test_data[cond]"
   ]
  },
  {
   "cell_type": "markdown",
   "metadata": {},
   "source": [
    "---\n",
    "### spm"
   ]
  },
  {
   "cell_type": "code",
   "execution_count": 76,
   "metadata": {},
   "outputs": [
    {
     "name": "stdout",
     "output_type": "stream",
     "text": [
      "-rw-rw-r-- 1 ssac7 ssac7 373671 Apr 20 17:14 spm_bpe.model\n",
      "-rw-rw-r-- 1 ssac7 ssac7 118902 Apr 20 17:14 spm_bpe.vocab\n"
     ]
    }
   ],
   "source": [
    "# sentence piece 사용\n",
    "\n",
    "import sentencepiece as spm\n",
    "import os\n",
    "temp_file = os.getenv('HOME')+'/aiffel/sp_tokenizer/data/naver_movie/review.train.temp'\n",
    "\n",
    "vocab_size = 8000\n",
    "\n",
    "with open(temp_file, 'w') as f:\n",
    "    for row in train_data['new_doc']:   # 이전 스텝에서 정제했던 corpus를 활용합니다.\n",
    "        f.write(str(row) + '\\n')\n",
    "\n",
    "spm.SentencePieceTrainer.Train(\n",
    "    \"--input={} --model_type=bpe --model_prefix=spm_bpe --vocab_size={}\".format(temp_file, vocab_size)    \n",
    ")\n",
    "#위 Train에서  --model_type = 'unigram'이 디폴트 적용되어 있습니다. --model_type = 'bpe' 로 옵션을 주어 변경할 수 있습니다.\n",
    "\n",
    "!ls -l spm_bpe*"
   ]
  },
  {
   "cell_type": "code",
   "execution_count": 77,
   "metadata": {},
   "outputs": [
    {
     "name": "stdout",
     "output_type": "stream",
     "text": [
      "[4505, 862, 6726, 6488, 1347, 6484, 6579, 6478, 0]\n",
      "['▁아버', '지가', '방', '에', '들어', '가', '신', '다', '.']\n",
      "아버지가방에들어가신다 ⁇ \n"
     ]
    }
   ],
   "source": [
    "s = spm.SentencePieceProcessor()\n",
    "s.Load('spm_bpe.model')\n",
    "\n",
    "# SentencePiece를 활용한 sentence -> encoding\n",
    "tokensIDs = s.EncodeAsIds('아버지가방에들어가신다.')\n",
    "print(tokensIDs)\n",
    "\n",
    "# SentencePiece를 활용한 sentence -> encoded pieces\n",
    "print(s.SampleEncodeAsPieces('아버지가방에들어가신다.',1, 0.0))\n",
    "\n",
    "# SentencePiece를 활용한 encoding -> sentence 복원\n",
    "print(s.DecodeIds(tokensIDs))"
   ]
  },
  {
   "cell_type": "code",
   "execution_count": 78,
   "metadata": {},
   "outputs": [
    {
     "name": "stdout",
     "output_type": "stream",
     "text": [
      "-rw-rw-r-- 1 ssac7 ssac7 378253 Apr 20 17:15 spm_unigram.model\n",
      "-rw-rw-r-- 1 ssac7 ssac7 147757 Apr 20 17:15 spm_unigram.vocab\n"
     ]
    }
   ],
   "source": [
    "# unigram 사용\n",
    "vocab_size = 8000\n",
    "\n",
    "\n",
    "spm.SentencePieceTrainer.Train(\n",
    "    \"--input={} --model_prefix=spm_unigram --vocab_size={}\".format(temp_file, vocab_size)    \n",
    ")\n",
    "#위 Train에서  --model_type = 'unigram'이 디폴트 적용되어 있습니다. --model_type = 'bpe' 로 옵션을 주어 변경할 수 있습니다.\n",
    "\n",
    "!ls -l spm_unigram*"
   ]
  },
  {
   "cell_type": "code",
   "execution_count": 79,
   "metadata": {},
   "outputs": [
    {
     "name": "stdout",
     "output_type": "stream",
     "text": [
      "[1211, 9, 389, 12, 1182, 9, 135, 13, 0]\n",
      "['▁아버지', '가', '방', '에', '들어', '가', '신', '다', '.']\n",
      "아버지가방에들어가신다 ⁇ \n"
     ]
    }
   ],
   "source": [
    "s = spm.SentencePieceProcessor()\n",
    "s.Load('spm_unigram.model')\n",
    "\n",
    "# SentencePiece를 활용한 sentence -> encoding\n",
    "tokensIDs = s.EncodeAsIds('아버지가방에들어가신다.')\n",
    "print(tokensIDs)\n",
    "\n",
    "# SentencePiece를 활용한 sentence -> encoded pieces\n",
    "print(s.SampleEncodeAsPieces('아버지가방에들어가신다.',1, 0.0))\n",
    "\n",
    "# SentencePiece를 활용한 encoding -> sentence 복원\n",
    "print(s.DecodeIds(tokensIDs))"
   ]
  },
  {
   "cell_type": "markdown",
   "metadata": {},
   "source": [
    "+ bpe는 아버지가를 아버, 지가로 나눈 반변 unigram은 아버지, 가 로 나누었다. unigram이 bpe보다 잘 나누는 것 같다."
   ]
  },
  {
   "cell_type": "code",
   "execution_count": 82,
   "metadata": {},
   "outputs": [],
   "source": [
    "import tensorflow as tf\n",
    "\n",
    "def sp_tokenize(s, train_corpus, test_corpus):\n",
    "\n",
    "    train_tensor = []\n",
    "    test_tensor = []\n",
    "\n",
    "    for sen in train_corpus:\n",
    "        train_tensor.append(s.EncodeAsIds(sen))\n",
    "        \n",
    "    for sen in test_corpus:\n",
    "        test_tensor.append(s.EncodeAsIds(sen))\n",
    "\n",
    "    with open(\"./spm_unigram.vocab\", 'r') as f:\n",
    "        vocab = f.readlines()\n",
    "\n",
    "    word_index = {}\n",
    "    index_word = {}\n",
    "\n",
    "    for idx, line in enumerate(vocab):\n",
    "        word = line.split(\"\\t\")[0]\n",
    "\n",
    "        word_index.update({idx:word})\n",
    "        index_word.update({word:idx})\n",
    "\n",
    "    return train_tensor, test_tensor, word_index, index_word"
   ]
  },
  {
   "cell_type": "code",
   "execution_count": 83,
   "metadata": {},
   "outputs": [],
   "source": [
    "train_tensor, test_tensor, word_index, index_word = sp_tokenize(s, train_data['new_doc'], test_data['new_doc'])"
   ]
  },
  {
   "cell_type": "code",
   "execution_count": 84,
   "metadata": {},
   "outputs": [
    {
     "data": {
      "text/plain": [
       "(142855, 48193, 8000, 8000)"
      ]
     },
     "execution_count": 84,
     "metadata": {},
     "output_type": "execute_result"
    }
   ],
   "source": [
    "len(train_tensor), len(test_tensor), len(word_index), len(index_word)"
   ]
  },
  {
   "cell_type": "code",
   "execution_count": 85,
   "metadata": {},
   "outputs": [
    {
     "data": {
      "text/plain": [
       "[49, 747, 25, 1864, 54, 1624]"
      ]
     },
     "execution_count": 85,
     "metadata": {},
     "output_type": "execute_result"
    }
   ],
   "source": [
    "train_tensor[0]"
   ]
  },
  {
   "cell_type": "code",
   "execution_count": 86,
   "metadata": {},
   "outputs": [
    {
     "name": "stdout",
     "output_type": "stream",
     "text": [
      "Data Size: 142855\n",
      "문장의 최단 길이: 1\n",
      "문장의 최장 길이: 133\n",
      "문장의 평균 길이: 15\n"
     ]
    },
    {
     "data": {
      "image/png": "[encoded data removed]",
      "text/plain": [
       "<Figure size 432x288 with 1 Axes>"
      ]
     },
     "metadata": {
      "needs_background": "light"
     },
     "output_type": "display_data"
    }
   ],
   "source": [
    "# 학습된 sp_tokenize로 나눈 문장 길이 분포 확인\n",
    "import matplotlib.pyplot as plt\n",
    "\n",
    "min_len = 999\n",
    "max_len = 0\n",
    "sum_len = 0\n",
    "\n",
    "print(\"Data Size:\", len(train_tensor))\n",
    "\n",
    "for sen in train_tensor:\n",
    "    length = len(sen)\n",
    "    if min_len > length: min_len = length\n",
    "    if max_len < length: max_len = length\n",
    "    sum_len += length\n",
    "\n",
    "print(\"문장의 최단 길이:\", min_len)\n",
    "print(\"문장의 최장 길이:\", max_len)\n",
    "print(\"문장의 평균 길이:\", sum_len // len(train_tensor))\n",
    "\n",
    "sentence_length = np.zeros((max_len), dtype=np.int)\n",
    "\n",
    "for sen in train_tensor:   # 중복이 제거된 코퍼스 기준\n",
    "    sentence_length[len(sen)-1] += 1\n",
    "\n",
    "plt.bar(range(max_len), sentence_length, width=1.0)\n",
    "plt.title(\"Sentence Length Distribution\")\n",
    "plt.show()"
   ]
  },
  {
   "cell_type": "code",
   "execution_count": 88,
   "metadata": {},
   "outputs": [
    {
     "name": "stdout",
     "output_type": "stream",
     "text": [
      "Data Size: 48193\n",
      "문장의 최단 길이: 1\n",
      "문장의 최장 길이: 112\n",
      "문장의 평균 길이: 15\n"
     ]
    },
    {
     "data": {
      "image/png": "[encoded data removed]",
      "text/plain": [
       "<Figure size 432x288 with 1 Axes>"
      ]
     },
     "metadata": {
      "needs_background": "light"
     },
     "output_type": "display_data"
    }
   ],
   "source": [
    "# 학습된 sp_tokenize로 나눈 문장 길이 분포 확인\n",
    "import matplotlib.pyplot as plt\n",
    "\n",
    "min_len = 999\n",
    "max_len = 0\n",
    "sum_len = 0\n",
    "\n",
    "print(\"Data Size:\", len(test_tensor))\n",
    "\n",
    "for sen in test_tensor:\n",
    "    length = len(sen)\n",
    "    if min_len > length: min_len = length\n",
    "    if max_len < length: max_len = length\n",
    "    sum_len += length\n",
    "\n",
    "print(\"문장의 최단 길이:\", min_len)\n",
    "print(\"문장의 최장 길이:\", max_len)\n",
    "print(\"문장의 평균 길이:\", sum_len // len(test_tensor))\n",
    "\n",
    "sentence_length = np.zeros((max_len), dtype=np.int)\n",
    "\n",
    "for sen in test_tensor:   # 중복이 제거된 코퍼스 기준\n",
    "    sentence_length[len(sen)-1] += 1\n",
    "\n",
    "plt.bar(range(max_len), sentence_length, width=1.0)\n",
    "plt.title(\"Sentence Length Distribution\")\n",
    "plt.show()"
   ]
  },
  {
   "cell_type": "code",
   "execution_count": 100,
   "metadata": {},
   "outputs": [],
   "source": [
    "# 문장 보기 \n",
    "def decode_tensor(tensor, target_len):\n",
    "    \n",
    "    s = spm.SentencePieceProcessor()\n",
    "    s.Load('spm_unigram.model')\n",
    "    count = 0\n",
    "    \n",
    "    for c in tensor:\n",
    "        if len(c) == target_len:\n",
    "            print(s.DecodeIds(c))\n",
    "            count += 1\n",
    "            if count == 10 : return        "
   ]
  },
  {
   "cell_type": "code",
   "execution_count": 107,
   "metadata": {},
   "outputs": [
    {
     "name": "stdout",
     "output_type": "stream",
     "text": [
      "재미있어요\n",
      "최고\n",
      "졸작\n",
      "킬링타임\n",
      "대박\n",
      "별로다\n",
      "좋은영화\n",
      "굳굳\n",
      "슬픔\n",
      "안습\n"
     ]
    }
   ],
   "source": [
    "decode_tensor(train_tensor, 1)"
   ]
  },
  {
   "cell_type": "code",
   "execution_count": 108,
   "metadata": {},
   "outputs": [
    {
     "name": "stdout",
     "output_type": "stream",
     "text": [
      "전 좋아요\n",
      "심심한영화\n",
      "매우 실망\n",
      "인상적인 영화였다\n",
      "재미있는영화입니다\n",
      "내용이 이상해\n",
      "아 빵점\n",
      "좋구나\n",
      "볼만해\n",
      "10점\n"
     ]
    }
   ],
   "source": [
    "decode_tensor(train_tensor, 2)"
   ]
  },
  {
   "cell_type": "code",
   "execution_count": 109,
   "metadata": {},
   "outputs": [
    {
     "name": "stdout",
     "output_type": "stream",
     "text": [
      "사이몬페그의 익살스런 연기가 돋보였던 영화 스파이더맨에서 늙어보이기만 했던 커스틴 던스트가 너무나도 이뻐보였다\n",
      "정말 오월의 멜로는 정말로 보고보고 또봐도 계속 보고싶은 영화순위 1순위다하 늦은 밤이라 그런지 야릇한 느낌이 들었다\n",
      "정말 질질끌고 작가님제발좀 적당히하시죠은희수역맡은 사람도 그만 나쁘게 만들지아침드라마가 막장이네\n",
      "자꾸 뭘 설득할려하고 설교할려고하는게 보기거북하다 그리고결혼반지를 위해 범죄가담하다니 무슨 개역지설정이냐\n",
      "살면서 처음 접해본 장르라서 조금 당황스럽다 솔직히 영화 자체는 100 자신의 색깔에 충실했고 완성도 역시 뛰어난 편이지만 좋아하지도 이해하지도 못하겠다\n",
      "유럽영화가 이번정부에 많이 들어와 즐겁긴하다만 그 내용들이 왜 이리 진부한걸까 유럽영화를 욕되게 하고있단 소리다\n",
      "미성년자가 돈많은 아저씨에게 순결을 바치고 데인후 결국 정신차리고 공부해거 명문대가는 진부한 결말\n",
      "올밴 재편성때 광희한테 쫓겨나고 이번엔 유세윤 음주운전때매 쫓겨나고 안타깝고 실망스러울뿐이다\n",
      "당시 명필름을 부도직전까지 몰고갔던 문제적졸작 한동안이은 심재명부부는넉다운당함\n",
      "아이유가 나오는데 시청률이 4점대라니 한채영 아이유만가가지고도 어느정도는 나올텐데 문제는 장근석이야 남자는물론 여자들도 싫어하니\n"
     ]
    }
   ],
   "source": [
    "decode_tensor(train_tensor, 30)"
   ]
  },
  {
   "cell_type": "code",
   "execution_count": 101,
   "metadata": {},
   "outputs": [
    {
     "name": "stdout",
     "output_type": "stream",
     "text": [
      "최고\n",
      "감동적이다\n",
      "볼만함\n",
      "귀여워\n",
      "글쎄\n",
      "감동\n",
      "볼만하다\n",
      "재미있어요\n",
      "좋아요\n",
      "별로다\n"
     ]
    }
   ],
   "source": [
    "decode_tensor(test_tensor, 1)"
   ]
  },
  {
   "cell_type": "code",
   "execution_count": 102,
   "metadata": {},
   "outputs": [
    {
     "name": "stdout",
     "output_type": "stream",
     "text": [
      "진정한 쓰레기\n",
      "나이스\n",
      "너무너무 재밌다\n",
      "콩콩\n",
      "괜찮아요\n",
      "너무 좋았음\n",
      "어썸\n",
      "다시보고싶다\n",
      "재미가 없다\n",
      "재미있는데여\n"
     ]
    }
   ],
   "source": [
    "decode_tensor(test_tensor, 2)"
   ]
  },
  {
   "cell_type": "code",
   "execution_count": 104,
   "metadata": {},
   "outputs": [
    {
     "name": "stdout",
     "output_type": "stream",
     "text": [
      "작가의 예리함과 필력에 박수를 보냅니다 진보한 드라마란 바로 이런 것 시청률 의식하지마시고 앞으로도 좋은내용 부탁드립니다\n",
      "어릴때 감동적으로 본 영화라 잊지 못합니다 라스트장면에서 이불 뒤집어쓰고 울었던 기억이 꼭 다시 보고 싶습니다 파일 좀 보내주세요\n",
      "30대 여자의 노처녀 히스테리에 열등감이 더해지면 어떻게 되는지를 보여주는 영화 골때리고 끝내주게 웃겨준다\n",
      "좋네요 저 밑에 우리나라 사형제도 폐지 됐다고 하는데폐지된거 아닙니다 다만 형의 집행을 계속 시행하지 않고 있을뿐\n",
      "액션 만화일까 싶어서 봤는데 처음부터 끝까지 일관된 개소리로 와닿지 않는 개똥철학만 구구절절이  ⁇ 어댐\n",
      "지킬박사 늑대인간 뱀파이어 프랑켄슈타인의 괴물까지 세계문학을 읽는 기분 그리고 스토리와 액션도 사랑도 모두 최고였음\n",
      "아직 더럽혀지지 않은 새하얀 눈 그 위엔 대원들의 보이지 않는 여러 감정들이 뒤섞여 더럽혀지고 있다\n",
      "잊혀질만 하면 또 보고싶은 영화 20살때 이영화를 알았는데 그뒤로 1년에 한두번씩은 보는것 같다 마음이 아프면서도 따듯해지는 영화다\n",
      "처음으로 핸드폰에 외국영화넣고 엠피쓰리처럼 듣고다녔다 이영화가없었다면 지금난 모하고있었을까\n",
      "개인적으로 정말 감동이 깊었던 영화임 도 다좋고 주인공들 미래모습볼수 있어서 좋았고타미코하고 짱구 둘의 사랑모습이 너무감동적이었음\n"
     ]
    }
   ],
   "source": [
    "decode_tensor(test_tensor, 30)"
   ]
  },
  {
   "cell_type": "markdown",
   "metadata": {},
   "source": [
    "+ 토큰 길이가 1개여도 문제가 없을까? \n",
    "  + 해당 표현에 대한 강한 편향을 만들지 않을까?\n",
    "  + 알 수 없으므로 제거하지 않고 일단 진행해 보기로 한다.\n",
    "+ 리뷰의 긍정 부정을 판단하는 비교적 간단한 문제이고 토큰이 30개 정도 되는 리뷰의 경우 충분한 단어가 들어가 있다.\n",
    "  + 분포 상으로도 30개 미만에 주된 리뷰가 몰려 있으므로 30개를 넘는 리뷰 전체를 데이터로 넣을 필요는 없을 것 같다."
   ]
  },
  {
   "cell_type": "code",
   "execution_count": 110,
   "metadata": {},
   "outputs": [],
   "source": [
    "maxlen = 30\n",
    "X_train = tf.keras.preprocessing.sequence.pad_sequences(train_tensor, padding='post', maxlen = maxlen)\n",
    "X_test = tf.keras.preprocessing.sequence.pad_sequences(test_tensor, padding='post', maxlen = maxlen)"
   ]
  },
  {
   "cell_type": "code",
   "execution_count": 111,
   "metadata": {},
   "outputs": [],
   "source": [
    "y_train = np.array(list(train_data['label']))\n",
    "y_test =  np.array(list(test_data['label']))"
   ]
  },
  {
   "cell_type": "code",
   "execution_count": 112,
   "metadata": {},
   "outputs": [
    {
     "data": {
      "text/plain": [
       "(142855, 142855)"
      ]
     },
     "execution_count": 112,
     "metadata": {},
     "output_type": "execute_result"
    }
   ],
   "source": [
    "len(X_train), len(y_train)"
   ]
  },
  {
   "cell_type": "code",
   "execution_count": 113,
   "metadata": {},
   "outputs": [
    {
     "data": {
      "text/plain": [
       "(48193, 48193)"
      ]
     },
     "execution_count": 113,
     "metadata": {},
     "output_type": "execute_result"
    }
   ],
   "source": [
    "len(X_test), len(y_test)"
   ]
  },
  {
   "cell_type": "code",
   "execution_count": 117,
   "metadata": {},
   "outputs": [
    {
     "name": "stdout",
     "output_type": "stream",
     "text": [
      "Model: \"sequential_1\"\n",
      "_________________________________________________________________\n",
      "Layer (type)                 Output Shape              Param #   \n",
      "=================================================================\n",
      "embedding_1 (Embedding)      (None, None, 10)          80000     \n",
      "_________________________________________________________________\n",
      "lstm_1 (LSTM)                (None, 10)                840       \n",
      "_________________________________________________________________\n",
      "dense_2 (Dense)              (None, 10)                110       \n",
      "_________________________________________________________________\n",
      "dense_3 (Dense)              (None, 1)                 11        \n",
      "=================================================================\n",
      "Total params: 80,961\n",
      "Trainable params: 80,961\n",
      "Non-trainable params: 0\n",
      "_________________________________________________________________\n"
     ]
    }
   ],
   "source": [
    "# 모델 작성\n",
    "from tensorflow import keras\n",
    "\n",
    "embedding_size = 10\n",
    "hidden_size = 10\n",
    "\n",
    "\n",
    "model = keras.Sequential([\n",
    "    keras.layers.Embedding(vocab_size, embedding_size),# (Size of the vocabulary, Dimension of the dense embedding)\n",
    "    keras.layers.LSTM(hidden_size),\n",
    "    keras.layers.Dense(hidden_size, activation='relu'),\n",
    "    keras.layers.Dense(1, activation='sigmoid')\n",
    "])\n",
    "\n",
    "model.summary()"
   ]
  },
  {
   "cell_type": "code",
   "execution_count": 114,
   "metadata": {},
   "outputs": [
    {
     "data": {
      "text/plain": [
       "'/home/ssac7/aiffel/sp_tokenizer/naver_movie/models/sp_unigram'"
      ]
     },
     "execution_count": 114,
     "metadata": {},
     "output_type": "execute_result"
    }
   ],
   "source": [
    "# 체크포인트\n",
    "checkpoint_dir = os.getenv('HOME')+'/aiffel/sp_tokenizer/naver_movie/models/sp_unigram'\n",
    "\n",
    "checkpoint_dir"
   ]
  },
  {
   "cell_type": "code",
   "execution_count": 118,
   "metadata": {},
   "outputs": [],
   "source": [
    "cp_callback = tf.keras.callbacks.ModelCheckpoint(checkpoint_dir,\n",
    "                                                 save_weights_only=True,\n",
    "                                                 monitor='val_acc',\n",
    "                                                 mode='auto',\n",
    "                                                 save_best_only=True,\n",
    "                                                 verbose=1)\n",
    "early_stop = tf.keras.callbacks.EarlyStopping(monitor='val_loss',\n",
    "                                              mode='auto',\n",
    "                                              verbose=1,\n",
    "                                              patience=3)"
   ]
  },
  {
   "cell_type": "code",
   "execution_count": 119,
   "metadata": {},
   "outputs": [],
   "source": [
    "# model compile\n",
    "model.compile(optimizer='adam', loss='binary_crossentropy', metrics=['acc'])"
   ]
  },
  {
   "cell_type": "code",
   "execution_count": 121,
   "metadata": {},
   "outputs": [
    {
     "name": "stdout",
     "output_type": "stream",
     "text": [
      "Epoch 1/20\n",
      "880/893 [============================>.] - ETA: 0s - loss: 0.4553 - acc: 0.7690\n",
      "Epoch 00001: val_acc improved from -inf to 0.84243, saving model to /home/ssac7/aiffel/sp_tokenizer/naver_movie/models/sp_unigram\n",
      "893/893 [==============================] - 4s 4ms/step - loss: 0.4540 - acc: 0.7699 - val_loss: 0.3603 - val_acc: 0.8424\n",
      "Epoch 2/20\n",
      "880/893 [============================>.] - ETA: 0s - loss: 0.3394 - acc: 0.8526\n",
      "Epoch 00002: val_acc improved from 0.84243 to 0.84589, saving model to /home/ssac7/aiffel/sp_tokenizer/naver_movie/models/sp_unigram\n",
      "893/893 [==============================] - 4s 4ms/step - loss: 0.3398 - acc: 0.8524 - val_loss: 0.3534 - val_acc: 0.8459\n",
      "Epoch 3/20\n",
      "888/893 [============================>.] - ETA: 0s - loss: 0.3229 - acc: 0.8603\n",
      "Epoch 00003: val_acc did not improve from 0.84589\n",
      "893/893 [==============================] - 4s 4ms/step - loss: 0.3231 - acc: 0.8602 - val_loss: 0.3498 - val_acc: 0.8451\n",
      "Epoch 4/20\n",
      "886/893 [============================>.] - ETA: 0s - loss: 0.3062 - acc: 0.8676\n",
      "Epoch 00004: val_acc improved from 0.84589 to 0.84750, saving model to /home/ssac7/aiffel/sp_tokenizer/naver_movie/models/sp_unigram\n",
      "893/893 [==============================] - 4s 4ms/step - loss: 0.3063 - acc: 0.8676 - val_loss: 0.3479 - val_acc: 0.8475\n",
      "Epoch 5/20\n",
      "889/893 [============================>.] - ETA: 0s - loss: 0.2867 - acc: 0.8749\n",
      "Epoch 00005: val_acc improved from 0.84750 to 0.84761, saving model to /home/ssac7/aiffel/sp_tokenizer/naver_movie/models/sp_unigram\n",
      "893/893 [==============================] - 4s 4ms/step - loss: 0.2868 - acc: 0.8748 - val_loss: 0.3574 - val_acc: 0.8476\n",
      "Epoch 6/20\n",
      "881/893 [============================>.] - ETA: 0s - loss: 0.2672 - acc: 0.8844\n",
      "Epoch 00006: val_acc did not improve from 0.84761\n",
      "893/893 [==============================] - 4s 4ms/step - loss: 0.2676 - acc: 0.8841 - val_loss: 0.3621 - val_acc: 0.8414\n",
      "Epoch 7/20\n",
      "887/893 [============================>.] - ETA: 0s - loss: 0.2490 - acc: 0.8942\n",
      "Epoch 00007: val_acc did not improve from 0.84761\n",
      "893/893 [==============================] - 4s 4ms/step - loss: 0.2490 - acc: 0.8942 - val_loss: 0.3835 - val_acc: 0.8421\n",
      "Epoch 00007: early stopping\n"
     ]
    }
   ],
   "source": [
    "history = model.fit(X_train, \n",
    "                    y_train, \n",
    "                    epochs=20, \n",
    "                    callbacks=[early_stop, cp_callback], \n",
    "                    batch_size=128 ,\n",
    "                    validation_split=0.2)"
   ]
  },
  {
   "cell_type": "code",
   "execution_count": 124,
   "metadata": {},
   "outputs": [
    {
     "data": {
      "image/png": "[encoded data removed]",
      "text/plain": [
       "<Figure size 576x576 with 2 Axes>"
      ]
     },
     "metadata": {
      "needs_background": "light"
     },
     "output_type": "display_data"
    }
   ],
   "source": [
    "# trainig porgress plot\n",
    "acc = history.history['acc']\n",
    "val_acc = history.history['val_acc']\n",
    "\n",
    "loss=history.history['loss']\n",
    "val_loss=history.history['val_loss']\n",
    "\n",
    "epochs_range = range(len(acc))\n",
    "\n",
    "plt.figure(figsize=(8, 8))\n",
    "plt.subplot(1, 2, 1)\n",
    "plt.plot(epochs_range, acc, label='Training Accuracy')\n",
    "plt.plot(epochs_range, val_acc, label='Validation Accuracy')\n",
    "plt.legend(loc='lower right')\n",
    "plt.title('Training and Validation Accuracy')\n",
    "\n",
    "plt.subplot(1, 2, 2)\n",
    "plt.plot(epochs_range, loss, label='Training Loss')\n",
    "plt.plot(epochs_range, val_loss, label='Validation Loss')\n",
    "plt.legend(loc='upper right')\n",
    "plt.title('Training and Validation Loss')\n",
    "plt.show()"
   ]
  },
  {
   "cell_type": "code",
   "execution_count": 125,
   "metadata": {},
   "outputs": [
    {
     "data": {
      "text/plain": [
       "<tensorflow.python.training.tracking.util.CheckpointLoadStatus at 0x7f0fb02d1610>"
      ]
     },
     "execution_count": 125,
     "metadata": {},
     "output_type": "execute_result"
    }
   ],
   "source": [
    "model.load_weights(checkpoint_dir)"
   ]
  },
  {
   "cell_type": "code",
   "execution_count": 126,
   "metadata": {},
   "outputs": [
    {
     "name": "stdout",
     "output_type": "stream",
     "text": [
      "1507/1507 [==============================] - 3s 2ms/step - loss: 0.3667 - acc: 0.8436\n"
     ]
    },
    {
     "data": {
      "text/plain": [
       "[0.3666558265686035, 0.8436287641525269]"
      ]
     },
     "execution_count": 126,
     "metadata": {},
     "output_type": "execute_result"
    }
   ],
   "source": [
    "model.evaluate(X_test, y_test)"
   ]
  },
  {
   "cell_type": "markdown",
   "metadata": {},
   "source": [
    "---\n"
   ]
  },
  {
   "cell_type": "markdown",
   "metadata": {},
   "source": [
    "# mecab 토큰화"
   ]
  },
  {
   "cell_type": "code",
   "execution_count": 177,
   "metadata": {},
   "outputs": [],
   "source": [
    "from konlpy.tag import Mecab\n",
    "\n",
    "mecab = Mecab()"
   ]
  },
  {
   "cell_type": "code",
   "execution_count": 178,
   "metadata": {},
   "outputs": [],
   "source": [
    "# 형태소 기반 토큰화\n",
    "def mecab_split(sentence):\n",
    "    \n",
    "    return mecab.morphs(sentence)\n",
    "\n",
    "mecab_train = []\n",
    "\n",
    "for sentence in train_data['new_doc']:\n",
    "    mecab_train.append(mecab_split(sentence))\n",
    "\n",
    "mecab_test = []\n",
    "\n",
    "for sentence in test_data['new_doc']:\n",
    "    mecab_test.append(mecab_split(sentence))\n",
    "    "
   ]
  },
  {
   "cell_type": "code",
   "execution_count": 179,
   "metadata": {},
   "outputs": [],
   "source": [
    "from collections import Counter\n",
    "\n",
    "words = np.concatenate(mecab_train).tolist()\n",
    "counter = Counter(words)\n",
    "counter = counter.most_common(vocab_size)\n",
    "vocab = ['<UNK>'] + [key for key, _ in counter] \n",
    "word_to_index = {word:index for index, word in enumerate(vocab)} "
   ]
  },
  {
   "cell_type": "code",
   "execution_count": 180,
   "metadata": {},
   "outputs": [
    {
     "data": {
      "text/plain": [
       "8000"
      ]
     },
     "execution_count": 180,
     "metadata": {},
     "output_type": "execute_result"
    }
   ],
   "source": [
    "len(counter)"
   ]
  },
  {
   "cell_type": "code",
   "execution_count": 181,
   "metadata": {},
   "outputs": [
    {
     "data": {
      "text/plain": [
       "8001"
      ]
     },
     "execution_count": 181,
     "metadata": {},
     "output_type": "execute_result"
    }
   ],
   "source": [
    "len(vocab)"
   ]
  },
  {
   "cell_type": "code",
   "execution_count": 182,
   "metadata": {},
   "outputs": [
    {
     "data": {
      "text/plain": [
       "(142855, 48193)"
      ]
     },
     "execution_count": 182,
     "metadata": {},
     "output_type": "execute_result"
    }
   ],
   "source": [
    "def wordlist_to_indexlist(wordlist):\n",
    "    return [word_to_index[word] if word in word_to_index else word_to_index['<UNK>'] for word in wordlist]\n",
    "\n",
    "train_tensor = list(map(wordlist_to_indexlist, mecab_train))\n",
    "test_tensor = list(map(wordlist_to_indexlist, mecab_test))\n",
    "\n",
    "len(train_tensor), len(test_tensor)"
   ]
  },
  {
   "cell_type": "code",
   "execution_count": 183,
   "metadata": {},
   "outputs": [],
   "source": [
    "maxlen = 30\n",
    "X_train = tf.keras.preprocessing.sequence.pad_sequences(train_tensor, padding='post', maxlen = maxlen)\n",
    "X_test = tf.keras.preprocessing.sequence.pad_sequences(test_tensor, padding='post', maxlen = maxlen)"
   ]
  },
  {
   "cell_type": "code",
   "execution_count": 189,
   "metadata": {},
   "outputs": [
    {
     "name": "stdout",
     "output_type": "stream",
     "text": [
      "Model: \"sequential_7\"\n",
      "_________________________________________________________________\n",
      "Layer (type)                 Output Shape              Param #   \n",
      "=================================================================\n",
      "embedding_7 (Embedding)      (None, None, 10)          80010     \n",
      "_________________________________________________________________\n",
      "lstm_7 (LSTM)                (None, 10)                840       \n",
      "_________________________________________________________________\n",
      "dense_14 (Dense)             (None, 10)                110       \n",
      "_________________________________________________________________\n",
      "dense_15 (Dense)             (None, 1)                 11        \n",
      "=================================================================\n",
      "Total params: 80,971\n",
      "Trainable params: 80,971\n",
      "Non-trainable params: 0\n",
      "_________________________________________________________________\n"
     ]
    }
   ],
   "source": [
    "# 모델 작성\n",
    "\n",
    "embedding_size = 10\n",
    "hidden_size = 10\n",
    "\n",
    "\n",
    "model = keras.Sequential([\n",
    "    keras.layers.Embedding(vocab_size+1, embedding_size),# (Size of the vocabulary, Dimension of the dense embedding)\n",
    "    keras.layers.LSTM(hidden_size),\n",
    "    keras.layers.Dense(hidden_size, activation='relu'),\n",
    "    keras.layers.Dense(1, activation='sigmoid')\n",
    "])\n",
    "\n",
    "model.summary()"
   ]
  },
  {
   "cell_type": "code",
   "execution_count": 190,
   "metadata": {},
   "outputs": [
    {
     "data": {
      "text/plain": [
       "'/home/ssac7/aiffel/sp_tokenizer/naver_movie/models/alt_mecab'"
      ]
     },
     "execution_count": 190,
     "metadata": {},
     "output_type": "execute_result"
    }
   ],
   "source": [
    "# 체크포인트\n",
    "checkpoint_dir = os.getenv('HOME')+'/aiffel/sp_tokenizer/naver_movie/models/alt_mecab'\n",
    "\n",
    "checkpoint_dir"
   ]
  },
  {
   "cell_type": "code",
   "execution_count": 191,
   "metadata": {},
   "outputs": [],
   "source": [
    "cp_callback = tf.keras.callbacks.ModelCheckpoint(checkpoint_dir,\n",
    "                                                 save_weights_only=True,\n",
    "                                                 monitor='val_acc',\n",
    "                                                 mode='auto',\n",
    "                                                 save_best_only=True,\n",
    "                                                 verbose=1)\n",
    "early_stop = tf.keras.callbacks.EarlyStopping(monitor='val_loss',\n",
    "                                              mode='auto',\n",
    "                                              verbose=1,\n",
    "                                              patience=3)"
   ]
  },
  {
   "cell_type": "code",
   "execution_count": 192,
   "metadata": {},
   "outputs": [],
   "source": [
    "# model compile\n",
    "model.compile(optimizer='adam', loss='binary_crossentropy', metrics=['acc'])"
   ]
  },
  {
   "cell_type": "code",
   "execution_count": 193,
   "metadata": {},
   "outputs": [
    {
     "name": "stdout",
     "output_type": "stream",
     "text": [
      "Epoch 1/20\n",
      "884/893 [============================>.] - ETA: 0s - loss: 0.4476 - acc: 0.7843\n",
      "Epoch 00001: val_acc improved from -inf to 0.84075, saving model to /home/ssac7/aiffel/sp_tokenizer/naver_movie/models/alt_mecab\n",
      "893/893 [==============================] - 4s 4ms/step - loss: 0.4468 - acc: 0.7847 - val_loss: 0.3652 - val_acc: 0.8407\n",
      "Epoch 2/20\n",
      "888/893 [============================>.] - ETA: 0s - loss: 0.3444 - acc: 0.8505\n",
      "Epoch 00002: val_acc improved from 0.84075 to 0.84110, saving model to /home/ssac7/aiffel/sp_tokenizer/naver_movie/models/alt_mecab\n",
      "893/893 [==============================] - 4s 4ms/step - loss: 0.3442 - acc: 0.8506 - val_loss: 0.3643 - val_acc: 0.8411\n",
      "Epoch 3/20\n",
      "882/893 [============================>.] - ETA: 0s - loss: 0.3253 - acc: 0.8591\n",
      "Epoch 00003: val_acc improved from 0.84110 to 0.84173, saving model to /home/ssac7/aiffel/sp_tokenizer/naver_movie/models/alt_mecab\n",
      "893/893 [==============================] - 4s 4ms/step - loss: 0.3257 - acc: 0.8589 - val_loss: 0.3579 - val_acc: 0.8417\n",
      "Epoch 4/20\n",
      "882/893 [============================>.] - ETA: 0s - loss: 0.3147 - acc: 0.8637\n",
      "Epoch 00004: val_acc improved from 0.84173 to 0.84250, saving model to /home/ssac7/aiffel/sp_tokenizer/naver_movie/models/alt_mecab\n",
      "893/893 [==============================] - 4s 4ms/step - loss: 0.3147 - acc: 0.8637 - val_loss: 0.3605 - val_acc: 0.8425\n",
      "Epoch 5/20\n",
      "882/893 [============================>.] - ETA: 0s - loss: 0.3036 - acc: 0.8676\n",
      "Epoch 00005: val_acc did not improve from 0.84250\n",
      "893/893 [==============================] - 4s 4ms/step - loss: 0.3038 - acc: 0.8676 - val_loss: 0.3606 - val_acc: 0.8396\n",
      "Epoch 6/20\n",
      "886/893 [============================>.] - ETA: 0s - loss: 0.2942 - acc: 0.8715\n",
      "Epoch 00006: val_acc did not improve from 0.84250\n",
      "893/893 [==============================] - 4s 4ms/step - loss: 0.2944 - acc: 0.8714 - val_loss: 0.3655 - val_acc: 0.8414\n",
      "Epoch 00006: early stopping\n"
     ]
    }
   ],
   "source": [
    "history = model.fit(X_train, \n",
    "                    y_train, \n",
    "                    epochs=20, \n",
    "                    callbacks=[early_stop, cp_callback], \n",
    "                    batch_size=128 ,\n",
    "                    validation_split=0.2)"
   ]
  },
  {
   "cell_type": "code",
   "execution_count": 194,
   "metadata": {},
   "outputs": [
    {
     "data": {
      "image/png": "[encoded data removed]",
      "text/plain": [
       "<Figure size 576x576 with 2 Axes>"
      ]
     },
     "metadata": {
      "needs_background": "light"
     },
     "output_type": "display_data"
    }
   ],
   "source": [
    "# trainig porgress plot\n",
    "acc = history.history['acc']\n",
    "val_acc = history.history['val_acc']\n",
    "\n",
    "loss=history.history['loss']\n",
    "val_loss=history.history['val_loss']\n",
    "\n",
    "epochs_range = range(len(acc))\n",
    "\n",
    "plt.figure(figsize=(8, 8))\n",
    "plt.subplot(1, 2, 1)\n",
    "plt.plot(epochs_range, acc, label='Training Accuracy')\n",
    "plt.plot(epochs_range, val_acc, label='Validation Accuracy')\n",
    "plt.legend(loc='lower right')\n",
    "plt.title('Training and Validation Accuracy')\n",
    "\n",
    "plt.subplot(1, 2, 2)\n",
    "plt.plot(epochs_range, loss, label='Training Loss')\n",
    "plt.plot(epochs_range, val_loss, label='Validation Loss')\n",
    "plt.legend(loc='upper right')\n",
    "plt.title('Training and Validation Loss')\n",
    "plt.show()"
   ]
  },
  {
   "cell_type": "code",
   "execution_count": 195,
   "metadata": {},
   "outputs": [
    {
     "data": {
      "text/plain": [
       "<tensorflow.python.training.tracking.util.CheckpointLoadStatus at 0x7f0e23592890>"
      ]
     },
     "execution_count": 195,
     "metadata": {},
     "output_type": "execute_result"
    }
   ],
   "source": [
    "model.load_weights(checkpoint_dir)"
   ]
  },
  {
   "cell_type": "code",
   "execution_count": 196,
   "metadata": {},
   "outputs": [
    {
     "name": "stdout",
     "output_type": "stream",
     "text": [
      "1507/1507 [==============================] - 3s 2ms/step - loss: 0.3636 - acc: 0.8402\n"
     ]
    },
    {
     "data": {
      "text/plain": [
       "[0.36364883184432983, 0.84016352891922]"
      ]
     },
     "execution_count": 196,
     "metadata": {},
     "output_type": "execute_result"
    }
   ],
   "source": [
    "model.evaluate(X_test, y_test)"
   ]
  },
  {
   "cell_type": "markdown",
   "metadata": {},
   "source": [
    "+ sentence piece 로 토큰화 한 데이터의 test accuracy가 더 높다."
   ]
  }
 ],
 "metadata": {
  "kernelspec": {
   "display_name": "aiffel",
   "language": "python",
   "name": "aiffel"
  },
  "language_info": {
   "codemirror_mode": {
    "name": "ipython",
    "version": 3
   },
   "file_extension": ".py",
   "mimetype": "text/x-python",
   "name": "python",
   "nbconvert_exporter": "python",
   "pygments_lexer": "ipython3",
   "version": "3.7.9"
  }
 },
 "nbformat": 4,
 "nbformat_minor": 4
}
