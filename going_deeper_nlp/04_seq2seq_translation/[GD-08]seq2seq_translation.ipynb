{
 "cells": [
  {
   "cell_type": "markdown",
   "metadata": {},
   "source": [
    "## Going Deeper #8 : seq2seq 번역\n",
    "---\n",
    "+  [Step 1. 데이터 다운로드](#step_1)\n",
    "+  [Step 2. 데이터 정제](#step_2)\n",
    "+  [Step 3. 데이터 토큰화](#step_3)\n",
    "+  [Step 4. 모델 설계](#step_4)\n",
    "+  [Step 5. 훈련하기](#step_5)\n",
    "+  [생각해본 점](#pensamientos)\n",
    "  +  [개선 시도](#intento_1)\n",
    "+  [마무리](#conc)\n",
    "---"
   ]
  },
  {
   "cell_type": "code",
   "execution_count": 1,
   "metadata": {},
   "outputs": [],
   "source": [
    "import matplotlib as mpl\n",
    "import matplotlib.pyplot as plt\n",
    " \n",
    "%config InlineBackend.figure_format = 'retina'\n",
    " \n",
    "import matplotlib.font_manager as fm\n",
    "fontpath = '/usr/share/fonts/truetype/nanum/NanumBarunGothic.ttf'\n",
    "font = fm.FontProperties(fname=fontpath, size=9)\n",
    "plt.rc('font', family='NanumBarunGothic') \n",
    "mpl.font_manager._rebuild()"
   ]
  },
  {
   "cell_type": "code",
   "execution_count": 2,
   "metadata": {},
   "outputs": [
    {
     "name": "stdout",
     "output_type": "stream",
     "text": [
      "2.2.0\n"
     ]
    }
   ],
   "source": [
    "import tensorflow as tf\n",
    "import numpy as np\n",
    "\n",
    "from sklearn.model_selection import train_test_split\n",
    "\n",
    "import matplotlib.ticker as ticker\n",
    "import matplotlib.pyplot as plt\n",
    "\n",
    "import time\n",
    "import re\n",
    "import os\n",
    "import io\n",
    "\n",
    "print(tf.__version__)"
   ]
  },
  {
   "cell_type": "markdown",
   "metadata": {},
   "source": [
    "---\n",
    "<a id = 'step_1'></a>\n",
    "### Step 1. 데이터 다운로드\n",
    "\n",
    "> [jungyeul/korean-parallel-corpora](https://github.com/jungyeul/korean-parallel-corpora/tree/master/korean-english-news-v1)    \n",
    "> 이 곳에서 korean-english-park.train.tar.gz 를 다운받아 사용한다."
   ]
  },
  {
   "cell_type": "code",
   "execution_count": 3,
   "metadata": {},
   "outputs": [
    {
     "name": "stdout",
     "output_type": "stream",
     "text": [
      "/home/ssac7/aiffel/s2s_translation/project_data/korean-english-park.train.ko\n"
     ]
    }
   ],
   "source": [
    "data_path = os.getenv('HOME')+'/aiffel/s2s_translation/project_data'\n",
    "train_path_ko = data_path+'/korean-english-park.train.ko'\n",
    "train_path_en = data_path+'/korean-english-park.train.en'\n",
    "print(train_path_ko)"
   ]
  },
  {
   "cell_type": "code",
   "execution_count": 4,
   "metadata": {},
   "outputs": [
    {
     "name": "stdout",
     "output_type": "stream",
     "text": [
      "Data Size: 94123\n",
      "Example:\n",
      "1 >> 개인용 컴퓨터 사용의 상당 부분은 \"이것보다 뛰어날 수 있느냐?\"\n",
      "2 >> 모든 광마우스와 마찬가지 로 이 광마우스도 책상 위에 놓는 마우스 패드를 필요로 하지 않는다.\n",
      "3 >> 그러나 이것은 또한 책상도 필요로 하지 않는다.\n",
      "4 >> 79.95달러하는 이 최첨단 무선 광마우스는 허공에서 팔목, 팔, 그외에 어떤 부분이든 그 움직임에따라 커서의 움직임을 조절하는 회전 운동 센서를 사용하고 있다.\n",
      "5 >> 정보 관리들은 동남 아시아에서의 선박들에 대한 많은 (테러) 계획들이 실패로 돌아갔음을 밝혔으며, 세계 해상 교역량의 거의 3분의 1을 운송하는 좁은 해로인 말라카 해협이 테러 공격을 당하기 쉽다고 경고하고 있다.\n",
      "6 >> 이 지역에 있는 미국 선박과 상업용 선박들에 대한 알카에다의 (테러) 시도 중 여러 건이 실패했다는 것을 알게 된 후에, 전문가들은 테러 조직이 여전히 세계 경제에 타격을 입히려 한다고 경고하고 있으며, 동남 아시아에 있는 세계 경제의 주요 통로가 위험에 처해 있다고 그들은 생각하고 있다.\n",
      "7 >> 국립 과학 학회가 발표한 새 보고서에따르면, 복잡한 임무를 수행해야 하는 군인들이나 보다 오랜 시간 동안 경계를 늦추지 않고 있기 위해 도움이 필요한 군인들에게 카페인이 반응 시간을 증가시키고 임무 수행 능력을 향상시키는데 도움이 된다고 한다.\n",
      "8 >> 이 보고서에따르면, \"특히, 군사 작전에서 생사가 걸린 상황이 될 수도 있는 반응 속도와 시각 및 청각의 경계 상태를 유지시키기 위해 카페인이 사용될 수도 있다.\" 고 한다.\n",
      "9 >> \"결정적인 순간에 그들의 능력을 증가시켜 줄 그 무엇이 매우 중요합니다.\"\n",
      "10 >> 연구가들이 이미 커피 대체품으로서 음식 대용 과자나 껌에 카페인을 첨가하는 방법을 연구하고 있다고 Archibald는 말했다.\n",
      "11 >> 약 200600밀리그램의, 비슷한 분량의 카페인은 또한 육체적 지구력을 강화시키는 데 효과적인 것 같으며, 특히 고도가 높은 곳에서 약해진 육체적 지구력을 일부 회복시켜주는 데 유용하다는 것이 이번 연구에서 밝혀졌다.\n",
      "12 >> 의약 연구소는 정부에 과학 문제에 관해 자문하기 위해 의회가 설립 인가를 내어 준 민간 단체인 국립 과학 학회의 부속 단체이다.\n",
      "13 >> 아시아에서의 왕성한 수요 덕분에 일본의 수출이 9월에 연속 6개월간 증가하여, 무역 흑자가 1조550억엔(84억7,000만달러)으로 늘어났다고 재무성이 발표했다.\n",
      "14 >> 그러나 침체되고 있는 미국 경제와 국내 수요의 약세 전망이 향후 수개월 동안의 낙관론을 어둡게 했다.\n",
      "15 >> 특수 부대가 극장 건물로 공격해 들어가면서, 러시아인이 아닌 75명의 외국인과 25명의 어린이 전부를 포함해 750명 이상의 인질들이 구출되었다.\n",
      "16 >> 러시아 특수 부대는 극장으로 공격해 들어가기 전에 신경 독가스를 사용했다.\n",
      "17 >> 많은 인질들이 화학 가스의 영향으로 고통을 겪으며 병원으로 옮겨졌다.\n",
      "18 >> 과거 노조 지도자였던 루이스 이나시오 룰라 다 실바가 브라질의 대통령 선거 결선 투표에서 압승을 거두면서, 라틴 아메리카 최대 국가로서는 좌파로의 역사적인 전환을 맞이하게 되었다.\n",
      "19 >> 실바의 노동자당이 자신들의 후보가 선거의 승리자라고 선언한 후 몇 시간이 지나, 집권당 후보인 조제 세하는 패배를 시인했다.\n",
      "20 >> 수천명의 실바 지지자들이 상 파울로와 리오 데 자네이로의 거리에 모여 들어, 실바가 이끄는 당의 붉은 깃발을 흔들며 축하했다.\n"
     ]
    }
   ],
   "source": [
    "with open(train_path_ko, \"r\") as f:\n",
    "    raw_ko = f.read().splitlines()\n",
    "\n",
    "print(\"Data Size:\", len(raw_ko))\n",
    "print(\"Example:\")\n",
    "\n",
    "ind = 0\n",
    "for sen in raw_ko[0:20:1]: \n",
    "    ind += 1\n",
    "    print(f'{ind} >> {sen}')"
   ]
  },
  {
   "cell_type": "code",
   "execution_count": 5,
   "metadata": {},
   "outputs": [
    {
     "name": "stdout",
     "output_type": "stream",
     "text": [
      "Data Size: 94123\n",
      "Example:\n",
      "1 >> Much of personal computing is about \"can you top this?\"\n",
      "2 >> so a mention a few weeks ago about a rechargeable wireless optical mouse brought in another rechargeable, wireless mouse.\n",
      "3 >> Like all optical mice, But it also doesn't need a desk.\n",
      "4 >> uses gyroscopic sensors to control the cursor movement as you move your wrist, arm, whatever through the air.\n",
      "5 >> Intelligence officials have revealed a spate of foiled plots on ships in Southeast Asia and are warning that a narrow stretch of water carrying almost one third of the world's maritime trade is vulnerable to a terror attack.\n",
      "6 >> After learning of several foiled al Qaeda attempts on U.S. and commercial ships in the area, experts are warning that the terror network still wants to cripple the global economy, the world's economic jugular vein in Southeast Asia is at risk.\n",
      "7 >> Caffeine can help increase reaction time and improve performance for military servicemen who must perform complex tasks or who need help staying alert for longer periods of time, according to a new report by the National Academy of Sciences.\n",
      "8 >> \"Specifically, it can be used in maintaining speed of reactions and visual and auditory vigilance, which in military operations could be a life or death situation,\" according to the report.\n",
      "9 >> \"Something that will boost their capabilities at crucial moments is very important.\"\n",
      "10 >> Researchers are already exploring ways to put caffeine in nutrition bars or chewing gum as alternatives to coffee, Archibald said.\n",
      "11 >> A similar dose of caffeine, about 200-600 mg, also appears effective in enhancing physical endurance and may be especially useful in returning some of the physical endurance lost at high altitude, the study found.\n",
      "12 >> The Institute of Medicine is part of the National Academy of Sciences, a private organization chartered by Congress to advise the government on scientific matters.\n",
      "13 >> thanks to robust demand in Asia, boosting the trade surplus to 1.055 trillion yen ($8.47 billion), the Ministry of Finance said.\n",
      "14 >> But the prospect of a slowing U.S. economy and weak demand at home overshadowed any optimism for the months ahead.\n",
      "15 >> More than 750 hostages were rescued, including all 75 non-Russians and 25 children, when special forces stormed the building.\n",
      "16 >> Russian special forces used a sedative gas before storming the theatre.\n",
      "17 >> Many captives were taken to hospital suffering from the effects of the chemical.\n",
      "18 >> marking a historic shift to the left for Latin America's largest country.\n",
      "19 >> hours after Silva's Workers Party had declared their candidate the winner.\n",
      "20 >> Thousands of Silva supporters gathered in the streets of Sao Paulo and Rio de Janeiro, waving his party's red flag in celebration.\n"
     ]
    }
   ],
   "source": [
    "with open(train_path_en, \"r\") as f:\n",
    "    raw_en = f.read().splitlines()\n",
    "\n",
    "print(\"Data Size:\", len(raw_en))\n",
    "print(\"Example:\")\n",
    "\n",
    "ind = 0\n",
    "for sen in raw_en[0:20:1]: \n",
    "    ind += 1\n",
    "    print(f'{ind} >> {sen}')"
   ]
  },
  {
   "cell_type": "markdown",
   "metadata": {},
   "source": [
    "+ 길이는 동일하다. 아마 줄 별로 매칭된 데이터 셋인 모양이다.\n",
    "+ 대부분 영어 문장을 한국어로 번역한 문장으로 구성되어 있는 것 같다.\n",
    "  + 한국어 문장에 의역으로 대체한 부분이 좀 보이는 것 같다.\n",
    "  + 원래부터 한국어 문장이었다면 한국어 9번 같은 문장은 없었을 것 같다.\n",
    "  + 12번 문장은 번역하다가 문장의 뜻이 중의적으로 될 수 있게 단어 순서가 꼬여있다.\n",
    "  + 13번이나 18~20은 한국어를 영어로 바꾼 것 같다.\n",
    "+ 일부 문장을 보면 기사를 번역한 데이터 셋인것 같은데 모든 문장에 적절한 번역이 연결된 데이터 셋인지는 잘 모르겠다.\n",
    "  + 5번을 보면 한국어 문장에 영어 문장 에서는 언급되지 않은 말라카 해협이 나와 있다. 아마 영어 기사에서는 앞에서 언급했던 내용을 다르게 언급한 표현을 한국어 문장에서는 고유 명사로 살린 것 같다.\n",
    "  + 6번도 5번과 유사한데 괄호로 영어에서 아마 앞에서 언급한 terror를 대체하는 다른 표현을 사용하며 생략한 terror 라는 단어를 괄호로 살려주고 있다.\n",
    "  + 4번은 영어 문장에서 언급하지 않은 가격 정보를 언급하고 있다.\n",
    "  + 2번은 연결이 아예 잘못 된 것 같다.\n",
    "  + 18, 19번 문장은 영어 문장 앞부분이 잘려나간 것 같다.\n",
    "  + 16번도 번역이 잘 된 것인지는 의문이다.\n",
    "  + 그 밖에서 13번 같은 예도 있다.\n",
    "+ 특수 기호 처리가 애매할 수도 있을 것 같다.\n",
    "  + 아마 데이터 셋에는 없는 원래 기사 문장에 있었을 앞의 부분을 이어가는 표현을 한국어 에서는 그대로 살려오면서 (괄호) 형식으로 표현하는 데 이러한 데이터가 많다면 괄호 처리를 별도로 해줘야 하지 않을까 고민이 필요할 것 같다. 13번 문장과 같이 영문과 국문에서 괄호를 동일한 용법으로 사용하는 데이터도 있으니 지금 단계에서는 건드리지 않기로 한다.\n",
    "  + 11번 문장은 영어 문장에서는 200-600mg 으로 표현된 내용이 한국어문장에서는 200600밀리그램으로 정리 되어 있다. 처음 전처리 하면서 특수기호를 삭제하고 붙여버린게 아닐까 싶다. 한국어 문장에서는 보통 물결표를 많이 쓰니까 물결표가 삭제되고 붙은게 아닐까?"
   ]
  },
  {
   "cell_type": "markdown",
   "metadata": {},
   "source": [
    "---\n",
    "<a id = 'step_2'> </a>\n",
    "### Step 2. 데이터 정제"
   ]
  },
  {
   "cell_type": "code",
   "execution_count": 6,
   "metadata": {},
   "outputs": [
    {
     "data": {
      "text/plain": [
       "(list, list)"
      ]
     },
     "execution_count": 6,
     "metadata": {},
     "output_type": "execute_result"
    }
   ],
   "source": [
    "type(raw_ko), type(raw_en)"
   ]
  },
  {
   "cell_type": "code",
   "execution_count": 7,
   "metadata": {},
   "outputs": [
    {
     "data": {
      "text/plain": [
       "(False, False)"
      ]
     },
     "execution_count": 7,
     "metadata": {},
     "output_type": "execute_result"
    }
   ],
   "source": [
    "len(raw_ko) == len(set(raw_ko)), len(raw_en) == len(set(raw_en))"
   ]
  },
  {
   "cell_type": "markdown",
   "metadata": {},
   "source": [
    "+ 중복 데이터가 있다."
   ]
  },
  {
   "cell_type": "code",
   "execution_count": 8,
   "metadata": {},
   "outputs": [
    {
     "data": {
      "text/plain": [
       "(77591, 75598)"
      ]
     },
     "execution_count": 8,
     "metadata": {},
     "output_type": "execute_result"
    }
   ],
   "source": [
    "len(set(raw_ko)), len(set(raw_en))"
   ]
  },
  {
   "cell_type": "markdown",
   "metadata": {},
   "source": [
    "+ 한국어 문장과 영어 문장의 중복 수가 다르다."
   ]
  },
  {
   "cell_type": "code",
   "execution_count": 9,
   "metadata": {},
   "outputs": [
    {
     "data": {
      "text/html": [
       "<div>\n",
       "<style scoped>\n",
       "    .dataframe tbody tr th:only-of-type {\n",
       "        vertical-align: middle;\n",
       "    }\n",
       "\n",
       "    .dataframe tbody tr th {\n",
       "        vertical-align: top;\n",
       "    }\n",
       "\n",
       "    .dataframe thead th {\n",
       "        text-align: right;\n",
       "    }\n",
       "</style>\n",
       "<table border=\"1\" class=\"dataframe\">\n",
       "  <thead>\n",
       "    <tr style=\"text-align: right;\">\n",
       "      <th></th>\n",
       "      <th>kor</th>\n",
       "      <th>eng</th>\n",
       "    </tr>\n",
       "  </thead>\n",
       "  <tbody>\n",
       "    <tr>\n",
       "      <th>0</th>\n",
       "      <td>개인용 컴퓨터 사용의 상당 부분은 \"이것보다 뛰어날 수 있느냐?\"</td>\n",
       "      <td>Much of personal computing is about \"can you t...</td>\n",
       "    </tr>\n",
       "    <tr>\n",
       "      <th>1</th>\n",
       "      <td>모든 광마우스와 마찬가지 로 이 광마우스도 책상 위에 놓는 마우스 패드를 필요로 하...</td>\n",
       "      <td>so a mention a few weeks ago about a rechargea...</td>\n",
       "    </tr>\n",
       "    <tr>\n",
       "      <th>2</th>\n",
       "      <td>그러나 이것은 또한 책상도 필요로 하지 않는다.</td>\n",
       "      <td>Like all optical mice, But it also doesn't nee...</td>\n",
       "    </tr>\n",
       "  </tbody>\n",
       "</table>\n",
       "</div>"
      ],
      "text/plain": [
       "                                                 kor  \\\n",
       "0               개인용 컴퓨터 사용의 상당 부분은 \"이것보다 뛰어날 수 있느냐?\"   \n",
       "1  모든 광마우스와 마찬가지 로 이 광마우스도 책상 위에 놓는 마우스 패드를 필요로 하...   \n",
       "2                         그러나 이것은 또한 책상도 필요로 하지 않는다.   \n",
       "\n",
       "                                                 eng  \n",
       "0  Much of personal computing is about \"can you t...  \n",
       "1  so a mention a few weeks ago about a rechargea...  \n",
       "2  Like all optical mice, But it also doesn't nee...  "
      ]
     },
     "execution_count": 9,
     "metadata": {},
     "output_type": "execute_result"
    }
   ],
   "source": [
    "import pandas as pd\n",
    "raw_df = pd.DataFrame( {\n",
    "    'kor' : raw_ko,\n",
    "    'eng' : raw_en\n",
    "})\n",
    "raw_df.head(3)"
   ]
  },
  {
   "cell_type": "code",
   "execution_count": 10,
   "metadata": {},
   "outputs": [
    {
     "data": {
      "text/plain": [
       "15155"
      ]
     },
     "execution_count": 10,
     "metadata": {},
     "output_type": "execute_result"
    }
   ],
   "source": [
    "raw_df.duplicated().sum()"
   ]
  },
  {
   "cell_type": "code",
   "execution_count": 11,
   "metadata": {},
   "outputs": [
    {
     "data": {
      "text/plain": [
       "(16532, 18525)"
      ]
     },
     "execution_count": 11,
     "metadata": {},
     "output_type": "execute_result"
    }
   ],
   "source": [
    "len(raw_ko) - len(set(raw_ko)), len(raw_en) - len(set(raw_en))"
   ]
  },
  {
   "cell_type": "code",
   "execution_count": 12,
   "metadata": {},
   "outputs": [
    {
     "data": {
      "text/plain": [
       "(16532, 18525)"
      ]
     },
     "execution_count": 12,
     "metadata": {},
     "output_type": "execute_result"
    }
   ],
   "source": [
    "raw_df.duplicated(['kor']).sum(), raw_df.duplicated(['eng']).sum()"
   ]
  },
  {
   "cell_type": "markdown",
   "metadata": {},
   "source": [
    "+ 한국어 문장 각기, 영어 문장 각기 중복되는 수와 영어 문장과 한국어 문장이 동시에 중복되는 수가 다른 것 같다. \n",
    "  + 둘 다 중복되는 경우만 제거하기로 한다. "
   ]
  },
  {
   "cell_type": "code",
   "execution_count": 13,
   "metadata": {},
   "outputs": [
    {
     "data": {
      "text/html": [
       "<div>\n",
       "<style scoped>\n",
       "    .dataframe tbody tr th:only-of-type {\n",
       "        vertical-align: middle;\n",
       "    }\n",
       "\n",
       "    .dataframe tbody tr th {\n",
       "        vertical-align: top;\n",
       "    }\n",
       "\n",
       "    .dataframe thead th {\n",
       "        text-align: right;\n",
       "    }\n",
       "</style>\n",
       "<table border=\"1\" class=\"dataframe\">\n",
       "  <thead>\n",
       "    <tr style=\"text-align: right;\">\n",
       "      <th></th>\n",
       "      <th>kor</th>\n",
       "      <th>eng</th>\n",
       "    </tr>\n",
       "  </thead>\n",
       "  <tbody>\n",
       "    <tr>\n",
       "      <th>7789</th>\n",
       "      <td>이들 의원 중 1명은 빌 클린턴 전 대통령이 지난 몇 주간 부인 힐러리에게 오바마의...</td>\n",
       "      <td>One of the lawmakers said Clinton's husband, f...</td>\n",
       "    </tr>\n",
       "    <tr>\n",
       "      <th>16551</th>\n",
       "      <td>매케인은 지지자들에게 “오늘 경선에서 승리해 기쁘며 또한 여러분에게 고마움을 표하고...</td>\n",
       "      <td>\"I am very, very grateful and pleased to note ...</td>\n",
       "    </tr>\n",
       "    <tr>\n",
       "      <th>24494</th>\n",
       "      <td>‘키스의 기술(원제: The Art of Kissing )의 저자 마이클 크리스찬(...</td>\n",
       "      <td>Michael Christian, author of \"The Art of Kissi...</td>\n",
       "    </tr>\n",
       "    <tr>\n",
       "      <th>36281</th>\n",
       "      <td>그는 이어 \"25일 저녁 6시 30분까지 탈레반 수감자들이 석방되지 않으면 인질 일...</td>\n",
       "      <td>If by two o'clock today (0930 GMT), the Taliba...</td>\n",
       "    </tr>\n",
       "    <tr>\n",
       "      <th>49236</th>\n",
       "      <td>SEOUL, South Korea (AP)/송완영 (JOINS)</td>\n",
       "      <td>ÏÀ» Á¦°øÇÏÁö ¾Ê½À´Ï´Ù.</td>\n",
       "    </tr>\n",
       "  </tbody>\n",
       "</table>\n",
       "</div>"
      ],
      "text/plain": [
       "                                                     kor  \\\n",
       "7789   이들 의원 중 1명은 빌 클린턴 전 대통령이 지난 몇 주간 부인 힐러리에게 오바마의...   \n",
       "16551  매케인은 지지자들에게 “오늘 경선에서 승리해 기쁘며 또한 여러분에게 고마움을 표하고...   \n",
       "24494  ‘키스의 기술(원제: The Art of Kissing )의 저자 마이클 크리스찬(...   \n",
       "36281  그는 이어 \"25일 저녁 6시 30분까지 탈레반 수감자들이 석방되지 않으면 인질 일...   \n",
       "49236                SEOUL, South Korea (AP)/송완영 (JOINS)   \n",
       "\n",
       "                                                     eng  \n",
       "7789   One of the lawmakers said Clinton's husband, f...  \n",
       "16551  \"I am very, very grateful and pleased to note ...  \n",
       "24494  Michael Christian, author of \"The Art of Kissi...  \n",
       "36281  If by two o'clock today (0930 GMT), the Taliba...  \n",
       "49236                             ÏÀ» Á¦°øÇÏÁö ¾Ê½À´Ï´Ù.  "
      ]
     },
     "execution_count": 13,
     "metadata": {},
     "output_type": "execute_result"
    }
   ],
   "source": [
    "cond = raw_df.duplicated()\n",
    "raw_df[cond][:100:20]"
   ]
  },
  {
   "cell_type": "markdown",
   "metadata": {},
   "source": [
    "+ 인덱스 49236을 통해 한국어 문장을 영어로 바꾼 데이터도 있다는 것을 확인하였다."
   ]
  },
  {
   "cell_type": "code",
   "execution_count": 14,
   "metadata": {},
   "outputs": [
    {
     "name": "stdout",
     "output_type": "stream",
     "text": [
      "94123\n",
      "78968\n"
     ]
    }
   ],
   "source": [
    "print(len(raw_df))\n",
    "raw_df.drop_duplicates(inplace=True)\n",
    "print(len(raw_df))"
   ]
  },
  {
   "cell_type": "code",
   "execution_count": 15,
   "metadata": {},
   "outputs": [
    {
     "data": {
      "text/plain": [
       "15155"
      ]
     },
     "execution_count": 15,
     "metadata": {},
     "output_type": "execute_result"
    }
   ],
   "source": [
    "94123 - 78968"
   ]
  },
  {
   "cell_type": "code",
   "execution_count": 16,
   "metadata": {},
   "outputs": [],
   "source": [
    "from konlpy.tag import Mecab\n",
    "\n",
    "mecab = Mecab()\n",
    "\n",
    "def preprocess_kor(sentence):\n",
    "    sentence = sentence.strip()\n",
    "    \n",
    "    sentence = re.sub(r\"([?.!,])\", r\" \\1 \", sentence)    # ?.!, 가 나오면 앞에 한칸 띄어주기\n",
    "    sentence = re.sub(r'[\" \"]+', \" \", sentence)    # 띄어쓰기 여러개가 되어 있으면 하나로 줄이기\n",
    "    sentence = re.sub(r\"[^ㄱ-ㅎ|가-힣?.!,]+\", \" \", sentence).strip()    # 한글 ?.!, 문자 부호가 아니면 빈칸으로 대체\n",
    "    sentence = mecab.morphs(sentence)    # mecab() 이용해 문장 분절\n",
    "    \n",
    "    return sentence"
   ]
  },
  {
   "cell_type": "code",
   "execution_count": 17,
   "metadata": {},
   "outputs": [],
   "source": [
    "def preprocess_eng(sentence):\n",
    "    sentence = sentence.strip()\n",
    "    \n",
    "    sentence = re.sub(r\"([?.!,])\", r\" \\1 \", sentence)    # ?.!, 가 나오면 앞에 한칸 띄어주기\n",
    "    sentence = re.sub(r'[\" \"]+', \" \", sentence)    # 띄어쓰기 여러개가 되어 있으면 하나로 줄이기\n",
    "    sentence = re.sub(r\"[^a-zA-Z?.!,]+\", \" \", sentence).strip()    # 알파벳 ?.!, 문자부호가 아니면 빈칸으로 대체\n",
    "    \n",
    "    sentence = '<start> ' + sentence    # '<start> ' 뒤에 sentence 붙이기\n",
    "    sentence += ' <end>'    # sentence 뒤에 ' <end>' 붙이기\n",
    "    sentence = sentence.split()    # 띄어쓰기 기준으로 문장 나누기\n",
    "    \n",
    "    return sentence"
   ]
  },
  {
   "cell_type": "code",
   "execution_count": 18,
   "metadata": {},
   "outputs": [],
   "source": [
    "raw_df['cleaned_ko'] = raw_df['kor'].map(preprocess_kor)\n",
    "raw_df['cleaned_en'] = raw_df['eng'].map(preprocess_eng)"
   ]
  },
  {
   "cell_type": "code",
   "execution_count": 19,
   "metadata": {},
   "outputs": [
    {
     "data": {
      "text/plain": [
       "['개인',\n",
       " '용',\n",
       " '컴퓨터',\n",
       " '사용',\n",
       " '의',\n",
       " '상당',\n",
       " '부분',\n",
       " '은',\n",
       " '이것',\n",
       " '보다',\n",
       " '뛰어날',\n",
       " '수',\n",
       " '있',\n",
       " '느냐',\n",
       " '?']"
      ]
     },
     "execution_count": 19,
     "metadata": {},
     "output_type": "execute_result"
    }
   ],
   "source": [
    "raw_df.iloc[0,2]"
   ]
  },
  {
   "cell_type": "code",
   "execution_count": 20,
   "metadata": {},
   "outputs": [
    {
     "data": {
      "text/plain": [
       "['<start>',\n",
       " 'Much',\n",
       " 'of',\n",
       " 'personal',\n",
       " 'computing',\n",
       " 'is',\n",
       " 'about',\n",
       " 'can',\n",
       " 'you',\n",
       " 'top',\n",
       " 'this',\n",
       " '?',\n",
       " '<end>']"
      ]
     },
     "execution_count": 20,
     "metadata": {},
     "output_type": "execute_result"
    }
   ],
   "source": [
    "raw_df.iloc[0,3]"
   ]
  },
  {
   "cell_type": "code",
   "execution_count": 21,
   "metadata": {},
   "outputs": [
    {
     "data": {
      "text/html": [
       "<div>\n",
       "<style scoped>\n",
       "    .dataframe tbody tr th:only-of-type {\n",
       "        vertical-align: middle;\n",
       "    }\n",
       "\n",
       "    .dataframe tbody tr th {\n",
       "        vertical-align: top;\n",
       "    }\n",
       "\n",
       "    .dataframe thead th {\n",
       "        text-align: right;\n",
       "    }\n",
       "</style>\n",
       "<table border=\"1\" class=\"dataframe\">\n",
       "  <thead>\n",
       "    <tr style=\"text-align: right;\">\n",
       "      <th></th>\n",
       "      <th>cleaned_ko</th>\n",
       "      <th>cleaned_en</th>\n",
       "    </tr>\n",
       "  </thead>\n",
       "  <tbody>\n",
       "    <tr>\n",
       "      <th>0</th>\n",
       "      <td>[개인, 용, 컴퓨터, 사용, 의, 상당, 부분, 은, 이것, 보다, 뛰어날, 수,...</td>\n",
       "      <td>[&lt;start&gt;, Much, of, personal, computing, is, a...</td>\n",
       "    </tr>\n",
       "    <tr>\n",
       "      <th>1</th>\n",
       "      <td>[모든, 광, 마우스, 와, 마찬가지, 로, 이, 광, 마우스, 도, 책상, 위, ...</td>\n",
       "      <td>[&lt;start&gt;, so, a, mention, a, few, weeks, ago, ...</td>\n",
       "    </tr>\n",
       "    <tr>\n",
       "      <th>2</th>\n",
       "      <td>[그러나, 이것, 은, 또한, 책상, 도, 필요, 로, 하, 지, 않, 는다, .]</td>\n",
       "      <td>[&lt;start&gt;, Like, all, optical, mice, ,, But, it...</td>\n",
       "    </tr>\n",
       "    <tr>\n",
       "      <th>8</th>\n",
       "      <td>[결정, 적, 인, 순간, 에, 그, 들, 의, 능력, 을, 증가, 시켜, 줄, 그...</td>\n",
       "      <td>[&lt;start&gt;, Something, that, will, boost, their,...</td>\n",
       "    </tr>\n",
       "    <tr>\n",
       "      <th>9</th>\n",
       "      <td>[연구가, 들, 이, 이미, 커피, 대체, 품, 으로서, 음식, 대용, 과자, 나,...</td>\n",
       "      <td>[&lt;start&gt;, Researchers, are, already, exploring...</td>\n",
       "    </tr>\n",
       "    <tr>\n",
       "      <th>...</th>\n",
       "      <td>...</td>\n",
       "      <td>...</td>\n",
       "    </tr>\n",
       "    <tr>\n",
       "      <th>94118</th>\n",
       "      <td>[우리, 는, 월, 일, 김승연, 회장, 과, 그, 의, 아들, 이, 보복, 폭행,...</td>\n",
       "      <td>[&lt;start&gt;, We, are, hoping, to, seize, material...</td>\n",
       "    </tr>\n",
       "    <tr>\n",
       "      <th>94119</th>\n",
       "      <td>[월요일, 술집, 종업원, 명, 은, 김, 회장, 과, 아들, 에게, 폭행, 을, ...</td>\n",
       "      <td>[&lt;start&gt;, On, Monday, ,, police, secured, stat...</td>\n",
       "    </tr>\n",
       "    <tr>\n",
       "      <th>94120</th>\n",
       "      <td>[그러나, 불, 충분, 한, 증거, 확보, 로, 수사, 에, 어려움, 이, 있, 다...</td>\n",
       "      <td>[&lt;start&gt;, But, the, lack, of, material, eviden...</td>\n",
       "    </tr>\n",
       "    <tr>\n",
       "      <th>94121</th>\n",
       "      <td>[김, 회장, 과, 그, 의, 아들, 은, 보복, 폭행, 혐의, 를, 강력히, 부인...</td>\n",
       "      <td>[&lt;start&gt;, Kim, and, his, son, both, deny, the,...</td>\n",
       "    </tr>\n",
       "    <tr>\n",
       "      <th>94122</th>\n",
       "      <td>[경찰, 은, 김, 회장, 의, 집무실, 에서, 추가, 증거, 를, 찾, 은, 이후...</td>\n",
       "      <td>[&lt;start&gt;, Police, are, planning, to, seek, arr...</td>\n",
       "    </tr>\n",
       "  </tbody>\n",
       "</table>\n",
       "<p>63139 rows × 2 columns</p>\n",
       "</div>"
      ],
      "text/plain": [
       "                                              cleaned_ko  \\\n",
       "0      [개인, 용, 컴퓨터, 사용, 의, 상당, 부분, 은, 이것, 보다, 뛰어날, 수,...   \n",
       "1      [모든, 광, 마우스, 와, 마찬가지, 로, 이, 광, 마우스, 도, 책상, 위, ...   \n",
       "2         [그러나, 이것, 은, 또한, 책상, 도, 필요, 로, 하, 지, 않, 는다, .]   \n",
       "8      [결정, 적, 인, 순간, 에, 그, 들, 의, 능력, 을, 증가, 시켜, 줄, 그...   \n",
       "9      [연구가, 들, 이, 이미, 커피, 대체, 품, 으로서, 음식, 대용, 과자, 나,...   \n",
       "...                                                  ...   \n",
       "94118  [우리, 는, 월, 일, 김승연, 회장, 과, 그, 의, 아들, 이, 보복, 폭행,...   \n",
       "94119  [월요일, 술집, 종업원, 명, 은, 김, 회장, 과, 아들, 에게, 폭행, 을, ...   \n",
       "94120  [그러나, 불, 충분, 한, 증거, 확보, 로, 수사, 에, 어려움, 이, 있, 다...   \n",
       "94121  [김, 회장, 과, 그, 의, 아들, 은, 보복, 폭행, 혐의, 를, 강력히, 부인...   \n",
       "94122  [경찰, 은, 김, 회장, 의, 집무실, 에서, 추가, 증거, 를, 찾, 은, 이후...   \n",
       "\n",
       "                                              cleaned_en  \n",
       "0      [<start>, Much, of, personal, computing, is, a...  \n",
       "1      [<start>, so, a, mention, a, few, weeks, ago, ...  \n",
       "2      [<start>, Like, all, optical, mice, ,, But, it...  \n",
       "8      [<start>, Something, that, will, boost, their,...  \n",
       "9      [<start>, Researchers, are, already, exploring...  \n",
       "...                                                  ...  \n",
       "94118  [<start>, We, are, hoping, to, seize, material...  \n",
       "94119  [<start>, On, Monday, ,, police, secured, stat...  \n",
       "94120  [<start>, But, the, lack, of, material, eviden...  \n",
       "94121  [<start>, Kim, and, his, son, both, deny, the,...  \n",
       "94122  [<start>, Police, are, planning, to, seek, arr...  \n",
       "\n",
       "[63139 rows x 2 columns]"
      ]
     },
     "execution_count": 21,
     "metadata": {},
     "output_type": "execute_result"
    }
   ],
   "source": [
    "# 40 이하 길이인 데이터만 남기기\n",
    "cleaned_corpus_df = raw_df[raw_df['cleaned_ko'].map(lambda x: len(x) < 41) & raw_df['cleaned_en'].map(lambda x: len(x) < 41)].iloc[:,2:4]\n",
    "cleaned_corpus_df"
   ]
  },
  {
   "cell_type": "markdown",
   "metadata": {},
   "source": [
    "+ 한국어, 영어 모두 길이 40개 이하의 문장들만 남겨서 63139의 문장 묶음이 남았다."
   ]
  },
  {
   "cell_type": "markdown",
   "metadata": {},
   "source": [
    "---\n",
    "<a id = 'step_3'> </a>\n",
    "### Step 3. 데이터 토큰화"
   ]
  },
  {
   "cell_type": "code",
   "execution_count": 22,
   "metadata": {},
   "outputs": [
    {
     "name": "stdout",
     "output_type": "stream",
     "text": [
      "한국어 문장 : ['개인', '용', '컴퓨터', '사용', '의', '상당', '부분', '은', '이것', '보다', '뛰어날', '수', '있', '느냐', '?']\n",
      "영어 문장 : ['<start>', 'Much', 'of', 'personal', 'computing', 'is', 'about', 'can', 'you', 'top', 'this', '?', '<end>']\n"
     ]
    }
   ],
   "source": [
    "# 리스트로 옮기기\n",
    "corpus_ko = list(cleaned_corpus_df['cleaned_ko'])\n",
    "corpus_en = list(cleaned_corpus_df['cleaned_en'])\n",
    "print(f'한국어 문장 : {corpus_ko[0]}')\n",
    "print(f'영어 문장 : {corpus_en[0]}')"
   ]
  },
  {
   "cell_type": "code",
   "execution_count": 23,
   "metadata": {},
   "outputs": [],
   "source": [
    "# 데이터 지우기\n",
    "del raw_df\n",
    "del cleaned_corpus_df "
   ]
  },
  {
   "cell_type": "code",
   "execution_count": 24,
   "metadata": {},
   "outputs": [],
   "source": [
    "# 정제된 텍스트를 아래 tokenize() 함수를 사용해 토큰화하고 텐서로 변환\n",
    "def tokenize(corpus):\n",
    "    tokenizer = tf.keras.preprocessing.text.Tokenizer(filters='')\n",
    "    tokenizer.fit_on_texts(corpus)\n",
    "\n",
    "    tensor = tokenizer.texts_to_sequences(corpus)\n",
    "\n",
    "    tensor = tf.keras.preprocessing.sequence.pad_sequences(tensor, padding='post')\n",
    "\n",
    "    return tensor, tokenizer"
   ]
  },
  {
   "cell_type": "code",
   "execution_count": 25,
   "metadata": {},
   "outputs": [
    {
     "name": "stdout",
     "output_type": "stream",
     "text": [
      "Korean Vocab Size: 37077\n",
      "English Vocab Size: 38540\n"
     ]
    }
   ],
   "source": [
    "# 토큰화하기\n",
    "enc_tensor, enc_tokenizer = tokenize(corpus_ko)\n",
    "dec_tensor, dec_tokenizer = tokenize(corpus_en)\n",
    "\n",
    "print(\"Korean Vocab Size:\", len(enc_tokenizer.index_word))\n",
    "print(\"English Vocab Size:\", len(dec_tokenizer.index_word))"
   ]
  },
  {
   "cell_type": "markdown",
   "metadata": {},
   "source": [
    "---\n",
    "<a id = 'step_4'> </a>\n",
    "### Step 4. 모델 설계"
   ]
  },
  {
   "cell_type": "code",
   "execution_count": 27,
   "metadata": {},
   "outputs": [],
   "source": [
    "class BahdanauAttention(tf.keras.layers.Layer):\n",
    "    def __init__(self, units):\n",
    "        super(BahdanauAttention, self).__init__()\n",
    "        self.w_dec = tf.keras.layers.Dense(units)\n",
    "        self.w_enc = tf.keras.layers.Dense(units)\n",
    "        self.w_com = tf.keras.layers.Dense(1)\n",
    "    \n",
    "    def call(self, h_enc, h_dec):\n",
    "        # h_enc shape: [batch x length x units]\n",
    "        # h_dec shape: [batch x units]\n",
    "\n",
    "        h_enc = self.w_enc(h_enc)\n",
    "        h_dec = tf.expand_dims(h_dec, 1)\n",
    "        h_dec = self.w_dec(h_dec)\n",
    "\n",
    "        score = self.w_com(tf.nn.tanh(h_dec + h_enc))\n",
    "        \n",
    "        attn = tf.nn.softmax(score, axis=1)\n",
    "\n",
    "        context_vec = attn * h_enc\n",
    "        context_vec = tf.reduce_sum(context_vec, axis=1)\n",
    "\n",
    "        return context_vec, attn"
   ]
  },
  {
   "cell_type": "code",
   "execution_count": 28,
   "metadata": {},
   "outputs": [],
   "source": [
    "class Encoder(tf.keras.Model):\n",
    "    def __init__(self, vocab_size, embedding_dim, enc_units):\n",
    "        super(Encoder, self).__init__()\n",
    "\n",
    "        self.enc_units = enc_units\n",
    "        self.embedding = tf.keras.layers.Embedding(vocab_size, embedding_dim)\n",
    "        self.gru = tf.keras.layers.GRU(enc_units,\n",
    "                                       return_sequences=True)\n",
    "\n",
    "    def call(self, x):\n",
    "        out = self.embedding(x)\n",
    "        out = self.gru(out)\n",
    "\n",
    "        return out"
   ]
  },
  {
   "cell_type": "code",
   "execution_count": 29,
   "metadata": {},
   "outputs": [],
   "source": [
    "class Decoder(tf.keras.Model):\n",
    "    def __init__(self, vocab_size, embedding_dim, dec_units):\n",
    "        super(Decoder, self).__init__()\n",
    "        self.dec_units = dec_units\n",
    "        self.embedding = tf.keras.layers.Embedding(vocab_size, embedding_dim)\n",
    "        self.gru = tf.keras.layers.GRU(dec_units,\n",
    "                                       return_sequences=True,\n",
    "                                       return_state=True)\n",
    "        self.fc = tf.keras.layers.Dense(vocab_size)\n",
    "\n",
    "        self.attention = BahdanauAttention(self.dec_units)\n",
    "\n",
    "    def call(self, x, h_dec, enc_out):\n",
    "        context_vec, attn = self.attention(enc_out, h_dec)\n",
    "\n",
    "        out = self.embedding(x)\n",
    "        out = tf.concat([tf.expand_dims(context_vec, 1), out], axis=-1)\n",
    "\n",
    "        out, h_dec = self.gru(out)\n",
    "        out = tf.reshape(out, (-1, out.shape[2]))\n",
    "        out = self.fc(out)\n",
    "\n",
    "        return out, h_dec, attn"
   ]
  },
  {
   "cell_type": "code",
   "execution_count": 30,
   "metadata": {},
   "outputs": [
    {
     "name": "stdout",
     "output_type": "stream",
     "text": [
      "Encoder Output: (64, 40, 512)\n",
      "Decoder Output: (64, 38541)\n",
      "Decoder Hidden State: (64, 512)\n",
      "Attention: (64, 40, 1)\n"
     ]
    }
   ],
   "source": [
    "BATCH_SIZE     = 64\n",
    "SRC_VOCAB_SIZE = len(enc_tokenizer.index_word) + 1 \n",
    "TGT_VOCAB_SIZE = len(dec_tokenizer.index_word) + 1\n",
    "\n",
    "units         = 512\n",
    "embedding_dim = 512\n",
    "\n",
    "encoder = Encoder(SRC_VOCAB_SIZE, embedding_dim, units)\n",
    "decoder = Decoder(TGT_VOCAB_SIZE, embedding_dim, units)\n",
    "\n",
    "# sample input\n",
    "sequence_len = 40\n",
    "\n",
    "sample_enc = tf.random.uniform((BATCH_SIZE, sequence_len))\n",
    "sample_output = encoder(sample_enc)\n",
    "\n",
    "print ('Encoder Output:', sample_output.shape)\n",
    "\n",
    "sample_state = tf.random.uniform((BATCH_SIZE, units))\n",
    "\n",
    "sample_logits, h_dec, attn = decoder(tf.random.uniform((BATCH_SIZE, 1)),\n",
    "                                     sample_state, sample_output)\n",
    "\n",
    "print ('Decoder Output:', sample_logits.shape)\n",
    "print ('Decoder Hidden State:', h_dec.shape)\n",
    "print ('Attention:', attn.shape)"
   ]
  },
  {
   "cell_type": "code",
   "execution_count": 31,
   "metadata": {},
   "outputs": [],
   "source": [
    "optimizer = tf.keras.optimizers.Adam()\n",
    "loss_object = tf.keras.losses.SparseCategoricalCrossentropy(from_logits=True, reduction='none')\n",
    "\n",
    "def loss_function(real, pred):\n",
    "    mask = tf.math.logical_not(tf.math.equal(real, 0)) # math.equal ; real 값을 0과 비교해 같으면 True, 다르면 False. math.logical_not ; bool값의 부정 True면 False, False면 True  \n",
    "    loss = loss_object(real, pred)    # 타겟과 예측값 간의 로스 계산\n",
    "    \n",
    "    mask = tf.cast(mask, dtype=loss.dtype)    # bool 값을 loss 데이터 형태와 같게 변환 False는 0.으로 변화할 듯.\n",
    "    loss *= mask    # real 값이 0이면 mask 값이 False가 되고 cast에서 0이 되어 위에서 계산한 loss와 0을 곱해 최종 loss를 0으로 바꾼다. 아니면 1을 곱해 그대로 반환할 듯.\n",
    "    \n",
    "    return tf.reduce_mean(loss)    # 차원 축소하여 계산한 평균값"
   ]
  },
  {
   "cell_type": "code",
   "execution_count": 32,
   "metadata": {},
   "outputs": [],
   "source": [
    "@tf.function    # 학습 외의 텐서플로우 계산을 gpu에서 할 수 있게 표시해 둔다.\n",
    "def train_step(src, tgt, encoder, decoder, optimizer, dec_tok):\n",
    "    bsz = src.shape[0]\n",
    "    loss = 0\n",
    "\n",
    "    with tf.GradientTape() as tape:    # 모든 계산 값을 저장해 둔다.\n",
    "        enc_out = encoder(src)\n",
    "        h_dec = enc_out[:, -1]\n",
    "        \n",
    "        dec_src = tf.expand_dims([dec_tok.word_index['<start>']] * bsz, 1)\n",
    "\n",
    "        for t in range(1, tgt.shape[1]):\n",
    "            pred, h_dec, _ = decoder(dec_src, h_dec, enc_out)\n",
    "\n",
    "            loss += loss_function(tgt[:, t], pred)\n",
    "            dec_src = tf.expand_dims(tgt[:, t], 1)\n",
    "        \n",
    "    batch_loss = (loss / int(tgt.shape[1]))\n",
    "\n",
    "    variables = encoder.trainable_variables + decoder.trainable_variables\n",
    "    gradients = tape.gradient(loss, variables)\n",
    "    optimizer.apply_gradients(zip(gradients, variables))\n",
    "    \n",
    "    return batch_loss"
   ]
  },
  {
   "cell_type": "markdown",
   "metadata": {},
   "source": [
    "---\n",
    "<a id = 'step_5'></a>\n",
    "### Step 5. 훈련하기"
   ]
  },
  {
   "cell_type": "code",
   "execution_count": 36,
   "metadata": {},
   "outputs": [
    {
     "name": "stderr",
     "output_type": "stream",
     "text": [
      "Epoch  1: 100%|██████████| 987/987 [07:13<00:00,  2.28it/s, Loss 4.0359]  \n",
      "Epoch  2: 100%|██████████| 987/987 [06:17<00:00,  2.61it/s, Loss 3.9958]\n",
      "Epoch  3: 100%|██████████| 987/987 [06:26<00:00,  2.55it/s, Loss 3.9971]\n",
      "Epoch  4: 100%|██████████| 987/987 [06:29<00:00,  2.53it/s, Loss 3.9965]\n",
      "Epoch  5: 100%|██████████| 987/987 [06:31<00:00,  2.52it/s, Loss 3.9973]\n",
      "Epoch  6: 100%|██████████| 987/987 [06:29<00:00,  2.53it/s, Loss 3.9971]\n",
      "Epoch  7: 100%|██████████| 987/987 [06:24<00:00,  2.57it/s, Loss 3.9965]\n",
      "Epoch  8: 100%|██████████| 987/987 [06:24<00:00,  2.57it/s, Loss 3.9973]\n",
      "Epoch  9: 100%|██████████| 987/987 [06:22<00:00,  2.58it/s, Loss 3.9970]\n",
      "Epoch 10: 100%|██████████| 987/987 [06:20<00:00,  2.59it/s, Loss 3.9975]\n"
     ]
    }
   ],
   "source": [
    "from tqdm import tqdm    # tqdm\n",
    "import random\n",
    "\n",
    "\n",
    "EPOCHS = 10\n",
    "\n",
    "for epoch in range(EPOCHS):\n",
    "    total_loss = 0\n",
    "    \n",
    "    idx_list = list(range(0, enc_tensor.shape[0], BATCH_SIZE))\n",
    "    random.shuffle(idx_list)\n",
    "    t = tqdm(idx_list)    # tqdm\n",
    "\n",
    "    for (batch, idx) in enumerate(t):\n",
    "        batch_loss = train_step(enc_tensor[idx:idx+BATCH_SIZE],\n",
    "                                dec_tensor[idx:idx+BATCH_SIZE],\n",
    "                                encoder,\n",
    "                                decoder,\n",
    "                                optimizer,\n",
    "                                dec_tokenizer)\n",
    "    \n",
    "        total_loss += batch_loss\n",
    "        \n",
    "        t.set_description_str('Epoch %2d' % (epoch + 1))    # tqdm\n",
    "        t.set_postfix_str('Loss %.4f' % (total_loss.numpy() / (batch + 1)))    # tqdm"
   ]
  },
  {
   "cell_type": "code",
   "execution_count": 89,
   "metadata": {},
   "outputs": [],
   "source": [
    "mecab = Mecab()\n",
    "\n",
    "def preprocess_sentence(sentence):\n",
    "    sentence = re.sub(r\"([?.!,])\", r\" \\1 \", sentence)\n",
    "    sentence = re.sub(r'[\" \"]+', \" \", sentence)\n",
    "    sentence = re.sub(r\"[^ㄱ-ㅎ|가-힣?.!,]+\", \" \", sentence)\n",
    "    sentence = mecab.morphs(sentence)\n",
    "\n",
    "    return sentence\n",
    "    \n",
    "\n",
    "def evaluate(sentence, encoder, decoder):\n",
    "    attention = np.zeros((dec_tensor.shape[-1], enc_tensor.shape[-1]))\n",
    "    \n",
    "    sentence = preprocess_sentence(sentence)\n",
    "    inputs = enc_tokenizer.texts_to_sequences([sentence])\n",
    "    inputs = tf.keras.preprocessing.sequence.pad_sequences(inputs,\n",
    "                                                           maxlen=enc_tensor.shape[-1],\n",
    "                                                           padding='post')\n",
    "\n",
    "    result = ''\n",
    "\n",
    "    enc_out = encoder(inputs)\n",
    "\n",
    "    dec_hidden = enc_out[:, -1]\n",
    "    dec_input = tf.expand_dims([dec_tokenizer.word_index['<start>']], 0)\n",
    "\n",
    "    for t in range(dec_tensor.shape[-1]):\n",
    "        predictions, dec_hidden, attention_weights = decoder(dec_input,\n",
    "                                                             dec_hidden,\n",
    "                                                             enc_out)\n",
    "\n",
    "        attention_weights = tf.reshape(attention_weights, (-1, ))\n",
    "        attention[t] = attention_weights.numpy()\n",
    "\n",
    "        predicted_id = tf.argmax(tf.math.softmax(predictions, axis=-1)[0]).numpy()\n",
    "\n",
    "        result += dec_tokenizer.index_word[predicted_id] + ' '\n",
    "\n",
    "        if dec_tokenizer.index_word[predicted_id] == '<end>':\n",
    "            return result, sentence, attention\n",
    "\n",
    "        dec_input = tf.expand_dims([predicted_id], 0)\n",
    "\n",
    "    return result, sentence, attention\n",
    "\n",
    "\n",
    "def plot_attention(attention, sentence, predicted_sentence):\n",
    "    fig = plt.figure(figsize=(10,10))\n",
    "    ax = fig.add_subplot(1, 1, 1)\n",
    "    ax.matshow(attention, cmap='viridis')\n",
    "\n",
    "    fontdict = {'fontsize': 14}\n",
    "\n",
    "    ax.set_xticklabels([''] + sentence, fontdict=fontdict, rotation=90)\n",
    "    ax.set_yticklabels([''] + predicted_sentence, fontdict=fontdict)\n",
    "\n",
    "    ax.xaxis.set_major_locator(ticker.MultipleLocator(1))\n",
    "    ax.yaxis.set_major_locator(ticker.MultipleLocator(1))\n",
    "\n",
    "    plt.show()\n",
    "\n",
    "\n",
    "def translate(sentence, encoder, decoder):\n",
    "    result, sentence, attention = evaluate(sentence, encoder, decoder)\n",
    "\n",
    "    print('Input: %s' % (sentence))\n",
    "    print('Predicted translation: {}'.format(result))\n",
    "    \n",
    "    attention = attention[:len(result), :len(sentence)]\n",
    "    plot_attention(attention, sentence, result.split(' '))\n"
   ]
  },
  {
   "cell_type": "markdown",
   "metadata": {},
   "source": [
    "> ## 예문 ##\n",
    "K1) 오바마는 대통령이다.   \n",
    "K2) 시민들은 도시 속에 산다.   \n",
    "K3) 커피는 필요 없다.   \n",
    "K4) 일곱 명의 사망자가 발생했다.   "
   ]
  },
  {
   "cell_type": "code",
   "execution_count": 90,
   "metadata": {},
   "outputs": [
    {
     "name": "stdout",
     "output_type": "stream",
     "text": [
      "Input: ['오바마', '는', '대통령', '이', '다', '.']\n",
      "Predicted translation: the the the the the the the the the the the the the the the the the the the the the the the the the the the the the the the the the the the the the the the the \n"
     ]
    },
    {
     "name": "stderr",
     "output_type": "stream",
     "text": [
      "/home/ssac7/anaconda3/envs/aiffel/lib/python3.7/site-packages/ipykernel_launcher.py:55: UserWarning: FixedFormatter should only be used together with FixedLocator\n",
      "/home/ssac7/anaconda3/envs/aiffel/lib/python3.7/site-packages/ipykernel_launcher.py:56: UserWarning: FixedFormatter should only be used together with FixedLocator\n"
     ]
    },
    {
     "data": {
      "image/png": "[encoded data removed]",
      "text/plain": [
       "<Figure size 720x720 with 1 Axes>"
      ]
     },
     "metadata": {
      "image/png": {
       "height": 606,
       "width": 124
      },
      "needs_background": "light"
     },
     "output_type": "display_data"
    }
   ],
   "source": [
    "translate(\"오바마는 대통령이다.\", encoder, decoder)"
   ]
  },
  {
   "cell_type": "code",
   "execution_count": 61,
   "metadata": {},
   "outputs": [
    {
     "name": "stdout",
     "output_type": "stream",
     "text": [
      "Input: ['시민', '들', '은', '도시', '속', '에', '산다', '.']\n",
      "Predicted translation: the the the the the the the the the the the the the the the the the the the the the the the the the the the the the the the the the the the the the the the the \n"
     ]
    },
    {
     "name": "stderr",
     "output_type": "stream",
     "text": [
      "/home/ssac7/anaconda3/envs/aiffel/lib/python3.7/site-packages/ipykernel_launcher.py:54: UserWarning: FixedFormatter should only be used together with FixedLocator\n",
      "/home/ssac7/anaconda3/envs/aiffel/lib/python3.7/site-packages/ipykernel_launcher.py:55: UserWarning: FixedFormatter should only be used together with FixedLocator\n"
     ]
    },
    {
     "data": {
      "image/png": "[encoded data removed]",
      "text/plain": [
       "<Figure size 720x720 with 1 Axes>"
      ]
     },
     "metadata": {
      "image/png": {
       "height": 593,
       "width": 151
      },
      "needs_background": "light"
     },
     "output_type": "display_data"
    }
   ],
   "source": [
    "translate(\"시민들은 도시 속에 산다.\", encoder, decoder)"
   ]
  },
  {
   "cell_type": "code",
   "execution_count": 62,
   "metadata": {},
   "outputs": [
    {
     "name": "stdout",
     "output_type": "stream",
     "text": [
      "Input: ['커피', '는', '필요', '없', '다', '.']\n",
      "Predicted translation: the the the the the the the the the the the the the the the the the the the the the the the the the the the the the the the the the the the the the the the the \n"
     ]
    },
    {
     "name": "stderr",
     "output_type": "stream",
     "text": [
      "/home/ssac7/anaconda3/envs/aiffel/lib/python3.7/site-packages/ipykernel_launcher.py:54: UserWarning: FixedFormatter should only be used together with FixedLocator\n",
      "/home/ssac7/anaconda3/envs/aiffel/lib/python3.7/site-packages/ipykernel_launcher.py:55: UserWarning: FixedFormatter should only be used together with FixedLocator\n"
     ]
    },
    {
     "data": {
      "image/png": "[encoded data removed]",
      "text/plain": [
       "<Figure size 720x720 with 1 Axes>"
      ]
     },
     "metadata": {
      "image/png": {
       "height": 593,
       "width": 124
      },
      "needs_background": "light"
     },
     "output_type": "display_data"
    }
   ],
   "source": [
    "translate(\"커피는 필요 없다.\", encoder, decoder)"
   ]
  },
  {
   "cell_type": "code",
   "execution_count": 63,
   "metadata": {},
   "outputs": [
    {
     "name": "stdout",
     "output_type": "stream",
     "text": [
      "Input: ['일곱', '명', '의', '사망자', '가', '발생', '했', '다', '.']\n",
      "Predicted translation: the the the the the the the the the the the the the the the the the the the the the the the the the the the the the the the the the the the the the the the the \n"
     ]
    },
    {
     "name": "stderr",
     "output_type": "stream",
     "text": [
      "/home/ssac7/anaconda3/envs/aiffel/lib/python3.7/site-packages/ipykernel_launcher.py:54: UserWarning: FixedFormatter should only be used together with FixedLocator\n",
      "/home/ssac7/anaconda3/envs/aiffel/lib/python3.7/site-packages/ipykernel_launcher.py:55: UserWarning: FixedFormatter should only be used together with FixedLocator\n"
     ]
    },
    {
     "data": {
      "image/png": "[encoded data removed]",
      "text/plain": [
       "<Figure size 720x720 with 1 Axes>"
      ]
     },
     "metadata": {
      "image/png": {
       "height": 606,
       "width": 165
      },
      "needs_background": "light"
     },
     "output_type": "display_data"
    }
   ],
   "source": [
    "translate(\"일곱 명의 사망자가 발생했다.\", encoder, decoder)c"
   ]
  },
  {
   "cell_type": "markdown",
   "metadata": {},
   "source": [
    "---\n",
    "<a id = 'pensamientos'></a>\n",
    "\n",
    "### 생각해본 점\n",
    "+ loss가 잘 감소하지 않는다.\n",
    "  + 초반에도 loss감소가 잘 이루어 지지 않는 것을 보면 언더피팅인 것 같다. 데이터를 추가로 수집할 수 없으므로 모델의 크기를 줄여보자\n",
    "    + 임베딩 벡터의 차원을 줄이고 학습 unit의 수도 줄여보자.\n",
    "      + 학습도 좀 더 오래 시켜보자.\n",
    "    + 학습해야 하는 단어의 종류를 줄여보자.\n",
    "   "
   ]
  },
  {
   "cell_type": "markdown",
   "metadata": {},
   "source": [
    "---\n",
    "<a id = 'intento_1'></a>\n",
    "\n",
    "#### 개선 시도. 모델 크기를 줄이고, 좀 더 오래 학습시키기"
   ]
  },
  {
   "cell_type": "code",
   "execution_count": 83,
   "metadata": {},
   "outputs": [],
   "source": [
    "BATCH_SIZE     = 128\n",
    "SRC_VOCAB_SIZE = len(enc_tokenizer.index_word) + 1 \n",
    "TGT_VOCAB_SIZE = len(dec_tokenizer.index_word) + 1\n",
    "\n",
    "units         = 128\n",
    "embedding_dim = 64\n",
    "\n",
    "encoder = Encoder(SRC_VOCAB_SIZE, embedding_dim, units)\n",
    "decoder = Decoder(TGT_VOCAB_SIZE, embedding_dim, units)"
   ]
  },
  {
   "cell_type": "code",
   "execution_count": 84,
   "metadata": {},
   "outputs": [],
   "source": [
    "@tf.function    # 학습 외의 텐서플로우 계산을 gpu에서 할 수 있게 표시해 둔다.\n",
    "def train_step(src, tgt, encoder, decoder, optimizer, dec_tok):\n",
    "    bsz = src.shape[0]\n",
    "    loss = 0\n",
    "\n",
    "    with tf.GradientTape() as tape:    # 모든 계산 값을 저장해 둔다.\n",
    "        enc_out = encoder(src)\n",
    "        h_dec = enc_out[:, -1]\n",
    "        \n",
    "        dec_src = tf.expand_dims([dec_tok.word_index['<start>']] * bsz, 1)\n",
    "\n",
    "        for t in range(1, tgt.shape[1]):\n",
    "            pred, h_dec, _ = decoder(dec_src, h_dec, enc_out)\n",
    "\n",
    "            loss += loss_function(tgt[:, t], pred)\n",
    "            dec_src = tf.expand_dims(tgt[:, t], 1)\n",
    "        \n",
    "    batch_loss = (loss / int(tgt.shape[1]))\n",
    "\n",
    "    variables = encoder.trainable_variables + decoder.trainable_variables\n",
    "    gradients = tape.gradient(loss, variables)\n",
    "    optimizer.apply_gradients(zip(gradients, variables))\n",
    "    \n",
    "    return batch_loss"
   ]
  },
  {
   "cell_type": "code",
   "execution_count": 85,
   "metadata": {},
   "outputs": [
    {
     "name": "stderr",
     "output_type": "stream",
     "text": [
      "Epoch  1: 100%|██████████| 494/494 [02:14<00:00,  3.68it/s, Loss 3.9553]\n",
      "Epoch  2: 100%|██████████| 494/494 [01:22<00:00,  6.00it/s, Loss 3.8540]\n",
      "Epoch  3: 100%|██████████| 494/494 [01:22<00:00,  6.00it/s, Loss 3.8538]\n",
      "Epoch  4: 100%|██████████| 494/494 [01:22<00:00,  5.99it/s, Loss 3.8540]\n",
      "Epoch  5: 100%|██████████| 494/494 [01:18<00:00,  6.28it/s, Loss 3.8539]\n",
      "Epoch  6: 100%|██████████| 494/494 [01:14<00:00,  6.60it/s, Loss 3.8535]\n",
      "Epoch  7: 100%|██████████| 494/494 [01:16<00:00,  6.43it/s, Loss 3.6881]\n",
      "Epoch  8: 100%|██████████| 494/494 [01:17<00:00,  6.41it/s, Loss 3.4350]\n",
      "Epoch  9: 100%|██████████| 494/494 [01:15<00:00,  6.57it/s, Loss 3.2881]\n",
      "Epoch 10: 100%|██████████| 494/494 [01:15<00:00,  6.57it/s, Loss 3.1696]\n",
      "Epoch 11: 100%|██████████| 494/494 [01:16<00:00,  6.49it/s, Loss 3.0628]\n",
      "Epoch 12: 100%|██████████| 494/494 [01:19<00:00,  6.24it/s, Loss 2.9742]\n",
      "Epoch 13: 100%|██████████| 494/494 [01:18<00:00,  6.33it/s, Loss 2.8950]\n",
      "Epoch 14: 100%|██████████| 494/494 [01:17<00:00,  6.36it/s, Loss 2.8219]\n",
      "Epoch 15: 100%|██████████| 494/494 [01:18<00:00,  6.31it/s, Loss 2.7559]\n",
      "Epoch 16: 100%|██████████| 494/494 [01:18<00:00,  6.31it/s, Loss 2.6953]\n",
      "Epoch 17: 100%|██████████| 494/494 [01:17<00:00,  6.37it/s, Loss 2.6397]\n",
      "Epoch 18: 100%|██████████| 494/494 [01:18<00:00,  6.31it/s, Loss 2.5900]\n",
      "Epoch 19: 100%|██████████| 494/494 [01:17<00:00,  6.38it/s, Loss 2.5454]\n",
      "Epoch 20: 100%|██████████| 494/494 [01:17<00:00,  6.35it/s, Loss 2.5015]\n",
      "Epoch 21: 100%|██████████| 494/494 [01:18<00:00,  6.33it/s, Loss 2.4611]\n",
      "Epoch 22: 100%|██████████| 494/494 [01:18<00:00,  6.27it/s, Loss 2.4225]\n",
      "Epoch 23: 100%|██████████| 494/494 [01:19<00:00,  6.20it/s, Loss 2.3864]\n",
      "Epoch 24: 100%|██████████| 494/494 [01:19<00:00,  6.22it/s, Loss 2.3518]\n",
      "Epoch 25: 100%|██████████| 494/494 [01:17<00:00,  6.34it/s, Loss 2.3184]\n",
      "Epoch 26: 100%|██████████| 494/494 [01:18<00:00,  6.28it/s, Loss 2.2868]\n",
      "Epoch 27: 100%|██████████| 494/494 [01:17<00:00,  6.36it/s, Loss 2.2554]\n",
      "Epoch 28: 100%|██████████| 494/494 [01:18<00:00,  6.26it/s, Loss 2.2267]\n",
      "Epoch 29: 100%|██████████| 494/494 [01:18<00:00,  6.30it/s, Loss 2.1982]\n",
      "Epoch 30: 100%|██████████| 494/494 [01:18<00:00,  6.26it/s, Loss 2.1712]\n"
     ]
    }
   ],
   "source": [
    "from tqdm import tqdm    # tqdm\n",
    "import random\n",
    "\n",
    "\n",
    "EPOCHS = 30\n",
    "\n",
    "for epoch in range(EPOCHS):\n",
    "    total_loss = 0\n",
    "    \n",
    "    idx_list = list(range(0, enc_tensor.shape[0], BATCH_SIZE))\n",
    "    random.shuffle(idx_list)\n",
    "    t = tqdm(idx_list)    # tqdm\n",
    "\n",
    "    for (batch, idx) in enumerate(t):\n",
    "        batch_loss = train_step(enc_tensor[idx:idx+BATCH_SIZE],\n",
    "                                dec_tensor[idx:idx+BATCH_SIZE],\n",
    "                                encoder,\n",
    "                                decoder,\n",
    "                                optimizer,\n",
    "                                dec_tokenizer)\n",
    "    \n",
    "        total_loss += batch_loss\n",
    "        \n",
    "        t.set_description_str('Epoch %2d' % (epoch + 1))    # tqdm\n",
    "        t.set_postfix_str('Loss %.4f' % (total_loss.numpy() / (batch + 1)))    # tqdm"
   ]
  },
  {
   "cell_type": "code",
   "execution_count": 86,
   "metadata": {},
   "outputs": [
    {
     "name": "stderr",
     "output_type": "stream",
     "text": [
      "/home/ssac7/anaconda3/envs/aiffel/lib/python3.7/site-packages/ipykernel_launcher.py:55: UserWarning: FixedFormatter should only be used together with FixedLocator\n",
      "/home/ssac7/anaconda3/envs/aiffel/lib/python3.7/site-packages/ipykernel_launcher.py:56: UserWarning: FixedFormatter should only be used together with FixedLocator\n"
     ]
    },
    {
     "name": "stdout",
     "output_type": "stream",
     "text": [
      "Input: ['오바마', '는', '대통령', '이', '다', '.']\n",
      "Predicted translation: obama is the democratic presidential nomination . <end> \n"
     ]
    },
    {
     "data": {
      "image/png": "[encoded data removed]",
      "text/plain": [
       "<Figure size 720x720 with 1 Axes>"
      ]
     },
     "metadata": {
      "image/png": {
       "height": 606,
       "width": 178
      },
      "needs_background": "light"
     },
     "output_type": "display_data"
    }
   ],
   "source": [
    "translate(\"오바마는 대통령이다.\", encoder, decoder)"
   ]
  },
  {
   "cell_type": "code",
   "execution_count": 87,
   "metadata": {},
   "outputs": [
    {
     "name": "stdout",
     "output_type": "stream",
     "text": [
      "Input: ['시민', '들', '은', '도시', '속', '에', '산다', '.']\n",
      "Predicted translation: the number of the victims are still being held to the area . <end> \n"
     ]
    },
    {
     "name": "stderr",
     "output_type": "stream",
     "text": [
      "/home/ssac7/anaconda3/envs/aiffel/lib/python3.7/site-packages/ipykernel_launcher.py:55: UserWarning: FixedFormatter should only be used together with FixedLocator\n",
      "/home/ssac7/anaconda3/envs/aiffel/lib/python3.7/site-packages/ipykernel_launcher.py:56: UserWarning: FixedFormatter should only be used together with FixedLocator\n"
     ]
    },
    {
     "data": {
      "image/png": "[encoded data removed]",
      "text/plain": [
       "<Figure size 720x720 with 1 Axes>"
      ]
     },
     "metadata": {
      "image/png": {
       "height": 593,
       "width": 181
      },
      "needs_background": "light"
     },
     "output_type": "display_data"
    }
   ],
   "source": [
    "translate(\"시민들은 도시 속에 산다.\", encoder, decoder)"
   ]
  },
  {
   "cell_type": "code",
   "execution_count": 88,
   "metadata": {},
   "outputs": [
    {
     "name": "stdout",
     "output_type": "stream",
     "text": [
      "Input: ['커피', '는', '필요', '없', '다', '.']\n",
      "Predicted translation: the ap s . . <end> \n"
     ]
    },
    {
     "name": "stderr",
     "output_type": "stream",
     "text": [
      "/home/ssac7/anaconda3/envs/aiffel/lib/python3.7/site-packages/ipykernel_launcher.py:55: UserWarning: FixedFormatter should only be used together with FixedLocator\n",
      "/home/ssac7/anaconda3/envs/aiffel/lib/python3.7/site-packages/ipykernel_launcher.py:56: UserWarning: FixedFormatter should only be used together with FixedLocator\n"
     ]
    },
    {
     "data": {
      "image/png": "[encoded data removed]",
      "text/plain": [
       "<Figure size 720x720 with 1 Axes>"
      ]
     },
     "metadata": {
      "image/png": {
       "height": 593,
       "width": 229
      },
      "needs_background": "light"
     },
     "output_type": "display_data"
    }
   ],
   "source": [
    "translate(\"커피는 필요 없다.\", encoder, decoder)"
   ]
  },
  {
   "cell_type": "code",
   "execution_count": 89,
   "metadata": {},
   "outputs": [
    {
     "name": "stdout",
     "output_type": "stream",
     "text": [
      "Input: ['일곱', '명', '의', '사망자', '가', '발생', '했', '다', '.']\n",
      "Predicted translation: the quake was killed in the capital , killing at least people were killed in the capital , killing at least people were killed in the capital , killing at least people were killed in the capital , killing at \n"
     ]
    },
    {
     "name": "stderr",
     "output_type": "stream",
     "text": [
      "/home/ssac7/anaconda3/envs/aiffel/lib/python3.7/site-packages/ipykernel_launcher.py:55: UserWarning: FixedFormatter should only be used together with FixedLocator\n",
      "/home/ssac7/anaconda3/envs/aiffel/lib/python3.7/site-packages/ipykernel_launcher.py:56: UserWarning: FixedFormatter should only be used together with FixedLocator\n"
     ]
    },
    {
     "data": {
      "image/png": "[encoded data removed]",
      "text/plain": [
       "<Figure size 720x720 with 1 Axes>"
      ]
     },
     "metadata": {
      "image/png": {
       "height": 606,
       "width": 188
      },
      "needs_background": "light"
     },
     "output_type": "display_data"
    }
   ],
   "source": [
    "translate(\"일곱 명의 사망자가 발생했다.\", encoder, decoder)"
   ]
  },
  {
   "cell_type": "markdown",
   "metadata": {},
   "source": [
    "+ 예문 1. 오바마는 대통령이다. 의 경우엔 그나마 적절하게 문장이 구성된 것 같으나 나머지 예문의 결과물이 좋지 못하다.\n",
    "+ loss는 지속적으로 감소하고 있었으므로 좀 더 학습을 시킨다면 더 좋은 결과물이 나올 수 있을 것 같다."
   ]
  },
  {
   "cell_type": "markdown",
   "metadata": {},
   "source": [
    "---\n",
    "<a id = 'conc'></a>\n",
    "#### 마무리 : 단어 수 줄이고 학습해 보기 시도 : 실패"
   ]
  },
  {
   "cell_type": "code",
   "execution_count": 116,
   "metadata": {},
   "outputs": [],
   "source": [
    "vocab_size = 15000\n",
    "\n",
    "def tokenize(corpus, vocab_size):\n",
    "    tokenizer = tf.keras.preprocessing.text.Tokenizer(filters='', num_words = vocab_size, oov_token= '<unk>')\n",
    "    tokenizer.fit_on_texts(corpus)\n",
    "    \n",
    "    tensor = tokenizer.texts_to_sequences(corpus)\n",
    "    \n",
    "    tensor = tf.keras.preprocessing.sequence.pad_sequences(tensor, padding='post')\n",
    "    \n",
    "    return tensor, tokenizer\n",
    "\n",
    "enc_tensor, enc_tokenizer = tokenize(corpus_ko, 15000)\n",
    "dec_tensor, dec_tokenizer = tokenize(corpus_en, 15000+2) # start, end 토큰이 붙어 있으므로 2개를 추가해 준다."
   ]
  },
  {
   "cell_type": "code",
   "execution_count": 150,
   "metadata": {},
   "outputs": [],
   "source": [
    "def check_enc_corpus(idx):\n",
    "    result = ''\n",
    "    for i in enc_tensor[idx]:\n",
    "        if i == 0 :\n",
    "            print(result)\n",
    "            break\n",
    "        result += enc_tokenizer.index_word[i] + ' '"
   ]
  },
  {
   "cell_type": "code",
   "execution_count": 154,
   "metadata": {},
   "outputs": [
    {
     "name": "stdout",
     "output_type": "stream",
     "text": [
      "미국 의 빌 클린턴 대통령 은 년 하노이 외곽 에서 격추 된 의 추락 장소 를 방문 한 후 에 베트남 의 <unk> 시 에 도착 했 다 . \n"
     ]
    }
   ],
   "source": [
    "check_enc_corpus(100)"
   ]
  },
  {
   "cell_type": "code",
   "execution_count": 152,
   "metadata": {},
   "outputs": [],
   "source": [
    "def check_dec_corpus(idx):\n",
    "    result = ''\n",
    "    for i in dec_tensor[idx]:\n",
    "        if i == 0 :\n",
    "            print(result)\n",
    "            break\n",
    "        result += dec_tokenizer.index_word[i] + ' '"
   ]
  },
  {
   "cell_type": "code",
   "execution_count": 155,
   "metadata": {},
   "outputs": [
    {
     "name": "stdout",
     "output_type": "stream",
     "text": [
      "<start> thousands of vietnamese lined the president s route from tan son <unk> airport to his hotel , many waving and cheering in stark contrast to clinton s earlier visit to the site where air force capt . <end> \n"
     ]
    }
   ],
   "source": [
    "check_dec_corpus(100)"
   ]
  },
  {
   "cell_type": "code",
   "execution_count": 185,
   "metadata": {},
   "outputs": [
    {
     "name": "stderr",
     "output_type": "stream",
     "text": [
      "Epoch  1: 100%|██████████| 247/247 [01:47<00:00,  2.30it/s, Loss 3.8257]\n",
      "Epoch  2: 100%|██████████| 247/247 [01:00<00:00,  4.11it/s, Loss 3.7031]\n",
      "Epoch  3: 100%|██████████| 247/247 [00:59<00:00,  4.17it/s, Loss 3.6958]\n",
      "Epoch  4: 100%|██████████| 247/247 [01:00<00:00,  4.10it/s, Loss 3.6930]\n",
      "Epoch  5: 100%|██████████| 247/247 [01:01<00:00,  3.99it/s, Loss 3.6911]\n",
      "Epoch  6: 100%|██████████| 247/247 [01:01<00:00,  4.02it/s, Loss 3.6896]\n",
      "Epoch  7: 100%|██████████| 247/247 [01:01<00:00,  4.02it/s, Loss 3.6895]\n",
      "Epoch  8: 100%|██████████| 247/247 [01:01<00:00,  4.02it/s, Loss 3.6884]\n",
      "Epoch  9: 100%|██████████| 247/247 [01:01<00:00,  4.02it/s, Loss 3.6881]\n",
      "Epoch 10: 100%|██████████| 247/247 [01:01<00:00,  4.01it/s, Loss 3.6876]\n",
      "Epoch 11: 100%|██████████| 247/247 [01:02<00:00,  3.97it/s, Loss 3.6873]\n",
      "Epoch 12: 100%|██████████| 247/247 [01:01<00:00,  4.00it/s, Loss 3.6872]\n",
      "Epoch 13: 100%|██████████| 247/247 [01:01<00:00,  4.00it/s, Loss 3.6867]\n",
      "Epoch 14: 100%|██████████| 247/247 [01:01<00:00,  4.02it/s, Loss 3.6870]\n",
      "Epoch 15: 100%|██████████| 247/247 [01:01<00:00,  4.02it/s, Loss 3.6870]\n",
      "Epoch 16: 100%|██████████| 247/247 [01:01<00:00,  4.01it/s, Loss 3.6868]\n",
      "Epoch 17: 100%|██████████| 247/247 [01:01<00:00,  4.04it/s, Loss 3.6871]\n",
      "Epoch 18: 100%|██████████| 247/247 [00:58<00:00,  4.19it/s, Loss 3.6866]\n",
      "Epoch 19: 100%|██████████| 247/247 [00:58<00:00,  4.21it/s, Loss 3.6868]\n",
      "Epoch 20: 100%|██████████| 247/247 [00:58<00:00,  4.22it/s, Loss 3.6869]\n",
      "Epoch 21: 100%|██████████| 247/247 [00:59<00:00,  4.16it/s, Loss 3.6871]\n",
      "Epoch 22: 100%|██████████| 247/247 [00:58<00:00,  4.22it/s, Loss 3.6864]\n",
      "Epoch 23: 100%|██████████| 247/247 [00:59<00:00,  4.18it/s, Loss 3.6863]\n",
      "Epoch 24: 100%|██████████| 247/247 [00:58<00:00,  4.20it/s, Loss 3.6869]\n",
      "Epoch 25: 100%|██████████| 247/247 [00:58<00:00,  4.21it/s, Loss 3.6872]\n",
      "Epoch 26: 100%|██████████| 247/247 [00:58<00:00,  4.19it/s, Loss 3.6866]\n",
      "Epoch 27: 100%|██████████| 247/247 [00:59<00:00,  4.14it/s, Loss 3.6864]\n",
      "Epoch 28: 100%|██████████| 247/247 [00:58<00:00,  4.21it/s, Loss 3.6864]\n",
      "Epoch 29: 100%|██████████| 247/247 [01:02<00:00,  3.98it/s, Loss 3.6863]\n",
      "Epoch 30: 100%|██████████| 247/247 [01:02<00:00,  3.98it/s, Loss 3.6868]\n"
     ]
    }
   ],
   "source": [
    "from tqdm import tqdm    # tqdm\n",
    "import random\n",
    "\n",
    "\n",
    "EPOCHS = 30\n",
    "\n",
    "for epoch in range(EPOCHS):\n",
    "    total_loss = 0\n",
    "    \n",
    "    idx_list = list(range(0, enc_tensor.shape[0], BATCH_SIZE))\n",
    "    random.shuffle(idx_list)\n",
    "    t = tqdm(idx_list)    # tqdm\n",
    "\n",
    "    for (batch, idx) in enumerate(t):\n",
    "        batch_loss = train_step(enc_tensor[idx:idx+BATCH_SIZE],\n",
    "                                dec_tensor[idx:idx+BATCH_SIZE],\n",
    "                                encoder,\n",
    "                                decoder,\n",
    "                                optimizer,\n",
    "                                dec_tokenizer)\n",
    "    \n",
    "        total_loss += batch_loss\n",
    "        \n",
    "        t.set_description_str('Epoch %2d' % (epoch + 1))    # tqdm\n",
    "        t.set_postfix_str('Loss %.4f' % (total_loss.numpy() / (batch + 1)))    # tqdm"
   ]
  },
  {
   "cell_type": "markdown",
   "metadata": {},
   "source": [
    "+ 단어 수를 줄이고 학습해 봤지만 잘 학습되지 않았다.\n",
    "  + 모델 크기를 더 줄여봐도 더 늘여봐도 잘 학습이 되지 않았다.\n",
    "+ 잘 학습되지 않은 경우 번역 결과물은 다 the 였다.\n",
    "  + tokenizer.index_word 를 살펴 보면 the가 제일 빈도수가 높아 제일 앞 인덱스를 갖는다. 단순히 빈도수 높은 단어만 내놓개 되는 모양이다.\n",
    "  + 다른 사람들은 어떻게 잘 학습시켰는지 궁금하다. "
   ]
  }
 ],
 "metadata": {
  "kernelspec": {
   "display_name": "aiffel",
   "language": "python",
   "name": "aiffel"
  },
  "language_info": {
   "codemirror_mode": {
    "name": "ipython",
    "version": 3
   },
   "file_extension": ".py",
   "mimetype": "text/x-python",
   "name": "python",
   "nbconvert_exporter": "python",
   "pygments_lexer": "ipython3",
   "version": "3.7.9"
  }
 },
 "nbformat": 4,
 "nbformat_minor": 4
}
