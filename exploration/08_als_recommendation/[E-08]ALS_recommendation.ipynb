{
 "cells": [
  {
   "cell_type": "markdown",
   "metadata": {},
   "source": [
    "## SSAC - Exploration 8 - ALS recommendation : Movie"
   ]
  },
  {
   "cell_type": "markdown",
   "metadata": {},
   "source": [
    "### 1) load and preprocess data"
   ]
  },
  {
   "cell_type": "code",
   "execution_count": 1,
   "metadata": {},
   "outputs": [],
   "source": [
    "import pandas as pd\n",
    "import numpy as np\n",
    "import os, copy\n",
    "from scipy.sparse import csr_matrix\n",
    "from implicit.als import AlternatingLeastSquares"
   ]
  },
  {
   "cell_type": "code",
   "execution_count": 2,
   "metadata": {},
   "outputs": [
    {
     "data": {
      "text/html": [
       "<div>\n",
       "<style scoped>\n",
       "    .dataframe tbody tr th:only-of-type {\n",
       "        vertical-align: middle;\n",
       "    }\n",
       "\n",
       "    .dataframe tbody tr th {\n",
       "        vertical-align: top;\n",
       "    }\n",
       "\n",
       "    .dataframe thead th {\n",
       "        text-align: right;\n",
       "    }\n",
       "</style>\n",
       "<table border=\"1\" class=\"dataframe\">\n",
       "  <thead>\n",
       "    <tr style=\"text-align: right;\">\n",
       "      <th></th>\n",
       "      <th>user_id</th>\n",
       "      <th>movie_id</th>\n",
       "      <th>rating</th>\n",
       "      <th>timestamp</th>\n",
       "    </tr>\n",
       "  </thead>\n",
       "  <tbody>\n",
       "    <tr>\n",
       "      <th>0</th>\n",
       "      <td>1</td>\n",
       "      <td>1193</td>\n",
       "      <td>5</td>\n",
       "      <td>978300760</td>\n",
       "    </tr>\n",
       "    <tr>\n",
       "      <th>1</th>\n",
       "      <td>1</td>\n",
       "      <td>661</td>\n",
       "      <td>3</td>\n",
       "      <td>978302109</td>\n",
       "    </tr>\n",
       "    <tr>\n",
       "      <th>2</th>\n",
       "      <td>1</td>\n",
       "      <td>914</td>\n",
       "      <td>3</td>\n",
       "      <td>978301968</td>\n",
       "    </tr>\n",
       "    <tr>\n",
       "      <th>3</th>\n",
       "      <td>1</td>\n",
       "      <td>3408</td>\n",
       "      <td>4</td>\n",
       "      <td>978300275</td>\n",
       "    </tr>\n",
       "    <tr>\n",
       "      <th>4</th>\n",
       "      <td>1</td>\n",
       "      <td>2355</td>\n",
       "      <td>5</td>\n",
       "      <td>978824291</td>\n",
       "    </tr>\n",
       "  </tbody>\n",
       "</table>\n",
       "</div>"
      ],
      "text/plain": [
       "   user_id  movie_id  rating  timestamp\n",
       "0        1      1193       5  978300760\n",
       "1        1       661       3  978302109\n",
       "2        1       914       3  978301968\n",
       "3        1      3408       4  978300275\n",
       "4        1      2355       5  978824291"
      ]
     },
     "execution_count": 2,
     "metadata": {},
     "output_type": "execute_result"
    }
   ],
   "source": [
    "rating_file_path=os.getenv('HOME') + '/aiffel/recommendata_iu/data/ml-1m/ratings.dat'\n",
    "ratings_cols = ['user_id', 'movie_id', 'rating', 'timestamp']\n",
    "ratings = pd.read_csv(rating_file_path, sep='::', names=ratings_cols, engine='python')\n",
    "orginal_data_size = len(ratings)\n",
    "ratings.head()"
   ]
  },
  {
   "cell_type": "code",
   "execution_count": 3,
   "metadata": {},
   "outputs": [
    {
     "data": {
      "text/html": [
       "<div>\n",
       "<style scoped>\n",
       "    .dataframe tbody tr th:only-of-type {\n",
       "        vertical-align: middle;\n",
       "    }\n",
       "\n",
       "    .dataframe tbody tr th {\n",
       "        vertical-align: top;\n",
       "    }\n",
       "\n",
       "    .dataframe thead th {\n",
       "        text-align: right;\n",
       "    }\n",
       "</style>\n",
       "<table border=\"1\" class=\"dataframe\">\n",
       "  <thead>\n",
       "    <tr style=\"text-align: right;\">\n",
       "      <th></th>\n",
       "      <th>user_id</th>\n",
       "      <th>movie_id</th>\n",
       "      <th>rating</th>\n",
       "    </tr>\n",
       "  </thead>\n",
       "  <tbody>\n",
       "    <tr>\n",
       "      <th>0</th>\n",
       "      <td>1</td>\n",
       "      <td>1193</td>\n",
       "      <td>5</td>\n",
       "    </tr>\n",
       "    <tr>\n",
       "      <th>1</th>\n",
       "      <td>1</td>\n",
       "      <td>661</td>\n",
       "      <td>3</td>\n",
       "    </tr>\n",
       "    <tr>\n",
       "      <th>2</th>\n",
       "      <td>1</td>\n",
       "      <td>914</td>\n",
       "      <td>3</td>\n",
       "    </tr>\n",
       "    <tr>\n",
       "      <th>3</th>\n",
       "      <td>1</td>\n",
       "      <td>3408</td>\n",
       "      <td>4</td>\n",
       "    </tr>\n",
       "    <tr>\n",
       "      <th>4</th>\n",
       "      <td>1</td>\n",
       "      <td>2355</td>\n",
       "      <td>5</td>\n",
       "    </tr>\n",
       "  </tbody>\n",
       "</table>\n",
       "</div>"
      ],
      "text/plain": [
       "   user_id  movie_id  rating\n",
       "0        1      1193       5\n",
       "1        1       661       3\n",
       "2        1       914       3\n",
       "3        1      3408       4\n",
       "4        1      2355       5"
      ]
     },
     "execution_count": 3,
     "metadata": {},
     "output_type": "execute_result"
    }
   ],
   "source": [
    "# remove timstap column\n",
    "ratings = ratings.iloc[:,0:3]\n",
    "ratings.head()"
   ]
  },
  {
   "cell_type": "code",
   "execution_count": 4,
   "metadata": {},
   "outputs": [
    {
     "name": "stdout",
     "output_type": "stream",
     "text": [
      "orginal_data_size: 1000209, filtered_data_size: 836478\n",
      "Ratio of Remaining Data is 83.63%\n"
     ]
    }
   ],
   "source": [
    "# remove rows with less than 3 rating scores\n",
    "ratings = ratings[ratings['rating']>=3]\n",
    "filtered_data_size = len(ratings)\n",
    "\n",
    "print(f'orginal_data_size: {orginal_data_size}, filtered_data_size: {filtered_data_size}')\n",
    "print(f'Ratio of Remaining Data is {filtered_data_size / orginal_data_size:.2%}')"
   ]
  },
  {
   "cell_type": "code",
   "execution_count": 5,
   "metadata": {},
   "outputs": [],
   "source": [
    "# change rating column name to count\n",
    "ratings.rename(columns={'rating':'count'}, inplace=True)"
   ]
  },
  {
   "cell_type": "code",
   "execution_count": 6,
   "metadata": {},
   "outputs": [
    {
     "data": {
      "text/html": [
       "<div>\n",
       "<style scoped>\n",
       "    .dataframe tbody tr th:only-of-type {\n",
       "        vertical-align: middle;\n",
       "    }\n",
       "\n",
       "    .dataframe tbody tr th {\n",
       "        vertical-align: top;\n",
       "    }\n",
       "\n",
       "    .dataframe thead th {\n",
       "        text-align: right;\n",
       "    }\n",
       "</style>\n",
       "<table border=\"1\" class=\"dataframe\">\n",
       "  <thead>\n",
       "    <tr style=\"text-align: right;\">\n",
       "      <th></th>\n",
       "      <th>movie_id</th>\n",
       "      <th>title</th>\n",
       "      <th>genre</th>\n",
       "    </tr>\n",
       "  </thead>\n",
       "  <tbody>\n",
       "    <tr>\n",
       "      <th>0</th>\n",
       "      <td>1</td>\n",
       "      <td>Toy Story (1995)</td>\n",
       "      <td>Animation|Children's|Comedy</td>\n",
       "    </tr>\n",
       "    <tr>\n",
       "      <th>1</th>\n",
       "      <td>2</td>\n",
       "      <td>Jumanji (1995)</td>\n",
       "      <td>Adventure|Children's|Fantasy</td>\n",
       "    </tr>\n",
       "    <tr>\n",
       "      <th>2</th>\n",
       "      <td>3</td>\n",
       "      <td>Grumpier Old Men (1995)</td>\n",
       "      <td>Comedy|Romance</td>\n",
       "    </tr>\n",
       "    <tr>\n",
       "      <th>3</th>\n",
       "      <td>4</td>\n",
       "      <td>Waiting to Exhale (1995)</td>\n",
       "      <td>Comedy|Drama</td>\n",
       "    </tr>\n",
       "    <tr>\n",
       "      <th>4</th>\n",
       "      <td>5</td>\n",
       "      <td>Father of the Bride Part II (1995)</td>\n",
       "      <td>Comedy</td>\n",
       "    </tr>\n",
       "  </tbody>\n",
       "</table>\n",
       "</div>"
      ],
      "text/plain": [
       "   movie_id                               title                         genre\n",
       "0         1                    Toy Story (1995)   Animation|Children's|Comedy\n",
       "1         2                      Jumanji (1995)  Adventure|Children's|Fantasy\n",
       "2         3             Grumpier Old Men (1995)                Comedy|Romance\n",
       "3         4            Waiting to Exhale (1995)                  Comedy|Drama\n",
       "4         5  Father of the Bride Part II (1995)                        Comedy"
      ]
     },
     "execution_count": 6,
     "metadata": {},
     "output_type": "execute_result"
    }
   ],
   "source": [
    "# load meta data containing movie title and movie id data\n",
    "movie_file_path=os.getenv('HOME') + '/aiffel/recommendata_iu/data/ml-1m/movies.dat'\n",
    "cols = ['movie_id', 'title', 'genre'] \n",
    "movies = pd.read_csv(movie_file_path, sep='::', names=cols, engine='python')\n",
    "movies.head()"
   ]
  },
  {
   "cell_type": "code",
   "execution_count": 7,
   "metadata": {},
   "outputs": [
    {
     "data": {
      "text/plain": [
       "0"
      ]
     },
     "execution_count": 7,
     "metadata": {},
     "output_type": "execute_result"
    }
   ],
   "source": [
    "sum(movies['title'].isna())"
   ]
  },
  {
   "cell_type": "code",
   "execution_count": 8,
   "metadata": {},
   "outputs": [],
   "source": [
    "# create column of movie title with all lower character \n",
    "movies['title_lower'] = movies['title'].str.lower()"
   ]
  },
  {
   "cell_type": "code",
   "execution_count": 10,
   "metadata": {},
   "outputs": [
    {
     "data": {
      "text/html": [
       "<div>\n",
       "<style scoped>\n",
       "    .dataframe tbody tr th:only-of-type {\n",
       "        vertical-align: middle;\n",
       "    }\n",
       "\n",
       "    .dataframe tbody tr th {\n",
       "        vertical-align: top;\n",
       "    }\n",
       "\n",
       "    .dataframe thead th {\n",
       "        text-align: right;\n",
       "    }\n",
       "</style>\n",
       "<table border=\"1\" class=\"dataframe\">\n",
       "  <thead>\n",
       "    <tr style=\"text-align: right;\">\n",
       "      <th></th>\n",
       "      <th>movie_id</th>\n",
       "      <th>title</th>\n",
       "      <th>genre</th>\n",
       "      <th>title_lower</th>\n",
       "    </tr>\n",
       "  </thead>\n",
       "  <tbody>\n",
       "    <tr>\n",
       "      <th>0</th>\n",
       "      <td>1</td>\n",
       "      <td>Toy Story (1995)</td>\n",
       "      <td>Animation|Children's|Comedy</td>\n",
       "      <td>toy story (1995)</td>\n",
       "    </tr>\n",
       "    <tr>\n",
       "      <th>1</th>\n",
       "      <td>2</td>\n",
       "      <td>Jumanji (1995)</td>\n",
       "      <td>Adventure|Children's|Fantasy</td>\n",
       "      <td>jumanji (1995)</td>\n",
       "    </tr>\n",
       "    <tr>\n",
       "      <th>2</th>\n",
       "      <td>3</td>\n",
       "      <td>Grumpier Old Men (1995)</td>\n",
       "      <td>Comedy|Romance</td>\n",
       "      <td>grumpier old men (1995)</td>\n",
       "    </tr>\n",
       "    <tr>\n",
       "      <th>3</th>\n",
       "      <td>4</td>\n",
       "      <td>Waiting to Exhale (1995)</td>\n",
       "      <td>Comedy|Drama</td>\n",
       "      <td>waiting to exhale (1995)</td>\n",
       "    </tr>\n",
       "    <tr>\n",
       "      <th>4</th>\n",
       "      <td>5</td>\n",
       "      <td>Father of the Bride Part II (1995)</td>\n",
       "      <td>Comedy</td>\n",
       "      <td>father of the bride part ii (1995)</td>\n",
       "    </tr>\n",
       "  </tbody>\n",
       "</table>\n",
       "</div>"
      ],
      "text/plain": [
       "   movie_id                               title                         genre  \\\n",
       "0         1                    Toy Story (1995)   Animation|Children's|Comedy   \n",
       "1         2                      Jumanji (1995)  Adventure|Children's|Fantasy   \n",
       "2         3             Grumpier Old Men (1995)                Comedy|Romance   \n",
       "3         4            Waiting to Exhale (1995)                  Comedy|Drama   \n",
       "4         5  Father of the Bride Part II (1995)                        Comedy   \n",
       "\n",
       "                          title_lower  \n",
       "0                    toy story (1995)  \n",
       "1                      jumanji (1995)  \n",
       "2             grumpier old men (1995)  \n",
       "3            waiting to exhale (1995)  \n",
       "4  father of the bride part ii (1995)  "
      ]
     },
     "execution_count": 10,
     "metadata": {},
     "output_type": "execute_result"
    }
   ],
   "source": [
    "movies.head(5)"
   ]
  },
  {
   "cell_type": "markdown",
   "metadata": {},
   "source": [
    "### 2) Analyze data \n",
    "- number of unique movies in dataset\n",
    "- number of unique users in dataset\n",
    "- top 30 popualar movies"
   ]
  },
  {
   "cell_type": "code",
   "execution_count": 11,
   "metadata": {},
   "outputs": [
    {
     "data": {
      "text/plain": [
       "3628"
      ]
     },
     "execution_count": 11,
     "metadata": {},
     "output_type": "execute_result"
    }
   ],
   "source": [
    "# number of unique movies in dataset\n",
    "ratings['movie_id'].nunique()"
   ]
  },
  {
   "cell_type": "code",
   "execution_count": 12,
   "metadata": {},
   "outputs": [
    {
     "data": {
      "text/plain": [
       "6039"
      ]
     },
     "execution_count": 12,
     "metadata": {},
     "output_type": "execute_result"
    }
   ],
   "source": [
    "# number of unique users in dataset\n",
    "ratings['user_id'].nunique()"
   ]
  },
  {
   "cell_type": "code",
   "execution_count": 13,
   "metadata": {},
   "outputs": [
    {
     "name": "stdout",
     "output_type": "stream",
     "text": [
      "movie_id\n",
      "2858    3211\n",
      "260     2910\n",
      "1196    2885\n",
      "1210    2716\n",
      "2028    2561\n",
      "589     2509\n",
      "593     2498\n",
      "1198    2473\n",
      "1270    2460\n",
      "2571    2434\n",
      "480     2413\n",
      "2762    2385\n",
      "608     2371\n",
      "110     2314\n",
      "1580    2297\n",
      "527     2257\n",
      "1197    2252\n",
      "2396    2213\n",
      "1617    2210\n",
      "318     2194\n",
      "858     2167\n",
      "1265    2121\n",
      "1097    2102\n",
      "2997    2066\n",
      "2716    2051\n",
      "296     2030\n",
      "356     2022\n",
      "1240    2019\n",
      "1       2000\n",
      "457     1941\n",
      "Name: count, dtype: int64\n"
     ]
    }
   ],
   "source": [
    "# top 30 popular movies\n",
    "# assuming having them scored or rated means users had watched it ; gains popularity\n",
    "print(ratings.groupby(['movie_id']).count().sort_values(['count'], ascending=False)['count'].head(30))\n",
    "# gather movie id data sorted by popularity\n",
    "pop_movie_id = ratings.groupby('movie_id').count().sort_values(['count'], ascending=False).head(30).index"
   ]
  },
  {
   "cell_type": "code",
   "execution_count": 14,
   "metadata": {},
   "outputs": [
    {
     "data": {
      "text/plain": [
       "0                                        Toy Story (1995)\n",
       "108                                     Braveheart (1995)\n",
       "257             Star Wars: Episode IV - A New Hope (1977)\n",
       "293                                   Pulp Fiction (1994)\n",
       "315                      Shawshank Redemption, The (1994)\n",
       "352                                   Forrest Gump (1994)\n",
       "453                                  Fugitive, The (1993)\n",
       "476                                  Jurassic Park (1993)\n",
       "523                               Schindler's List (1993)\n",
       "585                     Terminator 2: Judgment Day (1991)\n",
       "589                      Silence of the Lambs, The (1991)\n",
       "604                                          Fargo (1996)\n",
       "847                                 Godfather, The (1972)\n",
       "1081                    E.T. the Extra-Terrestrial (1982)\n",
       "1178    Star Wars: Episode V - The Empire Strikes Back...\n",
       "1179                           Princess Bride, The (1987)\n",
       "1180                       Raiders of the Lost Ark (1981)\n",
       "1192    Star Wars: Episode VI - Return of the Jedi (1983)\n",
       "1220                               Terminator, The (1984)\n",
       "1245                                 Groundhog Day (1993)\n",
       "1250                            Back to the Future (1985)\n",
       "1539                                  Men in Black (1997)\n",
       "1575                             L.A. Confidential (1997)\n",
       "1959                           Saving Private Ryan (1998)\n",
       "2327                           Shakespeare in Love (1998)\n",
       "2502                                   Matrix, The (1999)\n",
       "2647                                  Ghostbusters (1984)\n",
       "2693                              Sixth Sense, The (1999)\n",
       "2789                               American Beauty (1999)\n",
       "2928                          Being John Malkovich (1999)\n",
       "Name: title, dtype: object"
      ]
     },
     "execution_count": 14,
     "metadata": {},
     "output_type": "execute_result"
    }
   ],
   "source": [
    "# fetch movie title data from meta dataset with gathered movie id list\n",
    "movies['title'][movies['movie_id'].isin(pop_movie_id.tolist())]"
   ]
  },
  {
   "cell_type": "markdown",
   "metadata": {},
   "source": [
    "### 3) add rows of my favorite 5 movies to ratings dataset"
   ]
  },
  {
   "cell_type": "code",
   "execution_count": 16,
   "metadata": {},
   "outputs": [],
   "source": [
    "def find_movie(string):\n",
    "    # wanted_list = []\n",
    "    # id_list = []\n",
    "    for i in range(len(movies['title_lower'])):\n",
    "        if movies['title_lower'][i].find(string) != -1:\n",
    "            # wanted_list.append(movies['title'][i])\n",
    "            # id_list.append(movies['movie_id'][i])\n",
    "            print(f\"movie: {movies['title'][i]}, id: {movies['movie_id'][i]}\")\n",
    "    # return wanted_list, id_list"
   ]
  },
  {
   "cell_type": "code",
   "execution_count": 17,
   "metadata": {},
   "outputs": [],
   "source": [
    "find_movie('(2001)') # movies released in 2001 are not included in ratings dataset"
   ]
  },
  {
   "cell_type": "code",
   "execution_count": 18,
   "metadata": {},
   "outputs": [
    {
     "name": "stdout",
     "output_type": "stream",
     "text": [
      "movie: When Harry Met Sally... (1989), id: 1307\n",
      "movie: Deconstructing Harry (1997), id: 1701\n",
      "movie: Trouble with Harry, The (1955), id: 2184\n",
      "movie: Who's Harry Crumb? (1989), id: 3387\n",
      "movie: Harry and the Hendersons (1987), id: 3388\n",
      "movie: Let's Get Harry (1986), id: 3389\n"
     ]
    }
   ],
   "source": [
    "find_movie('harry') # 1307 when harry met sally"
   ]
  },
  {
   "cell_type": "code",
   "execution_count": 19,
   "metadata": {},
   "outputs": [
    {
     "name": "stdout",
     "output_type": "stream",
     "text": [
      "movie: Before Sunrise (1995), id: 215\n",
      "movie: Tequila Sunrise (1988), id: 2802\n"
     ]
    }
   ],
   "source": [
    "find_movie('sunrise') # 215 before sunrise"
   ]
  },
  {
   "cell_type": "code",
   "execution_count": 20,
   "metadata": {},
   "outputs": [
    {
     "name": "stdout",
     "output_type": "stream",
     "text": [
      "movie: Groundhog Day (1993), id: 1265\n"
     ]
    }
   ],
   "source": [
    "find_movie('groundhog') # 1265 groundhog day"
   ]
  },
  {
   "cell_type": "code",
   "execution_count": 21,
   "metadata": {},
   "outputs": [
    {
     "name": "stdout",
     "output_type": "stream",
     "text": [
      "movie: Matrix, The (1999), id: 2571\n"
     ]
    }
   ],
   "source": [
    "find_movie('matrix') # 2571 matrix"
   ]
  },
  {
   "cell_type": "code",
   "execution_count": 22,
   "metadata": {},
   "outputs": [
    {
     "name": "stdout",
     "output_type": "stream",
     "text": [
      "movie: Mulan (1998), id: 1907\n"
     ]
    }
   ],
   "source": [
    "find_movie('mulan') # 1907 mulan"
   ]
  },
  {
   "cell_type": "code",
   "execution_count": 24,
   "metadata": {},
   "outputs": [],
   "source": [
    "my_movie = [1307, 215, 1265, 2571, 1907] # when harry met sally, before sunrise, groundhog day, matrix, mulan"
   ]
  },
  {
   "cell_type": "code",
   "execution_count": 25,
   "metadata": {},
   "outputs": [
    {
     "data": {
      "text/plain": [
       "6040"
      ]
     },
     "execution_count": 25,
     "metadata": {},
     "output_type": "execute_result"
    }
   ],
   "source": [
    "ratings['user_id'].max() # use max method to find the end of user_id as it is integer type."
   ]
  },
  {
   "cell_type": "code",
   "execution_count": 26,
   "metadata": {},
   "outputs": [
    {
     "data": {
      "text/html": [
       "<div>\n",
       "<style scoped>\n",
       "    .dataframe tbody tr th:only-of-type {\n",
       "        vertical-align: middle;\n",
       "    }\n",
       "\n",
       "    .dataframe tbody tr th {\n",
       "        vertical-align: top;\n",
       "    }\n",
       "\n",
       "    .dataframe thead th {\n",
       "        text-align: right;\n",
       "    }\n",
       "</style>\n",
       "<table border=\"1\" class=\"dataframe\">\n",
       "  <thead>\n",
       "    <tr style=\"text-align: right;\">\n",
       "      <th></th>\n",
       "      <th>user_id</th>\n",
       "      <th>movie_id</th>\n",
       "      <th>count</th>\n",
       "    </tr>\n",
       "  </thead>\n",
       "  <tbody>\n",
       "    <tr>\n",
       "      <th>1000203</th>\n",
       "      <td>6040</td>\n",
       "      <td>1090</td>\n",
       "      <td>3</td>\n",
       "    </tr>\n",
       "    <tr>\n",
       "      <th>1000205</th>\n",
       "      <td>6040</td>\n",
       "      <td>1094</td>\n",
       "      <td>5</td>\n",
       "    </tr>\n",
       "    <tr>\n",
       "      <th>1000206</th>\n",
       "      <td>6040</td>\n",
       "      <td>562</td>\n",
       "      <td>5</td>\n",
       "    </tr>\n",
       "    <tr>\n",
       "      <th>1000207</th>\n",
       "      <td>6040</td>\n",
       "      <td>1096</td>\n",
       "      <td>4</td>\n",
       "    </tr>\n",
       "    <tr>\n",
       "      <th>1000208</th>\n",
       "      <td>6040</td>\n",
       "      <td>1097</td>\n",
       "      <td>4</td>\n",
       "    </tr>\n",
       "  </tbody>\n",
       "</table>\n",
       "</div>"
      ],
      "text/plain": [
       "         user_id  movie_id  count\n",
       "1000203     6040      1090      3\n",
       "1000205     6040      1094      5\n",
       "1000206     6040       562      5\n",
       "1000207     6040      1096      4\n",
       "1000208     6040      1097      4"
      ]
     },
     "execution_count": 26,
     "metadata": {},
     "output_type": "execute_result"
    }
   ],
   "source": [
    "ratings.tail() # check id I got using max method really is at the end of dataset"
   ]
  },
  {
   "cell_type": "code",
   "execution_count": 28,
   "metadata": {},
   "outputs": [
    {
     "data": {
      "text/html": [
       "<div>\n",
       "<style scoped>\n",
       "    .dataframe tbody tr th:only-of-type {\n",
       "        vertical-align: middle;\n",
       "    }\n",
       "\n",
       "    .dataframe tbody tr th {\n",
       "        vertical-align: top;\n",
       "    }\n",
       "\n",
       "    .dataframe thead th {\n",
       "        text-align: right;\n",
       "    }\n",
       "</style>\n",
       "<table border=\"1\" class=\"dataframe\">\n",
       "  <thead>\n",
       "    <tr style=\"text-align: right;\">\n",
       "      <th></th>\n",
       "      <th>user_id</th>\n",
       "      <th>movie_id</th>\n",
       "      <th>count</th>\n",
       "    </tr>\n",
       "  </thead>\n",
       "  <tbody>\n",
       "    <tr>\n",
       "      <th>0</th>\n",
       "      <td>6041</td>\n",
       "      <td>1307</td>\n",
       "      <td>5</td>\n",
       "    </tr>\n",
       "    <tr>\n",
       "      <th>1</th>\n",
       "      <td>6041</td>\n",
       "      <td>215</td>\n",
       "      <td>5</td>\n",
       "    </tr>\n",
       "    <tr>\n",
       "      <th>2</th>\n",
       "      <td>6041</td>\n",
       "      <td>1265</td>\n",
       "      <td>5</td>\n",
       "    </tr>\n",
       "    <tr>\n",
       "      <th>3</th>\n",
       "      <td>6041</td>\n",
       "      <td>2571</td>\n",
       "      <td>5</td>\n",
       "    </tr>\n",
       "    <tr>\n",
       "      <th>4</th>\n",
       "      <td>6041</td>\n",
       "      <td>1907</td>\n",
       "      <td>5</td>\n",
       "    </tr>\n",
       "  </tbody>\n",
       "</table>\n",
       "</div>"
      ],
      "text/plain": [
       "   user_id  movie_id  count\n",
       "0     6041      1307      5\n",
       "1     6041       215      5\n",
       "2     6041      1265      5\n",
       "3     6041      2571      5\n",
       "4     6041      1907      5"
      ]
     },
     "execution_count": 28,
     "metadata": {},
     "output_type": "execute_result"
    }
   ],
   "source": [
    "# make dataframe out of my favorite movies giving 5 count scores\n",
    "myfav = {'user_id': [6041]*5, 'movie_id': my_movie, 'count':[5]*5}\n",
    "myfav = pd.DataFrame(myfav)\n",
    "myfav"
   ]
  },
  {
   "cell_type": "code",
   "execution_count": 29,
   "metadata": {},
   "outputs": [
    {
     "data": {
      "text/html": [
       "<div>\n",
       "<style scoped>\n",
       "    .dataframe tbody tr th:only-of-type {\n",
       "        vertical-align: middle;\n",
       "    }\n",
       "\n",
       "    .dataframe tbody tr th {\n",
       "        vertical-align: top;\n",
       "    }\n",
       "\n",
       "    .dataframe thead th {\n",
       "        text-align: right;\n",
       "    }\n",
       "</style>\n",
       "<table border=\"1\" class=\"dataframe\">\n",
       "  <thead>\n",
       "    <tr style=\"text-align: right;\">\n",
       "      <th></th>\n",
       "      <th>user_id</th>\n",
       "      <th>movie_id</th>\n",
       "      <th>count</th>\n",
       "    </tr>\n",
       "  </thead>\n",
       "  <tbody>\n",
       "    <tr>\n",
       "      <th>1000207</th>\n",
       "      <td>6040</td>\n",
       "      <td>1096</td>\n",
       "      <td>4</td>\n",
       "    </tr>\n",
       "    <tr>\n",
       "      <th>1000208</th>\n",
       "      <td>6040</td>\n",
       "      <td>1097</td>\n",
       "      <td>4</td>\n",
       "    </tr>\n",
       "    <tr>\n",
       "      <th>0</th>\n",
       "      <td>6041</td>\n",
       "      <td>1307</td>\n",
       "      <td>5</td>\n",
       "    </tr>\n",
       "    <tr>\n",
       "      <th>1</th>\n",
       "      <td>6041</td>\n",
       "      <td>215</td>\n",
       "      <td>5</td>\n",
       "    </tr>\n",
       "    <tr>\n",
       "      <th>2</th>\n",
       "      <td>6041</td>\n",
       "      <td>1265</td>\n",
       "      <td>5</td>\n",
       "    </tr>\n",
       "    <tr>\n",
       "      <th>3</th>\n",
       "      <td>6041</td>\n",
       "      <td>2571</td>\n",
       "      <td>5</td>\n",
       "    </tr>\n",
       "    <tr>\n",
       "      <th>4</th>\n",
       "      <td>6041</td>\n",
       "      <td>1907</td>\n",
       "      <td>5</td>\n",
       "    </tr>\n",
       "  </tbody>\n",
       "</table>\n",
       "</div>"
      ],
      "text/plain": [
       "         user_id  movie_id  count\n",
       "1000207     6040      1096      4\n",
       "1000208     6040      1097      4\n",
       "0           6041      1307      5\n",
       "1           6041       215      5\n",
       "2           6041      1265      5\n",
       "3           6041      2571      5\n",
       "4           6041      1907      5"
      ]
     },
     "execution_count": 29,
     "metadata": {},
     "output_type": "execute_result"
    }
   ],
   "source": [
    "# add my favorites to dataset\n",
    "data = copy.deepcopy(ratings) # copy ratings dataset to object data\n",
    "if not ratings.isin({'user_id':['6041']})['user_id'].any():  \n",
    "    data = data.append(myfav) # add my favorites to dataset                          \n",
    "data.tail(7)"
   ]
  },
  {
   "cell_type": "code",
   "execution_count": 30,
   "metadata": {},
   "outputs": [
    {
     "data": {
      "text/plain": [
       "6040"
      ]
     },
     "execution_count": 30,
     "metadata": {},
     "output_type": "execute_result"
    }
   ],
   "source": [
    "data['user_id'].nunique()"
   ]
  },
  {
   "cell_type": "code",
   "execution_count": 31,
   "metadata": {},
   "outputs": [
    {
     "data": {
      "text/plain": [
       "6041"
      ]
     },
     "execution_count": 31,
     "metadata": {},
     "output_type": "execute_result"
    }
   ],
   "source": [
    "data['user_id'].max() # max method returns 6041 as my choice is added under id 6041"
   ]
  },
  {
   "cell_type": "code",
   "execution_count": 32,
   "metadata": {},
   "outputs": [
    {
     "data": {
      "text/plain": [
       "3628"
      ]
     },
     "execution_count": 32,
     "metadata": {},
     "output_type": "execute_result"
    }
   ],
   "source": [
    "data['movie_id'].nunique()"
   ]
  },
  {
   "cell_type": "code",
   "execution_count": 33,
   "metadata": {},
   "outputs": [
    {
     "data": {
      "text/plain": [
       "3952"
      ]
     },
     "execution_count": 33,
     "metadata": {},
     "output_type": "execute_result"
    }
   ],
   "source": [
    "data['movie_id'].max() # max and nunique return different numbers."
   ]
  },
  {
   "cell_type": "markdown",
   "metadata": {},
   "source": [
    "### 4) create CSR matrix"
   ]
  },
  {
   "cell_type": "code",
   "execution_count": 34,
   "metadata": {},
   "outputs": [
    {
     "data": {
      "text/plain": [
       "<6042x3953 sparse matrix of type '<class 'numpy.int64'>'\n",
       "\twith 836483 stored elements in Compressed Sparse Row format>"
      ]
     },
     "execution_count": 34,
     "metadata": {},
     "output_type": "execute_result"
    }
   ],
   "source": [
    "csr_data = csr_matrix((data['count'], (data.user_id, data.movie_id)))\n",
    "csr_data "
   ]
  },
  {
   "cell_type": "markdown",
   "metadata": {},
   "source": [
    "### 5) build and train als_model = AlternatingLeastSquares"
   ]
  },
  {
   "cell_type": "code",
   "execution_count": 35,
   "metadata": {},
   "outputs": [],
   "source": [
    "os.environ['OPENBLAS_NUM_THREADS']='1'\n",
    "os.environ['KMP_DUPLICATE_LIB_OK']='True'\n",
    "os.environ['MKL_NUM_THREADS']='1'"
   ]
  },
  {
   "cell_type": "code",
   "execution_count": 39,
   "metadata": {},
   "outputs": [],
   "source": [
    "als_model = AlternatingLeastSquares(factors=128, regularization=0.01, use_gpu=False, iterations=15, dtype=np.float32)"
   ]
  },
  {
   "cell_type": "code",
   "execution_count": 40,
   "metadata": {},
   "outputs": [
    {
     "data": {
      "text/plain": [
       "<3953x6042 sparse matrix of type '<class 'numpy.int64'>'\n",
       "\twith 836483 stored elements in Compressed Sparse Column format>"
      ]
     },
     "execution_count": 40,
     "metadata": {},
     "output_type": "execute_result"
    }
   ],
   "source": [
    "# als model takes in item x user shaped matrix as input; as csr_data is created as user x item it needs to be transposed\n",
    "csr_data_transpose = csr_data.T\n",
    "csr_data_transpose"
   ]
  },
  {
   "cell_type": "code",
   "execution_count": 41,
   "metadata": {},
   "outputs": [
    {
     "data": {
      "application/vnd.jupyter.widget-view+json": {
       "model_id": "e53c4e6ddab74b779cd9451bceae6982",
       "version_major": 2,
       "version_minor": 0
      },
      "text/plain": [
       "  0%|          | 0/15 [00:00<?, ?it/s]"
      ]
     },
     "metadata": {},
     "output_type": "display_data"
    }
   ],
   "source": [
    "als_model.fit(csr_data_transpose)"
   ]
  },
  {
   "cell_type": "markdown",
   "metadata": {},
   "source": [
    "### 6) get favor scores of one of my favorites and one of the others from traind als model"
   ]
  },
  {
   "cell_type": "code",
   "execution_count": 42,
   "metadata": {},
   "outputs": [
    {
     "data": {
      "text/plain": [
       "array([-0.03671481, -0.21935   ,  0.12754501,  0.9945725 ,  0.13789749,\n",
       "        0.09895207,  0.5804605 , -0.30127826,  0.035249  , -0.49202418,\n",
       "        0.53168803,  0.22564851, -0.14183515, -0.0167791 , -0.3888874 ,\n",
       "        0.05825231,  0.05250799, -0.58470434,  0.98937047, -0.77979565,\n",
       "       -0.3014502 , -0.03688507,  0.08277088, -0.3173057 , -0.07260982,\n",
       "        0.67299825,  0.33262837,  0.9251099 ,  0.562729  , -0.18661322,\n",
       "       -0.23814096, -0.04420493,  0.8505713 , -0.56173795, -0.17071465,\n",
       "       -0.46091908,  0.91928166, -0.01246936, -0.20095077, -0.1994051 ,\n",
       "        0.24364899, -0.5307997 , -0.11383876,  0.34062433, -0.71368897,\n",
       "       -0.3146015 ,  0.16159455, -0.44594288, -0.11182477,  0.4251395 ,\n",
       "        0.33421108,  0.7347167 ,  0.26137942, -0.23547493,  0.39491645,\n",
       "        0.09500978,  0.28481376,  0.1431498 ,  0.61266565, -0.07440323,\n",
       "       -0.06925932,  0.21025914,  0.06153481, -0.09653218, -0.17510201,\n",
       "       -0.36498344, -0.03465715, -0.1238426 , -0.45321837, -0.25676513,\n",
       "       -0.18365465,  0.46966642, -0.0479214 ,  0.40575087,  0.13364221,\n",
       "        0.67463285,  0.79159796,  0.1641379 , -0.03955012,  0.21948408,\n",
       "        0.39032966, -0.49882331, -0.28996405, -0.3281852 , -0.25521806,\n",
       "        0.96579695,  0.18411753,  0.23469873, -0.37505323,  0.2251179 ,\n",
       "        0.45248964,  0.7766088 ,  0.13382426,  0.12668872, -0.9397183 ,\n",
       "        0.1529134 ,  0.1720818 , -0.8015706 , -0.6915392 , -0.7852653 ,\n",
       "       -0.11917179, -0.51780623, -0.09163743, -0.26393774, -0.10158612,\n",
       "        0.5216931 ,  0.3984016 ,  0.41751894, -0.11826999, -0.46334672,\n",
       "       -0.37342137, -0.24015704,  0.7377132 , -0.02820171,  0.6763939 ,\n",
       "        0.97036356, -0.5282536 , -0.3263954 ,  0.3496566 , -0.47861388,\n",
       "       -0.77496094, -0.5998885 ,  0.2631713 , -1.2955441 ,  0.4514145 ,\n",
       "        0.21179523, -0.32155433, -0.72455376], dtype=float32)"
      ]
     },
     "execution_count": 42,
     "metadata": {},
     "output_type": "execute_result"
    }
   ],
   "source": [
    "# get my user vector from trained model\n",
    "als_model.user_factors[6041]"
   ]
  },
  {
   "cell_type": "code",
   "execution_count": 43,
   "metadata": {},
   "outputs": [
    {
     "data": {
      "text/html": [
       "<div>\n",
       "<style scoped>\n",
       "    .dataframe tbody tr th:only-of-type {\n",
       "        vertical-align: middle;\n",
       "    }\n",
       "\n",
       "    .dataframe tbody tr th {\n",
       "        vertical-align: top;\n",
       "    }\n",
       "\n",
       "    .dataframe thead th {\n",
       "        text-align: right;\n",
       "    }\n",
       "</style>\n",
       "<table border=\"1\" class=\"dataframe\">\n",
       "  <thead>\n",
       "    <tr style=\"text-align: right;\">\n",
       "      <th></th>\n",
       "      <th>movie_id</th>\n",
       "      <th>title</th>\n",
       "      <th>genre</th>\n",
       "      <th>title_lower</th>\n",
       "    </tr>\n",
       "  </thead>\n",
       "  <tbody>\n",
       "    <tr>\n",
       "      <th>213</th>\n",
       "      <td>215</td>\n",
       "      <td>Before Sunrise (1995)</td>\n",
       "      <td>Drama|Romance</td>\n",
       "      <td>before sunrise (1995)</td>\n",
       "    </tr>\n",
       "    <tr>\n",
       "      <th>1245</th>\n",
       "      <td>1265</td>\n",
       "      <td>Groundhog Day (1993)</td>\n",
       "      <td>Comedy|Romance</td>\n",
       "      <td>groundhog day (1993)</td>\n",
       "    </tr>\n",
       "    <tr>\n",
       "      <th>1287</th>\n",
       "      <td>1307</td>\n",
       "      <td>When Harry Met Sally... (1989)</td>\n",
       "      <td>Comedy|Romance</td>\n",
       "      <td>when harry met sally... (1989)</td>\n",
       "    </tr>\n",
       "    <tr>\n",
       "      <th>1838</th>\n",
       "      <td>1907</td>\n",
       "      <td>Mulan (1998)</td>\n",
       "      <td>Animation|Children's</td>\n",
       "      <td>mulan (1998)</td>\n",
       "    </tr>\n",
       "    <tr>\n",
       "      <th>2502</th>\n",
       "      <td>2571</td>\n",
       "      <td>Matrix, The (1999)</td>\n",
       "      <td>Action|Sci-Fi|Thriller</td>\n",
       "      <td>matrix, the (1999)</td>\n",
       "    </tr>\n",
       "  </tbody>\n",
       "</table>\n",
       "</div>"
      ],
      "text/plain": [
       "      movie_id                           title                   genre  \\\n",
       "213        215           Before Sunrise (1995)           Drama|Romance   \n",
       "1245      1265            Groundhog Day (1993)          Comedy|Romance   \n",
       "1287      1307  When Harry Met Sally... (1989)          Comedy|Romance   \n",
       "1838      1907                    Mulan (1998)    Animation|Children's   \n",
       "2502      2571              Matrix, The (1999)  Action|Sci-Fi|Thriller   \n",
       "\n",
       "                         title_lower  \n",
       "213            before sunrise (1995)  \n",
       "1245            groundhog day (1993)  \n",
       "1287  when harry met sally... (1989)  \n",
       "1838                    mulan (1998)  \n",
       "2502              matrix, the (1999)  "
      ]
     },
     "execution_count": 43,
     "metadata": {},
     "output_type": "execute_result"
    }
   ],
   "source": [
    "movies[movies['movie_id'].isin(myfav['movie_id'])]"
   ]
  },
  {
   "cell_type": "code",
   "execution_count": 44,
   "metadata": {},
   "outputs": [
    {
     "data": {
      "text/html": [
       "<div>\n",
       "<style scoped>\n",
       "    .dataframe tbody tr th:only-of-type {\n",
       "        vertical-align: middle;\n",
       "    }\n",
       "\n",
       "    .dataframe tbody tr th {\n",
       "        vertical-align: top;\n",
       "    }\n",
       "\n",
       "    .dataframe thead th {\n",
       "        text-align: right;\n",
       "    }\n",
       "</style>\n",
       "<table border=\"1\" class=\"dataframe\">\n",
       "  <thead>\n",
       "    <tr style=\"text-align: right;\">\n",
       "      <th></th>\n",
       "      <th>movie_id</th>\n",
       "      <th>title</th>\n",
       "      <th>genre</th>\n",
       "      <th>title_lower</th>\n",
       "    </tr>\n",
       "  </thead>\n",
       "  <tbody>\n",
       "    <tr>\n",
       "      <th>2651</th>\n",
       "      <td>2720</td>\n",
       "      <td>Inspector Gadget (1999)</td>\n",
       "      <td>Action|Adventure|Children's|Comedy</td>\n",
       "      <td>inspector gadget (1999)</td>\n",
       "    </tr>\n",
       "  </tbody>\n",
       "</table>\n",
       "</div>"
      ],
      "text/plain": [
       "      movie_id                    title                               genre  \\\n",
       "2651      2720  Inspector Gadget (1999)  Action|Adventure|Children's|Comedy   \n",
       "\n",
       "                  title_lower  \n",
       "2651  inspector gadget (1999)  "
      ]
     },
     "execution_count": 44,
     "metadata": {},
     "output_type": "execute_result"
    }
   ],
   "source": [
    "# pick random movie\n",
    "random_movie = np.random.choice(movies['movie_id'])\n",
    "movies[movies['movie_id']==random_movie]"
   ]
  },
  {
   "cell_type": "code",
   "execution_count": 56,
   "metadata": {},
   "outputs": [
    {
     "name": "stdout",
     "output_type": "stream",
     "text": [
      " inspector gadget favor score : 0.010590699501335621 , before sunrise favor score : 0.17019209265708923\n"
     ]
    }
   ],
   "source": [
    "# get favor score of inspector gadget and before sunrise\n",
    "r_mov_vec, fav_mov_vec =  als_model.item_factors[2720], als_model.item_factors[215]\n",
    "my_vec = als_model.user_factors[6041]\n",
    "print(f' inspector gadget favor score : {np.dot(my_vec, r_mov_vec)} , before sunrise favor score : {np.dot(my_vec, fav_mov_vec)}') "
   ]
  },
  {
   "cell_type": "markdown",
   "metadata": {},
   "source": [
    "### 7) get similar movies recommendation from trained model"
   ]
  },
  {
   "cell_type": "code",
   "execution_count": 51,
   "metadata": {},
   "outputs": [
    {
     "name": "stdout",
     "output_type": "stream",
     "text": [
      "0           Toy Story (1995)\n",
      "213    Before Sunrise (1995)\n",
      "Name: title, dtype: object\n",
      "754    Heavy (1995)\n",
      "Name: title, dtype: object\n",
      "71    Kicking and Screaming (1995)\n",
      "Name: title, dtype: object\n",
      "413    Barcelona (1994)\n",
      "Name: title, dtype: object\n",
      "1344    Ridicule (1996)\n",
      "Name: title, dtype: object\n",
      "2816    Guinevere (1999)\n",
      "Name: title, dtype: object\n",
      "835    Flirt (1995)\n",
      "Name: title, dtype: object\n",
      "147    Amateur (1994)\n",
      "Name: title, dtype: object\n",
      "1428    Hotel de Love (1996)\n",
      "Name: title, dtype: object\n",
      "1853    Whatever (1998)\n",
      "Name: title, dtype: object\n"
     ]
    }
   ],
   "source": [
    "# movies similar to before sunrise\n",
    "similar_movie = als_model.similar_items(215, N=10)\n",
    "for x in range(len(similar_movie)):\n",
    "    print(movies['title'][movies['movie_id'].isin(similar_movie[x])])"
   ]
  },
  {
   "cell_type": "markdown",
   "metadata": {},
   "source": [
    "### 8) movies recommendations based on my taste"
   ]
  },
  {
   "cell_type": "code",
   "execution_count": 52,
   "metadata": {},
   "outputs": [
    {
     "data": {
      "text/plain": [
       "[(589, 0.38454714),\n",
       " (1270, 0.34660178),\n",
       " (457, 0.28571454),\n",
       " (1, 0.26723158),\n",
       " (1240, 0.2566485),\n",
       " (1197, 0.25634918),\n",
       " (2918, 0.25597346),\n",
       " (2916, 0.24381313),\n",
       " (1653, 0.23401353),\n",
       " (2762, 0.22473969),\n",
       " (2716, 0.22223154),\n",
       " (357, 0.2170414),\n",
       " (377, 0.21523449),\n",
       " (1527, 0.21232672),\n",
       " (2081, 0.2101368),\n",
       " (2248, 0.20873171),\n",
       " (1923, 0.20525223),\n",
       " (364, 0.1937974),\n",
       " (595, 0.18965554),\n",
       " (2028, 0.18050879)]"
      ]
     },
     "execution_count": 52,
     "metadata": {},
     "output_type": "execute_result"
    }
   ],
   "source": [
    "movies_recommended = als_model.recommend(6041, csr_data, N=20, filter_already_liked_items=True)\n",
    "movies_recommended"
   ]
  },
  {
   "cell_type": "code",
   "execution_count": 53,
   "metadata": {},
   "outputs": [
    {
     "data": {
      "text/plain": [
       "589"
      ]
     },
     "execution_count": 53,
     "metadata": {},
     "output_type": "execute_result"
    }
   ],
   "source": [
    "movies_recommended[0][0]"
   ]
  },
  {
   "cell_type": "code",
   "execution_count": 54,
   "metadata": {},
   "outputs": [
    {
     "data": {
      "text/plain": [
       "20"
      ]
     },
     "execution_count": 54,
     "metadata": {},
     "output_type": "execute_result"
    }
   ],
   "source": [
    "len(movies_recommended)"
   ]
  },
  {
   "cell_type": "code",
   "execution_count": 55,
   "metadata": {},
   "outputs": [
    {
     "name": "stdout",
     "output_type": "stream",
     "text": [
      "추천영화 : 585    Terminator 2: Judgment Day (1991)\n",
      "Name: title, dtype: object 선호도 : 0.385\n",
      "추천영화 : 1250    Back to the Future (1985)\n",
      "Name: title, dtype: object 선호도 : 0.347\n",
      "추천영화 : 453    Fugitive, The (1993)\n",
      "Name: title, dtype: object 선호도 : 0.286\n",
      "추천영화 : 0    Toy Story (1995)\n",
      "Name: title, dtype: object 선호도 : 0.267\n",
      "추천영화 : 1220    Terminator, The (1984)\n",
      "Name: title, dtype: object 선호도 : 0.257\n",
      "추천영화 : 1179    Princess Bride, The (1987)\n",
      "Name: title, dtype: object 선호도 : 0.256\n",
      "추천영화 : 2849    Ferris Bueller's Day Off (1986)\n",
      "Name: title, dtype: object 선호도 : 0.256\n",
      "추천영화 : 2847    Total Recall (1990)\n",
      "Name: title, dtype: object 선호도 : 0.244\n",
      "추천영화 : 1607    Gattaca (1997)\n",
      "Name: title, dtype: object 선호도 : 0.234\n",
      "추천영화 : 2693    Sixth Sense, The (1999)\n",
      "Name: title, dtype: object 선호도 : 0.225\n",
      "추천영화 : 2647    Ghostbusters (1984)\n",
      "Name: title, dtype: object 선호도 : 0.222\n",
      "추천영화 : 353    Four Weddings and a Funeral (1994)\n",
      "Name: title, dtype: object 선호도 : 0.217\n",
      "추천영화 : 373    Speed (1994)\n",
      "Name: title, dtype: object 선호도 : 0.215\n",
      "추천영화 : 1491    Fifth Element, The (1997)\n",
      "Name: title, dtype: object 선호도 : 0.212\n",
      "추천영화 : 2012    Little Mermaid, The (1989)\n",
      "Name: title, dtype: object 선호도 : 0.210\n",
      "추천영화 : 2179    Say Anything... (1989)\n",
      "Name: title, dtype: object 선호도 : 0.209\n",
      "추천영화 : 1854    There's Something About Mary (1998)\n",
      "Name: title, dtype: object 선호도 : 0.205\n",
      "추천영화 : 360    Lion King, The (1994)\n",
      "Name: title, dtype: object 선호도 : 0.194\n",
      "추천영화 : 591    Beauty and the Beast (1991)\n",
      "Name: title, dtype: object 선호도 : 0.190\n",
      "추천영화 : 1959    Saving Private Ryan (1998)\n",
      "Name: title, dtype: object 선호도 : 0.181\n"
     ]
    }
   ],
   "source": [
    "for x, y in movies_recommended:\n",
    "    title = movies['title'][movies['movie_id'].isin([x])]\n",
    "    print(f'추천영화 : {title}', end = ' ')\n",
    "    print(f'선호도 : {y:.3f}')"
   ]
  }
 ],
 "metadata": {
  "kernelspec": {
   "display_name": "aiffel",
   "language": "python",
   "name": "aiffel"
  },
  "language_info": {
   "codemirror_mode": {
    "name": "ipython",
    "version": 3
   },
   "file_extension": ".py",
   "mimetype": "text/x-python",
   "name": "python",
   "nbconvert_exporter": "python",
   "pygments_lexer": "ipython3",
   "version": "3.7.9"
  }
 },
 "nbformat": 4,
 "nbformat_minor": 4
}
