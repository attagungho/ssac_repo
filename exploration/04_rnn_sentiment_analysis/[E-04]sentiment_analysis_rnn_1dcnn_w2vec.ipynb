{
 "cells": [
  {
   "cell_type": "markdown",
   "metadata": {},
   "source": [
    "## SSAC - Exploration 4 - Sentiment Analysis : Naver Movie Review"
   ]
  },
  {
   "cell_type": "code",
   "execution_count": 390,
   "metadata": {},
   "outputs": [],
   "source": [
    "# impore required packages\n",
    "import pandas as pd\n",
    "import urllib.request\n",
    "import matplotlib.pyplot as plt\n",
    "import re, os, gensim, random\n",
    "from konlpy.tag import Okt\n",
    "from konlpy.tag import Mecab\n",
    "from tensorflow import keras\n",
    "from tensorflow.keras.preprocessing.text import Tokenizer\n",
    "import numpy as np\n",
    "from tensorflow.keras.preprocessing.sequence import pad_sequences\n",
    "from collections import Counter\n",
    "from gensim.models.keyedvectors import Word2VecKeyedVectors"
   ]
  },
  {
   "cell_type": "code",
   "execution_count": 422,
   "metadata": {},
   "outputs": [
    {
     "name": "stdout",
     "output_type": "stream",
     "text": [
      "(150000, 3) (50000, 3)\n"
     ]
    },
    {
     "data": {
      "text/html": [
       "<div>\n",
       "<style scoped>\n",
       "    .dataframe tbody tr th:only-of-type {\n",
       "        vertical-align: middle;\n",
       "    }\n",
       "\n",
       "    .dataframe tbody tr th {\n",
       "        vertical-align: top;\n",
       "    }\n",
       "\n",
       "    .dataframe thead th {\n",
       "        text-align: right;\n",
       "    }\n",
       "</style>\n",
       "<table border=\"1\" class=\"dataframe\">\n",
       "  <thead>\n",
       "    <tr style=\"text-align: right;\">\n",
       "      <th></th>\n",
       "      <th>id</th>\n",
       "      <th>document</th>\n",
       "      <th>label</th>\n",
       "    </tr>\n",
       "  </thead>\n",
       "  <tbody>\n",
       "    <tr>\n",
       "      <th>0</th>\n",
       "      <td>9976970</td>\n",
       "      <td>아 더빙.. 진짜 짜증나네요 목소리</td>\n",
       "      <td>0</td>\n",
       "    </tr>\n",
       "    <tr>\n",
       "      <th>1</th>\n",
       "      <td>3819312</td>\n",
       "      <td>흠...포스터보고 초딩영화줄....오버연기조차 가볍지 않구나</td>\n",
       "      <td>1</td>\n",
       "    </tr>\n",
       "    <tr>\n",
       "      <th>2</th>\n",
       "      <td>10265843</td>\n",
       "      <td>너무재밓었다그래서보는것을추천한다</td>\n",
       "      <td>0</td>\n",
       "    </tr>\n",
       "    <tr>\n",
       "      <th>3</th>\n",
       "      <td>9045019</td>\n",
       "      <td>교도소 이야기구먼 ..솔직히 재미는 없다..평점 조정</td>\n",
       "      <td>0</td>\n",
       "    </tr>\n",
       "    <tr>\n",
       "      <th>4</th>\n",
       "      <td>6483659</td>\n",
       "      <td>사이몬페그의 익살스런 연기가 돋보였던 영화!스파이더맨에서 늙어보이기만 했던 커스틴 ...</td>\n",
       "      <td>1</td>\n",
       "    </tr>\n",
       "  </tbody>\n",
       "</table>\n",
       "</div>"
      ],
      "text/plain": [
       "         id                                           document  label\n",
       "0   9976970                                아 더빙.. 진짜 짜증나네요 목소리      0\n",
       "1   3819312                  흠...포스터보고 초딩영화줄....오버연기조차 가볍지 않구나      1\n",
       "2  10265843                                  너무재밓었다그래서보는것을추천한다      0\n",
       "3   9045019                      교도소 이야기구먼 ..솔직히 재미는 없다..평점 조정      0\n",
       "4   6483659  사이몬페그의 익살스런 연기가 돋보였던 영화!스파이더맨에서 늙어보이기만 했던 커스틴 ...      1"
      ]
     },
     "execution_count": 422,
     "metadata": {},
     "output_type": "execute_result"
    }
   ],
   "source": [
    "# load data\n",
    "train_data = pd.read_table('~/aiffel/sentiment_classification/ratings_train.txt')\n",
    "test_data = pd.read_table('~/aiffel/sentiment_classification/ratings_test.txt')\n",
    "\n",
    "print(train_data.shape, test_data.shape)\n",
    "train_data.head()"
   ]
  },
  {
   "cell_type": "code",
   "execution_count": 423,
   "metadata": {},
   "outputs": [],
   "source": [
    "# stopwords\n",
    "stopwords = ['의','가','이','은','들','는','좀','잘','걍','과','도','를','더이다','으실','.','을려고',\n",
    "             '으로','자','에','와','한','하다','흠','아','들이','랍니다','세용','습니까','%','30']"
   ]
  },
  {
   "cell_type": "code",
   "execution_count": 424,
   "metadata": {},
   "outputs": [],
   "source": [
    "# load morphological analyzer Mecab\n",
    "tokenizer = Mecab()"
   ]
  },
  {
   "cell_type": "code",
   "execution_count": 425,
   "metadata": {},
   "outputs": [],
   "source": [
    "vocab_size = 10000 # number of words\n",
    "\n",
    "def load_data(train_data, test_data, num_words=vocab_size):\n",
    "\n",
    "    train_data.drop_duplicates(subset=['document'], inplace=True) # remove duplicated review data\n",
    "    train_data = train_data.dropna(how = 'any')  # remove 'NA'\n",
    "    test_data.drop_duplicates(subset=['document'], inplace=True)\n",
    "    test_data = test_data.dropna(how = 'any') \n",
    "\n",
    "    X_train = []\n",
    "    for sentence in train_data['document']:\n",
    "        temp_X = tokenizer.morphs(sentence) # tokenize using morphological analyzer\n",
    "        temp_X = [word for word in temp_X if not word in stopwords] # remove stopwords\n",
    "        X_train.append(temp_X)\n",
    "\n",
    "    X_test = []\n",
    "    for sentence in test_data['document']:\n",
    "        temp_X = tokenizer.morphs(sentence) # tokenize\n",
    "        temp_X = [word for word in temp_X if not word in stopwords] # remove stopwords\n",
    "        X_test.append(temp_X)\n",
    "\n",
    "    words = np.concatenate(X_train).tolist()\n",
    "    counter = Counter(words)\n",
    "    counter = counter.most_common(vocab_size-4) # select most commonly used words \n",
    "    vocab = ['<PAD>', '<BOS>', '<UNK>', '<UNUSED>'] + [key for key, _ in counter]\n",
    "    word_to_index = {word:index for index, word in enumerate(vocab)}\n",
    "\n",
    "    def wordlist_to_indexlist(wordlist):\n",
    "        return [word_to_index[word] if word in word_to_index else word_to_index['<UNK>'] for word in wordlist]\n",
    "\n",
    "    X_train = list(map(wordlist_to_indexlist, X_train))\n",
    "    X_test = list(map(wordlist_to_indexlist, X_test))\n",
    "\n",
    "    return X_train, np.array(list(train_data['label'])), X_test, np.array(list(test_data['label'])), word_to_index\n",
    "    \n",
    "X_train, y_train, X_test, y_test, word_to_index = load_data(train_data, test_data)"
   ]
  },
  {
   "cell_type": "code",
   "execution_count": 426,
   "metadata": {},
   "outputs": [],
   "source": [
    "temp = list(word_to_index.keys())"
   ]
  },
  {
   "cell_type": "code",
   "execution_count": 427,
   "metadata": {},
   "outputs": [
    {
     "data": {
      "text/plain": [
       "['감미',\n",
       " '라이더',\n",
       " '멈출',\n",
       " '~~~!!',\n",
       " '반응',\n",
       " 'naver',\n",
       " '무겁',\n",
       " '만하다',\n",
       " '다더니',\n",
       " '브라보',\n",
       " '돌파',\n",
       " '리얼리즘']"
      ]
     },
     "execution_count": 427,
     "metadata": {},
     "output_type": "execute_result"
    }
   ],
   "source": [
    "random.sample(temp, 12)"
   ]
  },
  {
   "cell_type": "markdown",
   "metadata": {},
   "source": [
    "## preprocess data"
   ]
  },
  {
   "cell_type": "code",
   "execution_count": 428,
   "metadata": {},
   "outputs": [],
   "source": [
    "index_to_word = {index:word for word, index in word_to_index.items()}"
   ]
  },
  {
   "cell_type": "code",
   "execution_count": 429,
   "metadata": {},
   "outputs": [],
   "source": [
    "# define preprocess functions\n",
    "\n",
    "# convert words in sentence to index\n",
    "def get_encoded_sentence(sentence, word_to_index):\n",
    "    return [word_to_index['<BOS>']]+[word_to_index[word] if word in word_to_index else word_to_index['<UNK>'] for word in sentence.split()]\n",
    "\n",
    "# take list of sentences and return index list vector \n",
    "def get_encoded_sentences(sentences, word_to_index):\n",
    "    return [get_encoded_sentence(sentence, word_to_index) for sentence in sentences]\n",
    "\n",
    "# decode encoded sentence \n",
    "def get_decoded_sentence(encoded_sentence, index_to_word):\n",
    "    return ' '.join(index_to_word[index] if index in index_to_word else '<UNK>' for index in encoded_sentence[1:])  #[1:]를 통해 <BOS>를 제외\n",
    "\n",
    "# decode encoded sentences \n",
    "def get_decoded_sentences(encoded_sentences, index_to_word):\n",
    "    return [get_decoded_sentence(encoded_sentence, index_to_word) for encoded_sentence in encoded_sentences]"
   ]
  },
  {
   "cell_type": "code",
   "execution_count": 430,
   "metadata": {},
   "outputs": [
    {
     "name": "stdout",
     "output_type": "stream",
     "text": [
      "[63, 370, 130, 38, 58, 53, 9418, 131, 9418, 131, 68]\n",
      "라도 기대 했 던 내 죄인 입니다 죄인 입니다 ...\n",
      "라벨:  0\n"
     ]
    }
   ],
   "source": [
    "# check functions\n",
    "print(X_train[33])\n",
    "print(get_decoded_sentence(X_train[33], index_to_word))\n",
    "print('라벨: ', y_train[33])"
   ]
  },
  {
   "cell_type": "code",
   "execution_count": 431,
   "metadata": {},
   "outputs": [
    {
     "name": "stdout",
     "output_type": "stream",
     "text": [
      "문장길이 평균 :  14.812505439262\n",
      "문장길이 최대 :  115\n",
      "문장길이 표준편차 :  12.063286059647814\n"
     ]
    }
   ],
   "source": [
    "total_data_text = list(X_train) + list(X_test)\n",
    "\n",
    "num_tokens = [len(tokens) for tokens in total_data_text]\n",
    "num_tokens = np.array(num_tokens)\n",
    "\n",
    "print('문장길이 평균 : ', np.mean(num_tokens))\n",
    "print('문장길이 최대 : ', np.max(num_tokens))\n",
    "print('문장길이 표준편차 : ', np.std(num_tokens))"
   ]
  },
  {
   "cell_type": "code",
   "execution_count": 433,
   "metadata": {},
   "outputs": [
    {
     "name": "stdout",
     "output_type": "stream",
     "text": [
      "pad_sequences maxlen :  44\n",
      "전체 문장의 0.9521088978647377%가 maxlen 설정값 이내에 포함됩니다. \n"
     ]
    }
   ],
   "source": [
    "# define max length of sentences \n",
    "max_tokens = np.mean(num_tokens) + 2.5 * np.std(num_tokens)\n",
    "maxlen = int(max_tokens)\n",
    "print('pad_sequences maxlen : ', maxlen)\n",
    "print('전체 문장의 {}%가 maxlen 설정값 이내에 포함됩니다. '.format(np.sum(num_tokens < max_tokens) / len(num_tokens)))"
   ]
  },
  {
   "cell_type": "code",
   "execution_count": 434,
   "metadata": {},
   "outputs": [],
   "source": [
    "# pre-padding\n",
    "X_train = keras.preprocessing.sequence.pad_sequences(X_train,\n",
    "                                                        value=word_to_index[\"<PAD>\"],\n",
    "                                                        padding='pre',\n",
    "                                                        maxlen=maxlen)\n",
    "\n",
    "X_test = keras.preprocessing.sequence.pad_sequences(X_test,\n",
    "                                                       value=word_to_index[\"<PAD>\"],\n",
    "                                                       padding='pre',\n",
    "                                                       maxlen=maxlen)"
   ]
  },
  {
   "cell_type": "markdown",
   "metadata": {},
   "source": [
    "## split train dataset : validation and train"
   ]
  },
  {
   "cell_type": "code",
   "execution_count": 435,
   "metadata": {},
   "outputs": [
    {
     "name": "stdout",
     "output_type": "stream",
     "text": [
      "(146182, 44)\n",
      "(49157, 44)\n"
     ]
    }
   ],
   "source": [
    "print(X_train.shape)\n",
    "print(X_test.shape)"
   ]
  },
  {
   "cell_type": "code",
   "execution_count": 436,
   "metadata": {},
   "outputs": [
    {
     "name": "stdout",
     "output_type": "stream",
     "text": [
      "(116182, 44)\n",
      "(116182,)\n",
      "(30000, 44)\n",
      "(30000,)\n"
     ]
    }
   ],
   "source": [
    "# set aside validation dataset\n",
    "x_val = X_train[:30000]   \n",
    "y_val = y_train[:30000]\n",
    "\n",
    "# make the rest train dataset\n",
    "partial_x_train = X_train[30000:]  \n",
    "partial_y_train = y_train[30000:]\n",
    "\n",
    "print(partial_x_train.shape)\n",
    "print(partial_y_train.shape)\n",
    "print(x_val.shape)\n",
    "print(y_val.shape)"
   ]
  },
  {
   "cell_type": "markdown",
   "metadata": {},
   "source": [
    "## build model no.1 and train"
   ]
  },
  {
   "cell_type": "code",
   "execution_count": 437,
   "metadata": {},
   "outputs": [
    {
     "name": "stdout",
     "output_type": "stream",
     "text": [
      "Model: \"sequential_56\"\n",
      "_________________________________________________________________\n",
      "Layer (type)                 Output Shape              Param #   \n",
      "=================================================================\n",
      "embedding_56 (Embedding)     (None, None, 8)           80000     \n",
      "_________________________________________________________________\n",
      "lstm_39 (LSTM)               (None, 8)                 544       \n",
      "_________________________________________________________________\n",
      "dense_106 (Dense)            (None, 8)                 72        \n",
      "_________________________________________________________________\n",
      "dense_107 (Dense)            (None, 1)                 9         \n",
      "=================================================================\n",
      "Total params: 80,625\n",
      "Trainable params: 80,625\n",
      "Non-trainable params: 0\n",
      "_________________________________________________________________\n"
     ]
    }
   ],
   "source": [
    "word_vector_dim = 8\n",
    "\n",
    "model = keras.Sequential()\n",
    "model.add(keras.layers.Embedding(vocab_size, word_vector_dim, input_shape=(None,)))\n",
    "model.add(keras.layers.LSTM(8))\n",
    "model.add(keras.layers.Dense(8, activation='relu'))\n",
    "model.add(keras.layers.Dense(1, activation='sigmoid'))\n",
    "\n",
    "model.summary()"
   ]
  },
  {
   "cell_type": "code",
   "execution_count": 438,
   "metadata": {},
   "outputs": [
    {
     "name": "stdout",
     "output_type": "stream",
     "text": [
      "Epoch 1/10\n",
      "227/227 [==============================] - 1s 6ms/step - loss: 0.5308 - accuracy: 0.7622 - val_loss: 0.3790 - val_accuracy: 0.8401\n",
      "Epoch 2/10\n",
      "227/227 [==============================] - 1s 5ms/step - loss: 0.3509 - accuracy: 0.8527 - val_loss: 0.3501 - val_accuracy: 0.8488\n",
      "Epoch 3/10\n",
      "227/227 [==============================] - 1s 5ms/step - loss: 0.3239 - accuracy: 0.8665 - val_loss: 0.3539 - val_accuracy: 0.8483\n",
      "Epoch 4/10\n",
      "227/227 [==============================] - 1s 5ms/step - loss: 0.3127 - accuracy: 0.8726 - val_loss: 0.3523 - val_accuracy: 0.8492\n",
      "Epoch 5/10\n",
      "227/227 [==============================] - 1s 5ms/step - loss: 0.3057 - accuracy: 0.8754 - val_loss: 0.3521 - val_accuracy: 0.8497\n",
      "Epoch 6/10\n",
      "227/227 [==============================] - 1s 5ms/step - loss: 0.3014 - accuracy: 0.8773 - val_loss: 0.3618 - val_accuracy: 0.8453\n",
      "Epoch 7/10\n",
      "227/227 [==============================] - 1s 5ms/step - loss: 0.2965 - accuracy: 0.8804 - val_loss: 0.3546 - val_accuracy: 0.8479\n",
      "Epoch 8/10\n",
      "227/227 [==============================] - 1s 5ms/step - loss: 0.2905 - accuracy: 0.8836 - val_loss: 0.3581 - val_accuracy: 0.8491\n",
      "Epoch 9/10\n",
      "227/227 [==============================] - 1s 5ms/step - loss: 0.2845 - accuracy: 0.8869 - val_loss: 0.3601 - val_accuracy: 0.8477\n",
      "Epoch 10/10\n",
      "227/227 [==============================] - 1s 5ms/step - loss: 0.2760 - accuracy: 0.8913 - val_loss: 0.3626 - val_accuracy: 0.8488\n"
     ]
    }
   ],
   "source": [
    "model.compile(optimizer='adam',\n",
    "              loss='binary_crossentropy',\n",
    "              metrics=['accuracy'])\n",
    "              \n",
    "epochs = 10  \n",
    "\n",
    "history = model.fit(partial_x_train,\n",
    "                    partial_y_train,\n",
    "                    epochs=epochs,\n",
    "                    batch_size=512,\n",
    "                    validation_data=(x_val, y_val),\n",
    "                    verbose=1)"
   ]
  },
  {
   "cell_type": "code",
   "execution_count": 439,
   "metadata": {},
   "outputs": [
    {
     "data": {
      "image/png": "[encoded data removed]",
      "text/plain": [
       "<Figure size 432x288 with 1 Axes>"
      ]
     },
     "metadata": {
      "needs_background": "light"
     },
     "output_type": "display_data"
    }
   ],
   "source": [
    "acc = history.history['accuracy']\n",
    "val_acc = history.history['val_accuracy']\n",
    "loss = history.history['loss']\n",
    "val_loss = history.history['val_loss']\n",
    "\n",
    "epochs = range(1, len(acc) + 1)\n",
    "\n",
    "plt.plot(epochs, loss, label='Training loss')\n",
    "plt.plot(epochs, val_loss, label='Validation loss')\n",
    "plt.title('Training and validation loss')\n",
    "plt.xlabel('Epochs')\n",
    "plt.ylabel('Loss')\n",
    "plt.legend()\n",
    "\n",
    "plt.show()"
   ]
  },
  {
   "cell_type": "code",
   "execution_count": 440,
   "metadata": {},
   "outputs": [
    {
     "data": {
      "image/png": "[encoded data removed]",
      "text/plain": [
       "<Figure size 432x288 with 1 Axes>"
      ]
     },
     "metadata": {
      "needs_background": "light"
     },
     "output_type": "display_data"
    }
   ],
   "source": [
    "plt.clf()\n",
    "\n",
    "plt.plot(epochs, acc, label='Training acc')\n",
    "plt.plot(epochs, val_acc, label='Validation acc')\n",
    "plt.title('Training and validation accuracy')\n",
    "plt.xlabel('Epochs')\n",
    "plt.ylabel('Accuracy')\n",
    "plt.legend()\n",
    "\n",
    "plt.show()"
   ]
  },
  {
   "cell_type": "markdown",
   "metadata": {},
   "source": [
    "+ validation loss rises after 4 epochs"
   ]
  },
  {
   "cell_type": "code",
   "execution_count": 441,
   "metadata": {},
   "outputs": [
    {
     "name": "stdout",
     "output_type": "stream",
     "text": [
      "Model: \"sequential_57\"\n",
      "_________________________________________________________________\n",
      "Layer (type)                 Output Shape              Param #   \n",
      "=================================================================\n",
      "embedding_57 (Embedding)     (None, None, 8)           80000     \n",
      "_________________________________________________________________\n",
      "lstm_40 (LSTM)               (None, 8)                 544       \n",
      "_________________________________________________________________\n",
      "dense_108 (Dense)            (None, 8)                 72        \n",
      "_________________________________________________________________\n",
      "dense_109 (Dense)            (None, 1)                 9         \n",
      "=================================================================\n",
      "Total params: 80,625\n",
      "Trainable params: 80,625\n",
      "Non-trainable params: 0\n",
      "_________________________________________________________________\n"
     ]
    }
   ],
   "source": [
    "model = keras.Sequential()\n",
    "model.add(keras.layers.Embedding(vocab_size, word_vector_dim, input_shape=(None,)))\n",
    "model.add(keras.layers.LSTM(8))\n",
    "model.add(keras.layers.Dense(8, activation='relu'))\n",
    "model.add(keras.layers.Dense(1, activation='sigmoid'))\n",
    "\n",
    "model.summary()"
   ]
  },
  {
   "cell_type": "code",
   "execution_count": 442,
   "metadata": {},
   "outputs": [
    {
     "name": "stdout",
     "output_type": "stream",
     "text": [
      "Epoch 1/4\n",
      "227/227 [==============================] - 1s 7ms/step - loss: 0.5269 - accuracy: 0.7498 - val_loss: 0.3773 - val_accuracy: 0.8398\n",
      "Epoch 2/4\n",
      "227/227 [==============================] - 1s 5ms/step - loss: 0.3505 - accuracy: 0.8512 - val_loss: 0.3512 - val_accuracy: 0.8491\n",
      "Epoch 3/4\n",
      "227/227 [==============================] - 1s 5ms/step - loss: 0.3242 - accuracy: 0.8650 - val_loss: 0.3461 - val_accuracy: 0.8515\n",
      "Epoch 4/4\n",
      "227/227 [==============================] - 1s 5ms/step - loss: 0.3118 - accuracy: 0.8710 - val_loss: 0.3544 - val_accuracy: 0.8467\n"
     ]
    }
   ],
   "source": [
    "model.compile(optimizer='adam',\n",
    "              loss='binary_crossentropy',\n",
    "              metrics=['accuracy'])\n",
    "              \n",
    "epochs = 4  \n",
    "\n",
    "history = model.fit(partial_x_train,\n",
    "                    partial_y_train,\n",
    "                    epochs=epochs,\n",
    "                    batch_size=512,\n",
    "                    validation_data=(x_val, y_val),\n",
    "                    verbose=1)"
   ]
  },
  {
   "cell_type": "code",
   "execution_count": 443,
   "metadata": {},
   "outputs": [
    {
     "data": {
      "image/png": "[encoded data removed]",
      "text/plain": [
       "<Figure size 432x288 with 2 Axes>"
      ]
     },
     "metadata": {
      "needs_background": "light"
     },
     "output_type": "display_data"
    }
   ],
   "source": [
    "acc = history.history['accuracy']\n",
    "val_acc = history.history['val_accuracy']\n",
    "loss = history.history['loss']\n",
    "val_loss = history.history['val_loss']\n",
    "\n",
    "epochs = range(1, len(acc) + 1)\n",
    "\n",
    "plt.subplot(2,1,1)\n",
    "plt.plot(epochs, loss, label='Training loss')\n",
    "plt.plot(epochs, val_loss, label='Validation loss')\n",
    "plt.title('Training and validation loss')\n",
    "plt.xlabel('Epochs')\n",
    "plt.ylabel('Loss')\n",
    "plt.legend()\n",
    "plt.subplot(2,1,2)\n",
    "plt.plot(epochs, acc, label='Training acc')\n",
    "plt.plot(epochs, val_acc, label='Validation acc')\n",
    "plt.title('Training and validation accuracy')\n",
    "plt.xlabel('Epochs')\n",
    "plt.ylabel('Accuracy')\n",
    "plt.legend()\n",
    "\n",
    "plt.show()"
   ]
  },
  {
   "cell_type": "code",
   "execution_count": 444,
   "metadata": {},
   "outputs": [
    {
     "name": "stdout",
     "output_type": "stream",
     "text": [
      "1537/1537 - 2s - loss: 0.3671 - accuracy: 0.8404\n",
      "[0.36710816621780396, 0.8403889536857605]\n"
     ]
    }
   ],
   "source": [
    "results = model.evaluate(X_test,  y_test, verbose=2)\n",
    "\n",
    "print(results)"
   ]
  },
  {
   "cell_type": "code",
   "execution_count": 445,
   "metadata": {},
   "outputs": [],
   "source": [
    "# save trained embedding parameters \n",
    "word2vec_file_path = os.getenv('HOME')+'/aiffel/sentiment_classification/word2vec_lstm.txt'\n",
    "f = open(word2vec_file_path, 'w')\n",
    "f.write('{} {}\\n'.format(vocab_size-4, word_vector_dim))\n",
    "\n",
    "vectors = model.get_weights()[0]\n",
    "for i in range(4,vocab_size):\n",
    "    f.write('{} {}\\n'.format(index_to_word[i], ' '.join(map(str, list(vectors[i, :])))))\n",
    "f.close()"
   ]
  },
  {
   "cell_type": "code",
   "execution_count": 446,
   "metadata": {},
   "outputs": [
    {
     "data": {
      "text/plain": [
       "array([ 0.00919157, -0.06900816,  0.00204961,  0.03226217, -0.00467412,\n",
       "       -0.0305322 ,  0.08016668, -0.04043596], dtype=float32)"
      ]
     },
     "execution_count": 446,
     "metadata": {},
     "output_type": "execute_result"
    }
   ],
   "source": [
    "word_vectors = Word2VecKeyedVectors.load_word2vec_format(word2vec_file_path, binary=False)\n",
    "vector = word_vectors['기대']\n",
    "vector"
   ]
  },
  {
   "cell_type": "code",
   "execution_count": 447,
   "metadata": {},
   "outputs": [
    {
     "data": {
      "text/plain": [
       "[('페미니즘', 0.9180502891540527),\n",
       " ('헐리우드', 0.9099791049957275),\n",
       " ('a', 0.8777371644973755),\n",
       " ('미치광이', 0.8691240549087524),\n",
       " ('차량', 0.8322340250015259),\n",
       " ('동일', 0.8296346664428711),\n",
       " ('철학', 0.8289940357208252),\n",
       " ('오션스', 0.8219025135040283),\n",
       " ('정의', 0.8149250745773315),\n",
       " ('이즈', 0.8091405630111694)]"
      ]
     },
     "execution_count": 447,
     "metadata": {},
     "output_type": "execute_result"
    }
   ],
   "source": [
    "word_vectors.similar_by_word(\"기대\")"
   ]
  },
  {
   "cell_type": "markdown",
   "metadata": {},
   "source": []
  },
  {
   "cell_type": "markdown",
   "metadata": {},
   "source": [
    "## build model no.2 and train"
   ]
  },
  {
   "cell_type": "code",
   "execution_count": 448,
   "metadata": {},
   "outputs": [
    {
     "name": "stdout",
     "output_type": "stream",
     "text": [
      "Model: \"sequential_58\"\n",
      "_________________________________________________________________\n",
      "Layer (type)                 Output Shape              Param #   \n",
      "=================================================================\n",
      "embedding_58 (Embedding)     (None, None, 8)           80000     \n",
      "_________________________________________________________________\n",
      "conv1d_57 (Conv1D)           (None, None, 16)          912       \n",
      "_________________________________________________________________\n",
      "max_pooling1d_36 (MaxPooling (None, None, 16)          0         \n",
      "_________________________________________________________________\n",
      "conv1d_58 (Conv1D)           (None, None, 16)          1808      \n",
      "_________________________________________________________________\n",
      "global_max_pooling1d_16 (Glo (None, 16)                0         \n",
      "_________________________________________________________________\n",
      "dense_110 (Dense)            (None, 8)                 136       \n",
      "_________________________________________________________________\n",
      "dense_111 (Dense)            (None, 1)                 9         \n",
      "=================================================================\n",
      "Total params: 82,865\n",
      "Trainable params: 82,865\n",
      "Non-trainable params: 0\n",
      "_________________________________________________________________\n"
     ]
    }
   ],
   "source": [
    "word_vector_dim = 8\n",
    "\n",
    "model = keras.Sequential()\n",
    "model.add(keras.layers.Embedding(vocab_size, word_vector_dim, input_shape=(None,)))\n",
    "model.add(keras.layers.Conv1D(16, 7, activation='relu'))\n",
    "model.add(keras.layers.MaxPooling1D(5))\n",
    "model.add(keras.layers.Conv1D(16, 7, activation='relu'))\n",
    "model.add(keras.layers.GlobalMaxPooling1D())\n",
    "model.add(keras.layers.Dense(8, activation='relu'))\n",
    "model.add(keras.layers.Dense(1, activation='sigmoid'))  \n",
    "\n",
    "model.summary()"
   ]
  },
  {
   "cell_type": "code",
   "execution_count": 449,
   "metadata": {},
   "outputs": [
    {
     "name": "stdout",
     "output_type": "stream",
     "text": [
      "Epoch 1/10\n",
      "227/227 [==============================] - 11s 48ms/step - loss: 0.5759 - accuracy: 0.6855 - val_loss: 0.4601 - val_accuracy: 0.7725\n",
      "Epoch 2/10\n",
      "227/227 [==============================] - 1s 4ms/step - loss: 0.4324 - accuracy: 0.7909 - val_loss: 0.4451 - val_accuracy: 0.7795\n",
      "Epoch 3/10\n",
      "227/227 [==============================] - 1s 4ms/step - loss: 0.4057 - accuracy: 0.8065 - val_loss: 0.4458 - val_accuracy: 0.7819\n",
      "Epoch 4/10\n",
      "227/227 [==============================] - 1s 4ms/step - loss: 0.3885 - accuracy: 0.8162 - val_loss: 0.4488 - val_accuracy: 0.7779\n",
      "Epoch 5/10\n",
      "227/227 [==============================] - 1s 4ms/step - loss: 0.3733 - accuracy: 0.8232 - val_loss: 0.4538 - val_accuracy: 0.7792\n",
      "Epoch 6/10\n",
      "227/227 [==============================] - 1s 4ms/step - loss: 0.3565 - accuracy: 0.8333 - val_loss: 0.4665 - val_accuracy: 0.7769\n",
      "Epoch 7/10\n",
      "227/227 [==============================] - 1s 4ms/step - loss: 0.3380 - accuracy: 0.8432 - val_loss: 0.4776 - val_accuracy: 0.7763\n",
      "Epoch 8/10\n",
      "227/227 [==============================] - 1s 4ms/step - loss: 0.3191 - accuracy: 0.8531 - val_loss: 0.4921 - val_accuracy: 0.7758\n",
      "Epoch 9/10\n",
      "227/227 [==============================] - 1s 4ms/step - loss: 0.2992 - accuracy: 0.8633 - val_loss: 0.5139 - val_accuracy: 0.7729\n",
      "Epoch 10/10\n",
      "227/227 [==============================] - 1s 4ms/step - loss: 0.2805 - accuracy: 0.8726 - val_loss: 0.5363 - val_accuracy: 0.7709\n"
     ]
    }
   ],
   "source": [
    "model.compile(optimizer='adam',\n",
    "              loss='binary_crossentropy',\n",
    "              metrics=['accuracy'])\n",
    "              \n",
    "epochs = 10  \n",
    "\n",
    "history = model.fit(partial_x_train,\n",
    "                    partial_y_train,\n",
    "                    epochs=epochs,\n",
    "                    batch_size=512,\n",
    "                    validation_data=(x_val, y_val),\n",
    "                    verbose=1)"
   ]
  },
  {
   "cell_type": "code",
   "execution_count": 450,
   "metadata": {},
   "outputs": [
    {
     "data": {
      "image/png": "[encoded data removed]",
      "text/plain": [
       "<Figure size 432x288 with 2 Axes>"
      ]
     },
     "metadata": {
      "needs_background": "light"
     },
     "output_type": "display_data"
    }
   ],
   "source": [
    "acc = history.history['accuracy']\n",
    "val_acc = history.history['val_accuracy']\n",
    "loss = history.history['loss']\n",
    "val_loss = history.history['val_loss']\n",
    "\n",
    "epochs = range(1, len(acc) + 1)\n",
    "\n",
    "plt.subplot(2,1,1)\n",
    "plt.plot(epochs, loss, label='Training loss')\n",
    "plt.plot(epochs, val_loss, label='Validation loss')\n",
    "plt.title('Training and validation loss')\n",
    "plt.xlabel('Epochs')\n",
    "plt.ylabel('Loss')\n",
    "plt.legend()\n",
    "plt.subplot(2,1,2)\n",
    "plt.plot(epochs, acc, label='Training acc')\n",
    "plt.plot(epochs, val_acc, label='Validation acc')\n",
    "plt.title('Training and validation accuracy')\n",
    "plt.xlabel('Epochs')\n",
    "plt.ylabel('Accuracy')\n",
    "plt.legend()\n",
    "\n",
    "plt.show()"
   ]
  },
  {
   "cell_type": "markdown",
   "metadata": {},
   "source": []
  },
  {
   "cell_type": "code",
   "execution_count": 451,
   "metadata": {},
   "outputs": [
    {
     "name": "stdout",
     "output_type": "stream",
     "text": [
      "Model: \"sequential_59\"\n",
      "_________________________________________________________________\n",
      "Layer (type)                 Output Shape              Param #   \n",
      "=================================================================\n",
      "embedding_59 (Embedding)     (None, None, 8)           80000     \n",
      "_________________________________________________________________\n",
      "conv1d_59 (Conv1D)           (None, None, 16)          912       \n",
      "_________________________________________________________________\n",
      "max_pooling1d_37 (MaxPooling (None, None, 16)          0         \n",
      "_________________________________________________________________\n",
      "conv1d_60 (Conv1D)           (None, None, 16)          1808      \n",
      "_________________________________________________________________\n",
      "global_max_pooling1d_17 (Glo (None, 16)                0         \n",
      "_________________________________________________________________\n",
      "dense_112 (Dense)            (None, 8)                 136       \n",
      "_________________________________________________________________\n",
      "dense_113 (Dense)            (None, 1)                 9         \n",
      "=================================================================\n",
      "Total params: 82,865\n",
      "Trainable params: 82,865\n",
      "Non-trainable params: 0\n",
      "_________________________________________________________________\n"
     ]
    }
   ],
   "source": [
    "model = keras.Sequential()\n",
    "model.add(keras.layers.Embedding(vocab_size, word_vector_dim, input_shape=(None,)))\n",
    "model.add(keras.layers.Conv1D(16, 7, activation='relu'))\n",
    "model.add(keras.layers.MaxPooling1D(5))\n",
    "model.add(keras.layers.Conv1D(16, 7, activation='relu'))\n",
    "model.add(keras.layers.GlobalMaxPooling1D())\n",
    "model.add(keras.layers.Dense(8, activation='relu'))\n",
    "model.add(keras.layers.Dense(1, activation='sigmoid'))  \n",
    "\n",
    "model.summary()"
   ]
  },
  {
   "cell_type": "code",
   "execution_count": 452,
   "metadata": {},
   "outputs": [
    {
     "name": "stdout",
     "output_type": "stream",
     "text": [
      "Epoch 1/3\n",
      "227/227 [==============================] - 1s 4ms/step - loss: 0.5710 - accuracy: 0.6885 - val_loss: 0.4594 - val_accuracy: 0.7702\n",
      "Epoch 2/3\n",
      "227/227 [==============================] - 1s 4ms/step - loss: 0.4307 - accuracy: 0.7912 - val_loss: 0.4426 - val_accuracy: 0.7785\n",
      "Epoch 3/3\n",
      "227/227 [==============================] - 1s 4ms/step - loss: 0.4023 - accuracy: 0.8060 - val_loss: 0.4430 - val_accuracy: 0.7801\n"
     ]
    }
   ],
   "source": [
    "model.compile(optimizer='adam',\n",
    "              loss='binary_crossentropy',\n",
    "              metrics=['accuracy'])\n",
    "              \n",
    "epochs = 3\n",
    "\n",
    "history = model.fit(partial_x_train,\n",
    "                    partial_y_train,\n",
    "                    epochs=epochs,\n",
    "                    batch_size=512,\n",
    "                    validation_data=(x_val, y_val),\n",
    "                    verbose=1)"
   ]
  },
  {
   "cell_type": "code",
   "execution_count": 453,
   "metadata": {},
   "outputs": [
    {
     "data": {
      "image/png": "[encoded data removed]",
      "text/plain": [
       "<Figure size 432x288 with 2 Axes>"
      ]
     },
     "metadata": {
      "needs_background": "light"
     },
     "output_type": "display_data"
    }
   ],
   "source": [
    "acc = history.history['accuracy']\n",
    "val_acc = history.history['val_accuracy']\n",
    "loss = history.history['loss']\n",
    "val_loss = history.history['val_loss']\n",
    "\n",
    "epochs = range(1, len(acc) + 1)\n",
    "\n",
    "plt.subplot(2,1,1)\n",
    "plt.plot(epochs, loss, label='Training loss')\n",
    "plt.plot(epochs, val_loss, label='Validation loss')\n",
    "plt.title('Training and validation loss')\n",
    "plt.xlabel('Epochs')\n",
    "plt.ylabel('Loss')\n",
    "plt.legend()\n",
    "plt.subplot(2,1,2)\n",
    "plt.plot(epochs, acc, label='Training acc')\n",
    "plt.plot(epochs, val_acc, label='Validation acc')\n",
    "plt.title('Training and validation accuracy')\n",
    "plt.xlabel('Epochs')\n",
    "plt.ylabel('Accuracy')\n",
    "plt.legend()\n",
    "\n",
    "plt.show()"
   ]
  },
  {
   "cell_type": "code",
   "execution_count": 454,
   "metadata": {},
   "outputs": [
    {
     "name": "stdout",
     "output_type": "stream",
     "text": [
      "1537/1537 - 4s - loss: 0.4475 - accuracy: 0.7811\n",
      "[0.4474853575229645, 0.7810688018798828]\n"
     ]
    }
   ],
   "source": [
    "results = model.evaluate(X_test,  y_test, verbose=2)\n",
    "\n",
    "print(results)"
   ]
  },
  {
   "cell_type": "code",
   "execution_count": 455,
   "metadata": {},
   "outputs": [],
   "source": [
    "# save trained embedding parameters \n",
    "word2vec_file_path = os.getenv('HOME')+'/aiffel/sentiment_classification/word2vec_conv1d.txt'\n",
    "f = open(word2vec_file_path, 'w')\n",
    "f.write('{} {}\\n'.format(vocab_size-4, word_vector_dim))  \n",
    "\n",
    "vectors = model.get_weights()[0]\n",
    "for i in range(4,vocab_size):\n",
    "    f.write('{} {}\\n'.format(index_to_word[i], ' '.join(map(str, list(vectors[i, :])))))\n",
    "f.close()"
   ]
  },
  {
   "cell_type": "code",
   "execution_count": 456,
   "metadata": {},
   "outputs": [
    {
     "data": {
      "text/plain": [
       "array([-0.02407505, -0.05762261,  0.08870772, -0.05018235,  0.07563474,\n",
       "        0.14257954,  0.03100597, -0.03571182], dtype=float32)"
      ]
     },
     "execution_count": 456,
     "metadata": {},
     "output_type": "execute_result"
    }
   ],
   "source": [
    "word_vectors = Word2VecKeyedVectors.load_word2vec_format(word2vec_file_path, binary=False)\n",
    "vector = word_vectors['기대']\n",
    "vector"
   ]
  },
  {
   "cell_type": "code",
   "execution_count": 457,
   "metadata": {},
   "outputs": [
    {
     "data": {
      "text/plain": [
       "[('블루', 0.919365406036377),\n",
       " ('탱크', 0.9133305549621582),\n",
       " ('누워', 0.9120573997497559),\n",
       " ('장교', 0.9108635187149048),\n",
       " ('통틀어', 0.9102272391319275),\n",
       " ('사세요', 0.9086824059486389),\n",
       " ('띠', 0.9052791595458984),\n",
       " ('완전히', 0.9018454551696777),\n",
       " ('햇', 0.8965887427330017),\n",
       " ('썰', 0.8914211988449097)]"
      ]
     },
     "execution_count": 457,
     "metadata": {},
     "output_type": "execute_result"
    }
   ],
   "source": [
    "word_vectors.similar_by_word(\"기대\")"
   ]
  },
  {
   "cell_type": "markdown",
   "metadata": {},
   "source": []
  },
  {
   "cell_type": "markdown",
   "metadata": {},
   "source": [
    "---"
   ]
  },
  {
   "cell_type": "markdown",
   "metadata": {},
   "source": [
    "## build model no.3 and train"
   ]
  },
  {
   "cell_type": "code",
   "execution_count": 458,
   "metadata": {},
   "outputs": [
    {
     "name": "stdout",
     "output_type": "stream",
     "text": [
      "Model: \"sequential_60\"\n",
      "_________________________________________________________________\n",
      "Layer (type)                 Output Shape              Param #   \n",
      "=================================================================\n",
      "embedding_60 (Embedding)     (None, None, 8)           80000     \n",
      "_________________________________________________________________\n",
      "global_max_pooling1d_18 (Glo (None, 8)                 0         \n",
      "_________________________________________________________________\n",
      "dense_114 (Dense)            (None, 8)                 72        \n",
      "_________________________________________________________________\n",
      "dense_115 (Dense)            (None, 1)                 9         \n",
      "=================================================================\n",
      "Total params: 80,081\n",
      "Trainable params: 80,081\n",
      "Non-trainable params: 0\n",
      "_________________________________________________________________\n"
     ]
    }
   ],
   "source": [
    "word_vector_dim = 8   \n",
    "\n",
    "model = keras.Sequential()\n",
    "model.add(keras.layers.Embedding(vocab_size, word_vector_dim, input_shape=(None,)))\n",
    "model.add(keras.layers.GlobalMaxPooling1D())\n",
    "model.add(keras.layers.Dense(8, activation='relu'))\n",
    "model.add(keras.layers.Dense(1, activation='sigmoid'))  \n",
    "\n",
    "model.summary()"
   ]
  },
  {
   "cell_type": "code",
   "execution_count": 459,
   "metadata": {},
   "outputs": [
    {
     "name": "stdout",
     "output_type": "stream",
     "text": [
      "Epoch 1/10\n",
      "227/227 [==============================] - 1s 3ms/step - loss: 0.6196 - accuracy: 0.7213 - val_loss: 0.4952 - val_accuracy: 0.8052\n",
      "Epoch 2/10\n",
      "227/227 [==============================] - 1s 3ms/step - loss: 0.4238 - accuracy: 0.8237 - val_loss: 0.3860 - val_accuracy: 0.8306\n",
      "Epoch 3/10\n",
      "227/227 [==============================] - 1s 3ms/step - loss: 0.3569 - accuracy: 0.8487 - val_loss: 0.3651 - val_accuracy: 0.8382\n",
      "Epoch 4/10\n",
      "227/227 [==============================] - 1s 3ms/step - loss: 0.3270 - accuracy: 0.8627 - val_loss: 0.3609 - val_accuracy: 0.8406\n",
      "Epoch 5/10\n",
      "227/227 [==============================] - 1s 3ms/step - loss: 0.3072 - accuracy: 0.8726 - val_loss: 0.3627 - val_accuracy: 0.8399\n",
      "Epoch 6/10\n",
      "227/227 [==============================] - 1s 3ms/step - loss: 0.2926 - accuracy: 0.8794 - val_loss: 0.3668 - val_accuracy: 0.8407\n",
      "Epoch 7/10\n",
      "227/227 [==============================] - 1s 3ms/step - loss: 0.2806 - accuracy: 0.8843 - val_loss: 0.3735 - val_accuracy: 0.8402\n",
      "Epoch 8/10\n",
      "227/227 [==============================] - 1s 3ms/step - loss: 0.2709 - accuracy: 0.8891 - val_loss: 0.3795 - val_accuracy: 0.8401\n",
      "Epoch 9/10\n",
      "227/227 [==============================] - 1s 3ms/step - loss: 0.2624 - accuracy: 0.8936 - val_loss: 0.3861 - val_accuracy: 0.8389\n",
      "Epoch 10/10\n",
      "227/227 [==============================] - 1s 3ms/step - loss: 0.2550 - accuracy: 0.8971 - val_loss: 0.3932 - val_accuracy: 0.8370\n"
     ]
    }
   ],
   "source": [
    "model.compile(optimizer='adam',\n",
    "              loss='binary_crossentropy',\n",
    "              metrics=['accuracy'])\n",
    "              \n",
    "epochs = 10   \n",
    "\n",
    "history = model.fit(partial_x_train,\n",
    "                    partial_y_train,\n",
    "                    epochs=epochs,\n",
    "                    batch_size=512,\n",
    "                    validation_data=(x_val, y_val),\n",
    "                    verbose=1)"
   ]
  },
  {
   "cell_type": "code",
   "execution_count": 460,
   "metadata": {},
   "outputs": [
    {
     "data": {
      "image/png": "[encoded data removed]",
      "text/plain": [
       "<Figure size 432x288 with 2 Axes>"
      ]
     },
     "metadata": {
      "needs_background": "light"
     },
     "output_type": "display_data"
    }
   ],
   "source": [
    "acc = history.history['accuracy']\n",
    "val_acc = history.history['val_accuracy']\n",
    "loss = history.history['loss']\n",
    "val_loss = history.history['val_loss']\n",
    "\n",
    "epochs = range(1, len(acc) + 1)\n",
    "\n",
    "plt.subplot(2,1,1)\n",
    "plt.plot(epochs, loss, label='Training loss')\n",
    "plt.plot(epochs, val_loss, label='Validation loss')\n",
    "plt.title('Training and validation loss')\n",
    "plt.xlabel('Epochs')\n",
    "plt.ylabel('Loss')\n",
    "plt.legend()\n",
    "plt.subplot(2,1,2)\n",
    "plt.plot(epochs, acc, label='Training acc')\n",
    "plt.plot(epochs, val_acc, label='Validation acc')\n",
    "plt.title('Training and validation accuracy')\n",
    "plt.xlabel('Epochs')\n",
    "plt.ylabel('Accuracy')\n",
    "plt.legend()\n",
    "\n",
    "plt.show()"
   ]
  },
  {
   "cell_type": "markdown",
   "metadata": {},
   "source": [
    "+"
   ]
  },
  {
   "cell_type": "code",
   "execution_count": 461,
   "metadata": {},
   "outputs": [
    {
     "name": "stdout",
     "output_type": "stream",
     "text": [
      "Model: \"sequential_61\"\n",
      "_________________________________________________________________\n",
      "Layer (type)                 Output Shape              Param #   \n",
      "=================================================================\n",
      "embedding_61 (Embedding)     (None, None, 8)           80000     \n",
      "_________________________________________________________________\n",
      "global_max_pooling1d_19 (Glo (None, 8)                 0         \n",
      "_________________________________________________________________\n",
      "dense_116 (Dense)            (None, 8)                 72        \n",
      "_________________________________________________________________\n",
      "dense_117 (Dense)            (None, 1)                 9         \n",
      "=================================================================\n",
      "Total params: 80,081\n",
      "Trainable params: 80,081\n",
      "Non-trainable params: 0\n",
      "_________________________________________________________________\n"
     ]
    }
   ],
   "source": [
    "model = keras.Sequential()\n",
    "model.add(keras.layers.Embedding(vocab_size, word_vector_dim, input_shape=(None,)))\n",
    "model.add(keras.layers.GlobalMaxPooling1D())\n",
    "model.add(keras.layers.Dense(8, activation='relu'))\n",
    "model.add(keras.layers.Dense(1, activation='sigmoid'))  \n",
    "\n",
    "model.summary()"
   ]
  },
  {
   "cell_type": "code",
   "execution_count": 462,
   "metadata": {},
   "outputs": [
    {
     "name": "stdout",
     "output_type": "stream",
     "text": [
      "Epoch 1/4\n",
      "227/227 [==============================] - 1s 3ms/step - loss: 0.6179 - accuracy: 0.7357 - val_loss: 0.4842 - val_accuracy: 0.8013\n",
      "Epoch 2/4\n",
      "227/227 [==============================] - 1s 4ms/step - loss: 0.4158 - accuracy: 0.8238 - val_loss: 0.3824 - val_accuracy: 0.8320\n",
      "Epoch 3/4\n",
      "227/227 [==============================] - 1s 3ms/step - loss: 0.3529 - accuracy: 0.8493 - val_loss: 0.3627 - val_accuracy: 0.8392\n",
      "Epoch 4/4\n",
      "227/227 [==============================] - 1s 4ms/step - loss: 0.3234 - accuracy: 0.8634 - val_loss: 0.3582 - val_accuracy: 0.8435\n"
     ]
    }
   ],
   "source": [
    "model.compile(optimizer='adam',\n",
    "              loss='binary_crossentropy',\n",
    "              metrics=['accuracy'])\n",
    "              \n",
    "epochs = 4  \n",
    "\n",
    "history = model.fit(partial_x_train,\n",
    "                    partial_y_train,\n",
    "                    epochs=epochs,\n",
    "                    batch_size=512,\n",
    "                    validation_data=(x_val, y_val),\n",
    "                    verbose=1)"
   ]
  },
  {
   "cell_type": "code",
   "execution_count": 463,
   "metadata": {},
   "outputs": [
    {
     "name": "stdout",
     "output_type": "stream",
     "text": [
      "1537/1537 - 1s - loss: 0.3688 - accuracy: 0.8377\n",
      "[0.3688010573387146, 0.8376629948616028]\n"
     ]
    }
   ],
   "source": [
    "results = model.evaluate(X_test,  y_test, verbose=2)\n",
    "\n",
    "print(results)"
   ]
  },
  {
   "cell_type": "markdown",
   "metadata": {},
   "source": [
    "+"
   ]
  },
  {
   "cell_type": "code",
   "execution_count": 464,
   "metadata": {},
   "outputs": [],
   "source": [
    "# save trained embedding parameters\n",
    "word2vec_file_path = os.getenv('HOME')+'/aiffel/sentiment_classification/word2vec_maxpool.txt'\n",
    "f = open(word2vec_file_path, 'w')\n",
    "f.write('{} {}\\n'.format(vocab_size-4, word_vector_dim)) \n",
    "\n",
    "\n",
    "vectors = model.get_weights()[0]\n",
    "for i in range(4,vocab_size):\n",
    "    f.write('{} {}\\n'.format(index_to_word[i], ' '.join(map(str, list(vectors[i, :])))))\n",
    "f.close()"
   ]
  },
  {
   "cell_type": "code",
   "execution_count": 465,
   "metadata": {},
   "outputs": [
    {
     "data": {
      "text/plain": [
       "array([-0.12163981, -0.08174503, -0.05736869, -0.05834469, -0.11770461,\n",
       "       -0.05163111, -0.09976136, -0.06890375], dtype=float32)"
      ]
     },
     "execution_count": 465,
     "metadata": {},
     "output_type": "execute_result"
    }
   ],
   "source": [
    "word_vectors = Word2VecKeyedVectors.load_word2vec_format(word2vec_file_path, binary=False)\n",
    "vector = word_vectors['기대']\n",
    "vector"
   ]
  },
  {
   "cell_type": "code",
   "execution_count": 466,
   "metadata": {},
   "outputs": [
    {
     "data": {
      "text/plain": [
       "[('내게', 0.9944955110549927),\n",
       " ('주', 0.9935201406478882),\n",
       " ('영화', 0.9921828508377075),\n",
       " ('어', 0.9920079708099365),\n",
       " ('균형', 0.9918190836906433),\n",
       " ('해', 0.9900687336921692),\n",
       " ('을려고', 0.9897720813751221),\n",
       " ('뒤', 0.9896296262741089),\n",
       " ('경계', 0.9895750284194946),\n",
       " ('준다', 0.9889976382255554)]"
      ]
     },
     "execution_count": 466,
     "metadata": {},
     "output_type": "execute_result"
    }
   ],
   "source": [
    "word_vectors.similar_by_word(\"기대\")"
   ]
  },
  {
   "cell_type": "code",
   "execution_count": null,
   "metadata": {},
   "outputs": [],
   "source": []
  },
  {
   "cell_type": "markdown",
   "metadata": {},
   "source": [
    "## build model no.4 and train"
   ]
  },
  {
   "cell_type": "code",
   "execution_count": 469,
   "metadata": {},
   "outputs": [
    {
     "name": "stdout",
     "output_type": "stream",
     "text": [
      "Model: \"sequential_64\"\n",
      "_________________________________________________________________\n",
      "Layer (type)                 Output Shape              Param #   \n",
      "=================================================================\n",
      "embedding_64 (Embedding)     (None, None, 8)           80000     \n",
      "_________________________________________________________________\n",
      "conv1d_63 (Conv1D)           (None, None, 16)          912       \n",
      "_________________________________________________________________\n",
      "lstm_43 (LSTM)               (None, 16)                2112      \n",
      "_________________________________________________________________\n",
      "dense_120 (Dense)            (None, 8)                 136       \n",
      "_________________________________________________________________\n",
      "dense_121 (Dense)            (None, 1)                 9         \n",
      "=================================================================\n",
      "Total params: 83,169\n",
      "Trainable params: 83,169\n",
      "Non-trainable params: 0\n",
      "_________________________________________________________________\n"
     ]
    }
   ],
   "source": [
    "word_vector_dim = 8    \n",
    "\n",
    "model = keras.Sequential()\n",
    "model.add(keras.layers.Embedding(vocab_size, word_vector_dim, input_shape=(None,)))\n",
    "model.add(keras.layers.Conv1D(16, 7, activation='relu'))\n",
    "model.add(keras.layers.LSTM(16))\n",
    "model.add(keras.layers.Dense(8, activation='relu'))\n",
    "model.add(keras.layers.Dense(1, activation='sigmoid'))  \n",
    "\n",
    "model.summary()"
   ]
  },
  {
   "cell_type": "code",
   "execution_count": 470,
   "metadata": {},
   "outputs": [
    {
     "name": "stdout",
     "output_type": "stream",
     "text": [
      "Epoch 1/10\n",
      "227/227 [==============================] - 1s 6ms/step - loss: 0.4956 - accuracy: 0.7584 - val_loss: 0.3648 - val_accuracy: 0.8419\n",
      "Epoch 2/10\n",
      "227/227 [==============================] - 1s 5ms/step - loss: 0.3416 - accuracy: 0.8556 - val_loss: 0.3473 - val_accuracy: 0.8501\n",
      "Epoch 3/10\n",
      "227/227 [==============================] - 1s 5ms/step - loss: 0.3187 - accuracy: 0.8658 - val_loss: 0.3459 - val_accuracy: 0.8503\n",
      "Epoch 4/10\n",
      "227/227 [==============================] - 1s 5ms/step - loss: 0.3059 - accuracy: 0.8725 - val_loss: 0.3455 - val_accuracy: 0.8495\n",
      "Epoch 5/10\n",
      "227/227 [==============================] - 1s 5ms/step - loss: 0.2954 - accuracy: 0.8768 - val_loss: 0.3490 - val_accuracy: 0.8511\n",
      "Epoch 6/10\n",
      "227/227 [==============================] - 1s 5ms/step - loss: 0.2840 - accuracy: 0.8836 - val_loss: 0.3482 - val_accuracy: 0.8512\n",
      "Epoch 7/10\n",
      "227/227 [==============================] - 1s 5ms/step - loss: 0.2714 - accuracy: 0.8889 - val_loss: 0.3572 - val_accuracy: 0.8487\n",
      "Epoch 8/10\n",
      "227/227 [==============================] - 1s 5ms/step - loss: 0.2581 - accuracy: 0.8954 - val_loss: 0.3540 - val_accuracy: 0.8506\n",
      "Epoch 9/10\n",
      "227/227 [==============================] - 1s 5ms/step - loss: 0.2449 - accuracy: 0.9009 - val_loss: 0.3634 - val_accuracy: 0.8503\n",
      "Epoch 10/10\n",
      "227/227 [==============================] - 1s 5ms/step - loss: 0.2291 - accuracy: 0.9091 - val_loss: 0.3718 - val_accuracy: 0.8493\n"
     ]
    }
   ],
   "source": [
    "model.compile(optimizer='adam',\n",
    "              loss='binary_crossentropy',\n",
    "              metrics=['accuracy'])\n",
    "              \n",
    "epochs = 10\n",
    "\n",
    "history = model.fit(partial_x_train,\n",
    "                    partial_y_train,\n",
    "                    epochs=epochs,\n",
    "                    batch_size=512,\n",
    "                    validation_data=(x_val, y_val),\n",
    "                    verbose=1)"
   ]
  },
  {
   "cell_type": "code",
   "execution_count": 471,
   "metadata": {},
   "outputs": [
    {
     "data": {
      "image/png": "[encoded data removed]",
      "text/plain": [
       "<Figure size 432x288 with 2 Axes>"
      ]
     },
     "metadata": {
      "needs_background": "light"
     },
     "output_type": "display_data"
    }
   ],
   "source": [
    "acc = history.history['accuracy']\n",
    "val_acc = history.history['val_accuracy']\n",
    "loss = history.history['loss']\n",
    "val_loss = history.history['val_loss']\n",
    "\n",
    "epochs = range(1, len(acc) + 1)\n",
    "\n",
    "plt.subplot(2,1,1)\n",
    "plt.plot(epochs, loss, label='Training loss')\n",
    "plt.plot(epochs, val_loss, label='Validation loss')\n",
    "plt.title('Training and validation loss')\n",
    "plt.xlabel('Epochs')\n",
    "plt.ylabel('Loss')\n",
    "plt.legend()\n",
    "plt.subplot(2,1,2)\n",
    "plt.plot(epochs, acc, label='Training acc')\n",
    "plt.plot(epochs, val_acc, label='Validation acc')\n",
    "plt.title('Training and validation accuracy')\n",
    "plt.xlabel('Epochs')\n",
    "plt.ylabel('Accuracy')\n",
    "plt.legend()\n",
    "\n",
    "plt.show()"
   ]
  },
  {
   "cell_type": "markdown",
   "metadata": {},
   "source": [
    "+"
   ]
  },
  {
   "cell_type": "code",
   "execution_count": 473,
   "metadata": {},
   "outputs": [
    {
     "name": "stdout",
     "output_type": "stream",
     "text": [
      "Model: \"sequential_66\"\n",
      "_________________________________________________________________\n",
      "Layer (type)                 Output Shape              Param #   \n",
      "=================================================================\n",
      "embedding_66 (Embedding)     (None, None, 8)           80000     \n",
      "_________________________________________________________________\n",
      "conv1d_65 (Conv1D)           (None, None, 16)          912       \n",
      "_________________________________________________________________\n",
      "lstm_45 (LSTM)               (None, 16)                2112      \n",
      "_________________________________________________________________\n",
      "dense_124 (Dense)            (None, 8)                 136       \n",
      "_________________________________________________________________\n",
      "dense_125 (Dense)            (None, 1)                 9         \n",
      "=================================================================\n",
      "Total params: 83,169\n",
      "Trainable params: 83,169\n",
      "Non-trainable params: 0\n",
      "_________________________________________________________________\n"
     ]
    }
   ],
   "source": [
    "model = keras.Sequential()\n",
    "model.add(keras.layers.Embedding(vocab_size, word_vector_dim, input_shape=(None,)))\n",
    "model.add(keras.layers.Conv1D(16, 7, activation='relu'))\n",
    "model.add(keras.layers.LSTM(16))\n",
    "model.add(keras.layers.Dense(8, activation='relu'))\n",
    "model.add(keras.layers.Dense(1, activation='sigmoid')) \n",
    "\n",
    "model.summary()"
   ]
  },
  {
   "cell_type": "code",
   "execution_count": 474,
   "metadata": {},
   "outputs": [
    {
     "name": "stdout",
     "output_type": "stream",
     "text": [
      "Epoch 1/4\n",
      "227/227 [==============================] - 1s 6ms/step - loss: 0.5092 - accuracy: 0.7381 - val_loss: 0.3655 - val_accuracy: 0.8424\n",
      "Epoch 2/4\n",
      "227/227 [==============================] - 1s 5ms/step - loss: 0.3391 - accuracy: 0.8549 - val_loss: 0.3438 - val_accuracy: 0.8500\n",
      "Epoch 3/4\n",
      "227/227 [==============================] - 1s 5ms/step - loss: 0.3117 - accuracy: 0.8678 - val_loss: 0.3476 - val_accuracy: 0.8488\n",
      "Epoch 4/4\n",
      "227/227 [==============================] - 1s 5ms/step - loss: 0.2965 - accuracy: 0.8751 - val_loss: 0.3466 - val_accuracy: 0.8496\n"
     ]
    }
   ],
   "source": [
    "model.compile(optimizer='adam',\n",
    "              loss='binary_crossentropy',\n",
    "              metrics=['accuracy'])\n",
    "              \n",
    "epochs = 4\n",
    "\n",
    "history = model.fit(partial_x_train,\n",
    "                    partial_y_train,\n",
    "                    epochs=epochs,\n",
    "                    batch_size=512,\n",
    "                    validation_data=(x_val, y_val),\n",
    "                    verbose=1)"
   ]
  },
  {
   "cell_type": "code",
   "execution_count": 475,
   "metadata": {},
   "outputs": [
    {
     "data": {
      "image/png": "[encoded data removed]",
      "text/plain": [
       "<Figure size 432x288 with 2 Axes>"
      ]
     },
     "metadata": {
      "needs_background": "light"
     },
     "output_type": "display_data"
    }
   ],
   "source": [
    "acc = history.history['accuracy']\n",
    "val_acc = history.history['val_accuracy']\n",
    "loss = history.history['loss']\n",
    "val_loss = history.history['val_loss']\n",
    "\n",
    "epochs = range(1, len(acc) + 1)\n",
    "\n",
    "plt.subplot(2,1,1)\n",
    "plt.plot(epochs, loss, label='Training loss')\n",
    "plt.plot(epochs, val_loss, label='Validation loss')\n",
    "plt.title('Training and validation loss')\n",
    "plt.xlabel('Epochs')\n",
    "plt.ylabel('Loss')\n",
    "plt.legend()\n",
    "plt.subplot(2,1,2)\n",
    "plt.plot(epochs, acc, label='Training acc')\n",
    "plt.plot(epochs, val_acc, label='Validation acc')\n",
    "plt.title('Training and validation accuracy')\n",
    "plt.xlabel('Epochs')\n",
    "plt.ylabel('Accuracy')\n",
    "plt.legend()\n",
    "\n",
    "plt.show()"
   ]
  },
  {
   "cell_type": "code",
   "execution_count": 476,
   "metadata": {},
   "outputs": [
    {
     "name": "stdout",
     "output_type": "stream",
     "text": [
      "1537/1537 - 3s - loss: 0.3591 - accuracy: 0.8430\n",
      "[0.3591158390045166, 0.8429521918296814]\n"
     ]
    }
   ],
   "source": [
    "results = model.evaluate(X_test,  y_test, verbose=2)\n",
    "\n",
    "print(results)"
   ]
  },
  {
   "cell_type": "markdown",
   "metadata": {},
   "source": []
  },
  {
   "cell_type": "code",
   "execution_count": 477,
   "metadata": {},
   "outputs": [],
   "source": [
    "# save trained embedding parameters\n",
    "word2vec_file_path = os.getenv('HOME')+'/aiffel/sentiment_classification/word2vec_conv1d_lstm.txt'\n",
    "f = open(word2vec_file_path, 'w')\n",
    "f.write('{} {}\\n'.format(vocab_size-4, word_vector_dim)) \n",
    "\n",
    "\n",
    "vectors = model.get_weights()[0]\n",
    "for i in range(4,vocab_size):\n",
    "    f.write('{} {}\\n'.format(index_to_word[i], ' '.join(map(str, list(vectors[i, :])))))\n",
    "f.close()"
   ]
  },
  {
   "cell_type": "code",
   "execution_count": 478,
   "metadata": {},
   "outputs": [
    {
     "data": {
      "text/plain": [
       "array([ 0.04258498,  0.01680124,  0.04701795, -0.07941996,  0.02101266,\n",
       "        0.03413212,  0.03972927, -0.05918861], dtype=float32)"
      ]
     },
     "execution_count": 478,
     "metadata": {},
     "output_type": "execute_result"
    }
   ],
   "source": [
    "word_vectors = Word2VecKeyedVectors.load_word2vec_format(word2vec_file_path, binary=False)\n",
    "vector = word_vectors['기대']\n",
    "vector"
   ]
  },
  {
   "cell_type": "code",
   "execution_count": 479,
   "metadata": {},
   "outputs": [
    {
     "data": {
      "text/plain": [
       "[('제공', 0.9372509717941284),\n",
       " ('혼신', 0.8636711835861206),\n",
       " ('듬뿍', 0.836202085018158),\n",
       " ('건데', 0.8267544507980347),\n",
       " ('고서', 0.8042954206466675),\n",
       " ('인간미', 0.7882776856422424),\n",
       " ('라길래', 0.7839807271957397),\n",
       " ('져야', 0.7740871906280518),\n",
       " ('안쓰럽', 0.7733958959579468),\n",
       " ('격투기', 0.7720723748207092)]"
      ]
     },
     "execution_count": 479,
     "metadata": {},
     "output_type": "execute_result"
    }
   ],
   "source": [
    "word_vectors.similar_by_word(\"기대\")"
   ]
  },
  {
   "cell_type": "markdown",
   "metadata": {},
   "source": [
    "---"
   ]
  },
  {
   "cell_type": "markdown",
   "metadata": {},
   "source": [
    "## use pre-trained word2vec embedding to improve model performance"
   ]
  },
  {
   "cell_type": "code",
   "execution_count": 480,
   "metadata": {},
   "outputs": [],
   "source": [
    "path = os.getenv('HOME')+'/aiffel/sentiment_classification/ko/ko.bin'\n",
    "trained_w2v = gensim.models.Word2Vec.load(path)"
   ]
  },
  {
   "cell_type": "code",
   "execution_count": 482,
   "metadata": {},
   "outputs": [
    {
     "data": {
      "text/plain": [
       "[('예상', 0.5993404388427734),\n",
       " ('예측', 0.5521305203437805),\n",
       " ('전망', 0.5395902395248413),\n",
       " ('걱정', 0.5109213590621948),\n",
       " ('우려', 0.5100494623184204),\n",
       " ('생각', 0.5072912573814392),\n",
       " ('평가', 0.5036546587944031),\n",
       " ('신뢰', 0.5025410652160645),\n",
       " ('희망', 0.49611741304397583),\n",
       " ('관심도', 0.4947463572025299)]"
      ]
     },
     "execution_count": 482,
     "metadata": {},
     "output_type": "execute_result"
    }
   ],
   "source": [
    "similar_vec = trained_w2v.wv.most_similar(\"기대\")\n",
    "similar_vec"
   ]
  },
  {
   "cell_type": "code",
   "execution_count": 483,
   "metadata": {},
   "outputs": [
    {
     "data": {
      "text/plain": [
       "gensim.models.word2vec.Word2Vec"
      ]
     },
     "execution_count": 483,
     "metadata": {},
     "output_type": "execute_result"
    }
   ],
   "source": [
    "type(trained_w2v)"
   ]
  },
  {
   "cell_type": "code",
   "execution_count": 484,
   "metadata": {},
   "outputs": [
    {
     "data": {
      "text/plain": [
       "gensim.models.keyedvectors.Word2VecKeyedVectors"
      ]
     },
     "execution_count": 484,
     "metadata": {},
     "output_type": "execute_result"
    }
   ],
   "source": [
    "type(word_vectors)"
   ]
  },
  {
   "cell_type": "code",
   "execution_count": 485,
   "metadata": {},
   "outputs": [],
   "source": [
    "trained_word_vectors = trained_w2v.wv"
   ]
  },
  {
   "cell_type": "code",
   "execution_count": 486,
   "metadata": {},
   "outputs": [
    {
     "data": {
      "text/plain": [
       "gensim.models.keyedvectors.Word2VecKeyedVectors"
      ]
     },
     "execution_count": 486,
     "metadata": {},
     "output_type": "execute_result"
    }
   ],
   "source": [
    "type(trained_word_vectors)"
   ]
  },
  {
   "cell_type": "code",
   "execution_count": 487,
   "metadata": {},
   "outputs": [
    {
     "name": "stdout",
     "output_type": "stream",
     "text": [
      "(200,)\n"
     ]
    },
    {
     "data": {
      "text/plain": [
       "array([-0.42679408,  0.5892111 ,  0.6219986 , -2.321125  , -1.4077828 ,\n",
       "        2.0710788 , -1.202137  , -0.11560407, -1.9535756 , -0.33151925,\n",
       "       -0.94134295, -1.3920565 , -0.673567  , -0.7687422 ,  0.7271645 ,\n",
       "       -0.8008593 , -0.43518832, -0.9391257 , -1.9923116 , -0.4860049 ,\n",
       "        2.0586452 ,  0.08421105, -0.86913145,  1.288601  ,  1.433492  ,\n",
       "        1.2044291 , -0.54404306, -1.5097954 , -0.52747834, -0.74069464,\n",
       "       -1.4989316 ,  0.70926476, -1.7328253 , -1.3000728 ,  0.810795  ,\n",
       "       -0.6369874 ,  1.7686176 , -0.6763047 , -0.5367612 ,  2.4611883 ,\n",
       "        1.4960446 , -0.1725292 , -0.45655453,  0.2681983 ,  0.3066007 ,\n",
       "        0.30748022,  2.2485256 , -0.8582102 ,  0.39929923,  0.00466653,\n",
       "        0.3073698 ,  0.85514444, -0.5583773 ,  1.4897436 , -0.805984  ,\n",
       "       -0.7717855 ,  1.499113  , -0.51766735, -0.5974332 ,  0.85677636,\n",
       "       -0.74764436,  2.067837  , -0.740197  ,  0.29757446, -1.7932417 ,\n",
       "        0.57957464,  0.05866075,  1.2170862 ,  1.7554603 ,  0.86498845,\n",
       "        0.38484666, -0.39795837, -1.3822517 ,  0.09645607,  0.08623061,\n",
       "       -1.4439639 , -0.8265474 ,  1.7850199 ,  2.043127  ,  0.59673756,\n",
       "       -0.72384495, -0.96643984, -1.5993485 ,  0.5171665 , -1.5725456 ,\n",
       "        1.9555466 , -0.9149903 ,  0.04162354, -2.2878706 , -0.6218824 ,\n",
       "        2.0935261 , -2.0334315 ,  0.00678281,  0.27741048,  0.14161283,\n",
       "       -0.42896506, -0.7473171 , -0.70242167, -0.2139855 ,  2.5291762 ,\n",
       "       -1.7630447 , -0.5572764 , -0.20164633, -0.384924  , -0.86195165,\n",
       "        0.8044167 , -0.34928903, -0.653525  , -0.9528171 , -0.72750187,\n",
       "        2.0339735 , -2.6202006 ,  1.2406344 , -1.1305394 ,  0.38547412,\n",
       "       -0.05088591, -1.3669596 , -0.35088035, -1.0025114 ,  0.8203162 ,\n",
       "        1.0283259 ,  0.8691406 ,  0.33810017, -1.0388666 ,  2.1041014 ,\n",
       "        2.5674706 , -0.04945963, -1.4988996 ,  1.309254  ,  0.75741196,\n",
       "        1.4046937 ,  0.09928232,  0.45064867,  0.27826792,  1.4755661 ,\n",
       "        0.2675706 ,  1.1517764 , -0.7956713 ,  0.0054776 , -0.01633194,\n",
       "       -0.19989201,  0.91044605, -0.37422484,  1.4025193 , -0.85794485,\n",
       "        0.69981796,  0.8699709 ,  0.52611446, -1.2847805 ,  0.2845139 ,\n",
       "        0.19450635,  0.73313046, -1.8117235 ,  0.07748372, -1.0735656 ,\n",
       "        1.6408892 , -0.4844956 ,  0.24296038, -0.79257673, -2.0336413 ,\n",
       "        3.0061655 , -0.25374454,  0.7088239 , -0.62333   ,  0.7945679 ,\n",
       "       -1.0505276 ,  1.1424327 ,  0.54266775, -0.9525667 ,  1.6481304 ,\n",
       "       -1.1605656 ,  0.15548196, -0.8795826 ,  0.06214701, -0.40976444,\n",
       "        0.9501063 ,  0.14929473,  0.664019  ,  1.1924689 , -0.39587754,\n",
       "        0.1586263 , -0.95972973, -0.37405306, -0.8189571 ,  0.00952252,\n",
       "       -0.2775899 , -0.52781916,  1.7008659 , -1.8233443 ,  1.3928171 ,\n",
       "       -1.558148  ,  1.9180455 , -1.8057339 ,  0.8641919 ,  0.5238342 ,\n",
       "       -0.42459252, -0.611144  ,  1.0675472 , -0.9211546 ,  0.50333506],\n",
       "      dtype=float32)"
      ]
     },
     "execution_count": 487,
     "metadata": {},
     "output_type": "execute_result"
    }
   ],
   "source": [
    "vector = trained_word_vectors['기대']\n",
    "print(vector.shape)\n",
    "vector"
   ]
  },
  {
   "cell_type": "code",
   "execution_count": 488,
   "metadata": {},
   "outputs": [
    {
     "data": {
      "text/plain": [
       "[('예상', 0.5993404388427734),\n",
       " ('예측', 0.5521305203437805),\n",
       " ('전망', 0.5395902395248413),\n",
       " ('걱정', 0.5109213590621948),\n",
       " ('우려', 0.5100494623184204),\n",
       " ('생각', 0.5072912573814392),\n",
       " ('평가', 0.5036546587944031),\n",
       " ('신뢰', 0.5025410652160645),\n",
       " ('희망', 0.49611741304397583),\n",
       " ('관심도', 0.4947463572025299)]"
      ]
     },
     "execution_count": 488,
     "metadata": {},
     "output_type": "execute_result"
    }
   ],
   "source": [
    "trained_word_vectors.similar_by_word(\"기대\")"
   ]
  },
  {
   "cell_type": "code",
   "execution_count": 489,
   "metadata": {},
   "outputs": [],
   "source": [
    "vocab_size = 10000    \n",
    "word_vector_dim = 200  \n",
    "\n",
    "embedding_matrix = np.random.rand(vocab_size, word_vector_dim)\n",
    "\n",
    "# copy pretrained embedding to embedding_matrix\n",
    "for i in range(4,vocab_size):\n",
    "    if index_to_word[i] in trained_word_vectors:\n",
    "        embedding_matrix[i] = trained_word_vectors[index_to_word[i]]"
   ]
  },
  {
   "cell_type": "code",
   "execution_count": 490,
   "metadata": {},
   "outputs": [
    {
     "data": {
      "text/plain": [
       "(10000, 200)"
      ]
     },
     "execution_count": 490,
     "metadata": {},
     "output_type": "execute_result"
    }
   ],
   "source": [
    "embedding_matrix.shape"
   ]
  },
  {
   "cell_type": "code",
   "execution_count": 491,
   "metadata": {},
   "outputs": [
    {
     "name": "stdout",
     "output_type": "stream",
     "text": [
      "Model: \"sequential_67\"\n",
      "_________________________________________________________________\n",
      "Layer (type)                 Output Shape              Param #   \n",
      "=================================================================\n",
      "embedding_67 (Embedding)     (None, 44, 200)           2000000   \n",
      "_________________________________________________________________\n",
      "conv1d_66 (Conv1D)           (None, 38, 16)            22416     \n",
      "_________________________________________________________________\n",
      "lstm_46 (LSTM)               (None, 16)                2112      \n",
      "_________________________________________________________________\n",
      "dense_126 (Dense)            (None, 8)                 136       \n",
      "_________________________________________________________________\n",
      "dense_127 (Dense)            (None, 1)                 9         \n",
      "=================================================================\n",
      "Total params: 2,024,673\n",
      "Trainable params: 2,024,673\n",
      "Non-trainable params: 0\n",
      "_________________________________________________________________\n"
     ]
    }
   ],
   "source": [
    "from tensorflow.keras.initializers import Constant\n",
    "\n",
    "model = keras.Sequential()\n",
    "model.add(keras.layers.Embedding(vocab_size, \n",
    "                                 word_vector_dim, \n",
    "                                 embeddings_initializer=Constant(embedding_matrix),  \n",
    "                                 input_length=maxlen, \n",
    "                                 trainable=True))   \n",
    "model.add(keras.layers.Conv1D(16, 7, activation='relu'))\n",
    "model.add(keras.layers.LSTM(16))\n",
    "model.add(keras.layers.Dense(8, activation='relu'))\n",
    "model.add(keras.layers.Dense(1, activation='sigmoid'))\n",
    "\n",
    "model.summary()"
   ]
  },
  {
   "cell_type": "code",
   "execution_count": 492,
   "metadata": {},
   "outputs": [
    {
     "name": "stdout",
     "output_type": "stream",
     "text": [
      "Epoch 1/15\n",
      "227/227 [==============================] - 12s 51ms/step - loss: 0.5146 - accuracy: 0.7418 - val_loss: 0.4129 - val_accuracy: 0.8134\n",
      "Epoch 2/15\n",
      "227/227 [==============================] - 6s 27ms/step - loss: 0.3702 - accuracy: 0.8391 - val_loss: 0.3613 - val_accuracy: 0.8423\n",
      "Epoch 3/15\n",
      "227/227 [==============================] - 6s 27ms/step - loss: 0.3178 - accuracy: 0.8659 - val_loss: 0.3428 - val_accuracy: 0.8514\n",
      "Epoch 4/15\n",
      "227/227 [==============================] - 6s 27ms/step - loss: 0.2861 - accuracy: 0.8829 - val_loss: 0.3418 - val_accuracy: 0.8537\n",
      "Epoch 5/15\n",
      "227/227 [==============================] - 6s 27ms/step - loss: 0.2611 - accuracy: 0.8952 - val_loss: 0.3465 - val_accuracy: 0.8538\n",
      "Epoch 6/15\n",
      "227/227 [==============================] - 6s 28ms/step - loss: 0.2410 - accuracy: 0.9043 - val_loss: 0.3504 - val_accuracy: 0.8553\n",
      "Epoch 7/15\n",
      "227/227 [==============================] - 6s 27ms/step - loss: 0.2213 - accuracy: 0.9138 - val_loss: 0.3648 - val_accuracy: 0.8529\n",
      "Epoch 8/15\n",
      "227/227 [==============================] - 6s 28ms/step - loss: 0.2037 - accuracy: 0.9222 - val_loss: 0.3773 - val_accuracy: 0.8506\n",
      "Epoch 9/15\n",
      "227/227 [==============================] - 6s 28ms/step - loss: 0.1859 - accuracy: 0.9304 - val_loss: 0.3991 - val_accuracy: 0.8474\n",
      "Epoch 10/15\n",
      "227/227 [==============================] - 6s 28ms/step - loss: 0.1667 - accuracy: 0.9396 - val_loss: 0.4167 - val_accuracy: 0.8439\n",
      "Epoch 11/15\n",
      "227/227 [==============================] - 6s 27ms/step - loss: 0.1510 - accuracy: 0.9460 - val_loss: 0.4384 - val_accuracy: 0.8466\n",
      "Epoch 12/15\n",
      "227/227 [==============================] - 6s 28ms/step - loss: 0.1363 - accuracy: 0.9518 - val_loss: 0.4773 - val_accuracy: 0.8461\n",
      "Epoch 13/15\n",
      "227/227 [==============================] - 6s 28ms/step - loss: 0.1223 - accuracy: 0.9583 - val_loss: 0.4924 - val_accuracy: 0.8435\n",
      "Epoch 14/15\n",
      "227/227 [==============================] - 6s 27ms/step - loss: 0.1091 - accuracy: 0.9636 - val_loss: 0.5142 - val_accuracy: 0.8401\n",
      "Epoch 15/15\n",
      "227/227 [==============================] - 6s 28ms/step - loss: 0.0980 - accuracy: 0.9688 - val_loss: 0.5453 - val_accuracy: 0.8393\n"
     ]
    }
   ],
   "source": [
    "model.compile(optimizer='adam',\n",
    "              loss='binary_crossentropy',\n",
    "              metrics=['accuracy'])\n",
    "              \n",
    "epochs = 15 \n",
    "\n",
    "history = model.fit(partial_x_train,\n",
    "                    partial_y_train,\n",
    "                    epochs=epochs,\n",
    "                    batch_size=512,\n",
    "                    validation_data=(x_val, y_val),\n",
    "                    verbose=1)"
   ]
  },
  {
   "cell_type": "code",
   "execution_count": 493,
   "metadata": {},
   "outputs": [
    {
     "data": {
      "image/png": "[encoded data removed]",
      "text/plain": [
       "<Figure size 432x288 with 2 Axes>"
      ]
     },
     "metadata": {
      "needs_background": "light"
     },
     "output_type": "display_data"
    }
   ],
   "source": [
    "acc = history.history['accuracy']\n",
    "val_acc = history.history['val_accuracy']\n",
    "loss = history.history['loss']\n",
    "val_loss = history.history['val_loss']\n",
    "\n",
    "epochs = range(1, len(acc) + 1)\n",
    "\n",
    "plt.subplot(2,1,1)\n",
    "plt.plot(epochs, loss, label='Training loss')\n",
    "plt.plot(epochs, val_loss, label='Validation loss')\n",
    "plt.title('Training and validation loss')\n",
    "plt.xlabel('Epochs')\n",
    "plt.ylabel('Loss')\n",
    "plt.legend()\n",
    "plt.subplot(2,1,2)\n",
    "plt.plot(epochs, acc, label='Training acc')\n",
    "plt.plot(epochs, val_acc, label='Validation acc')\n",
    "plt.title('Training and validation accuracy')\n",
    "plt.xlabel('Epochs')\n",
    "plt.ylabel('Accuracy')\n",
    "plt.legend()\n",
    "\n",
    "plt.show()"
   ]
  },
  {
   "cell_type": "code",
   "execution_count": 495,
   "metadata": {},
   "outputs": [
    {
     "name": "stdout",
     "output_type": "stream",
     "text": [
      "Model: \"sequential_69\"\n",
      "_________________________________________________________________\n",
      "Layer (type)                 Output Shape              Param #   \n",
      "=================================================================\n",
      "embedding_69 (Embedding)     (None, 44, 200)           2000000   \n",
      "_________________________________________________________________\n",
      "conv1d_68 (Conv1D)           (None, 38, 16)            22416     \n",
      "_________________________________________________________________\n",
      "lstm_48 (LSTM)               (None, 16)                2112      \n",
      "_________________________________________________________________\n",
      "dense_130 (Dense)            (None, 8)                 136       \n",
      "_________________________________________________________________\n",
      "dense_131 (Dense)            (None, 1)                 9         \n",
      "=================================================================\n",
      "Total params: 2,024,673\n",
      "Trainable params: 2,024,673\n",
      "Non-trainable params: 0\n",
      "_________________________________________________________________\n"
     ]
    }
   ],
   "source": [
    "model = keras.Sequential()\n",
    "model.add(keras.layers.Embedding(vocab_size, \n",
    "                                 word_vector_dim, \n",
    "                                 embeddings_initializer=Constant(embedding_matrix),  \n",
    "                                 input_length=maxlen, \n",
    "                                 trainable=True))   \n",
    "model.add(keras.layers.Conv1D(16, 7, activation='relu'))\n",
    "model.add(keras.layers.LSTM(16))\n",
    "model.add(keras.layers.Dense(8, activation='relu'))\n",
    "model.add(keras.layers.Dense(1, activation='sigmoid'))\n",
    "\n",
    "model.summary()"
   ]
  },
  {
   "cell_type": "code",
   "execution_count": null,
   "metadata": {},
   "outputs": [],
   "source": []
  },
  {
   "cell_type": "code",
   "execution_count": 496,
   "metadata": {},
   "outputs": [
    {
     "name": "stdout",
     "output_type": "stream",
     "text": [
      "Epoch 1/5\n",
      "227/227 [==============================] - 6s 28ms/step - loss: 0.5255 - accuracy: 0.7408 - val_loss: 0.4187 - val_accuracy: 0.8162\n",
      "Epoch 2/5\n",
      "227/227 [==============================] - 6s 27ms/step - loss: 0.3734 - accuracy: 0.8382 - val_loss: 0.3600 - val_accuracy: 0.8420\n",
      "Epoch 3/5\n",
      "227/227 [==============================] - 6s 27ms/step - loss: 0.3185 - accuracy: 0.8665 - val_loss: 0.3404 - val_accuracy: 0.8498\n",
      "Epoch 4/5\n",
      "227/227 [==============================] - 6s 27ms/step - loss: 0.2866 - accuracy: 0.8819 - val_loss: 0.3366 - val_accuracy: 0.8547\n",
      "Epoch 5/5\n",
      "227/227 [==============================] - 6s 27ms/step - loss: 0.2613 - accuracy: 0.8945 - val_loss: 0.3421 - val_accuracy: 0.8532\n"
     ]
    }
   ],
   "source": [
    "model.compile(optimizer='adam',\n",
    "              loss='binary_crossentropy',\n",
    "              metrics=['accuracy'])\n",
    "              \n",
    "epochs = 5\n",
    "\n",
    "history = model.fit(partial_x_train,\n",
    "                    partial_y_train,\n",
    "                    epochs=epochs,\n",
    "                    batch_size=512,\n",
    "                    validation_data=(x_val, y_val),\n",
    "                    verbose=1)"
   ]
  },
  {
   "cell_type": "code",
   "execution_count": 497,
   "metadata": {},
   "outputs": [
    {
     "name": "stdout",
     "output_type": "stream",
     "text": [
      "1537/1537 - 4s - loss: 0.3543 - accuracy: 0.8509\n",
      "[0.3542567193508148, 0.8508656024932861]\n"
     ]
    }
   ],
   "source": [
    "results = model.evaluate(X_test,  y_test, verbose=2)\n",
    "\n",
    "print(results)"
   ]
  },
  {
   "cell_type": "code",
   "execution_count": null,
   "metadata": {},
   "outputs": [],
   "source": []
  },
  {
   "cell_type": "code",
   "execution_count": null,
   "metadata": {},
   "outputs": [],
   "source": []
  },
  {
   "cell_type": "code",
   "execution_count": null,
   "metadata": {},
   "outputs": [],
   "source": []
  },
  {
   "cell_type": "markdown",
   "metadata": {},
   "source": [
    "---"
   ]
  }
 ],
 "metadata": {
  "kernelspec": {
   "display_name": "aiffel",
   "language": "python",
   "name": "aiffel"
  },
  "language_info": {
   "codemirror_mode": {
    "name": "ipython",
    "version": 3
   },
   "file_extension": ".py",
   "mimetype": "text/x-python",
   "name": "python",
   "nbconvert_exporter": "python",
   "pygments_lexer": "ipython3",
   "version": "3.7.9"
  }
 },
 "nbformat": 4,
 "nbformat_minor": 4
}
