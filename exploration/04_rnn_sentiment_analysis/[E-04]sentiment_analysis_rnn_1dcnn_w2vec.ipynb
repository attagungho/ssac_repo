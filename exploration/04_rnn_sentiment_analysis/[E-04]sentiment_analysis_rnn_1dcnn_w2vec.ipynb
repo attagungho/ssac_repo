{
 "cells": [
  {
   "cell_type": "markdown",
   "metadata": {},
   "source": [
    "## SSAC - Exploration 4 - Sentiment Analysis : Naver Movie Review"
   ]
  },
  {
   "cell_type": "code",
   "execution_count": 1,
   "metadata": {},
   "outputs": [],
   "source": [
    "# impore required packages\n",
    "import pandas as pd\n",
    "import urllib.request\n",
    "import matplotlib.pyplot as plt\n",
    "import re, os, gensim, random\n",
    "from konlpy.tag import Okt\n",
    "from konlpy.tag import Mecab\n",
    "from tensorflow import keras\n",
    "from tensorflow.keras.preprocessing.text import Tokenizer\n",
    "import numpy as np\n",
    "from tensorflow.keras.preprocessing.sequence import pad_sequences\n",
    "from collections import Counter\n",
    "from gensim.models.keyedvectors import Word2VecKeyedVectors"
   ]
  },
  {
   "cell_type": "code",
   "execution_count": 2,
   "metadata": {},
   "outputs": [
    {
     "name": "stdout",
     "output_type": "stream",
     "text": [
      "(150000, 3) (50000, 3)\n"
     ]
    },
    {
     "data": {
      "text/html": [
       "<div>\n",
       "<style scoped>\n",
       "    .dataframe tbody tr th:only-of-type {\n",
       "        vertical-align: middle;\n",
       "    }\n",
       "\n",
       "    .dataframe tbody tr th {\n",
       "        vertical-align: top;\n",
       "    }\n",
       "\n",
       "    .dataframe thead th {\n",
       "        text-align: right;\n",
       "    }\n",
       "</style>\n",
       "<table border=\"1\" class=\"dataframe\">\n",
       "  <thead>\n",
       "    <tr style=\"text-align: right;\">\n",
       "      <th></th>\n",
       "      <th>id</th>\n",
       "      <th>document</th>\n",
       "      <th>label</th>\n",
       "    </tr>\n",
       "  </thead>\n",
       "  <tbody>\n",
       "    <tr>\n",
       "      <th>0</th>\n",
       "      <td>9976970</td>\n",
       "      <td>아 더빙.. 진짜 짜증나네요 목소리</td>\n",
       "      <td>0</td>\n",
       "    </tr>\n",
       "    <tr>\n",
       "      <th>1</th>\n",
       "      <td>3819312</td>\n",
       "      <td>흠...포스터보고 초딩영화줄....오버연기조차 가볍지 않구나</td>\n",
       "      <td>1</td>\n",
       "    </tr>\n",
       "    <tr>\n",
       "      <th>2</th>\n",
       "      <td>10265843</td>\n",
       "      <td>너무재밓었다그래서보는것을추천한다</td>\n",
       "      <td>0</td>\n",
       "    </tr>\n",
       "    <tr>\n",
       "      <th>3</th>\n",
       "      <td>9045019</td>\n",
       "      <td>교도소 이야기구먼 ..솔직히 재미는 없다..평점 조정</td>\n",
       "      <td>0</td>\n",
       "    </tr>\n",
       "    <tr>\n",
       "      <th>4</th>\n",
       "      <td>6483659</td>\n",
       "      <td>사이몬페그의 익살스런 연기가 돋보였던 영화!스파이더맨에서 늙어보이기만 했던 커스틴 ...</td>\n",
       "      <td>1</td>\n",
       "    </tr>\n",
       "  </tbody>\n",
       "</table>\n",
       "</div>"
      ],
      "text/plain": [
       "         id                                           document  label\n",
       "0   9976970                                아 더빙.. 진짜 짜증나네요 목소리      0\n",
       "1   3819312                  흠...포스터보고 초딩영화줄....오버연기조차 가볍지 않구나      1\n",
       "2  10265843                                  너무재밓었다그래서보는것을추천한다      0\n",
       "3   9045019                      교도소 이야기구먼 ..솔직히 재미는 없다..평점 조정      0\n",
       "4   6483659  사이몬페그의 익살스런 연기가 돋보였던 영화!스파이더맨에서 늙어보이기만 했던 커스틴 ...      1"
      ]
     },
     "execution_count": 2,
     "metadata": {},
     "output_type": "execute_result"
    }
   ],
   "source": [
    "# load data\n",
    "train_data = pd.read_table('~/aiffel/sentiment_classification/ratings_train.txt')\n",
    "test_data = pd.read_table('~/aiffel/sentiment_classification/ratings_test.txt')\n",
    "\n",
    "print(train_data.shape, test_data.shape)\n",
    "train_data.head()"
   ]
  },
  {
   "cell_type": "code",
   "execution_count": 3,
   "metadata": {},
   "outputs": [],
   "source": [
    "# stopwords\n",
    "stopwords = ['의','가','이','은','들','는','좀','잘','걍','과','도','를','더이다','으실','.','을려고',\n",
    "             '으로','자','에','와','한','하다','흠','아','들이','랍니다','세용','습니까','%','30']"
   ]
  },
  {
   "cell_type": "code",
   "execution_count": 4,
   "metadata": {},
   "outputs": [],
   "source": [
    "# load morphological analyzer Mecab\n",
    "tokenizer = Mecab()"
   ]
  },
  {
   "cell_type": "code",
   "execution_count": 5,
   "metadata": {},
   "outputs": [],
   "source": [
    "vocab_size = 10000 # number of words\n",
    "\n",
    "def load_data(train_data, test_data, num_words=vocab_size):\n",
    "\n",
    "    train_data.drop_duplicates(subset=['document'], inplace=True) # remove duplicated review data\n",
    "    train_data = train_data.dropna(how = 'any')  # remove 'NA'\n",
    "    test_data.drop_duplicates(subset=['document'], inplace=True)\n",
    "    test_data = test_data.dropna(how = 'any') \n",
    "\n",
    "    X_train = []\n",
    "    for sentence in train_data['document']:\n",
    "        temp_X = tokenizer.morphs(sentence) # tokenize using morphological analyzer\n",
    "        temp_X = [word for word in temp_X if not word in stopwords] # remove stopwords\n",
    "        X_train.append(temp_X)\n",
    "\n",
    "    X_test = []\n",
    "    for sentence in test_data['document']:\n",
    "        temp_X = tokenizer.morphs(sentence) # tokenize\n",
    "        temp_X = [word for word in temp_X if not word in stopwords] # remove stopwords\n",
    "        X_test.append(temp_X)\n",
    "\n",
    "    words = np.concatenate(X_train).tolist()\n",
    "    counter = Counter(words)\n",
    "    counter = counter.most_common(vocab_size-4) # select most frequently used words \n",
    "    vocab = ['<PAD>', '<BOS>', '<UNK>', '<UNUSED>'] + [key for key, _ in counter] # add <pad>, <bos>, <unk>, <unused> to constructed vocab data\n",
    "    word_to_index = {word:index for index, word in enumerate(vocab)} # make dictionary : word as key and index as value for encode\n",
    "\n",
    "    def wordlist_to_indexlist(wordlist):\n",
    "        return [word_to_index[word] if word in word_to_index else word_to_index['<UNK>'] for word in wordlist] \n",
    "\n",
    "    X_train = list(map(wordlist_to_indexlist, X_train))\n",
    "    X_test = list(map(wordlist_to_indexlist, X_test))\n",
    "\n",
    "    return X_train, np.array(list(train_data['label'])), X_test, np.array(list(test_data['label'])), word_to_index\n",
    "    \n",
    "X_train, y_train, X_test, y_test, word_to_index = load_data(train_data, test_data)"
   ]
  },
  {
   "cell_type": "code",
   "execution_count": 6,
   "metadata": {},
   "outputs": [],
   "source": [
    "temp = list(word_to_index.keys())"
   ]
  },
  {
   "cell_type": "code",
   "execution_count": 7,
   "metadata": {},
   "outputs": [
    {
     "data": {
      "text/plain": [
       "['어울렸', '놀라웠', '재일', '소릴', '444', '맥주', '끌려서', '일기', '에이즈', '불릴', '원생', '주몽']"
      ]
     },
     "execution_count": 7,
     "metadata": {},
     "output_type": "execute_result"
    }
   ],
   "source": [
    "random.sample(temp, 12)"
   ]
  },
  {
   "cell_type": "markdown",
   "metadata": {},
   "source": [
    "## preprocess data"
   ]
  },
  {
   "cell_type": "code",
   "execution_count": 8,
   "metadata": {},
   "outputs": [],
   "source": [
    "# make vice versa dictionary of 'word_to_index' for decode\n",
    "index_to_word = {index:word for word, index in word_to_index.items()}"
   ]
  },
  {
   "cell_type": "code",
   "execution_count": 9,
   "metadata": {},
   "outputs": [],
   "source": [
    "# define preprocess functions\n",
    "\n",
    "# convert words in sentence to index\n",
    "def get_encoded_sentence(sentence, word_to_index):\n",
    "    return [word_to_index['<BOS>']]+[word_to_index[word] if word in word_to_index else word_to_index['<UNK>'] for word in sentence.split()]\n",
    "\n",
    "# take list of sentences and return index list vector \n",
    "def get_encoded_sentences(sentences, word_to_index):\n",
    "    return [get_encoded_sentence(sentence, word_to_index) for sentence in sentences]\n",
    "\n",
    "# decode encoded sentence \n",
    "def get_decoded_sentence(encoded_sentence, index_to_word):\n",
    "    return ' '.join(index_to_word[index] if index in index_to_word else '<UNK>' for index in encoded_sentence[1:])  #[1:]를 통해 <BOS>를 제외\n",
    "\n",
    "# decode encoded sentences \n",
    "def get_decoded_sentences(encoded_sentences, index_to_word):\n",
    "    return [get_decoded_sentence(encoded_sentence, index_to_word) for encoded_sentence in encoded_sentences]"
   ]
  },
  {
   "cell_type": "code",
   "execution_count": 10,
   "metadata": {},
   "outputs": [
    {
     "name": "stdout",
     "output_type": "stream",
     "text": [
      "[63, 370, 130, 38, 58, 53, 9417, 131, 9417, 131, 68]\n",
      "라도 기대 했 던 내 죄인 입니다 죄인 입니다 ...\n",
      "라벨:  0\n"
     ]
    }
   ],
   "source": [
    "# defined functions practice run\n",
    "print(X_train[33])\n",
    "print(get_decoded_sentence(X_train[33], index_to_word))\n",
    "print('라벨: ', y_train[33])"
   ]
  },
  {
   "cell_type": "code",
   "execution_count": 11,
   "metadata": {},
   "outputs": [
    {
     "name": "stdout",
     "output_type": "stream",
     "text": [
      "문장길이 평균 :  14.81229042843467\n",
      "문장길이 최대 :  115\n",
      "문장길이 표준편차 :  12.063028090717818\n"
     ]
    }
   ],
   "source": [
    "# data exploration to determine max length of a sentence in dataset\n",
    "total_data_text = list(X_train) + list(X_test)\n",
    "\n",
    "num_tokens = [len(tokens) for tokens in total_data_text]\n",
    "num_tokens = np.array(num_tokens)\n",
    "\n",
    "print('문장길이 평균 : ', np.mean(num_tokens))\n",
    "print('문장길이 최대 : ', np.max(num_tokens))\n",
    "print('문장길이 표준편차 : ', np.std(num_tokens))"
   ]
  },
  {
   "cell_type": "code",
   "execution_count": 12,
   "metadata": {},
   "outputs": [
    {
     "name": "stdout",
     "output_type": "stream",
     "text": [
      "pad_sequences maxlen :  44\n",
      "전체 문장의 0.9521088978647377%가 maxlen 설정값 이내에 포함됩니다. \n"
     ]
    }
   ],
   "source": [
    "# determine max length of sentences \n",
    "max_tokens = np.mean(num_tokens) + 2.5 * np.std(num_tokens)\n",
    "maxlen = int(max_tokens)\n",
    "print('pad_sequences maxlen : ', maxlen)\n",
    "print('전체 문장의 {}%가 maxlen 설정값 이내에 포함됩니다. '.format(np.sum(num_tokens < max_tokens) / len(num_tokens)))"
   ]
  },
  {
   "cell_type": "code",
   "execution_count": 13,
   "metadata": {},
   "outputs": [],
   "source": [
    "# pre-padding\n",
    "X_train = keras.preprocessing.sequence.pad_sequences(X_train,\n",
    "                                                        value=word_to_index[\"<PAD>\"],\n",
    "                                                        padding='pre',\n",
    "                                                        maxlen=maxlen)\n",
    "\n",
    "X_test = keras.preprocessing.sequence.pad_sequences(X_test,\n",
    "                                                       value=word_to_index[\"<PAD>\"],\n",
    "                                                       padding='pre',\n",
    "                                                       maxlen=maxlen)"
   ]
  },
  {
   "cell_type": "markdown",
   "metadata": {},
   "source": [
    "## split train dataset : validation and train"
   ]
  },
  {
   "cell_type": "code",
   "execution_count": 14,
   "metadata": {},
   "outputs": [
    {
     "name": "stdout",
     "output_type": "stream",
     "text": [
      "(146182, 44)\n",
      "(49157, 44)\n"
     ]
    }
   ],
   "source": [
    "# examine shape of dataset\n",
    "print(X_train.shape)\n",
    "print(X_test.shape)"
   ]
  },
  {
   "cell_type": "code",
   "execution_count": 15,
   "metadata": {},
   "outputs": [
    {
     "name": "stdout",
     "output_type": "stream",
     "text": [
      "(126182, 44)\n",
      "(126182,)\n",
      "(20000, 44)\n",
      "(20000,)\n"
     ]
    }
   ],
   "source": [
    "# set aside validation dataset : sligthly less than 20% of training data\n",
    "x_val = X_train[:20000]   \n",
    "y_val = y_train[:20000]\n",
    "\n",
    "# make the rest train dataset\n",
    "partial_x_train = X_train[20000:]  \n",
    "partial_y_train = y_train[20000:]\n",
    "\n",
    "print(partial_x_train.shape)\n",
    "print(partial_y_train.shape)\n",
    "print(x_val.shape)\n",
    "print(y_val.shape)"
   ]
  },
  {
   "cell_type": "markdown",
   "metadata": {},
   "source": [
    "+ Since the given training data is not 'big', I assumed assigning more data to train dataset would be better in model performance than having 20% of train data set as validation set."
   ]
  },
  {
   "cell_type": "markdown",
   "metadata": {},
   "source": [
    "## build model no.1 and train : RNN model"
   ]
  },
  {
   "cell_type": "code",
   "execution_count": 16,
   "metadata": {},
   "outputs": [
    {
     "name": "stdout",
     "output_type": "stream",
     "text": [
      "Model: \"sequential\"\n",
      "_________________________________________________________________\n",
      "Layer (type)                 Output Shape              Param #   \n",
      "=================================================================\n",
      "embedding (Embedding)        (None, None, 8)           80000     \n",
      "_________________________________________________________________\n",
      "lstm (LSTM)                  (None, 8)                 544       \n",
      "_________________________________________________________________\n",
      "dense (Dense)                (None, 8)                 72        \n",
      "_________________________________________________________________\n",
      "dense_1 (Dense)              (None, 1)                 9         \n",
      "=================================================================\n",
      "Total params: 80,625\n",
      "Trainable params: 80,625\n",
      "Non-trainable params: 0\n",
      "_________________________________________________________________\n"
     ]
    }
   ],
   "source": [
    "# build a model\n",
    "word_vector_dim = 8\n",
    "\n",
    "model = keras.Sequential()\n",
    "model.add(keras.layers.Embedding(vocab_size, word_vector_dim, input_shape=(None,)))\n",
    "model.add(keras.layers.LSTM(8))\n",
    "model.add(keras.layers.Dense(8, activation='relu'))\n",
    "model.add(keras.layers.Dense(1, activation='sigmoid'))\n",
    "\n",
    "model.summary()"
   ]
  },
  {
   "cell_type": "code",
   "execution_count": 17,
   "metadata": {},
   "outputs": [
    {
     "name": "stdout",
     "output_type": "stream",
     "text": [
      "Epoch 1/20\n",
      "247/247 [==============================] - 1s 6ms/step - loss: 0.5089 - accuracy: 0.7792 - val_loss: 0.3684 - val_accuracy: 0.8428\n",
      "Epoch 2/20\n",
      "247/247 [==============================] - 1s 5ms/step - loss: 0.3447 - accuracy: 0.8553 - val_loss: 0.3471 - val_accuracy: 0.8510\n",
      "Epoch 3/20\n",
      "247/247 [==============================] - 1s 5ms/step - loss: 0.3204 - accuracy: 0.8654 - val_loss: 0.3447 - val_accuracy: 0.8504\n",
      "Epoch 4/20\n",
      "247/247 [==============================] - 1s 5ms/step - loss: 0.3098 - accuracy: 0.8713 - val_loss: 0.3469 - val_accuracy: 0.8515\n",
      "Epoch 5/20\n",
      "247/247 [==============================] - 1s 5ms/step - loss: 0.3014 - accuracy: 0.8751 - val_loss: 0.3488 - val_accuracy: 0.8518\n",
      "Epoch 6/20\n",
      "247/247 [==============================] - 1s 5ms/step - loss: 0.2951 - accuracy: 0.8784 - val_loss: 0.3572 - val_accuracy: 0.8479\n",
      "Epoch 7/20\n",
      "247/247 [==============================] - 1s 5ms/step - loss: 0.2893 - accuracy: 0.8811 - val_loss: 0.3542 - val_accuracy: 0.8503\n",
      "Epoch 8/20\n",
      "247/247 [==============================] - 1s 5ms/step - loss: 0.2841 - accuracy: 0.8838 - val_loss: 0.3552 - val_accuracy: 0.8503\n",
      "Epoch 9/20\n",
      "247/247 [==============================] - 1s 5ms/step - loss: 0.2776 - accuracy: 0.8874 - val_loss: 0.3621 - val_accuracy: 0.8497\n",
      "Epoch 10/20\n",
      "247/247 [==============================] - 1s 5ms/step - loss: 0.2706 - accuracy: 0.8915 - val_loss: 0.3615 - val_accuracy: 0.8489\n",
      "Epoch 11/20\n",
      "247/247 [==============================] - 1s 5ms/step - loss: 0.2650 - accuracy: 0.8944 - val_loss: 0.3622 - val_accuracy: 0.8489\n",
      "Epoch 12/20\n",
      "247/247 [==============================] - 1s 5ms/step - loss: 0.2585 - accuracy: 0.8977 - val_loss: 0.3688 - val_accuracy: 0.8494\n",
      "Epoch 13/20\n",
      "247/247 [==============================] - 1s 5ms/step - loss: 0.2520 - accuracy: 0.9004 - val_loss: 0.3736 - val_accuracy: 0.8491\n",
      "Epoch 14/20\n",
      "247/247 [==============================] - 1s 5ms/step - loss: 0.2457 - accuracy: 0.9042 - val_loss: 0.3808 - val_accuracy: 0.8493\n",
      "Epoch 15/20\n",
      "247/247 [==============================] - 1s 5ms/step - loss: 0.2397 - accuracy: 0.9067 - val_loss: 0.3812 - val_accuracy: 0.8482\n",
      "Epoch 16/20\n",
      "247/247 [==============================] - 1s 5ms/step - loss: 0.2340 - accuracy: 0.9096 - val_loss: 0.3853 - val_accuracy: 0.8489\n",
      "Epoch 17/20\n",
      "247/247 [==============================] - 1s 5ms/step - loss: 0.2291 - accuracy: 0.9114 - val_loss: 0.3936 - val_accuracy: 0.8457\n",
      "Epoch 18/20\n",
      "247/247 [==============================] - 1s 5ms/step - loss: 0.2238 - accuracy: 0.9135 - val_loss: 0.4025 - val_accuracy: 0.8454\n",
      "Epoch 19/20\n",
      "247/247 [==============================] - 1s 5ms/step - loss: 0.2176 - accuracy: 0.9171 - val_loss: 0.4028 - val_accuracy: 0.8461\n",
      "Epoch 20/20\n",
      "247/247 [==============================] - 1s 5ms/step - loss: 0.2127 - accuracy: 0.9196 - val_loss: 0.4130 - val_accuracy: 0.8469\n"
     ]
    }
   ],
   "source": [
    "# train a model\n",
    "model.compile(optimizer='adam',\n",
    "              loss='binary_crossentropy',\n",
    "              metrics=['accuracy'])\n",
    "              \n",
    "epochs = 20  \n",
    "\n",
    "history = model.fit(partial_x_train,\n",
    "                    partial_y_train,\n",
    "                    epochs=epochs,\n",
    "                    batch_size=512,\n",
    "                    validation_data=(x_val, y_val),\n",
    "                    verbose=1)"
   ]
  },
  {
   "cell_type": "code",
   "execution_count": 18,
   "metadata": {},
   "outputs": [
    {
     "data": {
      "image/png": "[encoded data removed]",
      "text/plain": [
       "<Figure size 432x288 with 1 Axes>"
      ]
     },
     "metadata": {
      "needs_background": "light"
     },
     "output_type": "display_data"
    }
   ],
   "source": [
    "# loss graph in train and validation set\n",
    "acc = history.history['accuracy']\n",
    "val_acc = history.history['val_accuracy']\n",
    "loss = history.history['loss']\n",
    "val_loss = history.history['val_loss']\n",
    "\n",
    "epochs = range(1, len(acc) + 1)\n",
    "\n",
    "plt.plot(epochs, loss, label='Training loss')\n",
    "plt.plot(epochs, val_loss, label='Validation loss')\n",
    "plt.title('Training and validation loss')\n",
    "plt.xlabel('Epochs')\n",
    "plt.ylabel('Loss')\n",
    "plt.legend()\n",
    "\n",
    "plt.show()"
   ]
  },
  {
   "cell_type": "code",
   "execution_count": 19,
   "metadata": {},
   "outputs": [
    {
     "data": {
      "image/png": "[encoded data removed]",
      "text/plain": [
       "<Figure size 432x288 with 1 Axes>"
      ]
     },
     "metadata": {
      "needs_background": "light"
     },
     "output_type": "display_data"
    }
   ],
   "source": [
    "# accuracy graph in train and validation set\n",
    "plt.clf()\n",
    "\n",
    "plt.plot(epochs, acc, label='Training acc')\n",
    "plt.plot(epochs, val_acc, label='Validation acc')\n",
    "plt.title('Training and validation accuracy')\n",
    "plt.xlabel('Epochs')\n",
    "plt.ylabel('Accuracy')\n",
    "plt.legend()\n",
    "\n",
    "plt.show()"
   ]
  },
  {
   "cell_type": "markdown",
   "metadata": {},
   "source": [
    "+ validation loss fluctuates around epochs 4 and 5 then starts to increases making gap between training loss and validation loss\n",
    "+ accuracy shows similar graph; gap widens after 4."
   ]
  },
  {
   "cell_type": "code",
   "execution_count": 20,
   "metadata": {},
   "outputs": [
    {
     "name": "stdout",
     "output_type": "stream",
     "text": [
      "Model: \"sequential_1\"\n",
      "_________________________________________________________________\n",
      "Layer (type)                 Output Shape              Param #   \n",
      "=================================================================\n",
      "embedding_1 (Embedding)      (None, None, 8)           80000     \n",
      "_________________________________________________________________\n",
      "lstm_1 (LSTM)                (None, 8)                 544       \n",
      "_________________________________________________________________\n",
      "dense_2 (Dense)              (None, 8)                 72        \n",
      "_________________________________________________________________\n",
      "dense_3 (Dense)              (None, 1)                 9         \n",
      "=================================================================\n",
      "Total params: 80,625\n",
      "Trainable params: 80,625\n",
      "Non-trainable params: 0\n",
      "_________________________________________________________________\n"
     ]
    }
   ],
   "source": [
    "model = keras.Sequential()\n",
    "model.add(keras.layers.Embedding(vocab_size, word_vector_dim, input_shape=(None,)))\n",
    "model.add(keras.layers.LSTM(8))\n",
    "model.add(keras.layers.Dense(8, activation='relu'))\n",
    "model.add(keras.layers.Dense(1, activation='sigmoid'))\n",
    "\n",
    "model.summary()"
   ]
  },
  {
   "cell_type": "code",
   "execution_count": 21,
   "metadata": {},
   "outputs": [
    {
     "name": "stdout",
     "output_type": "stream",
     "text": [
      "Epoch 1/4\n",
      "247/247 [==============================] - 1s 6ms/step - loss: 0.5267 - accuracy: 0.7549 - val_loss: 0.3790 - val_accuracy: 0.8362\n",
      "Epoch 2/4\n",
      "247/247 [==============================] - 1s 5ms/step - loss: 0.3475 - accuracy: 0.8534 - val_loss: 0.3504 - val_accuracy: 0.8472\n",
      "Epoch 3/4\n",
      "247/247 [==============================] - 1s 5ms/step - loss: 0.3193 - accuracy: 0.8675 - val_loss: 0.3464 - val_accuracy: 0.8533\n",
      "Epoch 4/4\n",
      "247/247 [==============================] - 1s 5ms/step - loss: 0.3068 - accuracy: 0.8733 - val_loss: 0.3469 - val_accuracy: 0.8537\n"
     ]
    }
   ],
   "source": [
    "model.compile(optimizer='adam',\n",
    "              loss='binary_crossentropy',\n",
    "              metrics=['accuracy'])\n",
    "              \n",
    "epochs = 4  \n",
    "\n",
    "history = model.fit(partial_x_train,\n",
    "                    partial_y_train,\n",
    "                    epochs=epochs,\n",
    "                    batch_size=512,\n",
    "                    validation_data=(x_val, y_val),\n",
    "                    verbose=1)"
   ]
  },
  {
   "cell_type": "code",
   "execution_count": 22,
   "metadata": {},
   "outputs": [
    {
     "data": {
      "image/png": "[encoded data removed]",
      "text/plain": [
       "<Figure size 432x288 with 2 Axes>"
      ]
     },
     "metadata": {
      "needs_background": "light"
     },
     "output_type": "display_data"
    }
   ],
   "source": [
    "acc = history.history['accuracy']\n",
    "val_acc = history.history['val_accuracy']\n",
    "loss = history.history['loss']\n",
    "val_loss = history.history['val_loss']\n",
    "\n",
    "epochs = range(1, len(acc) + 1)\n",
    "\n",
    "plt.subplot(2,1,1)\n",
    "plt.plot(epochs, loss, label='Training loss')\n",
    "plt.plot(epochs, val_loss, label='Validation loss')\n",
    "plt.title('Training and validation loss')\n",
    "plt.xlabel('Epochs')\n",
    "plt.ylabel('Loss')\n",
    "plt.legend()\n",
    "plt.subplot(2,1,2)\n",
    "plt.plot(epochs, acc, label='Training acc')\n",
    "plt.plot(epochs, val_acc, label='Validation acc')\n",
    "plt.title('Training and validation accuracy')\n",
    "plt.xlabel('Epochs')\n",
    "plt.ylabel('Accuracy')\n",
    "plt.legend()\n",
    "\n",
    "plt.show()"
   ]
  },
  {
   "cell_type": "code",
   "execution_count": 23,
   "metadata": {},
   "outputs": [
    {
     "name": "stdout",
     "output_type": "stream",
     "text": [
      "1537/1537 - 2s - loss: 0.3558 - accuracy: 0.8469\n",
      "[0.35576295852661133, 0.8468783497810364]\n"
     ]
    }
   ],
   "source": [
    "results = model.evaluate(X_test,  y_test, verbose=2)\n",
    "\n",
    "print(results)"
   ]
  },
  {
   "cell_type": "markdown",
   "metadata": {},
   "source": [
    "+ trained model with lstm layer achieves 84.6% accuracy with test dataset"
   ]
  },
  {
   "cell_type": "code",
   "execution_count": 24,
   "metadata": {},
   "outputs": [],
   "source": [
    "# save trained embedding parameters \n",
    "word2vec_file_path = os.getenv('HOME')+'/aiffel/sentiment_classification/word2vec_lstm.txt'\n",
    "f = open(word2vec_file_path, 'w')\n",
    "f.write('{} {}\\n'.format(vocab_size-4, word_vector_dim))\n",
    "\n",
    "vectors = model.get_weights()[0]\n",
    "for i in range(4,vocab_size):\n",
    "    f.write('{} {}\\n'.format(index_to_word[i], ' '.join(map(str, list(vectors[i, :])))))\n",
    "f.close()"
   ]
  },
  {
   "cell_type": "code",
   "execution_count": 25,
   "metadata": {},
   "outputs": [
    {
     "data": {
      "text/plain": [
       "array([ 0.00637732,  0.07051526, -0.07803115, -0.01788745,  0.00741166,\n",
       "       -0.04852904,  0.11119606, -0.02652132], dtype=float32)"
      ]
     },
     "execution_count": 25,
     "metadata": {},
     "output_type": "execute_result"
    }
   ],
   "source": [
    "word_vectors = Word2VecKeyedVectors.load_word2vec_format(word2vec_file_path, binary=False)\n",
    "vector = word_vectors['기대']\n",
    "vector"
   ]
  },
  {
   "cell_type": "code",
   "execution_count": 26,
   "metadata": {},
   "outputs": [
    {
     "data": {
      "text/plain": [
       "[('널', 0.9567669034004211),\n",
       " ('순위', 0.9493257999420166),\n",
       " ('정려원', 0.9410772323608398),\n",
       " ('꾼', 0.9290734529495239),\n",
       " ('싱', 0.9265799522399902),\n",
       " ('주', 0.9172757863998413),\n",
       " ('고스트', 0.9171186685562134),\n",
       " ('@', 0.9134852886199951),\n",
       " ('잠깐', 0.9069699645042419),\n",
       " ('비평', 0.8998109102249146)]"
      ]
     },
     "execution_count": 26,
     "metadata": {},
     "output_type": "execute_result"
    }
   ],
   "source": [
    "word_vectors.similar_by_word(\"기대\")"
   ]
  },
  {
   "cell_type": "markdown",
   "metadata": {},
   "source": [
    "+ despite high accuracy in test set, word embedding seems random to me. I find it hard to collocate or connect seleted words by a model with given word '기대'."
   ]
  },
  {
   "cell_type": "markdown",
   "metadata": {},
   "source": [
    "## build model no.2 and train : 1d-convolution layer"
   ]
  },
  {
   "cell_type": "code",
   "execution_count": 27,
   "metadata": {},
   "outputs": [
    {
     "name": "stdout",
     "output_type": "stream",
     "text": [
      "Model: \"sequential_2\"\n",
      "_________________________________________________________________\n",
      "Layer (type)                 Output Shape              Param #   \n",
      "=================================================================\n",
      "embedding_2 (Embedding)      (None, None, 8)           80000     \n",
      "_________________________________________________________________\n",
      "conv1d (Conv1D)              (None, None, 16)          1040      \n",
      "_________________________________________________________________\n",
      "max_pooling1d (MaxPooling1D) (None, None, 16)          0         \n",
      "_________________________________________________________________\n",
      "conv1d_1 (Conv1D)            (None, None, 16)          2064      \n",
      "_________________________________________________________________\n",
      "global_max_pooling1d (Global (None, 16)                0         \n",
      "_________________________________________________________________\n",
      "dense_4 (Dense)              (None, 8)                 136       \n",
      "_________________________________________________________________\n",
      "dense_5 (Dense)              (None, 1)                 9         \n",
      "=================================================================\n",
      "Total params: 83,249\n",
      "Trainable params: 83,249\n",
      "Non-trainable params: 0\n",
      "_________________________________________________________________\n"
     ]
    }
   ],
   "source": [
    "# bulid a model\n",
    "word_vector_dim = 8\n",
    "\n",
    "model = keras.Sequential()\n",
    "model.add(keras.layers.Embedding(vocab_size, word_vector_dim, input_shape=(None,)))\n",
    "model.add(keras.layers.Conv1D(16, 8, activation='relu'))\n",
    "model.add(keras.layers.MaxPooling1D(4))\n",
    "model.add(keras.layers.Conv1D(16, 8, activation='relu'))\n",
    "model.add(keras.layers.GlobalMaxPooling1D())\n",
    "model.add(keras.layers.Dense(8, activation='relu'))\n",
    "model.add(keras.layers.Dense(1, activation='sigmoid'))  \n",
    "\n",
    "model.summary()"
   ]
  },
  {
   "cell_type": "code",
   "execution_count": 28,
   "metadata": {},
   "outputs": [
    {
     "name": "stdout",
     "output_type": "stream",
     "text": [
      "Epoch 1/20\n",
      "247/247 [==============================] - 7s 29ms/step - loss: 0.5423 - accuracy: 0.7160 - val_loss: 0.3808 - val_accuracy: 0.8315\n",
      "Epoch 2/20\n",
      "247/247 [==============================] - 1s 4ms/step - loss: 0.3548 - accuracy: 0.8454 - val_loss: 0.3612 - val_accuracy: 0.8393\n",
      "Epoch 3/20\n",
      "247/247 [==============================] - 1s 4ms/step - loss: 0.3235 - accuracy: 0.8611 - val_loss: 0.3584 - val_accuracy: 0.8429\n",
      "Epoch 4/20\n",
      "247/247 [==============================] - 1s 4ms/step - loss: 0.3023 - accuracy: 0.8728 - val_loss: 0.3618 - val_accuracy: 0.8431\n",
      "Epoch 5/20\n",
      "247/247 [==============================] - 1s 4ms/step - loss: 0.2821 - accuracy: 0.8836 - val_loss: 0.3643 - val_accuracy: 0.8439\n",
      "Epoch 6/20\n",
      "247/247 [==============================] - 1s 4ms/step - loss: 0.2631 - accuracy: 0.8940 - val_loss: 0.3771 - val_accuracy: 0.8428\n",
      "Epoch 7/20\n",
      "247/247 [==============================] - 1s 4ms/step - loss: 0.2443 - accuracy: 0.9024 - val_loss: 0.3899 - val_accuracy: 0.8396\n",
      "Epoch 8/20\n",
      "247/247 [==============================] - 1s 4ms/step - loss: 0.2257 - accuracy: 0.9127 - val_loss: 0.4085 - val_accuracy: 0.8372\n",
      "Epoch 9/20\n",
      "247/247 [==============================] - 1s 4ms/step - loss: 0.2086 - accuracy: 0.9214 - val_loss: 0.4371 - val_accuracy: 0.8319\n",
      "Epoch 10/20\n",
      "247/247 [==============================] - 1s 4ms/step - loss: 0.1923 - accuracy: 0.9286 - val_loss: 0.4461 - val_accuracy: 0.8289\n",
      "Epoch 11/20\n",
      "247/247 [==============================] - 1s 4ms/step - loss: 0.1775 - accuracy: 0.9357 - val_loss: 0.4828 - val_accuracy: 0.8266\n",
      "Epoch 12/20\n",
      "247/247 [==============================] - 1s 4ms/step - loss: 0.1640 - accuracy: 0.9413 - val_loss: 0.5066 - val_accuracy: 0.8256\n",
      "Epoch 13/20\n",
      "247/247 [==============================] - 1s 4ms/step - loss: 0.1521 - accuracy: 0.9472 - val_loss: 0.5354 - val_accuracy: 0.8210\n",
      "Epoch 14/20\n",
      "247/247 [==============================] - 1s 4ms/step - loss: 0.1425 - accuracy: 0.9509 - val_loss: 0.5674 - val_accuracy: 0.8198\n",
      "Epoch 15/20\n",
      "247/247 [==============================] - 1s 4ms/step - loss: 0.1337 - accuracy: 0.9548 - val_loss: 0.5983 - val_accuracy: 0.8173\n",
      "Epoch 16/20\n",
      "247/247 [==============================] - 1s 4ms/step - loss: 0.1266 - accuracy: 0.9573 - val_loss: 0.6215 - val_accuracy: 0.8177\n",
      "Epoch 17/20\n",
      "247/247 [==============================] - 1s 5ms/step - loss: 0.1193 - accuracy: 0.9601 - val_loss: 0.6587 - val_accuracy: 0.8161\n",
      "Epoch 18/20\n",
      "247/247 [==============================] - 1s 4ms/step - loss: 0.1137 - accuracy: 0.9622 - val_loss: 0.6877 - val_accuracy: 0.8131\n",
      "Epoch 19/20\n",
      "247/247 [==============================] - 1s 4ms/step - loss: 0.1088 - accuracy: 0.9638 - val_loss: 0.7103 - val_accuracy: 0.8131\n",
      "Epoch 20/20\n",
      "247/247 [==============================] - 1s 4ms/step - loss: 0.1046 - accuracy: 0.9652 - val_loss: 0.7413 - val_accuracy: 0.8109\n"
     ]
    }
   ],
   "source": [
    "# train a model\n",
    "model.compile(optimizer='adam',\n",
    "              loss='binary_crossentropy',\n",
    "              metrics=['accuracy'])\n",
    "              \n",
    "epochs = 20  \n",
    "\n",
    "history = model.fit(partial_x_train,\n",
    "                    partial_y_train,\n",
    "                    epochs=epochs,\n",
    "                    batch_size=512,\n",
    "                    validation_data=(x_val, y_val),\n",
    "                    verbose=1)"
   ]
  },
  {
   "cell_type": "code",
   "execution_count": 29,
   "metadata": {},
   "outputs": [
    {
     "data": {
      "image/png": "[encoded data removed]",
      "text/plain": [
       "<Figure size 432x288 with 2 Axes>"
      ]
     },
     "metadata": {
      "needs_background": "light"
     },
     "output_type": "display_data"
    }
   ],
   "source": [
    "# loss and accuracy graph\n",
    "acc = history.history['accuracy']\n",
    "val_acc = history.history['val_accuracy']\n",
    "loss = history.history['loss']\n",
    "val_loss = history.history['val_loss']\n",
    "\n",
    "epochs = range(1, len(acc) + 1)\n",
    "\n",
    "plt.subplot(2,1,1)\n",
    "plt.plot(epochs, loss, label='Training loss')\n",
    "plt.plot(epochs, val_loss, label='Validation loss')\n",
    "plt.title('Training and validation loss')\n",
    "plt.xlabel('Epochs')\n",
    "plt.ylabel('Loss')\n",
    "plt.legend()\n",
    "plt.subplot(2,1,2)\n",
    "plt.plot(epochs, acc, label='Training acc')\n",
    "plt.plot(epochs, val_acc, label='Validation acc')\n",
    "plt.title('Training and validation accuracy')\n",
    "plt.xlabel('Epochs')\n",
    "plt.ylabel('Accuracy')\n",
    "plt.legend()\n",
    "\n",
    "plt.show()"
   ]
  },
  {
   "cell_type": "markdown",
   "metadata": {},
   "source": [
    "+ this model shows similar loss and accuracy graph to previous lstm model; gap widens after 4 to 5 epochs."
   ]
  },
  {
   "cell_type": "code",
   "execution_count": 30,
   "metadata": {},
   "outputs": [
    {
     "name": "stdout",
     "output_type": "stream",
     "text": [
      "Model: \"sequential_3\"\n",
      "_________________________________________________________________\n",
      "Layer (type)                 Output Shape              Param #   \n",
      "=================================================================\n",
      "embedding_3 (Embedding)      (None, None, 8)           80000     \n",
      "_________________________________________________________________\n",
      "conv1d_2 (Conv1D)            (None, None, 16)          1040      \n",
      "_________________________________________________________________\n",
      "max_pooling1d_1 (MaxPooling1 (None, None, 16)          0         \n",
      "_________________________________________________________________\n",
      "conv1d_3 (Conv1D)            (None, None, 16)          2064      \n",
      "_________________________________________________________________\n",
      "global_max_pooling1d_1 (Glob (None, 16)                0         \n",
      "_________________________________________________________________\n",
      "dense_6 (Dense)              (None, 8)                 136       \n",
      "_________________________________________________________________\n",
      "dense_7 (Dense)              (None, 1)                 9         \n",
      "=================================================================\n",
      "Total params: 83,249\n",
      "Trainable params: 83,249\n",
      "Non-trainable params: 0\n",
      "_________________________________________________________________\n"
     ]
    }
   ],
   "source": [
    "# re-build a model\n",
    "model = keras.Sequential()\n",
    "model.add(keras.layers.Embedding(vocab_size, word_vector_dim, input_shape=(None,)))\n",
    "model.add(keras.layers.Conv1D(16, 8, activation='relu'))\n",
    "model.add(keras.layers.MaxPooling1D(4))\n",
    "model.add(keras.layers.Conv1D(16, 8, activation='relu'))\n",
    "model.add(keras.layers.GlobalMaxPooling1D())\n",
    "model.add(keras.layers.Dense(8, activation='relu'))\n",
    "model.add(keras.layers.Dense(1, activation='sigmoid'))  \n",
    "\n",
    "model.summary()"
   ]
  },
  {
   "cell_type": "code",
   "execution_count": 31,
   "metadata": {},
   "outputs": [
    {
     "name": "stdout",
     "output_type": "stream",
     "text": [
      "Epoch 1/3\n",
      "247/247 [==============================] - 1s 4ms/step - loss: 0.5478 - accuracy: 0.7035 - val_loss: 0.3839 - val_accuracy: 0.8285\n",
      "Epoch 2/3\n",
      "247/247 [==============================] - 1s 4ms/step - loss: 0.3543 - accuracy: 0.8456 - val_loss: 0.3668 - val_accuracy: 0.8385\n",
      "Epoch 3/3\n",
      "247/247 [==============================] - 1s 4ms/step - loss: 0.3207 - accuracy: 0.8621 - val_loss: 0.3582 - val_accuracy: 0.8413\n"
     ]
    }
   ],
   "source": [
    "# train model with less epoch\n",
    "model.compile(optimizer='adam',\n",
    "              loss='binary_crossentropy',\n",
    "              metrics=['accuracy'])\n",
    "              \n",
    "epochs = 3\n",
    "\n",
    "history = model.fit(partial_x_train,\n",
    "                    partial_y_train,\n",
    "                    epochs=epochs,\n",
    "                    batch_size=512,\n",
    "                    validation_data=(x_val, y_val),\n",
    "                    verbose=1)"
   ]
  },
  {
   "cell_type": "code",
   "execution_count": 32,
   "metadata": {},
   "outputs": [
    {
     "data": {
      "image/png": "[encoded data removed]",
      "text/plain": [
       "<Figure size 432x288 with 2 Axes>"
      ]
     },
     "metadata": {
      "needs_background": "light"
     },
     "output_type": "display_data"
    }
   ],
   "source": [
    "acc = history.history['accuracy']\n",
    "val_acc = history.history['val_accuracy']\n",
    "loss = history.history['loss']\n",
    "val_loss = history.history['val_loss']\n",
    "\n",
    "epochs = range(1, len(acc) + 1)\n",
    "\n",
    "plt.subplot(2,1,1)\n",
    "plt.plot(epochs, loss, label='Training loss')\n",
    "plt.plot(epochs, val_loss, label='Validation loss')\n",
    "plt.title('Training and validation loss')\n",
    "plt.xlabel('Epochs')\n",
    "plt.ylabel('Loss')\n",
    "plt.legend()\n",
    "plt.subplot(2,1,2)\n",
    "plt.plot(epochs, acc, label='Training acc')\n",
    "plt.plot(epochs, val_acc, label='Validation acc')\n",
    "plt.title('Training and validation accuracy')\n",
    "plt.xlabel('Epochs')\n",
    "plt.ylabel('Accuracy')\n",
    "plt.legend()\n",
    "\n",
    "plt.show()"
   ]
  },
  {
   "cell_type": "code",
   "execution_count": 33,
   "metadata": {},
   "outputs": [
    {
     "name": "stdout",
     "output_type": "stream",
     "text": [
      "1537/1537 - 3s - loss: 0.3666 - accuracy: 0.8381\n",
      "[0.36656901240348816, 0.8381105661392212]\n"
     ]
    }
   ],
   "source": [
    "results = model.evaluate(X_test,  y_test, verbose=2)\n",
    "\n",
    "print(results)"
   ]
  },
  {
   "cell_type": "markdown",
   "metadata": {},
   "source": [
    "+ achieved rather low accuracy.\n",
    "   + I wonder what makes difference between lstm and conv1d. "
   ]
  },
  {
   "cell_type": "code",
   "execution_count": 37,
   "metadata": {},
   "outputs": [],
   "source": [
    "# save trained embedding parameters \n",
    "word2vec_file_path = os.getenv('HOME')+'/aiffel/sentiment_classification/word2vec_conv1d.txt'\n",
    "f = open(word2vec_file_path, 'w')\n",
    "f.write('{} {}\\n'.format(vocab_size-4, word_vector_dim))  \n",
    "\n",
    "vectors = model.get_weights()[0]\n",
    "for i in range(4,vocab_size):\n",
    "    f.write('{} {}\\n'.format(index_to_word[i], ' '.join(map(str, list(vectors[i, :])))))\n",
    "f.close()"
   ]
  },
  {
   "cell_type": "code",
   "execution_count": 38,
   "metadata": {},
   "outputs": [
    {
     "data": {
      "text/plain": [
       "array([ 0.00483618, -0.06186387,  0.02619092,  0.02856239,  0.06228601,\n",
       "        0.13126233,  0.01655151, -0.08023886], dtype=float32)"
      ]
     },
     "execution_count": 38,
     "metadata": {},
     "output_type": "execute_result"
    }
   ],
   "source": [
    "word_vectors = Word2VecKeyedVectors.load_word2vec_format(word2vec_file_path, binary=False)\n",
    "vector = word_vectors['기대']\n",
    "vector"
   ]
  },
  {
   "cell_type": "code",
   "execution_count": 39,
   "metadata": {},
   "outputs": [
    {
     "data": {
      "text/plain": [
       "[('어딘가', 0.8945257067680359),\n",
       " ('절실', 0.8726669549942017),\n",
       " ('전', 0.8672779202461243),\n",
       " ('한테', 0.8581224679946899),\n",
       " ('된다는', 0.8564485907554626),\n",
       " ('특색', 0.8529115915298462),\n",
       " ('사마', 0.8526506423950195),\n",
       " ('공영', 0.8486758470535278),\n",
       " ('.................', 0.8419909477233887),\n",
       " ('애새끼', 0.8402138352394104)]"
      ]
     },
     "execution_count": 39,
     "metadata": {},
     "output_type": "execute_result"
    }
   ],
   "source": [
    "word_vectors.similar_by_word(\"기대\")"
   ]
  },
  {
   "cell_type": "markdown",
   "metadata": {},
   "source": [
    "+ Neither this model gives convincing similar words."
   ]
  },
  {
   "cell_type": "markdown",
   "metadata": {},
   "source": [
    "---"
   ]
  },
  {
   "cell_type": "markdown",
   "metadata": {},
   "source": [
    "## build model no.3 and train : global max pooling layer"
   ]
  },
  {
   "cell_type": "code",
   "execution_count": 40,
   "metadata": {},
   "outputs": [
    {
     "name": "stdout",
     "output_type": "stream",
     "text": [
      "Model: \"sequential_4\"\n",
      "_________________________________________________________________\n",
      "Layer (type)                 Output Shape              Param #   \n",
      "=================================================================\n",
      "embedding_4 (Embedding)      (None, None, 8)           80000     \n",
      "_________________________________________________________________\n",
      "global_max_pooling1d_2 (Glob (None, 8)                 0         \n",
      "_________________________________________________________________\n",
      "dense_8 (Dense)              (None, 8)                 72        \n",
      "_________________________________________________________________\n",
      "dense_9 (Dense)              (None, 1)                 9         \n",
      "=================================================================\n",
      "Total params: 80,081\n",
      "Trainable params: 80,081\n",
      "Non-trainable params: 0\n",
      "_________________________________________________________________\n"
     ]
    }
   ],
   "source": [
    "word_vector_dim = 8   \n",
    "\n",
    "model = keras.Sequential()\n",
    "model.add(keras.layers.Embedding(vocab_size, word_vector_dim, input_shape=(None,)))\n",
    "model.add(keras.layers.GlobalMaxPooling1D())\n",
    "model.add(keras.layers.Dense(8, activation='relu'))\n",
    "model.add(keras.layers.Dense(1, activation='sigmoid'))  \n",
    "\n",
    "model.summary()"
   ]
  },
  {
   "cell_type": "code",
   "execution_count": 41,
   "metadata": {},
   "outputs": [
    {
     "name": "stdout",
     "output_type": "stream",
     "text": [
      "Epoch 1/10\n",
      "247/247 [==============================] - 1s 3ms/step - loss: 0.6440 - accuracy: 0.7236 - val_loss: 0.5337 - val_accuracy: 0.7843\n",
      "Epoch 2/10\n",
      "247/247 [==============================] - 1s 3ms/step - loss: 0.4382 - accuracy: 0.8164 - val_loss: 0.3933 - val_accuracy: 0.8248\n",
      "Epoch 3/10\n",
      "247/247 [==============================] - 1s 3ms/step - loss: 0.3633 - accuracy: 0.8445 - val_loss: 0.3714 - val_accuracy: 0.8353\n",
      "Epoch 4/10\n",
      "247/247 [==============================] - 1s 4ms/step - loss: 0.3353 - accuracy: 0.8574 - val_loss: 0.3650 - val_accuracy: 0.8381\n",
      "Epoch 5/10\n",
      "247/247 [==============================] - 1s 3ms/step - loss: 0.3170 - accuracy: 0.8668 - val_loss: 0.3639 - val_accuracy: 0.8392\n",
      "Epoch 6/10\n",
      "247/247 [==============================] - 1s 3ms/step - loss: 0.3036 - accuracy: 0.8732 - val_loss: 0.3658 - val_accuracy: 0.8411\n",
      "Epoch 7/10\n",
      "247/247 [==============================] - 1s 3ms/step - loss: 0.2927 - accuracy: 0.8782 - val_loss: 0.3686 - val_accuracy: 0.8411\n",
      "Epoch 8/10\n",
      "247/247 [==============================] - 1s 3ms/step - loss: 0.2835 - accuracy: 0.8829 - val_loss: 0.3728 - val_accuracy: 0.8401\n",
      "Epoch 9/10\n",
      "247/247 [==============================] - 1s 3ms/step - loss: 0.2755 - accuracy: 0.8873 - val_loss: 0.3777 - val_accuracy: 0.8395\n",
      "Epoch 10/10\n",
      "247/247 [==============================] - 1s 3ms/step - loss: 0.2687 - accuracy: 0.8899 - val_loss: 0.3829 - val_accuracy: 0.8377\n"
     ]
    }
   ],
   "source": [
    "model.compile(optimizer='adam',\n",
    "              loss='binary_crossentropy',\n",
    "              metrics=['accuracy'])\n",
    "              \n",
    "epochs = 10   \n",
    "\n",
    "history = model.fit(partial_x_train,\n",
    "                    partial_y_train,\n",
    "                    epochs=epochs,\n",
    "                    batch_size=512,\n",
    "                    validation_data=(x_val, y_val),\n",
    "                    verbose=1)"
   ]
  },
  {
   "cell_type": "code",
   "execution_count": 42,
   "metadata": {},
   "outputs": [
    {
     "data": {
      "image/png": "[encoded data removed]",
      "text/plain": [
       "<Figure size 432x288 with 2 Axes>"
      ]
     },
     "metadata": {
      "needs_background": "light"
     },
     "output_type": "display_data"
    }
   ],
   "source": [
    "acc = history.history['accuracy']\n",
    "val_acc = history.history['val_accuracy']\n",
    "loss = history.history['loss']\n",
    "val_loss = history.history['val_loss']\n",
    "\n",
    "epochs = range(1, len(acc) + 1)\n",
    "\n",
    "plt.subplot(2,1,1)\n",
    "plt.plot(epochs, loss, label='Training loss')\n",
    "plt.plot(epochs, val_loss, label='Validation loss')\n",
    "plt.title('Training and validation loss')\n",
    "plt.xlabel('Epochs')\n",
    "plt.ylabel('Loss')\n",
    "plt.legend()\n",
    "plt.subplot(2,1,2)\n",
    "plt.plot(epochs, acc, label='Training acc')\n",
    "plt.plot(epochs, val_acc, label='Validation acc')\n",
    "plt.title('Training and validation accuracy')\n",
    "plt.xlabel('Epochs')\n",
    "plt.ylabel('Accuracy')\n",
    "plt.legend()\n",
    "\n",
    "plt.show()"
   ]
  },
  {
   "cell_type": "markdown",
   "metadata": {},
   "source": [
    "+ this model shows similar loss and accuracy graph to previous lstm models as well.\n",
    "  + maybe task is rather simple to models. : It is binary classification after all."
   ]
  },
  {
   "cell_type": "code",
   "execution_count": 43,
   "metadata": {},
   "outputs": [
    {
     "name": "stdout",
     "output_type": "stream",
     "text": [
      "Model: \"sequential_5\"\n",
      "_________________________________________________________________\n",
      "Layer (type)                 Output Shape              Param #   \n",
      "=================================================================\n",
      "embedding_5 (Embedding)      (None, None, 8)           80000     \n",
      "_________________________________________________________________\n",
      "global_max_pooling1d_3 (Glob (None, 8)                 0         \n",
      "_________________________________________________________________\n",
      "dense_10 (Dense)             (None, 8)                 72        \n",
      "_________________________________________________________________\n",
      "dense_11 (Dense)             (None, 1)                 9         \n",
      "=================================================================\n",
      "Total params: 80,081\n",
      "Trainable params: 80,081\n",
      "Non-trainable params: 0\n",
      "_________________________________________________________________\n"
     ]
    }
   ],
   "source": [
    "model = keras.Sequential()\n",
    "model.add(keras.layers.Embedding(vocab_size, word_vector_dim, input_shape=(None,)))\n",
    "model.add(keras.layers.GlobalMaxPooling1D())\n",
    "model.add(keras.layers.Dense(8, activation='relu'))\n",
    "model.add(keras.layers.Dense(1, activation='sigmoid'))  \n",
    "\n",
    "model.summary()"
   ]
  },
  {
   "cell_type": "code",
   "execution_count": 44,
   "metadata": {},
   "outputs": [
    {
     "name": "stdout",
     "output_type": "stream",
     "text": [
      "Epoch 1/5\n",
      "247/247 [==============================] - 1s 3ms/step - loss: 0.6127 - accuracy: 0.7205 - val_loss: 0.4923 - val_accuracy: 0.8033\n",
      "Epoch 2/5\n",
      "247/247 [==============================] - 1s 3ms/step - loss: 0.4243 - accuracy: 0.8218 - val_loss: 0.3918 - val_accuracy: 0.8303\n",
      "Epoch 3/5\n",
      "247/247 [==============================] - 1s 3ms/step - loss: 0.3594 - accuracy: 0.8461 - val_loss: 0.3709 - val_accuracy: 0.8364\n",
      "Epoch 4/5\n",
      "247/247 [==============================] - 1s 3ms/step - loss: 0.3305 - accuracy: 0.8598 - val_loss: 0.3654 - val_accuracy: 0.8396\n",
      "Epoch 5/5\n",
      "247/247 [==============================] - 1s 3ms/step - loss: 0.3121 - accuracy: 0.8685 - val_loss: 0.3663 - val_accuracy: 0.8409\n"
     ]
    }
   ],
   "source": [
    "model.compile(optimizer='adam',\n",
    "              loss='binary_crossentropy',\n",
    "              metrics=['accuracy'])\n",
    "              \n",
    "epochs = 5  \n",
    "\n",
    "history = model.fit(partial_x_train,\n",
    "                    partial_y_train,\n",
    "                    epochs=epochs,\n",
    "                    batch_size=512,\n",
    "                    validation_data=(x_val, y_val),\n",
    "                    verbose=1)"
   ]
  },
  {
   "cell_type": "code",
   "execution_count": 45,
   "metadata": {},
   "outputs": [
    {
     "name": "stdout",
     "output_type": "stream",
     "text": [
      "1537/1537 - 1s - loss: 0.3722 - accuracy: 0.8379\n",
      "[0.3721981644630432, 0.8379071354866028]\n"
     ]
    }
   ],
   "source": [
    "results = model.evaluate(X_test,  y_test, verbose=2)\n",
    "\n",
    "print(results)"
   ]
  },
  {
   "cell_type": "markdown",
   "metadata": {},
   "source": [
    "+ surprisingly, it achieved similar accuracy to more complicated conv1d model.\n",
    "  + still. lower than lstm."
   ]
  },
  {
   "cell_type": "code",
   "execution_count": 46,
   "metadata": {},
   "outputs": [],
   "source": [
    "# save trained embedding parameters\n",
    "word2vec_file_path = os.getenv('HOME')+'/aiffel/sentiment_classification/word2vec_maxpool.txt'\n",
    "f = open(word2vec_file_path, 'w')\n",
    "f.write('{} {}\\n'.format(vocab_size-4, word_vector_dim)) \n",
    "\n",
    "\n",
    "vectors = model.get_weights()[0]\n",
    "for i in range(4,vocab_size):\n",
    "    f.write('{} {}\\n'.format(index_to_word[i], ' '.join(map(str, list(vectors[i, :])))))\n",
    "f.close()"
   ]
  },
  {
   "cell_type": "code",
   "execution_count": 47,
   "metadata": {},
   "outputs": [
    {
     "data": {
      "text/plain": [
       "array([-0.10612258, -0.06031119, -0.07012986, -0.00012586, -0.04432099,\n",
       "       -0.111586  , -0.10644019, -0.03575396], dtype=float32)"
      ]
     },
     "execution_count": 47,
     "metadata": {},
     "output_type": "execute_result"
    }
   ],
   "source": [
    "word_vectors = Word2VecKeyedVectors.load_word2vec_format(word2vec_file_path, binary=False)\n",
    "vector = word_vectors['기대']\n",
    "vector"
   ]
  },
  {
   "cell_type": "code",
   "execution_count": 48,
   "metadata": {},
   "outputs": [
    {
     "data": {
      "text/plain": [
       "[('드래곤볼', 0.9856970310211182),\n",
       " ('막상', 0.9809916019439697),\n",
       " ('라면', 0.9773523807525635),\n",
       " ('애기', 0.9748612642288208),\n",
       " ('요새', 0.9747428894042969),\n",
       " ('로맨틱', 0.9746811389923096),\n",
       " ('반', 0.973720133304596),\n",
       " ('시청자', 0.9734678268432617),\n",
       " ('대사', 0.9716449975967407),\n",
       " ('영어', 0.9715708494186401)]"
      ]
     },
     "execution_count": 48,
     "metadata": {},
     "output_type": "execute_result"
    }
   ],
   "source": [
    "word_vectors.similar_by_word(\"기대\")"
   ]
  },
  {
   "cell_type": "markdown",
   "metadata": {},
   "source": [
    "+ Not sure of similarity of the selected words"
   ]
  },
  {
   "cell_type": "markdown",
   "metadata": {},
   "source": [
    "## build model no.4 and train : lstm after conv1d"
   ]
  },
  {
   "cell_type": "markdown",
   "metadata": {},
   "source": [
    "+ lstm model shows best results among above three models. \n",
    "  + could feeding features filtered by conv1d layer to lstm make better result?"
   ]
  },
  {
   "cell_type": "code",
   "execution_count": 49,
   "metadata": {},
   "outputs": [
    {
     "name": "stdout",
     "output_type": "stream",
     "text": [
      "Model: \"sequential_6\"\n",
      "_________________________________________________________________\n",
      "Layer (type)                 Output Shape              Param #   \n",
      "=================================================================\n",
      "embedding_6 (Embedding)      (None, None, 8)           80000     \n",
      "_________________________________________________________________\n",
      "conv1d_4 (Conv1D)            (None, None, 16)          1040      \n",
      "_________________________________________________________________\n",
      "lstm_2 (LSTM)                (None, 16)                2112      \n",
      "_________________________________________________________________\n",
      "dense_12 (Dense)             (None, 8)                 136       \n",
      "_________________________________________________________________\n",
      "dense_13 (Dense)             (None, 1)                 9         \n",
      "=================================================================\n",
      "Total params: 83,297\n",
      "Trainable params: 83,297\n",
      "Non-trainable params: 0\n",
      "_________________________________________________________________\n"
     ]
    }
   ],
   "source": [
    "word_vector_dim = 8    \n",
    "\n",
    "model = keras.Sequential()\n",
    "model.add(keras.layers.Embedding(vocab_size, word_vector_dim, input_shape=(None,)))\n",
    "model.add(keras.layers.Conv1D(16, 8, activation='relu'))\n",
    "model.add(keras.layers.LSTM(16))\n",
    "model.add(keras.layers.Dense(8, activation='relu'))\n",
    "model.add(keras.layers.Dense(1, activation='sigmoid'))  \n",
    "\n",
    "model.summary()"
   ]
  },
  {
   "cell_type": "code",
   "execution_count": 50,
   "metadata": {},
   "outputs": [
    {
     "name": "stdout",
     "output_type": "stream",
     "text": [
      "Epoch 1/10\n",
      "247/247 [==============================] - 2s 6ms/step - loss: 0.5424 - accuracy: 0.7473 - val_loss: 0.3993 - val_accuracy: 0.8332\n",
      "Epoch 2/10\n",
      "247/247 [==============================] - 1s 5ms/step - loss: 0.3483 - accuracy: 0.8531 - val_loss: 0.3465 - val_accuracy: 0.8496\n",
      "Epoch 3/10\n",
      "247/247 [==============================] - 1s 5ms/step - loss: 0.3115 - accuracy: 0.8697 - val_loss: 0.3389 - val_accuracy: 0.8533\n",
      "Epoch 4/10\n",
      "247/247 [==============================] - 1s 5ms/step - loss: 0.2901 - accuracy: 0.8807 - val_loss: 0.3385 - val_accuracy: 0.8537\n",
      "Epoch 5/10\n",
      "247/247 [==============================] - 1s 5ms/step - loss: 0.2717 - accuracy: 0.8906 - val_loss: 0.3381 - val_accuracy: 0.8549\n",
      "Epoch 6/10\n",
      "247/247 [==============================] - 1s 5ms/step - loss: 0.2541 - accuracy: 0.8986 - val_loss: 0.3426 - val_accuracy: 0.8547\n",
      "Epoch 7/10\n",
      "247/247 [==============================] - 1s 5ms/step - loss: 0.2366 - accuracy: 0.9067 - val_loss: 0.3576 - val_accuracy: 0.8539\n",
      "Epoch 8/10\n",
      "247/247 [==============================] - 1s 5ms/step - loss: 0.2195 - accuracy: 0.9151 - val_loss: 0.3766 - val_accuracy: 0.8508\n",
      "Epoch 9/10\n",
      "247/247 [==============================] - 1s 5ms/step - loss: 0.2037 - accuracy: 0.9222 - val_loss: 0.3901 - val_accuracy: 0.8500\n",
      "Epoch 10/10\n",
      "247/247 [==============================] - 1s 5ms/step - loss: 0.1875 - accuracy: 0.9306 - val_loss: 0.4206 - val_accuracy: 0.8476\n"
     ]
    }
   ],
   "source": [
    "model.compile(optimizer='adam',\n",
    "              loss='binary_crossentropy',\n",
    "              metrics=['accuracy'])\n",
    "              \n",
    "epochs = 10\n",
    "\n",
    "history = model.fit(partial_x_train,\n",
    "                    partial_y_train,\n",
    "                    epochs=epochs,\n",
    "                    batch_size=512,\n",
    "                    validation_data=(x_val, y_val),\n",
    "                    verbose=1)"
   ]
  },
  {
   "cell_type": "code",
   "execution_count": 51,
   "metadata": {},
   "outputs": [
    {
     "data": {
      "image/png": "[encoded data removed]",
      "text/plain": [
       "<Figure size 432x288 with 2 Axes>"
      ]
     },
     "metadata": {
      "needs_background": "light"
     },
     "output_type": "display_data"
    }
   ],
   "source": [
    "acc = history.history['accuracy']\n",
    "val_acc = history.history['val_accuracy']\n",
    "loss = history.history['loss']\n",
    "val_loss = history.history['val_loss']\n",
    "\n",
    "epochs = range(1, len(acc) + 1)\n",
    "\n",
    "plt.subplot(2,1,1)\n",
    "plt.plot(epochs, loss, label='Training loss')\n",
    "plt.plot(epochs, val_loss, label='Validation loss')\n",
    "plt.title('Training and validation loss')\n",
    "plt.xlabel('Epochs')\n",
    "plt.ylabel('Loss')\n",
    "plt.legend()\n",
    "plt.subplot(2,1,2)\n",
    "plt.plot(epochs, acc, label='Training acc')\n",
    "plt.plot(epochs, val_acc, label='Validation acc')\n",
    "plt.title('Training and validation accuracy')\n",
    "plt.xlabel('Epochs')\n",
    "plt.ylabel('Accuracy')\n",
    "plt.legend()\n",
    "\n",
    "plt.show()"
   ]
  },
  {
   "cell_type": "markdown",
   "metadata": {},
   "source": [
    "+ this model also shows fluctuating validation loss after 4 to 5 epochs."
   ]
  },
  {
   "cell_type": "code",
   "execution_count": 56,
   "metadata": {},
   "outputs": [
    {
     "name": "stdout",
     "output_type": "stream",
     "text": [
      "Model: \"sequential_8\"\n",
      "_________________________________________________________________\n",
      "Layer (type)                 Output Shape              Param #   \n",
      "=================================================================\n",
      "embedding_8 (Embedding)      (None, None, 8)           80000     \n",
      "_________________________________________________________________\n",
      "conv1d_6 (Conv1D)            (None, None, 16)          1040      \n",
      "_________________________________________________________________\n",
      "lstm_4 (LSTM)                (None, 16)                2112      \n",
      "_________________________________________________________________\n",
      "dense_16 (Dense)             (None, 8)                 136       \n",
      "_________________________________________________________________\n",
      "dense_17 (Dense)             (None, 1)                 9         \n",
      "=================================================================\n",
      "Total params: 83,297\n",
      "Trainable params: 83,297\n",
      "Non-trainable params: 0\n",
      "_________________________________________________________________\n"
     ]
    }
   ],
   "source": [
    "model = keras.Sequential()\n",
    "model.add(keras.layers.Embedding(vocab_size, word_vector_dim, input_shape=(None,)))\n",
    "model.add(keras.layers.Conv1D(16, 8, activation='relu'))\n",
    "model.add(keras.layers.LSTM(16))\n",
    "model.add(keras.layers.Dense(8, activation='relu'))\n",
    "model.add(keras.layers.Dense(1, activation='sigmoid')) \n",
    "\n",
    "model.summary()"
   ]
  },
  {
   "cell_type": "code",
   "execution_count": 57,
   "metadata": {},
   "outputs": [
    {
     "name": "stdout",
     "output_type": "stream",
     "text": [
      "Epoch 1/4\n",
      "247/247 [==============================] - 2s 6ms/step - loss: 0.4844 - accuracy: 0.7640 - val_loss: 0.3609 - val_accuracy: 0.8425\n",
      "Epoch 2/4\n",
      "247/247 [==============================] - 1s 5ms/step - loss: 0.3316 - accuracy: 0.8584 - val_loss: 0.3433 - val_accuracy: 0.8508\n",
      "Epoch 3/4\n",
      "247/247 [==============================] - 1s 5ms/step - loss: 0.3048 - accuracy: 0.8716 - val_loss: 0.3400 - val_accuracy: 0.8546\n",
      "Epoch 4/4\n",
      "247/247 [==============================] - 1s 5ms/step - loss: 0.2861 - accuracy: 0.8820 - val_loss: 0.3401 - val_accuracy: 0.8554\n"
     ]
    }
   ],
   "source": [
    "model.compile(optimizer='adam',\n",
    "              loss='binary_crossentropy',\n",
    "              metrics=['accuracy'])\n",
    "              \n",
    "epochs = 4\n",
    "\n",
    "history = model.fit(partial_x_train,\n",
    "                    partial_y_train,\n",
    "                    epochs=epochs,\n",
    "                    batch_size=512,\n",
    "                    validation_data=(x_val, y_val),\n",
    "                    verbose=1)"
   ]
  },
  {
   "cell_type": "code",
   "execution_count": 58,
   "metadata": {},
   "outputs": [
    {
     "data": {
      "image/png": "[encoded data removed]",
      "text/plain": [
       "<Figure size 432x288 with 2 Axes>"
      ]
     },
     "metadata": {
      "needs_background": "light"
     },
     "output_type": "display_data"
    }
   ],
   "source": [
    "acc = history.history['accuracy']\n",
    "val_acc = history.history['val_accuracy']\n",
    "loss = history.history['loss']\n",
    "val_loss = history.history['val_loss']\n",
    "\n",
    "epochs = range(1, len(acc) + 1)\n",
    "\n",
    "plt.subplot(2,1,1)\n",
    "plt.plot(epochs, loss, label='Training loss')\n",
    "plt.plot(epochs, val_loss, label='Validation loss')\n",
    "plt.title('Training and validation loss')\n",
    "plt.xlabel('Epochs')\n",
    "plt.ylabel('Loss')\n",
    "plt.legend()\n",
    "plt.subplot(2,1,2)\n",
    "plt.plot(epochs, acc, label='Training acc')\n",
    "plt.plot(epochs, val_acc, label='Validation acc')\n",
    "plt.title('Training and validation accuracy')\n",
    "plt.xlabel('Epochs')\n",
    "plt.ylabel('Accuracy')\n",
    "plt.legend()\n",
    "\n",
    "plt.show()"
   ]
  },
  {
   "cell_type": "code",
   "execution_count": 59,
   "metadata": {},
   "outputs": [
    {
     "name": "stdout",
     "output_type": "stream",
     "text": [
      "1537/1537 - 3s - loss: 0.3475 - accuracy: 0.8489\n",
      "[0.34753212332725525, 0.8489126563072205]\n"
     ]
    }
   ],
   "source": [
    "results = model.evaluate(X_test,  y_test, verbose=2)\n",
    "\n",
    "print(results)"
   ]
  },
  {
   "cell_type": "markdown",
   "metadata": {},
   "source": [
    "+ slightly better than single lstm layer"
   ]
  },
  {
   "cell_type": "code",
   "execution_count": 60,
   "metadata": {},
   "outputs": [],
   "source": [
    "# save trained embedding parameters\n",
    "word2vec_file_path = os.getenv('HOME')+'/aiffel/sentiment_classification/word2vec_conv1d_lstm.txt'\n",
    "f = open(word2vec_file_path, 'w')\n",
    "f.write('{} {}\\n'.format(vocab_size-4, word_vector_dim)) \n",
    "\n",
    "\n",
    "vectors = model.get_weights()[0]\n",
    "for i in range(4,vocab_size):\n",
    "    f.write('{} {}\\n'.format(index_to_word[i], ' '.join(map(str, list(vectors[i, :])))))\n",
    "f.close()"
   ]
  },
  {
   "cell_type": "code",
   "execution_count": 61,
   "metadata": {},
   "outputs": [
    {
     "data": {
      "text/plain": [
       "array([ 0.03267838,  0.03305706, -0.07707328, -0.05503474,  0.02648693,\n",
       "        0.00805383, -0.00176919,  0.0904199 ], dtype=float32)"
      ]
     },
     "execution_count": 61,
     "metadata": {},
     "output_type": "execute_result"
    }
   ],
   "source": [
    "word_vectors = Word2VecKeyedVectors.load_word2vec_format(word2vec_file_path, binary=False)\n",
    "vector = word_vectors['기대']\n",
    "vector"
   ]
  },
  {
   "cell_type": "code",
   "execution_count": 62,
   "metadata": {},
   "outputs": [
    {
     "data": {
      "text/plain": [
       "[('임청하', 0.9665480256080627),\n",
       " ('빈다', 0.9629472494125366),\n",
       " ('일으키', 0.9603288173675537),\n",
       " ('으니깐', 0.9599167108535767),\n",
       " ('패션', 0.933426022529602),\n",
       " ('욧', 0.9300893545150757),\n",
       " ('닉쿤', 0.9287704825401306),\n",
       " ('a', 0.9253720045089722),\n",
       " ('다람쥐', 0.9238836765289307),\n",
       " ('국', 0.9237772822380066)]"
      ]
     },
     "execution_count": 62,
     "metadata": {},
     "output_type": "execute_result"
    }
   ],
   "source": [
    "word_vectors.similar_by_word(\"기대\")"
   ]
  },
  {
   "cell_type": "markdown",
   "metadata": {},
   "source": [
    "+ it seems completely ramdom selection."
   ]
  },
  {
   "cell_type": "markdown",
   "metadata": {},
   "source": [
    "---"
   ]
  },
  {
   "cell_type": "markdown",
   "metadata": {},
   "source": [
    "## use pre-trained word2vec embedding to improve model performance"
   ]
  },
  {
   "cell_type": "code",
   "execution_count": 63,
   "metadata": {},
   "outputs": [],
   "source": [
    "path = os.getenv('HOME')+'/aiffel/sentiment_classification/ko/ko.bin'\n",
    "trained_w2v = gensim.models.Word2Vec.load(path)"
   ]
  },
  {
   "cell_type": "code",
   "execution_count": 64,
   "metadata": {},
   "outputs": [
    {
     "data": {
      "text/plain": [
       "[('예상', 0.5993404388427734),\n",
       " ('예측', 0.5521305203437805),\n",
       " ('전망', 0.5395902395248413),\n",
       " ('걱정', 0.5109213590621948),\n",
       " ('우려', 0.5100494623184204),\n",
       " ('생각', 0.5072912573814392),\n",
       " ('평가', 0.5036546587944031),\n",
       " ('신뢰', 0.5025410652160645),\n",
       " ('희망', 0.49611741304397583),\n",
       " ('관심도', 0.4947463572025299)]"
      ]
     },
     "execution_count": 64,
     "metadata": {},
     "output_type": "execute_result"
    }
   ],
   "source": [
    "similar_vec = trained_w2v.wv.most_similar(\"기대\")\n",
    "similar_vec"
   ]
  },
  {
   "cell_type": "markdown",
   "metadata": {},
   "source": [
    "+ pre-trained word2vec embedding gives convincing set of similar words."
   ]
  },
  {
   "cell_type": "code",
   "execution_count": 65,
   "metadata": {},
   "outputs": [
    {
     "data": {
      "text/plain": [
       "gensim.models.word2vec.Word2Vec"
      ]
     },
     "execution_count": 65,
     "metadata": {},
     "output_type": "execute_result"
    }
   ],
   "source": [
    "type(trained_w2v)"
   ]
  },
  {
   "cell_type": "code",
   "execution_count": 66,
   "metadata": {},
   "outputs": [
    {
     "data": {
      "text/plain": [
       "gensim.models.keyedvectors.Word2VecKeyedVectors"
      ]
     },
     "execution_count": 66,
     "metadata": {},
     "output_type": "execute_result"
    }
   ],
   "source": [
    "type(word_vectors)"
   ]
  },
  {
   "cell_type": "code",
   "execution_count": 67,
   "metadata": {},
   "outputs": [],
   "source": [
    "trained_word_vectors = trained_w2v.wv"
   ]
  },
  {
   "cell_type": "code",
   "execution_count": 68,
   "metadata": {},
   "outputs": [
    {
     "data": {
      "text/plain": [
       "gensim.models.keyedvectors.Word2VecKeyedVectors"
      ]
     },
     "execution_count": 68,
     "metadata": {},
     "output_type": "execute_result"
    }
   ],
   "source": [
    "type(trained_word_vectors)"
   ]
  },
  {
   "cell_type": "code",
   "execution_count": 69,
   "metadata": {},
   "outputs": [
    {
     "name": "stdout",
     "output_type": "stream",
     "text": [
      "(200,)\n"
     ]
    },
    {
     "data": {
      "text/plain": [
       "array([-0.42679408,  0.5892111 ,  0.6219986 , -2.321125  , -1.4077828 ,\n",
       "        2.0710788 , -1.202137  , -0.11560407, -1.9535756 , -0.33151925,\n",
       "       -0.94134295, -1.3920565 , -0.673567  , -0.7687422 ,  0.7271645 ,\n",
       "       -0.8008593 , -0.43518832, -0.9391257 , -1.9923116 , -0.4860049 ,\n",
       "        2.0586452 ,  0.08421105, -0.86913145,  1.288601  ,  1.433492  ,\n",
       "        1.2044291 , -0.54404306, -1.5097954 , -0.52747834, -0.74069464,\n",
       "       -1.4989316 ,  0.70926476, -1.7328253 , -1.3000728 ,  0.810795  ,\n",
       "       -0.6369874 ,  1.7686176 , -0.6763047 , -0.5367612 ,  2.4611883 ,\n",
       "        1.4960446 , -0.1725292 , -0.45655453,  0.2681983 ,  0.3066007 ,\n",
       "        0.30748022,  2.2485256 , -0.8582102 ,  0.39929923,  0.00466653,\n",
       "        0.3073698 ,  0.85514444, -0.5583773 ,  1.4897436 , -0.805984  ,\n",
       "       -0.7717855 ,  1.499113  , -0.51766735, -0.5974332 ,  0.85677636,\n",
       "       -0.74764436,  2.067837  , -0.740197  ,  0.29757446, -1.7932417 ,\n",
       "        0.57957464,  0.05866075,  1.2170862 ,  1.7554603 ,  0.86498845,\n",
       "        0.38484666, -0.39795837, -1.3822517 ,  0.09645607,  0.08623061,\n",
       "       -1.4439639 , -0.8265474 ,  1.7850199 ,  2.043127  ,  0.59673756,\n",
       "       -0.72384495, -0.96643984, -1.5993485 ,  0.5171665 , -1.5725456 ,\n",
       "        1.9555466 , -0.9149903 ,  0.04162354, -2.2878706 , -0.6218824 ,\n",
       "        2.0935261 , -2.0334315 ,  0.00678281,  0.27741048,  0.14161283,\n",
       "       -0.42896506, -0.7473171 , -0.70242167, -0.2139855 ,  2.5291762 ,\n",
       "       -1.7630447 , -0.5572764 , -0.20164633, -0.384924  , -0.86195165,\n",
       "        0.8044167 , -0.34928903, -0.653525  , -0.9528171 , -0.72750187,\n",
       "        2.0339735 , -2.6202006 ,  1.2406344 , -1.1305394 ,  0.38547412,\n",
       "       -0.05088591, -1.3669596 , -0.35088035, -1.0025114 ,  0.8203162 ,\n",
       "        1.0283259 ,  0.8691406 ,  0.33810017, -1.0388666 ,  2.1041014 ,\n",
       "        2.5674706 , -0.04945963, -1.4988996 ,  1.309254  ,  0.75741196,\n",
       "        1.4046937 ,  0.09928232,  0.45064867,  0.27826792,  1.4755661 ,\n",
       "        0.2675706 ,  1.1517764 , -0.7956713 ,  0.0054776 , -0.01633194,\n",
       "       -0.19989201,  0.91044605, -0.37422484,  1.4025193 , -0.85794485,\n",
       "        0.69981796,  0.8699709 ,  0.52611446, -1.2847805 ,  0.2845139 ,\n",
       "        0.19450635,  0.73313046, -1.8117235 ,  0.07748372, -1.0735656 ,\n",
       "        1.6408892 , -0.4844956 ,  0.24296038, -0.79257673, -2.0336413 ,\n",
       "        3.0061655 , -0.25374454,  0.7088239 , -0.62333   ,  0.7945679 ,\n",
       "       -1.0505276 ,  1.1424327 ,  0.54266775, -0.9525667 ,  1.6481304 ,\n",
       "       -1.1605656 ,  0.15548196, -0.8795826 ,  0.06214701, -0.40976444,\n",
       "        0.9501063 ,  0.14929473,  0.664019  ,  1.1924689 , -0.39587754,\n",
       "        0.1586263 , -0.95972973, -0.37405306, -0.8189571 ,  0.00952252,\n",
       "       -0.2775899 , -0.52781916,  1.7008659 , -1.8233443 ,  1.3928171 ,\n",
       "       -1.558148  ,  1.9180455 , -1.8057339 ,  0.8641919 ,  0.5238342 ,\n",
       "       -0.42459252, -0.611144  ,  1.0675472 , -0.9211546 ,  0.50333506],\n",
       "      dtype=float32)"
      ]
     },
     "execution_count": 69,
     "metadata": {},
     "output_type": "execute_result"
    }
   ],
   "source": [
    "vector = trained_word_vectors['기대']\n",
    "print(vector.shape)\n",
    "vector"
   ]
  },
  {
   "cell_type": "code",
   "execution_count": 70,
   "metadata": {},
   "outputs": [
    {
     "data": {
      "text/plain": [
       "[('예상', 0.5993404388427734),\n",
       " ('예측', 0.5521305203437805),\n",
       " ('전망', 0.5395902395248413),\n",
       " ('걱정', 0.5109213590621948),\n",
       " ('우려', 0.5100494623184204),\n",
       " ('생각', 0.5072912573814392),\n",
       " ('평가', 0.5036546587944031),\n",
       " ('신뢰', 0.5025410652160645),\n",
       " ('희망', 0.49611741304397583),\n",
       " ('관심도', 0.4947463572025299)]"
      ]
     },
     "execution_count": 70,
     "metadata": {},
     "output_type": "execute_result"
    }
   ],
   "source": [
    "trained_word_vectors.similar_by_word(\"기대\")"
   ]
  },
  {
   "cell_type": "code",
   "execution_count": 71,
   "metadata": {},
   "outputs": [],
   "source": [
    "vocab_size = 10000    \n",
    "word_vector_dim = 200  # pre-trained word2vec dimension\n",
    "\n",
    "embedding_matrix = np.random.rand(vocab_size, word_vector_dim)\n",
    "\n",
    "# copy pretrained embedding to embedding_matrix\n",
    "for i in range(4,vocab_size):\n",
    "    if index_to_word[i] in trained_word_vectors:\n",
    "        embedding_matrix[i] = trained_word_vectors[index_to_word[i]]"
   ]
  },
  {
   "cell_type": "code",
   "execution_count": 72,
   "metadata": {},
   "outputs": [
    {
     "data": {
      "text/plain": [
       "(10000, 200)"
      ]
     },
     "execution_count": 72,
     "metadata": {},
     "output_type": "execute_result"
    }
   ],
   "source": [
    "embedding_matrix.shape"
   ]
  },
  {
   "cell_type": "code",
   "execution_count": 73,
   "metadata": {},
   "outputs": [
    {
     "name": "stdout",
     "output_type": "stream",
     "text": [
      "Model: \"sequential_9\"\n",
      "_________________________________________________________________\n",
      "Layer (type)                 Output Shape              Param #   \n",
      "=================================================================\n",
      "embedding_9 (Embedding)      (None, 44, 200)           2000000   \n",
      "_________________________________________________________________\n",
      "conv1d_7 (Conv1D)            (None, 37, 16)            25616     \n",
      "_________________________________________________________________\n",
      "lstm_5 (LSTM)                (None, 16)                2112      \n",
      "_________________________________________________________________\n",
      "dense_18 (Dense)             (None, 8)                 136       \n",
      "_________________________________________________________________\n",
      "dense_19 (Dense)             (None, 1)                 9         \n",
      "=================================================================\n",
      "Total params: 2,027,873\n",
      "Trainable params: 2,027,873\n",
      "Non-trainable params: 0\n",
      "_________________________________________________________________\n"
     ]
    }
   ],
   "source": [
    "from tensorflow.keras.initializers import Constant\n",
    "\n",
    "model = keras.Sequential()\n",
    "model.add(keras.layers.Embedding(vocab_size, \n",
    "                                 word_vector_dim, \n",
    "                                 embeddings_initializer=Constant(embedding_matrix),  \n",
    "                                 input_length=maxlen, \n",
    "                                 trainable=True))   \n",
    "model.add(keras.layers.Conv1D(16, 8, activation='relu'))\n",
    "model.add(keras.layers.LSTM(16))\n",
    "model.add(keras.layers.Dense(8, activation='relu'))\n",
    "model.add(keras.layers.Dense(1, activation='sigmoid'))\n",
    "\n",
    "model.summary()"
   ]
  },
  {
   "cell_type": "code",
   "execution_count": 74,
   "metadata": {},
   "outputs": [
    {
     "name": "stdout",
     "output_type": "stream",
     "text": [
      "Epoch 1/10\n",
      "247/247 [==============================] - 11s 44ms/step - loss: 0.5008 - accuracy: 0.7519 - val_loss: 0.3990 - val_accuracy: 0.8188\n",
      "Epoch 2/10\n",
      "247/247 [==============================] - 7s 27ms/step - loss: 0.3613 - accuracy: 0.8433 - val_loss: 0.3571 - val_accuracy: 0.8454\n",
      "Epoch 3/10\n",
      "247/247 [==============================] - 7s 26ms/step - loss: 0.3137 - accuracy: 0.8673 - val_loss: 0.3409 - val_accuracy: 0.8514\n",
      "Epoch 4/10\n",
      "247/247 [==============================] - 7s 27ms/step - loss: 0.2835 - accuracy: 0.8819 - val_loss: 0.3343 - val_accuracy: 0.8570\n",
      "Epoch 5/10\n",
      "247/247 [==============================] - 7s 26ms/step - loss: 0.2604 - accuracy: 0.8935 - val_loss: 0.3388 - val_accuracy: 0.8555\n",
      "Epoch 6/10\n",
      "247/247 [==============================] - 7s 27ms/step - loss: 0.2398 - accuracy: 0.9034 - val_loss: 0.3450 - val_accuracy: 0.8559\n",
      "Epoch 7/10\n",
      "247/247 [==============================] - 7s 27ms/step - loss: 0.2213 - accuracy: 0.9121 - val_loss: 0.3612 - val_accuracy: 0.8543\n",
      "Epoch 8/10\n",
      "247/247 [==============================] - 7s 27ms/step - loss: 0.2041 - accuracy: 0.9205 - val_loss: 0.3711 - val_accuracy: 0.8511\n",
      "Epoch 9/10\n",
      "247/247 [==============================] - 7s 27ms/step - loss: 0.1835 - accuracy: 0.9299 - val_loss: 0.3956 - val_accuracy: 0.8536\n",
      "Epoch 10/10\n",
      "247/247 [==============================] - 7s 27ms/step - loss: 0.1668 - accuracy: 0.9374 - val_loss: 0.4164 - val_accuracy: 0.8472\n"
     ]
    }
   ],
   "source": [
    "model.compile(optimizer='adam',\n",
    "              loss='binary_crossentropy',\n",
    "              metrics=['accuracy'])\n",
    "              \n",
    "epochs = 10 \n",
    "\n",
    "history = model.fit(partial_x_train,\n",
    "                    partial_y_train,\n",
    "                    epochs=epochs,\n",
    "                    batch_size=512,\n",
    "                    validation_data=(x_val, y_val),\n",
    "                    verbose=1)"
   ]
  },
  {
   "cell_type": "code",
   "execution_count": 75,
   "metadata": {},
   "outputs": [
    {
     "data": {
      "image/png": "[encoded data removed]",
      "text/plain": [
       "<Figure size 432x288 with 2 Axes>"
      ]
     },
     "metadata": {
      "needs_background": "light"
     },
     "output_type": "display_data"
    }
   ],
   "source": [
    "acc = history.history['accuracy']\n",
    "val_acc = history.history['val_accuracy']\n",
    "loss = history.history['loss']\n",
    "val_loss = history.history['val_loss']\n",
    "\n",
    "epochs = range(1, len(acc) + 1)\n",
    "\n",
    "plt.subplot(2,1,1)\n",
    "plt.plot(epochs, loss, label='Training loss')\n",
    "plt.plot(epochs, val_loss, label='Validation loss')\n",
    "plt.title('Training and validation loss')\n",
    "plt.xlabel('Epochs')\n",
    "plt.ylabel('Loss')\n",
    "plt.legend()\n",
    "plt.subplot(2,1,2)\n",
    "plt.plot(epochs, acc, label='Training acc')\n",
    "plt.plot(epochs, val_acc, label='Validation acc')\n",
    "plt.title('Training and validation accuracy')\n",
    "plt.xlabel('Epochs')\n",
    "plt.ylabel('Accuracy')\n",
    "plt.legend()\n",
    "\n",
    "plt.show()"
   ]
  },
  {
   "cell_type": "markdown",
   "metadata": {},
   "source": [
    "+ As the model starts from the pre-trained word vectors validation loss of first epoch shows rather low than previous models.\n",
    "  + still after 4 to 5 epochs loss and accuarcy of validation set fluctuates."
   ]
  },
  {
   "cell_type": "code",
   "execution_count": 76,
   "metadata": {},
   "outputs": [
    {
     "name": "stdout",
     "output_type": "stream",
     "text": [
      "Model: \"sequential_10\"\n",
      "_________________________________________________________________\n",
      "Layer (type)                 Output Shape              Param #   \n",
      "=================================================================\n",
      "embedding_10 (Embedding)     (None, 44, 200)           2000000   \n",
      "_________________________________________________________________\n",
      "conv1d_8 (Conv1D)            (None, 37, 16)            25616     \n",
      "_________________________________________________________________\n",
      "lstm_6 (LSTM)                (None, 16)                2112      \n",
      "_________________________________________________________________\n",
      "dense_20 (Dense)             (None, 8)                 136       \n",
      "_________________________________________________________________\n",
      "dense_21 (Dense)             (None, 1)                 9         \n",
      "=================================================================\n",
      "Total params: 2,027,873\n",
      "Trainable params: 2,027,873\n",
      "Non-trainable params: 0\n",
      "_________________________________________________________________\n"
     ]
    }
   ],
   "source": [
    "model = keras.Sequential()\n",
    "model.add(keras.layers.Embedding(vocab_size, \n",
    "                                 word_vector_dim, \n",
    "                                 embeddings_initializer=Constant(embedding_matrix),  \n",
    "                                 input_length=maxlen, \n",
    "                                 trainable=True))   \n",
    "model.add(keras.layers.Conv1D(16, 8, activation='relu'))\n",
    "model.add(keras.layers.LSTM(16))\n",
    "model.add(keras.layers.Dense(8, activation='relu'))\n",
    "model.add(keras.layers.Dense(1, activation='sigmoid'))\n",
    "\n",
    "model.summary()"
   ]
  },
  {
   "cell_type": "code",
   "execution_count": 77,
   "metadata": {},
   "outputs": [
    {
     "name": "stdout",
     "output_type": "stream",
     "text": [
      "Epoch 1/4\n",
      "247/247 [==============================] - 7s 28ms/step - loss: 0.5035 - accuracy: 0.7532 - val_loss: 0.4042 - val_accuracy: 0.8173\n",
      "Epoch 2/4\n",
      "247/247 [==============================] - 7s 27ms/step - loss: 0.3617 - accuracy: 0.8427 - val_loss: 0.3480 - val_accuracy: 0.8462\n",
      "Epoch 3/4\n",
      "247/247 [==============================] - 7s 27ms/step - loss: 0.3119 - accuracy: 0.8682 - val_loss: 0.3365 - val_accuracy: 0.8522\n",
      "Epoch 4/4\n",
      "247/247 [==============================] - 7s 26ms/step - loss: 0.2806 - accuracy: 0.8833 - val_loss: 0.3362 - val_accuracy: 0.8548\n"
     ]
    }
   ],
   "source": [
    "model.compile(optimizer='adam',\n",
    "              loss='binary_crossentropy',\n",
    "              metrics=['accuracy'])\n",
    "              \n",
    "epochs = 4\n",
    "\n",
    "history = model.fit(partial_x_train,\n",
    "                    partial_y_train,\n",
    "                    epochs=epochs,\n",
    "                    batch_size=512,\n",
    "                    validation_data=(x_val, y_val),\n",
    "                    verbose=1)"
   ]
  },
  {
   "cell_type": "code",
   "execution_count": 78,
   "metadata": {},
   "outputs": [
    {
     "name": "stdout",
     "output_type": "stream",
     "text": [
      "1537/1537 - 4s - loss: 0.3450 - accuracy: 0.8517\n",
      "[0.3449532091617584, 0.8516589999198914]\n"
     ]
    }
   ],
   "source": [
    "results = model.evaluate(X_test,  y_test, verbose=2)\n",
    "\n",
    "print(results)"
   ]
  },
  {
   "cell_type": "markdown",
   "metadata": {},
   "source": [
    "+ achieved test set accuracy higher than criteria of 85%.\n",
    "+ using pre-trained word2vec embedding surely improves model performace"
   ]
  },
  {
   "cell_type": "code",
   "execution_count": 79,
   "metadata": {},
   "outputs": [],
   "source": [
    "# save trained embedding parameters\n",
    "word2vec_file_path = os.getenv('HOME')+'/aiffel/sentiment_classification/word2vec_using_pretrained.txt'\n",
    "f = open(word2vec_file_path, 'w')\n",
    "f.write('{} {}\\n'.format(vocab_size-4, word_vector_dim)) \n",
    "\n",
    "\n",
    "vectors = model.get_weights()[0]\n",
    "for i in range(4,vocab_size):\n",
    "    f.write('{} {}\\n'.format(index_to_word[i], ' '.join(map(str, list(vectors[i, :])))))\n",
    "f.close()"
   ]
  },
  {
   "cell_type": "code",
   "execution_count": 80,
   "metadata": {},
   "outputs": [
    {
     "data": {
      "text/plain": [
       "[('예상', 0.5944077372550964),\n",
       " ('예측', 0.5475966930389404),\n",
       " ('생각', 0.5030966401100159),\n",
       " ('평가', 0.5023589730262756),\n",
       " ('걱정', 0.500863254070282),\n",
       " ('우려', 0.49931639432907104),\n",
       " ('신뢰', 0.497389554977417),\n",
       " ('희망', 0.49605628848075867),\n",
       " ('확신', 0.48346441984176636),\n",
       " ('욕구', 0.4833561182022095)]"
      ]
     },
     "execution_count": 80,
     "metadata": {},
     "output_type": "execute_result"
    }
   ],
   "source": [
    "word_vectors = Word2VecKeyedVectors.load_word2vec_format(word2vec_file_path, binary=False)\n",
    "word_vectors.similar_by_word(\"기대\")"
   ]
  },
  {
   "cell_type": "markdown",
   "metadata": {},
   "source": [
    "+ it is hard to say they are synonyms but I can easilty associate selected words with '기대'."
   ]
  },
  {
   "cell_type": "markdown",
   "metadata": {},
   "source": [
    "## Thoughts"
   ]
  },
  {
   "cell_type": "markdown",
   "metadata": {},
   "source": [
    "+ publishing pre-trained word embedding will help other nlp projects.\n",
    "   + shame googling pre-trained korean embedding all direct to one repository."
   ]
  },
  {
   "cell_type": "markdown",
   "metadata": {},
   "source": [
    "---"
   ]
  }
 ],
 "metadata": {
  "kernelspec": {
   "display_name": "aiffel",
   "language": "python",
   "name": "aiffel"
  },
  "language_info": {
   "codemirror_mode": {
    "name": "ipython",
    "version": 3
   },
   "file_extension": ".py",
   "mimetype": "text/x-python",
   "name": "python",
   "nbconvert_exporter": "python",
   "pygments_lexer": "ipython3",
   "version": "3.7.9"
  }
 },
 "nbformat": 4,
 "nbformat_minor": 4
}
