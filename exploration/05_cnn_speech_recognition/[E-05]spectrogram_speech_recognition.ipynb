{
 "cells": [
  {
   "cell_type": "markdown",
   "metadata": {},
   "source": [
    "## SSAC - Exploration 5 - Speech Recognition"
   ]
  },
  {
   "cell_type": "markdown",
   "metadata": {},
   "source": [
    "1. 데이터 처리와 분류\n",
    "\n",
    "    라벨 데이터 처리하기\n",
    "    sklearn의 train_test_split함수를 이용하여 train, test 분리\n",
    "\n",
    "2. 학습을 위한 하이퍼파라미터 설정\n",
    "3. 데이터셋 구성\n",
    "\n",
    "    tf.data.Dataset을 이용\n",
    "    from_tensor_slices 함수에 return 받길 원하는 데이터를 튜플 (data, label) 형태로 넣어서 사용\n",
    "    map과 batch를 이용한 데이터 전처리\n",
    "    주의 : waveform을 spectrogram으로 변환하기 위해 추가로 사용하는 메모리 때문에 이후 메모리 부족 현상을 겪게 될수도 있습니다.\n",
    "    tf.data.Dataset이 생성된 이후, 아래 예시와 같이 wav 데이터나 spectrogram 데이터를 담아둔 메모리 버퍼를 비워 주면 도움이 됩니다.   \n",
    "    \n",
    "```{python}\n",
    "del speech_data\n",
    "del spec_data\n",
    "```   \n",
    "   \n",
    "4. 2차원 Spectrogram 데이터를 처리하는 모델 구성\n",
    "\n",
    "    2차원 Spectrogram 데이터의 시간축 방향으로 Conv1D layer를 적용, 혹은 Conv2D layer를 적용 가능\n",
    "    batchnorm, dropout, dense layer 등을 이용\n",
    "    12개의 단어 class를 구분하는 loss를 사용하고 Adam optimizer를 사용\n",
    "    모델 가중치를 저장하는 checkpoint callback 함수 추가\n",
    "    다양한 모델의 실험을 진행해 보시기 바랍니다.\n",
    "\n",
    "5. 학습 후, 학습이 어떻게 진행됐는지 그래프로 출력\n",
    "\n",
    "    loss, accuracy를 그래프로 표현\n",
    "\n",
    "6. Test dataset을 이용해서 모델의 성능을 평가\n",
    "\n",
    "    저장한 weight 불러오기\n",
    "    모델의 예측값과 정답값이 얼마나 일치하는지 확인"
   ]
  },
  {
   "cell_type": "code",
   "execution_count": 1,
   "metadata": {},
   "outputs": [],
   "source": [
    "# import required packages\n",
    "import numpy as np\n",
    "import tensorflow as tf\n",
    "import matplotlib.pyplot as plt\n",
    "import os, random, librosa, time\n",
    "import IPython.display as ipd\n",
    "import librosa.display\n",
    "from sklearn.model_selection import train_test_split\n",
    "from tensorflow.keras import layers\n",
    "from tqdm import tqdm"
   ]
  },
  {
   "cell_type": "code",
   "execution_count": 2,
   "metadata": {},
   "outputs": [],
   "source": [
    "# load data\n",
    "data_path = os.getenv(\"HOME\")+'/aiffel/speech_recognition/data/speech_wav_8000.npz'\n",
    "speech_data = np.load(data_path)"
   ]
  },
  {
   "cell_type": "code",
   "execution_count": 3,
   "metadata": {},
   "outputs": [
    {
     "name": "stdout",
     "output_type": "stream",
     "text": [
      "Wave data shape :  (50620, 8000)\n",
      "Label data shape :  (50620, 1)\n"
     ]
    }
   ],
   "source": [
    "# data shape\n",
    "print(f'Wave data shape :  {speech_data[\"wav_vals\"].shape}')\n",
    "print(f'Label data shape :  {speech_data[\"label_vals\"].shape}')"
   ]
  },
  {
   "cell_type": "code",
   "execution_count": 4,
   "metadata": {},
   "outputs": [
    {
     "name": "stdout",
     "output_type": "stream",
     "text": [
      "rand num : 24256\n",
      "Wave data shape :  (8000,)\n",
      "label :  ['go']\n"
     ]
    },
    {
     "data": {
      "text/html": [
       "\n",
       "                <audio  controls=\"controls\" >\n",
       "                    <source src=\"data:audio/wav;base64,UklGRqQ+AABXQVZFZm10IBAAAAABAAEAQB8AAIA+AAACABAAZGF0YYA+AAC5AAQB///9/okAogB0AJ//hP+F/0n/gwCi/yj/gQADAeH/sv+qAaQApAALAPn/1/7t/v8Ajf/a/sL/ugDr/iwAsgHJAVoAeAA7/wP/GwB/AD4BOf8r/07/9/8K/2YBbgCP/zz/7v9VAFH/nQHM/uj+M/8RAX8AXv8XAAIAwABoAGoAj/7o/5EBhwAB/17/v//D/wEAa/+o/6r/MwByAHQAnAAUAFf/bv+VAPf/HwC5/9f/LAAWAJoAMf8GACYACwBxAF8APACS/0YApgCQ/5n/RAD+/4n/ZQAYAFv+6f6OAHYBtwBG/4z/HAFuAF0AXQCu/7b/HgDy/0T/l/8CAOoADwD2/5j/ef+aALgAkf8l/1AAaABCACEAPgBZ/8D+F/9DAaAASf7c/goArgGgAUEBOf98/+z/3/8KAcEA3v8A/ir/IQCNABEAFABvAFQA5f8p/x8APQBz/2X/tQCUAPf/zv98//f+7/+uAAr/Uv+NAMgAwwCeADkBDQFt/3r/EAB8/xcACgAv/0D/iP9wALAAcgAfAKz/OQC3/zEA3ABhAAn/y/6IAEMAmgClABUAof4O/7D/Hf8tAA0A8v/k/xUB/gCJ/zv/jgAGADD/QgAMAKn/w/8IALj/aP/L/38BiQDX/wMAqwCoAN3/QQA2/1v/0P+t/x//GQAjAZ8AhP/m/xYArf88ACQBvgDj/uz/vAAEACT/nf9OAXcAR/9AAKYAHwDH/jH///+nAIgBBwDI/i8AugGrAI3/J/+L/0z/v//N/vT+jwA8ABgAcABQAPIAvgFJAAUAMP8f/yD/yv/s/rj/YwD9/zgBUgAdANn+eQBBAL3/xACQAFsAZP9QABYArP/I/83+zv4e/zoAvf+T/xoAx/99AUwBCgGOAd4Axf6M/WD+nv/CAKT/Yf40/9kBLAKHAIIAWABTALwAYgCp/oz+oACW/6z+qACs/+b+TwAXArwBn/+EAOAAqP9C/1wAgwAvAGAAmP+V/zr/6/5j/vv/EQEbAMD/Wv8+APsAUgFZAAwASP/N/sr/GAAj/77+ZACGALwA3QCnAMj/KwBDAf7/8v4//53/mP6O/zIAYgDc/48AXgEDABkAuADbAAIAEgAg/3v+lv4CACgAlAC7ADEBOgHm/9n/uv/7AFj/Y/+3/jb+k/4EAFACNgGeAJv/kwAeAaYAWf9O/rj/Vf+E//H/Xf+OAAsBQAB6/2YA2ABd//b+6v9jAaMAIQBc/0b/LgDw/+X/If+S/zEA9/7s/uMANgHVAKj/6wCAAG3/av+f/oL/af9sAC7/qf/JAFwAlQBvAGcAuQDZAPD/p/9WAKIABwBl/tL+4P8t/6cAmAA5AEkADgEbAfcAMgHKAC//Dv38/hcAJgAjAFL/7f7l/k8AHwJrARgAH/9I/4UB+wBv/9/+j/6m/7gAhAAJAKgA8P8b/6//RwAMAc8AAAB2/9j/PAHuAP/+v/2eACoBA//E/yUAhf+P/x4AU/9x/7QA1ADW/k8A8gFXAMH/Xf92/xT/sv96AJf+sP/sAF8AnwA0AAAAgQBbAPn+9v4n/5EBSQC2/p7/2wC1Abv/GABl/lv/XAA6/zf/Vf/qAC8BWwA+ALIAcwD7AGcAK/81/4z/iQAsAdb+rv7DAFsAAADqACoBMP9L/6UApf+YACEBZ//G/rn/ggCf/xAACwDW/tb+uwBvANP/gwG4AfP/xv8RAX3/VP8k/wr/ff1N/gMCPAGr/8b/kQF0AQoBxv8J/3b/ngCXALf+Pv7Y/m8ApP/u/2cBXQH+/43/nQBzAPT/9P5v/5L/Wf93AdUAyf+z/yT/UP/pAAwBa/8XAJIAXQAsAO7/lv4i/3X//v9mAMj/2P+l/zv/+P5OASABwwBoABoAYQA3AIgAOv/B/pb/zQAvAOX/hAD4AK4BNwBe/04AoAAf/w/+y/+eAN3/FP/H/pMAWwEsAogBrP9n/03+fP52/2H/S//J/xgASwGtAS8Ad/9NAR8BX/8O/yr/B/4V/oAAZAD9AAAAsgApAKz/8gAlABcAKf7y/8z/FP/I/23/UACVAGwBtAAU/wsA3gAjAEL/Hf84AIH/BgBEAAcACwEfAtwBWf9F/0//a/6A/oH/HQFSAIYAPwEjAXgA7P+NAaL/u//7/sv9Of6Z/kQB/P/5/84BpAF1AIMAswBXAA//ff7o/Xz+EADU/zEAzv/nAMcBHAFIABUBcACs/hv/XgBE/3X+dgDs/nv+5/+BAe8AS/+GAB4AOgC8AcQA3/7F/hkANACn/0MA+P8YAHH/Xf+bAJgAMQA+AHv/m/6KAGkBHQEZACn/9f/7/5oAdQBj/6b+GP87AHQAGQAoAA0BAgEEAND/0wCiAAb/1f15/9j/ggCKAEf+0v4XAekB9f+v/zgAegCo/+b/TgC3/2QAmP5Q/rsAkQF1AMP+NAChAEYAXwHmACoArv6G/6f/8v4n/xIAuAG7ALcAeQENAVAAGP+N/qH+BQASAEH/kv+1/8UAy//UAEwB4AAp/wf+oP8kAHAAtP7P/37//f9RATgBXQCi/+YAHP9W/p7/LAAT//n+rwBmABwA6wBsAPT/4gDEAZ//lP/PAKP+kP5n/5P/0wBRACD/EQDGAJIAkgCPAZ7/LP/e/07/cf8r/5oATv/0//IBuwGh/27/FQCw/zgBwf90/oz+TwDiAIgA3gDg/2T/g/+K/9T/4P9S//T/pQAzAEgABQDV/0QAl/+o/wMA7f+J/yAA/v/o/04Am/9jAD8B6ACAAFr/+v6Z/zoAdgBF/zAAGAF8AAsAIQCFAAUB6/8F/0//1f4IAOz/5f+zAP7/P/8O//P/wAFFAUH/Ev+H/2IAUwAEAPf/oP8WASgBLwCj/yT/Yf9M/1j/nf/JAE4AX/9WAKUAp/+O/w4Af/+O/0sAYACK/97/jgAw/3X/cAE5APX+8f4pAM4ANgBmAMv/eP8eAJIBDQGz/ygA3/8h/5T/QP/BAGQAYQANAEX/cgCbAJMARP+yAC4Az/9Q/40AkQBy//b/AP8kAL0A7ABjABMBJwAW//b/mQDr/7z/O//i/hD/af8SANn/HAFrAG3/qf8CAeEAIwAtAGj/Mv9f/5f/GwASAdr/wv4lADwA0P+GAPD+Af94ABgB5f8i/3sAKQH3APj+L/+O/xIBigA8ANP/0v5bAOsARgF0/9L/hACdAGL/eP+8/zn/9P84/03+3P6zARsBJv+yAMgBgAC9/ykACgE6ADP/Rf+c/gn/8v9q/zb/pADZAQwBRQArAO3/lAAaAOT+/v5NAB4Brv+G/gwAAwBqAHcAgf/xAMQA0ABP/0oAWwGo/xL/b/4Q/3b/dAAt/8v+9f/fAK0BfwBfACkATv9eACcBfQGm/x/+qf6M/0IBJwBY/+/9pf/pAS4BsgBoANQAdQBtAIf/G/5c//r/Gf4p/u//wQDS/7QATgF7AOoA1AGXAQoATv9X/jj+1f/6/+X/Tv8q/xgBXAH8//f/lQH9AN//JwCD/0v+9P86AQL/BP+TAIUAYgAOAc7/Cv/E/6f/SP/M/6AAWQBPAFz/2f/iANAAnP+2/5sAaf/W/mj/OQBn/6sAqwCP/9v/9gBhAFT/JgAfAA0AV/+YAJQAeACc/7P+kv7T/v7/aQDiAI4BigHG/qL+OgEmAfb+4v5VAPMAjv8LAPn/Bv/c//f/EwCf/2EArADu/7AAtABe/0IA0gDlAEv/if9gANb/C/8X/4L/qf6/ACkBIgE5AGEAcwBDALf/i/9v/wH///40/8r/w/8ZASv/jwAFAeMAjQAPACcB8P+z/4D+iP+z/7P/AQHyAGb/bv6+/5wAAwCu/y3/t/8PANwAvAC3/8T/t/+AAMz/zADP/yH/OAAxAcT/MP9lAQkBNQC5//QAt/9W/wUAUgD1/vL+SgEOAI//+v/B/5QA+gD8/wYAev/U/8//5f5l/wcB+AADAMv/uf/v//AAUQFk/y//7f5t/5f/X/8tAIEBtQD1/3kAAwChAOAALgA0/nj/RwCZ/1EAGAAt/6r/CwGeAO3/sP9hAFL/0P5AADAAzP9zAP3/CgBNAGX/AgA6AF//uP5J/23/LwBDAKn/xP4SAEoBmABJAXwA5f+E/jQAJAEIAPX+C/6S//3/7ADRABAA7/+9/9L/xgB9AGEAlQBs/+X/MQB6/2j/WwATADX/WADwABYB6wAMAOf/KwCQABoAqP8g/yD/AgApAdAAv/9v/1f/pQCRAAYAAQD1/gX/pv/Q/woBwwAuAGIA5//q/10AAAC3/sr+j/9qAEkABQElARr/RP9aABgAJv/D/kj/Ov8fAaoBGQEDAWEASABC/0IAgv9Q/pn+h/+k/5z/cACBAK0AVwFOAg0BKgCL/6L/rv+L/wr/zv6V/+v+q/+rAKwBFwHtAAkAYADV/5L/uwCo/hsAGv+F/6QAZQDT//P/agEmALT/6P+U/0T/BwBSAHYAvAByAD4AQQDr/o/+dP5MAFUA7f7U/5n/IAAwAGUBIwGt/8D/DACJAP//+f6P/xsAtv+J/+3/VwAsAMMAFwDk/4sArf9C/jj/xQCN/6j/+f+iAPL/IQA2AWv/IP95ALcAbf9KACYBOwAz/+T/Y/+2/h4A8AA4//b+jgCy/0YAnAFTAfT/0P+J/8j/4P9+AI4Atv7Z/r4AbgITASb/wf8yADz/QP/N/xgALQC7ACMAk//cAJoBOABt/p/+1P+AAJsAkv9D/q3/VQJoAbb/igAHAKv/kP+RAP//eP7n/qb+eQBuAX0AUv/e/osArwEjAIv/S//p/98AVv/3/vb+FAANAe4AegAlAJwAiwBFAGT/wf6+/2cAqP8MAD0ASwCuAA4AQ//V/oMAFwCT/loA6AG5ACH/uv+D/6j/TgGaALL/f/9g/1j/OP/3AZYBigBCAGX+nv9GAX8Asv4C/8z+DP96AHMAKAAxAAMAsf8WAC8B6P9J/zoASwCW/3EAJAFc/xb/2f6e/0MAPgAj/07+aAGCASz/iQC5ALv/4v8o/7n+pv+4AOj+zP8rAg0BbAA3ALr/BQAJASAAT/5n/iYA3gBLAGH/XgCMAZn/Ff8rAIgBxgBP/yf/af9mAOEA6wBJ/07/lf81APgAEAEf/y3+YP9H/9sAUAHPAGT/Ov9eALwBRwFo/1v+SABhAEf/AgAoAF0AFgAyAfv+w/9ZAQsAJP+H/ygBlf6j/pMAjwDz/xQAff82/zwBDgFTACD+Lv8iAU4Aev9Q/2wA9v/a/80AOAGf/xcArwBR/13/6QBZ/7H+KQC//t/+hgBwAZT/4ADVAEAACAG0/3T/rf6A/ywAw//t/vb/wQBoAK//uP+JAHX/EQC3AIn/cv+JAIcApv/u/xcAef8hAEMAT/+K////k////wkBnABk/wgALwDmAGMBdP6F/rf/3/+2/5r/ov+d/1sASwBUAUIBOACt/+v/oACN/+T+zf+0AAIAqv8eAEsAugCyAUUBIABzAIP/4P6t/oH/MQDN/7j/0P6b//0AyQHpAMj/0f+rANn/lf6z//f/yf98/wYA8AC5AJYAVwA7AGkAK//2/mz/HAGKAFP+av9eAOn/cf/cAAEA9P8UAC0AFQGd///+4P7R/8sArwEJAfX+Yf/ZANwAjf9T/zX/Tf8C/8j/kABIANf/J/8Q/8T/IwEUASwBmf+6AKgAiv9F//D/7wAHAIn/Vf7m//T/lACa/7P+BgDqAPgAEADN/0AAWAETAGr/qP/v/ywA+P8s/7L+y//mAMH/rv+HAcYBbQF9/73+PgBxADP/xv1a/2MAwP/g/8MA2wAFAE4AzQAgAfEAz/8F/9z/vf9C/5v/eAA4ANP/gQA0AFEA2wC3/6j+W/8gAMb/PwBCAEL/DP/2/08AaP/U/+UAPAHH/0//uP/8/z4AAwF7/7P+WQBjAP3/cACnAfv+Zf6wALIAgP9s/qX/OAD/ANQA8/9NAAsBHgBV/8AAbP/lAAUAWP7u/vkAUQH8/Vn/dQBpAQYBzQDu/9j/yP+w/xgAHP9/ADgAtv4Q/4EAn/8G/9z/9gA3AKf/gADlAFUB5f9T/wP/1/8YAVn/VP4Y/lcA0AF1ALgAUACA/0j//wBoAP//hQAx/0L/zf+mAPj/iP+p/xv/D/9qAA8CFQHS//8AcAB9AJ7/df4LAOv9tf6WAGYAsAChAEz/z/4eApICoACU/6H/3/67/mP/T//K/kX/KgBdAJUB0QESARYAT/8PAJ4BHQBW/h7+vP79/mL/RAGTAGEAAAACAfYBQwE/AXf+bv4JACoAav9T/5YASf9F/4IB6wB8/4UAuQBZ/0kAbAD3/uX+lP9KAPz+Q/+6AKcAWwDL/6b/Uf8oAUAB6P9TAEgABQBB/5H/iv/r/zT/Iv+VAN4AfwGHABYAHv/N/5sAZf9A/2/+S/9iAO7/Sv/lANAAbwGTAWn//v/K/zgAH/9cAHz/qP4vAAkAPwBa/7YAAAGgACT/LwD5/1z/af/C/1YAEf9NAK0ABwAx/wgA7P9PACUAjABtANz+u//PAEgBvgDeAMf+3v31/vn/dwB2//L+3P7KAAcCKgFqAAMBsgD0AG0Aiv6h/9r/XP/1/m7/CwCh/7//vwGbAVH//AA0AQ3/6/7b/6r/+f4E/+H/qwByAHoANQCX/2j/sQAlAfL/MADFAGYAZP4Y/ykAMP/P/8P/AAC4/hgAGQIYACz/kv9lAHUAHQHzAGr/uv68/9sAmf88/+P/EgCCAPz/0f8zAPr/QAArAMAAUQHW/3v/3v9sAIL/Rv8H/83+cACVAPYBkwE6AMb/5v/Q/wAAgP9B/on+yv4oAOn/Xf6j/7AB8AAuATsCOwFn/zT/3P5A/8cAlP4k/+3/dP9bAMUAvwBjAFsBxv8iAK0Ajv/q/pz+Sv9E/xsADAE0ABsAZwHBAGcAIgG9/7j+vQDO/x7/1/+aALH/Ff4k/lL+F/+X/0oAYf8SAMwBPgXuAXX91gAmA20EzAJf/cv8FAGY/0r7cvkN/SoAL/7p+6b9rQOYA7oA4QBFBF0GFwQ0A3MCugGe/1L/kv15+yv6xPsB/Gf8Pv1J/Dv/YgHKAlQFyAcSBbYFewS4AF39pP/8/o77nfvp+039v/0z/fH7SP5OArMAngV+CvsChQBCApQEUP/9+3n7z/+b/Mv4//pl/ukAcPmQ/WcE+wVPBJwFHgsZCBACjP8BAk8Cdfu39uv57f6f9/vzXfsKAbr+FvuJAG0HbAjuBL8CigTKBmoE4ALOASABJP93/G/9cfzv+tn5PvzL/2H/ovzU/pACBALLAJQCeAVTBX0BNv3e/iABqv6W+t77xf4tBr0C9vx1Ak4FbQE6/eT94P6FAfb8xPpu/Nj/Xv1P/fYAlAJ8AgIDoARoAakCawD/ADgAY/5z/df9OABf/rX+hfyE/Pj+Qf9+AF3+PwFhAbkBMAE3/4gAyv1Z/9v9l/4Q/mT+5v+K/RsB7wHgAYQC8AAqAy0DSQIlAHH/ZwBv/hf/4f2z/fn7Jf2+/uj9BwGqAe8BmQFOA54GfAWkBJUFRAVoAwIDwgR7Ag0CFgJgABIAlP8Q/Mb4yPiz9vX0Q/Tu8mTx3vQ19gD4xPrB/CIACQO3BeEFeAY0CeUJNQgZBjgDUwPHAdL+8PrI+4X5pvit+tgAdwSPCd4RkBI4HTgaORpTGBkVlRMqBkP8du8c6vvebtNPzijN+NDn1afeRuYQ9jUI/hDqG1AmSyuxLIUqcibMHREV2Qiw/Fjxx+VO3grZW9r13mPhEuhD8a37pwReDJQStxEPFjoTZxAVDlMRawnKDJ4cJwaUF9QZiRAjDzgMjhIO+2oAfPAj4WTkONQSyFXCOM6U0DfToepy8zQJuR5kKG83wztjPdszWjFNILQI5vk/64/g8NM8zpLM89JZ2jbfiOwZ/z0MKxNuHPUjjSMbHxsWKBBoAyr1u/VE/i4VyQRVCD0uxiOJJXwiTiVcHckYPgz940zqJt5Hv3Cp/KuXtLm2K8iC05nlXg5gLOwzujtHThFX/ky5QwErtxrUDw7u3NF5zLvIDMG9xd3N8tdc7FD8LwNmEf0iXyQbIOMeahWzCoQA/+yb3ubbP9y11078ZCCVDw8wKE6RSxNQYk1BPFcjqyQb9L2+1sUNtRqQK4Scj3CZCrRr3KHmEwTDOaVVYVsAWcJgaVA/QDMsIwEU9EzmLc+ivgq+dsWHz0/kPe2H+NUQYCMLIzkiMCTSFY4K4gBQ6R3f+dwN0fnOBNE/237xkDM1RCAxM2mQdBVllFaMQu0fVQMt9pi0jo/jnqOYAYCihmKZia0j2oEFew2/Lbti7HJMZLdXsFNjOwgyFQz8337eZdkoyBq77sV/zw7n9Psx+ikK5xw9Jsof9BnaDKv9NviL5IzVDtKN1ZXYR+Cx5tLymAs/TVVSlTdnYYpnnlz/QygttgF/9FT0B6/CkJee2ai6mkChFLbJz8QDpiRcIxktOlVwaOZQujTGHr4UNBWQ+gTYvM1s3VniouLP41HkGwGhG3MZ3AiLEp4jQhVU/nzoGeBO487c0czUxrveM/Js+Pb+lwSpGB9GZWZLRlVGu1wUU3dHIxtr/OPlc+UtyZaUx5S8pOKzG6l9tYfL0ekcHcwsax/RLcVRUlWDOY8ccg1uD08TAvoa3h/Zj/GY/BHvAukk8d0KKBoBEvH6z/4lC0cBWuw81XvWCN1h5Krfh9rY8hAFQRKyFhEYwh9ESG9rvUbqO7RItEm6OYQSI/Qg2HnZJMgAoOiYq6fQtaazXr5By7PjkBe2KqQdiShPUBJXuz4pLCMUvg6zF9oFC+Pn2kTwOfSJ7R/sV+56/MQMDg+Y+aT3AgCw/MXyDt5s197ayunF7s7oBvaiC+0amRpjFKoVgSZtXDxWNC5QQjJAbDkIIsP/EtolzGDRGKyXmO6aL61Drey1ws6+4PMJkzWUPOM7XlQwXntQeDMYGokB2P8r+aHdP9Ir2ZTkEe0D+PXyJP4uD3kYOQ6N/XACdfyQ9efi4c/czR7cA+mw5oPymQKTGAwk+yOcHaYcBDG8VVRRTylrPSA1yR8UDiDsKM+Gut7AkqO4n3Ovw7OduujGW+Tw/skhFTtcQnlMHFJLTso9RyD/DUryU+n36zPgattb44HvY/EpAI/8Kf8ZDUwISAM2Asr/Ou+t5BjdL9Lo1qrkPO7U+V0N3h+gKmkw6iygIcsYzRaHJ3c7IR9ZHGghWg/WDw36L+JuwwXCisRuuYK6x7uNx5vOreXjBUIcFDGtQNpGskUOSbo9ehioCuLzFdvY16vYENtR2bXp9O5s/foI/wlND2wMkhJzC4QBoPYS7YnlHdk42zTkJ+66/FYJ3BPGHMwppSVcGf0M9v6IChQhiS76F/0eqyHkFn4VEvl455XJ3c2Ry1q/ssa8xrrRs9qg+HwW5xwiLJw/yz86PfE6qybYCKX6y+Iw0RLPUta+4FThcPFs9awF1hMIFVgVZg1NEfMLRQWw+Hrsk+Sr29jjbutP95wEPQn4Ft8bOB8TF6IKI/5w8bD6CQmjI/Ie1xqOI2sZxh20DTjxztyH2EjbX9FZ0TbNg9hZ5AzyDQvrE6YmJTZ8N3wuiSv0Hi4Bieq32fHLWM1R357sTu9b+rEJohH+GRIbYRbbDvQTiRMVBpH73e9R52zilOOu5wfw7/xoAjcFcAvqEjYMuP6F+lrv1/GlAHsdZCqvKCE13Cp1KSQgFAb760TeW9n6yO/JgMc/zXjZt+bS+H8L4CNWMtE0AS7LKvke0giV8TLfENHT177nZOxW8Uv1PAWwE08XkRRQFe0VKhSjEn0HXgDq9PbpX+Rh43zpHfPb/vn5gPpkBjQIRwLV+1nzPO3p8mwAww/lK7E4ejdZPsEtth5+EF3++uNgz5/Mm8b7zE/Ugdni3wP00Q38HYgnOS5EKp4cZRWjBxbyoN6I2JHVL9wk7WD5sgCgBX0SNxgzHcQhjx/jF8ESUhFTAyn2Q+kr3yvhYebp6Irv+fbs8xL4dgCHABID3v+n/4z8rv5OECYg2jbnM7AvHyzBGoYW+gHJ8FzdqNQJ1MTRHd+r4Lrp7+4M+q0M7BZvHv8aIBZeCmQDJfzi70bnIuPW51Xx1P5OCksO4gyLER0W/hWUFuoU0AlgBX8BRvij8jnv++sr5dPtUfWz+Yf01PCk93v/AwMy/Wv7tPbZ+SYBaw1KGYwwATgMNKk2DSmcIY4Oxf++6T/dD91611DXBdnP4pzjyOix83QEjQ5MFswRQwqxCqYIVgML96rzmu7Q9FIDHA50Dr0KeA5wFV0agxpxEnoGygW+/8j73/Z069PjSdxO3mLiaOhB7WDwY/ppAJAGOgkQCbkD2AEXAgsE0QyVHwM7TTczOhoyiB+EFbEBVvg/5gHfI9Us0JXV9dS82dXY0uFs9dkHVRZUGMsYYhVMFDQW9gfV/ur3CfiT+5EEmQyXCEAMWA3ZEBAPrw+TDScFMP9V+aH26uwn46/ZadcW4CPpV+7n8tn3YQO1C/kPhQ8OC4sFAP7Y/WEDkA3qH3030jLPMnsteR/xFX0D1/jO4yreHdZfzAjL0cqm0oLTDeXC+RULyRjOHDkeRxvnHzEawgwRAoL5hfbO+hoDFgQJBYcIbQdeCLELHgx2C0cIYwWs+rf0buyy5FzgGtsy4t7nKPHP9A75IAGoBRkNcwx/CC8GrQaSBSEGBRAGGeYw+DfnMHoukh8TGE8JOv1I5xXWB9DnxCzEV8Veze/REt4P8ZQEGhj+JdQr3ibqJGIiiBfbD24HM/sh9+T7+QHG/e39Pvz4+R4C9wbMCHwJ5wdZ+rbyrO5Z6ebp0uc85oHlcu0x9dz56v2ZAUYFeQhPEBMUJg4ODqsIVgojFtQeSS8EL3wy5CLcEdYK2frX7e3XL9TfySvHHMkezyPY0ttL6Z30fRCoIgcrmir+Jaop1yQXHZcS4wb598TwmvDD9y/8vvXQ8ajyu/57Am8DjgQWAQz3mO6G8GDsX+wm7zrzMe/O6iL2RQSwA1z/rAc7Eo4U7hZaGNIJjf+n/uUHaRAQGycnXigJHE8LyQLB9wryDevc5nni2Nle1rDWaNkx3tXmavdoCoEaqSXVKMMjsSAqIyMbrwqF+v3vcef56gvvE/K6/IsADQKoAwIKXw9dDNcC4/gs+NL22vF/8Ozql+oo6BXqTPGr9Hn+mQIwC40Q1xXvFgkPLQkCBOD70/mjAnESSyO5I2olyBcaD58NJAlDBEv0VOsi28DRPND51qjcY9er3zX0QQvyGxAlcSbRIk0i8B44Fh8PfwL29gzxsvCz9ZH0VvU49CD0Q/klAeAI9wj1BdMC8QXWBXr8F/HU6l7q8ugJ6cjuvPTJ90b+MgUCCw4SOxIHEoIOgwa9/u37hARlCZsYZR+uHnUdLhVYE8gI+QYl+/3pP94d1CrWK9nj4d3kHus58uX8gg1CG+cgPx/7IqUgFhuQFckKk/tl83/xOu3Z6tTsZ+347n/1hv5xBycJBw4UDbQEQP7v9Uj4NPNH7ejrjevv74DxffwPAkUH6A2WFPgZYhZCDuYA5PoS+GT+WwSUDzcZ0xdEGTQQZg0OCrMIPgBr8jHrneC13yzhO+NJ44vkrep78VYBfBODHUojpiLcI3MgORvCE+IELfoW7oDpneYa5/DnHuV87fr4XgZ/DJQO5A4jBlACiP0w++n6d/W/70nqG+3x8SP45gKdB8YJzw6BFXQWABJ1Con+dPFL8ZP7gAHpEUIYxhcAF54WLRzCEmwPWgbT96PuEuSg4G/bp9mW2OLX/N8h7GD/NhHWHlwnfyiFJyUgARq2DqkAGPfu75Drs+YI6sHtXPIp+TYAhQUeB+0LpggWBJUBY/1K9+bvDu5O6aPoDeyZ8s/8zgVGD9QUdxXHEyoR1AttAGj19PBm8Nn3rgFsFFEewyMoJ9ojdCPCHYYaogoV/NDp/NYTzObGwcceyB3SwN318KMFbBiGKMUwvTISLNsilRk0DfcC1vej7l7q5+e76qDsSvK69tr5xf74Ab0FSAPJAJb9r/bR8iPzTPWz9mj6Lf0jAdQFWQzGD10K3ga1A1r9vPeL873xDPA49iUBGgzhHxgs1zOhMvcpaSCSFaoPVP646yHarMfBw13J/9Hq2N3hMu6i+dkJHhhAI1UnKSbqH2QVOhI7D64KvAEE+4b2zvP79DvzOPJ78fDvkfKj9o71k/VE9ib4Ifvo/nUBhAMCCEIHAwbUCLgFWwCJ+vD18vbD9cv1R/XP+PH7nP11BbgRSR6kLBk1uDDeKSsd3xJBA7r6hvI64xrcu9Kw0QjW2OBY52Ppju5D8sL89wr3FY8c0B/fIpUhOx/xHw4Zxg9yBtj6F+9z6ErjUd0U3LveJuTI6wX00/3kBwYO5BK4EuYQ8g/yDYUHCP2Y9TXxQu+w7Cru/PJL+KP9LgLFB2sJWwzrDwkWrhvxIksmHh99GXANJwfs/yL7CfZ17Qrq3uKW4wPlRufU5IfiSeXe6N/xj/1ICpYVeCF/J20n7yW1JN4e4xN3B4f5wOwm4mneoNs43Irg3uYI8Zz5qwBuBMELVg+5EFAR6gyICcYEXAEn/NT3ivSG8W7xW/YE+4P+/QI5BG0F0Qe5Cv0O3RPNFQkbJhyRGc0TfAzMBq3/Cv8X+ljzFuwA5g7lu+H84K3grOBs5aLtQvq/CMMUxR/BJr4m2iWlIy0cqhG+CW//V/Ht5qrh/N3I2/feXOIJ6pTyqvk2A6wM4hRrF8sWJxKVDE0IKwLB+bfyJfDM7R/uGPPB+Ob8xgMVCXkJZQxMDU4RhBQUFDoYmxXrEtkPEQxgCfsEnAQD/3n3J/F96yvlK+Hp4WLhceNu5e/omPGn/6YNgxdBIQkl9iSPJdMhKhmfDtUDUPjR7ajj9NvB2efc8OPO6g/yDfpmAmAJ5Q52ETETvBFrDMsFjP7B+R/2l/Oq8MvxJPYt+3YA8QP+By0JpgkzCpEKvQ7cDmkThBc2FZ4RUw0UDvQJiQdwAjT6DfUu7tLoq+Ek3wfgYOB14T/kA+y594wH7hb1ICEl8SaNJ+QirRszFIYLlf4B8mDnG9yD1r3Y79+S54rw9Pcr/LYEyw9eFPcUthEFDP8G2QOXATD5qPIW8ZTwd/Lh9hz9awFRByQKUgn0CmwLbg9xDyMR3xJqEgAUBw/KDCYJ0gXKAcj+4Psv863rpuW74pDgV99639bhjenj9kEEFhGEHJ8kzCm2KcskoR18Fk0LBf7Q8Erlft2a2T/cU+Au6BfxgvfS/asDCwoRDl8S+hG0DpkJJgNx/4X6cfcC9Ozy0vRS94v7EQCYBPwG0QgUCCkJVQvRClMOThE8E+AT0REFDmEKQgpoBgUC6/3N9cDsNOX34HTecN+Z4ZflDO1Q9zQD8Q0AGHkfoSIsIrMeWRi4Ed4KtwKN+L7vk+n45ubl8eUC69nvTPMD9dT5JABwBfwKpgsyCpYIUQfuBokCvP3B+w75p/fF9rX43vpv/gUCvwLeBNcI+g1/EWAWjBgGGVcWLBJ0DaYGZwJa/3T8evUC7lTnyuSi4obiXeYG6XbsIPLV+/ME1A4KFuoa8hucHHccmxnwFecM+QVJ/fryu+q05PHiC+MK5vjqye648oj2BP0rAuoG8QtSDbQNqAy3ChsFiAHn/hz8hfn292v5Cvt/+1T+YwHXAcIGzgr+D1oUbxg1GT4Unw4gC9gJJgQ+AMH7evZV8Bbrt+e45VXn9+kC7DHuRvPf+RECfgn+D+AUJhiiGjAaChhTFb0PeQiP//j16u7P6G3l4+XO5/ToFOy276DxUvfq/scEewqNDjcNNAscCjcJNwVDAv7/S/w6+3D3xfcA+cH8IwC3A5MJzg0REykY7htWGr8XpxLEDJ8FkwB3+rjzsu566Tzm1+Sz6AjrAe4r8xL5e/3TAk4IoQzqENYRKBHED2wNBgmTBoYCH/5R+sn2uvQ489ny8fF79eD49vqk+5X7Fv2X/O/+DwFqAMP/LgGDALgANAP2APn+dfzH+uH5SPu//pgB1QQ8ClcSChcrGFgVHxN9Ec0Lrgb1AeH9cvr99tbz4u+97w3xrvHB9On4j/xt/v//MwCt/sT+rAAzAtwA/AAjBA8GYwbiBdIFoQSiAhr/NP0m/tr8wvqb+LT2xfWw9OHzNPb3+lT/GwEABSwHZQWMA8YCwQET/iL9avpw+WH88f9pA5oIPA+VEdESoRBcD1QMPQhzBvgAlP2V+t33sPME8t70Dfdk+UH6lv51A3YFVQVRAmD+3vtC+9j54Pln+wb7p/se/9oBCAWIBu0GQgicCL0GygI2/+H6JvdF8srwkPFF8gP2QPl3+8z+bQROB9IHBgmWCSsJ1gcpBioEYgEaAgID5QE5A+AFDgbvA/UEQgVdBTQE6QEkAKT80fuO+QX4FPlf+279kv1S/1YBPALeAMr/Sv6m/WP7UPiw+FL40fnF+9D/nAN3BTQG9Ab/BgQHYggpBYYBif49/AD4H/Vx9Cj01/Q59cb26PgS/lsD+weFC7UPqhE2EFYO1gqaBisCtv9K/f356Pjm+nr7XPqS+6/+TQALAr0CVQHsALEBugGX/83/8P57/Kr7N/79/0H9BPx8/jUB/QE1AUL/XP6P/ZP+Rv/dAJUCXAIZA+cD6QSqBGQFxQOjAW//nPxb+n73tPax9z/5Rvpt/eoAawUTBucF4AZoBxIIKQYNBHkB/v4Y/L75z/eJ94P1BvYF+aT7yf/1A94HgwfTB+UGMQSKAvwA9v5N/Az8Bv0q/Uz9WP+//7f/pQADAqkCegLdAisDuwGG/mT91P3WAEUBpQFTAjUCTQU4BSEFXwTvA2EB9v6E/t77c/uf+ov77Puu+kj6Vfvt/Wr/A/+a/uP/gAAX/879Lfxm+v35T/qa+Zb33fl1++j9SAM5BysJwQgZCQgIxwV9AwkCL//K/bb/IwBd/+cANAN+A3AChAM2BQoE2QOLAy0C/v7+/IX9o/6c/4QATAJeBGUG4gZxBKIC/QFtAf/8Kvk9+LH1vPUJ9OrzMfX396D65fwkAIkAIQK6AuIBrAIEAwkA1f3u/OP7cvsy/OX74vsK/0sD3AXMB0AM4A2IDAIK7AXgAeL/5/6g/VD+tf8lAOf+9v9FAYICZQSaBJkEvgOXAmwBl/8I/R/+N/84/+n+KP8lAJn+5fxZ/MT7//qO+0f5n/ZO9vP2cfc99qX4ovzw/ocCkQVABqwEXgOfA8QCTQKwAv4Bfv/g/RP+z/zh/eb/SAIwBaQIegolCHIItgZUBEUD9AHi/+v+rwCL/97+g/7H/9wAz/93APUACAEqARgBx/6A/DD8IvwC/Bn7yfr9+2n7SvnK+Fv5pPkN+tj6qvmq+sT8m/xM/bX/HgJyAosETwY9B2gItQf7BVoD2wIEA1sCcQGuABMCkQHkAYwCngOJBWQE9AJ+AfsBQwH9AJgA5/7v/Xb+m//i/mD/Wf7m/JT8rfzq/eL9oP1k/C/7Lfwb/Vr+2v1d/nn/N/+z/k3/FABm/rD+Uf+U/+b/bQDTAKEBuwNpA0sDeASBAzwDpAI4AikCKAFXAtcBqAAfAPL+9/0v/oT+jP6M/1oAAP9f/1cBvwEHAJX/awAI/3T+c/0X/lP9gv74/6z/IAFAAdUBGQCvAPj///11/h39+v0u/YL9Hv3S/UD/i/+NALf/QAHSAMgBtQHxAqYCBwGIAZABLAJdApYEbAX6AgwBsQFKAFoAq/5N/ej8/fxk/Gn7OPxw/E38APwV/v7+EwFJAoMCtgGsAekBIQLdAkwCQQG1ANIAr//r/y0An/8M/zcB3AHwAcUDowLmAIr/s//Y/kb+yP+oADL/Ef+5AM4AtABpACUB5//0/uf+ov5m/RL9Efx3+mj8Mf00/h////+yAAMAmwCAAUoAd/9mADMA1P21/YL/s/94/0oAwwGkAe4BYgNiBAgDRgI3AXH/r//B/1//Mv4d/yb//P9pAf4BBQPHA6gDuwKoAscBhQEYAHP+iv3k/cj+A/+N/gP+2P/i/1L/QwH0AVIB3f9e/rH8j/wM/Zb8lPzt/BH+r/81AmoBagFFAqsCWgLz/3z/Ff8A/17+G/65/joADgBRALsCuAIPA3kDyQKdAUEBKABY/sf+Gv/o/Un9lv3Q/qX/HP9gANUBJAEjAaUCkQIAADoBBAKQ/0L/7//d/Vb8sP9NAO7+0f5dAL8AhQHqASsB7AAvAeIBGgD8/0L/Tv+O/sL8tf17/0UANwC//5v+UP8nAJv/IP7A/2H/mf3N/b/++gBzALQAIgBcAPf+KgBOAkQCawEoAbYAc/wd/G77Ef7h/74AwQAjAOn+FQCZAVUD/wZJBK0B0f6b/+z+UwCZAeT/b/9wAPoAav4d/8r/x//p/zQBoAExAc8Bqv8U/sz/4gC+AZAAmP9q/kP+fP4r/Sz+O/8u/4T/vgBZANr/b/5g/T785/28/9T/0wE9AUkBTwEcAw8DHQOIBPgCFQFz/in+9P5EAJn/Lf+WAE4CyQFqAAUAuf/iABcBjf/u/RH9Fv0j/Tr9V/6n/jgBvQJ0Ad0ABAKnABAA1gCD/0X9cvx2/0wAiwBj/3X+6v2r/40BegHcAE8AHgJMAhUCMgAH/7j/nf/Y/g3/YACUAM8ABABY/wEBuQFPASgAp/9xANP/5/0N/JH8Ef5U//b/XAAOAnACLANgAygBiP8LAF7/n/5G/04AnP5d/VT/+P4aAAcC9wIUAREAngBlAfgAsv4A/y//+v5n/mD/R/7k/iIAMP6I/TcAHwP+AAAAJf/f/lL/pv7B/WD+PP/B/8UAEQHlARABCAFvAOD/rwE7AmMBQ/8n/8z/Uf+CAO8AZf+NANgCqwFhAPYAzgEUAXoA0/+H/73/M/9t/nX/SQGEAW4BBABE/4D/vf+wAMr/vv/5/xv/gf5d/dn9DP6p/y0BNwFt/+z9lP8yAWgCkgAp/y3+nP1k/sX+1v59/uEAJgIpAncCDgJuAG//OQBRAJj/zP7r/WX+xQAzAPT/egHRAkACngCzAFkAFQHgAFv/Ev/p/rP/zgDXAI4A5f/I/xr/jv/T/yQA5/9f/7n/eP8vAY7/Ov7R/fP+Gf8o/u//UQD4/yD/1P/U//8APQECAHj/eP9f/2r/lf8v/yMAIv+T/yABUgJiAYkA8gHnAYwAhf8QAA3/u/5U/64AewAiAO8A7gBJAcEApABdAJ3/Rv/G/9H/nf8t/9L++P6IANMBAwFkAPQAsQDX/8v/sf/j/1//p/9i/4P/kgAM/xb/l//d/z0A+/53/xYApAD5/7r/qf9e/5gAFgGDADP/6P7o/hr+p/5qAF8AIgA4AL0AzwDWABUB8/9n/ywAWv+4/g0Anf9+/pP+0wAuAp8BhAEIAMD/9//n/+z/Sv/EAGcA2/9QAJsAXAK/AMj+UP85ATMAOv4G/w3/a/8e/xQB2gCjAIUB7v/0/ysAfP9f/h0Au//V/cz+n/8WAJcA3gAsAX8Aqf/E/1gApAAWAA//cP8oAPr/p/8XAAkAKP+OANkAeQD0/0kABwBf/5AA/gBfAfYAjwBk//j+UABB/1f+iP9TASQBdQBgAEcALgGB/8n/qQDI/4b+o/5o/iP+1v+1/zn/jADnAbv/3v/FAGgBNAD+ANwAqv7R/6P+7f/o/xf/lv4Q/3oAKgHqAer/HgBEAVIAeP8kAaYBGv9//kP/xv+a/7H//v78/rYB8AFMAMb/CQCbADABgwC3/zL/sv95/87+bv+Z/koAyf+i/8MAlQE2AWP/WwCi/7IAdgAM/8/9g/5p/1j/kgBRAHUA+wCfAXoAPABp/+P+xwD7AOT9z/0nAJkA6//e/zUA2//pAPf/RP/w/zwA0f9z/2UAgAEWAI//Ov8kAKwBcgBP/4T+3f/5/yEB/gDs/3MAvAB5AOX/pgAbAMT+Yv80AKX/cf+E/7AASgAKAf4AZf8Z/wgA6gHKABn/vv3q/2kAigDAAF3/VwAPAAsBmgDn//H/7v50/hr/zgAaACv//gDIAGL/FP/3//gA9/+E/0v/3v+oAHcAfP9X//P/fwAe/1H/kwEiAGj//P9wALkAIABWAFz/+/4MANIATgF//9X/HgBU/gEAkQFPAXkA0v6y/nT/rAClAK3/Gv/LAAQBq/+CAF8Ah/84/5n/yv+pAE4Am/8k/0EAkwCQALv/X/4LACIAMQCl/5b/w/8oAGYA9/+fAJD/Pf8d/7IAdwFE/wz/K/9dACgBCAE0AaD/z/5vAAsBtf+V/kn//v73/jAAPADcAOoAWwBFAMEA6QA0/2b+w//dABEA5v9KAIL/ff9D//cAVwF6APf+bf6m/+0AJAKk/r/+wAA+AFT/0v+NAKX/YgBHAI3/8ABDAVcAAwCC/2UAoAAA/7z+of9aAEUAvP+3/+z/CwFlAeoARADJAJYA8/5I/pX/pf/0/uX/Rv+6AFMCWQHs/i0AWwHP/7P/6v4RAMj/rf+H/2v+/v6HAHcBgv+7//L/bgDUAPL+hf7+/x8BQQEaALr+KgDp/5z/JACGAJ3/bP9nAIUAhwDP/4QAvf9oAAQAz//7/j//iQCo/3sAQgBoAJ//rACvAdcAZP8T/yn/pf9U/2L/UQDO/+AAgwAGAJEAeABM/+/+HP/z/y0AKf/V/jz/QwBQANj/FwBPAK0AdwFxAGD/m/9JAGIApwAMAdf/FQD5/9j/9/8B/xz/Nv+mALAA7/+l/1cALgKEAD//Df7O/o0A8v96AAr/Nv94AE8BoQDZ/nz/5f/OAIQALv81/xkA2wAhAMcA6QCg/xP/pP+4AMD/Uf9A/7IANwG4AFr/qv9/AaYAef+t/6r/w/8PANj+ev87AA4ASv+VAG4ASv80/0YAywCX////igDLAAYAsABsAFQA6P/K/hb/swAmAI7/KACYAL4AJgD+AEQAZwDL/iH+2v40AF4ADf+h/5UAiwDq//4ARgF4ACsAWv47/icAvv/Z/7X/XQBVAGQAmP8oAHsBTP8Z/9H/mgCAABEAWgCK/7X/FwGXAKP/dv9mAHsANABPAOz/Qf8d/zgAmv92ACMAsf6+//L/EAFNABX/igCoAF//qP8FAQn/Pf/dAHEA4v9w/8r/mv+P/x8A1AA8AJAAYP+M/qr/CAGGARYAkv+W/73+tP5aAXQB1f/t/iMAxgBt/5gAGQASAA4B7wB+AOX/qADB/q/+jwATALj/0f+WAJcAMwDo/+//IQBFAKb/IgC3/yr/wAAJALj+CQD/ADkApwD0/2D/dgCeAKP/QP9y/23/iv+Z/yf/mAA+AdcBu//3/sQAbP/3/47/ov+H/gn/TQDq//H+kwAGAScBfQEyANT/Mv8rAWn/cP49/j8AugBlAPwAAQABAH//eAC4ACYBaQDd/6L+yf6wAPgArAB1/yf+Uf/DAJ8A2f/q/qX/rQAfAc0AqwDOAOb/mP9q/5r+7f6Q/9wA0f8UAOMAlABpAR0BZwAB/28AbgCB/m3/TQEjAIj+bv/fAIAAyf9q/03/sgA4AbwA5f2y/mkA+wCzAIn+0v8K/4r/1f9CAJr/Yv/DAU8BNgHA/+T/mf5f/3v+bP3//9EB1AA2/jcB0AERAFr//gAjAAj/Gf/8/m//vv+cABkAov+gAIMCAgEwALMAiQHM/yD+Lv4O/wgABAAdAeH/ZgB/AbcA/v5l/6cAVwCQAEb/3P4pAFUBtwAK/wj/cACUAFj/ev7r/00BvgAvAJ8AQQFMAcD/vv77/mL/P/83/UH+fP9FADsACwGeAQICOwGcABEBU/+m/9j+q/6E/e/+DgAaADoA3P9vAUoBCAKQAYUAuP5G/uP/Zf/u/vL+m/9XANwAjf+5/iQAPACXAV0BwAAwALr/4f+I/6wAtf+X/2f/1f+eAP//9/+P/xgAwwCD/wL/IwDmACkAb/8XALr/2gBsAIj/f//3/48Ayf/a/23/9f9bAFcB0gDo/7H/2/9dAID+D/9NAGMAEQC6/yEACwChANAAkf9E/1v/Gv9x/yEABAF2AGv/xv+wAMsAIwCHAF7/EP9tAGT/cP+9/5v/9P7Q/2EBWgBD/10AfgGMAH0Aqv8T/zL/XQBIAND+AP93AO4Bnf8/ACcBYQAnACYAoAAa/5f/s/7e/qEADQIMAVT+LQCuAZAA0P+v/2sADQCG/y4Aj/99ALAAfwDo/mD/DAExAEL/Yv4hAG0A3/+T/87/egCZAMf/Pf/R/jv/+v9S/+3+JADOANz/UgCEAEoAQABvAGsA6f+R/o3/RgAx/5b/awDT/3n/AAC6ANIAgf/rAOwAGQCl/8v/QwCn//j/Gf9E//n/ggAzAar/VQDXAXgCPgFJ/qf/xv9i/6z/Zf9V/zAAEAGI/qT/LwLYAJr+RACkAt8A/v8x/5f+1v7P/7n/iP6N/7z/dQADAAgAhQBqAE8BIAGUAOv+Ov/1/3H///7J/wAAi/+y/2YAhAA4AQUBVP9c/5v/yQA4AMIAmv9t/1cAh/+L/4D+nP+BAOUA1f+8/7kAHQB3AEAAo//T/ggAPAHz/77/xv/d/4z/nAAtACD/hv9o/rT/MwHLAEEAnAA6AL4ApADv/07/OP+kAE0AEf8f/20B2AALABsA8v4E/vv+RACvAAcA4//y/2L/CwKhAfv/u/6J/8MAyP9s/6r+4/5b/+oA9AA/AboAcAAtAdQAKgDh/tj+4/6U/7/+xv7QAG4BnQBjAPYBRAHl/6MACwA3/wH/9/5P/rj+IADfAF8B+QDJAAz/v/5d/+v/iAD0/z7/r/8QAaoBuwAL/y8AXQAd/yv+y/5vANgBjwAc/0gACwB9AM3/JAB/ADkAk/+S/gX/agAOAfn+Kf8kARwCNAHy/q/+CwB3ABABsP+S/q7+hP9mAG8AwQBP/wT/OwCuAYgAWwBQAPD/EAAE/6j+L/8EAT0BNQEFAaT/Tv8aAOr/jQA6APH/kv5p/yoBmwCWAMX+2v73/vcAywCc/0YAZv+Z//D/cgCu/5wAswCJ/yMAVQDv/07+ef+wAEgAQwBs/5n/xAASAkgA1/7t/zEAQgDr/7v/hf+B/7T/q/9i/1EAlgDXAKAAkv8vAM7/6/+K/+D+/f46AFQAMP6v/jsAWgG9AAAA8QDPAHUBZAA7/wIAQP+J/1H/fP/f//EBYwHZ/ioA+ADfAPH/cwBk/yf/v/9o/yAAsQByAMD/jv/o/zoAHwCN/xH/NgDr/1IAg/+WAJcBPP8O/7r+3P80AH0A6f8UABQBLv/5/yUAKwA/AWwAGv+r/uAAMQHC/6j+9P5sAJwARQD4/7wAwQDe/x3/u//U/5n/JQA7/+7+fADUAbwBrABf/8X/UgDNAAn/9P6C/xf+Ov+l/20A6gBQAQoAMAB/AdYAev+A/vf/CwBU/7P/rP9r//D/ywApAXkBAwGT/j//ZgC4ABAAo/70/r7+lAB4AJX/\" type=\"audio/wav\" />\n",
       "                    Your browser does not support the audio element.\n",
       "                </audio>\n",
       "              "
      ],
      "text/plain": [
       "<IPython.lib.display.Audio object>"
      ]
     },
     "execution_count": 4,
     "metadata": {},
     "output_type": "execute_result"
    }
   ],
   "source": [
    "# check loaded data\n",
    "rand = random.randint(0, len(speech_data[\"wav_vals\"]))\n",
    "print(f\"rand num : {rand}\")\n",
    "\n",
    "sr = 8000 # 1초동안 재생되는 샘플의 갯수\n",
    "data = speech_data[\"wav_vals\"][rand]\n",
    "print(f\"Wave data shape :  {data.shape}\")\n",
    "print(f\"label :  {speech_data['label_vals'][rand]}\")\n",
    "\n",
    "ipd.Audio(data, rate=sr)"
   ]
  },
  {
   "cell_type": "code",
   "execution_count": 5,
   "metadata": {},
   "outputs": [
    {
     "data": {
      "text/plain": [
       "numpy.lib.npyio.NpzFile"
      ]
     },
     "execution_count": 5,
     "metadata": {},
     "output_type": "execute_result"
    }
   ],
   "source": [
    "# look into dataset\n",
    "type(speech_data)"
   ]
  },
  {
   "cell_type": "code",
   "execution_count": 6,
   "metadata": {},
   "outputs": [
    {
     "data": {
      "text/plain": [
       "['__abstractmethods__',\n",
       " '__class__',\n",
       " '__contains__',\n",
       " '__del__',\n",
       " '__delattr__',\n",
       " '__dict__',\n",
       " '__dir__',\n",
       " '__doc__',\n",
       " '__enter__',\n",
       " '__eq__',\n",
       " '__exit__',\n",
       " '__format__',\n",
       " '__ge__',\n",
       " '__getattribute__',\n",
       " '__getitem__',\n",
       " '__gt__',\n",
       " '__hash__',\n",
       " '__init__',\n",
       " '__init_subclass__',\n",
       " '__iter__',\n",
       " '__le__',\n",
       " '__len__',\n",
       " '__lt__',\n",
       " '__module__',\n",
       " '__ne__',\n",
       " '__new__',\n",
       " '__reduce__',\n",
       " '__reduce_ex__',\n",
       " '__repr__',\n",
       " '__reversed__',\n",
       " '__setattr__',\n",
       " '__sizeof__',\n",
       " '__slots__',\n",
       " '__str__',\n",
       " '__subclasshook__',\n",
       " '__weakref__',\n",
       " '_abc_impl',\n",
       " '_files',\n",
       " 'allow_pickle',\n",
       " 'close',\n",
       " 'f',\n",
       " 'fid',\n",
       " 'files',\n",
       " 'get',\n",
       " 'items',\n",
       " 'iteritems',\n",
       " 'iterkeys',\n",
       " 'keys',\n",
       " 'pickle_kwargs',\n",
       " 'values',\n",
       " 'zip']"
      ]
     },
     "execution_count": 6,
     "metadata": {},
     "output_type": "execute_result"
    }
   ],
   "source": [
    "dir(speech_data)"
   ]
  },
  {
   "cell_type": "code",
   "execution_count": 7,
   "metadata": {},
   "outputs": [
    {
     "data": {
      "text/plain": [
       "['wav_vals', 'label_vals']"
      ]
     },
     "execution_count": 7,
     "metadata": {},
     "output_type": "execute_result"
    }
   ],
   "source": [
    "speech_data.files"
   ]
  },
  {
   "cell_type": "markdown",
   "metadata": {},
   "source": [
    "## 1-1. convert labels in string to integer"
   ]
  },
  {
   "cell_type": "code",
   "execution_count": 8,
   "metadata": {},
   "outputs": [
    {
     "name": "stdout",
     "output_type": "stream",
     "text": [
      "['silence']\n",
      "['left']\n",
      "['on']\n"
     ]
    }
   ],
   "source": [
    "sample = []\n",
    "for i in range(3):\n",
    "    idx = random.randint(0, len(speech_data['label_vals']))\n",
    "    sample.append(idx)\n",
    "for i in sample:\n",
    "    print(speech_data['label_vals'][i])"
   ]
  },
  {
   "cell_type": "code",
   "execution_count": 9,
   "metadata": {},
   "outputs": [
    {
     "data": {
      "text/plain": [
       "[array(['down'], dtype='<U7'),\n",
       " array(['go'], dtype='<U7'),\n",
       " array(['left'], dtype='<U7'),\n",
       " array(['no'], dtype='<U7'),\n",
       " array(['off'], dtype='<U7'),\n",
       " array(['on'], dtype='<U7'),\n",
       " array(['right'], dtype='<U7'),\n",
       " array(['stop'], dtype='<U7'),\n",
       " array(['up'], dtype='<U7'),\n",
       " array(['yes'], dtype='<U7'),\n",
       " array(['unknown'], dtype='<U7'),\n",
       " array(['silence'], dtype='<U7')]"
      ]
     },
     "execution_count": 9,
     "metadata": {},
     "output_type": "execute_result"
    }
   ],
   "source": [
    "# gather label data \n",
    "labels = []\n",
    "for label in speech_data['label_vals']:\n",
    "    if label not in labels:\n",
    "        labels.append(label)\n",
    "labels"
   ]
  },
  {
   "cell_type": "code",
   "execution_count": 10,
   "metadata": {},
   "outputs": [
    {
     "data": {
      "text/plain": [
       "['down',\n",
       " 'go',\n",
       " 'left',\n",
       " 'no',\n",
       " 'off',\n",
       " 'on',\n",
       " 'right',\n",
       " 'stop',\n",
       " 'up',\n",
       " 'yes',\n",
       " 'unknown',\n",
       " 'silence']"
      ]
     },
     "execution_count": 10,
     "metadata": {},
     "output_type": "execute_result"
    }
   ],
   "source": [
    "import re\n",
    "target_list = []\n",
    "for label in labels:\n",
    "    label = str(label)\n",
    "    label = re.sub('[^a-z]','',label)\n",
    "    target_list.append(label)\n",
    "target_list"
   ]
  },
  {
   "cell_type": "code",
   "execution_count": 11,
   "metadata": {},
   "outputs": [
    {
     "name": "stdout",
     "output_type": "stream",
     "text": [
      "Indexed LABEL : {'down': 0, 'go': 1, 'left': 2, 'no': 3, 'off': 4, 'on': 5, 'right': 6, 'stop': 7, 'up': 8, 'yes': 9, 'unknown': 10, 'silence': 11}\n"
     ]
    }
   ],
   "source": [
    "# make dictionary ; assign integers to labels\n",
    "label_value = { s : i for i, s in enumerate(target_list) }\n",
    "print(f'Indexed LABEL : {label_value}')"
   ]
  },
  {
   "cell_type": "code",
   "execution_count": 12,
   "metadata": {},
   "outputs": [
    {
     "data": {
      "text/plain": [
       "array([ 0,  0,  0, ..., 11, 11, 11])"
      ]
     },
     "execution_count": 12,
     "metadata": {},
     "output_type": "execute_result"
    }
   ],
   "source": [
    "# replace labels in dataset with assinged integer\n",
    "temp = []\n",
    "for string_label in speech_data['label_vals']:\n",
    "    temp.append(label_value[string_label[0]])\n",
    "label_data = np.array(temp)\n",
    "label_data"
   ]
  },
  {
   "cell_type": "markdown",
   "metadata": {},
   "source": [
    "## 1-2. spectrogram conversion"
   ]
  },
  {
   "cell_type": "code",
   "execution_count": 13,
   "metadata": {},
   "outputs": [],
   "source": [
    "def wav2spec(wav, fft_size=258): # spectrogram shape을 맞추기위해서 size 변형\n",
    "    D = np.abs(librosa.stft(wav, n_fft=fft_size))\n",
    "    return D"
   ]
  },
  {
   "cell_type": "code",
   "execution_count": 14,
   "metadata": {},
   "outputs": [
    {
     "name": "stdout",
     "output_type": "stream",
     "text": [
      "Waveform shape :  (8000,)\n",
      "Spectrogram shape :  (130, 126)\n",
      "time : 0.0012135505676269531\n"
     ]
    }
   ],
   "source": [
    "sample = speech_data['wav_vals'][0]\n",
    "start = time.time()\n",
    "spec = wav2spec(sample)\n",
    "print(\"Waveform shape : \", sample.shape)\n",
    "print(\"Spectrogram shape : \", spec.shape)\n",
    "print(f'time : {time.time() - start}')"
   ]
  },
  {
   "cell_type": "code",
   "execution_count": 15,
   "metadata": {},
   "outputs": [
    {
     "data": {
      "image/png": "[encoded data removed]",
      "text/plain": [
       "<Figure size 432x288 with 2 Axes>"
      ]
     },
     "metadata": {
      "needs_background": "light"
     },
     "output_type": "display_data"
    }
   ],
   "source": [
    "librosa.display.specshow(librosa.amplitude_to_db(spec, ref=np.max), x_axis='time')\n",
    "plt.title('Power spectrogram')\n",
    "plt.colorbar(format='%+2.0f dB')\n",
    "plt.xticks(range(0, 1))\n",
    "plt.tight_layout()\n",
    "plt.show()"
   ]
  },
  {
   "cell_type": "code",
   "execution_count": 16,
   "metadata": {},
   "outputs": [],
   "source": [
    "del sample"
   ]
  },
  {
   "cell_type": "markdown",
   "metadata": {},
   "source": [
    "---"
   ]
  },
  {
   "cell_type": "markdown",
   "metadata": {},
   "source": [
    "+ spectrogram conversion"
   ]
  },
  {
   "cell_type": "code",
   "execution_count": 17,
   "metadata": {},
   "outputs": [
    {
     "data": {
      "text/plain": [
       "(50620, 8000)"
      ]
     },
     "execution_count": 17,
     "metadata": {},
     "output_type": "execute_result"
    }
   ],
   "source": [
    "speech_data['wav_vals'].shape"
   ]
  },
  {
   "cell_type": "code",
   "execution_count": 18,
   "metadata": {},
   "outputs": [
    {
     "name": "stderr",
     "output_type": "stream",
     "text": [
      "100%|██████████| 50620/50620 [00:38<00:00, 1307.66it/s]\n"
     ]
    },
    {
     "name": "stdout",
     "output_type": "stream",
     "text": [
      "time : 42.64873170852661\n"
     ]
    }
   ],
   "source": [
    "start = time.time()\n",
    "spec_data=[]\n",
    "for wav in tqdm(speech_data['wav_vals']):\n",
    "    stft = wav2spec(wav)\n",
    "    spec_data.append(stft)\n",
    "spec_data = np.array(spec_data)\n",
    "spec_data.shape\n",
    "print(f'time : {time.time() - start}')"
   ]
  },
  {
   "cell_type": "code",
   "execution_count": 19,
   "metadata": {},
   "outputs": [
    {
     "data": {
      "image/png": "[encoded data removed]",
      "text/plain": [
       "<Figure size 432x288 with 2 Axes>"
      ]
     },
     "metadata": {
      "needs_background": "light"
     },
     "output_type": "display_data"
    }
   ],
   "source": [
    "librosa.display.specshow(librosa.amplitude_to_db(spec_data[0], ref=np.max), x_axis='time')\n",
    "plt.title('Power spectrogram')\n",
    "plt.colorbar(format='%+2.0f dB')\n",
    "plt.xticks(range(0, 1))\n",
    "plt.tight_layout()\n",
    "plt.show()"
   ]
  },
  {
   "cell_type": "code",
   "execution_count": 20,
   "metadata": {},
   "outputs": [],
   "source": [
    "del speech_data"
   ]
  },
  {
   "cell_type": "markdown",
   "metadata": {},
   "source": [
    "## 1-3. data split"
   ]
  },
  {
   "cell_type": "code",
   "execution_count": 21,
   "metadata": {},
   "outputs": [
    {
     "name": "stdout",
     "output_type": "stream",
     "text": [
      "[[[1.28467642e-02 5.69626503e-03 1.13709888e-03 ... 4.16167226e-04\n",
      "   4.56441334e-03 1.12375878e-02]\n",
      "  [1.70485321e-02 8.07855092e-03 2.21799617e-03 ... 3.32283508e-03\n",
      "   7.67117552e-03 1.17295459e-02]\n",
      "  [2.18634121e-02 1.46937771e-02 3.84549308e-03 ... 8.18202924e-03\n",
      "   5.52943721e-03 1.20183639e-02]\n",
      "  ...\n",
      "  [4.58302163e-03 2.02101469e-03 5.64236951e-04 ... 5.85821690e-04\n",
      "   2.44899862e-03 4.53280937e-03]\n",
      "  [4.53532441e-03 2.42813444e-03 7.45598372e-05 ... 1.81945026e-04\n",
      "   2.58287042e-03 4.81946347e-03]\n",
      "  [4.60953871e-03 2.27410300e-03 5.53887548e-05 ... 5.73362304e-05\n",
      "   2.34686537e-03 4.70350543e-03]]\n",
      "\n",
      " [[3.58626537e-04 3.33464704e-04 2.36538021e-04 ... 4.95152723e-04\n",
      "   6.19869633e-03 1.24919927e-02]\n",
      "  [1.30108718e-04 2.39492714e-04 9.47077351e-05 ... 2.03335914e-03\n",
      "   6.97439443e-03 1.46333547e-02]\n",
      "  [2.06850294e-04 1.52561028e-04 5.86182468e-05 ... 1.58155418e-03\n",
      "   1.19672166e-02 1.94252096e-02]\n",
      "  ...\n",
      "  [1.41437852e-06 3.80224310e-06 5.11041435e-06 ... 7.22041977e-06\n",
      "   6.03681954e-04 1.17661583e-03]\n",
      "  [1.49612526e-06 7.69682288e-07 1.95057760e-06 ... 5.36164544e-06\n",
      "   6.24374079e-04 1.19730656e-03]\n",
      "  [6.81551285e-07 5.51691471e-07 1.17099155e-07 ... 5.50164032e-06\n",
      "   6.28909096e-04 1.20876275e-03]]\n",
      "\n",
      " [[1.20185073e-02 2.75860331e-03 1.08768058e-03 ... 9.31361225e-04\n",
      "   7.87053164e-03 1.98865421e-02]\n",
      "  [1.35705946e-02 1.00702411e-02 6.54052664e-03 ... 7.17091374e-03\n",
      "   1.33474739e-02 1.57259144e-02]\n",
      "  [7.11913314e-03 1.02063054e-02 9.87897534e-03 ... 1.65733788e-02\n",
      "   1.39111569e-02 4.29930398e-04]\n",
      "  ...\n",
      "  [1.97014189e-04 7.82525749e-05 2.26462289e-05 ... 1.05602030e-05\n",
      "   4.62558382e-05 5.59279470e-05]\n",
      "  [1.84116565e-04 9.67675078e-05 4.69079259e-06 ... 5.96245718e-06\n",
      "   3.54463482e-05 6.84298284e-05]\n",
      "  [1.94265303e-04 1.00680794e-04 1.89406842e-06 ... 2.49039022e-06\n",
      "   2.96696235e-05 6.40261569e-05]]\n",
      "\n",
      " ...\n",
      "\n",
      " [[1.66824984e-03 5.03666513e-03 1.66702131e-03 ... 1.26168272e-02\n",
      "   1.34712793e-02 1.49150928e-02]\n",
      "  [1.13054393e-02 1.36142466e-02 1.20407902e-02 ... 9.37870145e-03\n",
      "   4.51919483e-03 9.73680429e-03]\n",
      "  [2.58351173e-02 2.04900596e-02 6.04754500e-03 ... 6.87342649e-03\n",
      "   2.50456017e-03 6.67049643e-03]\n",
      "  ...\n",
      "  [4.57579549e-03 2.01478694e-03 5.67334238e-04 ... 5.97430335e-04\n",
      "   2.40323227e-03 4.44348343e-03]\n",
      "  [4.52020206e-03 2.42082449e-03 7.96921668e-05 ... 1.85190307e-04\n",
      "   2.54288944e-03 4.73753037e-03]\n",
      "  [4.59138583e-03 2.26386753e-03 5.29787212e-05 ... 5.59733417e-05\n",
      "   2.30411766e-03 4.62296186e-03]]\n",
      "\n",
      " [[3.07160616e-02 1.17392624e-02 6.04885910e-03 ... 2.74562766e-03\n",
      "   2.41803005e-02 9.69573762e-03]\n",
      "  [5.66919222e-02 3.58028002e-02 1.82944424e-02 ... 4.48396914e-02\n",
      "   1.60041787e-02 1.52424946e-02]\n",
      "  [8.58716741e-02 6.07468523e-02 5.85317016e-02 ... 8.32682550e-02\n",
      "   5.70959002e-02 5.17549813e-02]\n",
      "  ...\n",
      "  [1.96624431e-04 1.62437413e-04 1.96174646e-04 ... 2.58400047e-04\n",
      "   3.70083668e-04 4.50723513e-04]\n",
      "  [3.63658211e-04 2.51823163e-04 3.51375165e-05 ... 8.87765273e-05\n",
      "   1.91549509e-04 4.67947801e-04]\n",
      "  [4.62493335e-04 2.08088968e-04 9.74017257e-06 ... 1.04391893e-05\n",
      "   2.43456569e-04 4.29724372e-04]]\n",
      "\n",
      " [[4.19278115e-01 1.54571041e-01 1.28891498e-01 ... 7.20048010e-01\n",
      "   5.36674917e-01 4.41325665e-01]\n",
      "  [4.72378433e-01 3.00865680e-01 2.48833835e-01 ... 2.89115876e-01\n",
      "   5.07474244e-01 1.07529089e-02]\n",
      "  [4.72395927e-01 2.60451794e-01 2.14412510e-01 ... 1.13351479e-01\n",
      "   5.96383691e-01 1.05109370e+00]\n",
      "  ...\n",
      "  [2.74706911e-02 3.22123617e-02 2.25285199e-02 ... 5.36014065e-02\n",
      "   3.20482031e-02 6.05876185e-02]\n",
      "  [1.71021055e-02 1.12740705e-02 1.80074514e-03 ... 9.11487546e-03\n",
      "   2.99779642e-02 4.24080044e-02]\n",
      "  [2.11058278e-02 1.39549058e-02 6.81068981e-03 ... 9.23282641e-04\n",
      "   2.70320177e-02 5.19005507e-02]]]\n",
      "train data : (45558, 130, 126)\n",
      "train labels : (45558,)\n",
      "test data : (5062, 130, 126)\n",
      "test labels : (5062,)\n"
     ]
    }
   ],
   "source": [
    "# data split\n",
    "\n",
    "train_spec, test_spec, train_label, test_label = train_test_split(spec_data, \n",
    "                                                                label_data, \n",
    "                                                                test_size=0.1,\n",
    "                                                                random_state=7,\n",
    "                                                                shuffle=True)\n",
    "print(train_spec)\n",
    "\n",
    "print(f'train data : {train_spec.shape}')\n",
    "print(f'train labels : {train_label.shape}')\n",
    "print(f'test data : {test_spec.shape}')\n",
    "print(f'test labels : {test_label.shape}')"
   ]
  },
  {
   "cell_type": "code",
   "execution_count": 22,
   "metadata": {},
   "outputs": [],
   "source": [
    "del spec_data"
   ]
  },
  {
   "cell_type": "markdown",
   "metadata": {},
   "source": [
    "## 2. set hyperparameters"
   ]
  },
  {
   "cell_type": "code",
   "execution_count": 23,
   "metadata": {},
   "outputs": [],
   "source": [
    "# set hyper paremeters\n",
    "batch_size = 32\n",
    "max_epochs = 10"
   ]
  },
  {
   "cell_type": "markdown",
   "metadata": {},
   "source": [
    "## 3. preprocess with tensorflow, build tensorflow input pipeline"
   ]
  },
  {
   "cell_type": "code",
   "execution_count": 24,
   "metadata": {},
   "outputs": [
    {
     "data": {
      "text/plain": [
       "<tf.Tensor: shape=(3, 12), dtype=float32, numpy=\n",
       "array([[1., 0., 0., 0., 0., 0., 0., 0., 0., 0., 0., 0.],\n",
       "       [0., 0., 0., 0., 0., 1., 0., 0., 0., 0., 0., 0.],\n",
       "       [0., 0., 0., 0., 0., 0., 0., 0., 0., 0., 0., 1.]], dtype=float32)>"
      ]
     },
     "execution_count": 24,
     "metadata": {},
     "output_type": "execute_result"
    }
   ],
   "source": [
    "# tensorflow.one_hot : make one-hot encoding\n",
    "tf.one_hot([0,5,11], depth=12) # takes in indices and return one-hot ecoded input indices.; value 1 in first, sixth, twelvth in row 1, 2, 3 respectively."
   ]
  },
  {
   "cell_type": "code",
   "execution_count": 25,
   "metadata": {},
   "outputs": [],
   "source": [
    "def one_hot_label(spec, label):\n",
    "    label = tf.one_hot(label, depth=12) # 0 ~ 11 label\n",
    "    return spec, label"
   ]
  },
  {
   "cell_type": "code",
   "execution_count": 26,
   "metadata": {},
   "outputs": [
    {
     "name": "stdout",
     "output_type": "stream",
     "text": [
      "<BatchDataset shapes: ((None, 130, 126), (None, 12)), types: (tf.float32, tf.float32)>\n",
      "<BatchDataset shapes: ((None, 130, 126), (None, 12)), types: (tf.float32, tf.float32)>\n"
     ]
    }
   ],
   "source": [
    "# for train\n",
    "train_dataset = tf.data.Dataset.from_tensor_slices((train_spec, train_label))\n",
    "train_dataset = train_dataset.map(one_hot_label)\n",
    "train_dataset = train_dataset.repeat().batch(batch_size=batch_size)\n",
    "print(train_dataset)\n",
    "\n",
    "# for test\n",
    "test_dataset = tf.data.Dataset.from_tensor_slices((test_spec, test_label))\n",
    "test_dataset = test_dataset.map(one_hot_label)\n",
    "test_dataset = test_dataset.batch(batch_size=batch_size)\n",
    "print(test_dataset)"
   ]
  },
  {
   "cell_type": "markdown",
   "metadata": {},
   "source": [
    "## 4-1. build model takes in spectrogram data : conv1d layer"
   ]
  },
  {
   "cell_type": "code",
   "execution_count": 27,
   "metadata": {},
   "outputs": [
    {
     "name": "stdout",
     "output_type": "stream",
     "text": [
      "Model: \"model\"\n",
      "_________________________________________________________________\n",
      "Layer (type)                 Output Shape              Param #   \n",
      "=================================================================\n",
      "input_1 (InputLayer)         [(None, 130, 126)]        0         \n",
      "_________________________________________________________________\n",
      "conv1d (Conv1D)              (None, 130, 32)           36320     \n",
      "_________________________________________________________________\n",
      "conv1d_1 (Conv1D)            (None, 130, 32)           9248      \n",
      "_________________________________________________________________\n",
      "max_pooling1d (MaxPooling1D) (None, 65, 32)            0         \n",
      "_________________________________________________________________\n",
      "conv1d_2 (Conv1D)            (None, 65, 64)            18496     \n",
      "_________________________________________________________________\n",
      "conv1d_3 (Conv1D)            (None, 65, 64)            36928     \n",
      "_________________________________________________________________\n",
      "max_pooling1d_1 (MaxPooling1 (None, 32, 64)            0         \n",
      "_________________________________________________________________\n",
      "conv1d_4 (Conv1D)            (None, 32, 128)           73856     \n",
      "_________________________________________________________________\n",
      "conv1d_5 (Conv1D)            (None, 32, 128)           147584    \n",
      "_________________________________________________________________\n",
      "conv1d_6 (Conv1D)            (None, 32, 128)           147584    \n",
      "_________________________________________________________________\n",
      "max_pooling1d_2 (MaxPooling1 (None, 16, 128)           0         \n",
      "_________________________________________________________________\n",
      "conv1d_7 (Conv1D)            (None, 16, 256)           295168    \n",
      "_________________________________________________________________\n",
      "conv1d_8 (Conv1D)            (None, 16, 256)           590080    \n",
      "_________________________________________________________________\n",
      "conv1d_9 (Conv1D)            (None, 16, 256)           590080    \n",
      "_________________________________________________________________\n",
      "max_pooling1d_3 (MaxPooling1 (None, 8, 256)            0         \n",
      "_________________________________________________________________\n",
      "dropout (Dropout)            (None, 8, 256)            0         \n",
      "_________________________________________________________________\n",
      "flatten (Flatten)            (None, 2048)              0         \n",
      "_________________________________________________________________\n",
      "dense (Dense)                (None, 256)               524544    \n",
      "_________________________________________________________________\n",
      "batch_normalization (BatchNo (None, 256)               1024      \n",
      "_________________________________________________________________\n",
      "activation (Activation)      (None, 256)               0         \n",
      "_________________________________________________________________\n",
      "dense_1 (Dense)              (None, 12)                3084      \n",
      "=================================================================\n",
      "Total params: 2,473,996\n",
      "Trainable params: 2,473,484\n",
      "Non-trainable params: 512\n",
      "_________________________________________________________________\n"
     ]
    }
   ],
   "source": [
    "input_tensor = layers.Input(shape=(130, 126))\n",
    "\n",
    "x = layers.Conv1D(32, 9, padding='same', activation='relu')(input_tensor)\n",
    "x = layers.Conv1D(32, 9, padding='same', activation='relu')(x)\n",
    "x = layers.MaxPool1D()(x)\n",
    "\n",
    "x = layers.Conv1D(64, 9, padding='same', activation='relu')(x)\n",
    "x = layers.Conv1D(64, 9, padding='same', activation='relu')(x)\n",
    "x = layers.MaxPool1D()(x)\n",
    "\n",
    "x = layers.Conv1D(128, 9, padding='same', activation='relu')(x)\n",
    "x = layers.Conv1D(128, 9, padding='same', activation='relu')(x)\n",
    "x = layers.Conv1D(128, 9, padding='same', activation='relu')(x)\n",
    "x = layers.MaxPool1D()(x)\n",
    "\n",
    "x = layers.Conv1D(256, 9, padding='same', activation='relu')(x)\n",
    "x = layers.Conv1D(256, 9, padding='same', activation='relu')(x)\n",
    "x = layers.Conv1D(256, 9, padding='same', activation='relu')(x)\n",
    "x = layers.MaxPool1D()(x)\n",
    "x = layers.Dropout(0.3)(x)\n",
    "\n",
    "x = layers.Flatten()(x)\n",
    "x = layers.Dense(256)(x)\n",
    "x = layers.BatchNormalization()(x)\n",
    "x = layers.Activation('relu')(x)\n",
    "\n",
    "output_tensor = layers.Dense(12)(x)\n",
    "\n",
    "model_spec = tf.keras.Model(input_tensor, output_tensor)\n",
    "\n",
    "model_spec.summary()"
   ]
  },
  {
   "cell_type": "code",
   "execution_count": 28,
   "metadata": {},
   "outputs": [],
   "source": [
    "optimizer=tf.keras.optimizers.Adam(1e-4)\n",
    "model_spec.compile(loss=tf.keras.losses.CategoricalCrossentropy(from_logits=True),\n",
    "             optimizer=optimizer,\n",
    "             metrics=['accuracy'])"
   ]
  },
  {
   "cell_type": "code",
   "execution_count": 29,
   "metadata": {},
   "outputs": [
    {
     "data": {
      "text/plain": [
       "'/home/ssac7/aiffel/speech_recognition/models/e5_spectogram_1d'"
      ]
     },
     "execution_count": 29,
     "metadata": {},
     "output_type": "execute_result"
    }
   ],
   "source": [
    "# assign save point directory\n",
    "checkpoint_dir = os.getenv('HOME')+'/aiffel/speech_recognition/models/e5_spectogram_1d'\n",
    "checkpoint_dir"
   ]
  },
  {
   "cell_type": "code",
   "execution_count": 30,
   "metadata": {},
   "outputs": [],
   "source": [
    "# callback to save weights with lowest validation loss\n",
    "cp_callback = tf.keras.callbacks.ModelCheckpoint(checkpoint_dir,\n",
    "                                                 save_weights_only=True,\n",
    "                                                 monitor='val_loss',\n",
    "                                                 mode='auto',\n",
    "                                                 save_best_only=True,\n",
    "                                                 verbose=1)"
   ]
  },
  {
   "cell_type": "code",
   "execution_count": 31,
   "metadata": {},
   "outputs": [
    {
     "name": "stdout",
     "output_type": "stream",
     "text": [
      "Epoch 1/10\n",
      "1423/1423 [==============================] - ETA: 0s - loss: 1.4364 - accuracy: 0.5087\n",
      "Epoch 00001: val_loss improved from inf to 0.88821, saving model to /home/ssac7/aiffel/speech_recognition/models/e5_spectogram_1d\n",
      "1423/1423 [==============================] - 11s 8ms/step - loss: 1.4364 - accuracy: 0.5087 - val_loss: 0.8882 - val_accuracy: 0.6920\n",
      "Epoch 2/10\n",
      "1417/1423 [============================>.] - ETA: 0s - loss: 0.7150 - accuracy: 0.7600\n",
      "Epoch 00002: val_loss improved from 0.88821 to 0.58565, saving model to /home/ssac7/aiffel/speech_recognition/models/e5_spectogram_1d\n",
      "1423/1423 [==============================] - 11s 7ms/step - loss: 0.7143 - accuracy: 0.7601 - val_loss: 0.5856 - val_accuracy: 0.8018\n",
      "Epoch 3/10\n",
      "1419/1423 [============================>.] - ETA: 0s - loss: 0.4712 - accuracy: 0.8428\n",
      "Epoch 00003: val_loss improved from 0.58565 to 0.44308, saving model to /home/ssac7/aiffel/speech_recognition/models/e5_spectogram_1d\n",
      "1423/1423 [==============================] - 10s 7ms/step - loss: 0.4711 - accuracy: 0.8427 - val_loss: 0.4431 - val_accuracy: 0.8550\n",
      "Epoch 4/10\n",
      "1417/1423 [============================>.] - ETA: 0s - loss: 0.3512 - accuracy: 0.8816\n",
      "Epoch 00004: val_loss improved from 0.44308 to 0.38342, saving model to /home/ssac7/aiffel/speech_recognition/models/e5_spectogram_1d\n",
      "1423/1423 [==============================] - 10s 7ms/step - loss: 0.3510 - accuracy: 0.8816 - val_loss: 0.3834 - val_accuracy: 0.8770\n",
      "Epoch 5/10\n",
      "1420/1423 [============================>.] - ETA: 0s - loss: 0.2701 - accuracy: 0.9106\n",
      "Epoch 00005: val_loss improved from 0.38342 to 0.35997, saving model to /home/ssac7/aiffel/speech_recognition/models/e5_spectogram_1d\n",
      "1423/1423 [==============================] - 10s 7ms/step - loss: 0.2700 - accuracy: 0.9106 - val_loss: 0.3600 - val_accuracy: 0.8833\n",
      "Epoch 6/10\n",
      "1423/1423 [==============================] - ETA: 0s - loss: 0.2140 - accuracy: 0.9283\n",
      "Epoch 00006: val_loss improved from 0.35997 to 0.35546, saving model to /home/ssac7/aiffel/speech_recognition/models/e5_spectogram_1d\n",
      "1423/1423 [==============================] - 11s 7ms/step - loss: 0.2140 - accuracy: 0.9283 - val_loss: 0.3555 - val_accuracy: 0.8873\n",
      "Epoch 7/10\n",
      "1420/1423 [============================>.] - ETA: 0s - loss: 0.1790 - accuracy: 0.9401\n",
      "Epoch 00007: val_loss did not improve from 0.35546\n",
      "1423/1423 [==============================] - 10s 7ms/step - loss: 0.1789 - accuracy: 0.9402 - val_loss: 0.3566 - val_accuracy: 0.8944\n",
      "Epoch 8/10\n",
      "1421/1423 [============================>.] - ETA: 0s - loss: 0.1559 - accuracy: 0.9490\n",
      "Epoch 00008: val_loss improved from 0.35546 to 0.30324, saving model to /home/ssac7/aiffel/speech_recognition/models/e5_spectogram_1d\n",
      "1423/1423 [==============================] - 10s 7ms/step - loss: 0.1560 - accuracy: 0.9489 - val_loss: 0.3032 - val_accuracy: 0.9098\n",
      "Epoch 9/10\n",
      "1416/1423 [============================>.] - ETA: 0s - loss: 0.1350 - accuracy: 0.9549\n",
      "Epoch 00009: val_loss did not improve from 0.30324\n",
      "1423/1423 [==============================] - 10s 7ms/step - loss: 0.1348 - accuracy: 0.9550 - val_loss: 0.3112 - val_accuracy: 0.9013\n",
      "Epoch 10/10\n",
      "1418/1423 [============================>.] - ETA: 0s - loss: 0.1235 - accuracy: 0.9582\n",
      "Epoch 00010: val_loss improved from 0.30324 to 0.24584, saving model to /home/ssac7/aiffel/speech_recognition/models/e5_spectogram_1d\n",
      "1423/1423 [==============================] - 10s 7ms/step - loss: 0.1235 - accuracy: 0.9582 - val_loss: 0.2458 - val_accuracy: 0.9256\n"
     ]
    }
   ],
   "source": [
    "history_spec = model_spec.fit(train_dataset, epochs=max_epochs,\n",
    "                    steps_per_epoch=len(train_spec) // batch_size,\n",
    "                    validation_data=test_dataset,\n",
    "                    validation_steps=len(test_spec) // batch_size,\n",
    "                    callbacks=[cp_callback]\n",
    "                    )"
   ]
  },
  {
   "cell_type": "code",
   "execution_count": 32,
   "metadata": {},
   "outputs": [
    {
     "data": {
      "image/png": "[encoded data removed]",
      "text/plain": [
       "<Figure size 576x576 with 2 Axes>"
      ]
     },
     "metadata": {
      "needs_background": "light"
     },
     "output_type": "display_data"
    }
   ],
   "source": [
    "# trainig porgress plot\n",
    "acc = history_spec.history['accuracy']\n",
    "val_acc = history_spec.history['val_accuracy']\n",
    "\n",
    "loss=history_spec.history['loss']\n",
    "val_loss=history_spec.history['val_loss']\n",
    "\n",
    "epochs_range = range(len(acc))\n",
    "\n",
    "plt.figure(figsize=(8, 8))\n",
    "plt.subplot(1, 2, 1)\n",
    "plt.plot(epochs_range, acc, label='Training Accuracy')\n",
    "plt.plot(epochs_range, val_acc, label='Validation Accuracy')\n",
    "plt.legend(loc='lower right')\n",
    "plt.title('Training and Validation Accuracy')\n",
    "\n",
    "plt.subplot(1, 2, 2)\n",
    "plt.plot(epochs_range, loss, label='Training Loss')\n",
    "plt.plot(epochs_range, val_loss, label='Validation Loss')\n",
    "plt.legend(loc='upper right')\n",
    "plt.title('Training and Validation Loss')\n",
    "plt.show()"
   ]
  },
  {
   "cell_type": "code",
   "execution_count": 33,
   "metadata": {},
   "outputs": [
    {
     "name": "stdout",
     "output_type": "stream",
     "text": [
      "159/159 [==============================] - 27s 170ms/step - loss: 0.2455 - accuracy: 0.9257\n",
      "loss value: 0.246\n",
      "accuracy value: 92.5721\n"
     ]
    }
   ],
   "source": [
    "# evalueate model with test dataset\n",
    "model_spec.load_weights(checkpoint_dir)\n",
    "results = model_spec.evaluate(test_dataset)\n",
    "# loss\n",
    "print(f\"loss value: {results[0]:.3f}\")\n",
    "# accuracy\n",
    "print(f\"accuracy value: {results[1]*100:.4f}\")"
   ]
  },
  {
   "cell_type": "markdown",
   "metadata": {},
   "source": []
  },
  {
   "cell_type": "code",
   "execution_count": 34,
   "metadata": {},
   "outputs": [],
   "source": [
    "inv_label_value = {v: k for k, v in label_value.items()}"
   ]
  },
  {
   "cell_type": "code",
   "execution_count": 35,
   "metadata": {},
   "outputs": [
    {
     "name": "stdout",
     "output_type": "stream",
     "text": [
      "label :  unknown\n",
      "prediction : unknown\n"
     ]
    }
   ],
   "source": [
    "batch_index = np.random.choice(len(test_spec), size=1, replace=False)\n",
    "\n",
    "batch_xs = test_spec[batch_index]\n",
    "batch_ys = test_label[batch_index]\n",
    "y_pred_ = model_spec(batch_xs, training=False)\n",
    "\n",
    "print(\"label : \", str(inv_label_value[batch_ys[0]]))\n",
    "print(f'prediction : {inv_label_value[np.argmax(y_pred_)]}')"
   ]
  },
  {
   "cell_type": "markdown",
   "metadata": {},
   "source": [
    "---"
   ]
  },
  {
   "cell_type": "markdown",
   "metadata": {},
   "source": [
    "## 4-2 build model takes in spectogram data : conv2d"
   ]
  },
  {
   "cell_type": "code",
   "execution_count": 36,
   "metadata": {},
   "outputs": [
    {
     "name": "stdout",
     "output_type": "stream",
     "text": [
      "Model: \"model_1\"\n",
      "_________________________________________________________________\n",
      "Layer (type)                 Output Shape              Param #   \n",
      "=================================================================\n",
      "input_2 (InputLayer)         [(None, 130, 126, 1)]     0         \n",
      "_________________________________________________________________\n",
      "conv2d (Conv2D)              (None, 130, 126, 32)      832       \n",
      "_________________________________________________________________\n",
      "max_pooling2d (MaxPooling2D) (None, 65, 63, 32)        0         \n",
      "_________________________________________________________________\n",
      "conv2d_1 (Conv2D)            (None, 65, 63, 64)        51264     \n",
      "_________________________________________________________________\n",
      "max_pooling2d_1 (MaxPooling2 (None, 32, 31, 64)        0         \n",
      "_________________________________________________________________\n",
      "conv2d_2 (Conv2D)            (None, 32, 31, 128)       73856     \n",
      "_________________________________________________________________\n",
      "conv2d_3 (Conv2D)            (None, 32, 31, 128)       147584    \n",
      "_________________________________________________________________\n",
      "max_pooling2d_2 (MaxPooling2 (None, 16, 15, 128)       0         \n",
      "_________________________________________________________________\n",
      "conv2d_4 (Conv2D)            (None, 16, 15, 326)       375878    \n",
      "_________________________________________________________________\n",
      "conv2d_5 (Conv2D)            (None, 16, 15, 326)       956810    \n",
      "_________________________________________________________________\n",
      "max_pooling2d_3 (MaxPooling2 (None, 8, 7, 326)         0         \n",
      "_________________________________________________________________\n",
      "dropout_1 (Dropout)          (None, 8, 7, 326)         0         \n",
      "_________________________________________________________________\n",
      "flatten_1 (Flatten)          (None, 18256)             0         \n",
      "_________________________________________________________________\n",
      "dense_2 (Dense)              (None, 256)               4673792   \n",
      "_________________________________________________________________\n",
      "batch_normalization_1 (Batch (None, 256)               1024      \n",
      "_________________________________________________________________\n",
      "activation_1 (Activation)    (None, 256)               0         \n",
      "_________________________________________________________________\n",
      "dense_3 (Dense)              (None, 12)                3084      \n",
      "=================================================================\n",
      "Total params: 6,284,124\n",
      "Trainable params: 6,283,612\n",
      "Non-trainable params: 512\n",
      "_________________________________________________________________\n"
     ]
    }
   ],
   "source": [
    "input_tensor = layers.Input(shape=(130, 126, 1)) # spectrogram image size shape\n",
    "\n",
    "x = layers.Conv2D(32, (5,5), padding='same', activation='relu')(input_tensor) # smae padding, 32 conv2d filter size 5x5\n",
    "x = layers.MaxPool2D()(x)\n",
    "\n",
    "x = layers.Conv2D(64, (5,5), padding='same', activation='relu')(x)\n",
    "x = layers.MaxPool2D()(x)\n",
    "\n",
    "x = layers.Conv2D(128, (3,3), padding='same', activation='relu')(x)\n",
    "x = layers.Conv2D(128, (3,3), padding='same', activation='relu')(x)\n",
    "x = layers.MaxPool2D()(x)\n",
    "\n",
    "x = layers.Conv2D(326, (3,3), padding='same', activation='relu')(x)\n",
    "x = layers.Conv2D(326, (3,3), padding='same', activation='relu')(x)\n",
    "x = layers.MaxPool2D()(x)\n",
    "x = layers.Dropout(0.3)(x)\n",
    "\n",
    "x = layers.Flatten()(x)\n",
    "x = layers.Dense(256)(x)\n",
    "x = layers.BatchNormalization()(x)\n",
    "x = layers.Activation('relu')(x)\n",
    "\n",
    "output_tensor = layers.Dense(12)(x)\n",
    "\n",
    "model_spec = tf.keras.Model(input_tensor, output_tensor)\n",
    "\n",
    "model_spec.summary()"
   ]
  },
  {
   "cell_type": "code",
   "execution_count": 37,
   "metadata": {},
   "outputs": [],
   "source": [
    "optimizer=tf.keras.optimizers.Adam(1e-4)\n",
    "model_spec.compile(loss=tf.keras.losses.CategoricalCrossentropy(from_logits=True),\n",
    "             optimizer=optimizer,\n",
    "             metrics=['accuracy'])"
   ]
  },
  {
   "cell_type": "code",
   "execution_count": 38,
   "metadata": {},
   "outputs": [
    {
     "data": {
      "text/plain": [
       "'/home/ssac7/aiffel/speech_recognition/models/e5_spectogram_2d'"
      ]
     },
     "execution_count": 38,
     "metadata": {},
     "output_type": "execute_result"
    }
   ],
   "source": [
    "# assign save point directory\n",
    "checkpoint_dir = os.getenv('HOME')+'/aiffel/speech_recognition/models/e5_spectogram_2d'\n",
    "checkpoint_dir"
   ]
  },
  {
   "cell_type": "code",
   "execution_count": 39,
   "metadata": {},
   "outputs": [],
   "source": [
    "# callback to save weights with lowest validation loss\n",
    "cp_callback = tf.keras.callbacks.ModelCheckpoint(checkpoint_dir,\n",
    "                                                 save_weights_only=True,\n",
    "                                                 monitor='val_loss',\n",
    "                                                 mode='auto',\n",
    "                                                 save_best_only=True,\n",
    "                                                 verbose=1)"
   ]
  },
  {
   "cell_type": "code",
   "execution_count": 40,
   "metadata": {},
   "outputs": [
    {
     "name": "stdout",
     "output_type": "stream",
     "text": [
      "Epoch 1/10\n",
      "1423/1423 [==============================] - ETA: 0s - loss: 0.8203 - accuracy: 0.7418\n",
      "Epoch 00001: val_loss improved from inf to 0.34943, saving model to /home/ssac7/aiffel/speech_recognition/models/e5_spectogram_2d\n",
      "1423/1423 [==============================] - 40s 28ms/step - loss: 0.8203 - accuracy: 0.7418 - val_loss: 0.3494 - val_accuracy: 0.8849\n",
      "Epoch 2/10\n",
      "1423/1423 [==============================] - ETA: 0s - loss: 0.2951 - accuracy: 0.9099\n",
      "Epoch 00002: val_loss improved from 0.34943 to 0.22298, saving model to /home/ssac7/aiffel/speech_recognition/models/e5_spectogram_2d\n",
      "1423/1423 [==============================] - 40s 28ms/step - loss: 0.2951 - accuracy: 0.9099 - val_loss: 0.2230 - val_accuracy: 0.9258\n",
      "Epoch 3/10\n",
      "1423/1423 [==============================] - ETA: 0s - loss: 0.1884 - accuracy: 0.9433\n",
      "Epoch 00003: val_loss improved from 0.22298 to 0.17208, saving model to /home/ssac7/aiffel/speech_recognition/models/e5_spectogram_2d\n",
      "1423/1423 [==============================] - 41s 29ms/step - loss: 0.1884 - accuracy: 0.9433 - val_loss: 0.1721 - val_accuracy: 0.9434\n",
      "Epoch 4/10\n",
      "1423/1423 [==============================] - ETA: 0s - loss: 0.1320 - accuracy: 0.9619\n",
      "Epoch 00004: val_loss improved from 0.17208 to 0.16032, saving model to /home/ssac7/aiffel/speech_recognition/models/e5_spectogram_2d\n",
      "1423/1423 [==============================] - 40s 28ms/step - loss: 0.1320 - accuracy: 0.9619 - val_loss: 0.1603 - val_accuracy: 0.9454\n",
      "Epoch 5/10\n",
      "1423/1423 [==============================] - ETA: 0s - loss: 0.1022 - accuracy: 0.9697\n",
      "Epoch 00005: val_loss improved from 0.16032 to 0.12452, saving model to /home/ssac7/aiffel/speech_recognition/models/e5_spectogram_2d\n",
      "1423/1423 [==============================] - 40s 28ms/step - loss: 0.1022 - accuracy: 0.9697 - val_loss: 0.1245 - val_accuracy: 0.9583\n",
      "Epoch 6/10\n",
      "1423/1423 [==============================] - ETA: 0s - loss: 0.0829 - accuracy: 0.9751\n",
      "Epoch 00006: val_loss improved from 0.12452 to 0.11639, saving model to /home/ssac7/aiffel/speech_recognition/models/e5_spectogram_2d\n",
      "1423/1423 [==============================] - 39s 27ms/step - loss: 0.0829 - accuracy: 0.9751 - val_loss: 0.1164 - val_accuracy: 0.9626\n",
      "Epoch 7/10\n",
      "1422/1423 [============================>.] - ETA: 0s - loss: 0.0669 - accuracy: 0.9802\n",
      "Epoch 00007: val_loss improved from 0.11639 to 0.11281, saving model to /home/ssac7/aiffel/speech_recognition/models/e5_spectogram_2d\n",
      "1423/1423 [==============================] - 40s 28ms/step - loss: 0.0669 - accuracy: 0.9802 - val_loss: 0.1128 - val_accuracy: 0.9630\n",
      "Epoch 8/10\n",
      "1423/1423 [==============================] - ETA: 0s - loss: 0.0596 - accuracy: 0.9822\n",
      "Epoch 00008: val_loss improved from 0.11281 to 0.11047, saving model to /home/ssac7/aiffel/speech_recognition/models/e5_spectogram_2d\n",
      "1423/1423 [==============================] - 40s 28ms/step - loss: 0.0596 - accuracy: 0.9822 - val_loss: 0.1105 - val_accuracy: 0.9642\n",
      "Epoch 9/10\n",
      "1423/1423 [==============================] - ETA: 0s - loss: 0.0515 - accuracy: 0.9847\n",
      "Epoch 00009: val_loss improved from 0.11047 to 0.10028, saving model to /home/ssac7/aiffel/speech_recognition/models/e5_spectogram_2d\n",
      "1423/1423 [==============================] - 40s 28ms/step - loss: 0.0515 - accuracy: 0.9847 - val_loss: 0.1003 - val_accuracy: 0.9662\n",
      "Epoch 10/10\n",
      "1423/1423 [==============================] - ETA: 0s - loss: 0.0416 - accuracy: 0.9881\n",
      "Epoch 00010: val_loss did not improve from 0.10028\n",
      "1423/1423 [==============================] - 40s 28ms/step - loss: 0.0416 - accuracy: 0.9881 - val_loss: 0.1075 - val_accuracy: 0.9662\n"
     ]
    }
   ],
   "source": [
    "history_spec = model_spec.fit(train_dataset, epochs=max_epochs,\n",
    "                    steps_per_epoch=len(train_spec) // batch_size,\n",
    "                    validation_data=test_dataset,\n",
    "                    validation_steps=len(test_spec) // batch_size,\n",
    "                    callbacks=[cp_callback]\n",
    "                    )"
   ]
  },
  {
   "cell_type": "code",
   "execution_count": 41,
   "metadata": {},
   "outputs": [
    {
     "data": {
      "image/png": "[encoded data removed]",
      "text/plain": [
       "<Figure size 576x576 with 2 Axes>"
      ]
     },
     "metadata": {
      "needs_background": "light"
     },
     "output_type": "display_data"
    }
   ],
   "source": [
    "# trainig porgress plot\n",
    "acc = history_spec.history['accuracy']\n",
    "val_acc = history_spec.history['val_accuracy']\n",
    "\n",
    "loss=history_spec.history['loss']\n",
    "val_loss=history_spec.history['val_loss']\n",
    "\n",
    "epochs_range = range(len(acc))\n",
    "\n",
    "plt.figure(figsize=(8, 8))\n",
    "plt.subplot(1, 2, 1)\n",
    "plt.plot(epochs_range, acc, label='Training Accuracy')\n",
    "plt.plot(epochs_range, val_acc, label='Validation Accuracy')\n",
    "plt.legend(loc='lower right')\n",
    "plt.title('Training and Validation Accuracy')\n",
    "\n",
    "plt.subplot(1, 2, 2)\n",
    "plt.plot(epochs_range, loss, label='Training Loss')\n",
    "plt.plot(epochs_range, val_loss, label='Validation Loss')\n",
    "plt.legend(loc='upper right')\n",
    "plt.title('Training and Validation Loss')\n",
    "plt.show()"
   ]
  },
  {
   "cell_type": "code",
   "execution_count": 42,
   "metadata": {},
   "outputs": [
    {
     "name": "stdout",
     "output_type": "stream",
     "text": [
      "159/159 [==============================] - 29s 180ms/step - loss: 0.1002 - accuracy: 0.9662\n",
      "loss value: 0.100\n",
      "accuracy value: 96.6219\n"
     ]
    }
   ],
   "source": [
    "# evalueate trained model with test dataset\n",
    "model_spec.load_weights(checkpoint_dir)\n",
    "results = model_spec.evaluate(test_dataset)\n",
    "# loss\n",
    "print(f\"loss value: {results[0]:.3f}\")\n",
    "# accuracy\n",
    "print(f\"accuracy value: {results[1]*100:.4f}\")"
   ]
  },
  {
   "cell_type": "markdown",
   "metadata": {},
   "source": [
    "+ number of the parameters of the second model is more than doubled fromt the first.\n",
    "+ second shows better accuracy in test set."
   ]
  },
  {
   "cell_type": "code",
   "execution_count": 43,
   "metadata": {},
   "outputs": [],
   "source": [
    "inv_label_value = {v: k for k, v in label_value.items()}"
   ]
  },
  {
   "cell_type": "code",
   "execution_count": 44,
   "metadata": {},
   "outputs": [
    {
     "name": "stdout",
     "output_type": "stream",
     "text": [
      "label :  off\n",
      "prediction : off\n"
     ]
    }
   ],
   "source": [
    "batch_index = np.random.choice(len(test_spec), size=1, replace=False)\n",
    "\n",
    "batch_xs = test_spec[batch_index]\n",
    "batch_ys = test_label[batch_index]\n",
    "y_pred_ = model_spec(batch_xs, training=False)\n",
    "\n",
    "print(\"label : \", str(inv_label_value[batch_ys[0]]))\n",
    "print(f'prediction : {inv_label_value[np.argmax(y_pred_)]}')"
   ]
  },
  {
   "cell_type": "markdown",
   "metadata": {},
   "source": [
    "---"
   ]
  },
  {
   "cell_type": "markdown",
   "metadata": {},
   "source": [
    "## 4-2 build model takes in spectogram data : conv2d with skip connection"
   ]
  },
  {
   "cell_type": "code",
   "execution_count": 46,
   "metadata": {},
   "outputs": [
    {
     "name": "stdout",
     "output_type": "stream",
     "text": [
      "Model: \"model_2\"\n",
      "__________________________________________________________________________________________________\n",
      "Layer (type)                    Output Shape         Param #     Connected to                     \n",
      "==================================================================================================\n",
      "input_4 (InputLayer)            [(None, 130, 126, 1) 0                                            \n",
      "__________________________________________________________________________________________________\n",
      "conv2d_8 (Conv2D)               (None, 130, 126, 32) 832         input_4[0][0]                    \n",
      "__________________________________________________________________________________________________\n",
      "max_pooling2d_5 (MaxPooling2D)  (None, 65, 63, 32)   0           conv2d_8[0][0]                   \n",
      "__________________________________________________________________________________________________\n",
      "conv2d_9 (Conv2D)               (None, 65, 63, 64)   51264       max_pooling2d_5[0][0]            \n",
      "__________________________________________________________________________________________________\n",
      "tf_op_layer_concat_1 (TensorFlo [(None, 65, 63, 96)] 0           conv2d_9[0][0]                   \n",
      "                                                                 max_pooling2d_5[0][0]            \n",
      "__________________________________________________________________________________________________\n",
      "max_pooling2d_6 (MaxPooling2D)  (None, 32, 31, 96)   0           tf_op_layer_concat_1[0][0]       \n",
      "__________________________________________________________________________________________________\n",
      "conv2d_10 (Conv2D)              (None, 32, 31, 128)  110720      max_pooling2d_6[0][0]            \n",
      "__________________________________________________________________________________________________\n",
      "conv2d_11 (Conv2D)              (None, 32, 31, 128)  147584      conv2d_10[0][0]                  \n",
      "__________________________________________________________________________________________________\n",
      "tf_op_layer_concat_2 (TensorFlo [(None, 32, 31, 224) 0           conv2d_11[0][0]                  \n",
      "                                                                 max_pooling2d_6[0][0]            \n",
      "__________________________________________________________________________________________________\n",
      "max_pooling2d_7 (MaxPooling2D)  (None, 16, 15, 224)  0           tf_op_layer_concat_2[0][0]       \n",
      "__________________________________________________________________________________________________\n",
      "conv2d_12 (Conv2D)              (None, 16, 15, 326)  657542      max_pooling2d_7[0][0]            \n",
      "__________________________________________________________________________________________________\n",
      "conv2d_13 (Conv2D)              (None, 16, 15, 326)  956810      conv2d_12[0][0]                  \n",
      "__________________________________________________________________________________________________\n",
      "tf_op_layer_concat_3 (TensorFlo [(None, 16, 15, 550) 0           conv2d_13[0][0]                  \n",
      "                                                                 max_pooling2d_7[0][0]            \n",
      "__________________________________________________________________________________________________\n",
      "max_pooling2d_8 (MaxPooling2D)  (None, 8, 7, 550)    0           tf_op_layer_concat_3[0][0]       \n",
      "__________________________________________________________________________________________________\n",
      "dropout_2 (Dropout)             (None, 8, 7, 550)    0           max_pooling2d_8[0][0]            \n",
      "__________________________________________________________________________________________________\n",
      "flatten_2 (Flatten)             (None, 30800)        0           dropout_2[0][0]                  \n",
      "__________________________________________________________________________________________________\n",
      "dense_4 (Dense)                 (None, 256)          7885056     flatten_2[0][0]                  \n",
      "__________________________________________________________________________________________________\n",
      "batch_normalization_2 (BatchNor (None, 256)          1024        dense_4[0][0]                    \n",
      "__________________________________________________________________________________________________\n",
      "activation_2 (Activation)       (None, 256)          0           batch_normalization_2[0][0]      \n",
      "__________________________________________________________________________________________________\n",
      "dense_5 (Dense)                 (None, 12)           3084        activation_2[0][0]               \n",
      "==================================================================================================\n",
      "Total params: 9,813,916\n",
      "Trainable params: 9,813,404\n",
      "Non-trainable params: 512\n",
      "__________________________________________________________________________________________________\n"
     ]
    }
   ],
   "source": [
    "input_tensor = layers.Input(shape=(130, 126, 1)) # spectrogram image size shape\n",
    "\n",
    "x = layers.Conv2D(32, (5,5), padding='same', activation='relu')(input_tensor) # smae padding, 32 conv2d filter size 5x5\n",
    "skip_1 = layers.MaxPool2D()(x)\n",
    "\n",
    "x = layers.Conv2D(64, (5,5), padding='same', activation='relu')(skip_1) # takes skip_1 layer output as input\n",
    "x = tf.concat([x, skip_1], -1)\n",
    "skip_2 = layers.MaxPool2D()(x)\n",
    "\n",
    "x = layers.Conv2D(128, (3,3), padding='same', activation='relu')(skip_2)\n",
    "x = layers.Conv2D(128, (3,3), padding='same', activation='relu')(x)\n",
    "x = tf.concat([x, skip_2], -1)\n",
    "skip_3 = layers.MaxPool2D()(x)\n",
    "\n",
    "x = layers.Conv2D(326, (3,3), padding='same', activation='relu')(skip_3)\n",
    "x = layers.Conv2D(326, (3,3), padding='same', activation='relu')(x)\n",
    "x = tf.concat([x, skip_3], -1)\n",
    "x = layers.MaxPool2D()(x)\n",
    "x = layers.Dropout(0.3)(x)\n",
    "\n",
    "x = layers.Flatten()(x)\n",
    "x = layers.Dense(256)(x)\n",
    "x = layers.BatchNormalization()(x)\n",
    "x = layers.Activation('relu')(x)\n",
    "\n",
    "output_tensor = layers.Dense(12)(x)\n",
    "\n",
    "model_spec = tf.keras.Model(input_tensor, output_tensor)\n",
    "\n",
    "model_spec.summary()"
   ]
  },
  {
   "cell_type": "code",
   "execution_count": 47,
   "metadata": {},
   "outputs": [],
   "source": [
    "optimizer=tf.keras.optimizers.Adam(1e-4)\n",
    "model_spec.compile(loss=tf.keras.losses.CategoricalCrossentropy(from_logits=True),\n",
    "             optimizer=optimizer,\n",
    "             metrics=['accuracy'])"
   ]
  },
  {
   "cell_type": "code",
   "execution_count": 48,
   "metadata": {},
   "outputs": [
    {
     "data": {
      "text/plain": [
       "'/home/ssac7/aiffel/speech_recognition/models/e5_spectogram_2d_skip'"
      ]
     },
     "execution_count": 48,
     "metadata": {},
     "output_type": "execute_result"
    }
   ],
   "source": [
    "# assign save point directory\n",
    "checkpoint_dir = os.getenv('HOME')+'/aiffel/speech_recognition/models/e5_spectogram_2d_skip'\n",
    "checkpoint_dir"
   ]
  },
  {
   "cell_type": "code",
   "execution_count": 49,
   "metadata": {},
   "outputs": [],
   "source": [
    "# callback to save weights with lowest validation loss\n",
    "cp_callback = tf.keras.callbacks.ModelCheckpoint(checkpoint_dir,\n",
    "                                                 save_weights_only=True,\n",
    "                                                 monitor='val_loss',\n",
    "                                                 mode='auto',\n",
    "                                                 save_best_only=True,\n",
    "                                                 verbose=1)"
   ]
  },
  {
   "cell_type": "code",
   "execution_count": 50,
   "metadata": {},
   "outputs": [
    {
     "name": "stdout",
     "output_type": "stream",
     "text": [
      "Epoch 1/10\n",
      "1423/1423 [==============================] - ETA: 0s - loss: 0.8931 - accuracy: 0.7190\n",
      "Epoch 00001: val_loss improved from inf to 0.40673, saving model to /home/ssac7/aiffel/speech_recognition/models/e5_spectogram_2d_skip\n",
      "1423/1423 [==============================] - 47s 33ms/step - loss: 0.8931 - accuracy: 0.7190 - val_loss: 0.4067 - val_accuracy: 0.8693\n",
      "Epoch 2/10\n",
      "1423/1423 [==============================] - ETA: 0s - loss: 0.3218 - accuracy: 0.9011\n",
      "Epoch 00002: val_loss improved from 0.40673 to 0.24761, saving model to /home/ssac7/aiffel/speech_recognition/models/e5_spectogram_2d_skip\n",
      "1423/1423 [==============================] - 47s 33ms/step - loss: 0.3218 - accuracy: 0.9011 - val_loss: 0.2476 - val_accuracy: 0.9244\n",
      "Epoch 3/10\n",
      "1423/1423 [==============================] - ETA: 0s - loss: 0.2070 - accuracy: 0.9374\n",
      "Epoch 00003: val_loss improved from 0.24761 to 0.19853, saving model to /home/ssac7/aiffel/speech_recognition/models/e5_spectogram_2d_skip\n",
      "1423/1423 [==============================] - 47s 33ms/step - loss: 0.2070 - accuracy: 0.9374 - val_loss: 0.1985 - val_accuracy: 0.9389\n",
      "Epoch 4/10\n",
      "1423/1423 [==============================] - ETA: 0s - loss: 0.1495 - accuracy: 0.9568\n",
      "Epoch 00004: val_loss improved from 0.19853 to 0.16004, saving model to /home/ssac7/aiffel/speech_recognition/models/e5_spectogram_2d_skip\n",
      "1423/1423 [==============================] - 47s 33ms/step - loss: 0.1495 - accuracy: 0.9568 - val_loss: 0.1600 - val_accuracy: 0.9450\n",
      "Epoch 5/10\n",
      "1423/1423 [==============================] - ETA: 0s - loss: 0.1166 - accuracy: 0.9657\n",
      "Epoch 00005: val_loss improved from 0.16004 to 0.13785, saving model to /home/ssac7/aiffel/speech_recognition/models/e5_spectogram_2d_skip\n",
      "1423/1423 [==============================] - 47s 33ms/step - loss: 0.1166 - accuracy: 0.9657 - val_loss: 0.1378 - val_accuracy: 0.9527\n",
      "Epoch 6/10\n",
      "1423/1423 [==============================] - ETA: 0s - loss: 0.0901 - accuracy: 0.9747\n",
      "Epoch 00006: val_loss improved from 0.13785 to 0.12181, saving model to /home/ssac7/aiffel/speech_recognition/models/e5_spectogram_2d_skip\n",
      "1423/1423 [==============================] - 48s 34ms/step - loss: 0.0901 - accuracy: 0.9747 - val_loss: 0.1218 - val_accuracy: 0.9598\n",
      "Epoch 7/10\n",
      "1423/1423 [==============================] - ETA: 0s - loss: 0.0738 - accuracy: 0.9790\n",
      "Epoch 00007: val_loss improved from 0.12181 to 0.11363, saving model to /home/ssac7/aiffel/speech_recognition/models/e5_spectogram_2d_skip\n",
      "1423/1423 [==============================] - 48s 34ms/step - loss: 0.0738 - accuracy: 0.9790 - val_loss: 0.1136 - val_accuracy: 0.9608\n",
      "Epoch 8/10\n",
      "1423/1423 [==============================] - ETA: 0s - loss: 0.0629 - accuracy: 0.9824\n",
      "Epoch 00008: val_loss improved from 0.11363 to 0.10377, saving model to /home/ssac7/aiffel/speech_recognition/models/e5_spectogram_2d_skip\n",
      "1423/1423 [==============================] - 47s 33ms/step - loss: 0.0629 - accuracy: 0.9824 - val_loss: 0.1038 - val_accuracy: 0.9652\n",
      "Epoch 9/10\n",
      "1423/1423 [==============================] - ETA: 0s - loss: 0.0565 - accuracy: 0.9837\n",
      "Epoch 00009: val_loss did not improve from 0.10377\n",
      "1423/1423 [==============================] - 47s 33ms/step - loss: 0.0565 - accuracy: 0.9837 - val_loss: 0.1127 - val_accuracy: 0.9632\n",
      "Epoch 10/10\n",
      "1423/1423 [==============================] - ETA: 0s - loss: 0.0457 - accuracy: 0.9868\n",
      "Epoch 00010: val_loss did not improve from 0.10377\n",
      "1423/1423 [==============================] - 47s 33ms/step - loss: 0.0457 - accuracy: 0.9868 - val_loss: 0.1119 - val_accuracy: 0.9622\n"
     ]
    }
   ],
   "source": [
    "history_spec = model_spec.fit(train_dataset, epochs=max_epochs,\n",
    "                    steps_per_epoch=len(train_spec) // batch_size,\n",
    "                    validation_data=test_dataset,\n",
    "                    validation_steps=len(test_spec) // batch_size,\n",
    "                    callbacks=[cp_callback]\n",
    "                    )"
   ]
  },
  {
   "cell_type": "code",
   "execution_count": 51,
   "metadata": {},
   "outputs": [
    {
     "data": {
      "image/png": "[encoded data removed]",
      "text/plain": [
       "<Figure size 576x576 with 2 Axes>"
      ]
     },
     "metadata": {
      "needs_background": "light"
     },
     "output_type": "display_data"
    }
   ],
   "source": [
    "# trainig progress plot\n",
    "acc = history_spec.history['accuracy']\n",
    "val_acc = history_spec.history['val_accuracy']\n",
    "\n",
    "loss=history_spec.history['loss']\n",
    "val_loss=history_spec.history['val_loss']\n",
    "\n",
    "epochs_range = range(len(acc))\n",
    "\n",
    "plt.figure(figsize=(8, 8))\n",
    "plt.subplot(1, 2, 1)\n",
    "plt.plot(epochs_range, acc, label='Training Accuracy')\n",
    "plt.plot(epochs_range, val_acc, label='Validation Accuracy')\n",
    "plt.legend(loc='lower right')\n",
    "plt.title('Training and Validation Accuracy')\n",
    "\n",
    "plt.subplot(1, 2, 2)\n",
    "plt.plot(epochs_range, loss, label='Training Loss')\n",
    "plt.plot(epochs_range, val_loss, label='Validation Loss')\n",
    "plt.legend(loc='upper right')\n",
    "plt.title('Training and Validation Loss')\n",
    "plt.show()"
   ]
  },
  {
   "cell_type": "code",
   "execution_count": 52,
   "metadata": {},
   "outputs": [
    {
     "name": "stdout",
     "output_type": "stream",
     "text": [
      "159/159 [==============================] - 12s 73ms/step - loss: 0.1036 - accuracy: 0.9652\n",
      "loss value: 0.104\n",
      "accuracy value: 96.5231\n"
     ]
    }
   ],
   "source": [
    "# evalueate trained model with test dataset\n",
    "model_spec.load_weights(checkpoint_dir)\n",
    "results = model_spec.evaluate(test_dataset)\n",
    "# loss\n",
    "print(f\"loss value: {results[0]:.3f}\")\n",
    "# accuracy\n",
    "print(f\"accuracy value: {results[1]*100:.4f}\")"
   ]
  },
  {
   "cell_type": "markdown",
   "metadata": {},
   "source": [
    "+ conv2d with skip connection has more paramters than 2nd model and yet shows lower accuracy in test dataset.\n",
    "   + 2nd model does not seem to be overfitted; skip connection may not be affective here.\n",
    "   + rather 3rd model shows hint of rise in validation loss as training epoch advances."
   ]
  },
  {
   "cell_type": "code",
   "execution_count": 53,
   "metadata": {},
   "outputs": [
    {
     "name": "stdout",
     "output_type": "stream",
     "text": [
      "label :  on\n",
      "prediction : on\n"
     ]
    }
   ],
   "source": [
    "batch_index = np.random.choice(len(test_spec), size=1, replace=False)\n",
    "\n",
    "batch_xs = test_spec[batch_index]\n",
    "batch_ys = test_label[batch_index]\n",
    "y_pred_ = model_spec(batch_xs, training=False)\n",
    "\n",
    "print(\"label : \", str(inv_label_value[batch_ys[0]]))\n",
    "print(f'prediction : {inv_label_value[np.argmax(y_pred_)]}')"
   ]
  },
  {
   "cell_type": "markdown",
   "metadata": {},
   "source": [
    "---"
   ]
  }
 ],
 "metadata": {
  "kernelspec": {
   "display_name": "aiffel",
   "language": "python",
   "name": "aiffel"
  },
  "language_info": {
   "codemirror_mode": {
    "name": "ipython",
    "version": 3
   },
   "file_extension": ".py",
   "mimetype": "text/x-python",
   "name": "python",
   "nbconvert_exporter": "python",
   "pygments_lexer": "ipython3",
   "version": "3.7.9"
  }
 },
 "nbformat": 4,
 "nbformat_minor": 4
}
