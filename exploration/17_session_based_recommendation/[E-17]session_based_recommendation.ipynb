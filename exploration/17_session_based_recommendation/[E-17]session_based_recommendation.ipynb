{
 "cells": [
  {
   "cell_type": "markdown",
   "metadata": {},
   "source": [
    "# SSAC - Exploration 17 - Session Based Recommendation\n",
    "---\n",
    "Movielens 1M Dataset을 기반으로, Session based Recommendation 시스템을 제작.\n",
    "\n",
    "## 데이터 셋 불러오기"
   ]
  },
  {
   "cell_type": "code",
   "execution_count": 1,
   "metadata": {},
   "outputs": [],
   "source": [
    "import datetime as dt\n",
    "from pathlib import Path\n",
    "import os\n",
    "from datetime import datetime\n",
    "import matplotlib.pyplot as plt\n",
    "\n",
    "import numpy as np\n",
    "import pandas as pd\n",
    "import warnings\n",
    "warnings.filterwarnings('ignore')"
   ]
  },
  {
   "cell_type": "code",
   "execution_count": 2,
   "metadata": {},
   "outputs": [
    {
     "data": {
      "text/html": [
       "<div>\n",
       "<style scoped>\n",
       "    .dataframe tbody tr th:only-of-type {\n",
       "        vertical-align: middle;\n",
       "    }\n",
       "\n",
       "    .dataframe tbody tr th {\n",
       "        vertical-align: top;\n",
       "    }\n",
       "\n",
       "    .dataframe thead th {\n",
       "        text-align: right;\n",
       "    }\n",
       "</style>\n",
       "<table border=\"1\" class=\"dataframe\">\n",
       "  <thead>\n",
       "    <tr style=\"text-align: right;\">\n",
       "      <th></th>\n",
       "      <th>UserId</th>\n",
       "      <th>ItemId</th>\n",
       "      <th>Rating</th>\n",
       "      <th>Time</th>\n",
       "    </tr>\n",
       "  </thead>\n",
       "  <tbody>\n",
       "    <tr>\n",
       "      <th>31</th>\n",
       "      <td>1</td>\n",
       "      <td>3186</td>\n",
       "      <td>4</td>\n",
       "      <td>978300019</td>\n",
       "    </tr>\n",
       "    <tr>\n",
       "      <th>22</th>\n",
       "      <td>1</td>\n",
       "      <td>1270</td>\n",
       "      <td>5</td>\n",
       "      <td>978300055</td>\n",
       "    </tr>\n",
       "    <tr>\n",
       "      <th>27</th>\n",
       "      <td>1</td>\n",
       "      <td>1721</td>\n",
       "      <td>4</td>\n",
       "      <td>978300055</td>\n",
       "    </tr>\n",
       "    <tr>\n",
       "      <th>37</th>\n",
       "      <td>1</td>\n",
       "      <td>1022</td>\n",
       "      <td>5</td>\n",
       "      <td>978300055</td>\n",
       "    </tr>\n",
       "    <tr>\n",
       "      <th>24</th>\n",
       "      <td>1</td>\n",
       "      <td>2340</td>\n",
       "      <td>3</td>\n",
       "      <td>978300103</td>\n",
       "    </tr>\n",
       "    <tr>\n",
       "      <th>...</th>\n",
       "      <td>...</td>\n",
       "      <td>...</td>\n",
       "      <td>...</td>\n",
       "      <td>...</td>\n",
       "    </tr>\n",
       "    <tr>\n",
       "      <th>1000019</th>\n",
       "      <td>6040</td>\n",
       "      <td>2917</td>\n",
       "      <td>4</td>\n",
       "      <td>997454429</td>\n",
       "    </tr>\n",
       "    <tr>\n",
       "      <th>999988</th>\n",
       "      <td>6040</td>\n",
       "      <td>1921</td>\n",
       "      <td>4</td>\n",
       "      <td>997454464</td>\n",
       "    </tr>\n",
       "    <tr>\n",
       "      <th>1000172</th>\n",
       "      <td>6040</td>\n",
       "      <td>1784</td>\n",
       "      <td>3</td>\n",
       "      <td>997454464</td>\n",
       "    </tr>\n",
       "    <tr>\n",
       "      <th>1000167</th>\n",
       "      <td>6040</td>\n",
       "      <td>161</td>\n",
       "      <td>3</td>\n",
       "      <td>997454486</td>\n",
       "    </tr>\n",
       "    <tr>\n",
       "      <th>1000042</th>\n",
       "      <td>6040</td>\n",
       "      <td>1221</td>\n",
       "      <td>4</td>\n",
       "      <td>998315055</td>\n",
       "    </tr>\n",
       "  </tbody>\n",
       "</table>\n",
       "<p>1000209 rows × 4 columns</p>\n",
       "</div>"
      ],
      "text/plain": [
       "         UserId  ItemId  Rating       Time\n",
       "31            1    3186       4  978300019\n",
       "22            1    1270       5  978300055\n",
       "27            1    1721       4  978300055\n",
       "37            1    1022       5  978300055\n",
       "24            1    2340       3  978300103\n",
       "...         ...     ...     ...        ...\n",
       "1000019    6040    2917       4  997454429\n",
       "999988     6040    1921       4  997454464\n",
       "1000172    6040    1784       3  997454464\n",
       "1000167    6040     161       3  997454486\n",
       "1000042    6040    1221       4  998315055\n",
       "\n",
       "[1000209 rows x 4 columns]"
      ]
     },
     "execution_count": 2,
     "metadata": {},
     "output_type": "execute_result"
    }
   ],
   "source": [
    "data_path = Path(os.getenv('HOME')+'/aiffel/yoochoose-data/ml-1m') \n",
    "train_path = data_path / 'ratings.dat'\n",
    "\n",
    "def load_data(data_path: Path, nrows=None):\n",
    "    data = pd.read_csv(data_path, sep='::', header=None, usecols=[0, 1, 2, 3], dtype={0: np.int32, 1: np.int32, 2: np.int32}, nrows=nrows)\n",
    "    data.columns = ['UserId', 'ItemId', 'Rating', 'Time']\n",
    "    return data\n",
    "\n",
    "data = load_data(train_path, None)\n",
    "data.sort_values(['UserId', 'Time'], inplace=True)  # data를 id와 시간 순서로 정렬해줍니다.\n",
    "data"
   ]
  },
  {
   "cell_type": "markdown",
   "metadata": {},
   "source": [
    "## Step 1. 데이터의 전처리\n",
    "\n",
    "항목별 기본분석, session length, session time, cleaning 등의 작업을 진행합니다.    \n",
    "특히, 이 데이터셋에서는 Session이 아닌 UserID 단위로 데이터가 생성되어 있으므로, 이를 Session 단위로 어떻게 해석할지에 주의합니다."
   ]
  },
  {
   "cell_type": "code",
   "execution_count": 3,
   "metadata": {},
   "outputs": [
    {
     "data": {
      "text/plain": [
       "1000209"
      ]
     },
     "execution_count": 3,
     "metadata": {},
     "output_type": "execute_result"
    }
   ],
   "source": [
    "# 전체 데이터 길이\n",
    "len(data)"
   ]
  },
  {
   "cell_type": "code",
   "execution_count": 4,
   "metadata": {},
   "outputs": [
    {
     "data": {
      "text/plain": [
       "0"
      ]
     },
     "execution_count": 4,
     "metadata": {},
     "output_type": "execute_result"
    }
   ],
   "source": [
    "# 중복데이터 검사\n",
    "data.duplicated().sum()"
   ]
  },
  {
   "cell_type": "code",
   "execution_count": 5,
   "metadata": {},
   "outputs": [
    {
     "data": {
      "text/plain": [
       "(6040, 3706)"
      ]
     },
     "execution_count": 5,
     "metadata": {},
     "output_type": "execute_result"
    }
   ],
   "source": [
    "#추천시스템을 구축할 때 가장 먼저 확인해 볼 것은 유저수(세션 수)와 아이템 수 입니다.\n",
    "data['UserId'].nunique(), data['ItemId'].nunique()"
   ]
  },
  {
   "cell_type": "code",
   "execution_count": 6,
   "metadata": {},
   "outputs": [
    {
     "data": {
      "text/plain": [
       "UserId\n",
       "1        53\n",
       "2       129\n",
       "3        51\n",
       "4        21\n",
       "5       198\n",
       "       ... \n",
       "6036    888\n",
       "6037    202\n",
       "6038     20\n",
       "6039    123\n",
       "6040    341\n",
       "Length: 6040, dtype: int64"
      ]
     },
     "execution_count": 6,
     "metadata": {},
     "output_type": "execute_result"
    }
   ],
   "source": [
    "# 각 아이디 별 평점 데이터 몇개정도를 갖는지도 살펴보겠습니다.\n",
    "user_length = data.groupby('UserId').size()\n",
    "user_length"
   ]
  },
  {
   "cell_type": "code",
   "execution_count": 7,
   "metadata": {},
   "outputs": [
    {
     "data": {
      "text/plain": [
       "(96.0, 165.5975165562914, 192.74702906977777)"
      ]
     },
     "execution_count": 7,
     "metadata": {},
     "output_type": "execute_result"
    }
   ],
   "source": [
    "user_length.median(), user_length.mean(), user_length.std()"
   ]
  },
  {
   "cell_type": "code",
   "execution_count": 8,
   "metadata": {},
   "outputs": [
    {
     "data": {
      "text/plain": [
       "(20, 2314)"
      ]
     },
     "execution_count": 8,
     "metadata": {},
     "output_type": "execute_result"
    }
   ],
   "source": [
    "user_length.min(), user_length.max()"
   ]
  },
  {
   "cell_type": "markdown",
   "metadata": {},
   "source": [
    "+ 아이디별 평점을 준 기록의 표준편차가 192로 평균이 165으로 데이터가 상당히 넓게 분포되어 있는 것으로 보인다.\n",
    "  + 익명의 사용자의 접속데이터인 session이 대부분 하루 특정 시간대에 접속 후 짧은 시간 내에 sequence가 끝나는 짧은 기간의 데이터 였던 반면 영화 평점 데이터는 아이디 별로 장기간에 걸쳐 축적될 수 있는 형태의 데이터이기 때문에 세션 기반 추천 시스템을 학습시키기 위해서 세션과 유사한 형태로 구성하기 위한 고민이 필요해 보인다. \n",
    "+ 상품 구매 행태는 한달을 주기로 변화하는 특성이 있다고 하나 영화 선호의 경우 동일한 직관을 적용할 수 있는지는 의문이다. 영화 선호는 시기에 종속된다기 보다는 사용자의 취향에 좀 더 영향을 많이 받을 것 같은데 세션 기반 추천 시스템을 구성하면서 좋은 성능을 달성하기 위해 데이터를 어떤 형태로 구성해야 할지 고민이 필요해 보인다. \n",
    "  + 주어진 데이터는 영화나 사용자의 아이디만 가지고 있어 사용자와 영화의 특성을 특정하여 유사한 군집을 만들 수가 없다.\n",
    "  + 임의의 특정 사용자의 영화 취향이 시기에 따라 변화하는 경우와 변화하지 않는 경우에 모델 구성이 달라야 할 것 같다.\n",
    "+ 전체 데이터가 어느 정도의 기간에 걸쳐 수집된 데이터인지를 살펴보고 임의로 기간을 나눠서 살펴보기로 한다.\n",
    "  + 주어진 데이터의 시간 기록은 unix시간으로 기록되어 있다고 하니 알아보기 쉽게 변환이 필요하다."
   ]
  },
  {
   "cell_type": "code",
   "execution_count": 9,
   "metadata": {},
   "outputs": [
    {
     "name": "stdout",
     "output_type": "stream",
     "text": [
      "2000-12-31 21:40:14\n"
     ]
    },
    {
     "data": {
      "text/plain": [
       "datetime.datetime"
      ]
     },
     "execution_count": 9,
     "metadata": {},
     "output_type": "execute_result"
    }
   ],
   "source": [
    "# 시간 변환 방법 : 유닉스 시간을 문자열 형태로 표현하고 문자열을 다시 datetime 객채로 변환하였다.\n",
    "time_stamp = data['Time'][100]\n",
    "\n",
    "print(datetime.strptime(datetime.utcfromtimestamp(time_stamp).strftime('%Y-%m-%d %H:%M:%S'), '%Y-%m-%d %H:%M:%S'))\n",
    "type(datetime.strptime(datetime.utcfromtimestamp(time_stamp).strftime('%Y-%m-%d %H:%M:%S'), '%Y-%m-%d %H:%M:%S'))"
   ]
  },
  {
   "cell_type": "code",
   "execution_count": 10,
   "metadata": {},
   "outputs": [
    {
     "data": {
      "text/html": [
       "<div>\n",
       "<style scoped>\n",
       "    .dataframe tbody tr th:only-of-type {\n",
       "        vertical-align: middle;\n",
       "    }\n",
       "\n",
       "    .dataframe tbody tr th {\n",
       "        vertical-align: top;\n",
       "    }\n",
       "\n",
       "    .dataframe thead th {\n",
       "        text-align: right;\n",
       "    }\n",
       "</style>\n",
       "<table border=\"1\" class=\"dataframe\">\n",
       "  <thead>\n",
       "    <tr style=\"text-align: right;\">\n",
       "      <th></th>\n",
       "      <th>UserId</th>\n",
       "      <th>ItemId</th>\n",
       "      <th>Rating</th>\n",
       "      <th>Time</th>\n",
       "      <th>datetime</th>\n",
       "    </tr>\n",
       "  </thead>\n",
       "  <tbody>\n",
       "    <tr>\n",
       "      <th>31</th>\n",
       "      <td>1</td>\n",
       "      <td>3186</td>\n",
       "      <td>4</td>\n",
       "      <td>978300019</td>\n",
       "      <td>2000-12-31 22:00:19</td>\n",
       "    </tr>\n",
       "    <tr>\n",
       "      <th>22</th>\n",
       "      <td>1</td>\n",
       "      <td>1270</td>\n",
       "      <td>5</td>\n",
       "      <td>978300055</td>\n",
       "      <td>2000-12-31 22:00:55</td>\n",
       "    </tr>\n",
       "    <tr>\n",
       "      <th>27</th>\n",
       "      <td>1</td>\n",
       "      <td>1721</td>\n",
       "      <td>4</td>\n",
       "      <td>978300055</td>\n",
       "      <td>2000-12-31 22:00:55</td>\n",
       "    </tr>\n",
       "    <tr>\n",
       "      <th>37</th>\n",
       "      <td>1</td>\n",
       "      <td>1022</td>\n",
       "      <td>5</td>\n",
       "      <td>978300055</td>\n",
       "      <td>2000-12-31 22:00:55</td>\n",
       "    </tr>\n",
       "    <tr>\n",
       "      <th>24</th>\n",
       "      <td>1</td>\n",
       "      <td>2340</td>\n",
       "      <td>3</td>\n",
       "      <td>978300103</td>\n",
       "      <td>2000-12-31 22:01:43</td>\n",
       "    </tr>\n",
       "    <tr>\n",
       "      <th>...</th>\n",
       "      <td>...</td>\n",
       "      <td>...</td>\n",
       "      <td>...</td>\n",
       "      <td>...</td>\n",
       "      <td>...</td>\n",
       "    </tr>\n",
       "    <tr>\n",
       "      <th>1000019</th>\n",
       "      <td>6040</td>\n",
       "      <td>2917</td>\n",
       "      <td>4</td>\n",
       "      <td>997454429</td>\n",
       "      <td>2001-08-10 14:40:29</td>\n",
       "    </tr>\n",
       "    <tr>\n",
       "      <th>999988</th>\n",
       "      <td>6040</td>\n",
       "      <td>1921</td>\n",
       "      <td>4</td>\n",
       "      <td>997454464</td>\n",
       "      <td>2001-08-10 14:41:04</td>\n",
       "    </tr>\n",
       "    <tr>\n",
       "      <th>1000172</th>\n",
       "      <td>6040</td>\n",
       "      <td>1784</td>\n",
       "      <td>3</td>\n",
       "      <td>997454464</td>\n",
       "      <td>2001-08-10 14:41:04</td>\n",
       "    </tr>\n",
       "    <tr>\n",
       "      <th>1000167</th>\n",
       "      <td>6040</td>\n",
       "      <td>161</td>\n",
       "      <td>3</td>\n",
       "      <td>997454486</td>\n",
       "      <td>2001-08-10 14:41:26</td>\n",
       "    </tr>\n",
       "    <tr>\n",
       "      <th>1000042</th>\n",
       "      <td>6040</td>\n",
       "      <td>1221</td>\n",
       "      <td>4</td>\n",
       "      <td>998315055</td>\n",
       "      <td>2001-08-20 13:44:15</td>\n",
       "    </tr>\n",
       "  </tbody>\n",
       "</table>\n",
       "<p>1000209 rows × 5 columns</p>\n",
       "</div>"
      ],
      "text/plain": [
       "         UserId  ItemId  Rating       Time            datetime\n",
       "31            1    3186       4  978300019 2000-12-31 22:00:19\n",
       "22            1    1270       5  978300055 2000-12-31 22:00:55\n",
       "27            1    1721       4  978300055 2000-12-31 22:00:55\n",
       "37            1    1022       5  978300055 2000-12-31 22:00:55\n",
       "24            1    2340       3  978300103 2000-12-31 22:01:43\n",
       "...         ...     ...     ...        ...                 ...\n",
       "1000019    6040    2917       4  997454429 2001-08-10 14:40:29\n",
       "999988     6040    1921       4  997454464 2001-08-10 14:41:04\n",
       "1000172    6040    1784       3  997454464 2001-08-10 14:41:04\n",
       "1000167    6040     161       3  997454486 2001-08-10 14:41:26\n",
       "1000042    6040    1221       4  998315055 2001-08-20 13:44:15\n",
       "\n",
       "[1000209 rows x 5 columns]"
      ]
     },
     "execution_count": 10,
     "metadata": {},
     "output_type": "execute_result"
    }
   ],
   "source": [
    "data['datetime'] = data['Time'].map(lambda x : datetime.strptime(datetime.utcfromtimestamp(x).strftime('%Y-%m-%d %H:%M:%S'), '%Y-%m-%d %H:%M:%S'))\n",
    "data"
   ]
  },
  {
   "cell_type": "code",
   "execution_count": 11,
   "metadata": {},
   "outputs": [
    {
     "data": {
      "text/plain": [
       "(Timestamp('2003-02-28 17:49:50'), Timestamp('2000-04-25 23:05:32'))"
      ]
     },
     "execution_count": 11,
     "metadata": {},
     "output_type": "execute_result"
    }
   ],
   "source": [
    "data['datetime'].max(), data['datetime'].min()"
   ]
  },
  {
   "cell_type": "markdown",
   "metadata": {},
   "source": [
    "+ 2000년 4월부터 2003년 2월까지 수집한 데이터이다."
   ]
  },
  {
   "cell_type": "code",
   "execution_count": 12,
   "metadata": {},
   "outputs": [],
   "source": [
    "# 처음 시작 달을 0으로 경과한 달을 세는 함수를 만들어 본다.\n",
    "def calculate_by_month(time_stamp, start_datetime):\n",
    "    return ((time_stamp.year - start_datetime.year) * 12) + time_stamp.month - start_datetime.month\n",
    "\n",
    "start_datetime = data['datetime'].min()"
   ]
  },
  {
   "cell_type": "code",
   "execution_count": 13,
   "metadata": {},
   "outputs": [
    {
     "name": "stdout",
     "output_type": "stream",
     "text": [
      "2000-11-21 20:02:07\n"
     ]
    },
    {
     "data": {
      "text/plain": [
       "7"
      ]
     },
     "execution_count": 13,
     "metadata": {},
     "output_type": "execute_result"
    }
   ],
   "source": [
    "# 랜덤으로 지정하여 함수가 잘 작동하는지 본다.\n",
    "import random\n",
    "temp = data['datetime'][random.randrange(0,len(data))]\n",
    "print(temp)\n",
    "calculate_by_month(temp, start_datetime)"
   ]
  },
  {
   "cell_type": "code",
   "execution_count": 14,
   "metadata": {},
   "outputs": [
    {
     "data": {
      "text/html": [
       "<div>\n",
       "<style scoped>\n",
       "    .dataframe tbody tr th:only-of-type {\n",
       "        vertical-align: middle;\n",
       "    }\n",
       "\n",
       "    .dataframe tbody tr th {\n",
       "        vertical-align: top;\n",
       "    }\n",
       "\n",
       "    .dataframe thead th {\n",
       "        text-align: right;\n",
       "    }\n",
       "</style>\n",
       "<table border=\"1\" class=\"dataframe\">\n",
       "  <thead>\n",
       "    <tr style=\"text-align: right;\">\n",
       "      <th></th>\n",
       "      <th>UserId</th>\n",
       "      <th>ItemId</th>\n",
       "      <th>Rating</th>\n",
       "      <th>Time</th>\n",
       "      <th>datetime</th>\n",
       "      <th>month</th>\n",
       "    </tr>\n",
       "  </thead>\n",
       "  <tbody>\n",
       "    <tr>\n",
       "      <th>31</th>\n",
       "      <td>1</td>\n",
       "      <td>3186</td>\n",
       "      <td>4</td>\n",
       "      <td>978300019</td>\n",
       "      <td>2000-12-31 22:00:19</td>\n",
       "      <td>8</td>\n",
       "    </tr>\n",
       "    <tr>\n",
       "      <th>22</th>\n",
       "      <td>1</td>\n",
       "      <td>1270</td>\n",
       "      <td>5</td>\n",
       "      <td>978300055</td>\n",
       "      <td>2000-12-31 22:00:55</td>\n",
       "      <td>8</td>\n",
       "    </tr>\n",
       "    <tr>\n",
       "      <th>27</th>\n",
       "      <td>1</td>\n",
       "      <td>1721</td>\n",
       "      <td>4</td>\n",
       "      <td>978300055</td>\n",
       "      <td>2000-12-31 22:00:55</td>\n",
       "      <td>8</td>\n",
       "    </tr>\n",
       "  </tbody>\n",
       "</table>\n",
       "</div>"
      ],
      "text/plain": [
       "    UserId  ItemId  Rating       Time            datetime  month\n",
       "31       1    3186       4  978300019 2000-12-31 22:00:19      8\n",
       "22       1    1270       5  978300055 2000-12-31 22:00:55      8\n",
       "27       1    1721       4  978300055 2000-12-31 22:00:55      8"
      ]
     },
     "execution_count": 14,
     "metadata": {},
     "output_type": "execute_result"
    }
   ],
   "source": [
    "# map() 을 이용해 달을 세어 새로운 열을 만들어 준다.\n",
    "data['month'] = data['datetime'].map(lambda x : calculate_by_month(x, start_datetime))\n",
    "data.head(3)"
   ]
  },
  {
   "cell_type": "code",
   "execution_count": 15,
   "metadata": {},
   "outputs": [
    {
     "data": {
      "text/plain": [
       "34"
      ]
     },
     "execution_count": 15,
     "metadata": {},
     "output_type": "execute_result"
    }
   ],
   "source": [
    "data.month.max()"
   ]
  },
  {
   "cell_type": "code",
   "execution_count": 16,
   "metadata": {},
   "outputs": [
    {
     "data": {
      "text/html": [
       "<div>\n",
       "<style scoped>\n",
       "    .dataframe tbody tr th:only-of-type {\n",
       "        vertical-align: middle;\n",
       "    }\n",
       "\n",
       "    .dataframe tbody tr th {\n",
       "        vertical-align: top;\n",
       "    }\n",
       "\n",
       "    .dataframe thead th {\n",
       "        text-align: right;\n",
       "    }\n",
       "</style>\n",
       "<table border=\"1\" class=\"dataframe\">\n",
       "  <thead>\n",
       "    <tr style=\"text-align: right;\">\n",
       "      <th></th>\n",
       "      <th>UserId</th>\n",
       "      <th>ItemId</th>\n",
       "      <th>Rating</th>\n",
       "      <th>Time</th>\n",
       "      <th>datetime</th>\n",
       "    </tr>\n",
       "    <tr>\n",
       "      <th>month</th>\n",
       "      <th></th>\n",
       "      <th></th>\n",
       "      <th></th>\n",
       "      <th></th>\n",
       "      <th></th>\n",
       "    </tr>\n",
       "  </thead>\n",
       "  <tbody>\n",
       "    <tr>\n",
       "      <th>0</th>\n",
       "      <td>11396</td>\n",
       "      <td>11396</td>\n",
       "      <td>11396</td>\n",
       "      <td>11396</td>\n",
       "      <td>11396</td>\n",
       "    </tr>\n",
       "    <tr>\n",
       "      <th>1</th>\n",
       "      <td>67437</td>\n",
       "      <td>67437</td>\n",
       "      <td>67437</td>\n",
       "      <td>67437</td>\n",
       "      <td>67437</td>\n",
       "    </tr>\n",
       "    <tr>\n",
       "      <th>2</th>\n",
       "      <td>54486</td>\n",
       "      <td>54486</td>\n",
       "      <td>54486</td>\n",
       "      <td>54486</td>\n",
       "      <td>54486</td>\n",
       "    </tr>\n",
       "    <tr>\n",
       "      <th>3</th>\n",
       "      <td>90334</td>\n",
       "      <td>90334</td>\n",
       "      <td>90334</td>\n",
       "      <td>90334</td>\n",
       "      <td>90334</td>\n",
       "    </tr>\n",
       "    <tr>\n",
       "      <th>4</th>\n",
       "      <td>182109</td>\n",
       "      <td>182109</td>\n",
       "      <td>182109</td>\n",
       "      <td>182109</td>\n",
       "      <td>182109</td>\n",
       "    </tr>\n",
       "    <tr>\n",
       "      <th>5</th>\n",
       "      <td>52421</td>\n",
       "      <td>52421</td>\n",
       "      <td>52421</td>\n",
       "      <td>52421</td>\n",
       "      <td>52421</td>\n",
       "    </tr>\n",
       "    <tr>\n",
       "      <th>6</th>\n",
       "      <td>42294</td>\n",
       "      <td>42294</td>\n",
       "      <td>42294</td>\n",
       "      <td>42294</td>\n",
       "      <td>42294</td>\n",
       "    </tr>\n",
       "    <tr>\n",
       "      <th>7</th>\n",
       "      <td>290793</td>\n",
       "      <td>290793</td>\n",
       "      <td>290793</td>\n",
       "      <td>290793</td>\n",
       "      <td>290793</td>\n",
       "    </tr>\n",
       "    <tr>\n",
       "      <th>8</th>\n",
       "      <td>113487</td>\n",
       "      <td>113487</td>\n",
       "      <td>113487</td>\n",
       "      <td>113487</td>\n",
       "      <td>113487</td>\n",
       "    </tr>\n",
       "    <tr>\n",
       "      <th>9</th>\n",
       "      <td>18004</td>\n",
       "      <td>18004</td>\n",
       "      <td>18004</td>\n",
       "      <td>18004</td>\n",
       "      <td>18004</td>\n",
       "    </tr>\n",
       "    <tr>\n",
       "      <th>10</th>\n",
       "      <td>8136</td>\n",
       "      <td>8136</td>\n",
       "      <td>8136</td>\n",
       "      <td>8136</td>\n",
       "      <td>8136</td>\n",
       "    </tr>\n",
       "    <tr>\n",
       "      <th>11</th>\n",
       "      <td>6083</td>\n",
       "      <td>6083</td>\n",
       "      <td>6083</td>\n",
       "      <td>6083</td>\n",
       "      <td>6083</td>\n",
       "    </tr>\n",
       "    <tr>\n",
       "      <th>12</th>\n",
       "      <td>5171</td>\n",
       "      <td>5171</td>\n",
       "      <td>5171</td>\n",
       "      <td>5171</td>\n",
       "      <td>5171</td>\n",
       "    </tr>\n",
       "    <tr>\n",
       "      <th>13</th>\n",
       "      <td>4939</td>\n",
       "      <td>4939</td>\n",
       "      <td>4939</td>\n",
       "      <td>4939</td>\n",
       "      <td>4939</td>\n",
       "    </tr>\n",
       "    <tr>\n",
       "      <th>14</th>\n",
       "      <td>4981</td>\n",
       "      <td>4981</td>\n",
       "      <td>4981</td>\n",
       "      <td>4981</td>\n",
       "      <td>4981</td>\n",
       "    </tr>\n",
       "    <tr>\n",
       "      <th>15</th>\n",
       "      <td>4765</td>\n",
       "      <td>4765</td>\n",
       "      <td>4765</td>\n",
       "      <td>4765</td>\n",
       "      <td>4765</td>\n",
       "    </tr>\n",
       "    <tr>\n",
       "      <th>16</th>\n",
       "      <td>4454</td>\n",
       "      <td>4454</td>\n",
       "      <td>4454</td>\n",
       "      <td>4454</td>\n",
       "      <td>4454</td>\n",
       "    </tr>\n",
       "    <tr>\n",
       "      <th>17</th>\n",
       "      <td>3077</td>\n",
       "      <td>3077</td>\n",
       "      <td>3077</td>\n",
       "      <td>3077</td>\n",
       "      <td>3077</td>\n",
       "    </tr>\n",
       "    <tr>\n",
       "      <th>18</th>\n",
       "      <td>2192</td>\n",
       "      <td>2192</td>\n",
       "      <td>2192</td>\n",
       "      <td>2192</td>\n",
       "      <td>2192</td>\n",
       "    </tr>\n",
       "    <tr>\n",
       "      <th>19</th>\n",
       "      <td>2760</td>\n",
       "      <td>2760</td>\n",
       "      <td>2760</td>\n",
       "      <td>2760</td>\n",
       "      <td>2760</td>\n",
       "    </tr>\n",
       "    <tr>\n",
       "      <th>20</th>\n",
       "      <td>3496</td>\n",
       "      <td>3496</td>\n",
       "      <td>3496</td>\n",
       "      <td>3496</td>\n",
       "      <td>3496</td>\n",
       "    </tr>\n",
       "    <tr>\n",
       "      <th>21</th>\n",
       "      <td>3216</td>\n",
       "      <td>3216</td>\n",
       "      <td>3216</td>\n",
       "      <td>3216</td>\n",
       "      <td>3216</td>\n",
       "    </tr>\n",
       "    <tr>\n",
       "      <th>22</th>\n",
       "      <td>2496</td>\n",
       "      <td>2496</td>\n",
       "      <td>2496</td>\n",
       "      <td>2496</td>\n",
       "      <td>2496</td>\n",
       "    </tr>\n",
       "    <tr>\n",
       "      <th>23</th>\n",
       "      <td>2454</td>\n",
       "      <td>2454</td>\n",
       "      <td>2454</td>\n",
       "      <td>2454</td>\n",
       "      <td>2454</td>\n",
       "    </tr>\n",
       "    <tr>\n",
       "      <th>24</th>\n",
       "      <td>2840</td>\n",
       "      <td>2840</td>\n",
       "      <td>2840</td>\n",
       "      <td>2840</td>\n",
       "      <td>2840</td>\n",
       "    </tr>\n",
       "    <tr>\n",
       "      <th>25</th>\n",
       "      <td>1902</td>\n",
       "      <td>1902</td>\n",
       "      <td>1902</td>\n",
       "      <td>1902</td>\n",
       "      <td>1902</td>\n",
       "    </tr>\n",
       "    <tr>\n",
       "      <th>26</th>\n",
       "      <td>1643</td>\n",
       "      <td>1643</td>\n",
       "      <td>1643</td>\n",
       "      <td>1643</td>\n",
       "      <td>1643</td>\n",
       "    </tr>\n",
       "    <tr>\n",
       "      <th>27</th>\n",
       "      <td>1905</td>\n",
       "      <td>1905</td>\n",
       "      <td>1905</td>\n",
       "      <td>1905</td>\n",
       "      <td>1905</td>\n",
       "    </tr>\n",
       "    <tr>\n",
       "      <th>28</th>\n",
       "      <td>2111</td>\n",
       "      <td>2111</td>\n",
       "      <td>2111</td>\n",
       "      <td>2111</td>\n",
       "      <td>2111</td>\n",
       "    </tr>\n",
       "    <tr>\n",
       "      <th>29</th>\n",
       "      <td>1293</td>\n",
       "      <td>1293</td>\n",
       "      <td>1293</td>\n",
       "      <td>1293</td>\n",
       "      <td>1293</td>\n",
       "    </tr>\n",
       "    <tr>\n",
       "      <th>30</th>\n",
       "      <td>1014</td>\n",
       "      <td>1014</td>\n",
       "      <td>1014</td>\n",
       "      <td>1014</td>\n",
       "      <td>1014</td>\n",
       "    </tr>\n",
       "    <tr>\n",
       "      <th>31</th>\n",
       "      <td>1908</td>\n",
       "      <td>1908</td>\n",
       "      <td>1908</td>\n",
       "      <td>1908</td>\n",
       "      <td>1908</td>\n",
       "    </tr>\n",
       "    <tr>\n",
       "      <th>32</th>\n",
       "      <td>1264</td>\n",
       "      <td>1264</td>\n",
       "      <td>1264</td>\n",
       "      <td>1264</td>\n",
       "      <td>1264</td>\n",
       "    </tr>\n",
       "    <tr>\n",
       "      <th>33</th>\n",
       "      <td>1852</td>\n",
       "      <td>1852</td>\n",
       "      <td>1852</td>\n",
       "      <td>1852</td>\n",
       "      <td>1852</td>\n",
       "    </tr>\n",
       "    <tr>\n",
       "      <th>34</th>\n",
       "      <td>1496</td>\n",
       "      <td>1496</td>\n",
       "      <td>1496</td>\n",
       "      <td>1496</td>\n",
       "      <td>1496</td>\n",
       "    </tr>\n",
       "  </tbody>\n",
       "</table>\n",
       "</div>"
      ],
      "text/plain": [
       "       UserId  ItemId  Rating    Time  datetime\n",
       "month                                          \n",
       "0       11396   11396   11396   11396     11396\n",
       "1       67437   67437   67437   67437     67437\n",
       "2       54486   54486   54486   54486     54486\n",
       "3       90334   90334   90334   90334     90334\n",
       "4      182109  182109  182109  182109    182109\n",
       "5       52421   52421   52421   52421     52421\n",
       "6       42294   42294   42294   42294     42294\n",
       "7      290793  290793  290793  290793    290793\n",
       "8      113487  113487  113487  113487    113487\n",
       "9       18004   18004   18004   18004     18004\n",
       "10       8136    8136    8136    8136      8136\n",
       "11       6083    6083    6083    6083      6083\n",
       "12       5171    5171    5171    5171      5171\n",
       "13       4939    4939    4939    4939      4939\n",
       "14       4981    4981    4981    4981      4981\n",
       "15       4765    4765    4765    4765      4765\n",
       "16       4454    4454    4454    4454      4454\n",
       "17       3077    3077    3077    3077      3077\n",
       "18       2192    2192    2192    2192      2192\n",
       "19       2760    2760    2760    2760      2760\n",
       "20       3496    3496    3496    3496      3496\n",
       "21       3216    3216    3216    3216      3216\n",
       "22       2496    2496    2496    2496      2496\n",
       "23       2454    2454    2454    2454      2454\n",
       "24       2840    2840    2840    2840      2840\n",
       "25       1902    1902    1902    1902      1902\n",
       "26       1643    1643    1643    1643      1643\n",
       "27       1905    1905    1905    1905      1905\n",
       "28       2111    2111    2111    2111      2111\n",
       "29       1293    1293    1293    1293      1293\n",
       "30       1014    1014    1014    1014      1014\n",
       "31       1908    1908    1908    1908      1908\n",
       "32       1264    1264    1264    1264      1264\n",
       "33       1852    1852    1852    1852      1852\n",
       "34       1496    1496    1496    1496      1496"
      ]
     },
     "execution_count": 16,
     "metadata": {},
     "output_type": "execute_result"
    }
   ],
   "source": [
    "# 월별 레이팅 기록 수\n",
    "data.groupby(['month']).count()"
   ]
  },
  {
   "cell_type": "code",
   "execution_count": 17,
   "metadata": {},
   "outputs": [
    {
     "data": {
      "text/plain": [
       "<AxesSubplot:>"
      ]
     },
     "execution_count": 17,
     "metadata": {},
     "output_type": "execute_result"
    },
    {
     "data": {
      "image/png": "[encoded data removed]",
      "text/plain": [
       "<Figure size 432x288 with 1 Axes>"
      ]
     },
     "metadata": {
      "needs_background": "light"
     },
     "output_type": "display_data"
    }
   ],
   "source": [
    "data['month'].hist(bins=35)"
   ]
  },
  {
   "cell_type": "markdown",
   "metadata": {},
   "source": [
    "+ 대부분의 평점 데이터가 7~8번째 달에 몰려 있다. \n",
    "  + 단순히 기간으로 데이터를 선택해 사용하고자 하면 선택 기준을 세우기가 어려워 보인다.\n",
    "    + 데이터가 몰려 있는 구간을 선택하게 되면 가장 나중 데이터를 상실하게 될 수 있다.\n",
    "    + 가장 나중의 데이터를 선택하면 상당한 데이터를 상실하게 될 수 있다.\n",
    "    + 최대한 데이터를 사용하고자 한다면 상당히 긴 기간동안의 데이터를 선택하게 되며 사용자간 활동 기간의 시점과 기간이 달라져 아이디 별로 일관된 세션을 구성하기가 어려워 보인다."
   ]
  },
  {
   "cell_type": "code",
   "execution_count": 18,
   "metadata": {},
   "outputs": [],
   "source": [
    "def get_user_active_period(df):\n",
    "    temp = {}\n",
    "    temp['active_period'] = df['month'].max() - df['month'].min()\n",
    "    return pd.Series(temp)"
   ]
  },
  {
   "cell_type": "code",
   "execution_count": 19,
   "metadata": {},
   "outputs": [],
   "source": [
    "user_active_period = data.groupby(['UserId']).apply(get_user_active_period)"
   ]
  },
  {
   "cell_type": "code",
   "execution_count": 20,
   "metadata": {},
   "outputs": [
    {
     "data": {
      "text/html": [
       "<div>\n",
       "<style scoped>\n",
       "    .dataframe tbody tr th:only-of-type {\n",
       "        vertical-align: middle;\n",
       "    }\n",
       "\n",
       "    .dataframe tbody tr th {\n",
       "        vertical-align: top;\n",
       "    }\n",
       "\n",
       "    .dataframe thead th {\n",
       "        text-align: right;\n",
       "    }\n",
       "</style>\n",
       "<table border=\"1\" class=\"dataframe\">\n",
       "  <thead>\n",
       "    <tr style=\"text-align: right;\">\n",
       "      <th></th>\n",
       "      <th>active_period</th>\n",
       "    </tr>\n",
       "    <tr>\n",
       "      <th>UserId</th>\n",
       "      <th></th>\n",
       "    </tr>\n",
       "  </thead>\n",
       "  <tbody>\n",
       "    <tr>\n",
       "      <th>1</th>\n",
       "      <td>1</td>\n",
       "    </tr>\n",
       "    <tr>\n",
       "      <th>2</th>\n",
       "      <td>0</td>\n",
       "    </tr>\n",
       "    <tr>\n",
       "      <th>3</th>\n",
       "      <td>0</td>\n",
       "    </tr>\n",
       "    <tr>\n",
       "      <th>4</th>\n",
       "      <td>0</td>\n",
       "    </tr>\n",
       "    <tr>\n",
       "      <th>5</th>\n",
       "      <td>0</td>\n",
       "    </tr>\n",
       "    <tr>\n",
       "      <th>...</th>\n",
       "      <td>...</td>\n",
       "    </tr>\n",
       "    <tr>\n",
       "      <th>6036</th>\n",
       "      <td>0</td>\n",
       "    </tr>\n",
       "    <tr>\n",
       "      <th>6037</th>\n",
       "      <td>0</td>\n",
       "    </tr>\n",
       "    <tr>\n",
       "      <th>6038</th>\n",
       "      <td>0</td>\n",
       "    </tr>\n",
       "    <tr>\n",
       "      <th>6039</th>\n",
       "      <td>0</td>\n",
       "    </tr>\n",
       "    <tr>\n",
       "      <th>6040</th>\n",
       "      <td>16</td>\n",
       "    </tr>\n",
       "  </tbody>\n",
       "</table>\n",
       "<p>6040 rows × 1 columns</p>\n",
       "</div>"
      ],
      "text/plain": [
       "        active_period\n",
       "UserId               \n",
       "1                   1\n",
       "2                   0\n",
       "3                   0\n",
       "4                   0\n",
       "5                   0\n",
       "...               ...\n",
       "6036                0\n",
       "6037                0\n",
       "6038                0\n",
       "6039                0\n",
       "6040               16\n",
       "\n",
       "[6040 rows x 1 columns]"
      ]
     },
     "execution_count": 20,
     "metadata": {},
     "output_type": "execute_result"
    }
   ],
   "source": [
    "user_active_period"
   ]
  },
  {
   "cell_type": "code",
   "execution_count": 21,
   "metadata": {},
   "outputs": [
    {
     "data": {
      "text/plain": [
       "active_period\n",
       "0                4365\n",
       "1                 341\n",
       "2                 168\n",
       "3                  85\n",
       "4                  66\n",
       "27                 61\n",
       "5                  61\n",
       "26                 59\n",
       "7                  52\n",
       "6                  51\n",
       "8                  47\n",
       "9                  42\n",
       "25                 42\n",
       "14                 41\n",
       "24                 39\n",
       "13                 39\n",
       "15                 36\n",
       "16                 36\n",
       "10                 34\n",
       "22                 33\n",
       "18                 32\n",
       "12                 32\n",
       "19                 31\n",
       "17                 30\n",
       "29                 29\n",
       "30                 28\n",
       "20                 27\n",
       "23                 27\n",
       "28                 27\n",
       "11                 24\n",
       "31                 17\n",
       "32                 15\n",
       "21                 15\n",
       "33                  8\n",
       "dtype: int64"
      ]
     },
     "execution_count": 21,
     "metadata": {},
     "output_type": "execute_result"
    }
   ],
   "source": [
    "user_active_period.value_counts()"
   ]
  },
  {
   "cell_type": "code",
   "execution_count": 22,
   "metadata": {},
   "outputs": [
    {
     "data": {
      "text/plain": [
       "array([[<AxesSubplot:title={'center':'active_period'}>]], dtype=object)"
      ]
     },
     "execution_count": 22,
     "metadata": {},
     "output_type": "execute_result"
    },
    {
     "data": {
      "image/png": "[encoded data removed]",
      "text/plain": [
       "<Figure size 432x288 with 1 Axes>"
      ]
     },
     "metadata": {
      "needs_background": "light"
     },
     "output_type": "display_data"
    }
   ],
   "source": [
    "user_active_period.hist()"
   ]
  },
  {
   "cell_type": "code",
   "execution_count": 23,
   "metadata": {},
   "outputs": [
    {
     "data": {
      "text/plain": [
       "6040"
      ]
     },
     "execution_count": 23,
     "metadata": {},
     "output_type": "execute_result"
    }
   ],
   "source": [
    "user_active_period.value_counts().sum()"
   ]
  },
  {
   "cell_type": "code",
   "execution_count": 24,
   "metadata": {},
   "outputs": [
    {
     "data": {
      "text/plain": [
       "72.26821192052981"
      ]
     },
     "execution_count": 24,
     "metadata": {},
     "output_type": "execute_result"
    }
   ],
   "source": [
    "(user_active_period.value_counts().max() / user_active_period.value_counts().sum()) * 100"
   ]
  },
  {
   "cell_type": "markdown",
   "metadata": {},
   "source": [
    "+ 1달간만 활동한 사용자가 전체의 72%로 상당한 비중을 차지한다.\n",
    "  + 이러한 사용자의 데이터만 활용한다면 월 별로 데이터를 잘라서 사용해도 유사한 기간 동안 사용자들의 선택을 session으로 쉽게 구성할 수 있을 것 같다. \n",
    "  + 해당 사용자의 월별 분포를 살펴보기로 하자."
   ]
  },
  {
   "cell_type": "code",
   "execution_count": 25,
   "metadata": {},
   "outputs": [
    {
     "data": {
      "text/plain": [
       "Int64Index([   1,    2,    3,    4,    5,    6,    7,    8,    9,   10,\n",
       "            ...\n",
       "            6031, 6032, 6033, 6034, 6035, 6036, 6037, 6038, 6039, 6040],\n",
       "           dtype='int64', name='UserId', length=6040)"
      ]
     },
     "execution_count": 25,
     "metadata": {},
     "output_type": "execute_result"
    }
   ],
   "source": [
    "user_active_period.index"
   ]
  },
  {
   "cell_type": "code",
   "execution_count": 26,
   "metadata": {},
   "outputs": [],
   "source": [
    "one_month_user = user_active_period[user_active_period['active_period']==0].index"
   ]
  },
  {
   "cell_type": "code",
   "execution_count": 27,
   "metadata": {},
   "outputs": [
    {
     "data": {
      "text/plain": [
       "Int64Index([   2,    3,    4,    5,    6,    7,    8,    9,   12,   13,\n",
       "            ...\n",
       "            6030, 6031, 6032, 6033, 6034, 6035, 6036, 6037, 6038, 6039],\n",
       "           dtype='int64', name='UserId', length=4365)"
      ]
     },
     "execution_count": 27,
     "metadata": {},
     "output_type": "execute_result"
    }
   ],
   "source": [
    "one_month_user"
   ]
  },
  {
   "cell_type": "code",
   "execution_count": 28,
   "metadata": {},
   "outputs": [
    {
     "data": {
      "text/html": [
       "<div>\n",
       "<style scoped>\n",
       "    .dataframe tbody tr th:only-of-type {\n",
       "        vertical-align: middle;\n",
       "    }\n",
       "\n",
       "    .dataframe tbody tr th {\n",
       "        vertical-align: top;\n",
       "    }\n",
       "\n",
       "    .dataframe thead th {\n",
       "        text-align: right;\n",
       "    }\n",
       "</style>\n",
       "<table border=\"1\" class=\"dataframe\">\n",
       "  <thead>\n",
       "    <tr style=\"text-align: right;\">\n",
       "      <th></th>\n",
       "      <th>UserId</th>\n",
       "      <th>ItemId</th>\n",
       "      <th>Rating</th>\n",
       "      <th>Time</th>\n",
       "      <th>datetime</th>\n",
       "      <th>month</th>\n",
       "    </tr>\n",
       "  </thead>\n",
       "  <tbody>\n",
       "    <tr>\n",
       "      <th>130</th>\n",
       "      <td>2</td>\n",
       "      <td>1198</td>\n",
       "      <td>4</td>\n",
       "      <td>978298124</td>\n",
       "      <td>2000-12-31 21:28:44</td>\n",
       "      <td>8</td>\n",
       "    </tr>\n",
       "    <tr>\n",
       "      <th>64</th>\n",
       "      <td>2</td>\n",
       "      <td>1210</td>\n",
       "      <td>4</td>\n",
       "      <td>978298151</td>\n",
       "      <td>2000-12-31 21:29:11</td>\n",
       "      <td>8</td>\n",
       "    </tr>\n",
       "    <tr>\n",
       "      <th>71</th>\n",
       "      <td>2</td>\n",
       "      <td>1217</td>\n",
       "      <td>3</td>\n",
       "      <td>978298151</td>\n",
       "      <td>2000-12-31 21:29:11</td>\n",
       "      <td>8</td>\n",
       "    </tr>\n",
       "    <tr>\n",
       "      <th>134</th>\n",
       "      <td>2</td>\n",
       "      <td>2717</td>\n",
       "      <td>3</td>\n",
       "      <td>978298196</td>\n",
       "      <td>2000-12-31 21:29:56</td>\n",
       "      <td>8</td>\n",
       "    </tr>\n",
       "    <tr>\n",
       "      <th>88</th>\n",
       "      <td>2</td>\n",
       "      <td>1293</td>\n",
       "      <td>5</td>\n",
       "      <td>978298261</td>\n",
       "      <td>2000-12-31 21:31:01</td>\n",
       "      <td>8</td>\n",
       "    </tr>\n",
       "    <tr>\n",
       "      <th>...</th>\n",
       "      <td>...</td>\n",
       "      <td>...</td>\n",
       "      <td>...</td>\n",
       "      <td>...</td>\n",
       "      <td>...</td>\n",
       "      <td>...</td>\n",
       "    </tr>\n",
       "    <tr>\n",
       "      <th>999798</th>\n",
       "      <td>6039</td>\n",
       "      <td>1148</td>\n",
       "      <td>4</td>\n",
       "      <td>956758002</td>\n",
       "      <td>2000-04-26 14:06:42</td>\n",
       "      <td>0</td>\n",
       "    </tr>\n",
       "    <tr>\n",
       "      <th>999764</th>\n",
       "      <td>6039</td>\n",
       "      <td>912</td>\n",
       "      <td>4</td>\n",
       "      <td>956758029</td>\n",
       "      <td>2000-04-26 14:07:09</td>\n",
       "      <td>0</td>\n",
       "    </tr>\n",
       "    <tr>\n",
       "      <th>999771</th>\n",
       "      <td>6039</td>\n",
       "      <td>922</td>\n",
       "      <td>5</td>\n",
       "      <td>956758029</td>\n",
       "      <td>2000-04-26 14:07:09</td>\n",
       "      <td>0</td>\n",
       "    </tr>\n",
       "    <tr>\n",
       "      <th>999815</th>\n",
       "      <td>6039</td>\n",
       "      <td>1204</td>\n",
       "      <td>5</td>\n",
       "      <td>956758029</td>\n",
       "      <td>2000-04-26 14:07:09</td>\n",
       "      <td>0</td>\n",
       "    </tr>\n",
       "    <tr>\n",
       "      <th>999826</th>\n",
       "      <td>6039</td>\n",
       "      <td>1254</td>\n",
       "      <td>4</td>\n",
       "      <td>956758029</td>\n",
       "      <td>2000-04-26 14:07:09</td>\n",
       "      <td>0</td>\n",
       "    </tr>\n",
       "  </tbody>\n",
       "</table>\n",
       "<p>528000 rows × 6 columns</p>\n",
       "</div>"
      ],
      "text/plain": [
       "        UserId  ItemId  Rating       Time            datetime  month\n",
       "130          2    1198       4  978298124 2000-12-31 21:28:44      8\n",
       "64           2    1210       4  978298151 2000-12-31 21:29:11      8\n",
       "71           2    1217       3  978298151 2000-12-31 21:29:11      8\n",
       "134          2    2717       3  978298196 2000-12-31 21:29:56      8\n",
       "88           2    1293       5  978298261 2000-12-31 21:31:01      8\n",
       "...        ...     ...     ...        ...                 ...    ...\n",
       "999798    6039    1148       4  956758002 2000-04-26 14:06:42      0\n",
       "999764    6039     912       4  956758029 2000-04-26 14:07:09      0\n",
       "999771    6039     922       5  956758029 2000-04-26 14:07:09      0\n",
       "999815    6039    1204       5  956758029 2000-04-26 14:07:09      0\n",
       "999826    6039    1254       4  956758029 2000-04-26 14:07:09      0\n",
       "\n",
       "[528000 rows x 6 columns]"
      ]
     },
     "execution_count": 28,
     "metadata": {},
     "output_type": "execute_result"
    }
   ],
   "source": [
    "temp = data[data['UserId'].isin(one_month_user)]\n",
    "temp"
   ]
  },
  {
   "cell_type": "code",
   "execution_count": 29,
   "metadata": {},
   "outputs": [
    {
     "data": {
      "text/plain": [
       "month\n",
       "7.0      1532\n",
       "4.0       863\n",
       "8.0       489\n",
       "3.0       447\n",
       "1.0       330\n",
       "2.0       268\n",
       "5.0       215\n",
       "6.0       163\n",
       "0.0        56\n",
       "31.0        1\n",
       "13.0        1\n",
       "dtype: int64"
      ]
     },
     "execution_count": 29,
     "metadata": {},
     "output_type": "execute_result"
    }
   ],
   "source": [
    "pd.DataFrame(temp.groupby(['UserId']).mean()['month']).value_counts()"
   ]
  },
  {
   "cell_type": "markdown",
   "metadata": {},
   "source": [
    "+ 이 데이터도 7월에 몰려 있다. 전반적인 데이터가 7월에 몰려있는데 한달만 활동한 사용자가 여러 달에 골고루 들어 있지 않을까 했던게 실수였다.\n",
    "   + 사용 기간을 한달로 정해 영화 평점 데이터를 단기간 동안 쇼핑 사이트에 접속하여 상품을 클릭한 세션 데이터와 유사하게 만들고자 했던 건 전체적인 데이터의 분포를 무시한 안일한 생각이었다.\n",
    "   + 영화 평점 평가 사이트의 데이터 분포와 쇼핑 사이트 세션 기록 분포의 차이도 생각하지 않고 막연히 유사해지지 않을까 기대했던 것 같다."
   ]
  },
  {
   "cell_type": "code",
   "execution_count": 30,
   "metadata": {},
   "outputs": [
    {
     "data": {
      "text/plain": [
       "63"
      ]
     },
     "execution_count": 30,
     "metadata": {},
     "output_type": "execute_result"
    }
   ],
   "source": [
    "cond = data['UserId'] == 2\n",
    "data[cond]['Time'].duplicated().sum()"
   ]
  },
  {
   "cell_type": "code",
   "execution_count": 31,
   "metadata": {},
   "outputs": [],
   "source": [
    "def get_duplicated_timestamp(df):\n",
    "    temp = {}\n",
    "    if df['Time'].duplicated().sum() > 0:\n",
    "        temp['duplicated_timestamp'] = 1\n",
    "    else:\n",
    "        temp['duplicated_timestamp'] = 0\n",
    "    return pd.Series(temp)"
   ]
  },
  {
   "cell_type": "code",
   "execution_count": 32,
   "metadata": {},
   "outputs": [
    {
     "data": {
      "text/plain": [
       "duplicated_timestamp\n",
       "1                       6038\n",
       "0                          2\n",
       "dtype: int64"
      ]
     },
     "execution_count": 32,
     "metadata": {},
     "output_type": "execute_result"
    }
   ],
   "source": [
    "duplicated_timestamp = data.groupby(['UserId']).apply(get_duplicated_timestamp)\n",
    "duplicated_timestamp.value_counts()"
   ]
  },
  {
   "cell_type": "markdown",
   "metadata": {},
   "source": [
    "+ Time이 초까지 겹치는 데이터가 발생하는 것이 이상한 일은 아닌 모양이다."
   ]
  },
  {
   "cell_type": "markdown",
   "metadata": {},
   "source": [
    "---\n",
    "+ 세션을 어떻게 나눌지에 대해 계속 고민해 봤지만 장기간 계속 사용한 사용자의 특성도 유지하면서 timestamp가 찍힌 실제 시기도 반영하고 유사한 길이의 session으로 구성하는 것은 어려울 것 같다.\n",
    "   + 목적을 다시 상기해 보자면 새로운 사용자가 선호하는 영화를 추천하는 것이 목적이다.\n",
    "   + 비선호 영화는 선택 기록에서 제거하기로 한다.\n",
    "     + rating 점수가 낮은 것은 선호하지 않음을 표현한 것으로 간주하고 기록에서 제거하기로 한다. rating 2점 이하는 비선호로 판단한다.\n",
    "     + 사람들이 rating으로 평가한 횟수가 적은 영화도 선호도가 낮은 영화로 간주하고 기록에서 제거하기로 한다.\n",
    "   + 이상한 사용자는 기록에서 제거하기로 한다.\n",
    "     + timestamp 기록을 보고 정상적 사용자가 아니라고 판단되는 기록은 제거하기로 한다.\n",
    "   + 영화 선호가 시기에 따라 급변할 것 같지는 않다. \n",
    "     + 데이터가 뭉쳐 있는 초반의 데이터를 무시할 필요는 없을 것 같다. 신규 사용자가 예전 영화로 자신의 선호를 드러낼 수도 있다.\n",
    "     + 예전 데이터에는 없던 새로 개봉한 영화에 대한 선호를 학습 데이터로 확보할 필요가 있으므로 최대한 나중의 데이터도 확보할 필요가 있다.\n",
    "     + 신규 사용자에 대한 영화 추천이 목적이라면 노드에서 구성한 것과 같이 가장 최근의 데이터를 test로 그 직전의 데이터를 validation으로 설정하는 것이 좋겠다.\n",
    "     + 연 단위로 하면 데이터 간 시점의 차이가 크므로 월 단위로 잘라서 최근 월의 데이터의 양을 살펴본 후 적정량을 test, validation으로 구성하기로 한다. \n",
    "   + 월 단위로 자르면 한 아이디로 월에 걸쳐 형성된 sequence 데이터가 test, train, validation에 섞여 들어갈 수 있다.\n",
    "     + 장기 사용자의 선택이 월으로 나눔으로 인해 train, test, validation에 골고루 섞여 들어간다 하더라도 예전에 평점을 준 영화에 또 평점을 주지는 않을 것이므로 독립적인 별개의 사용자로 볼 수도 있지 않을까?\n",
    "   + 한 session의 길이?\n",
    "     + 월 별로 데이터를 잘라보고 최대 길이를 정해보기로 한다. 가능한 원 데이터에서 최소단위 였던 20 근처에서 맞춰본다."
   ]
  },
  {
   "cell_type": "code",
   "execution_count": 33,
   "metadata": {},
   "outputs": [
    {
     "data": {
      "text/html": [
       "<div>\n",
       "<style scoped>\n",
       "    .dataframe tbody tr th:only-of-type {\n",
       "        vertical-align: middle;\n",
       "    }\n",
       "\n",
       "    .dataframe tbody tr th {\n",
       "        vertical-align: top;\n",
       "    }\n",
       "\n",
       "    .dataframe thead th {\n",
       "        text-align: right;\n",
       "    }\n",
       "</style>\n",
       "<table border=\"1\" class=\"dataframe\">\n",
       "  <thead>\n",
       "    <tr style=\"text-align: right;\">\n",
       "      <th></th>\n",
       "      <th>UserId</th>\n",
       "      <th>ItemId</th>\n",
       "      <th>Rating</th>\n",
       "      <th>Time</th>\n",
       "      <th>datetime</th>\n",
       "      <th>month</th>\n",
       "    </tr>\n",
       "  </thead>\n",
       "  <tbody>\n",
       "    <tr>\n",
       "      <th>31</th>\n",
       "      <td>1</td>\n",
       "      <td>3186</td>\n",
       "      <td>4</td>\n",
       "      <td>978300019</td>\n",
       "      <td>2000-12-31 22:00:19</td>\n",
       "      <td>8</td>\n",
       "    </tr>\n",
       "    <tr>\n",
       "      <th>22</th>\n",
       "      <td>1</td>\n",
       "      <td>1270</td>\n",
       "      <td>5</td>\n",
       "      <td>978300055</td>\n",
       "      <td>2000-12-31 22:00:55</td>\n",
       "      <td>8</td>\n",
       "    </tr>\n",
       "    <tr>\n",
       "      <th>27</th>\n",
       "      <td>1</td>\n",
       "      <td>1721</td>\n",
       "      <td>4</td>\n",
       "      <td>978300055</td>\n",
       "      <td>2000-12-31 22:00:55</td>\n",
       "      <td>8</td>\n",
       "    </tr>\n",
       "    <tr>\n",
       "      <th>37</th>\n",
       "      <td>1</td>\n",
       "      <td>1022</td>\n",
       "      <td>5</td>\n",
       "      <td>978300055</td>\n",
       "      <td>2000-12-31 22:00:55</td>\n",
       "      <td>8</td>\n",
       "    </tr>\n",
       "    <tr>\n",
       "      <th>24</th>\n",
       "      <td>1</td>\n",
       "      <td>2340</td>\n",
       "      <td>3</td>\n",
       "      <td>978300103</td>\n",
       "      <td>2000-12-31 22:01:43</td>\n",
       "      <td>8</td>\n",
       "    </tr>\n",
       "    <tr>\n",
       "      <th>...</th>\n",
       "      <td>...</td>\n",
       "      <td>...</td>\n",
       "      <td>...</td>\n",
       "      <td>...</td>\n",
       "      <td>...</td>\n",
       "      <td>...</td>\n",
       "    </tr>\n",
       "    <tr>\n",
       "      <th>1000019</th>\n",
       "      <td>6040</td>\n",
       "      <td>2917</td>\n",
       "      <td>4</td>\n",
       "      <td>997454429</td>\n",
       "      <td>2001-08-10 14:40:29</td>\n",
       "      <td>16</td>\n",
       "    </tr>\n",
       "    <tr>\n",
       "      <th>999988</th>\n",
       "      <td>6040</td>\n",
       "      <td>1921</td>\n",
       "      <td>4</td>\n",
       "      <td>997454464</td>\n",
       "      <td>2001-08-10 14:41:04</td>\n",
       "      <td>16</td>\n",
       "    </tr>\n",
       "    <tr>\n",
       "      <th>1000172</th>\n",
       "      <td>6040</td>\n",
       "      <td>1784</td>\n",
       "      <td>3</td>\n",
       "      <td>997454464</td>\n",
       "      <td>2001-08-10 14:41:04</td>\n",
       "      <td>16</td>\n",
       "    </tr>\n",
       "    <tr>\n",
       "      <th>1000167</th>\n",
       "      <td>6040</td>\n",
       "      <td>161</td>\n",
       "      <td>3</td>\n",
       "      <td>997454486</td>\n",
       "      <td>2001-08-10 14:41:26</td>\n",
       "      <td>16</td>\n",
       "    </tr>\n",
       "    <tr>\n",
       "      <th>1000042</th>\n",
       "      <td>6040</td>\n",
       "      <td>1221</td>\n",
       "      <td>4</td>\n",
       "      <td>998315055</td>\n",
       "      <td>2001-08-20 13:44:15</td>\n",
       "      <td>16</td>\n",
       "    </tr>\n",
       "  </tbody>\n",
       "</table>\n",
       "<p>836478 rows × 6 columns</p>\n",
       "</div>"
      ],
      "text/plain": [
       "         UserId  ItemId  Rating       Time            datetime  month\n",
       "31            1    3186       4  978300019 2000-12-31 22:00:19      8\n",
       "22            1    1270       5  978300055 2000-12-31 22:00:55      8\n",
       "27            1    1721       4  978300055 2000-12-31 22:00:55      8\n",
       "37            1    1022       5  978300055 2000-12-31 22:00:55      8\n",
       "24            1    2340       3  978300103 2000-12-31 22:01:43      8\n",
       "...         ...     ...     ...        ...                 ...    ...\n",
       "1000019    6040    2917       4  997454429 2001-08-10 14:40:29     16\n",
       "999988     6040    1921       4  997454464 2001-08-10 14:41:04     16\n",
       "1000172    6040    1784       3  997454464 2001-08-10 14:41:04     16\n",
       "1000167    6040     161       3  997454486 2001-08-10 14:41:26     16\n",
       "1000042    6040    1221       4  998315055 2001-08-20 13:44:15     16\n",
       "\n",
       "[836478 rows x 6 columns]"
      ]
     },
     "execution_count": 33,
     "metadata": {},
     "output_type": "execute_result"
    }
   ],
   "source": [
    "# rating이 3점 이상인 영화만 남김\n",
    "cond = data['Rating']>2\n",
    "data = data[cond]\n",
    "data"
   ]
  },
  {
   "cell_type": "code",
   "execution_count": 34,
   "metadata": {},
   "outputs": [
    {
     "data": {
      "text/plain": [
       "ItemId\n",
       "1       2000\n",
       "2        551\n",
       "3        339\n",
       "4        102\n",
       "5        214\n",
       "        ... \n",
       "3948     752\n",
       "3949     280\n",
       "3950      47\n",
       "3951      36\n",
       "3952     353\n",
       "Length: 3628, dtype: int64"
      ]
     },
     "execution_count": 34,
     "metadata": {},
     "output_type": "execute_result"
    }
   ],
   "source": [
    "# 영화별 rating이 기록된 횟수\n",
    "movie_popular = data.groupby('ItemId').size()\n",
    "movie_popular"
   ]
  },
  {
   "cell_type": "code",
   "execution_count": 35,
   "metadata": {},
   "outputs": [
    {
     "data": {
      "text/plain": [
       "(1, 3211, 230.56174200661522, 355.59639328683835)"
      ]
     },
     "execution_count": 35,
     "metadata": {},
     "output_type": "execute_result"
    }
   ],
   "source": [
    "# 최소 선택 영화, 최대 선택 영화, 평균, 표준편차\n",
    "movie_popular.min(), movie_popular.max(), movie_popular.mean(), movie_popular.std()"
   ]
  },
  {
   "cell_type": "code",
   "execution_count": 36,
   "metadata": {},
   "outputs": [
    {
     "data": {
      "text/plain": [
       "<AxesSubplot:ylabel='Density'>"
      ]
     },
     "execution_count": 36,
     "metadata": {},
     "output_type": "execute_result"
    },
    {
     "data": {
      "image/png": "[encoded data removed]",
      "text/plain": [
       "<Figure size 432x288 with 1 Axes>"
      ]
     },
     "metadata": {
      "needs_background": "light"
     },
     "output_type": "display_data"
    }
   ],
   "source": [
    "import seaborn as sns\n",
    "sns.kdeplot(movie_popular)"
   ]
  },
  {
   "cell_type": "code",
   "execution_count": 37,
   "metadata": {},
   "outputs": [
    {
     "data": {
      "image/png": "[encoded data removed]",
      "text/plain": [
       "<Figure size 1440x720 with 1 Axes>"
      ]
     },
     "metadata": {
      "needs_background": "light"
     },
     "output_type": "display_data"
    }
   ],
   "source": [
    "popularity_count = movie_popular.groupby(movie_popular).size()\n",
    "popularity_percent_cumsum = popularity_count.cumsum() / popularity_count.sum()\n",
    "\n",
    "plt.figure(figsize=(20, 10))\n",
    "plt.bar(x=popularity_percent_cumsum.index,\n",
    "        height=popularity_percent_cumsum, color='blue')\n",
    "plt.xticks(popularity_percent_cumsum.index)\n",
    "plt.yticks(np.arange(0, 1.01, 0.05))\n",
    "plt.title('Cumsum Percentage', size=20)\n",
    "plt.show()"
   ]
  },
  {
   "cell_type": "code",
   "execution_count": 38,
   "metadata": {},
   "outputs": [
    {
     "data": {
      "text/plain": [
       "1    0.032800\n",
       "2    0.057056\n",
       "3    0.074421\n",
       "4    0.088479\n",
       "5    0.098126\n",
       "dtype: float64"
      ]
     },
     "execution_count": 38,
     "metadata": {},
     "output_type": "execute_result"
    }
   ],
   "source": [
    "popularity_percent_cumsum_01 = popularity_percent_cumsum[popularity_percent_cumsum < 0.1]\n",
    "popularity_percent_cumsum_01"
   ]
  },
  {
   "cell_type": "markdown",
   "metadata": {},
   "source": [
    "+ 2번 선택된 것 까지 제거하여 약 5% 의 아이템을 제거 하기로 한다. "
   ]
  },
  {
   "cell_type": "code",
   "execution_count": 39,
   "metadata": {},
   "outputs": [
    {
     "data": {
      "text/plain": [
       "ItemId\n",
       "98      1\n",
       "138     1\n",
       "139     1\n",
       "192     1\n",
       "286     1\n",
       "       ..\n",
       "3842    1\n",
       "3876    1\n",
       "3881    1\n",
       "3890    1\n",
       "3899    1\n",
       "Length: 119, dtype: int64"
      ]
     },
     "execution_count": 39,
     "metadata": {},
     "output_type": "execute_result"
    }
   ],
   "source": [
    "less_fav = movie_popular[movie_popular==1]\n",
    "less_fav"
   ]
  },
  {
   "cell_type": "code",
   "execution_count": 40,
   "metadata": {},
   "outputs": [
    {
     "data": {
      "text/plain": [
       "Int64Index([  98,  138,  139,  192,  286,  311,  396,  398,  401,  402,\n",
       "            ...\n",
       "            3748, 3772, 3779, 3800, 3828, 3842, 3876, 3881, 3890, 3899],\n",
       "           dtype='int64', name='ItemId', length=119)"
      ]
     },
     "execution_count": 40,
     "metadata": {},
     "output_type": "execute_result"
    }
   ],
   "source": [
    "less_fav_list = less_fav.index\n",
    "less_fav_list"
   ]
  },
  {
   "cell_type": "code",
   "execution_count": 41,
   "metadata": {},
   "outputs": [
    {
     "data": {
      "text/html": [
       "<div>\n",
       "<style scoped>\n",
       "    .dataframe tbody tr th:only-of-type {\n",
       "        vertical-align: middle;\n",
       "    }\n",
       "\n",
       "    .dataframe tbody tr th {\n",
       "        vertical-align: top;\n",
       "    }\n",
       "\n",
       "    .dataframe thead th {\n",
       "        text-align: right;\n",
       "    }\n",
       "</style>\n",
       "<table border=\"1\" class=\"dataframe\">\n",
       "  <thead>\n",
       "    <tr style=\"text-align: right;\">\n",
       "      <th></th>\n",
       "      <th>UserId</th>\n",
       "      <th>ItemId</th>\n",
       "      <th>Rating</th>\n",
       "      <th>Time</th>\n",
       "      <th>datetime</th>\n",
       "      <th>month</th>\n",
       "    </tr>\n",
       "  </thead>\n",
       "  <tbody>\n",
       "    <tr>\n",
       "      <th>31</th>\n",
       "      <td>1</td>\n",
       "      <td>3186</td>\n",
       "      <td>4</td>\n",
       "      <td>978300019</td>\n",
       "      <td>2000-12-31 22:00:19</td>\n",
       "      <td>8</td>\n",
       "    </tr>\n",
       "    <tr>\n",
       "      <th>22</th>\n",
       "      <td>1</td>\n",
       "      <td>1270</td>\n",
       "      <td>5</td>\n",
       "      <td>978300055</td>\n",
       "      <td>2000-12-31 22:00:55</td>\n",
       "      <td>8</td>\n",
       "    </tr>\n",
       "    <tr>\n",
       "      <th>27</th>\n",
       "      <td>1</td>\n",
       "      <td>1721</td>\n",
       "      <td>4</td>\n",
       "      <td>978300055</td>\n",
       "      <td>2000-12-31 22:00:55</td>\n",
       "      <td>8</td>\n",
       "    </tr>\n",
       "    <tr>\n",
       "      <th>37</th>\n",
       "      <td>1</td>\n",
       "      <td>1022</td>\n",
       "      <td>5</td>\n",
       "      <td>978300055</td>\n",
       "      <td>2000-12-31 22:00:55</td>\n",
       "      <td>8</td>\n",
       "    </tr>\n",
       "    <tr>\n",
       "      <th>24</th>\n",
       "      <td>1</td>\n",
       "      <td>2340</td>\n",
       "      <td>3</td>\n",
       "      <td>978300103</td>\n",
       "      <td>2000-12-31 22:01:43</td>\n",
       "      <td>8</td>\n",
       "    </tr>\n",
       "    <tr>\n",
       "      <th>...</th>\n",
       "      <td>...</td>\n",
       "      <td>...</td>\n",
       "      <td>...</td>\n",
       "      <td>...</td>\n",
       "      <td>...</td>\n",
       "      <td>...</td>\n",
       "    </tr>\n",
       "    <tr>\n",
       "      <th>1000019</th>\n",
       "      <td>6040</td>\n",
       "      <td>2917</td>\n",
       "      <td>4</td>\n",
       "      <td>997454429</td>\n",
       "      <td>2001-08-10 14:40:29</td>\n",
       "      <td>16</td>\n",
       "    </tr>\n",
       "    <tr>\n",
       "      <th>999988</th>\n",
       "      <td>6040</td>\n",
       "      <td>1921</td>\n",
       "      <td>4</td>\n",
       "      <td>997454464</td>\n",
       "      <td>2001-08-10 14:41:04</td>\n",
       "      <td>16</td>\n",
       "    </tr>\n",
       "    <tr>\n",
       "      <th>1000172</th>\n",
       "      <td>6040</td>\n",
       "      <td>1784</td>\n",
       "      <td>3</td>\n",
       "      <td>997454464</td>\n",
       "      <td>2001-08-10 14:41:04</td>\n",
       "      <td>16</td>\n",
       "    </tr>\n",
       "    <tr>\n",
       "      <th>1000167</th>\n",
       "      <td>6040</td>\n",
       "      <td>161</td>\n",
       "      <td>3</td>\n",
       "      <td>997454486</td>\n",
       "      <td>2001-08-10 14:41:26</td>\n",
       "      <td>16</td>\n",
       "    </tr>\n",
       "    <tr>\n",
       "      <th>1000042</th>\n",
       "      <td>6040</td>\n",
       "      <td>1221</td>\n",
       "      <td>4</td>\n",
       "      <td>998315055</td>\n",
       "      <td>2001-08-20 13:44:15</td>\n",
       "      <td>16</td>\n",
       "    </tr>\n",
       "  </tbody>\n",
       "</table>\n",
       "<p>836359 rows × 6 columns</p>\n",
       "</div>"
      ],
      "text/plain": [
       "         UserId  ItemId  Rating       Time            datetime  month\n",
       "31            1    3186       4  978300019 2000-12-31 22:00:19      8\n",
       "22            1    1270       5  978300055 2000-12-31 22:00:55      8\n",
       "27            1    1721       4  978300055 2000-12-31 22:00:55      8\n",
       "37            1    1022       5  978300055 2000-12-31 22:00:55      8\n",
       "24            1    2340       3  978300103 2000-12-31 22:01:43      8\n",
       "...         ...     ...     ...        ...                 ...    ...\n",
       "1000019    6040    2917       4  997454429 2001-08-10 14:40:29     16\n",
       "999988     6040    1921       4  997454464 2001-08-10 14:41:04     16\n",
       "1000172    6040    1784       3  997454464 2001-08-10 14:41:04     16\n",
       "1000167    6040     161       3  997454486 2001-08-10 14:41:26     16\n",
       "1000042    6040    1221       4  998315055 2001-08-20 13:44:15     16\n",
       "\n",
       "[836359 rows x 6 columns]"
      ]
     },
     "execution_count": 41,
     "metadata": {},
     "output_type": "execute_result"
    }
   ],
   "source": [
    "data = data[~data['ItemId'].isin(less_fav_list)]\n",
    "data"
   ]
  },
  {
   "cell_type": "code",
   "execution_count": 42,
   "metadata": {},
   "outputs": [
    {
     "data": {
      "text/plain": [
       "ItemId\n",
       "120     2\n",
       "130     2\n",
       "134     2\n",
       "439     2\n",
       "530     2\n",
       "       ..\n",
       "3595    2\n",
       "3601    2\n",
       "3603    2\n",
       "3631    2\n",
       "3888    2\n",
       "Length: 88, dtype: int64"
      ]
     },
     "execution_count": 42,
     "metadata": {},
     "output_type": "execute_result"
    }
   ],
   "source": [
    "less_fav = movie_popular[movie_popular==2]\n",
    "less_fav"
   ]
  },
  {
   "cell_type": "code",
   "execution_count": 43,
   "metadata": {},
   "outputs": [
    {
     "data": {
      "text/plain": [
       "Int64Index([ 120,  130,  134,  439,  530,  557,  578,  582,  623,  657,  666,\n",
       "             679,  698,  703,  712,  729,  734,  791,  796,  815,  827,  834,\n",
       "             847,  884,  981, 1070, 1098, 1134, 1139, 1170, 1364, 1383, 1434,\n",
       "            1495, 1538, 1622, 1636, 1795, 1796, 1842, 1851, 1877, 1886, 1891,\n",
       "            1989, 2198, 2234, 2244, 2251, 2309, 2480, 2543, 2631, 2754, 2777,\n",
       "            2811, 2823, 2825, 2869, 2895, 2934, 3057, 3084, 3131, 3136, 3187,\n",
       "            3216, 3233, 3295, 3305, 3336, 3337, 3352, 3353, 3373, 3377, 3380,\n",
       "            3381, 3413, 3482, 3517, 3573, 3575, 3595, 3601, 3603, 3631, 3888],\n",
       "           dtype='int64', name='ItemId')"
      ]
     },
     "execution_count": 43,
     "metadata": {},
     "output_type": "execute_result"
    }
   ],
   "source": [
    "less_fav_list = less_fav.index\n",
    "less_fav_list"
   ]
  },
  {
   "cell_type": "code",
   "execution_count": 44,
   "metadata": {},
   "outputs": [
    {
     "data": {
      "text/html": [
       "<div>\n",
       "<style scoped>\n",
       "    .dataframe tbody tr th:only-of-type {\n",
       "        vertical-align: middle;\n",
       "    }\n",
       "\n",
       "    .dataframe tbody tr th {\n",
       "        vertical-align: top;\n",
       "    }\n",
       "\n",
       "    .dataframe thead th {\n",
       "        text-align: right;\n",
       "    }\n",
       "</style>\n",
       "<table border=\"1\" class=\"dataframe\">\n",
       "  <thead>\n",
       "    <tr style=\"text-align: right;\">\n",
       "      <th></th>\n",
       "      <th>UserId</th>\n",
       "      <th>ItemId</th>\n",
       "      <th>Rating</th>\n",
       "      <th>Time</th>\n",
       "      <th>datetime</th>\n",
       "      <th>month</th>\n",
       "    </tr>\n",
       "  </thead>\n",
       "  <tbody>\n",
       "    <tr>\n",
       "      <th>31</th>\n",
       "      <td>1</td>\n",
       "      <td>3186</td>\n",
       "      <td>4</td>\n",
       "      <td>978300019</td>\n",
       "      <td>2000-12-31 22:00:19</td>\n",
       "      <td>8</td>\n",
       "    </tr>\n",
       "    <tr>\n",
       "      <th>22</th>\n",
       "      <td>1</td>\n",
       "      <td>1270</td>\n",
       "      <td>5</td>\n",
       "      <td>978300055</td>\n",
       "      <td>2000-12-31 22:00:55</td>\n",
       "      <td>8</td>\n",
       "    </tr>\n",
       "    <tr>\n",
       "      <th>27</th>\n",
       "      <td>1</td>\n",
       "      <td>1721</td>\n",
       "      <td>4</td>\n",
       "      <td>978300055</td>\n",
       "      <td>2000-12-31 22:00:55</td>\n",
       "      <td>8</td>\n",
       "    </tr>\n",
       "    <tr>\n",
       "      <th>37</th>\n",
       "      <td>1</td>\n",
       "      <td>1022</td>\n",
       "      <td>5</td>\n",
       "      <td>978300055</td>\n",
       "      <td>2000-12-31 22:00:55</td>\n",
       "      <td>8</td>\n",
       "    </tr>\n",
       "    <tr>\n",
       "      <th>24</th>\n",
       "      <td>1</td>\n",
       "      <td>2340</td>\n",
       "      <td>3</td>\n",
       "      <td>978300103</td>\n",
       "      <td>2000-12-31 22:01:43</td>\n",
       "      <td>8</td>\n",
       "    </tr>\n",
       "    <tr>\n",
       "      <th>...</th>\n",
       "      <td>...</td>\n",
       "      <td>...</td>\n",
       "      <td>...</td>\n",
       "      <td>...</td>\n",
       "      <td>...</td>\n",
       "      <td>...</td>\n",
       "    </tr>\n",
       "    <tr>\n",
       "      <th>1000019</th>\n",
       "      <td>6040</td>\n",
       "      <td>2917</td>\n",
       "      <td>4</td>\n",
       "      <td>997454429</td>\n",
       "      <td>2001-08-10 14:40:29</td>\n",
       "      <td>16</td>\n",
       "    </tr>\n",
       "    <tr>\n",
       "      <th>999988</th>\n",
       "      <td>6040</td>\n",
       "      <td>1921</td>\n",
       "      <td>4</td>\n",
       "      <td>997454464</td>\n",
       "      <td>2001-08-10 14:41:04</td>\n",
       "      <td>16</td>\n",
       "    </tr>\n",
       "    <tr>\n",
       "      <th>1000172</th>\n",
       "      <td>6040</td>\n",
       "      <td>1784</td>\n",
       "      <td>3</td>\n",
       "      <td>997454464</td>\n",
       "      <td>2001-08-10 14:41:04</td>\n",
       "      <td>16</td>\n",
       "    </tr>\n",
       "    <tr>\n",
       "      <th>1000167</th>\n",
       "      <td>6040</td>\n",
       "      <td>161</td>\n",
       "      <td>3</td>\n",
       "      <td>997454486</td>\n",
       "      <td>2001-08-10 14:41:26</td>\n",
       "      <td>16</td>\n",
       "    </tr>\n",
       "    <tr>\n",
       "      <th>1000042</th>\n",
       "      <td>6040</td>\n",
       "      <td>1221</td>\n",
       "      <td>4</td>\n",
       "      <td>998315055</td>\n",
       "      <td>2001-08-20 13:44:15</td>\n",
       "      <td>16</td>\n",
       "    </tr>\n",
       "  </tbody>\n",
       "</table>\n",
       "<p>836183 rows × 6 columns</p>\n",
       "</div>"
      ],
      "text/plain": [
       "         UserId  ItemId  Rating       Time            datetime  month\n",
       "31            1    3186       4  978300019 2000-12-31 22:00:19      8\n",
       "22            1    1270       5  978300055 2000-12-31 22:00:55      8\n",
       "27            1    1721       4  978300055 2000-12-31 22:00:55      8\n",
       "37            1    1022       5  978300055 2000-12-31 22:00:55      8\n",
       "24            1    2340       3  978300103 2000-12-31 22:01:43      8\n",
       "...         ...     ...     ...        ...                 ...    ...\n",
       "1000019    6040    2917       4  997454429 2001-08-10 14:40:29     16\n",
       "999988     6040    1921       4  997454464 2001-08-10 14:41:04     16\n",
       "1000172    6040    1784       3  997454464 2001-08-10 14:41:04     16\n",
       "1000167    6040     161       3  997454486 2001-08-10 14:41:26     16\n",
       "1000042    6040    1221       4  998315055 2001-08-20 13:44:15     16\n",
       "\n",
       "[836183 rows x 6 columns]"
      ]
     },
     "execution_count": 44,
     "metadata": {},
     "output_type": "execute_result"
    }
   ],
   "source": [
    "data = data[~data['ItemId'].isin(less_fav_list)]\n",
    "data"
   ]
  },
  {
   "cell_type": "code",
   "execution_count": 45,
   "metadata": {},
   "outputs": [
    {
     "data": {
      "text/plain": [
       "UserId\n",
       "1        53\n",
       "2       116\n",
       "3        46\n",
       "4        19\n",
       "5       143\n",
       "       ... \n",
       "6036    708\n",
       "6037    189\n",
       "6038     18\n",
       "6039    119\n",
       "6040    276\n",
       "Length: 6039, dtype: int64"
      ]
     },
     "execution_count": 45,
     "metadata": {},
     "output_type": "execute_result"
    }
   ],
   "source": [
    "# 각 아이디 별 평점 데이터 몇개정도를 갖는지도 살펴보겠습니다.\n",
    "user_length = data.groupby('UserId').size()\n",
    "user_length"
   ]
  },
  {
   "cell_type": "code",
   "execution_count": 46,
   "metadata": {},
   "outputs": [
    {
     "data": {
      "text/plain": [
       "(1, 1944, 138.46381851299884, 156.12773764176876)"
      ]
     },
     "execution_count": 46,
     "metadata": {},
     "output_type": "execute_result"
    }
   ],
   "source": [
    "user_length.min(), user_length.max(), user_length.mean(), user_length.std()"
   ]
  },
  {
   "cell_type": "code",
   "execution_count": 47,
   "metadata": {},
   "outputs": [
    {
     "data": {
      "text/plain": [
       "1       0.000166\n",
       "7       0.000331\n",
       "9       0.000994\n",
       "10      0.001159\n",
       "11      0.001987\n",
       "          ...   \n",
       "1144    0.999338\n",
       "1145    0.999503\n",
       "1513    0.999669\n",
       "1712    0.999834\n",
       "1944    1.000000\n",
       "Length: 642, dtype: float64"
      ]
     },
     "execution_count": 47,
     "metadata": {},
     "output_type": "execute_result"
    }
   ],
   "source": [
    "length_count = user_length.groupby(user_length).size()\n",
    "length_percent_cumsum = length_count.cumsum() / length_count.sum()\n",
    "\n",
    "length_percent_cumsum"
   ]
  },
  {
   "cell_type": "code",
   "execution_count": 48,
   "metadata": {},
   "outputs": [
    {
     "data": {
      "image/png": "[encoded data removed]",
      "text/plain": [
       "<Figure size 1440x720 with 1 Axes>"
      ]
     },
     "metadata": {
      "needs_background": "light"
     },
     "output_type": "display_data"
    }
   ],
   "source": [
    "plt.figure(figsize=(20, 10))\n",
    "plt.bar(x=length_percent_cumsum.index,\n",
    "        height=length_percent_cumsum, color='blue')\n",
    "plt.xticks(length_percent_cumsum.index)\n",
    "plt.yticks(np.arange(0, 1.01, 0.05))\n",
    "plt.title('Cumsum Percentage', size=20)\n",
    "plt.show()"
   ]
  },
  {
   "cell_type": "code",
   "execution_count": 49,
   "metadata": {},
   "outputs": [
    {
     "data": {
      "text/plain": [
       "UserId\n",
       "4169    1944\n",
       "dtype: int64"
      ]
     },
     "execution_count": 49,
     "metadata": {},
     "output_type": "execute_result"
    }
   ],
   "source": [
    "user_length[user_length==1944]"
   ]
  },
  {
   "cell_type": "code",
   "execution_count": 50,
   "metadata": {},
   "outputs": [
    {
     "data": {
      "text/html": [
       "<div>\n",
       "<style scoped>\n",
       "    .dataframe tbody tr th:only-of-type {\n",
       "        vertical-align: middle;\n",
       "    }\n",
       "\n",
       "    .dataframe tbody tr th {\n",
       "        vertical-align: top;\n",
       "    }\n",
       "\n",
       "    .dataframe thead th {\n",
       "        text-align: right;\n",
       "    }\n",
       "</style>\n",
       "<table border=\"1\" class=\"dataframe\">\n",
       "  <thead>\n",
       "    <tr style=\"text-align: right;\">\n",
       "      <th></th>\n",
       "      <th>UserId</th>\n",
       "      <th>ItemId</th>\n",
       "      <th>Rating</th>\n",
       "      <th>Time</th>\n",
       "      <th>datetime</th>\n",
       "      <th>month</th>\n",
       "    </tr>\n",
       "  </thead>\n",
       "  <tbody>\n",
       "    <tr>\n",
       "      <th>696969</th>\n",
       "      <td>4169</td>\n",
       "      <td>1268</td>\n",
       "      <td>5</td>\n",
       "      <td>965333392</td>\n",
       "      <td>2000-08-03 20:09:52</td>\n",
       "      <td>4</td>\n",
       "    </tr>\n",
       "    <tr>\n",
       "      <th>697168</th>\n",
       "      <td>4169</td>\n",
       "      <td>2617</td>\n",
       "      <td>4</td>\n",
       "      <td>965333392</td>\n",
       "      <td>2000-08-03 20:09:52</td>\n",
       "      <td>4</td>\n",
       "    </tr>\n",
       "    <tr>\n",
       "      <th>697185</th>\n",
       "      <td>4169</td>\n",
       "      <td>2628</td>\n",
       "      <td>4</td>\n",
       "      <td>965333392</td>\n",
       "      <td>2000-08-03 20:09:52</td>\n",
       "      <td>4</td>\n",
       "    </tr>\n",
       "    <tr>\n",
       "      <th>697219</th>\n",
       "      <td>4169</td>\n",
       "      <td>2653</td>\n",
       "      <td>4</td>\n",
       "      <td>965333392</td>\n",
       "      <td>2000-08-03 20:09:52</td>\n",
       "      <td>4</td>\n",
       "    </tr>\n",
       "    <tr>\n",
       "      <th>697275</th>\n",
       "      <td>4169</td>\n",
       "      <td>423</td>\n",
       "      <td>3</td>\n",
       "      <td>965333392</td>\n",
       "      <td>2000-08-03 20:09:52</td>\n",
       "      <td>4</td>\n",
       "    </tr>\n",
       "    <tr>\n",
       "      <th>...</th>\n",
       "      <td>...</td>\n",
       "      <td>...</td>\n",
       "      <td>...</td>\n",
       "      <td>...</td>\n",
       "      <td>...</td>\n",
       "      <td>...</td>\n",
       "    </tr>\n",
       "    <tr>\n",
       "      <th>696870</th>\n",
       "      <td>4169</td>\n",
       "      <td>3916</td>\n",
       "      <td>4</td>\n",
       "      <td>1018211900</td>\n",
       "      <td>2002-04-07 20:38:20</td>\n",
       "      <td>24</td>\n",
       "    </tr>\n",
       "    <tr>\n",
       "      <th>697272</th>\n",
       "      <td>4169</td>\n",
       "      <td>2691</td>\n",
       "      <td>3</td>\n",
       "      <td>1024172088</td>\n",
       "      <td>2002-06-15 20:14:48</td>\n",
       "      <td>26</td>\n",
       "    </tr>\n",
       "    <tr>\n",
       "      <th>697055</th>\n",
       "      <td>4169</td>\n",
       "      <td>3207</td>\n",
       "      <td>3</td>\n",
       "      <td>1024172606</td>\n",
       "      <td>2002-06-15 20:23:26</td>\n",
       "      <td>26</td>\n",
       "    </tr>\n",
       "    <tr>\n",
       "      <th>695702</th>\n",
       "      <td>4169</td>\n",
       "      <td>1413</td>\n",
       "      <td>3</td>\n",
       "      <td>1024175031</td>\n",
       "      <td>2002-06-15 21:03:51</td>\n",
       "      <td>26</td>\n",
       "    </tr>\n",
       "    <tr>\n",
       "      <th>697358</th>\n",
       "      <td>4169</td>\n",
       "      <td>494</td>\n",
       "      <td>4</td>\n",
       "      <td>1024175760</td>\n",
       "      <td>2002-06-15 21:16:00</td>\n",
       "      <td>26</td>\n",
       "    </tr>\n",
       "  </tbody>\n",
       "</table>\n",
       "<p>1944 rows × 6 columns</p>\n",
       "</div>"
      ],
      "text/plain": [
       "        UserId  ItemId  Rating        Time            datetime  month\n",
       "696969    4169    1268       5   965333392 2000-08-03 20:09:52      4\n",
       "697168    4169    2617       4   965333392 2000-08-03 20:09:52      4\n",
       "697185    4169    2628       4   965333392 2000-08-03 20:09:52      4\n",
       "697219    4169    2653       4   965333392 2000-08-03 20:09:52      4\n",
       "697275    4169     423       3   965333392 2000-08-03 20:09:52      4\n",
       "...        ...     ...     ...         ...                 ...    ...\n",
       "696870    4169    3916       4  1018211900 2002-04-07 20:38:20     24\n",
       "697272    4169    2691       3  1024172088 2002-06-15 20:14:48     26\n",
       "697055    4169    3207       3  1024172606 2002-06-15 20:23:26     26\n",
       "695702    4169    1413       3  1024175031 2002-06-15 21:03:51     26\n",
       "697358    4169     494       4  1024175760 2002-06-15 21:16:00     26\n",
       "\n",
       "[1944 rows x 6 columns]"
      ]
     },
     "execution_count": 50,
     "metadata": {},
     "output_type": "execute_result"
    }
   ],
   "source": [
    "long_history = user_length[user_length==1944].index[0]\n",
    "data[data['UserId']==long_history]"
   ]
  },
  {
   "cell_type": "code",
   "execution_count": 51,
   "metadata": {},
   "outputs": [
    {
     "data": {
      "text/plain": [
       "6     562\n",
       "8     478\n",
       "4     443\n",
       "7     213\n",
       "9      75\n",
       "5      72\n",
       "10     22\n",
       "11     21\n",
       "19      9\n",
       "22      7\n",
       "17      7\n",
       "15      7\n",
       "13      7\n",
       "12      6\n",
       "23      6\n",
       "21      4\n",
       "26      4\n",
       "24      1\n",
       "Name: month, dtype: int64"
      ]
     },
     "execution_count": 51,
     "metadata": {},
     "output_type": "execute_result"
    }
   ],
   "source": [
    "data[data['UserId']==long_history]['month'].value_counts()"
   ]
  },
  {
   "cell_type": "code",
   "execution_count": 52,
   "metadata": {},
   "outputs": [
    {
     "data": {
      "text/plain": [
       "<AxesSubplot:>"
      ]
     },
     "execution_count": 52,
     "metadata": {},
     "output_type": "execute_result"
    },
    {
     "data": {
      "image/png": "[encoded data removed]",
      "text/plain": [
       "<Figure size 432x288 with 1 Axes>"
      ]
     },
     "metadata": {
      "needs_background": "light"
     },
     "output_type": "display_data"
    }
   ],
   "source": [
    "pd.DataFrame(data[data['UserId']==long_history]['month'].value_counts()).sort_index().plot()"
   ]
  },
  {
   "cell_type": "code",
   "execution_count": 53,
   "metadata": {},
   "outputs": [
    {
     "data": {
      "text/html": [
       "<div>\n",
       "<style scoped>\n",
       "    .dataframe tbody tr th:only-of-type {\n",
       "        vertical-align: middle;\n",
       "    }\n",
       "\n",
       "    .dataframe tbody tr th {\n",
       "        vertical-align: top;\n",
       "    }\n",
       "\n",
       "    .dataframe thead th {\n",
       "        text-align: right;\n",
       "    }\n",
       "</style>\n",
       "<table border=\"1\" class=\"dataframe\">\n",
       "  <thead>\n",
       "    <tr style=\"text-align: right;\">\n",
       "      <th></th>\n",
       "      <th>UserId</th>\n",
       "      <th>ItemId</th>\n",
       "      <th>Rating</th>\n",
       "      <th>Time</th>\n",
       "      <th>datetime</th>\n",
       "      <th>month</th>\n",
       "    </tr>\n",
       "  </thead>\n",
       "  <tbody>\n",
       "    <tr>\n",
       "      <th>696349</th>\n",
       "      <td>4169</td>\n",
       "      <td>3893</td>\n",
       "      <td>5</td>\n",
       "      <td>971578194</td>\n",
       "      <td>2000-10-15 02:49:54</td>\n",
       "      <td>6</td>\n",
       "    </tr>\n",
       "    <tr>\n",
       "      <th>696354</th>\n",
       "      <td>4169</td>\n",
       "      <td>3897</td>\n",
       "      <td>5</td>\n",
       "      <td>971578194</td>\n",
       "      <td>2000-10-15 02:49:54</td>\n",
       "      <td>6</td>\n",
       "    </tr>\n",
       "    <tr>\n",
       "      <th>696275</th>\n",
       "      <td>4169</td>\n",
       "      <td>3853</td>\n",
       "      <td>4</td>\n",
       "      <td>971578220</td>\n",
       "      <td>2000-10-15 02:50:20</td>\n",
       "      <td>6</td>\n",
       "    </tr>\n",
       "    <tr>\n",
       "      <th>696274</th>\n",
       "      <td>4169</td>\n",
       "      <td>3852</td>\n",
       "      <td>4</td>\n",
       "      <td>971578241</td>\n",
       "      <td>2000-10-15 02:50:41</td>\n",
       "      <td>6</td>\n",
       "    </tr>\n",
       "    <tr>\n",
       "      <th>696295</th>\n",
       "      <td>4169</td>\n",
       "      <td>3863</td>\n",
       "      <td>4</td>\n",
       "      <td>971578267</td>\n",
       "      <td>2000-10-15 02:51:07</td>\n",
       "      <td>6</td>\n",
       "    </tr>\n",
       "    <tr>\n",
       "      <th>...</th>\n",
       "      <td>...</td>\n",
       "      <td>...</td>\n",
       "      <td>...</td>\n",
       "      <td>...</td>\n",
       "      <td>...</td>\n",
       "      <td>...</td>\n",
       "    </tr>\n",
       "    <tr>\n",
       "      <th>696661</th>\n",
       "      <td>4169</td>\n",
       "      <td>17</td>\n",
       "      <td>5</td>\n",
       "      <td>971582323</td>\n",
       "      <td>2000-10-15 03:58:43</td>\n",
       "      <td>6</td>\n",
       "    </tr>\n",
       "    <tr>\n",
       "      <th>696723</th>\n",
       "      <td>4169</td>\n",
       "      <td>34</td>\n",
       "      <td>4</td>\n",
       "      <td>971582323</td>\n",
       "      <td>2000-10-15 03:58:43</td>\n",
       "      <td>6</td>\n",
       "    </tr>\n",
       "    <tr>\n",
       "      <th>697566</th>\n",
       "      <td>4169</td>\n",
       "      <td>1730</td>\n",
       "      <td>4</td>\n",
       "      <td>971582323</td>\n",
       "      <td>2000-10-15 03:58:43</td>\n",
       "      <td>6</td>\n",
       "    </tr>\n",
       "    <tr>\n",
       "      <th>697569</th>\n",
       "      <td>4169</td>\n",
       "      <td>1733</td>\n",
       "      <td>3</td>\n",
       "      <td>971582323</td>\n",
       "      <td>2000-10-15 03:58:43</td>\n",
       "      <td>6</td>\n",
       "    </tr>\n",
       "    <tr>\n",
       "      <th>697868</th>\n",
       "      <td>4169</td>\n",
       "      <td>535</td>\n",
       "      <td>3</td>\n",
       "      <td>971582323</td>\n",
       "      <td>2000-10-15 03:58:43</td>\n",
       "      <td>6</td>\n",
       "    </tr>\n",
       "  </tbody>\n",
       "</table>\n",
       "<p>562 rows × 6 columns</p>\n",
       "</div>"
      ],
      "text/plain": [
       "        UserId  ItemId  Rating       Time            datetime  month\n",
       "696349    4169    3893       5  971578194 2000-10-15 02:49:54      6\n",
       "696354    4169    3897       5  971578194 2000-10-15 02:49:54      6\n",
       "696275    4169    3853       4  971578220 2000-10-15 02:50:20      6\n",
       "696274    4169    3852       4  971578241 2000-10-15 02:50:41      6\n",
       "696295    4169    3863       4  971578267 2000-10-15 02:51:07      6\n",
       "...        ...     ...     ...        ...                 ...    ...\n",
       "696661    4169      17       5  971582323 2000-10-15 03:58:43      6\n",
       "696723    4169      34       4  971582323 2000-10-15 03:58:43      6\n",
       "697566    4169    1730       4  971582323 2000-10-15 03:58:43      6\n",
       "697569    4169    1733       3  971582323 2000-10-15 03:58:43      6\n",
       "697868    4169     535       3  971582323 2000-10-15 03:58:43      6\n",
       "\n",
       "[562 rows x 6 columns]"
      ]
     },
     "execution_count": 53,
     "metadata": {},
     "output_type": "execute_result"
    }
   ],
   "source": [
    "temp = data[data['UserId']==long_history]\n",
    "temp[temp['month']==6]"
   ]
  },
  {
   "cell_type": "code",
   "execution_count": 54,
   "metadata": {},
   "outputs": [
    {
     "data": {
      "text/plain": [
       "Timedelta('0 days 01:08:49')"
      ]
     },
     "execution_count": 54,
     "metadata": {},
     "output_type": "execute_result"
    }
   ],
   "source": [
    "temp[temp['month']==6]['datetime'].max() - temp[temp['month']==6]['datetime'].min()"
   ]
  },
  {
   "cell_type": "code",
   "execution_count": 55,
   "metadata": {},
   "outputs": [
    {
     "data": {
      "text/plain": [
       "[<matplotlib.lines.Line2D at 0x7f686c487f90>]"
      ]
     },
     "execution_count": 55,
     "metadata": {},
     "output_type": "execute_result"
    },
    {
     "data": {
      "image/png": "[encoded data removed]",
      "text/plain": [
       "<Figure size 432x288 with 1 Axes>"
      ]
     },
     "metadata": {
      "needs_background": "light"
     },
     "output_type": "display_data"
    }
   ],
   "source": [
    "# 시간 차분으로 평가 사이사이 걸린 시간을 확인함\n",
    "x = temp[temp['month']==6]['Time']\n",
    "y = temp[temp['month']==6]['Time'].diff()\n",
    "plt.plot(x,y)"
   ]
  },
  {
   "cell_type": "code",
   "execution_count": 56,
   "metadata": {},
   "outputs": [
    {
     "data": {
      "text/plain": [
       "(170.0, 0.0, 7.360071301247772, 0.0, 18.160458694507334)"
      ]
     },
     "execution_count": 56,
     "metadata": {},
     "output_type": "execute_result"
    }
   ],
   "source": [
    "y.max(), y.min(), y.mean(), y.median(), y.std()"
   ]
  },
  {
   "cell_type": "code",
   "execution_count": 57,
   "metadata": {},
   "outputs": [
    {
     "data": {
      "text/plain": [
       "<AxesSubplot:xlabel='Time', ylabel='Density'>"
      ]
     },
     "execution_count": 57,
     "metadata": {},
     "output_type": "execute_result"
    },
    {
     "data": {
      "image/png": "[encoded data removed]",
      "text/plain": [
       "<Figure size 432x288 with 1 Axes>"
      ]
     },
     "metadata": {
      "needs_background": "light"
     },
     "output_type": "display_data"
    }
   ],
   "source": [
    "sns.kdeplot(y)"
   ]
  },
  {
   "cell_type": "code",
   "execution_count": 58,
   "metadata": {},
   "outputs": [
    {
     "data": {
      "text/html": [
       "<div>\n",
       "<style scoped>\n",
       "    .dataframe tbody tr th:only-of-type {\n",
       "        vertical-align: middle;\n",
       "    }\n",
       "\n",
       "    .dataframe tbody tr th {\n",
       "        vertical-align: top;\n",
       "    }\n",
       "\n",
       "    .dataframe thead th {\n",
       "        text-align: right;\n",
       "    }\n",
       "</style>\n",
       "<table border=\"1\" class=\"dataframe\">\n",
       "  <thead>\n",
       "    <tr style=\"text-align: right;\">\n",
       "      <th></th>\n",
       "      <th>UserId</th>\n",
       "      <th>ItemId</th>\n",
       "      <th>Rating</th>\n",
       "      <th>Time</th>\n",
       "      <th>datetime</th>\n",
       "      <th>month</th>\n",
       "    </tr>\n",
       "  </thead>\n",
       "  <tbody>\n",
       "    <tr>\n",
       "      <th>696869</th>\n",
       "      <td>4169</td>\n",
       "      <td>3914</td>\n",
       "      <td>4</td>\n",
       "      <td>975802901</td>\n",
       "      <td>2000-12-03 00:21:41</td>\n",
       "      <td>8</td>\n",
       "    </tr>\n",
       "    <tr>\n",
       "      <th>696957</th>\n",
       "      <td>4169</td>\n",
       "      <td>3948</td>\n",
       "      <td>4</td>\n",
       "      <td>975802901</td>\n",
       "      <td>2000-12-03 00:21:41</td>\n",
       "      <td>8</td>\n",
       "    </tr>\n",
       "    <tr>\n",
       "      <th>696447</th>\n",
       "      <td>4169</td>\n",
       "      <td>3150</td>\n",
       "      <td>4</td>\n",
       "      <td>975803036</td>\n",
       "      <td>2000-12-03 00:23:56</td>\n",
       "      <td>8</td>\n",
       "    </tr>\n",
       "    <tr>\n",
       "      <th>696291</th>\n",
       "      <td>4169</td>\n",
       "      <td>648</td>\n",
       "      <td>4</td>\n",
       "      <td>975803060</td>\n",
       "      <td>2000-12-03 00:24:20</td>\n",
       "      <td>8</td>\n",
       "    </tr>\n",
       "    <tr>\n",
       "      <th>696959</th>\n",
       "      <td>4169</td>\n",
       "      <td>3949</td>\n",
       "      <td>5</td>\n",
       "      <td>975803116</td>\n",
       "      <td>2000-12-03 00:25:16</td>\n",
       "      <td>8</td>\n",
       "    </tr>\n",
       "    <tr>\n",
       "      <th>...</th>\n",
       "      <td>...</td>\n",
       "      <td>...</td>\n",
       "      <td>...</td>\n",
       "      <td>...</td>\n",
       "      <td>...</td>\n",
       "      <td>...</td>\n",
       "    </tr>\n",
       "    <tr>\n",
       "      <th>697023</th>\n",
       "      <td>4169</td>\n",
       "      <td>765</td>\n",
       "      <td>3</td>\n",
       "      <td>976590102</td>\n",
       "      <td>2000-12-12 03:01:42</td>\n",
       "      <td>8</td>\n",
       "    </tr>\n",
       "    <tr>\n",
       "      <th>696101</th>\n",
       "      <td>4169</td>\n",
       "      <td>2822</td>\n",
       "      <td>3</td>\n",
       "      <td>976590130</td>\n",
       "      <td>2000-12-12 03:02:10</td>\n",
       "      <td>8</td>\n",
       "    </tr>\n",
       "    <tr>\n",
       "      <th>697779</th>\n",
       "      <td>4169</td>\n",
       "      <td>504</td>\n",
       "      <td>3</td>\n",
       "      <td>976590130</td>\n",
       "      <td>2000-12-12 03:02:10</td>\n",
       "      <td>8</td>\n",
       "    </tr>\n",
       "    <tr>\n",
       "      <th>696700</th>\n",
       "      <td>4169</td>\n",
       "      <td>2906</td>\n",
       "      <td>3</td>\n",
       "      <td>976590169</td>\n",
       "      <td>2000-12-12 03:02:49</td>\n",
       "      <td>8</td>\n",
       "    </tr>\n",
       "    <tr>\n",
       "      <th>696985</th>\n",
       "      <td>4169</td>\n",
       "      <td>743</td>\n",
       "      <td>3</td>\n",
       "      <td>976590169</td>\n",
       "      <td>2000-12-12 03:02:49</td>\n",
       "      <td>8</td>\n",
       "    </tr>\n",
       "  </tbody>\n",
       "</table>\n",
       "<p>478 rows × 6 columns</p>\n",
       "</div>"
      ],
      "text/plain": [
       "        UserId  ItemId  Rating       Time            datetime  month\n",
       "696869    4169    3914       4  975802901 2000-12-03 00:21:41      8\n",
       "696957    4169    3948       4  975802901 2000-12-03 00:21:41      8\n",
       "696447    4169    3150       4  975803036 2000-12-03 00:23:56      8\n",
       "696291    4169     648       4  975803060 2000-12-03 00:24:20      8\n",
       "696959    4169    3949       5  975803116 2000-12-03 00:25:16      8\n",
       "...        ...     ...     ...        ...                 ...    ...\n",
       "697023    4169     765       3  976590102 2000-12-12 03:01:42      8\n",
       "696101    4169    2822       3  976590130 2000-12-12 03:02:10      8\n",
       "697779    4169     504       3  976590130 2000-12-12 03:02:10      8\n",
       "696700    4169    2906       3  976590169 2000-12-12 03:02:49      8\n",
       "696985    4169     743       3  976590169 2000-12-12 03:02:49      8\n",
       "\n",
       "[478 rows x 6 columns]"
      ]
     },
     "execution_count": 58,
     "metadata": {},
     "output_type": "execute_result"
    }
   ],
   "source": [
    "temp[temp['month']==8]"
   ]
  },
  {
   "cell_type": "code",
   "execution_count": 59,
   "metadata": {},
   "outputs": [
    {
     "data": {
      "text/plain": [
       "Timedelta('9 days 02:41:08')"
      ]
     },
     "execution_count": 59,
     "metadata": {},
     "output_type": "execute_result"
    }
   ],
   "source": [
    "temp[temp['month']==8]['datetime'].max() - temp[temp['month']==8]['datetime'].min()"
   ]
  },
  {
   "cell_type": "markdown",
   "metadata": {},
   "source": [
    "+ 선택 사이사이 걸린 시간을 보면 0초가 가장 많으나 원 데이터에서도 0초가 가장 많은 데이터 였으므로 큰 문제는 없는 것 같다.\n",
    "    + 헤딩 데이터를 수집한 사이트에서 어떻게 데이터가 집계되는지 알 수 없으므로 보수적으로 판단하기로 한다.\n",
    "---"
   ]
  },
  {
   "cell_type": "code",
   "execution_count": 60,
   "metadata": {},
   "outputs": [
    {
     "data": {
      "text/html": [
       "<div>\n",
       "<style scoped>\n",
       "    .dataframe tbody tr th:only-of-type {\n",
       "        vertical-align: middle;\n",
       "    }\n",
       "\n",
       "    .dataframe tbody tr th {\n",
       "        vertical-align: top;\n",
       "    }\n",
       "\n",
       "    .dataframe thead th {\n",
       "        text-align: right;\n",
       "    }\n",
       "</style>\n",
       "<table border=\"1\" class=\"dataframe\">\n",
       "  <thead>\n",
       "    <tr style=\"text-align: right;\">\n",
       "      <th></th>\n",
       "      <th>UserId</th>\n",
       "      <th>ItemId</th>\n",
       "      <th>Rating</th>\n",
       "      <th>Time</th>\n",
       "      <th>datetime</th>\n",
       "      <th>month</th>\n",
       "    </tr>\n",
       "  </thead>\n",
       "  <tbody>\n",
       "    <tr>\n",
       "      <th>712941</th>\n",
       "      <td>4277</td>\n",
       "      <td>2841</td>\n",
       "      <td>4</td>\n",
       "      <td>965289972</td>\n",
       "      <td>2000-08-03 08:06:12</td>\n",
       "      <td>4</td>\n",
       "    </tr>\n",
       "    <tr>\n",
       "      <th>713457</th>\n",
       "      <td>4277</td>\n",
       "      <td>1210</td>\n",
       "      <td>4</td>\n",
       "      <td>965289972</td>\n",
       "      <td>2000-08-03 08:06:12</td>\n",
       "      <td>4</td>\n",
       "    </tr>\n",
       "    <tr>\n",
       "      <th>713909</th>\n",
       "      <td>4277</td>\n",
       "      <td>2311</td>\n",
       "      <td>4</td>\n",
       "      <td>965289972</td>\n",
       "      <td>2000-08-03 08:06:12</td>\n",
       "      <td>4</td>\n",
       "    </tr>\n",
       "    <tr>\n",
       "      <th>713369</th>\n",
       "      <td>4277</td>\n",
       "      <td>356</td>\n",
       "      <td>5</td>\n",
       "      <td>965290019</td>\n",
       "      <td>2000-08-03 08:06:59</td>\n",
       "      <td>4</td>\n",
       "    </tr>\n",
       "    <tr>\n",
       "      <th>714119</th>\n",
       "      <td>4277</td>\n",
       "      <td>1003</td>\n",
       "      <td>4</td>\n",
       "      <td>965290019</td>\n",
       "      <td>2000-08-03 08:06:59</td>\n",
       "      <td>4</td>\n",
       "    </tr>\n",
       "    <tr>\n",
       "      <th>...</th>\n",
       "      <td>...</td>\n",
       "      <td>...</td>\n",
       "      <td>...</td>\n",
       "      <td>...</td>\n",
       "      <td>...</td>\n",
       "      <td>...</td>\n",
       "    </tr>\n",
       "    <tr>\n",
       "      <th>714033</th>\n",
       "      <td>4277</td>\n",
       "      <td>1744</td>\n",
       "      <td>3</td>\n",
       "      <td>1045103679</td>\n",
       "      <td>2003-02-13 02:34:39</td>\n",
       "      <td>34</td>\n",
       "    </tr>\n",
       "    <tr>\n",
       "      <th>713397</th>\n",
       "      <td>4277</td>\n",
       "      <td>3581</td>\n",
       "      <td>4</td>\n",
       "      <td>1045501780</td>\n",
       "      <td>2003-02-17 17:09:40</td>\n",
       "      <td>34</td>\n",
       "    </tr>\n",
       "    <tr>\n",
       "      <th>713223</th>\n",
       "      <td>4277</td>\n",
       "      <td>2544</td>\n",
       "      <td>3</td>\n",
       "      <td>1045786097</td>\n",
       "      <td>2003-02-21 00:08:17</td>\n",
       "      <td>34</td>\n",
       "    </tr>\n",
       "    <tr>\n",
       "      <th>713899</th>\n",
       "      <td>4277</td>\n",
       "      <td>2307</td>\n",
       "      <td>3</td>\n",
       "      <td>1046193234</td>\n",
       "      <td>2003-02-25 17:13:54</td>\n",
       "      <td>34</td>\n",
       "    </tr>\n",
       "    <tr>\n",
       "      <th>713774</th>\n",
       "      <td>4277</td>\n",
       "      <td>2675</td>\n",
       "      <td>4</td>\n",
       "      <td>1046193325</td>\n",
       "      <td>2003-02-25 17:15:25</td>\n",
       "      <td>34</td>\n",
       "    </tr>\n",
       "  </tbody>\n",
       "</table>\n",
       "<p>1712 rows × 6 columns</p>\n",
       "</div>"
      ],
      "text/plain": [
       "        UserId  ItemId  Rating        Time            datetime  month\n",
       "712941    4277    2841       4   965289972 2000-08-03 08:06:12      4\n",
       "713457    4277    1210       4   965289972 2000-08-03 08:06:12      4\n",
       "713909    4277    2311       4   965289972 2000-08-03 08:06:12      4\n",
       "713369    4277     356       5   965290019 2000-08-03 08:06:59      4\n",
       "714119    4277    1003       4   965290019 2000-08-03 08:06:59      4\n",
       "...        ...     ...     ...         ...                 ...    ...\n",
       "714033    4277    1744       3  1045103679 2003-02-13 02:34:39     34\n",
       "713397    4277    3581       4  1045501780 2003-02-17 17:09:40     34\n",
       "713223    4277    2544       3  1045786097 2003-02-21 00:08:17     34\n",
       "713899    4277    2307       3  1046193234 2003-02-25 17:13:54     34\n",
       "713774    4277    2675       4  1046193325 2003-02-25 17:15:25     34\n",
       "\n",
       "[1712 rows x 6 columns]"
      ]
     },
     "execution_count": 60,
     "metadata": {},
     "output_type": "execute_result"
    }
   ],
   "source": [
    "# 두번째로 평가 많은 아이디\n",
    "long_history = user_length[user_length==1712].index[0]\n",
    "data[data['UserId']==long_history]"
   ]
  },
  {
   "cell_type": "code",
   "execution_count": 61,
   "metadata": {},
   "outputs": [
    {
     "data": {
      "text/plain": [
       "4     1044\n",
       "7      155\n",
       "11     109\n",
       "8       98\n",
       "5       93\n",
       "6       34\n",
       "9       20\n",
       "10      19\n",
       "29      14\n",
       "13      12\n",
       "12      10\n",
       "34      10\n",
       "21       8\n",
       "16       8\n",
       "18       8\n",
       "15       7\n",
       "20       7\n",
       "25       7\n",
       "27       7\n",
       "17       6\n",
       "23       6\n",
       "33       5\n",
       "14       5\n",
       "32       5\n",
       "24       4\n",
       "19       3\n",
       "28       3\n",
       "22       2\n",
       "26       2\n",
       "31       1\n",
       "Name: month, dtype: int64"
      ]
     },
     "execution_count": 61,
     "metadata": {},
     "output_type": "execute_result"
    }
   ],
   "source": [
    "data[data['UserId']==long_history]['month'].value_counts()"
   ]
  },
  {
   "cell_type": "code",
   "execution_count": 62,
   "metadata": {},
   "outputs": [
    {
     "data": {
      "text/plain": [
       "<AxesSubplot:>"
      ]
     },
     "execution_count": 62,
     "metadata": {},
     "output_type": "execute_result"
    },
    {
     "data": {
      "image/png": "[encoded data removed]",
      "text/plain": [
       "<Figure size 432x288 with 1 Axes>"
      ]
     },
     "metadata": {
      "needs_background": "light"
     },
     "output_type": "display_data"
    }
   ],
   "source": [
    "pd.DataFrame(data[data['UserId']==long_history]['month'].value_counts()).sort_index().plot()"
   ]
  },
  {
   "cell_type": "markdown",
   "metadata": {},
   "source": [
    "+ 첫달 많은 평가를 하고 이후엔 조금씩 평가를 추가해 가는 형태이다. 첫 달에 날짜별 평가진행상황을 검토해 본다."
   ]
  },
  {
   "cell_type": "code",
   "execution_count": 63,
   "metadata": {},
   "outputs": [
    {
     "data": {
      "text/html": [
       "<div>\n",
       "<style scoped>\n",
       "    .dataframe tbody tr th:only-of-type {\n",
       "        vertical-align: middle;\n",
       "    }\n",
       "\n",
       "    .dataframe tbody tr th {\n",
       "        vertical-align: top;\n",
       "    }\n",
       "\n",
       "    .dataframe thead th {\n",
       "        text-align: right;\n",
       "    }\n",
       "</style>\n",
       "<table border=\"1\" class=\"dataframe\">\n",
       "  <thead>\n",
       "    <tr style=\"text-align: right;\">\n",
       "      <th></th>\n",
       "      <th>UserId</th>\n",
       "      <th>ItemId</th>\n",
       "      <th>Rating</th>\n",
       "      <th>Time</th>\n",
       "      <th>datetime</th>\n",
       "      <th>month</th>\n",
       "    </tr>\n",
       "  </thead>\n",
       "  <tbody>\n",
       "    <tr>\n",
       "      <th>712941</th>\n",
       "      <td>4277</td>\n",
       "      <td>2841</td>\n",
       "      <td>4</td>\n",
       "      <td>965289972</td>\n",
       "      <td>2000-08-03 08:06:12</td>\n",
       "      <td>4</td>\n",
       "    </tr>\n",
       "    <tr>\n",
       "      <th>713457</th>\n",
       "      <td>4277</td>\n",
       "      <td>1210</td>\n",
       "      <td>4</td>\n",
       "      <td>965289972</td>\n",
       "      <td>2000-08-03 08:06:12</td>\n",
       "      <td>4</td>\n",
       "    </tr>\n",
       "    <tr>\n",
       "      <th>713909</th>\n",
       "      <td>4277</td>\n",
       "      <td>2311</td>\n",
       "      <td>4</td>\n",
       "      <td>965289972</td>\n",
       "      <td>2000-08-03 08:06:12</td>\n",
       "      <td>4</td>\n",
       "    </tr>\n",
       "    <tr>\n",
       "      <th>713369</th>\n",
       "      <td>4277</td>\n",
       "      <td>356</td>\n",
       "      <td>5</td>\n",
       "      <td>965290019</td>\n",
       "      <td>2000-08-03 08:06:59</td>\n",
       "      <td>4</td>\n",
       "    </tr>\n",
       "    <tr>\n",
       "      <th>714119</th>\n",
       "      <td>4277</td>\n",
       "      <td>1003</td>\n",
       "      <td>4</td>\n",
       "      <td>965290019</td>\n",
       "      <td>2000-08-03 08:06:59</td>\n",
       "      <td>4</td>\n",
       "    </tr>\n",
       "    <tr>\n",
       "      <th>...</th>\n",
       "      <td>...</td>\n",
       "      <td>...</td>\n",
       "      <td>...</td>\n",
       "      <td>...</td>\n",
       "      <td>...</td>\n",
       "      <td>...</td>\n",
       "    </tr>\n",
       "    <tr>\n",
       "      <th>712673</th>\n",
       "      <td>4277</td>\n",
       "      <td>2096</td>\n",
       "      <td>5</td>\n",
       "      <td>967623102</td>\n",
       "      <td>2000-08-30 08:11:42</td>\n",
       "      <td>4</td>\n",
       "    </tr>\n",
       "    <tr>\n",
       "      <th>713360</th>\n",
       "      <td>4277</td>\n",
       "      <td>1964</td>\n",
       "      <td>4</td>\n",
       "      <td>967623102</td>\n",
       "      <td>2000-08-30 08:11:42</td>\n",
       "      <td>4</td>\n",
       "    </tr>\n",
       "    <tr>\n",
       "      <th>713379</th>\n",
       "      <td>4277</td>\n",
       "      <td>1971</td>\n",
       "      <td>4</td>\n",
       "      <td>967623102</td>\n",
       "      <td>2000-08-30 08:11:42</td>\n",
       "      <td>4</td>\n",
       "    </tr>\n",
       "    <tr>\n",
       "      <th>713885</th>\n",
       "      <td>4277</td>\n",
       "      <td>1345</td>\n",
       "      <td>5</td>\n",
       "      <td>967623102</td>\n",
       "      <td>2000-08-30 08:11:42</td>\n",
       "      <td>4</td>\n",
       "    </tr>\n",
       "    <tr>\n",
       "      <th>714309</th>\n",
       "      <td>4277</td>\n",
       "      <td>1096</td>\n",
       "      <td>5</td>\n",
       "      <td>967623102</td>\n",
       "      <td>2000-08-30 08:11:42</td>\n",
       "      <td>4</td>\n",
       "    </tr>\n",
       "  </tbody>\n",
       "</table>\n",
       "<p>1044 rows × 6 columns</p>\n",
       "</div>"
      ],
      "text/plain": [
       "        UserId  ItemId  Rating       Time            datetime  month\n",
       "712941    4277    2841       4  965289972 2000-08-03 08:06:12      4\n",
       "713457    4277    1210       4  965289972 2000-08-03 08:06:12      4\n",
       "713909    4277    2311       4  965289972 2000-08-03 08:06:12      4\n",
       "713369    4277     356       5  965290019 2000-08-03 08:06:59      4\n",
       "714119    4277    1003       4  965290019 2000-08-03 08:06:59      4\n",
       "...        ...     ...     ...        ...                 ...    ...\n",
       "712673    4277    2096       5  967623102 2000-08-30 08:11:42      4\n",
       "713360    4277    1964       4  967623102 2000-08-30 08:11:42      4\n",
       "713379    4277    1971       4  967623102 2000-08-30 08:11:42      4\n",
       "713885    4277    1345       5  967623102 2000-08-30 08:11:42      4\n",
       "714309    4277    1096       5  967623102 2000-08-30 08:11:42      4\n",
       "\n",
       "[1044 rows x 6 columns]"
      ]
     },
     "execution_count": 63,
     "metadata": {},
     "output_type": "execute_result"
    }
   ],
   "source": [
    "temp = data[data['UserId']==long_history]\n",
    "temp[temp['month']==4]"
   ]
  },
  {
   "cell_type": "code",
   "execution_count": 64,
   "metadata": {},
   "outputs": [
    {
     "data": {
      "text/plain": [
       "2000-08-03    288\n",
       "2000-08-30    219\n",
       "2000-08-24    148\n",
       "2000-08-04    130\n",
       "2000-08-05    110\n",
       "2000-08-07     89\n",
       "2000-08-16     48\n",
       "2000-08-11      5\n",
       "2000-08-14      5\n",
       "2000-08-20      2\n",
       "Name: ymd, dtype: int64"
      ]
     },
     "execution_count": 64,
     "metadata": {},
     "output_type": "execute_result"
    }
   ],
   "source": [
    "temp['ymd'] = temp['datetime'].map(lambda x : x.strftime('%Y-%m-%d'))\n",
    "temp[temp['month']==4]['ymd'].value_counts()"
   ]
  },
  {
   "cell_type": "code",
   "execution_count": 65,
   "metadata": {},
   "outputs": [
    {
     "data": {
      "text/plain": [
       "Timedelta('0 days 01:23:13')"
      ]
     },
     "execution_count": 65,
     "metadata": {},
     "output_type": "execute_result"
    }
   ],
   "source": [
    "# 8월 3일 전체 평가에 걸린 시간\n",
    "temp[temp['ymd']=='2000-08-03']['datetime'].max() - temp[temp['ymd']=='2000-08-03']['datetime'].min()"
   ]
  },
  {
   "cell_type": "code",
   "execution_count": 66,
   "metadata": {},
   "outputs": [
    {
     "data": {
      "text/plain": [
       "Timedelta('0 days 01:08:09')"
      ]
     },
     "execution_count": 66,
     "metadata": {},
     "output_type": "execute_result"
    }
   ],
   "source": [
    "# 8월 30일 전체 평가에 걸린 시간\n",
    "temp[temp['ymd']=='2000-08-30']['datetime'].max() - temp[temp['ymd']=='2000-08-30']['datetime'].min()"
   ]
  },
  {
   "cell_type": "code",
   "execution_count": 67,
   "metadata": {},
   "outputs": [
    {
     "data": {
      "text/plain": [
       "[<matplotlib.lines.Line2D at 0x7f686ca5d390>]"
      ]
     },
     "execution_count": 67,
     "metadata": {},
     "output_type": "execute_result"
    },
    {
     "data": {
      "image/png": "[encoded data removed]",
      "text/plain": [
       "<Figure size 432x288 with 1 Axes>"
      ]
     },
     "metadata": {
      "needs_background": "light"
     },
     "output_type": "display_data"
    }
   ],
   "source": [
    "# 시간 차분으로 평가 사이사이 걸린 시간을 확인함\n",
    "x = temp[temp['ymd']=='2000-08-03']['Time']\n",
    "y = temp[temp['ymd']=='2000-08-03']['Time'].diff()\n",
    "plt.plot(x,y)"
   ]
  },
  {
   "cell_type": "code",
   "execution_count": 68,
   "metadata": {},
   "outputs": [
    {
     "data": {
      "text/plain": [
       "(540.0, 0.0, 17.39721254355401, 0.0, 45.749573645078)"
      ]
     },
     "execution_count": 68,
     "metadata": {},
     "output_type": "execute_result"
    }
   ],
   "source": [
    "# 540초가 걸린 선택이 가장 긴 차이이고 평균적으로 17초 중간 값은 0초 이다.\n",
    "y.max(), y.min(), y.mean(), y.median(), y.std()"
   ]
  },
  {
   "cell_type": "code",
   "execution_count": 69,
   "metadata": {},
   "outputs": [
    {
     "data": {
      "text/plain": [
       "<AxesSubplot:xlabel='Time', ylabel='Density'>"
      ]
     },
     "execution_count": 69,
     "metadata": {},
     "output_type": "execute_result"
    },
    {
     "data": {
      "image/png": "[encoded data removed]",
      "text/plain": [
       "<Figure size 432x288 with 1 Axes>"
      ]
     },
     "metadata": {
      "needs_background": "light"
     },
     "output_type": "display_data"
    }
   ],
   "source": [
    "sns.kdeplot(y)"
   ]
  },
  {
   "cell_type": "code",
   "execution_count": 70,
   "metadata": {},
   "outputs": [
    {
     "data": {
      "text/plain": [
       "0.0      218\n",
       "47.0       3\n",
       "35.0       2\n",
       "31.0       2\n",
       "57.0       2\n",
       "67.0       2\n",
       "89.0       2\n",
       "37.0       2\n",
       "43.0       2\n",
       "40.0       2\n",
       "52.0       2\n",
       "42.0       2\n",
       "70.0       2\n",
       "86.0       1\n",
       "36.0       1\n",
       "123.0      1\n",
       "20.0       1\n",
       "39.0       1\n",
       "44.0       1\n",
       "41.0       1\n",
       "46.0       1\n",
       "62.0       1\n",
       "80.0       1\n",
       "28.0       1\n",
       "45.0       1\n",
       "30.0       1\n",
       "85.0       1\n",
       "132.0      1\n",
       "19.0       1\n",
       "21.0       1\n",
       "49.0       1\n",
       "126.0      1\n",
       "65.0       1\n",
       "87.0       1\n",
       "63.0       1\n",
       "27.0       1\n",
       "95.0       1\n",
       "106.0      1\n",
       "121.0      1\n",
       "53.0       1\n",
       "164.0      1\n",
       "32.0       1\n",
       "540.0      1\n",
       "184.0      1\n",
       "68.0       1\n",
       "116.0      1\n",
       "83.0       1\n",
       "29.0       1\n",
       "69.0       1\n",
       "102.0      1\n",
       "73.0       1\n",
       "211.0      1\n",
       "71.0       1\n",
       "91.0       1\n",
       "99.0       1\n",
       "1.0        1\n",
       "64.0       1\n",
       "Name: Time, dtype: int64"
      ]
     },
     "execution_count": 70,
     "metadata": {},
     "output_type": "execute_result"
    }
   ],
   "source": [
    "y.value_counts()"
   ]
  },
  {
   "cell_type": "markdown",
   "metadata": {},
   "source": [
    "+ 선택 사이사이 걸린 시간을 보면 0초가 가장 많으나 원 데이터에서도 0초가 가장 많은 데이터 였으므로 큰 문제는 없는 것 같다.\n",
    "  + 헤딩 데이터를 수집한 사이트에서 어떻게 데이터가 집계되는지 알 수 없으므로 보수적으로 판단하기로 한다.\n",
    "---"
   ]
  },
  {
   "cell_type": "code",
   "execution_count": 71,
   "metadata": {},
   "outputs": [
    {
     "data": {
      "text/html": [
       "<div>\n",
       "<style scoped>\n",
       "    .dataframe tbody tr th:only-of-type {\n",
       "        vertical-align: middle;\n",
       "    }\n",
       "\n",
       "    .dataframe tbody tr th {\n",
       "        vertical-align: top;\n",
       "    }\n",
       "\n",
       "    .dataframe thead th {\n",
       "        text-align: right;\n",
       "    }\n",
       "</style>\n",
       "<table border=\"1\" class=\"dataframe\">\n",
       "  <thead>\n",
       "    <tr style=\"text-align: right;\">\n",
       "      <th></th>\n",
       "      <th>UserId</th>\n",
       "      <th>ItemId</th>\n",
       "      <th>Rating</th>\n",
       "      <th>Time</th>\n",
       "      <th>datetime</th>\n",
       "      <th>month</th>\n",
       "    </tr>\n",
       "  </thead>\n",
       "  <tbody>\n",
       "    <tr>\n",
       "      <th>278445</th>\n",
       "      <td>1680</td>\n",
       "      <td>3940</td>\n",
       "      <td>3</td>\n",
       "      <td>974708446</td>\n",
       "      <td>2000-11-20 08:20:46</td>\n",
       "      <td>7</td>\n",
       "    </tr>\n",
       "    <tr>\n",
       "      <th>279596</th>\n",
       "      <td>1680</td>\n",
       "      <td>2395</td>\n",
       "      <td>4</td>\n",
       "      <td>974708446</td>\n",
       "      <td>2000-11-20 08:20:46</td>\n",
       "      <td>7</td>\n",
       "    </tr>\n",
       "    <tr>\n",
       "      <th>278591</th>\n",
       "      <td>1680</td>\n",
       "      <td>3051</td>\n",
       "      <td>3</td>\n",
       "      <td>974708506</td>\n",
       "      <td>2000-11-20 08:21:46</td>\n",
       "      <td>7</td>\n",
       "    </tr>\n",
       "    <tr>\n",
       "      <th>279652</th>\n",
       "      <td>1680</td>\n",
       "      <td>1762</td>\n",
       "      <td>3</td>\n",
       "      <td>974708506</td>\n",
       "      <td>2000-11-20 08:21:46</td>\n",
       "      <td>7</td>\n",
       "    </tr>\n",
       "    <tr>\n",
       "      <th>280002</th>\n",
       "      <td>1680</td>\n",
       "      <td>376</td>\n",
       "      <td>4</td>\n",
       "      <td>974708506</td>\n",
       "      <td>2000-11-20 08:21:46</td>\n",
       "      <td>7</td>\n",
       "    </tr>\n",
       "    <tr>\n",
       "      <th>...</th>\n",
       "      <td>...</td>\n",
       "      <td>...</td>\n",
       "      <td>...</td>\n",
       "      <td>...</td>\n",
       "      <td>...</td>\n",
       "      <td>...</td>\n",
       "    </tr>\n",
       "    <tr>\n",
       "      <th>279465</th>\n",
       "      <td>1680</td>\n",
       "      <td>880</td>\n",
       "      <td>4</td>\n",
       "      <td>974844847</td>\n",
       "      <td>2000-11-21 22:14:07</td>\n",
       "      <td>7</td>\n",
       "    </tr>\n",
       "    <tr>\n",
       "      <th>280121</th>\n",
       "      <td>1680</td>\n",
       "      <td>540</td>\n",
       "      <td>4</td>\n",
       "      <td>974844847</td>\n",
       "      <td>2000-11-21 22:14:07</td>\n",
       "      <td>7</td>\n",
       "    </tr>\n",
       "    <tr>\n",
       "      <th>278469</th>\n",
       "      <td>1680</td>\n",
       "      <td>1266</td>\n",
       "      <td>5</td>\n",
       "      <td>974844953</td>\n",
       "      <td>2000-11-21 22:15:53</td>\n",
       "      <td>7</td>\n",
       "    </tr>\n",
       "    <tr>\n",
       "      <th>279644</th>\n",
       "      <td>1680</td>\n",
       "      <td>3508</td>\n",
       "      <td>4</td>\n",
       "      <td>974844968</td>\n",
       "      <td>2000-11-21 22:16:08</td>\n",
       "      <td>7</td>\n",
       "    </tr>\n",
       "    <tr>\n",
       "      <th>278990</th>\n",
       "      <td>1680</td>\n",
       "      <td>416</td>\n",
       "      <td>5</td>\n",
       "      <td>974845025</td>\n",
       "      <td>2000-11-21 22:17:05</td>\n",
       "      <td>7</td>\n",
       "    </tr>\n",
       "  </tbody>\n",
       "</table>\n",
       "<p>1513 rows × 6 columns</p>\n",
       "</div>"
      ],
      "text/plain": [
       "        UserId  ItemId  Rating       Time            datetime  month\n",
       "278445    1680    3940       3  974708446 2000-11-20 08:20:46      7\n",
       "279596    1680    2395       4  974708446 2000-11-20 08:20:46      7\n",
       "278591    1680    3051       3  974708506 2000-11-20 08:21:46      7\n",
       "279652    1680    1762       3  974708506 2000-11-20 08:21:46      7\n",
       "280002    1680     376       4  974708506 2000-11-20 08:21:46      7\n",
       "...        ...     ...     ...        ...                 ...    ...\n",
       "279465    1680     880       4  974844847 2000-11-21 22:14:07      7\n",
       "280121    1680     540       4  974844847 2000-11-21 22:14:07      7\n",
       "278469    1680    1266       5  974844953 2000-11-21 22:15:53      7\n",
       "279644    1680    3508       4  974844968 2000-11-21 22:16:08      7\n",
       "278990    1680     416       5  974845025 2000-11-21 22:17:05      7\n",
       "\n",
       "[1513 rows x 6 columns]"
      ]
     },
     "execution_count": 71,
     "metadata": {},
     "output_type": "execute_result"
    }
   ],
   "source": [
    "# 세번째로 평가 많은 아이디\n",
    "long_history = user_length[user_length==1513].index[0]\n",
    "data[data['UserId']==long_history]"
   ]
  },
  {
   "cell_type": "code",
   "execution_count": 72,
   "metadata": {},
   "outputs": [
    {
     "data": {
      "text/plain": [
       "7    1513\n",
       "Name: month, dtype: int64"
      ]
     },
     "execution_count": 72,
     "metadata": {},
     "output_type": "execute_result"
    }
   ],
   "source": [
    "data[data['UserId']==long_history]['month'].value_counts()"
   ]
  },
  {
   "cell_type": "code",
   "execution_count": 73,
   "metadata": {},
   "outputs": [
    {
     "data": {
      "text/plain": [
       "2000-11-20    798\n",
       "2000-11-21    715\n",
       "Name: ymd, dtype: int64"
      ]
     },
     "execution_count": 73,
     "metadata": {},
     "output_type": "execute_result"
    }
   ],
   "source": [
    "temp = data[data['UserId']==long_history]\n",
    "temp['ymd'] = temp['datetime'].map(lambda x : x.strftime('%Y-%m-%d'))\n",
    "temp['ymd'].value_counts()"
   ]
  },
  {
   "cell_type": "markdown",
   "metadata": {},
   "source": [
    "+ 연속된 이틀간 데이터가 많이 입력되고 이후 없으므로 이상치로 간주한다."
   ]
  },
  {
   "cell_type": "code",
   "execution_count": 74,
   "metadata": {},
   "outputs": [
    {
     "data": {
      "text/html": [
       "<div>\n",
       "<style scoped>\n",
       "    .dataframe tbody tr th:only-of-type {\n",
       "        vertical-align: middle;\n",
       "    }\n",
       "\n",
       "    .dataframe tbody tr th {\n",
       "        vertical-align: top;\n",
       "    }\n",
       "\n",
       "    .dataframe thead th {\n",
       "        text-align: right;\n",
       "    }\n",
       "</style>\n",
       "<table border=\"1\" class=\"dataframe\">\n",
       "  <thead>\n",
       "    <tr style=\"text-align: right;\">\n",
       "      <th></th>\n",
       "      <th>UserId</th>\n",
       "      <th>ItemId</th>\n",
       "      <th>Rating</th>\n",
       "      <th>Time</th>\n",
       "      <th>datetime</th>\n",
       "      <th>month</th>\n",
       "    </tr>\n",
       "  </thead>\n",
       "  <tbody>\n",
       "  </tbody>\n",
       "</table>\n",
       "</div>"
      ],
      "text/plain": [
       "Empty DataFrame\n",
       "Columns: [UserId, ItemId, Rating, Time, datetime, month]\n",
       "Index: []"
      ]
     },
     "execution_count": 74,
     "metadata": {},
     "output_type": "execute_result"
    }
   ],
   "source": [
    "# 데이터 제거\n",
    "data = data[data['UserId']!=1680]\n",
    "long_history = user_length[user_length==1513].index[0]\n",
    "data[data['UserId']==long_history]"
   ]
  },
  {
   "cell_type": "code",
   "execution_count": 75,
   "metadata": {},
   "outputs": [],
   "source": [
    "data['ymd'] = data['datetime'].map(lambda x : x.strftime('%Y-%m-%d'))"
   ]
  },
  {
   "cell_type": "code",
   "execution_count": 76,
   "metadata": {},
   "outputs": [
    {
     "data": {
      "text/plain": [
       "ItemId      38.159832\n",
       "Rating      38.159832\n",
       "Time        38.159832\n",
       "datetime    38.159832\n",
       "month       38.159832\n",
       "dtype: float64"
      ]
     },
     "execution_count": 76,
     "metadata": {},
     "output_type": "execute_result"
    }
   ],
   "source": [
    "data.groupby(['UserId', 'ymd']).count().mean()"
   ]
  },
  {
   "cell_type": "code",
   "execution_count": 77,
   "metadata": {},
   "outputs": [
    {
     "data": {
      "text/plain": [
       "ItemId      7.0\n",
       "Rating      7.0\n",
       "Time        7.0\n",
       "datetime    7.0\n",
       "month       7.0\n",
       "dtype: float64"
      ]
     },
     "execution_count": 77,
     "metadata": {},
     "output_type": "execute_result"
    }
   ],
   "source": [
    "data.groupby(['UserId', 'ymd']).count().median()"
   ]
  },
  {
   "cell_type": "code",
   "execution_count": 78,
   "metadata": {},
   "outputs": [
    {
     "data": {
      "text/plain": [
       "<AxesSubplot:>"
      ]
     },
     "execution_count": 78,
     "metadata": {},
     "output_type": "execute_result"
    },
    {
     "data": {
      "image/png": "[encoded data removed]",
      "text/plain": [
       "<Figure size 432x288 with 1 Axes>"
      ]
     },
     "metadata": {
      "needs_background": "light"
     },
     "output_type": "display_data"
    }
   ],
   "source": [
    "data.groupby(['UserId', 'ymd']).count().boxplot(['ItemId'])"
   ]
  },
  {
   "cell_type": "code",
   "execution_count": 79,
   "metadata": {},
   "outputs": [
    {
     "data": {
      "text/plain": [
       "1       1403\n",
       "2        925\n",
       "3        654\n",
       "4        468\n",
       "5        374\n",
       "        ... \n",
       "443        1\n",
       "435        1\n",
       "427        1\n",
       "379        1\n",
       "1027       1\n",
       "Name: ItemId, Length: 569, dtype: int64"
      ]
     },
     "execution_count": 79,
     "metadata": {},
     "output_type": "execute_result"
    }
   ],
   "source": [
    "temp = data.groupby(['month', 'UserId']).count()['ItemId'].reset_index()\n",
    "temp['ItemId'].value_counts()"
   ]
  },
  {
   "cell_type": "code",
   "execution_count": 80,
   "metadata": {},
   "outputs": [],
   "source": [
    "temp = data.groupby(['UserId', 'ymd']).count()['ItemId'].reset_index()"
   ]
  },
  {
   "cell_type": "code",
   "execution_count": 81,
   "metadata": {},
   "outputs": [
    {
     "data": {
      "text/plain": [
       "1      5837\n",
       "2      2197\n",
       "3      1107\n",
       "4       746\n",
       "5       551\n",
       "       ... \n",
       "582       1\n",
       "566       1\n",
       "534       1\n",
       "470       1\n",
       "423       1\n",
       "Name: ItemId, Length: 498, dtype: int64"
      ]
     },
     "execution_count": 81,
     "metadata": {},
     "output_type": "execute_result"
    }
   ],
   "source": [
    "temp['ItemId'].value_counts()"
   ]
  },
  {
   "cell_type": "markdown",
   "metadata": {},
   "source": [
    "+ 전체 데이터를 모두 월별로 나누어 아이디 별로 rating 기록 횟수를 세면 1403개의 데이터의 길이가 1로 많은 데이터가 쓸모가 없어진다.\n",
    "  + 아이디와 일별로 세면 5837개의 데이터의 길이가 1이 된다.\n",
    "  + test, validation으로 사용할 달에서만 길이가 1인 데이터를 삭제해 주고 훈련 데이터는 전 구간을 하나로 보고 필요 길이만큼 잘라서 사용하도록 한다."
   ]
  },
  {
   "cell_type": "code",
   "execution_count": 82,
   "metadata": {},
   "outputs": [],
   "source": [
    "movie_month = data['month'].unique()"
   ]
  },
  {
   "cell_type": "code",
   "execution_count": 83,
   "metadata": {},
   "outputs": [],
   "source": [
    "movie_month.sort()"
   ]
  },
  {
   "cell_type": "code",
   "execution_count": 84,
   "metadata": {},
   "outputs": [
    {
     "data": {
      "text/plain": [
       "array([ 0,  1,  2,  3,  4,  5,  6,  7,  8,  9, 10, 11, 12, 13, 14, 15, 16,\n",
       "       17, 18, 19, 20, 21, 22, 23, 24, 25, 26, 27, 28, 29, 30, 31, 32, 33,\n",
       "       34])"
      ]
     },
     "execution_count": 84,
     "metadata": {},
     "output_type": "execute_result"
    }
   ],
   "source": [
    "movie_month"
   ]
  },
  {
   "cell_type": "code",
   "execution_count": 85,
   "metadata": {},
   "outputs": [
    {
     "data": {
      "text/plain": [
       "array([31, 32, 33, 34])"
      ]
     },
     "execution_count": 85,
     "metadata": {},
     "output_type": "execute_result"
    }
   ],
   "source": [
    "test_month = movie_month[-4:]\n",
    "test_month"
   ]
  },
  {
   "cell_type": "code",
   "execution_count": 86,
   "metadata": {},
   "outputs": [],
   "source": [
    "test = data[data['month'].isin(test_month)]"
   ]
  },
  {
   "cell_type": "code",
   "execution_count": 87,
   "metadata": {},
   "outputs": [
    {
     "data": {
      "text/plain": [
       "1      43\n",
       "2      32\n",
       "3      24\n",
       "4      15\n",
       "6      15\n",
       "       ..\n",
       "38      1\n",
       "29      1\n",
       "31      1\n",
       "262     1\n",
       "452     1\n",
       "Name: ItemId, Length: 63, dtype: int64"
      ]
     },
     "execution_count": 87,
     "metadata": {},
     "output_type": "execute_result"
    }
   ],
   "source": [
    "test.groupby(['UserId']).count().reset_index()['ItemId'].value_counts()"
   ]
  },
  {
   "cell_type": "code",
   "execution_count": 88,
   "metadata": {},
   "outputs": [
    {
     "data": {
      "text/plain": [
       "0.6407322654462242"
      ]
     },
     "execution_count": 88,
     "metadata": {},
     "output_type": "execute_result"
    }
   ],
   "source": [
    "len(test) / len(data) * 100"
   ]
  },
  {
   "cell_type": "code",
   "execution_count": 89,
   "metadata": {},
   "outputs": [
    {
     "data": {
      "text/plain": [
       "5348"
      ]
     },
     "execution_count": 89,
     "metadata": {},
     "output_type": "execute_result"
    }
   ],
   "source": [
    "len(test)"
   ]
  },
  {
   "cell_type": "code",
   "execution_count": 90,
   "metadata": {},
   "outputs": [
    {
     "data": {
      "text/plain": [
       "834670"
      ]
     },
     "execution_count": 90,
     "metadata": {},
     "output_type": "execute_result"
    }
   ],
   "source": [
    "len(data)"
   ]
  },
  {
   "cell_type": "code",
   "execution_count": 91,
   "metadata": {},
   "outputs": [
    {
     "data": {
      "text/plain": [
       "array([27, 28, 29, 30])"
      ]
     },
     "execution_count": 91,
     "metadata": {},
     "output_type": "execute_result"
    }
   ],
   "source": [
    "val_month = movie_month[-8:-4]\n",
    "val_month"
   ]
  },
  {
   "cell_type": "code",
   "execution_count": 92,
   "metadata": {},
   "outputs": [
    {
     "data": {
      "text/plain": [
       "1     34\n",
       "2     28\n",
       "3     25\n",
       "7     18\n",
       "4     14\n",
       "      ..\n",
       "51     1\n",
       "48     1\n",
       "46     1\n",
       "42     1\n",
       "34     1\n",
       "Name: ItemId, Length: 64, dtype: int64"
      ]
     },
     "execution_count": 92,
     "metadata": {},
     "output_type": "execute_result"
    }
   ],
   "source": [
    "val = data[data['month'].isin(val_month)]\n",
    "val.groupby(['UserId']).count().reset_index()['ItemId'].value_counts()"
   ]
  },
  {
   "cell_type": "code",
   "execution_count": 93,
   "metadata": {},
   "outputs": [
    {
     "data": {
      "text/plain": [
       "5085"
      ]
     },
     "execution_count": 93,
     "metadata": {},
     "output_type": "execute_result"
    }
   ],
   "source": [
    "len(val)"
   ]
  },
  {
   "cell_type": "code",
   "execution_count": 94,
   "metadata": {},
   "outputs": [
    {
     "data": {
      "text/plain": [
       "0.6092228066181845"
      ]
     },
     "execution_count": 94,
     "metadata": {},
     "output_type": "execute_result"
    }
   ],
   "source": [
    "len(val) / len(data) * 100"
   ]
  },
  {
   "cell_type": "code",
   "execution_count": 95,
   "metadata": {},
   "outputs": [
    {
     "data": {
      "text/plain": [
       "array([ 0,  1,  2,  3,  4,  5,  6,  7,  8,  9, 10, 11, 12, 13, 14, 15, 16,\n",
       "       17, 18, 19, 20, 21, 22, 23, 24, 25, 26])"
      ]
     },
     "execution_count": 95,
     "metadata": {},
     "output_type": "execute_result"
    }
   ],
   "source": [
    "train_month = movie_month[:-8]\n",
    "train_month"
   ]
  },
  {
   "cell_type": "code",
   "execution_count": 96,
   "metadata": {},
   "outputs": [
    {
     "data": {
      "text/plain": [
       "22      88\n",
       "20      86\n",
       "24      84\n",
       "21      80\n",
       "26      76\n",
       "        ..\n",
       "981      1\n",
       "997      1\n",
       "10       1\n",
       "1135     1\n",
       "4        1\n",
       "Name: ItemId, Length: 640, dtype: int64"
      ]
     },
     "execution_count": 96,
     "metadata": {},
     "output_type": "execute_result"
    }
   ],
   "source": [
    "train = data[data['month'].isin(train_month)]\n",
    "train.groupby(['UserId']).count().reset_index()['ItemId'].value_counts()"
   ]
  },
  {
   "cell_type": "markdown",
   "metadata": {},
   "source": [
    "+ 후반부의 데이터가 적어 각기 전체 기간 중 약 10%인 4개월 씩을 test, validation dataset으로 할당했다."
   ]
  },
  {
   "cell_type": "code",
   "execution_count": 97,
   "metadata": {},
   "outputs": [],
   "source": [
    "# train set에 없는 아이템이 val, test기간에 생길 수 있으므로 train data를 기준으로 인덱싱합니다.\n",
    "id2idx = {item_id : index for index, item_id in enumerate(train['ItemId'].unique())}\n",
    "\n",
    "def indexing(df, id2idx):\n",
    "    df['item_idx'] = df['ItemId'].map(lambda x: id2idx.get(x, -1))  # id2idx에 없는 아이템은 모르는 값(-1) 처리 해줍니다.\n",
    "    return df\n",
    "\n",
    "train = indexing(train, id2idx)\n",
    "val = indexing(val, id2idx)\n",
    "test = indexing(test, id2idx)"
   ]
  },
  {
   "cell_type": "code",
   "execution_count": 98,
   "metadata": {},
   "outputs": [
    {
     "data": {
      "text/html": [
       "<div>\n",
       "<style scoped>\n",
       "    .dataframe tbody tr th:only-of-type {\n",
       "        vertical-align: middle;\n",
       "    }\n",
       "\n",
       "    .dataframe tbody tr th {\n",
       "        vertical-align: top;\n",
       "    }\n",
       "\n",
       "    .dataframe thead th {\n",
       "        text-align: right;\n",
       "    }\n",
       "</style>\n",
       "<table border=\"1\" class=\"dataframe\">\n",
       "  <thead>\n",
       "    <tr style=\"text-align: right;\">\n",
       "      <th></th>\n",
       "      <th>UserId</th>\n",
       "      <th>ItemId</th>\n",
       "      <th>Rating</th>\n",
       "      <th>Time</th>\n",
       "      <th>datetime</th>\n",
       "      <th>month</th>\n",
       "      <th>ymd</th>\n",
       "      <th>item_idx</th>\n",
       "    </tr>\n",
       "  </thead>\n",
       "  <tbody>\n",
       "    <tr>\n",
       "      <th>31</th>\n",
       "      <td>1</td>\n",
       "      <td>3186</td>\n",
       "      <td>4</td>\n",
       "      <td>978300019</td>\n",
       "      <td>2000-12-31 22:00:19</td>\n",
       "      <td>8</td>\n",
       "      <td>2000-12-31</td>\n",
       "      <td>0</td>\n",
       "    </tr>\n",
       "    <tr>\n",
       "      <th>22</th>\n",
       "      <td>1</td>\n",
       "      <td>1270</td>\n",
       "      <td>5</td>\n",
       "      <td>978300055</td>\n",
       "      <td>2000-12-31 22:00:55</td>\n",
       "      <td>8</td>\n",
       "      <td>2000-12-31</td>\n",
       "      <td>1</td>\n",
       "    </tr>\n",
       "    <tr>\n",
       "      <th>27</th>\n",
       "      <td>1</td>\n",
       "      <td>1721</td>\n",
       "      <td>4</td>\n",
       "      <td>978300055</td>\n",
       "      <td>2000-12-31 22:00:55</td>\n",
       "      <td>8</td>\n",
       "      <td>2000-12-31</td>\n",
       "      <td>2</td>\n",
       "    </tr>\n",
       "    <tr>\n",
       "      <th>37</th>\n",
       "      <td>1</td>\n",
       "      <td>1022</td>\n",
       "      <td>5</td>\n",
       "      <td>978300055</td>\n",
       "      <td>2000-12-31 22:00:55</td>\n",
       "      <td>8</td>\n",
       "      <td>2000-12-31</td>\n",
       "      <td>3</td>\n",
       "    </tr>\n",
       "    <tr>\n",
       "      <th>24</th>\n",
       "      <td>1</td>\n",
       "      <td>2340</td>\n",
       "      <td>3</td>\n",
       "      <td>978300103</td>\n",
       "      <td>2000-12-31 22:01:43</td>\n",
       "      <td>8</td>\n",
       "      <td>2000-12-31</td>\n",
       "      <td>4</td>\n",
       "    </tr>\n",
       "    <tr>\n",
       "      <th>...</th>\n",
       "      <td>...</td>\n",
       "      <td>...</td>\n",
       "      <td>...</td>\n",
       "      <td>...</td>\n",
       "      <td>...</td>\n",
       "      <td>...</td>\n",
       "      <td>...</td>\n",
       "      <td>...</td>\n",
       "    </tr>\n",
       "    <tr>\n",
       "      <th>1000019</th>\n",
       "      <td>6040</td>\n",
       "      <td>2917</td>\n",
       "      <td>4</td>\n",
       "      <td>997454429</td>\n",
       "      <td>2001-08-10 14:40:29</td>\n",
       "      <td>16</td>\n",
       "      <td>2001-08-10</td>\n",
       "      <td>1104</td>\n",
       "    </tr>\n",
       "    <tr>\n",
       "      <th>999988</th>\n",
       "      <td>6040</td>\n",
       "      <td>1921</td>\n",
       "      <td>4</td>\n",
       "      <td>997454464</td>\n",
       "      <td>2001-08-10 14:41:04</td>\n",
       "      <td>16</td>\n",
       "      <td>2001-08-10</td>\n",
       "      <td>315</td>\n",
       "    </tr>\n",
       "    <tr>\n",
       "      <th>1000172</th>\n",
       "      <td>6040</td>\n",
       "      <td>1784</td>\n",
       "      <td>3</td>\n",
       "      <td>997454464</td>\n",
       "      <td>2001-08-10 14:41:04</td>\n",
       "      <td>16</td>\n",
       "      <td>2001-08-10</td>\n",
       "      <td>87</td>\n",
       "    </tr>\n",
       "    <tr>\n",
       "      <th>1000167</th>\n",
       "      <td>6040</td>\n",
       "      <td>161</td>\n",
       "      <td>3</td>\n",
       "      <td>997454486</td>\n",
       "      <td>2001-08-10 14:41:26</td>\n",
       "      <td>16</td>\n",
       "      <td>2001-08-10</td>\n",
       "      <td>410</td>\n",
       "    </tr>\n",
       "    <tr>\n",
       "      <th>1000042</th>\n",
       "      <td>6040</td>\n",
       "      <td>1221</td>\n",
       "      <td>4</td>\n",
       "      <td>998315055</td>\n",
       "      <td>2001-08-20 13:44:15</td>\n",
       "      <td>16</td>\n",
       "      <td>2001-08-20</td>\n",
       "      <td>371</td>\n",
       "    </tr>\n",
       "  </tbody>\n",
       "</table>\n",
       "<p>824237 rows × 8 columns</p>\n",
       "</div>"
      ],
      "text/plain": [
       "         UserId  ItemId  Rating       Time            datetime  month  \\\n",
       "31            1    3186       4  978300019 2000-12-31 22:00:19      8   \n",
       "22            1    1270       5  978300055 2000-12-31 22:00:55      8   \n",
       "27            1    1721       4  978300055 2000-12-31 22:00:55      8   \n",
       "37            1    1022       5  978300055 2000-12-31 22:00:55      8   \n",
       "24            1    2340       3  978300103 2000-12-31 22:01:43      8   \n",
       "...         ...     ...     ...        ...                 ...    ...   \n",
       "1000019    6040    2917       4  997454429 2001-08-10 14:40:29     16   \n",
       "999988     6040    1921       4  997454464 2001-08-10 14:41:04     16   \n",
       "1000172    6040    1784       3  997454464 2001-08-10 14:41:04     16   \n",
       "1000167    6040     161       3  997454486 2001-08-10 14:41:26     16   \n",
       "1000042    6040    1221       4  998315055 2001-08-20 13:44:15     16   \n",
       "\n",
       "                ymd  item_idx  \n",
       "31       2000-12-31         0  \n",
       "22       2000-12-31         1  \n",
       "27       2000-12-31         2  \n",
       "37       2000-12-31         3  \n",
       "24       2000-12-31         4  \n",
       "...             ...       ...  \n",
       "1000019  2001-08-10      1104  \n",
       "999988   2001-08-10       315  \n",
       "1000172  2001-08-10        87  \n",
       "1000167  2001-08-10       410  \n",
       "1000042  2001-08-20       371  \n",
       "\n",
       "[824237 rows x 8 columns]"
      ]
     },
     "execution_count": 98,
     "metadata": {},
     "output_type": "execute_result"
    }
   ],
   "source": [
    "train "
   ]
  },
  {
   "cell_type": "code",
   "execution_count": 99,
   "metadata": {},
   "outputs": [],
   "source": [
    "train.drop(['Rating', 'datetime', 'month', 'ymd'], axis=1, inplace=True)"
   ]
  },
  {
   "cell_type": "code",
   "execution_count": 100,
   "metadata": {},
   "outputs": [
    {
     "data": {
      "text/html": [
       "<div>\n",
       "<style scoped>\n",
       "    .dataframe tbody tr th:only-of-type {\n",
       "        vertical-align: middle;\n",
       "    }\n",
       "\n",
       "    .dataframe tbody tr th {\n",
       "        vertical-align: top;\n",
       "    }\n",
       "\n",
       "    .dataframe thead th {\n",
       "        text-align: right;\n",
       "    }\n",
       "</style>\n",
       "<table border=\"1\" class=\"dataframe\">\n",
       "  <thead>\n",
       "    <tr style=\"text-align: right;\">\n",
       "      <th></th>\n",
       "      <th>UserId</th>\n",
       "      <th>ItemId</th>\n",
       "      <th>Time</th>\n",
       "      <th>item_idx</th>\n",
       "    </tr>\n",
       "  </thead>\n",
       "  <tbody>\n",
       "    <tr>\n",
       "      <th>31</th>\n",
       "      <td>1</td>\n",
       "      <td>3186</td>\n",
       "      <td>978300019</td>\n",
       "      <td>0</td>\n",
       "    </tr>\n",
       "    <tr>\n",
       "      <th>22</th>\n",
       "      <td>1</td>\n",
       "      <td>1270</td>\n",
       "      <td>978300055</td>\n",
       "      <td>1</td>\n",
       "    </tr>\n",
       "    <tr>\n",
       "      <th>27</th>\n",
       "      <td>1</td>\n",
       "      <td>1721</td>\n",
       "      <td>978300055</td>\n",
       "      <td>2</td>\n",
       "    </tr>\n",
       "    <tr>\n",
       "      <th>37</th>\n",
       "      <td>1</td>\n",
       "      <td>1022</td>\n",
       "      <td>978300055</td>\n",
       "      <td>3</td>\n",
       "    </tr>\n",
       "    <tr>\n",
       "      <th>24</th>\n",
       "      <td>1</td>\n",
       "      <td>2340</td>\n",
       "      <td>978300103</td>\n",
       "      <td>4</td>\n",
       "    </tr>\n",
       "    <tr>\n",
       "      <th>...</th>\n",
       "      <td>...</td>\n",
       "      <td>...</td>\n",
       "      <td>...</td>\n",
       "      <td>...</td>\n",
       "    </tr>\n",
       "    <tr>\n",
       "      <th>1000019</th>\n",
       "      <td>6040</td>\n",
       "      <td>2917</td>\n",
       "      <td>997454429</td>\n",
       "      <td>1104</td>\n",
       "    </tr>\n",
       "    <tr>\n",
       "      <th>999988</th>\n",
       "      <td>6040</td>\n",
       "      <td>1921</td>\n",
       "      <td>997454464</td>\n",
       "      <td>315</td>\n",
       "    </tr>\n",
       "    <tr>\n",
       "      <th>1000172</th>\n",
       "      <td>6040</td>\n",
       "      <td>1784</td>\n",
       "      <td>997454464</td>\n",
       "      <td>87</td>\n",
       "    </tr>\n",
       "    <tr>\n",
       "      <th>1000167</th>\n",
       "      <td>6040</td>\n",
       "      <td>161</td>\n",
       "      <td>997454486</td>\n",
       "      <td>410</td>\n",
       "    </tr>\n",
       "    <tr>\n",
       "      <th>1000042</th>\n",
       "      <td>6040</td>\n",
       "      <td>1221</td>\n",
       "      <td>998315055</td>\n",
       "      <td>371</td>\n",
       "    </tr>\n",
       "  </tbody>\n",
       "</table>\n",
       "<p>824237 rows × 4 columns</p>\n",
       "</div>"
      ],
      "text/plain": [
       "         UserId  ItemId       Time  item_idx\n",
       "31            1    3186  978300019         0\n",
       "22            1    1270  978300055         1\n",
       "27            1    1721  978300055         2\n",
       "37            1    1022  978300055         3\n",
       "24            1    2340  978300103         4\n",
       "...         ...     ...        ...       ...\n",
       "1000019    6040    2917  997454429      1104\n",
       "999988     6040    1921  997454464       315\n",
       "1000172    6040    1784  997454464        87\n",
       "1000167    6040     161  997454486       410\n",
       "1000042    6040    1221  998315055       371\n",
       "\n",
       "[824237 rows x 4 columns]"
      ]
     },
     "execution_count": 100,
     "metadata": {},
     "output_type": "execute_result"
    }
   ],
   "source": [
    "train"
   ]
  },
  {
   "cell_type": "code",
   "execution_count": 101,
   "metadata": {},
   "outputs": [],
   "source": [
    "def reassign_user_id(df, n, start_idx):\n",
    "    new_id_list = []\n",
    "    new_id = start_idx\n",
    "    users = df['UserId'].unique()\n",
    "    \n",
    "    for user in users:\n",
    "        temp_len = len(df[df['UserId']==user])\n",
    "    \n",
    "        if temp_len // n == 0:\n",
    "            remainder = temp_len % n\n",
    "            temp_list = [new_id]*remainder\n",
    "            new_id_list.extend(temp_list)\n",
    "            new_id += 1\n",
    "        \n",
    "        elif temp_len % n == 0:\n",
    "            quotient = temp_len//n\n",
    "            for _ in range(0, quotient):\n",
    "                temp_list = [new_id]*n\n",
    "                new_id_list.extend(temp_list)\n",
    "                new_id += 1\n",
    "        else:\n",
    "            quotient = temp_len//n\n",
    "            remainder = temp_len%n\n",
    "            for _ in range(0, quotient):\n",
    "                temp_list = [new_id]*n\n",
    "                new_id_list.extend(temp_list)\n",
    "                new_id += 1\n",
    "            \n",
    "            temp_list = [new_id]*remainder\n",
    "            new_id_list.extend(temp_list)\n",
    "            new_id += 1\n",
    "    df['SessionId'] = new_id_list\n",
    "    return df"
   ]
  },
  {
   "cell_type": "code",
   "execution_count": 102,
   "metadata": {},
   "outputs": [],
   "source": [
    "train_reassigned = reassign_user_id(train, 10, 1)"
   ]
  },
  {
   "cell_type": "code",
   "execution_count": 103,
   "metadata": {},
   "outputs": [],
   "source": [
    "def cleanse_short_session(data, shortest):\n",
    "    session_len = data.groupby('SessionId').size()\n",
    "    session_use = session_len[session_len >= shortest].index\n",
    "    data = data[data['SessionId'].isin(session_use)]\n",
    "    return data"
   ]
  },
  {
   "cell_type": "code",
   "execution_count": 104,
   "metadata": {},
   "outputs": [],
   "source": [
    "train_reassigned = cleanse_short_session(train_reassigned, 2)"
   ]
  },
  {
   "cell_type": "code",
   "execution_count": 105,
   "metadata": {},
   "outputs": [],
   "source": [
    "train_reassigned = reassign_user_id(train_reassigned, 10, 1)"
   ]
  },
  {
   "cell_type": "code",
   "execution_count": 106,
   "metadata": {},
   "outputs": [],
   "source": [
    "val = reassign_user_id(val, 10, 85114)\n",
    "val = cleanse_short_session(val, 2)\n",
    "val = reassign_user_id(val, 10, 85114)"
   ]
  },
  {
   "cell_type": "code",
   "execution_count": 107,
   "metadata": {},
   "outputs": [
    {
     "data": {
      "text/html": [
       "<div>\n",
       "<style scoped>\n",
       "    .dataframe tbody tr th:only-of-type {\n",
       "        vertical-align: middle;\n",
       "    }\n",
       "\n",
       "    .dataframe tbody tr th {\n",
       "        vertical-align: top;\n",
       "    }\n",
       "\n",
       "    .dataframe thead th {\n",
       "        text-align: right;\n",
       "    }\n",
       "</style>\n",
       "<table border=\"1\" class=\"dataframe\">\n",
       "  <thead>\n",
       "    <tr style=\"text-align: right;\">\n",
       "      <th></th>\n",
       "      <th>UserId</th>\n",
       "      <th>ItemId</th>\n",
       "      <th>Rating</th>\n",
       "      <th>Time</th>\n",
       "      <th>datetime</th>\n",
       "      <th>month</th>\n",
       "      <th>ymd</th>\n",
       "      <th>item_idx</th>\n",
       "      <th>SessionId</th>\n",
       "    </tr>\n",
       "  </thead>\n",
       "  <tbody>\n",
       "    <tr>\n",
       "      <th>18580</th>\n",
       "      <td>146</td>\n",
       "      <td>778</td>\n",
       "      <td>4</td>\n",
       "      <td>1025639122</td>\n",
       "      <td>2002-07-02 19:45:22</td>\n",
       "      <td>27</td>\n",
       "      <td>2002-07-02</td>\n",
       "      <td>479</td>\n",
       "      <td>85114</td>\n",
       "    </tr>\n",
       "    <tr>\n",
       "      <th>18664</th>\n",
       "      <td>146</td>\n",
       "      <td>1584</td>\n",
       "      <td>3</td>\n",
       "      <td>1025639122</td>\n",
       "      <td>2002-07-02 19:45:22</td>\n",
       "      <td>27</td>\n",
       "      <td>2002-07-02</td>\n",
       "      <td>478</td>\n",
       "      <td>85114</td>\n",
       "    </tr>\n",
       "    <tr>\n",
       "      <th>18671</th>\n",
       "      <td>146</td>\n",
       "      <td>2393</td>\n",
       "      <td>4</td>\n",
       "      <td>1025639122</td>\n",
       "      <td>2002-07-02 19:45:22</td>\n",
       "      <td>27</td>\n",
       "      <td>2002-07-02</td>\n",
       "      <td>574</td>\n",
       "      <td>85114</td>\n",
       "    </tr>\n",
       "    <tr>\n",
       "      <th>18681</th>\n",
       "      <td>146</td>\n",
       "      <td>3418</td>\n",
       "      <td>4</td>\n",
       "      <td>1025639122</td>\n",
       "      <td>2002-07-02 19:45:22</td>\n",
       "      <td>27</td>\n",
       "      <td>2002-07-02</td>\n",
       "      <td>130</td>\n",
       "      <td>85114</td>\n",
       "    </tr>\n",
       "    <tr>\n",
       "      <th>18683</th>\n",
       "      <td>146</td>\n",
       "      <td>2617</td>\n",
       "      <td>3</td>\n",
       "      <td>1025639122</td>\n",
       "      <td>2002-07-02 19:45:22</td>\n",
       "      <td>27</td>\n",
       "      <td>2002-07-02</td>\n",
       "      <td>564</td>\n",
       "      <td>85114</td>\n",
       "    </tr>\n",
       "    <tr>\n",
       "      <th>...</th>\n",
       "      <td>...</td>\n",
       "      <td>...</td>\n",
       "      <td>...</td>\n",
       "      <td>...</td>\n",
       "      <td>...</td>\n",
       "      <td>...</td>\n",
       "      <td>...</td>\n",
       "      <td>...</td>\n",
       "      <td>...</td>\n",
       "    </tr>\n",
       "    <tr>\n",
       "      <th>984325</th>\n",
       "      <td>5949</td>\n",
       "      <td>3858</td>\n",
       "      <td>4</td>\n",
       "      <td>1027297339</td>\n",
       "      <td>2002-07-22 00:22:19</td>\n",
       "      <td>27</td>\n",
       "      <td>2002-07-22</td>\n",
       "      <td>2373</td>\n",
       "      <td>85723</td>\n",
       "    </tr>\n",
       "    <tr>\n",
       "      <th>986719</th>\n",
       "      <td>5956</td>\n",
       "      <td>3906</td>\n",
       "      <td>3</td>\n",
       "      <td>1026249529</td>\n",
       "      <td>2002-07-09 21:18:49</td>\n",
       "      <td>27</td>\n",
       "      <td>2002-07-09</td>\n",
       "      <td>2873</td>\n",
       "      <td>85724</td>\n",
       "    </tr>\n",
       "    <tr>\n",
       "      <th>986778</th>\n",
       "      <td>5956</td>\n",
       "      <td>469</td>\n",
       "      <td>3</td>\n",
       "      <td>1033358097</td>\n",
       "      <td>2002-09-30 03:54:57</td>\n",
       "      <td>29</td>\n",
       "      <td>2002-09-30</td>\n",
       "      <td>2906</td>\n",
       "      <td>85724</td>\n",
       "    </tr>\n",
       "    <tr>\n",
       "      <th>992702</th>\n",
       "      <td>5996</td>\n",
       "      <td>168</td>\n",
       "      <td>3</td>\n",
       "      <td>1031058746</td>\n",
       "      <td>2002-09-03 13:12:26</td>\n",
       "      <td>29</td>\n",
       "      <td>2002-09-03</td>\n",
       "      <td>1193</td>\n",
       "      <td>85725</td>\n",
       "    </tr>\n",
       "    <tr>\n",
       "      <th>992459</th>\n",
       "      <td>5996</td>\n",
       "      <td>339</td>\n",
       "      <td>4</td>\n",
       "      <td>1033997079</td>\n",
       "      <td>2002-10-07 13:24:39</td>\n",
       "      <td>30</td>\n",
       "      <td>2002-10-07</td>\n",
       "      <td>673</td>\n",
       "      <td>85725</td>\n",
       "    </tr>\n",
       "  </tbody>\n",
       "</table>\n",
       "<p>5033 rows × 9 columns</p>\n",
       "</div>"
      ],
      "text/plain": [
       "        UserId  ItemId  Rating        Time            datetime  month  \\\n",
       "18580      146     778       4  1025639122 2002-07-02 19:45:22     27   \n",
       "18664      146    1584       3  1025639122 2002-07-02 19:45:22     27   \n",
       "18671      146    2393       4  1025639122 2002-07-02 19:45:22     27   \n",
       "18681      146    3418       4  1025639122 2002-07-02 19:45:22     27   \n",
       "18683      146    2617       3  1025639122 2002-07-02 19:45:22     27   \n",
       "...        ...     ...     ...         ...                 ...    ...   \n",
       "984325    5949    3858       4  1027297339 2002-07-22 00:22:19     27   \n",
       "986719    5956    3906       3  1026249529 2002-07-09 21:18:49     27   \n",
       "986778    5956     469       3  1033358097 2002-09-30 03:54:57     29   \n",
       "992702    5996     168       3  1031058746 2002-09-03 13:12:26     29   \n",
       "992459    5996     339       4  1033997079 2002-10-07 13:24:39     30   \n",
       "\n",
       "               ymd  item_idx  SessionId  \n",
       "18580   2002-07-02       479      85114  \n",
       "18664   2002-07-02       478      85114  \n",
       "18671   2002-07-02       574      85114  \n",
       "18681   2002-07-02       130      85114  \n",
       "18683   2002-07-02       564      85114  \n",
       "...            ...       ...        ...  \n",
       "984325  2002-07-22      2373      85723  \n",
       "986719  2002-07-09      2873      85724  \n",
       "986778  2002-09-30      2906      85724  \n",
       "992702  2002-09-03      1193      85725  \n",
       "992459  2002-10-07       673      85725  \n",
       "\n",
       "[5033 rows x 9 columns]"
      ]
     },
     "execution_count": 107,
     "metadata": {},
     "output_type": "execute_result"
    }
   ],
   "source": [
    "val"
   ]
  },
  {
   "cell_type": "code",
   "execution_count": 108,
   "metadata": {},
   "outputs": [],
   "source": [
    "test = reassign_user_id(test, 10, 85723)\n",
    "test = cleanse_short_session(test, 2)\n",
    "test = reassign_user_id(test, 10, 85723)"
   ]
  },
  {
   "cell_type": "code",
   "execution_count": 109,
   "metadata": {},
   "outputs": [],
   "source": [
    "train_reassigned\n",
    "train_reassigned.drop(['UserId'], axis=1, inplace=True)"
   ]
  },
  {
   "cell_type": "code",
   "execution_count": 110,
   "metadata": {},
   "outputs": [
    {
     "data": {
      "text/html": [
       "<div>\n",
       "<style scoped>\n",
       "    .dataframe tbody tr th:only-of-type {\n",
       "        vertical-align: middle;\n",
       "    }\n",
       "\n",
       "    .dataframe tbody tr th {\n",
       "        vertical-align: top;\n",
       "    }\n",
       "\n",
       "    .dataframe thead th {\n",
       "        text-align: right;\n",
       "    }\n",
       "</style>\n",
       "<table border=\"1\" class=\"dataframe\">\n",
       "  <thead>\n",
       "    <tr style=\"text-align: right;\">\n",
       "      <th></th>\n",
       "      <th>ItemId</th>\n",
       "      <th>Time</th>\n",
       "      <th>item_idx</th>\n",
       "      <th>SessionId</th>\n",
       "    </tr>\n",
       "  </thead>\n",
       "  <tbody>\n",
       "    <tr>\n",
       "      <th>18580</th>\n",
       "      <td>778</td>\n",
       "      <td>1025639122</td>\n",
       "      <td>479</td>\n",
       "      <td>85114</td>\n",
       "    </tr>\n",
       "    <tr>\n",
       "      <th>18664</th>\n",
       "      <td>1584</td>\n",
       "      <td>1025639122</td>\n",
       "      <td>478</td>\n",
       "      <td>85114</td>\n",
       "    </tr>\n",
       "    <tr>\n",
       "      <th>18671</th>\n",
       "      <td>2393</td>\n",
       "      <td>1025639122</td>\n",
       "      <td>574</td>\n",
       "      <td>85114</td>\n",
       "    </tr>\n",
       "    <tr>\n",
       "      <th>18681</th>\n",
       "      <td>3418</td>\n",
       "      <td>1025639122</td>\n",
       "      <td>130</td>\n",
       "      <td>85114</td>\n",
       "    </tr>\n",
       "    <tr>\n",
       "      <th>18683</th>\n",
       "      <td>2617</td>\n",
       "      <td>1025639122</td>\n",
       "      <td>564</td>\n",
       "      <td>85114</td>\n",
       "    </tr>\n",
       "    <tr>\n",
       "      <th>...</th>\n",
       "      <td>...</td>\n",
       "      <td>...</td>\n",
       "      <td>...</td>\n",
       "      <td>...</td>\n",
       "    </tr>\n",
       "    <tr>\n",
       "      <th>984325</th>\n",
       "      <td>3858</td>\n",
       "      <td>1027297339</td>\n",
       "      <td>2373</td>\n",
       "      <td>85723</td>\n",
       "    </tr>\n",
       "    <tr>\n",
       "      <th>986719</th>\n",
       "      <td>3906</td>\n",
       "      <td>1026249529</td>\n",
       "      <td>2873</td>\n",
       "      <td>85724</td>\n",
       "    </tr>\n",
       "    <tr>\n",
       "      <th>986778</th>\n",
       "      <td>469</td>\n",
       "      <td>1033358097</td>\n",
       "      <td>2906</td>\n",
       "      <td>85724</td>\n",
       "    </tr>\n",
       "    <tr>\n",
       "      <th>992702</th>\n",
       "      <td>168</td>\n",
       "      <td>1031058746</td>\n",
       "      <td>1193</td>\n",
       "      <td>85725</td>\n",
       "    </tr>\n",
       "    <tr>\n",
       "      <th>992459</th>\n",
       "      <td>339</td>\n",
       "      <td>1033997079</td>\n",
       "      <td>673</td>\n",
       "      <td>85725</td>\n",
       "    </tr>\n",
       "  </tbody>\n",
       "</table>\n",
       "<p>5033 rows × 4 columns</p>\n",
       "</div>"
      ],
      "text/plain": [
       "        ItemId        Time  item_idx  SessionId\n",
       "18580      778  1025639122       479      85114\n",
       "18664     1584  1025639122       478      85114\n",
       "18671     2393  1025639122       574      85114\n",
       "18681     3418  1025639122       130      85114\n",
       "18683     2617  1025639122       564      85114\n",
       "...        ...         ...       ...        ...\n",
       "984325    3858  1027297339      2373      85723\n",
       "986719    3906  1026249529      2873      85724\n",
       "986778     469  1033358097      2906      85724\n",
       "992702     168  1031058746      1193      85725\n",
       "992459     339  1033997079       673      85725\n",
       "\n",
       "[5033 rows x 4 columns]"
      ]
     },
     "execution_count": 110,
     "metadata": {},
     "output_type": "execute_result"
    }
   ],
   "source": [
    "val.drop(['UserId','Rating', 'datetime', 'month', 'ymd'], axis=1, inplace=True)\n",
    "val"
   ]
  },
  {
   "cell_type": "code",
   "execution_count": 111,
   "metadata": {},
   "outputs": [
    {
     "data": {
      "text/html": [
       "<div>\n",
       "<style scoped>\n",
       "    .dataframe tbody tr th:only-of-type {\n",
       "        vertical-align: middle;\n",
       "    }\n",
       "\n",
       "    .dataframe tbody tr th {\n",
       "        vertical-align: top;\n",
       "    }\n",
       "\n",
       "    .dataframe thead th {\n",
       "        text-align: right;\n",
       "    }\n",
       "</style>\n",
       "<table border=\"1\" class=\"dataframe\">\n",
       "  <thead>\n",
       "    <tr style=\"text-align: right;\">\n",
       "      <th></th>\n",
       "      <th>ItemId</th>\n",
       "      <th>Time</th>\n",
       "      <th>item_idx</th>\n",
       "      <th>SessionId</th>\n",
       "    </tr>\n",
       "  </thead>\n",
       "  <tbody>\n",
       "    <tr>\n",
       "      <th>5200</th>\n",
       "      <td>2269</td>\n",
       "      <td>1040544350</td>\n",
       "      <td>1252</td>\n",
       "      <td>85723</td>\n",
       "    </tr>\n",
       "    <tr>\n",
       "      <th>5256</th>\n",
       "      <td>1701</td>\n",
       "      <td>1040544350</td>\n",
       "      <td>440</td>\n",
       "      <td>85723</td>\n",
       "    </tr>\n",
       "    <tr>\n",
       "      <th>5184</th>\n",
       "      <td>2694</td>\n",
       "      <td>1040544494</td>\n",
       "      <td>793</td>\n",
       "      <td>85723</td>\n",
       "    </tr>\n",
       "    <tr>\n",
       "      <th>5364</th>\n",
       "      <td>3786</td>\n",
       "      <td>1040544521</td>\n",
       "      <td>206</td>\n",
       "      <td>85723</td>\n",
       "    </tr>\n",
       "    <tr>\n",
       "      <th>5262</th>\n",
       "      <td>2369</td>\n",
       "      <td>1040544564</td>\n",
       "      <td>851</td>\n",
       "      <td>85723</td>\n",
       "    </tr>\n",
       "    <tr>\n",
       "      <th>...</th>\n",
       "      <td>...</td>\n",
       "      <td>...</td>\n",
       "      <td>...</td>\n",
       "      <td>...</td>\n",
       "    </tr>\n",
       "    <tr>\n",
       "      <th>984598</th>\n",
       "      <td>3896</td>\n",
       "      <td>1046369549</td>\n",
       "      <td>2059</td>\n",
       "      <td>86359</td>\n",
       "    </tr>\n",
       "    <tr>\n",
       "      <th>984597</th>\n",
       "      <td>3893</td>\n",
       "      <td>1046369569</td>\n",
       "      <td>1821</td>\n",
       "      <td>86359</td>\n",
       "    </tr>\n",
       "    <tr>\n",
       "      <th>984731</th>\n",
       "      <td>3948</td>\n",
       "      <td>1046369637</td>\n",
       "      <td>461</td>\n",
       "      <td>86359</td>\n",
       "    </tr>\n",
       "    <tr>\n",
       "      <th>984682</th>\n",
       "      <td>3578</td>\n",
       "      <td>1046369670</td>\n",
       "      <td>91</td>\n",
       "      <td>86359</td>\n",
       "    </tr>\n",
       "    <tr>\n",
       "      <th>984475</th>\n",
       "      <td>3793</td>\n",
       "      <td>1046369710</td>\n",
       "      <td>372</td>\n",
       "      <td>86359</td>\n",
       "    </tr>\n",
       "  </tbody>\n",
       "</table>\n",
       "<p>5290 rows × 4 columns</p>\n",
       "</div>"
      ],
      "text/plain": [
       "        ItemId        Time  item_idx  SessionId\n",
       "5200      2269  1040544350      1252      85723\n",
       "5256      1701  1040544350       440      85723\n",
       "5184      2694  1040544494       793      85723\n",
       "5364      3786  1040544521       206      85723\n",
       "5262      2369  1040544564       851      85723\n",
       "...        ...         ...       ...        ...\n",
       "984598    3896  1046369549      2059      86359\n",
       "984597    3893  1046369569      1821      86359\n",
       "984731    3948  1046369637       461      86359\n",
       "984682    3578  1046369670        91      86359\n",
       "984475    3793  1046369710       372      86359\n",
       "\n",
       "[5290 rows x 4 columns]"
      ]
     },
     "execution_count": 111,
     "metadata": {},
     "output_type": "execute_result"
    }
   ],
   "source": [
    "test.drop(['UserId','Rating', 'datetime', 'month', 'ymd'], axis=1, inplace=True)\n",
    "test"
   ]
  },
  {
   "cell_type": "code",
   "execution_count": 112,
   "metadata": {},
   "outputs": [],
   "source": [
    "# data에 대한 정보를 살펴봅니다.\n",
    "def stats_info(data: pd.DataFrame, status: str):\n",
    "    print(f'* {status} Set Stats Info\\n'\n",
    "          f'\\t Events: {len(data)}\\n'\n",
    "          f'\\t Sessions: {data[\"SessionId\"].nunique()}\\n'\n",
    "          f'\\t Items: {data[\"ItemId\"].nunique()}\\n'\n",
    "          f'\\t First Time : {data[\"Time\"].min()}\\n'\n",
    "          f'\\t Last Time : {data[\"Time\"].max()}\\n')"
   ]
  },
  {
   "cell_type": "code",
   "execution_count": 113,
   "metadata": {},
   "outputs": [
    {
     "name": "stdout",
     "output_type": "stream",
     "text": [
      "* train Set Stats Info\n",
      "\t Events: 823624\n",
      "\t Sessions: 84500\n",
      "\t Items: 3421\n",
      "\t First Time : 956703932\n",
      "\t Last Time : 1025475799\n",
      "\n",
      "* valid Set Stats Info\n",
      "\t Events: 5033\n",
      "\t Sessions: 612\n",
      "\t Items: 1825\n",
      "\t First Time : 1025500236\n",
      "\t Last Time : 1036094329\n",
      "\n",
      "* test Set Stats Info\n",
      "\t Events: 5290\n",
      "\t Sessions: 637\n",
      "\t Items: 1793\n",
      "\t First Time : 1036119379\n",
      "\t Last Time : 1046454548\n",
      "\n"
     ]
    }
   ],
   "source": [
    "stats_info(train_reassigned, 'train')\n",
    "stats_info(val, 'valid')\n",
    "stats_info(test, 'test')"
   ]
  },
  {
   "cell_type": "markdown",
   "metadata": {},
   "source": [
    "---\n",
    "Step 2. 미니 배치의 구성\n",
    "\n",
    "실습코드 내역을 참고하여 데이터셋과 미니 배치를 구성해 봅시다. Session-Parallel Mini-Batch의 개념에 따라, 학습 속도의 저하가 최소화될 수 있도록 구성합니다.    \n",
    "단, 위 Step 1에서 Session 단위를 어떻게 정의했느냐에 따라서 Session-Parallel Mini-Batch이 굳이 필요하지 않을 수도 있습니다.   "
   ]
  },
  {
   "cell_type": "code",
   "execution_count": 114,
   "metadata": {},
   "outputs": [],
   "source": [
    "class SessionDataset:\n",
    "    \"\"\"Credit to yhs-968/pyGRU4REC.\"\"\"\n",
    "\n",
    "    def __init__(self, data):\n",
    "        self.df = data\n",
    "        self.click_offsets = self.get_click_offsets()\n",
    "        self.session_idx = np.arange(self.df['SessionId'].nunique())  # indexing to SessionId\n",
    "\n",
    "    def get_click_offsets(self):\n",
    "        \"\"\"\n",
    "        Return the indexes of the first click of each session IDs,\n",
    "        \"\"\"\n",
    "        offsets = np.zeros(self.df['SessionId'].nunique() + 1, dtype=np.int32)\n",
    "        offsets[1:] = self.df.groupby('SessionId').size().cumsum()\n",
    "        return offsets"
   ]
  },
  {
   "cell_type": "code",
   "execution_count": 115,
   "metadata": {},
   "outputs": [
    {
     "data": {
      "text/html": [
       "<div>\n",
       "<style scoped>\n",
       "    .dataframe tbody tr th:only-of-type {\n",
       "        vertical-align: middle;\n",
       "    }\n",
       "\n",
       "    .dataframe tbody tr th {\n",
       "        vertical-align: top;\n",
       "    }\n",
       "\n",
       "    .dataframe thead th {\n",
       "        text-align: right;\n",
       "    }\n",
       "</style>\n",
       "<table border=\"1\" class=\"dataframe\">\n",
       "  <thead>\n",
       "    <tr style=\"text-align: right;\">\n",
       "      <th></th>\n",
       "      <th>ItemId</th>\n",
       "      <th>Time</th>\n",
       "      <th>item_idx</th>\n",
       "      <th>SessionId</th>\n",
       "    </tr>\n",
       "  </thead>\n",
       "  <tbody>\n",
       "    <tr>\n",
       "      <th>31</th>\n",
       "      <td>3186</td>\n",
       "      <td>978300019</td>\n",
       "      <td>0</td>\n",
       "      <td>1</td>\n",
       "    </tr>\n",
       "    <tr>\n",
       "      <th>22</th>\n",
       "      <td>1270</td>\n",
       "      <td>978300055</td>\n",
       "      <td>1</td>\n",
       "      <td>1</td>\n",
       "    </tr>\n",
       "    <tr>\n",
       "      <th>27</th>\n",
       "      <td>1721</td>\n",
       "      <td>978300055</td>\n",
       "      <td>2</td>\n",
       "      <td>1</td>\n",
       "    </tr>\n",
       "    <tr>\n",
       "      <th>37</th>\n",
       "      <td>1022</td>\n",
       "      <td>978300055</td>\n",
       "      <td>3</td>\n",
       "      <td>1</td>\n",
       "    </tr>\n",
       "    <tr>\n",
       "      <th>24</th>\n",
       "      <td>2340</td>\n",
       "      <td>978300103</td>\n",
       "      <td>4</td>\n",
       "      <td>1</td>\n",
       "    </tr>\n",
       "    <tr>\n",
       "      <th>36</th>\n",
       "      <td>1836</td>\n",
       "      <td>978300172</td>\n",
       "      <td>5</td>\n",
       "      <td>1</td>\n",
       "    </tr>\n",
       "    <tr>\n",
       "      <th>3</th>\n",
       "      <td>3408</td>\n",
       "      <td>978300275</td>\n",
       "      <td>6</td>\n",
       "      <td>1</td>\n",
       "    </tr>\n",
       "    <tr>\n",
       "      <th>7</th>\n",
       "      <td>2804</td>\n",
       "      <td>978300719</td>\n",
       "      <td>7</td>\n",
       "      <td>1</td>\n",
       "    </tr>\n",
       "    <tr>\n",
       "      <th>47</th>\n",
       "      <td>1207</td>\n",
       "      <td>978300719</td>\n",
       "      <td>8</td>\n",
       "      <td>1</td>\n",
       "    </tr>\n",
       "    <tr>\n",
       "      <th>0</th>\n",
       "      <td>1193</td>\n",
       "      <td>978300760</td>\n",
       "      <td>9</td>\n",
       "      <td>1</td>\n",
       "    </tr>\n",
       "  </tbody>\n",
       "</table>\n",
       "</div>"
      ],
      "text/plain": [
       "    ItemId       Time  item_idx  SessionId\n",
       "31    3186  978300019         0          1\n",
       "22    1270  978300055         1          1\n",
       "27    1721  978300055         2          1\n",
       "37    1022  978300055         3          1\n",
       "24    2340  978300103         4          1\n",
       "36    1836  978300172         5          1\n",
       "3     3408  978300275         6          1\n",
       "7     2804  978300719         7          1\n",
       "47    1207  978300719         8          1\n",
       "0     1193  978300760         9          1"
      ]
     },
     "execution_count": 115,
     "metadata": {},
     "output_type": "execute_result"
    }
   ],
   "source": [
    "tr_dataset = SessionDataset(train_reassigned)\n",
    "tr_dataset.df.head(10)"
   ]
  },
  {
   "cell_type": "code",
   "execution_count": 116,
   "metadata": {},
   "outputs": [
    {
     "data": {
      "text/plain": [
       "array([     0,     10,     20, ..., 823608, 823618, 823624], dtype=int32)"
      ]
     },
     "execution_count": 116,
     "metadata": {},
     "output_type": "execute_result"
    }
   ],
   "source": [
    "tr_dataset.click_offsets"
   ]
  },
  {
   "cell_type": "code",
   "execution_count": 117,
   "metadata": {},
   "outputs": [
    {
     "data": {
      "text/plain": [
       "array([    0,     1,     2, ..., 84497, 84498, 84499])"
      ]
     },
     "execution_count": 117,
     "metadata": {},
     "output_type": "execute_result"
    }
   ],
   "source": [
    "tr_dataset.session_idx"
   ]
  },
  {
   "cell_type": "code",
   "execution_count": 118,
   "metadata": {},
   "outputs": [],
   "source": [
    "class SessionDataLoader:\n",
    "    \"\"\"Credit to yhs-968/pyGRU4REC.\"\"\"\n",
    "\n",
    "    def __init__(self, dataset: SessionDataset, batch_size=50):\n",
    "        self.dataset = dataset\n",
    "        self.batch_size = batch_size\n",
    "\n",
    "    def __iter__(self):\n",
    "        \"\"\" Returns the iterator for producing session-parallel training mini-batches.\n",
    "        Yields:\n",
    "            input (B,):  Item indices that will be encoded as one-hot vectors later.\n",
    "            target (B,): a Variable that stores the target item indices\n",
    "            masks: Numpy array indicating the positions of the sessions to be terminated\n",
    "        \"\"\"\n",
    "\n",
    "        start, end, mask, last_session, finished = self.initialize()  # initialize 메소드에서 확인해주세요.\n",
    "        \"\"\"\n",
    "        start : Index Where Session Start\n",
    "        end : Index Where Session End\n",
    "        mask : indicator for the sessions to be terminated\n",
    "        \"\"\"\n",
    "\n",
    "        while not finished:\n",
    "            min_len = (end - start).min() - 1  # Shortest Length Among Sessions\n",
    "            for i in range(min_len):\n",
    "                # Build inputs & targets\n",
    "                inp = self.dataset.df['item_idx'].values[start + i]\n",
    "                target = self.dataset.df['item_idx'].values[start + i + 1]\n",
    "                yield inp, target, mask\n",
    "\n",
    "            start, end, mask, last_session, finished = self.update_status(start, end, min_len, last_session, finished)\n",
    "\n",
    "    def initialize(self):\n",
    "        first_iters = np.arange(self.batch_size)    # 첫 배치에 사용할 세션 Index를 가져옵니다.\n",
    "        last_session = self.batch_size - 1    # 마지막으로 다루고 있는 세션 Index를 저장해둡니다.\n",
    "        start = self.dataset.click_offsets[self.dataset.session_idx[first_iters]]       # data 상에서 session이 시작된 위치를 가져옵니다.\n",
    "        end = self.dataset.click_offsets[self.dataset.session_idx[first_iters] + 1]  # session이 끝난 위치 바로 다음 위치를 가져옵니다.\n",
    "        mask = np.array([])   # session의 모든 아이템을 다 돌은 경우 mask에 추가해줄 것입니다.\n",
    "        finished = False         # data를 전부 돌았는지 기록하기 위한 변수입니다.\n",
    "        return start, end, mask, last_session, finished\n",
    "\n",
    "    def update_status(self, start: np.ndarray, end: np.ndarray, min_len: int, last_session: int, finished: bool):  \n",
    "        # 다음 배치 데이터를 생성하기 위해 상태를 update합니다.\n",
    "        \n",
    "        start += min_len   # __iter__에서 min_len 만큼 for문을 돌았으므로 start를 min_len 만큼 더해줍니다.\n",
    "        mask = np.arange(self.batch_size)[(end - start) == 1]  \n",
    "        # end는 다음 세션이 시작되는 위치인데 start와 한 칸 차이난다는 것은 session이 끝났다는 뜻입니다. mask에 기록해줍니다.\n",
    "\n",
    "        for i, idx in enumerate(mask, start=1):  # mask에 추가된 세션 개수만큼 새로운 세션을 돌것입니다.\n",
    "            new_session = last_session + i  \n",
    "            if new_session > self.dataset.session_idx[-1]:  # 만약 새로운 세션이 마지막 세션 index보다 크다면 모든 학습데이터를 돈 것입니다.\n",
    "                finished = True\n",
    "                break\n",
    "            # update the next starting/ending point\n",
    "            start[idx] = self.dataset.click_offsets[self.dataset.session_idx[new_session]]     # 종료된 세션 대신 새로운 세션의 시작점을 기록합니다.\n",
    "            end[idx] = self.dataset.click_offsets[self.dataset.session_idx[new_session] + 1]\n",
    "\n",
    "        last_session += len(mask)  # 마지막 세션의 위치를 기록해둡니다.\n",
    "        return start, end, mask, last_session, finished"
   ]
  },
  {
   "cell_type": "code",
   "execution_count": 119,
   "metadata": {},
   "outputs": [
    {
     "data": {
      "text/html": [
       "<div>\n",
       "<style scoped>\n",
       "    .dataframe tbody tr th:only-of-type {\n",
       "        vertical-align: middle;\n",
       "    }\n",
       "\n",
       "    .dataframe tbody tr th {\n",
       "        vertical-align: top;\n",
       "    }\n",
       "\n",
       "    .dataframe thead th {\n",
       "        text-align: right;\n",
       "    }\n",
       "</style>\n",
       "<table border=\"1\" class=\"dataframe\">\n",
       "  <thead>\n",
       "    <tr style=\"text-align: right;\">\n",
       "      <th></th>\n",
       "      <th>ItemId</th>\n",
       "      <th>Time</th>\n",
       "      <th>item_idx</th>\n",
       "      <th>SessionId</th>\n",
       "    </tr>\n",
       "  </thead>\n",
       "  <tbody>\n",
       "    <tr>\n",
       "      <th>31</th>\n",
       "      <td>3186</td>\n",
       "      <td>978300019</td>\n",
       "      <td>0</td>\n",
       "      <td>1</td>\n",
       "    </tr>\n",
       "    <tr>\n",
       "      <th>22</th>\n",
       "      <td>1270</td>\n",
       "      <td>978300055</td>\n",
       "      <td>1</td>\n",
       "      <td>1</td>\n",
       "    </tr>\n",
       "    <tr>\n",
       "      <th>27</th>\n",
       "      <td>1721</td>\n",
       "      <td>978300055</td>\n",
       "      <td>2</td>\n",
       "      <td>1</td>\n",
       "    </tr>\n",
       "    <tr>\n",
       "      <th>37</th>\n",
       "      <td>1022</td>\n",
       "      <td>978300055</td>\n",
       "      <td>3</td>\n",
       "      <td>1</td>\n",
       "    </tr>\n",
       "    <tr>\n",
       "      <th>24</th>\n",
       "      <td>2340</td>\n",
       "      <td>978300103</td>\n",
       "      <td>4</td>\n",
       "      <td>1</td>\n",
       "    </tr>\n",
       "    <tr>\n",
       "      <th>36</th>\n",
       "      <td>1836</td>\n",
       "      <td>978300172</td>\n",
       "      <td>5</td>\n",
       "      <td>1</td>\n",
       "    </tr>\n",
       "    <tr>\n",
       "      <th>3</th>\n",
       "      <td>3408</td>\n",
       "      <td>978300275</td>\n",
       "      <td>6</td>\n",
       "      <td>1</td>\n",
       "    </tr>\n",
       "    <tr>\n",
       "      <th>7</th>\n",
       "      <td>2804</td>\n",
       "      <td>978300719</td>\n",
       "      <td>7</td>\n",
       "      <td>1</td>\n",
       "    </tr>\n",
       "    <tr>\n",
       "      <th>47</th>\n",
       "      <td>1207</td>\n",
       "      <td>978300719</td>\n",
       "      <td>8</td>\n",
       "      <td>1</td>\n",
       "    </tr>\n",
       "    <tr>\n",
       "      <th>0</th>\n",
       "      <td>1193</td>\n",
       "      <td>978300760</td>\n",
       "      <td>9</td>\n",
       "      <td>1</td>\n",
       "    </tr>\n",
       "    <tr>\n",
       "      <th>21</th>\n",
       "      <td>720</td>\n",
       "      <td>978300760</td>\n",
       "      <td>10</td>\n",
       "      <td>2</td>\n",
       "    </tr>\n",
       "    <tr>\n",
       "      <th>44</th>\n",
       "      <td>260</td>\n",
       "      <td>978300760</td>\n",
       "      <td>11</td>\n",
       "      <td>2</td>\n",
       "    </tr>\n",
       "    <tr>\n",
       "      <th>9</th>\n",
       "      <td>919</td>\n",
       "      <td>978301368</td>\n",
       "      <td>12</td>\n",
       "      <td>2</td>\n",
       "    </tr>\n",
       "    <tr>\n",
       "      <th>51</th>\n",
       "      <td>608</td>\n",
       "      <td>978301398</td>\n",
       "      <td>13</td>\n",
       "      <td>2</td>\n",
       "    </tr>\n",
       "    <tr>\n",
       "      <th>43</th>\n",
       "      <td>2692</td>\n",
       "      <td>978301570</td>\n",
       "      <td>14</td>\n",
       "      <td>2</td>\n",
       "    </tr>\n",
       "  </tbody>\n",
       "</table>\n",
       "</div>"
      ],
      "text/plain": [
       "    ItemId       Time  item_idx  SessionId\n",
       "31    3186  978300019         0          1\n",
       "22    1270  978300055         1          1\n",
       "27    1721  978300055         2          1\n",
       "37    1022  978300055         3          1\n",
       "24    2340  978300103         4          1\n",
       "36    1836  978300172         5          1\n",
       "3     3408  978300275         6          1\n",
       "7     2804  978300719         7          1\n",
       "47    1207  978300719         8          1\n",
       "0     1193  978300760         9          1\n",
       "21     720  978300760        10          2\n",
       "44     260  978300760        11          2\n",
       "9      919  978301368        12          2\n",
       "51     608  978301398        13          2\n",
       "43    2692  978301570        14          2"
      ]
     },
     "execution_count": 119,
     "metadata": {},
     "output_type": "execute_result"
    }
   ],
   "source": [
    "tr_data_loader = SessionDataLoader(tr_dataset, batch_size=4)\n",
    "tr_dataset.df.head(15)"
   ]
  },
  {
   "cell_type": "code",
   "execution_count": 120,
   "metadata": {},
   "outputs": [],
   "source": [
    "iter_ex = iter(tr_data_loader)"
   ]
  },
  {
   "cell_type": "code",
   "execution_count": 121,
   "metadata": {},
   "outputs": [
    {
     "name": "stdout",
     "output_type": "stream",
     "text": [
      "Model Input Item Idx are : [ 0 10 20 30]\n",
      "Label Item Idx are :       [ 1 11 21 31]\n",
      "Previous Masked Input Idx are []\n"
     ]
    }
   ],
   "source": [
    "'''\n",
    "아래 셀을 반복 실행하면 next가 계속 다음 데이터를 만듭니다.\n",
    "input, output, mask의 감을 잡아 봅시다.\n",
    "'''\n",
    "inputs, labels, mask =  next(iter_ex)\n",
    "print(f'Model Input Item Idx are : {inputs}')\n",
    "print(f'Label Item Idx are : {\"\":5} {labels}')\n",
    "print(f'Previous Masked Input Idx are {mask}')"
   ]
  },
  {
   "cell_type": "markdown",
   "metadata": {},
   "source": [
    "---\n",
    "## Step 3. 모델 구성\n",
    "\n",
    "이 부분도 실습코드 내역을 참고하여 다양하게 모델 구조를 시도해볼 수 있습니다."
   ]
  },
  {
   "cell_type": "code",
   "execution_count": 122,
   "metadata": {},
   "outputs": [],
   "source": [
    "def mrr_k(pred, truth: int, k: int):\n",
    "    indexing = np.where(pred[:k] == truth)[0]\n",
    "    if len(indexing) > 0:\n",
    "        return 1 / (indexing[0] + 1)\n",
    "    else:\n",
    "        return 0\n",
    "\n",
    "\n",
    "def recall_k(pred, truth: int, k: int) -> int:\n",
    "    answer = truth in pred[:k]\n",
    "    return int(answer)"
   ]
  },
  {
   "cell_type": "code",
   "execution_count": 123,
   "metadata": {},
   "outputs": [],
   "source": [
    "import numpy as np\n",
    "import tensorflow as tf\n",
    "from tensorflow.keras.layers import Input, Dense, Dropout, GRU\n",
    "from tensorflow.keras.losses import categorical_crossentropy\n",
    "from tensorflow.keras.models import Model\n",
    "from tensorflow.keras.optimizers import Adam\n",
    "from tensorflow.keras.utils import to_categorical\n",
    "from tqdm import tqdm"
   ]
  },
  {
   "cell_type": "code",
   "execution_count": 124,
   "metadata": {},
   "outputs": [],
   "source": [
    "def create_model(args):\n",
    "    inputs = Input(batch_shape=(args.batch_size, 1, args.num_items))\n",
    "    gru, _ = GRU(args.hsz, stateful=True, return_state=True, name='GRU')(inputs)\n",
    "    dropout = Dropout(args.drop_rate)(gru)\n",
    "    predictions = Dense(args.num_items, activation='softmax')(dropout)\n",
    "    model = Model(inputs=inputs, outputs=[predictions])\n",
    "    model.compile(loss=categorical_crossentropy, optimizer=Adam(args.lr), metrics=['accuracy'])\n",
    "    model.summary()\n",
    "    return model"
   ]
  },
  {
   "cell_type": "code",
   "execution_count": 133,
   "metadata": {},
   "outputs": [],
   "source": [
    "# 모델에 사용할 hyper-parameter를 class형식으로 관리하겠습니다.\n",
    "class Args:\n",
    "    def __init__(self, tr, val, test, batch_size, hsz, drop_rate, lr, epochs, k):\n",
    "        self.tr = tr\n",
    "        self.val = val\n",
    "        self.test = test\n",
    "        self.num_items = tr['ItemId'].nunique()\n",
    "        self.num_sessions = tr['SessionId'].nunique()\n",
    "        self.batch_size = batch_size\n",
    "        self.hsz = hsz\n",
    "        self.drop_rate = drop_rate\n",
    "        self.lr = lr\n",
    "        self.epochs = epochs\n",
    "        self.k = k\n",
    "\n",
    "args = Args(train_reassigned, val, test, batch_size=1024, hsz=50, drop_rate=0.1, lr=0.001, epochs=3, k=20)"
   ]
  },
  {
   "cell_type": "code",
   "execution_count": 134,
   "metadata": {},
   "outputs": [
    {
     "name": "stdout",
     "output_type": "stream",
     "text": [
      "Model: \"model_2\"\n",
      "_________________________________________________________________\n",
      "Layer (type)                 Output Shape              Param #   \n",
      "=================================================================\n",
      "input_3 (InputLayer)         [(1024, 1, 3421)]         0         \n",
      "_________________________________________________________________\n",
      "GRU (GRU)                    [(1024, 50), (1024, 50)]  520950    \n",
      "_________________________________________________________________\n",
      "dropout_2 (Dropout)          (1024, 50)                0         \n",
      "_________________________________________________________________\n",
      "dense_2 (Dense)              (1024, 3421)              174471    \n",
      "=================================================================\n",
      "Total params: 695,421\n",
      "Trainable params: 695,421\n",
      "Non-trainable params: 0\n",
      "_________________________________________________________________\n"
     ]
    }
   ],
   "source": [
    "model = create_model(args)"
   ]
  },
  {
   "cell_type": "markdown",
   "metadata": {},
   "source": [
    "---\n",
    "## Step 4. 모델 학습\n",
    "\n",
    "다양한 하이퍼파라미터를 변경해 보며 검증해 보도록 합니다. 실습코드에 언급되었던 Recall, MRR 등의 개념들도 함께 관리될 수 있도록 합니다."
   ]
  },
  {
   "cell_type": "code",
   "execution_count": 135,
   "metadata": {},
   "outputs": [],
   "source": [
    "# train 셋으로 학습하면서 valid 셋으로 검증합니다.\n",
    "def train_model(model, args):\n",
    "    train_dataset = SessionDataset(args.tr)\n",
    "    train_loader = SessionDataLoader(train_dataset, batch_size=args.batch_size)\n",
    "\n",
    "    for epoch in range(1, args.epochs + 1):\n",
    "        total_step = len(args.tr) - args.tr['SessionId'].nunique()\n",
    "        tr_loader = tqdm(train_loader, total=total_step // args.batch_size, desc='Train', mininterval=1)\n",
    "        for feat, target, mask in tr_loader:\n",
    "            reset_hidden_states(model, mask)  # 종료된 session은 hidden_state를 초기화합니다. 아래 메서드에서 확인해주세요.\n",
    "\n",
    "            input_ohe = to_categorical(feat, num_classes=args.num_items)\n",
    "            input_ohe = np.expand_dims(input_ohe, axis=1)\n",
    "            target_ohe = to_categorical(target, num_classes=args.num_items)\n",
    "\n",
    "            result = model.train_on_batch(input_ohe, target_ohe)\n",
    "            tr_loader.set_postfix(train_loss=result[0], accuracy = result[1])\n",
    "\n",
    "        val_recall, val_mrr = get_metrics(args.val, model, args, args.k)  # valid set에 대해 검증합니다.\n",
    "\n",
    "        print(f\"\\t - Recall@{args.k} epoch {epoch}: {val_recall:3f}\")\n",
    "        print(f\"\\t - MRR@{args.k}    epoch {epoch}: {val_mrr:3f}\\n\")\n",
    "\n",
    "\n",
    "def reset_hidden_states(model, mask):\n",
    "    gru_layer = model.get_layer(name='GRU')  # model에서 gru layer를 가져옵니다.\n",
    "    hidden_states = gru_layer.states[0].numpy()  # gru_layer의 parameter를 가져옵니다.\n",
    "    for elt in mask:  # mask된 인덱스 즉, 종료된 세션의 인덱스를 돌면서\n",
    "        hidden_states[elt, :] = 0  # parameter를 초기화 합니다.\n",
    "    gru_layer.reset_states(states=hidden_states)\n",
    "\n",
    "\n",
    "def get_metrics(data, model, args, k: int):  # valid셋과 test셋을 평가하는 코드입니다. \n",
    "                                             # train과 거의 같지만 mrr, recall을 구하는 라인이 있습니다.\n",
    "    dataset = SessionDataset(data)\n",
    "    loader = SessionDataLoader(dataset, batch_size=args.batch_size)\n",
    "    recall_list, mrr_list = [], []\n",
    "\n",
    "    total_step = len(data) - data['SessionId'].nunique()\n",
    "    for inputs, label, mask in tqdm(loader, total=total_step // args.batch_size, desc='Evaluation', mininterval=1):\n",
    "        reset_hidden_states(model, mask)\n",
    "        input_ohe = to_categorical(inputs, num_classes=args.num_items)\n",
    "        input_ohe = np.expand_dims(input_ohe, axis=1)\n",
    "\n",
    "        pred = model.predict(input_ohe, batch_size=args.batch_size)\n",
    "        pred_arg = tf.argsort(pred, direction='DESCENDING')  # softmax 값이 큰 순서대로 sorting 합니다.\n",
    "\n",
    "        length = len(inputs)\n",
    "        recall_list.extend([recall_k(pred_arg[i], label[i], k) for i in range(length)])\n",
    "        mrr_list.extend([mrr_k(pred_arg[i], label[i], k) for i in range(length)])\n",
    "\n",
    "    recall, mrr = np.mean(recall_list), np.mean(mrr_list)\n",
    "    return recall, mrr"
   ]
  },
  {
   "cell_type": "code",
   "execution_count": 136,
   "metadata": {},
   "outputs": [
    {
     "name": "stderr",
     "output_type": "stream",
     "text": [
      "Train:  99%|█████████▉| 717/721 [00:36<00:00, 19.62it/s, accuracy=0.00586, train_loss=7.12] \n",
      "Evaluation:   0%|          | 0/4 [00:00<?, ?it/s]\n"
     ]
    },
    {
     "ename": "IndexError",
     "evalue": "index 612 is out of bounds for axis 0 with size 612",
     "output_type": "error",
     "traceback": [
      "\u001b[0;31m---------------------------------------------------------------------------\u001b[0m",
      "\u001b[0;31mIndexError\u001b[0m                                Traceback (most recent call last)",
      "\u001b[0;32m<ipython-input-136-ea7cf59c9e36>\u001b[0m in \u001b[0;36m<module>\u001b[0;34m\u001b[0m\n\u001b[1;32m      1\u001b[0m \u001b[0;31m# 학습 시간이 다소 오래 소요됩니다.\u001b[0m\u001b[0;34m\u001b[0m\u001b[0;34m\u001b[0m\u001b[0;34m\u001b[0m\u001b[0m\n\u001b[0;32m----> 2\u001b[0;31m \u001b[0mtrain_model\u001b[0m\u001b[0;34m(\u001b[0m\u001b[0mmodel\u001b[0m\u001b[0;34m,\u001b[0m \u001b[0margs\u001b[0m\u001b[0;34m)\u001b[0m\u001b[0;34m\u001b[0m\u001b[0;34m\u001b[0m\u001b[0m\n\u001b[0m",
      "\u001b[0;32m<ipython-input-135-6ccb1f8b9ee9>\u001b[0m in \u001b[0;36mtrain_model\u001b[0;34m(model, args)\u001b[0m\n\u001b[1;32m     17\u001b[0m             \u001b[0mtr_loader\u001b[0m\u001b[0;34m.\u001b[0m\u001b[0mset_postfix\u001b[0m\u001b[0;34m(\u001b[0m\u001b[0mtrain_loss\u001b[0m\u001b[0;34m=\u001b[0m\u001b[0mresult\u001b[0m\u001b[0;34m[\u001b[0m\u001b[0;36m0\u001b[0m\u001b[0;34m]\u001b[0m\u001b[0;34m,\u001b[0m \u001b[0maccuracy\u001b[0m \u001b[0;34m=\u001b[0m \u001b[0mresult\u001b[0m\u001b[0;34m[\u001b[0m\u001b[0;36m1\u001b[0m\u001b[0;34m]\u001b[0m\u001b[0;34m)\u001b[0m\u001b[0;34m\u001b[0m\u001b[0;34m\u001b[0m\u001b[0m\n\u001b[1;32m     18\u001b[0m \u001b[0;34m\u001b[0m\u001b[0m\n\u001b[0;32m---> 19\u001b[0;31m         \u001b[0mval_recall\u001b[0m\u001b[0;34m,\u001b[0m \u001b[0mval_mrr\u001b[0m \u001b[0;34m=\u001b[0m \u001b[0mget_metrics\u001b[0m\u001b[0;34m(\u001b[0m\u001b[0margs\u001b[0m\u001b[0;34m.\u001b[0m\u001b[0mval\u001b[0m\u001b[0;34m,\u001b[0m \u001b[0mmodel\u001b[0m\u001b[0;34m,\u001b[0m \u001b[0margs\u001b[0m\u001b[0;34m,\u001b[0m \u001b[0margs\u001b[0m\u001b[0;34m.\u001b[0m\u001b[0mk\u001b[0m\u001b[0;34m)\u001b[0m  \u001b[0;31m# valid set에 대해 검증합니다.\u001b[0m\u001b[0;34m\u001b[0m\u001b[0;34m\u001b[0m\u001b[0m\n\u001b[0m\u001b[1;32m     20\u001b[0m \u001b[0;34m\u001b[0m\u001b[0m\n\u001b[1;32m     21\u001b[0m         \u001b[0mprint\u001b[0m\u001b[0;34m(\u001b[0m\u001b[0;34mf\"\\t - Recall@{args.k} epoch {epoch}: {val_recall:3f}\"\u001b[0m\u001b[0;34m)\u001b[0m\u001b[0;34m\u001b[0m\u001b[0;34m\u001b[0m\u001b[0m\n",
      "\u001b[0;32m<ipython-input-135-6ccb1f8b9ee9>\u001b[0m in \u001b[0;36mget_metrics\u001b[0;34m(data, model, args, k)\u001b[0m\n\u001b[1;32m     38\u001b[0m \u001b[0;34m\u001b[0m\u001b[0m\n\u001b[1;32m     39\u001b[0m     \u001b[0mtotal_step\u001b[0m \u001b[0;34m=\u001b[0m \u001b[0mlen\u001b[0m\u001b[0;34m(\u001b[0m\u001b[0mdata\u001b[0m\u001b[0;34m)\u001b[0m \u001b[0;34m-\u001b[0m \u001b[0mdata\u001b[0m\u001b[0;34m[\u001b[0m\u001b[0;34m'SessionId'\u001b[0m\u001b[0;34m]\u001b[0m\u001b[0;34m.\u001b[0m\u001b[0mnunique\u001b[0m\u001b[0;34m(\u001b[0m\u001b[0;34m)\u001b[0m\u001b[0;34m\u001b[0m\u001b[0;34m\u001b[0m\u001b[0m\n\u001b[0;32m---> 40\u001b[0;31m     \u001b[0;32mfor\u001b[0m \u001b[0minputs\u001b[0m\u001b[0;34m,\u001b[0m \u001b[0mlabel\u001b[0m\u001b[0;34m,\u001b[0m \u001b[0mmask\u001b[0m \u001b[0;32min\u001b[0m \u001b[0mtqdm\u001b[0m\u001b[0;34m(\u001b[0m\u001b[0mloader\u001b[0m\u001b[0;34m,\u001b[0m \u001b[0mtotal\u001b[0m\u001b[0;34m=\u001b[0m\u001b[0mtotal_step\u001b[0m \u001b[0;34m//\u001b[0m \u001b[0margs\u001b[0m\u001b[0;34m.\u001b[0m\u001b[0mbatch_size\u001b[0m\u001b[0;34m,\u001b[0m \u001b[0mdesc\u001b[0m\u001b[0;34m=\u001b[0m\u001b[0;34m'Evaluation'\u001b[0m\u001b[0;34m,\u001b[0m \u001b[0mmininterval\u001b[0m\u001b[0;34m=\u001b[0m\u001b[0;36m1\u001b[0m\u001b[0;34m)\u001b[0m\u001b[0;34m:\u001b[0m\u001b[0;34m\u001b[0m\u001b[0;34m\u001b[0m\u001b[0m\n\u001b[0m\u001b[1;32m     41\u001b[0m         \u001b[0mreset_hidden_states\u001b[0m\u001b[0;34m(\u001b[0m\u001b[0mmodel\u001b[0m\u001b[0;34m,\u001b[0m \u001b[0mmask\u001b[0m\u001b[0;34m)\u001b[0m\u001b[0;34m\u001b[0m\u001b[0;34m\u001b[0m\u001b[0m\n\u001b[1;32m     42\u001b[0m         \u001b[0minput_ohe\u001b[0m \u001b[0;34m=\u001b[0m \u001b[0mto_categorical\u001b[0m\u001b[0;34m(\u001b[0m\u001b[0minputs\u001b[0m\u001b[0;34m,\u001b[0m \u001b[0mnum_classes\u001b[0m\u001b[0;34m=\u001b[0m\u001b[0margs\u001b[0m\u001b[0;34m.\u001b[0m\u001b[0mnum_items\u001b[0m\u001b[0;34m)\u001b[0m\u001b[0;34m\u001b[0m\u001b[0;34m\u001b[0m\u001b[0m\n",
      "\u001b[0;32m~/anaconda3/envs/aiffel/lib/python3.7/site-packages/tqdm/std.py\u001b[0m in \u001b[0;36m__iter__\u001b[0;34m(self)\u001b[0m\n\u001b[1;32m   1164\u001b[0m \u001b[0;34m\u001b[0m\u001b[0m\n\u001b[1;32m   1165\u001b[0m         \u001b[0;32mtry\u001b[0m\u001b[0;34m:\u001b[0m\u001b[0;34m\u001b[0m\u001b[0;34m\u001b[0m\u001b[0m\n\u001b[0;32m-> 1166\u001b[0;31m             \u001b[0;32mfor\u001b[0m \u001b[0mobj\u001b[0m \u001b[0;32min\u001b[0m \u001b[0miterable\u001b[0m\u001b[0;34m:\u001b[0m\u001b[0;34m\u001b[0m\u001b[0;34m\u001b[0m\u001b[0m\n\u001b[0m\u001b[1;32m   1167\u001b[0m                 \u001b[0;32myield\u001b[0m \u001b[0mobj\u001b[0m\u001b[0;34m\u001b[0m\u001b[0;34m\u001b[0m\u001b[0m\n\u001b[1;32m   1168\u001b[0m                 \u001b[0;31m# Update and possibly print the progressbar.\u001b[0m\u001b[0;34m\u001b[0m\u001b[0;34m\u001b[0m\u001b[0;34m\u001b[0m\u001b[0m\n",
      "\u001b[0;32m<ipython-input-118-e49efd01f34f>\u001b[0m in \u001b[0;36m__iter__\u001b[0;34m(self)\u001b[0m\n\u001b[1;32m     14\u001b[0m         \"\"\"\n\u001b[1;32m     15\u001b[0m \u001b[0;34m\u001b[0m\u001b[0m\n\u001b[0;32m---> 16\u001b[0;31m         \u001b[0mstart\u001b[0m\u001b[0;34m,\u001b[0m \u001b[0mend\u001b[0m\u001b[0;34m,\u001b[0m \u001b[0mmask\u001b[0m\u001b[0;34m,\u001b[0m \u001b[0mlast_session\u001b[0m\u001b[0;34m,\u001b[0m \u001b[0mfinished\u001b[0m \u001b[0;34m=\u001b[0m \u001b[0mself\u001b[0m\u001b[0;34m.\u001b[0m\u001b[0minitialize\u001b[0m\u001b[0;34m(\u001b[0m\u001b[0;34m)\u001b[0m  \u001b[0;31m# initialize 메소드에서 확인해주세요.\u001b[0m\u001b[0;34m\u001b[0m\u001b[0;34m\u001b[0m\u001b[0m\n\u001b[0m\u001b[1;32m     17\u001b[0m         \"\"\"\n\u001b[1;32m     18\u001b[0m         \u001b[0mstart\u001b[0m \u001b[0;34m:\u001b[0m \u001b[0mIndex\u001b[0m \u001b[0mWhere\u001b[0m \u001b[0mSession\u001b[0m \u001b[0mStart\u001b[0m\u001b[0;34m\u001b[0m\u001b[0;34m\u001b[0m\u001b[0m\n",
      "\u001b[0;32m<ipython-input-118-e49efd01f34f>\u001b[0m in \u001b[0;36minitialize\u001b[0;34m(self)\u001b[0m\n\u001b[1;32m     34\u001b[0m         \u001b[0mfirst_iters\u001b[0m \u001b[0;34m=\u001b[0m \u001b[0mnp\u001b[0m\u001b[0;34m.\u001b[0m\u001b[0marange\u001b[0m\u001b[0;34m(\u001b[0m\u001b[0mself\u001b[0m\u001b[0;34m.\u001b[0m\u001b[0mbatch_size\u001b[0m\u001b[0;34m)\u001b[0m    \u001b[0;31m# 첫 배치에 사용할 세션 Index를 가져옵니다.\u001b[0m\u001b[0;34m\u001b[0m\u001b[0;34m\u001b[0m\u001b[0m\n\u001b[1;32m     35\u001b[0m         \u001b[0mlast_session\u001b[0m \u001b[0;34m=\u001b[0m \u001b[0mself\u001b[0m\u001b[0;34m.\u001b[0m\u001b[0mbatch_size\u001b[0m \u001b[0;34m-\u001b[0m \u001b[0;36m1\u001b[0m    \u001b[0;31m# 마지막으로 다루고 있는 세션 Index를 저장해둡니다.\u001b[0m\u001b[0;34m\u001b[0m\u001b[0;34m\u001b[0m\u001b[0m\n\u001b[0;32m---> 36\u001b[0;31m         \u001b[0mstart\u001b[0m \u001b[0;34m=\u001b[0m \u001b[0mself\u001b[0m\u001b[0;34m.\u001b[0m\u001b[0mdataset\u001b[0m\u001b[0;34m.\u001b[0m\u001b[0mclick_offsets\u001b[0m\u001b[0;34m[\u001b[0m\u001b[0mself\u001b[0m\u001b[0;34m.\u001b[0m\u001b[0mdataset\u001b[0m\u001b[0;34m.\u001b[0m\u001b[0msession_idx\u001b[0m\u001b[0;34m[\u001b[0m\u001b[0mfirst_iters\u001b[0m\u001b[0;34m]\u001b[0m\u001b[0;34m]\u001b[0m       \u001b[0;31m# data 상에서 session이 시작된 위치를 가져옵니다.\u001b[0m\u001b[0;34m\u001b[0m\u001b[0;34m\u001b[0m\u001b[0m\n\u001b[0m\u001b[1;32m     37\u001b[0m         \u001b[0mend\u001b[0m \u001b[0;34m=\u001b[0m \u001b[0mself\u001b[0m\u001b[0;34m.\u001b[0m\u001b[0mdataset\u001b[0m\u001b[0;34m.\u001b[0m\u001b[0mclick_offsets\u001b[0m\u001b[0;34m[\u001b[0m\u001b[0mself\u001b[0m\u001b[0;34m.\u001b[0m\u001b[0mdataset\u001b[0m\u001b[0;34m.\u001b[0m\u001b[0msession_idx\u001b[0m\u001b[0;34m[\u001b[0m\u001b[0mfirst_iters\u001b[0m\u001b[0;34m]\u001b[0m \u001b[0;34m+\u001b[0m \u001b[0;36m1\u001b[0m\u001b[0;34m]\u001b[0m  \u001b[0;31m# session이 끝난 위치 바로 다음 위치를 가져옵니다.\u001b[0m\u001b[0;34m\u001b[0m\u001b[0;34m\u001b[0m\u001b[0m\n\u001b[1;32m     38\u001b[0m         \u001b[0mmask\u001b[0m \u001b[0;34m=\u001b[0m \u001b[0mnp\u001b[0m\u001b[0;34m.\u001b[0m\u001b[0marray\u001b[0m\u001b[0;34m(\u001b[0m\u001b[0;34m[\u001b[0m\u001b[0;34m]\u001b[0m\u001b[0;34m)\u001b[0m   \u001b[0;31m# session의 모든 아이템을 다 돌은 경우 mask에 추가해줄 것입니다.\u001b[0m\u001b[0;34m\u001b[0m\u001b[0;34m\u001b[0m\u001b[0m\n",
      "\u001b[0;31mIndexError\u001b[0m: index 612 is out of bounds for axis 0 with size 612"
     ]
    }
   ],
   "source": [
    "# 학습 시간이 다소 오래 소요됩니다.\n",
    "train_model(model, args)"
   ]
  },
  {
   "cell_type": "code",
   "execution_count": null,
   "metadata": {},
   "outputs": [],
   "source": []
  }
 ],
 "metadata": {
  "kernelspec": {
   "display_name": "aiffel",
   "language": "python",
   "name": "aiffel"
  },
  "language_info": {
   "codemirror_mode": {
    "name": "ipython",
    "version": 3
   },
   "file_extension": ".py",
   "mimetype": "text/x-python",
   "name": "python",
   "nbconvert_exporter": "python",
   "pygments_lexer": "ipython3",
   "version": "3.7.9"
  }
 },
 "nbformat": 4,
 "nbformat_minor": 4
}
