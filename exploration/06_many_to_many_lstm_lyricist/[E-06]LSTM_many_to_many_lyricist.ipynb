{
 "cells": [
  {
   "cell_type": "markdown",
   "metadata": {},
   "source": [
    "## SSAC - Exploration 6 - Lyricist"
   ]
  },
  {
   "cell_type": "markdown",
   "metadata": {},
   "source": [
    "---"
   ]
  },
  {
   "cell_type": "code",
   "execution_count": 1,
   "metadata": {},
   "outputs": [],
   "source": [
    "# import required packages\n",
    "import re, glob, os\n",
    "import numpy as np\n",
    "import tensorflow as tf\n",
    "import matplotlib.pyplot as plt\n",
    "from sklearn.model_selection import train_test_split"
   ]
  },
  {
   "cell_type": "markdown",
   "metadata": {},
   "source": [
    "## load data"
   ]
  },
  {
   "cell_type": "code",
   "execution_count": 2,
   "metadata": {},
   "outputs": [
    {
     "name": "stdout",
     "output_type": "stream",
     "text": [
      "데이터 크기: 187088\n",
      "Examples:\n",
      " ['', '', 'All of this and more is for you']\n"
     ]
    }
   ],
   "source": [
    "txt_file_path = os.getenv('HOME')+'/aiffel/lyricist/data/lyrics/*'\n",
    "\n",
    "txt_list = glob.glob(txt_file_path)\n",
    "\n",
    "raw_corpus = []\n",
    "\n",
    "# open the files in the directory and forge into raw_corpus object\n",
    "for txt_file in txt_list:\n",
    "    with open(txt_file, \"r\") as f:\n",
    "        raw = f.read().splitlines()\n",
    "        raw_corpus.extend(raw)\n",
    "\n",
    "print(\"데이터 크기:\", len(raw_corpus))\n",
    "print(\"Examples:\\n\", raw_corpus[:3])"
   ]
  },
  {
   "cell_type": "code",
   "execution_count": 3,
   "metadata": {},
   "outputs": [
    {
     "name": "stdout",
     "output_type": "stream",
     "text": [
      "All of this and more is for you\n",
      "With love, sincerity and deepest care\n",
      "My life with you I share\n",
      "Ever since I met you, baby\n",
      "I've been wantin' to lay you down\n",
      "But it's so hard to get you\n",
      "Baby, when you never come around\n",
      "Every day that you keep it away\n",
      "It only makes me want it more\n",
      "Ooh baby, just say the word\n",
      "And I'll be at your door\n"
     ]
    }
   ],
   "source": [
    "for idx, sentence in enumerate(raw_corpus):\n",
    "    if len(sentence) == 0: continue   # exclude read empty 'sentence'\n",
    "\n",
    "    if idx > 15: break   # code check ; check if code works as intended with first 15 read 'sentence'\n",
    "        \n",
    "    print(sentence)"
   ]
  },
  {
   "cell_type": "markdown",
   "metadata": {},
   "source": [
    "## preprocess"
   ]
  },
  {
   "cell_type": "code",
   "execution_count": 4,
   "metadata": {},
   "outputs": [
    {
     "name": "stdout",
     "output_type": "stream",
     "text": [
      "<class 'str'>\n",
      "<class 'str'>\n",
      "<class 'str'>\n",
      "<class 'str'>\n",
      "<class 'str'>\n",
      "<class 'str'>\n",
      "<class 'str'>\n",
      "<class 'str'>\n"
     ]
    }
   ],
   "source": [
    "sample = []\n",
    "for idx, sentence in enumerate(raw_corpus):\n",
    "    if len(sentence) == 0: continue\n",
    "    print(type(sentence))\n",
    "    sample.append(sentence)\n",
    "    if idx > 10: break"
   ]
  },
  {
   "cell_type": "code",
   "execution_count": 5,
   "metadata": {},
   "outputs": [
    {
     "data": {
      "text/plain": [
       "['All of this and more is for you',\n",
       " 'With love, sincerity and deepest care',\n",
       " 'My life with you I share',\n",
       " 'Ever since I met you, baby',\n",
       " \"I've been wantin' to lay you down\",\n",
       " \"But it's so hard to get you\",\n",
       " 'Baby, when you never come around',\n",
       " 'Every day that you keep it away']"
      ]
     },
     "execution_count": 5,
     "metadata": {},
     "output_type": "execute_result"
    }
   ],
   "source": [
    "sample"
   ]
  },
  {
   "cell_type": "code",
   "execution_count": 6,
   "metadata": {},
   "outputs": [
    {
     "data": {
      "text/plain": [
       "['With', 'love,', 'sincerity', 'and', 'deepest', 'care']"
      ]
     },
     "execution_count": 6,
     "metadata": {},
     "output_type": "execute_result"
    }
   ],
   "source": [
    "sample[1].split()"
   ]
  },
  {
   "cell_type": "code",
   "execution_count": 7,
   "metadata": {},
   "outputs": [
    {
     "data": {
      "text/plain": [
       "6"
      ]
     },
     "execution_count": 7,
     "metadata": {},
     "output_type": "execute_result"
    }
   ],
   "source": [
    "len(sample[1].split())"
   ]
  },
  {
   "cell_type": "code",
   "execution_count": 8,
   "metadata": {},
   "outputs": [
    {
     "name": "stdout",
     "output_type": "stream",
     "text": [
      "<start> this is sample sentence . <end>\n"
     ]
    }
   ],
   "source": [
    "def preprocess_sentence(sentence):\n",
    "    sentence = sentence.lower().strip()       # turn into small letters and erase empty space at each end.\n",
    "  \n",
    "    sentence = re.sub(r\"([?.!,¿])\", r\" \\1 \", sentence)        # add one space before and after listed symbols\n",
    "    sentence = re.sub(r'[\" \"]+', \" \", sentence)               \n",
    "    sentence = re.sub(r\"[^a-zA-Z?.!]+\", \" \", sentence)        # take only alphabets and ? . ! as data\n",
    "\n",
    "    sentence = sentence.strip()\n",
    "\n",
    "    sentence = '<start> ' + sentence + ' <end>'      \n",
    "    \n",
    "    return sentence\n",
    "\n",
    "print(preprocess_sentence(\"This @_is ;;;sample        sentence.\"))   # see if defined function works as intened with sample sentence"
   ]
  },
  {
   "cell_type": "code",
   "execution_count": 9,
   "metadata": {},
   "outputs": [
    {
     "name": "stdout",
     "output_type": "stream",
     "text": [
      "0\n",
      "0\n",
      "8\n",
      "6\n",
      "6\n",
      "0\n",
      "0\n"
     ]
    }
   ],
   "source": [
    "for idx, sentence in enumerate(raw_corpus):\n",
    "    print(len(sentence.split()))\n",
    "    if idx > 5: break"
   ]
  },
  {
   "cell_type": "code",
   "execution_count": 10,
   "metadata": {},
   "outputs": [
    {
     "data": {
      "text/plain": [
       "['<start> all of this and more is for you <end>',\n",
       " '<start> with love sincerity and deepest care <end>',\n",
       " '<start> my life with you i share <end>',\n",
       " '<start> ever since i met you baby <end>',\n",
       " '<start> i ve been wantin to lay you down <end>',\n",
       " '<start> but it s so hard to get you <end>',\n",
       " '<start> baby when you never come around <end>',\n",
       " '<start> every day that you keep it away <end>',\n",
       " '<start> it only makes me want it more <end>',\n",
       " '<start> ooh baby just say the word <end>']"
      ]
     },
     "execution_count": 10,
     "metadata": {},
     "output_type": "execute_result"
    }
   ],
   "source": [
    "# gather sentences minding that <start> or <end> would be cutted out from sentences. ; want to make 15 long sentence for input and target.\n",
    "corpus = []\n",
    "\n",
    "for sentence in raw_corpus:\n",
    "    if len(sentence) == 0: continue\n",
    "    \n",
    "    sentence = preprocess_sentence(sentence)\n",
    "    \n",
    "    if len(sentence.split()) > 16: continue\n",
    "\n",
    "    corpus.append(sentence)\n",
    "        \n",
    "corpus[0:10]"
   ]
  },
  {
   "cell_type": "code",
   "execution_count": 11,
   "metadata": {},
   "outputs": [
    {
     "data": {
      "text/plain": [
       "163436"
      ]
     },
     "execution_count": 11,
     "metadata": {},
     "output_type": "execute_result"
    }
   ],
   "source": [
    "len(corpus)"
   ]
  },
  {
   "cell_type": "code",
   "execution_count": 12,
   "metadata": {},
   "outputs": [
    {
     "data": {
      "text/plain": [
       "130748.8"
      ]
     },
     "execution_count": 12,
     "metadata": {},
     "output_type": "execute_result"
    }
   ],
   "source": [
    "len(corpus)*0.8"
   ]
  },
  {
   "cell_type": "code",
   "execution_count": 13,
   "metadata": {},
   "outputs": [
    {
     "name": "stdout",
     "output_type": "stream",
     "text": [
      "8887\n"
     ]
    }
   ],
   "source": [
    "over = 0\n",
    "overlist = []\n",
    "for idx, sentence in enumerate(corpus):\n",
    "    if len(sentence.split()) > 14:\n",
    "        over += 1\n",
    "        overlist.append(idx)\n",
    "print(over)"
   ]
  },
  {
   "cell_type": "code",
   "execution_count": 14,
   "metadata": {},
   "outputs": [
    {
     "name": "stdout",
     "output_type": "stream",
     "text": [
      "<start> how will i take it when you call my name ? hey lover <end>\n"
     ]
    }
   ],
   "source": [
    "print(corpus[overlist[0]])"
   ]
  },
  {
   "cell_type": "code",
   "execution_count": 15,
   "metadata": {},
   "outputs": [
    {
     "data": {
      "text/plain": [
       "['<start>', 'all', 'of', 'this', 'and', 'more', 'is', 'for', 'you']"
      ]
     },
     "execution_count": 15,
     "metadata": {},
     "output_type": "execute_result"
    }
   ],
   "source": [
    "corpus[0].split()[:-1]"
   ]
  },
  {
   "cell_type": "code",
   "execution_count": 16,
   "metadata": {},
   "outputs": [
    {
     "data": {
      "text/plain": [
       "['all', 'of', 'this', 'and', 'more', 'is', 'for', 'you', '<end>']"
      ]
     },
     "execution_count": 16,
     "metadata": {},
     "output_type": "execute_result"
    }
   ],
   "source": [
    "corpus[0].split()[1:]"
   ]
  },
  {
   "cell_type": "code",
   "execution_count": 17,
   "metadata": {},
   "outputs": [],
   "source": [
    "def tokenize(corpus):\n",
    "    \n",
    "    tokenizer = tf.keras.preprocessing.text.Tokenizer(\n",
    "        num_words = 15000,  # number of words to tokenize \n",
    "        filters = ' ',    \n",
    "        oov_token = \"<unk>\"  # out-of-vocabulary\n",
    "    )\n",
    "    tokenizer.fit_on_texts(corpus)   \n",
    "    \n",
    "    # take out <end> and <start> from input and target corpus respectively\n",
    "    input_corpus = []\n",
    "    target_corpus =[]\n",
    "    for sentence in corpus:\n",
    "        input_corpus.append(sentence.split()[:-1])\n",
    "        target_corpus.append(sentence.split()[1:])\n",
    "\n",
    "    # turn corpus into tensor\n",
    "    input_tensor = tokenizer.texts_to_sequences(input_corpus)   \n",
    "    target_tensor = tokenizer.texts_to_sequences(target_corpus)\n",
    "    \n",
    "    # pre padding tensors\n",
    "    input_tensor = tf.keras.preprocessing.sequence.pad_sequences(input_tensor, padding='pre')\n",
    "    target_tensor = tf.keras.preprocessing.sequence.pad_sequences(target_tensor, padding='pre')\n",
    "\n",
    "    print('input_tensor: ',input_tensor, 'target_tensor: ',target_tensor, 'tokenizer: ',tokenizer)\n",
    "    return input_tensor, target_tensor, tokenizer"
   ]
  },
  {
   "cell_type": "code",
   "execution_count": 18,
   "metadata": {},
   "outputs": [
    {
     "name": "stdout",
     "output_type": "stream",
     "text": [
      "input_tensor:  [[    0     0     0 ...    25    27     6]\n",
      " [    0     0     0 ...     7  4667   287]\n",
      " [    0     0     0 ...     6     4  1012]\n",
      " ...\n",
      " [    0     0     0 ... 12811    25  3351]\n",
      " [    0     0     0 ...   323   583   799]\n",
      " [    0     0     0 ...  5016  2535   212]] target_tensor:  [[   0    0    0 ...   27    6    3]\n",
      " [   0    0    0 ... 4667  287    3]\n",
      " [   0    0    0 ...    4 1012    3]\n",
      " ...\n",
      " [   0    0    0 ...   25 3351    3]\n",
      " [   0    0    0 ...  583  799    3]\n",
      " [   0    0    0 ... 2535  212    3]] tokenizer:  <keras_preprocessing.text.Tokenizer object at 0x7fbcd72f7090>\n"
     ]
    }
   ],
   "source": [
    "input_tensor, target_tensor, tokenizer = tokenize(corpus)"
   ]
  },
  {
   "cell_type": "code",
   "execution_count": 37,
   "metadata": {},
   "outputs": [],
   "source": [
    "del corpus"
   ]
  },
  {
   "cell_type": "code",
   "execution_count": 38,
   "metadata": {},
   "outputs": [
    {
     "data": {
      "text/plain": [
       "True"
      ]
     },
     "execution_count": 38,
     "metadata": {},
     "output_type": "execute_result"
    }
   ],
   "source": [
    "len(input_tensor) == len(target_tensor)"
   ]
  },
  {
   "cell_type": "code",
   "execution_count": 19,
   "metadata": {},
   "outputs": [
    {
     "data": {
      "text/plain": [
       "array([ 0,  0,  0,  0,  0,  0,  2, 24, 18, 41,  7, 97, 25, 27,  6],\n",
       "      dtype=int32)"
      ]
     },
     "execution_count": 19,
     "metadata": {},
     "output_type": "execute_result"
    }
   ],
   "source": [
    "input_tensor[0]"
   ]
  },
  {
   "cell_type": "code",
   "execution_count": 20,
   "metadata": {},
   "outputs": [
    {
     "data": {
      "text/plain": [
       "15"
      ]
     },
     "execution_count": 20,
     "metadata": {},
     "output_type": "execute_result"
    }
   ],
   "source": [
    "len(input_tensor[0])"
   ]
  },
  {
   "cell_type": "code",
   "execution_count": 21,
   "metadata": {},
   "outputs": [
    {
     "name": "stdout",
     "output_type": "stream",
     "text": [
      "1 : <unk>\n",
      "2 : <start>\n",
      "3 : <end>\n",
      "4 : i\n",
      "5 : the\n",
      "6 : you\n",
      "7 : and\n",
      "8 : a\n",
      "9 : to\n",
      "10 : it\n"
     ]
    }
   ],
   "source": [
    "for idx in tokenizer.index_word:\n",
    "    print(idx, \":\", tokenizer.index_word[idx])\n",
    "\n",
    "    if idx >= 10: break"
   ]
  },
  {
   "cell_type": "code",
   "execution_count": 22,
   "metadata": {},
   "outputs": [
    {
     "data": {
      "text/plain": [
       "array([ 0,  0,  0,  0,  0,  0,  2, 24, 18, 41,  7, 97, 25, 27,  6],\n",
       "      dtype=int32)"
      ]
     },
     "execution_count": 22,
     "metadata": {},
     "output_type": "execute_result"
    }
   ],
   "source": [
    "input_tensor[0]"
   ]
  },
  {
   "cell_type": "code",
   "execution_count": 23,
   "metadata": {},
   "outputs": [
    {
     "data": {
      "text/plain": [
       "array([ 0,  0,  0,  0,  0,  0, 24, 18, 41,  7, 97, 25, 27,  6,  3],\n",
       "      dtype=int32)"
      ]
     },
     "execution_count": 23,
     "metadata": {},
     "output_type": "execute_result"
    }
   ],
   "source": [
    "target_tensor[0]"
   ]
  },
  {
   "cell_type": "markdown",
   "metadata": {},
   "source": [
    "## data split"
   ]
  },
  {
   "cell_type": "code",
   "execution_count": 45,
   "metadata": {},
   "outputs": [],
   "source": [
    "enc_train, enc_val, dec_train, dec_val = train_test_split(input_tensor,\n",
    "                                                         target_tensor,\n",
    "                                                         test_size=0.2,\n",
    "                                                         random_state=7,\n",
    "                                                         shuffle=True)"
   ]
  },
  {
   "cell_type": "code",
   "execution_count": 46,
   "metadata": {},
   "outputs": [
    {
     "data": {
      "text/plain": [
       "130748"
      ]
     },
     "execution_count": 46,
     "metadata": {},
     "output_type": "execute_result"
    }
   ],
   "source": [
    "len(enc_train)"
   ]
  },
  {
   "cell_type": "code",
   "execution_count": 47,
   "metadata": {},
   "outputs": [],
   "source": [
    "del input_tensor"
   ]
  },
  {
   "cell_type": "code",
   "execution_count": 48,
   "metadata": {},
   "outputs": [],
   "source": [
    "del target_tensor"
   ]
  },
  {
   "cell_type": "code",
   "execution_count": 49,
   "metadata": {},
   "outputs": [],
   "source": [
    "BUFFER_SIZE = len(enc_train)\n",
    "BATCH_SIZE = 256\n",
    "steps_per_epoch = len(enc_train) // BATCH_SIZE\n",
    "\n",
    "VOCAB_SIZE = tokenizer.num_words + 1    "
   ]
  },
  {
   "cell_type": "code",
   "execution_count": 50,
   "metadata": {},
   "outputs": [
    {
     "data": {
      "text/plain": [
       "<BatchDataset shapes: ((None, 15), (None, 15)), types: (tf.int32, tf.int32)>"
      ]
     },
     "execution_count": 50,
     "metadata": {},
     "output_type": "execute_result"
    }
   ],
   "source": [
    "dataset = tf.data.Dataset.from_tensor_slices((enc_train, dec_train))\n",
    "dataset = dataset.repeat()\n",
    "dataset = dataset.shuffle(BUFFER_SIZE)\n",
    "dataset = dataset.batch(batch_size=BATCH_SIZE)\n",
    "dataset"
   ]
  },
  {
   "cell_type": "code",
   "execution_count": 51,
   "metadata": {},
   "outputs": [],
   "source": [
    "steps_per_epoch_val = len(enc_val) // BATCH_SIZE"
   ]
  },
  {
   "cell_type": "code",
   "execution_count": 52,
   "metadata": {},
   "outputs": [
    {
     "data": {
      "text/plain": [
       "<BatchDataset shapes: ((None, 15), (None, 15)), types: (tf.int32, tf.int32)>"
      ]
     },
     "execution_count": 52,
     "metadata": {},
     "output_type": "execute_result"
    }
   ],
   "source": [
    "# for test\n",
    "val_dataset = tf.data.Dataset.from_tensor_slices((enc_val, dec_val)).shuffle(len(enc_val))\n",
    "val_dataset = val_dataset.batch(batch_size=BATCH_SIZE) \n",
    "val_dataset"
   ]
  },
  {
   "cell_type": "markdown",
   "metadata": {},
   "source": [
    "## build model"
   ]
  },
  {
   "cell_type": "code",
   "execution_count": 53,
   "metadata": {},
   "outputs": [],
   "source": [
    "class TextGenerator(tf.keras.Model):\n",
    "    def __init__(self, vocab_size, embedding_size, hidden_size):\n",
    "        super(TextGenerator, self).__init__()\n",
    "        \n",
    "        self.embedding = tf.keras.layers.Embedding(vocab_size, embedding_size)\n",
    "        self.rnn_1 = tf.keras.layers.LSTM(hidden_size, return_sequences=True)\n",
    "        self.rnn_2 = tf.keras.layers.LSTM(hidden_size, return_sequences=True)\n",
    "        self.linear = tf.keras.layers.Dense(vocab_size)\n",
    "        \n",
    "    def call(self, x):\n",
    "        out = self.embedding(x)\n",
    "        out = self.rnn_1(out)\n",
    "        out = self.rnn_2(out)\n",
    "        out = self.linear(out)\n",
    "        \n",
    "        return out"
   ]
  },
  {
   "cell_type": "code",
   "execution_count": 54,
   "metadata": {},
   "outputs": [],
   "source": [
    "embedding_size = 128\n",
    "hidden_size = 512\n",
    "max_epochs = 10\n",
    "model = TextGenerator(tokenizer.num_words + 1, embedding_size , hidden_size)"
   ]
  },
  {
   "cell_type": "code",
   "execution_count": 55,
   "metadata": {},
   "outputs": [
    {
     "data": {
      "text/plain": [
       "<tf.Tensor: shape=(256, 15, 15001), dtype=float32, numpy=\n",
       "array([[[ 2.3895100e-04, -5.8678811e-06,  7.2435898e-07, ...,\n",
       "         -1.5747386e-05, -7.1886010e-05,  4.8947040e-05],\n",
       "        [ 5.9751287e-04, -1.5470872e-05,  2.0694858e-06, ...,\n",
       "         -5.1356881e-05, -1.6992235e-04,  8.7539927e-05],\n",
       "        [ 9.9801051e-04, -2.8536992e-05,  4.4926355e-06, ...,\n",
       "         -1.0578890e-04, -2.7060238e-04,  9.3844123e-05],\n",
       "        ...,\n",
       "        [ 1.3572025e-03, -8.8977913e-04,  2.2575684e-04, ...,\n",
       "         -6.8792136e-04, -6.0292368e-04, -2.4548409e-04],\n",
       "        [ 1.0253850e-03, -8.8640093e-04,  3.5719035e-04, ...,\n",
       "         -8.0135232e-04, -6.0029590e-04, -2.7708957e-04],\n",
       "        [ 7.6447020e-04, -7.4806396e-04,  4.0086376e-04, ...,\n",
       "         -1.1433489e-03, -7.6101604e-04, -2.5852094e-04]],\n",
       "\n",
       "       [[ 2.3895100e-04, -5.8678811e-06,  7.2435898e-07, ...,\n",
       "         -1.5747386e-05, -7.1886010e-05,  4.8947040e-05],\n",
       "        [ 5.9751287e-04, -1.5470872e-05,  2.0694858e-06, ...,\n",
       "         -5.1356881e-05, -1.6992235e-04,  8.7539927e-05],\n",
       "        [ 9.9801051e-04, -2.8536992e-05,  4.4926355e-06, ...,\n",
       "         -1.0578890e-04, -2.7060238e-04,  9.3844123e-05],\n",
       "        ...,\n",
       "        [ 8.9126441e-04, -4.4373846e-05,  3.6452594e-04, ...,\n",
       "         -1.0405801e-04, -2.0959479e-04, -6.0933002e-04],\n",
       "        [ 6.6717982e-04,  1.8673284e-04,  3.3442688e-04, ...,\n",
       "         -3.4197186e-05, -2.1143960e-04, -7.4098486e-04],\n",
       "        [ 4.8979046e-04,  3.0573754e-04,  3.1870298e-04, ...,\n",
       "         -1.4622009e-04, -2.1417958e-04, -6.5859995e-04]],\n",
       "\n",
       "       [[ 2.3895100e-04, -5.8678811e-06,  7.2435898e-07, ...,\n",
       "         -1.5747386e-05, -7.1886010e-05,  4.8947040e-05],\n",
       "        [ 5.9751287e-04, -1.5470872e-05,  2.0694858e-06, ...,\n",
       "         -5.1356881e-05, -1.6992235e-04,  8.7539927e-05],\n",
       "        [ 9.9801051e-04, -2.8536992e-05,  4.4926355e-06, ...,\n",
       "         -1.0578890e-04, -2.7060238e-04,  9.3844123e-05],\n",
       "        ...,\n",
       "        [ 8.7756442e-04, -5.3000636e-04,  1.1186432e-04, ...,\n",
       "         -1.3336326e-03, -7.3772280e-05, -8.2430860e-04],\n",
       "        [ 7.6497329e-04, -5.6921237e-04,  1.8142462e-04, ...,\n",
       "         -1.3812394e-03, -9.6271062e-05, -6.3972763e-04],\n",
       "        [ 6.2739331e-04, -6.5471872e-04,  1.2895766e-04, ...,\n",
       "         -1.2906527e-03, -1.6599963e-04, -5.1452842e-04]],\n",
       "\n",
       "       ...,\n",
       "\n",
       "       [[ 2.3895100e-04, -5.8678811e-06,  7.2435898e-07, ...,\n",
       "         -1.5747386e-05, -7.1886010e-05,  4.8947040e-05],\n",
       "        [ 5.9751287e-04, -1.5470872e-05,  2.0694858e-06, ...,\n",
       "         -5.1356881e-05, -1.6992235e-04,  8.7539927e-05],\n",
       "        [ 9.9801051e-04, -2.8536992e-05,  4.4926355e-06, ...,\n",
       "         -1.0578890e-04, -2.7060238e-04,  9.3844123e-05],\n",
       "        ...,\n",
       "        [-6.0089410e-04, -1.5969072e-04, -9.2938040e-05, ...,\n",
       "         -4.9703819e-04, -3.4856235e-04, -6.3306064e-04],\n",
       "        [-6.5841916e-04, -2.1967989e-04, -6.6907203e-05, ...,\n",
       "         -4.3483928e-04, -2.6196858e-04, -5.0012639e-04],\n",
       "        [-5.4438971e-04, -2.0238945e-04, -3.8528073e-05, ...,\n",
       "         -4.4309127e-04, -1.3738626e-04, -4.3587098e-04]],\n",
       "\n",
       "       [[ 2.3895100e-04, -5.8678811e-06,  7.2435898e-07, ...,\n",
       "         -1.5747386e-05, -7.1886010e-05,  4.8947040e-05],\n",
       "        [ 5.9751287e-04, -1.5470872e-05,  2.0694858e-06, ...,\n",
       "         -5.1356881e-05, -1.6992235e-04,  8.7539927e-05],\n",
       "        [ 9.9801051e-04, -2.8536992e-05,  4.4926355e-06, ...,\n",
       "         -1.0578890e-04, -2.7060238e-04,  9.3844123e-05],\n",
       "        ...,\n",
       "        [ 1.2710223e-03, -3.5489784e-04,  9.7049262e-05, ...,\n",
       "         -2.8193372e-04, -3.3469213e-04, -6.5798481e-04],\n",
       "        [ 9.9599792e-04, -3.5157596e-04,  7.8958248e-05, ...,\n",
       "         -2.3632357e-04, -4.8688587e-04, -5.1512517e-04],\n",
       "        [ 8.9614885e-04, -3.1518671e-04,  2.3520872e-05, ...,\n",
       "         -1.3354699e-04, -4.7617810e-04, -3.7954838e-04]],\n",
       "\n",
       "       [[ 2.3895100e-04, -5.8678811e-06,  7.2435898e-07, ...,\n",
       "         -1.5747386e-05, -7.1886010e-05,  4.8947040e-05],\n",
       "        [ 5.9751287e-04, -1.5470872e-05,  2.0694858e-06, ...,\n",
       "         -5.1356881e-05, -1.6992235e-04,  8.7539927e-05],\n",
       "        [ 9.9801051e-04, -2.8536992e-05,  4.4926355e-06, ...,\n",
       "         -1.0578890e-04, -2.7060238e-04,  9.3844123e-05],\n",
       "        ...,\n",
       "        [ 5.6012598e-04, -7.4279890e-04,  2.2724064e-04, ...,\n",
       "         -5.2171381e-04, -1.1423751e-04, -2.0065645e-04],\n",
       "        [ 5.0199387e-04, -6.3161290e-04,  1.6477842e-04, ...,\n",
       "         -4.1239857e-04,  6.8349094e-05, -1.9991490e-04],\n",
       "        [ 2.9777561e-04, -4.2073612e-04,  1.5594848e-04, ...,\n",
       "         -3.9706266e-04,  1.5246678e-04, -2.6702954e-04]]], dtype=float32)>"
      ]
     },
     "execution_count": 55,
     "metadata": {},
     "output_type": "execute_result"
    }
   ],
   "source": [
    "for src_sample, tgt_sample in dataset.take(1): break\n",
    "model(src_sample)"
   ]
  },
  {
   "cell_type": "code",
   "execution_count": 56,
   "metadata": {},
   "outputs": [
    {
     "name": "stdout",
     "output_type": "stream",
     "text": [
      "Model: \"text_generator\"\n",
      "_________________________________________________________________\n",
      "Layer (type)                 Output Shape              Param #   \n",
      "=================================================================\n",
      "embedding (Embedding)        multiple                  1920128   \n",
      "_________________________________________________________________\n",
      "lstm (LSTM)                  multiple                  1312768   \n",
      "_________________________________________________________________\n",
      "lstm_1 (LSTM)                multiple                  2099200   \n",
      "_________________________________________________________________\n",
      "dense (Dense)                multiple                  7695513   \n",
      "=================================================================\n",
      "Total params: 13,027,609\n",
      "Trainable params: 13,027,609\n",
      "Non-trainable params: 0\n",
      "_________________________________________________________________\n"
     ]
    }
   ],
   "source": [
    "model.summary()"
   ]
  },
  {
   "cell_type": "code",
   "execution_count": 57,
   "metadata": {},
   "outputs": [
    {
     "data": {
      "text/plain": [
       "'/home/ssac7/aiffel/lyricist//models/e6_lyricist'"
      ]
     },
     "execution_count": 57,
     "metadata": {},
     "output_type": "execute_result"
    }
   ],
   "source": [
    "# the save point\n",
    "checkpoint_dir = os.getenv('HOME')+'/aiffel/lyricist//models/e6_lyricist'\n",
    "\n",
    "checkpoint_dir"
   ]
  },
  {
   "cell_type": "code",
   "execution_count": 58,
   "metadata": {},
   "outputs": [],
   "source": [
    "optimizer = tf.keras.optimizers.Adam()\n",
    "loss = tf.keras.losses.SparseCategoricalCrossentropy(from_logits=True)\n",
    "\n",
    "model.compile(loss=loss, optimizer=optimizer, metrics=['accuracy'])"
   ]
  },
  {
   "cell_type": "code",
   "execution_count": 59,
   "metadata": {},
   "outputs": [],
   "source": [
    "# callback to save weights with lowest validation loss\n",
    "cp_callback = tf.keras.callbacks.ModelCheckpoint(checkpoint_dir,\n",
    "                                                 save_weights_only=True,\n",
    "                                                 monitor='val_loss',\n",
    "                                                 mode='auto',\n",
    "                                                 save_best_only=True,\n",
    "                                                 verbose=1)"
   ]
  },
  {
   "cell_type": "markdown",
   "metadata": {},
   "source": [
    "## train model"
   ]
  },
  {
   "cell_type": "code",
   "execution_count": 60,
   "metadata": {},
   "outputs": [
    {
     "name": "stdout",
     "output_type": "stream",
     "text": [
      "Epoch 1/10\n",
      "510/510 [==============================] - ETA: 0s - loss: 3.7128 - accuracy: 0.5041\n",
      "Epoch 00001: val_loss improved from inf to 3.26670, saving model to /home/ssac7/aiffel/lyricist//models/e6_lyricist\n",
      "510/510 [==============================] - 50s 98ms/step - loss: 3.7128 - accuracy: 0.5041 - val_loss: 3.2667 - val_accuracy: 0.5262\n",
      "Epoch 2/10\n",
      "510/510 [==============================] - ETA: 0s - loss: 3.1442 - accuracy: 0.5372\n",
      "Epoch 00002: val_loss improved from 3.26670 to 3.04867, saving model to /home/ssac7/aiffel/lyricist//models/e6_lyricist\n",
      "510/510 [==============================] - 50s 98ms/step - loss: 3.1442 - accuracy: 0.5372 - val_loss: 3.0487 - val_accuracy: 0.5428\n",
      "Epoch 3/10\n",
      "510/510 [==============================] - ETA: 0s - loss: 2.9982 - accuracy: 0.5477\n",
      "Epoch 00003: val_loss improved from 3.04867 to 2.97534, saving model to /home/ssac7/aiffel/lyricist//models/e6_lyricist\n",
      "510/510 [==============================] - 50s 99ms/step - loss: 2.9982 - accuracy: 0.5477 - val_loss: 2.9753 - val_accuracy: 0.5520\n",
      "Epoch 4/10\n",
      "510/510 [==============================] - ETA: 0s - loss: 2.9276 - accuracy: 0.5552\n",
      "Epoch 00004: val_loss improved from 2.97534 to 2.93458, saving model to /home/ssac7/aiffel/lyricist//models/e6_lyricist\n",
      "510/510 [==============================] - 50s 99ms/step - loss: 2.9276 - accuracy: 0.5552 - val_loss: 2.9346 - val_accuracy: 0.5543\n",
      "Epoch 5/10\n",
      "510/510 [==============================] - ETA: 0s - loss: 2.8772 - accuracy: 0.5609\n",
      "Epoch 00005: val_loss improved from 2.93458 to 2.88283, saving model to /home/ssac7/aiffel/lyricist//models/e6_lyricist\n",
      "510/510 [==============================] - 50s 97ms/step - loss: 2.8772 - accuracy: 0.5609 - val_loss: 2.8828 - val_accuracy: 0.5635\n",
      "Epoch 6/10\n",
      "510/510 [==============================] - ETA: 0s - loss: 2.8294 - accuracy: 0.5660\n",
      "Epoch 00006: val_loss improved from 2.88283 to 2.84033, saving model to /home/ssac7/aiffel/lyricist//models/e6_lyricist\n",
      "510/510 [==============================] - 49s 97ms/step - loss: 2.8294 - accuracy: 0.5660 - val_loss: 2.8403 - val_accuracy: 0.5676\n",
      "Epoch 7/10\n",
      "510/510 [==============================] - ETA: 0s - loss: 2.7860 - accuracy: 0.5694\n",
      "Epoch 00007: val_loss improved from 2.84033 to 2.81198, saving model to /home/ssac7/aiffel/lyricist//models/e6_lyricist\n",
      "510/510 [==============================] - 48s 95ms/step - loss: 2.7860 - accuracy: 0.5694 - val_loss: 2.8120 - val_accuracy: 0.5692\n",
      "Epoch 8/10\n",
      "510/510 [==============================] - ETA: 0s - loss: 2.7838 - accuracy: 0.5691\n",
      "Epoch 00008: val_loss improved from 2.81198 to 2.79728, saving model to /home/ssac7/aiffel/lyricist//models/e6_lyricist\n",
      "510/510 [==============================] - 48s 94ms/step - loss: 2.7838 - accuracy: 0.5691 - val_loss: 2.7973 - val_accuracy: 0.5703\n",
      "Epoch 9/10\n",
      "510/510 [==============================] - ETA: 0s - loss: 2.7369 - accuracy: 0.5726\n",
      "Epoch 00009: val_loss improved from 2.79728 to 2.76876, saving model to /home/ssac7/aiffel/lyricist//models/e6_lyricist\n",
      "510/510 [==============================] - 49s 95ms/step - loss: 2.7369 - accuracy: 0.5726 - val_loss: 2.7688 - val_accuracy: 0.5724\n",
      "Epoch 10/10\n",
      "510/510 [==============================] - ETA: 0s - loss: 2.6989 - accuracy: 0.5761\n",
      "Epoch 00010: val_loss improved from 2.76876 to 2.74720, saving model to /home/ssac7/aiffel/lyricist//models/e6_lyricist\n",
      "510/510 [==============================] - 48s 95ms/step - loss: 2.6989 - accuracy: 0.5761 - val_loss: 2.7472 - val_accuracy: 0.5746\n"
     ]
    }
   ],
   "source": [
    "history_text_gen = model.fit(dataset, epochs=max_epochs,\n",
    "                    steps_per_epoch=steps_per_epoch,\n",
    "                    validation_data=val_dataset,\n",
    "                    validation_steps=steps_per_epoch_val,\n",
    "                    callbacks=[cp_callback]\n",
    "                    )"
   ]
  },
  {
   "cell_type": "markdown",
   "metadata": {},
   "source": [
    "+ validation loss is not low enough to pass the criteria"
   ]
  },
  {
   "cell_type": "code",
   "execution_count": 62,
   "metadata": {},
   "outputs": [
    {
     "data": {
      "image/png": "[encoded data removed]",
      "text/plain": [
       "<Figure size 576x576 with 2 Axes>"
      ]
     },
     "metadata": {
      "needs_background": "light"
     },
     "output_type": "display_data"
    }
   ],
   "source": [
    "# trainig porgress plot\n",
    "acc = history_text_gen.history['accuracy']\n",
    "val_acc = history_text_gen.history['val_accuracy']\n",
    "\n",
    "loss=history_text_gen.history['loss']\n",
    "val_loss=history_text_gen.history['val_loss']\n",
    "\n",
    "epochs_range = range(len(acc))\n",
    "\n",
    "plt.figure(figsize=(8, 8))\n",
    "plt.subplot(1, 2, 1)\n",
    "plt.plot(epochs_range, acc, label='Training Accuracy')\n",
    "plt.plot(epochs_range, val_acc, label='Validation Accuracy')\n",
    "plt.legend(loc='lower right')\n",
    "plt.title('Training and Validation Accuracy')\n",
    "\n",
    "plt.subplot(1, 2, 2)\n",
    "plt.plot(epochs_range, loss, label='Training Loss')\n",
    "plt.plot(epochs_range, val_loss, label='Validation Loss')\n",
    "plt.legend(loc='upper right')\n",
    "plt.title('Training and Validation Loss')\n",
    "plt.show()"
   ]
  },
  {
   "cell_type": "code",
   "execution_count": 63,
   "metadata": {},
   "outputs": [
    {
     "data": {
      "text/plain": [
       "<tensorflow.python.training.tracking.util.CheckpointLoadStatus at 0x7f50d0063810>"
      ]
     },
     "execution_count": 63,
     "metadata": {},
     "output_type": "execute_result"
    }
   ],
   "source": [
    "# evalueate model with test dataset\n",
    "model.load_weights(checkpoint_dir)"
   ]
  },
  {
   "cell_type": "code",
   "execution_count": 64,
   "metadata": {},
   "outputs": [],
   "source": [
    "def generate_text(model, tokenizer, init_sentence=\"<start>\", max_len=20):\n",
    "\n",
    "    test_input = tokenizer.texts_to_sequences([init_sentence])\n",
    "    test_tensor = tf.convert_to_tensor(test_input, dtype=tf.int64)\n",
    "    end_token = tokenizer.word_index[\"<end>\"]\n",
    "\n",
    "\n",
    "    while True:\n",
    "        predict = model(test_tensor)  \n",
    "        predict_word = tf.argmax(tf.nn.softmax(predict, axis=-1), axis=-1)[:, -1]   \n",
    "\n",
    "\n",
    "        test_tensor = tf.concat([test_tensor, tf.expand_dims(predict_word, axis=0)], axis=-1)\n",
    "\n",
    "\n",
    "        if predict_word.numpy()[0] == end_token: break\n",
    "        if test_tensor.shape[1] >= max_len: break\n",
    "\n",
    "    generated = \"\"\n",
    "\n",
    "    for word_index in test_tensor[0].numpy():\n",
    "        generated += tokenizer.index_word[word_index] + \" \"\n",
    "\n",
    "    return generated   "
   ]
  },
  {
   "cell_type": "code",
   "execution_count": 65,
   "metadata": {},
   "outputs": [
    {
     "data": {
      "text/plain": [
       "'<start> i love you i m a one and i m a new <unk> . <end> '"
      ]
     },
     "execution_count": 65,
     "metadata": {},
     "output_type": "execute_result"
    }
   ],
   "source": [
    "generate_text(model, tokenizer, init_sentence=\"<start> i love\")"
   ]
  },
  {
   "cell_type": "markdown",
   "metadata": {},
   "source": [
    "+ model gives out grammatically wrong sentence"
   ]
  },
  {
   "cell_type": "markdown",
   "metadata": {},
   "source": [
    "## build bigger model"
   ]
  },
  {
   "cell_type": "code",
   "execution_count": 67,
   "metadata": {},
   "outputs": [],
   "source": [
    "del model"
   ]
  },
  {
   "cell_type": "code",
   "execution_count": 68,
   "metadata": {},
   "outputs": [],
   "source": [
    "class TextGenerator(tf.keras.Model):\n",
    "    def __init__(self, vocab_size, embedding_size, hidden_size):\n",
    "        super(TextGenerator, self).__init__()\n",
    "        \n",
    "        self.embedding = tf.keras.layers.Embedding(vocab_size, embedding_size)\n",
    "        self.rnn_1 = tf.keras.layers.LSTM(hidden_size, return_sequences=True)\n",
    "        self.rnn_2 = tf.keras.layers.LSTM(hidden_size, return_sequences=True)\n",
    "        self.linear = tf.keras.layers.Dense(vocab_size)\n",
    "        \n",
    "    def call(self, x):\n",
    "        out = self.embedding(x)\n",
    "        out = self.rnn_1(out)\n",
    "        out = self.rnn_2(out)\n",
    "        out = self.linear(out)\n",
    "        \n",
    "        return out"
   ]
  },
  {
   "cell_type": "code",
   "execution_count": 69,
   "metadata": {},
   "outputs": [],
   "source": [
    "embedding_size = 512\n",
    "hidden_size = 1024\n",
    "max_epochs = 15\n",
    "model = TextGenerator(tokenizer.num_words + 1, embedding_size , hidden_size)"
   ]
  },
  {
   "cell_type": "code",
   "execution_count": 70,
   "metadata": {},
   "outputs": [
    {
     "data": {
      "text/plain": [
       "<tf.Tensor: shape=(256, 15, 15001), dtype=float32, numpy=\n",
       "array([[[ 1.9743860e-04, -1.9847766e-04, -2.8271289e-04, ...,\n",
       "         -2.5309520e-04, -7.5392301e-05,  1.0893109e-04],\n",
       "        [ 4.5703517e-04, -5.2317290e-04, -7.4507232e-04, ...,\n",
       "         -6.4470409e-04, -1.5079849e-04,  3.0269125e-04],\n",
       "        [ 7.0696417e-04, -9.1117225e-04, -1.2953765e-03, ...,\n",
       "         -1.0918957e-03, -2.0136852e-04,  5.6640262e-04],\n",
       "        ...,\n",
       "        [ 9.8324555e-04, -1.6773064e-03, -3.3152017e-03, ...,\n",
       "         -1.9593958e-03, -2.3527681e-04,  4.3570492e-03],\n",
       "        [ 1.2782532e-04, -1.2265858e-03, -2.6894293e-03, ...,\n",
       "         -1.2533877e-03, -4.3917057e-04,  4.1912473e-03],\n",
       "        [-8.5850235e-04, -9.4463816e-04, -2.1965390e-03, ...,\n",
       "         -7.6937367e-04, -5.1443401e-04,  3.6542804e-03]],\n",
       "\n",
       "       [[ 1.9743860e-04, -1.9847766e-04, -2.8271289e-04, ...,\n",
       "         -2.5309520e-04, -7.5392301e-05,  1.0893109e-04],\n",
       "        [ 4.5703517e-04, -5.2317290e-04, -7.4507232e-04, ...,\n",
       "         -6.4470409e-04, -1.5079849e-04,  3.0269125e-04],\n",
       "        [ 7.0696417e-04, -9.1117225e-04, -1.2953765e-03, ...,\n",
       "         -1.0918957e-03, -2.0136852e-04,  5.6640262e-04],\n",
       "        ...,\n",
       "        [-1.4574548e-03, -1.9744784e-03, -6.4024801e-04, ...,\n",
       "          1.0546218e-03,  3.3684156e-04,  8.0267596e-04],\n",
       "        [-1.9541052e-03, -2.5743381e-03, -3.1785801e-04, ...,\n",
       "          1.3661416e-03,  6.3342281e-04,  3.7459648e-04],\n",
       "        [-1.9443533e-03, -2.8572588e-03, -5.3884223e-04, ...,\n",
       "          1.2985864e-03,  6.1541516e-04,  2.6903621e-05]],\n",
       "\n",
       "       [[ 1.9743860e-04, -1.9847766e-04, -2.8271289e-04, ...,\n",
       "         -2.5309520e-04, -7.5392301e-05,  1.0893109e-04],\n",
       "        [ 4.5703517e-04, -5.2317290e-04, -7.4507232e-04, ...,\n",
       "         -6.4470409e-04, -1.5079849e-04,  3.0269125e-04],\n",
       "        [ 7.0696417e-04, -9.1117225e-04, -1.2953765e-03, ...,\n",
       "         -1.0918957e-03, -2.0136852e-04,  5.6640262e-04],\n",
       "        ...,\n",
       "        [-1.1359301e-03,  7.0519332e-04, -1.0313443e-03, ...,\n",
       "          1.2331333e-03, -5.1509048e-04,  7.7104598e-04],\n",
       "        [-1.1380038e-03,  9.1499055e-04, -9.9461363e-04, ...,\n",
       "          7.9218065e-04, -4.8060654e-04,  3.2678709e-04],\n",
       "        [-1.0584606e-03,  9.1073394e-04, -1.0545427e-03, ...,\n",
       "          6.3378329e-04, -7.1533670e-04,  9.3688061e-05]],\n",
       "\n",
       "       ...,\n",
       "\n",
       "       [[ 1.9743860e-04, -1.9847766e-04, -2.8271289e-04, ...,\n",
       "         -2.5309520e-04, -7.5392301e-05,  1.0893109e-04],\n",
       "        [ 4.5703517e-04, -5.2317290e-04, -7.4507232e-04, ...,\n",
       "         -6.4470409e-04, -1.5079849e-04,  3.0269125e-04],\n",
       "        [ 7.0696417e-04, -9.1117225e-04, -1.2953765e-03, ...,\n",
       "         -1.0918957e-03, -2.0136852e-04,  5.6640262e-04],\n",
       "        ...,\n",
       "        [ 7.2953553e-04, -9.2710892e-04, -8.0526201e-04, ...,\n",
       "         -9.9776057e-04, -5.4492691e-04,  2.5136569e-03],\n",
       "        [ 4.7614696e-04, -8.5728674e-04, -9.2410098e-04, ...,\n",
       "         -9.0886949e-04, -8.3998934e-04,  1.9345653e-03],\n",
       "        [ 2.8043301e-04, -9.4578095e-04, -9.1640186e-04, ...,\n",
       "         -8.1489608e-04, -1.0074028e-03,  1.6867217e-03]],\n",
       "\n",
       "       [[ 1.9743860e-04, -1.9847766e-04, -2.8271289e-04, ...,\n",
       "         -2.5309520e-04, -7.5392301e-05,  1.0893109e-04],\n",
       "        [ 4.5703517e-04, -5.2317290e-04, -7.4507232e-04, ...,\n",
       "         -6.4470409e-04, -1.5079849e-04,  3.0269125e-04],\n",
       "        [ 7.0696417e-04, -9.1117225e-04, -1.2953765e-03, ...,\n",
       "         -1.0918957e-03, -2.0136852e-04,  5.6640262e-04],\n",
       "        ...,\n",
       "        [ 8.4938406e-04, -1.4635419e-03, -3.6941932e-03, ...,\n",
       "         -2.1488410e-03,  1.2408078e-04,  4.2393636e-03],\n",
       "        [ 4.2985452e-04, -1.0368295e-03, -3.4960364e-03, ...,\n",
       "         -1.6558775e-03,  1.2679143e-04,  4.1644606e-03],\n",
       "        [ 3.8487095e-05, -9.4189669e-04, -3.4252780e-03, ...,\n",
       "         -7.8547618e-04,  2.0946724e-04,  4.0332689e-03]],\n",
       "\n",
       "       [[ 1.9743860e-04, -1.9847766e-04, -2.8271289e-04, ...,\n",
       "         -2.5309520e-04, -7.5392301e-05,  1.0893109e-04],\n",
       "        [ 4.5703517e-04, -5.2317290e-04, -7.4507232e-04, ...,\n",
       "         -6.4470409e-04, -1.5079849e-04,  3.0269125e-04],\n",
       "        [ 7.0696417e-04, -9.1117225e-04, -1.2953765e-03, ...,\n",
       "         -1.0918957e-03, -2.0136852e-04,  5.6640262e-04],\n",
       "        ...,\n",
       "        [ 4.8779577e-04, -1.1717324e-03, -1.7077790e-03, ...,\n",
       "         -1.2045102e-03,  8.9069095e-04,  3.2457022e-03],\n",
       "        [ 4.9953838e-04, -1.0338555e-03, -1.2075452e-03, ...,\n",
       "         -9.5747347e-04,  7.8954524e-04,  2.9457649e-03],\n",
       "        [ 3.2031679e-04, -1.1211300e-03, -8.1128860e-04, ...,\n",
       "         -7.7154866e-04,  9.1758388e-04,  2.7948066e-03]]], dtype=float32)>"
      ]
     },
     "execution_count": 70,
     "metadata": {},
     "output_type": "execute_result"
    }
   ],
   "source": [
    "for src_sample, tgt_sample in dataset.take(1): break\n",
    "model(src_sample)"
   ]
  },
  {
   "cell_type": "code",
   "execution_count": 71,
   "metadata": {},
   "outputs": [],
   "source": [
    "optimizer = tf.keras.optimizers.Adam()\n",
    "loss = tf.keras.losses.SparseCategoricalCrossentropy(from_logits=True)\n",
    "\n",
    "model.compile(loss=loss, optimizer=optimizer, metrics=['accuracy'])"
   ]
  },
  {
   "cell_type": "code",
   "execution_count": 72,
   "metadata": {},
   "outputs": [
    {
     "data": {
      "text/plain": [
       "'/home/ssac7/aiffel/lyricist//models/e6_lyricist_big'"
      ]
     },
     "execution_count": 72,
     "metadata": {},
     "output_type": "execute_result"
    }
   ],
   "source": [
    "# the save point\n",
    "checkpoint_dir = os.getenv('HOME')+'/aiffel/lyricist//models/e6_lyricist_big'\n",
    "\n",
    "checkpoint_dir"
   ]
  },
  {
   "cell_type": "code",
   "execution_count": 74,
   "metadata": {},
   "outputs": [],
   "source": [
    "# callback to save weights with lowest validation loss\n",
    "cp_callback = tf.keras.callbacks.ModelCheckpoint(checkpoint_dir,\n",
    "                                                 save_weights_only=True,\n",
    "                                                 monitor='val_loss',\n",
    "                                                 mode='auto',\n",
    "                                                 save_best_only=True,\n",
    "                                                 verbose=1)"
   ]
  },
  {
   "cell_type": "markdown",
   "metadata": {},
   "source": [
    "## train bigger model"
   ]
  },
  {
   "cell_type": "code",
   "execution_count": 75,
   "metadata": {},
   "outputs": [
    {
     "name": "stdout",
     "output_type": "stream",
     "text": [
      "Epoch 1/15\n",
      "510/510 [==============================] - ETA: 0s - loss: 3.3458 - accuracy: 0.5278\n",
      "Epoch 00001: val_loss improved from inf to 2.97546, saving model to /home/ssac7/aiffel/lyricist//models/e6_lyricist_big\n",
      "510/510 [==============================] - 101s 197ms/step - loss: 3.3458 - accuracy: 0.5278 - val_loss: 2.9755 - val_accuracy: 0.5520\n",
      "Epoch 2/15\n",
      "510/510 [==============================] - ETA: 0s - loss: 2.8549 - accuracy: 0.5609\n",
      "Epoch 00002: val_loss did not improve from 2.97546\n",
      "510/510 [==============================] - 100s 195ms/step - loss: 2.8549 - accuracy: 0.5609 - val_loss: 2.9850 - val_accuracy: 0.5522\n",
      "Epoch 3/15\n",
      "510/510 [==============================] - ETA: 0s - loss: 2.7405 - accuracy: 0.5683\n",
      "Epoch 00003: val_loss improved from 2.97546 to 2.69213, saving model to /home/ssac7/aiffel/lyricist//models/e6_lyricist_big\n",
      "510/510 [==============================] - 101s 198ms/step - loss: 2.7405 - accuracy: 0.5683 - val_loss: 2.6921 - val_accuracy: 0.5741\n",
      "Epoch 4/15\n",
      "510/510 [==============================] - ETA: 0s - loss: 2.5870 - accuracy: 0.5799\n",
      "Epoch 00004: val_loss improved from 2.69213 to 2.59897, saving model to /home/ssac7/aiffel/lyricist//models/e6_lyricist_big\n",
      "510/510 [==============================] - 101s 198ms/step - loss: 2.5870 - accuracy: 0.5799 - val_loss: 2.5990 - val_accuracy: 0.5827\n",
      "Epoch 5/15\n",
      "510/510 [==============================] - ETA: 0s - loss: 2.4819 - accuracy: 0.5878\n",
      "Epoch 00005: val_loss improved from 2.59897 to 2.53282, saving model to /home/ssac7/aiffel/lyricist//models/e6_lyricist_big\n",
      "510/510 [==============================] - 101s 199ms/step - loss: 2.4819 - accuracy: 0.5878 - val_loss: 2.5328 - val_accuracy: 0.5891\n",
      "Epoch 6/15\n",
      "510/510 [==============================] - ETA: 0s - loss: 2.4037 - accuracy: 0.5937\n",
      "Epoch 00006: val_loss improved from 2.53282 to 2.48516, saving model to /home/ssac7/aiffel/lyricist//models/e6_lyricist_big\n",
      "510/510 [==============================] - 102s 200ms/step - loss: 2.4037 - accuracy: 0.5937 - val_loss: 2.4852 - val_accuracy: 0.5939\n",
      "Epoch 7/15\n",
      "510/510 [==============================] - ETA: 0s - loss: 2.3203 - accuracy: 0.6007\n",
      "Epoch 00007: val_loss improved from 2.48516 to 2.43387, saving model to /home/ssac7/aiffel/lyricist//models/e6_lyricist_big\n",
      "510/510 [==============================] - 102s 200ms/step - loss: 2.3203 - accuracy: 0.6007 - val_loss: 2.4339 - val_accuracy: 0.5986\n",
      "Epoch 8/15\n",
      "510/510 [==============================] - ETA: 0s - loss: 2.2447 - accuracy: 0.6068\n",
      "Epoch 00008: val_loss improved from 2.43387 to 2.39088, saving model to /home/ssac7/aiffel/lyricist//models/e6_lyricist_big\n",
      "510/510 [==============================] - 103s 201ms/step - loss: 2.2447 - accuracy: 0.6068 - val_loss: 2.3909 - val_accuracy: 0.6037\n",
      "Epoch 9/15\n",
      "510/510 [==============================] - ETA: 0s - loss: 2.1744 - accuracy: 0.6135\n",
      "Epoch 00009: val_loss improved from 2.39088 to 2.35872, saving model to /home/ssac7/aiffel/lyricist//models/e6_lyricist_big\n",
      "510/510 [==============================] - 103s 201ms/step - loss: 2.1744 - accuracy: 0.6135 - val_loss: 2.3587 - val_accuracy: 0.6082\n",
      "Epoch 10/15\n",
      "510/510 [==============================] - ETA: 0s - loss: 2.1096 - accuracy: 0.6199\n",
      "Epoch 00010: val_loss improved from 2.35872 to 2.32883, saving model to /home/ssac7/aiffel/lyricist//models/e6_lyricist_big\n",
      "510/510 [==============================] - 102s 201ms/step - loss: 2.1096 - accuracy: 0.6199 - val_loss: 2.3288 - val_accuracy: 0.6127\n",
      "Epoch 11/15\n",
      "510/510 [==============================] - ETA: 0s - loss: 2.0451 - accuracy: 0.6275\n",
      "Epoch 00011: val_loss improved from 2.32883 to 2.30507, saving model to /home/ssac7/aiffel/lyricist//models/e6_lyricist_big\n",
      "510/510 [==============================] - 102s 201ms/step - loss: 2.0451 - accuracy: 0.6275 - val_loss: 2.3051 - val_accuracy: 0.6169\n",
      "Epoch 12/15\n",
      "510/510 [==============================] - ETA: 0s - loss: 1.9861 - accuracy: 0.6340\n",
      "Epoch 00012: val_loss improved from 2.30507 to 2.28093, saving model to /home/ssac7/aiffel/lyricist//models/e6_lyricist_big\n",
      "510/510 [==============================] - 102s 199ms/step - loss: 1.9861 - accuracy: 0.6340 - val_loss: 2.2809 - val_accuracy: 0.6217\n",
      "Epoch 13/15\n",
      "510/510 [==============================] - ETA: 0s - loss: 1.9275 - accuracy: 0.6414\n",
      "Epoch 00013: val_loss improved from 2.28093 to 2.26163, saving model to /home/ssac7/aiffel/lyricist//models/e6_lyricist_big\n",
      "510/510 [==============================] - 102s 199ms/step - loss: 1.9275 - accuracy: 0.6414 - val_loss: 2.2616 - val_accuracy: 0.6258\n",
      "Epoch 14/15\n",
      "510/510 [==============================] - ETA: 0s - loss: 1.8687 - accuracy: 0.6491\n",
      "Epoch 00014: val_loss improved from 2.26163 to 2.24176, saving model to /home/ssac7/aiffel/lyricist//models/e6_lyricist_big\n",
      "510/510 [==============================] - 102s 199ms/step - loss: 1.8687 - accuracy: 0.6491 - val_loss: 2.2418 - val_accuracy: 0.6296\n",
      "Epoch 15/15\n",
      "510/510 [==============================] - ETA: 0s - loss: 1.8150 - accuracy: 0.6564\n",
      "Epoch 00015: val_loss improved from 2.24176 to 2.23071, saving model to /home/ssac7/aiffel/lyricist//models/e6_lyricist_big\n",
      "510/510 [==============================] - 101s 199ms/step - loss: 1.8150 - accuracy: 0.6564 - val_loss: 2.2307 - val_accuracy: 0.6337\n"
     ]
    }
   ],
   "source": [
    "history_text_gen = model.fit(dataset, epochs=max_epochs,\n",
    "                    steps_per_epoch=steps_per_epoch,\n",
    "                    validation_data=val_dataset,\n",
    "                    validation_steps=steps_per_epoch_val,\n",
    "                    callbacks=[cp_callback]\n",
    "                    )"
   ]
  },
  {
   "cell_type": "code",
   "execution_count": 76,
   "metadata": {},
   "outputs": [
    {
     "data": {
      "image/png": "[encoded data removed]",
      "text/plain": [
       "<Figure size 576x576 with 2 Axes>"
      ]
     },
     "metadata": {
      "needs_background": "light"
     },
     "output_type": "display_data"
    }
   ],
   "source": [
    "# trainig porgress plot\n",
    "acc = history_text_gen.history['accuracy']\n",
    "val_acc = history_text_gen.history['val_accuracy']\n",
    "\n",
    "loss=history_text_gen.history['loss']\n",
    "val_loss=history_text_gen.history['val_loss']\n",
    "\n",
    "epochs_range = range(len(acc))\n",
    "\n",
    "plt.figure(figsize=(8, 8))\n",
    "plt.subplot(1, 2, 1)\n",
    "plt.plot(epochs_range, acc, label='Training Accuracy')\n",
    "plt.plot(epochs_range, val_acc, label='Validation Accuracy')\n",
    "plt.legend(loc='lower right')\n",
    "plt.title('Training and Validation Accuracy')\n",
    "\n",
    "plt.subplot(1, 2, 2)\n",
    "plt.plot(epochs_range, loss, label='Training Loss')\n",
    "plt.plot(epochs_range, val_loss, label='Validation Loss')\n",
    "plt.legend(loc='upper right')\n",
    "plt.title('Training and Validation Loss')\n",
    "plt.show()"
   ]
  },
  {
   "cell_type": "code",
   "execution_count": 77,
   "metadata": {},
   "outputs": [
    {
     "data": {
      "text/plain": [
       "<tensorflow.python.training.tracking.util.CheckpointLoadStatus at 0x7f50d006b8d0>"
      ]
     },
     "execution_count": 77,
     "metadata": {},
     "output_type": "execute_result"
    }
   ],
   "source": [
    "# evalueate model with test dataset\n",
    "model.load_weights(checkpoint_dir)"
   ]
  },
  {
   "cell_type": "code",
   "execution_count": 78,
   "metadata": {},
   "outputs": [
    {
     "data": {
      "text/plain": [
       "'<start> i love the way you lie to you i m gonna marry the night <end> '"
      ]
     },
     "execution_count": 78,
     "metadata": {},
     "output_type": "execute_result"
    }
   ],
   "source": [
    "generate_text(model, tokenizer, init_sentence=\"<start> i love\")"
   ]
  },
  {
   "cell_type": "markdown",
   "metadata": {},
   "source": [
    "+ result sentence is not my type but makes sense"
   ]
  }
 ],
 "metadata": {
  "kernelspec": {
   "display_name": "aiffel",
   "language": "python",
   "name": "aiffel"
  },
  "language_info": {
   "codemirror_mode": {
    "name": "ipython",
    "version": 3
   },
   "file_extension": ".py",
   "mimetype": "text/x-python",
   "name": "python",
   "nbconvert_exporter": "python",
   "pygments_lexer": "ipython3",
   "version": "3.7.9"
  }
 },
 "nbformat": 4,
 "nbformat_minor": 4
}
